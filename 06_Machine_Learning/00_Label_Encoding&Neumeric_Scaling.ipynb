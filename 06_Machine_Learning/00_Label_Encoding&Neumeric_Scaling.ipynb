{
 "cells": [
  {
   "cell_type": "markdown",
   "metadata": {
    "id": "7QcJOjwW59m6"
   },
   "source": [
    "# Label Encoding\n",
    "\n",
    "* 문자형 변수를 숫자형 변수로 인코딩"
   ]
  },
  {
   "cell_type": "code",
   "execution_count": 1,
   "metadata": {
    "ExecuteTime": {
     "end_time": "2023-12-08T08:40:54.771074Z",
     "start_time": "2023-12-08T08:40:54.767757Z"
    },
    "executionInfo": {
     "elapsed": 14,
     "status": "ok",
     "timestamp": 1663913927316,
     "user": {
      "displayName": "이정구",
      "userId": "17400242557229223804"
     },
     "user_tz": -540
    },
    "id": "RbPgODpVzdHI"
   },
   "outputs": [],
   "source": [
    "import warnings\n",
    "warnings.filterwarnings('ignore')"
   ]
  },
  {
   "cell_type": "markdown",
   "metadata": {
    "id": "qKVcUCh16MW6"
   },
   "source": [
    "## 실습 데이터"
   ]
  },
  {
   "cell_type": "markdown",
   "metadata": {
    "id": "9hB1H2CP7qI0"
   },
   "source": [
    "* 자동차 연비(mpg) 데이터\n",
    " * mpg : miles per gallon\n",
    " * 1 mile : 1.6 Km\n",
    " * 1 gallon : 3.78 Liter"
   ]
  },
  {
   "cell_type": "code",
   "execution_count": 2,
   "metadata": {
    "ExecuteTime": {
     "end_time": "2023-12-08T08:41:04.319835Z",
     "start_time": "2023-12-08T08:41:02.483843Z"
    },
    "executionInfo": {
     "elapsed": 1709,
     "status": "ok",
     "timestamp": 1663913929014,
     "user": {
      "displayName": "이정구",
      "userId": "17400242557229223804"
     },
     "user_tz": -540
    },
    "id": "s7LiQrya2GPA"
   },
   "outputs": [],
   "source": [
    "import seaborn as sns\n",
    "\n",
    "DF = sns.load_dataset('mpg')"
   ]
  },
  {
   "cell_type": "code",
   "execution_count": 3,
   "metadata": {
    "ExecuteTime": {
     "end_time": "2023-12-08T08:41:04.341343Z",
     "start_time": "2023-12-08T08:41:04.332025Z"
    },
    "colab": {
     "base_uri": "https://localhost:8080/"
    },
    "executionInfo": {
     "elapsed": 76,
     "status": "ok",
     "timestamp": 1663913929018,
     "user": {
      "displayName": "이정구",
      "userId": "17400242557229223804"
     },
     "user_tz": -540
    },
    "id": "kxeuoTMr2WWN",
    "outputId": "30717d16-2230-4033-de25-7afd32896a44"
   },
   "outputs": [
    {
     "name": "stdout",
     "output_type": "stream",
     "text": [
      "<class 'pandas.core.frame.DataFrame'>\n",
      "RangeIndex: 398 entries, 0 to 397\n",
      "Data columns (total 9 columns):\n",
      " #   Column        Non-Null Count  Dtype  \n",
      "---  ------        --------------  -----  \n",
      " 0   mpg           398 non-null    float64\n",
      " 1   cylinders     398 non-null    int64  \n",
      " 2   displacement  398 non-null    float64\n",
      " 3   horsepower    392 non-null    float64\n",
      " 4   weight        398 non-null    int64  \n",
      " 5   acceleration  398 non-null    float64\n",
      " 6   model_year    398 non-null    int64  \n",
      " 7   origin        398 non-null    object \n",
      " 8   name          398 non-null    object \n",
      "dtypes: float64(4), int64(3), object(2)\n",
      "memory usage: 28.1+ KB\n"
     ]
    }
   ],
   "source": [
    "DF.info()"
   ]
  },
  {
   "cell_type": "markdown",
   "metadata": {
    "id": "cqIFUn-79zkl"
   },
   "source": [
    "* 문자형 데이터 : 'origin'"
   ]
  },
  {
   "cell_type": "code",
   "execution_count": 4,
   "metadata": {
    "ExecuteTime": {
     "end_time": "2023-12-08T08:41:05.542338Z",
     "start_time": "2023-12-08T08:41:05.524016Z"
    },
    "colab": {
     "base_uri": "https://localhost:8080/",
     "height": 206
    },
    "executionInfo": {
     "elapsed": 44,
     "status": "ok",
     "timestamp": 1663913929020,
     "user": {
      "displayName": "이정구",
      "userId": "17400242557229223804"
     },
     "user_tz": -540
    },
    "id": "24IABjoG2X-o",
    "outputId": "747297f1-3579-483c-eaf0-9916149ec417"
   },
   "outputs": [
    {
     "data": {
      "text/html": [
       "<div>\n",
       "<style scoped>\n",
       "    .dataframe tbody tr th:only-of-type {\n",
       "        vertical-align: middle;\n",
       "    }\n",
       "\n",
       "    .dataframe tbody tr th {\n",
       "        vertical-align: top;\n",
       "    }\n",
       "\n",
       "    .dataframe thead th {\n",
       "        text-align: right;\n",
       "    }\n",
       "</style>\n",
       "<table border=\"1\" class=\"dataframe\">\n",
       "  <thead>\n",
       "    <tr style=\"text-align: right;\">\n",
       "      <th></th>\n",
       "      <th>mpg</th>\n",
       "      <th>cylinders</th>\n",
       "      <th>displacement</th>\n",
       "      <th>horsepower</th>\n",
       "      <th>weight</th>\n",
       "      <th>acceleration</th>\n",
       "      <th>model_year</th>\n",
       "      <th>origin</th>\n",
       "      <th>name</th>\n",
       "    </tr>\n",
       "  </thead>\n",
       "  <tbody>\n",
       "    <tr>\n",
       "      <th>0</th>\n",
       "      <td>18.0</td>\n",
       "      <td>8</td>\n",
       "      <td>307.0</td>\n",
       "      <td>130.0</td>\n",
       "      <td>3504</td>\n",
       "      <td>12.0</td>\n",
       "      <td>70</td>\n",
       "      <td>usa</td>\n",
       "      <td>chevrolet chevelle malibu</td>\n",
       "    </tr>\n",
       "    <tr>\n",
       "      <th>1</th>\n",
       "      <td>15.0</td>\n",
       "      <td>8</td>\n",
       "      <td>350.0</td>\n",
       "      <td>165.0</td>\n",
       "      <td>3693</td>\n",
       "      <td>11.5</td>\n",
       "      <td>70</td>\n",
       "      <td>usa</td>\n",
       "      <td>buick skylark 320</td>\n",
       "    </tr>\n",
       "    <tr>\n",
       "      <th>2</th>\n",
       "      <td>18.0</td>\n",
       "      <td>8</td>\n",
       "      <td>318.0</td>\n",
       "      <td>150.0</td>\n",
       "      <td>3436</td>\n",
       "      <td>11.0</td>\n",
       "      <td>70</td>\n",
       "      <td>usa</td>\n",
       "      <td>plymouth satellite</td>\n",
       "    </tr>\n",
       "    <tr>\n",
       "      <th>3</th>\n",
       "      <td>16.0</td>\n",
       "      <td>8</td>\n",
       "      <td>304.0</td>\n",
       "      <td>150.0</td>\n",
       "      <td>3433</td>\n",
       "      <td>12.0</td>\n",
       "      <td>70</td>\n",
       "      <td>usa</td>\n",
       "      <td>amc rebel sst</td>\n",
       "    </tr>\n",
       "    <tr>\n",
       "      <th>4</th>\n",
       "      <td>17.0</td>\n",
       "      <td>8</td>\n",
       "      <td>302.0</td>\n",
       "      <td>140.0</td>\n",
       "      <td>3449</td>\n",
       "      <td>10.5</td>\n",
       "      <td>70</td>\n",
       "      <td>usa</td>\n",
       "      <td>ford torino</td>\n",
       "    </tr>\n",
       "  </tbody>\n",
       "</table>\n",
       "</div>"
      ],
      "text/plain": [
       "    mpg  cylinders  displacement  horsepower  weight  acceleration  \\\n",
       "0  18.0          8         307.0       130.0    3504          12.0   \n",
       "1  15.0          8         350.0       165.0    3693          11.5   \n",
       "2  18.0          8         318.0       150.0    3436          11.0   \n",
       "3  16.0          8         304.0       150.0    3433          12.0   \n",
       "4  17.0          8         302.0       140.0    3449          10.5   \n",
       "\n",
       "   model_year origin                       name  \n",
       "0          70    usa  chevrolet chevelle malibu  \n",
       "1          70    usa          buick skylark 320  \n",
       "2          70    usa         plymouth satellite  \n",
       "3          70    usa              amc rebel sst  \n",
       "4          70    usa                ford torino  "
      ]
     },
     "execution_count": 4,
     "metadata": {},
     "output_type": "execute_result"
    }
   ],
   "source": [
    "DF.head()"
   ]
  },
  {
   "cell_type": "code",
   "execution_count": 5,
   "metadata": {
    "ExecuteTime": {
     "end_time": "2023-12-08T08:41:07.760154Z",
     "start_time": "2023-12-08T08:41:07.755646Z"
    },
    "colab": {
     "base_uri": "https://localhost:8080/"
    },
    "executionInfo": {
     "elapsed": 42,
     "status": "ok",
     "timestamp": 1663913929023,
     "user": {
      "displayName": "이정구",
      "userId": "17400242557229223804"
     },
     "user_tz": -540
    },
    "id": "qRwhkUHr2bMn",
    "outputId": "0dab28f8-fbed-4d9c-f0e1-398ec777c58a"
   },
   "outputs": [
    {
     "data": {
      "text/plain": [
       "str"
      ]
     },
     "execution_count": 5,
     "metadata": {},
     "output_type": "execute_result"
    }
   ],
   "source": [
    "type(DF.origin[0])"
   ]
  },
  {
   "cell_type": "markdown",
   "metadata": {
    "id": "C3IulbIfFK8e"
   },
   "source": [
    "* 명목형 : 이름확인 및 빈도분석"
   ]
  },
  {
   "cell_type": "code",
   "execution_count": 6,
   "metadata": {
    "ExecuteTime": {
     "end_time": "2023-12-08T08:41:20.696796Z",
     "start_time": "2023-12-08T08:41:20.691522Z"
    },
    "colab": {
     "base_uri": "https://localhost:8080/"
    },
    "executionInfo": {
     "elapsed": 37,
     "status": "ok",
     "timestamp": 1663913929025,
     "user": {
      "displayName": "이정구",
      "userId": "17400242557229223804"
     },
     "user_tz": -540
    },
    "id": "XJw1hjvMFEgg",
    "outputId": "fde8b6c7-bf59-4346-9de2-505dbab887d8"
   },
   "outputs": [
    {
     "data": {
      "text/plain": [
       "usa       249\n",
       "japan      79\n",
       "europe     70\n",
       "Name: origin, dtype: int64"
      ]
     },
     "execution_count": 6,
     "metadata": {},
     "output_type": "execute_result"
    }
   ],
   "source": [
    "DF.origin.value_counts()"
   ]
  },
  {
   "cell_type": "markdown",
   "metadata": {
    "id": "w1IXgM3VH_Ma"
   },
   "source": [
    "* 'origin' Data"
   ]
  },
  {
   "cell_type": "code",
   "execution_count": 10,
   "metadata": {
    "ExecuteTime": {
     "end_time": "2023-12-08T08:41:22.360519Z",
     "start_time": "2023-12-08T08:41:22.355058Z"
    },
    "executionInfo": {
     "elapsed": 34,
     "status": "ok",
     "timestamp": 1663913929027,
     "user": {
      "displayName": "이정구",
      "userId": "17400242557229223804"
     },
     "user_tz": -540
    },
    "id": "kDRIt89gF-oP"
   },
   "outputs": [],
   "source": [
    "X = DF[['origin']]"
   ]
  },
  {
   "cell_type": "code",
   "execution_count": 11,
   "metadata": {
    "ExecuteTime": {
     "end_time": "2023-12-08T08:41:23.763497Z",
     "start_time": "2023-12-08T08:41:23.756479Z"
    },
    "colab": {
     "base_uri": "https://localhost:8080/",
     "height": 175
    },
    "executionInfo": {
     "elapsed": 33,
     "status": "ok",
     "timestamp": 1663913929028,
     "user": {
      "displayName": "이정구",
      "userId": "17400242557229223804"
     },
     "user_tz": -540
    },
    "id": "9L9Iy5Ju86Kj",
    "outputId": "719b97ca-d887-4139-8117-830ea3d2d8e2"
   },
   "outputs": [
    {
     "data": {
      "text/html": [
       "<div>\n",
       "<style scoped>\n",
       "    .dataframe tbody tr th:only-of-type {\n",
       "        vertical-align: middle;\n",
       "    }\n",
       "\n",
       "    .dataframe tbody tr th {\n",
       "        vertical-align: top;\n",
       "    }\n",
       "\n",
       "    .dataframe thead th {\n",
       "        text-align: right;\n",
       "    }\n",
       "</style>\n",
       "<table border=\"1\" class=\"dataframe\">\n",
       "  <thead>\n",
       "    <tr style=\"text-align: right;\">\n",
       "      <th></th>\n",
       "      <th>origin</th>\n",
       "    </tr>\n",
       "  </thead>\n",
       "  <tbody>\n",
       "    <tr>\n",
       "      <th>111</th>\n",
       "      <td>japan</td>\n",
       "    </tr>\n",
       "    <tr>\n",
       "      <th>112</th>\n",
       "      <td>usa</td>\n",
       "    </tr>\n",
       "    <tr>\n",
       "      <th>113</th>\n",
       "      <td>usa</td>\n",
       "    </tr>\n",
       "    <tr>\n",
       "      <th>114</th>\n",
       "      <td>europe</td>\n",
       "    </tr>\n",
       "  </tbody>\n",
       "</table>\n",
       "</div>"
      ],
      "text/plain": [
       "     origin\n",
       "111   japan\n",
       "112     usa\n",
       "113     usa\n",
       "114  europe"
      ]
     },
     "execution_count": 11,
     "metadata": {},
     "output_type": "execute_result"
    }
   ],
   "source": [
    "X[111:115]"
   ]
  },
  {
   "cell_type": "markdown",
   "metadata": {
    "id": "WXXAw-TQ8gkQ"
   },
   "source": [
    "## With LabelEncoder\n",
    "\n",
    "* 정수(Integer) 인코딩"
   ]
  },
  {
   "cell_type": "code",
   "execution_count": 19,
   "metadata": {
    "collapsed": true,
    "jupyter": {
     "outputs_hidden": true
    },
    "tags": []
   },
   "outputs": [
    {
     "data": {
      "text/plain": [
       "\u001b[1;31mInit signature:\u001b[0m \u001b[0mLabelEncoder\u001b[0m\u001b[1;33m(\u001b[0m\u001b[1;33m)\u001b[0m\u001b[1;33m\u001b[0m\u001b[1;33m\u001b[0m\u001b[0m\n",
       "\u001b[1;31mDocstring:\u001b[0m     \n",
       "Encode target labels with value between 0 and n_classes-1.\n",
       "\n",
       "This transformer should be used to encode target values, *i.e.* `y`, and\n",
       "not the input `X`.\n",
       "\n",
       "Read more in the :ref:`User Guide <preprocessing_targets>`.\n",
       "\n",
       ".. versionadded:: 0.12\n",
       "\n",
       "Attributes\n",
       "----------\n",
       "classes_ : ndarray of shape (n_classes,)\n",
       "    Holds the label for each class.\n",
       "\n",
       "See Also\n",
       "--------\n",
       "OrdinalEncoder : Encode categorical features using an ordinal encoding\n",
       "    scheme.\n",
       "OneHotEncoder : Encode categorical features as a one-hot numeric array.\n",
       "\n",
       "Examples\n",
       "--------\n",
       "`LabelEncoder` can be used to normalize labels.\n",
       "\n",
       ">>> from sklearn import preprocessing\n",
       ">>> le = preprocessing.LabelEncoder()\n",
       ">>> le.fit([1, 2, 2, 6])\n",
       "LabelEncoder()\n",
       ">>> le.classes_\n",
       "array([1, 2, 6])\n",
       ">>> le.transform([1, 1, 2, 6])\n",
       "array([0, 0, 1, 2]...)\n",
       ">>> le.inverse_transform([0, 0, 1, 2])\n",
       "array([1, 1, 2, 6])\n",
       "\n",
       "It can also be used to transform non-numerical labels (as long as they are\n",
       "hashable and comparable) to numerical labels.\n",
       "\n",
       ">>> le = preprocessing.LabelEncoder()\n",
       ">>> le.fit([\"paris\", \"paris\", \"tokyo\", \"amsterdam\"])\n",
       "LabelEncoder()\n",
       ">>> list(le.classes_)\n",
       "['amsterdam', 'paris', 'tokyo']\n",
       ">>> le.transform([\"tokyo\", \"tokyo\", \"paris\"])\n",
       "array([2, 2, 1]...)\n",
       ">>> list(le.inverse_transform([2, 2, 1]))\n",
       "['tokyo', 'tokyo', 'paris']\n",
       "\u001b[1;31mFile:\u001b[0m           c:\\users\\maeng\\appdata\\roaming\\python\\python311\\site-packages\\sklearn\\preprocessing\\_label.py\n",
       "\u001b[1;31mType:\u001b[0m           type\n",
       "\u001b[1;31mSubclasses:\u001b[0m     \n"
      ]
     },
     "metadata": {},
     "output_type": "display_data"
    }
   ],
   "source": [
    "from sklearn.preprocessing import LabelEncoder\n",
    "LabelEncoder?"
   ]
  },
  {
   "cell_type": "code",
   "execution_count": 12,
   "metadata": {
    "ExecuteTime": {
     "end_time": "2023-12-08T08:42:14.451932Z",
     "start_time": "2023-12-08T08:42:14.147723Z"
    },
    "executionInfo": {
     "elapsed": 500,
     "status": "ok",
     "timestamp": 1663913929499,
     "user": {
      "displayName": "이정구",
      "userId": "17400242557229223804"
     },
     "user_tz": -540
    },
    "id": "-2coDiT_2uIQ"
   },
   "outputs": [],
   "source": [
    "from sklearn.preprocessing import LabelEncoder\n",
    "\n",
    "encoder1 = LabelEncoder()\n",
    "LE = encoder1.fit_transform(X)"
   ]
  },
  {
   "cell_type": "markdown",
   "metadata": {
    "id": "K56RtF2GIJS5"
   },
   "source": [
    "* 정수 인코딩 결과"
   ]
  },
  {
   "cell_type": "code",
   "execution_count": 13,
   "metadata": {
    "ExecuteTime": {
     "end_time": "2023-12-08T08:42:18.047732Z",
     "start_time": "2023-12-08T08:42:18.043510Z"
    },
    "colab": {
     "base_uri": "https://localhost:8080/"
    },
    "executionInfo": {
     "elapsed": 21,
     "status": "ok",
     "timestamp": 1663913929499,
     "user": {
      "displayName": "이정구",
      "userId": "17400242557229223804"
     },
     "user_tz": -540
    },
    "id": "7cW38WAxGg-v",
    "outputId": "40d7e1b1-3e68-43df-d913-a4a948b85aa8"
   },
   "outputs": [
    {
     "data": {
      "text/plain": [
       "array([1, 2, 2, 0])"
      ]
     },
     "execution_count": 13,
     "metadata": {},
     "output_type": "execute_result"
    }
   ],
   "source": [
    "LE[111:115]"
   ]
  },
  {
   "cell_type": "markdown",
   "metadata": {
    "id": "tZjY9E0C8n2W"
   },
   "source": [
    "## With OneHotEncoder\n",
    "\n",
    "* 원-핫(One-Hot) 인코딩"
   ]
  },
  {
   "cell_type": "code",
   "execution_count": 14,
   "metadata": {
    "ExecuteTime": {
     "end_time": "2023-12-08T08:42:28.288178Z",
     "start_time": "2023-12-08T08:42:28.283735Z"
    },
    "executionInfo": {
     "elapsed": 16,
     "status": "ok",
     "timestamp": 1663913929500,
     "user": {
      "displayName": "이정구",
      "userId": "17400242557229223804"
     },
     "user_tz": -540
    },
    "id": "7xFuJdGI3My4"
   },
   "outputs": [],
   "source": [
    "from sklearn.preprocessing import OneHotEncoder \n",
    "\n",
    "encoder2 = OneHotEncoder()\n",
    "OHE = encoder2.fit_transform(X)"
   ]
  },
  {
   "cell_type": "markdown",
   "metadata": {
    "id": "pTK2ATzJIZXY"
   },
   "source": [
    "* Array 변환 필요"
   ]
  },
  {
   "cell_type": "code",
   "execution_count": 15,
   "metadata": {
    "ExecuteTime": {
     "end_time": "2023-12-08T08:42:40.324855Z",
     "start_time": "2023-12-08T08:42:40.315385Z"
    },
    "colab": {
     "base_uri": "https://localhost:8080/"
    },
    "executionInfo": {
     "elapsed": 16,
     "status": "ok",
     "timestamp": 1663913929501,
     "user": {
      "displayName": "이정구",
      "userId": "17400242557229223804"
     },
     "user_tz": -540
    },
    "id": "5jZrF8xkR58A",
    "outputId": "85247a6e-be41-4924-b358-6881b28bcf4a"
   },
   "outputs": [
    {
     "name": "stdout",
     "output_type": "stream",
     "text": [
      "  (0, 1)\t1.0\n",
      "  (1, 2)\t1.0\n",
      "  (2, 2)\t1.0\n",
      "  (3, 0)\t1.0\n"
     ]
    }
   ],
   "source": [
    "print(OHE[111:115])"
   ]
  },
  {
   "cell_type": "code",
   "execution_count": 16,
   "metadata": {
    "ExecuteTime": {
     "end_time": "2023-12-08T08:42:42.842057Z",
     "start_time": "2023-12-08T08:42:42.835374Z"
    },
    "colab": {
     "base_uri": "https://localhost:8080/"
    },
    "executionInfo": {
     "elapsed": 14,
     "status": "ok",
     "timestamp": 1663913929502,
     "user": {
      "displayName": "이정구",
      "userId": "17400242557229223804"
     },
     "user_tz": -540
    },
    "id": "4N1uQpvyHA6b",
    "outputId": "960d6cf2-1518-49b4-8b75-f416ecd50c2f",
    "scrolled": true
   },
   "outputs": [
    {
     "data": {
      "text/plain": [
       "array([[0., 1., 0.],\n",
       "       [0., 0., 1.],\n",
       "       [0., 0., 1.],\n",
       "       [1., 0., 0.]])"
      ]
     },
     "execution_count": 16,
     "metadata": {},
     "output_type": "execute_result"
    }
   ],
   "source": [
    "OHE.toarray()[111:115]"
   ]
  },
  {
   "cell_type": "markdown",
   "metadata": {
    "id": "7QcJOjwW59m6"
   },
   "source": [
    "# Scaling\n",
    "\n",
    "* 범위(Scale)가 다른 변수의 범위(Scale)를 비슷하게 맞추기 위한 목적"
   ]
  },
  {
   "cell_type": "code",
   "execution_count": 20,
   "metadata": {
    "executionInfo": {
     "elapsed": 14,
     "status": "ok",
     "timestamp": 1663914026841,
     "user": {
      "displayName": "이정구",
      "userId": "17400242557229223804"
     },
     "user_tz": -540
    },
    "id": "RbPgODpVzdHI"
   },
   "outputs": [],
   "source": [
    "import warnings\n",
    "warnings.filterwarnings('ignore')"
   ]
  },
  {
   "cell_type": "markdown",
   "metadata": {
    "id": "qKVcUCh16MW6"
   },
   "source": [
    "## 실습 데이터"
   ]
  },
  {
   "cell_type": "markdown",
   "metadata": {
    "id": "m_al9Bzv7csv"
   },
   "source": [
    "> ## 1) seaborn 'mpg' Data Set"
   ]
  },
  {
   "cell_type": "code",
   "execution_count": 21,
   "metadata": {
    "executionInfo": {
     "elapsed": 1217,
     "status": "ok",
     "timestamp": 1663914028047,
     "user": {
      "displayName": "이정구",
      "userId": "17400242557229223804"
     },
     "user_tz": -540
    },
    "id": "s7LiQrya2GPA"
   },
   "outputs": [],
   "source": [
    "import seaborn as sns\n",
    "\n",
    "DF = sns.load_dataset('mpg')"
   ]
  },
  {
   "cell_type": "markdown",
   "metadata": {
    "id": "9hB1H2CP7qI0"
   },
   "source": [
    "* 자동차 연비(mpg) 데이터\n",
    " * mpg : miles per gallon\n",
    " * 1 mile : 1.6 Km\n",
    " * 1 gallon : 3.78 Liter"
   ]
  },
  {
   "cell_type": "code",
   "execution_count": 22,
   "metadata": {
    "colab": {
     "base_uri": "https://localhost:8080/"
    },
    "executionInfo": {
     "elapsed": 59,
     "status": "ok",
     "timestamp": 1663914028049,
     "user": {
      "displayName": "이정구",
      "userId": "17400242557229223804"
     },
     "user_tz": -540
    },
    "id": "kxeuoTMr2WWN",
    "outputId": "d24ba496-a5c6-4a1d-a7a8-59994ade99e5"
   },
   "outputs": [
    {
     "name": "stdout",
     "output_type": "stream",
     "text": [
      "<class 'pandas.core.frame.DataFrame'>\n",
      "RangeIndex: 398 entries, 0 to 397\n",
      "Data columns (total 9 columns):\n",
      " #   Column        Non-Null Count  Dtype  \n",
      "---  ------        --------------  -----  \n",
      " 0   mpg           398 non-null    float64\n",
      " 1   cylinders     398 non-null    int64  \n",
      " 2   displacement  398 non-null    float64\n",
      " 3   horsepower    392 non-null    float64\n",
      " 4   weight        398 non-null    int64  \n",
      " 5   acceleration  398 non-null    float64\n",
      " 6   model_year    398 non-null    int64  \n",
      " 7   origin        398 non-null    object \n",
      " 8   name          398 non-null    object \n",
      "dtypes: float64(4), int64(3), object(2)\n",
      "memory usage: 28.1+ KB\n"
     ]
    }
   ],
   "source": [
    "DF.info()"
   ]
  },
  {
   "cell_type": "code",
   "execution_count": 23,
   "metadata": {
    "colab": {
     "base_uri": "https://localhost:8080/",
     "height": 206
    },
    "executionInfo": {
     "elapsed": 53,
     "status": "ok",
     "timestamp": 1663914028051,
     "user": {
      "displayName": "이정구",
      "userId": "17400242557229223804"
     },
     "user_tz": -540
    },
    "id": "24IABjoG2X-o",
    "outputId": "1521b594-04e1-4ef7-fca7-ab7f33cdf97b"
   },
   "outputs": [
    {
     "data": {
      "text/html": [
       "<div>\n",
       "<style scoped>\n",
       "    .dataframe tbody tr th:only-of-type {\n",
       "        vertical-align: middle;\n",
       "    }\n",
       "\n",
       "    .dataframe tbody tr th {\n",
       "        vertical-align: top;\n",
       "    }\n",
       "\n",
       "    .dataframe thead th {\n",
       "        text-align: right;\n",
       "    }\n",
       "</style>\n",
       "<table border=\"1\" class=\"dataframe\">\n",
       "  <thead>\n",
       "    <tr style=\"text-align: right;\">\n",
       "      <th></th>\n",
       "      <th>mpg</th>\n",
       "      <th>cylinders</th>\n",
       "      <th>displacement</th>\n",
       "      <th>horsepower</th>\n",
       "      <th>weight</th>\n",
       "      <th>acceleration</th>\n",
       "      <th>model_year</th>\n",
       "      <th>origin</th>\n",
       "      <th>name</th>\n",
       "    </tr>\n",
       "  </thead>\n",
       "  <tbody>\n",
       "    <tr>\n",
       "      <th>0</th>\n",
       "      <td>18.0</td>\n",
       "      <td>8</td>\n",
       "      <td>307.0</td>\n",
       "      <td>130.0</td>\n",
       "      <td>3504</td>\n",
       "      <td>12.0</td>\n",
       "      <td>70</td>\n",
       "      <td>usa</td>\n",
       "      <td>chevrolet chevelle malibu</td>\n",
       "    </tr>\n",
       "    <tr>\n",
       "      <th>1</th>\n",
       "      <td>15.0</td>\n",
       "      <td>8</td>\n",
       "      <td>350.0</td>\n",
       "      <td>165.0</td>\n",
       "      <td>3693</td>\n",
       "      <td>11.5</td>\n",
       "      <td>70</td>\n",
       "      <td>usa</td>\n",
       "      <td>buick skylark 320</td>\n",
       "    </tr>\n",
       "    <tr>\n",
       "      <th>2</th>\n",
       "      <td>18.0</td>\n",
       "      <td>8</td>\n",
       "      <td>318.0</td>\n",
       "      <td>150.0</td>\n",
       "      <td>3436</td>\n",
       "      <td>11.0</td>\n",
       "      <td>70</td>\n",
       "      <td>usa</td>\n",
       "      <td>plymouth satellite</td>\n",
       "    </tr>\n",
       "    <tr>\n",
       "      <th>3</th>\n",
       "      <td>16.0</td>\n",
       "      <td>8</td>\n",
       "      <td>304.0</td>\n",
       "      <td>150.0</td>\n",
       "      <td>3433</td>\n",
       "      <td>12.0</td>\n",
       "      <td>70</td>\n",
       "      <td>usa</td>\n",
       "      <td>amc rebel sst</td>\n",
       "    </tr>\n",
       "    <tr>\n",
       "      <th>4</th>\n",
       "      <td>17.0</td>\n",
       "      <td>8</td>\n",
       "      <td>302.0</td>\n",
       "      <td>140.0</td>\n",
       "      <td>3449</td>\n",
       "      <td>10.5</td>\n",
       "      <td>70</td>\n",
       "      <td>usa</td>\n",
       "      <td>ford torino</td>\n",
       "    </tr>\n",
       "  </tbody>\n",
       "</table>\n",
       "</div>"
      ],
      "text/plain": [
       "    mpg  cylinders  displacement  horsepower  weight  acceleration  \\\n",
       "0  18.0          8         307.0       130.0    3504          12.0   \n",
       "1  15.0          8         350.0       165.0    3693          11.5   \n",
       "2  18.0          8         318.0       150.0    3436          11.0   \n",
       "3  16.0          8         304.0       150.0    3433          12.0   \n",
       "4  17.0          8         302.0       140.0    3449          10.5   \n",
       "\n",
       "   model_year origin                       name  \n",
       "0          70    usa  chevrolet chevelle malibu  \n",
       "1          70    usa          buick skylark 320  \n",
       "2          70    usa         plymouth satellite  \n",
       "3          70    usa              amc rebel sst  \n",
       "4          70    usa                ford torino  "
      ]
     },
     "execution_count": 23,
     "metadata": {},
     "output_type": "execute_result"
    }
   ],
   "source": [
    "DF.head()"
   ]
  },
  {
   "cell_type": "markdown",
   "metadata": {
    "id": "cqIFUn-79zkl"
   },
   "source": [
    "* X, y Data"
   ]
  },
  {
   "cell_type": "code",
   "execution_count": 24,
   "metadata": {
    "executionInfo": {
     "elapsed": 573,
     "status": "ok",
     "timestamp": 1663914028576,
     "user": {
      "displayName": "이정구",
      "userId": "17400242557229223804"
     },
     "user_tz": -540
    },
    "id": "qRwhkUHr2bMn"
   },
   "outputs": [],
   "source": [
    "X = DF[['weight']]\n",
    "y = DF['mpg']"
   ]
  },
  {
   "cell_type": "markdown",
   "metadata": {
    "id": "WXXAw-TQ8gkQ"
   },
   "source": [
    "## Without Scaling\n",
    "\n",
    "* X값 확인"
   ]
  },
  {
   "cell_type": "code",
   "execution_count": 25,
   "metadata": {
    "colab": {
     "base_uri": "https://localhost:8080/",
     "height": 206
    },
    "executionInfo": {
     "elapsed": 25,
     "status": "ok",
     "timestamp": 1663914028578,
     "user": {
      "displayName": "이정구",
      "userId": "17400242557229223804"
     },
     "user_tz": -540
    },
    "id": "9L9Iy5Ju86Kj",
    "outputId": "209fe8bf-8377-4f81-a45d-c568eb733a70"
   },
   "outputs": [
    {
     "data": {
      "text/html": [
       "<div>\n",
       "<style scoped>\n",
       "    .dataframe tbody tr th:only-of-type {\n",
       "        vertical-align: middle;\n",
       "    }\n",
       "\n",
       "    .dataframe tbody tr th {\n",
       "        vertical-align: top;\n",
       "    }\n",
       "\n",
       "    .dataframe thead th {\n",
       "        text-align: right;\n",
       "    }\n",
       "</style>\n",
       "<table border=\"1\" class=\"dataframe\">\n",
       "  <thead>\n",
       "    <tr style=\"text-align: right;\">\n",
       "      <th></th>\n",
       "      <th>weight</th>\n",
       "    </tr>\n",
       "  </thead>\n",
       "  <tbody>\n",
       "    <tr>\n",
       "      <th>0</th>\n",
       "      <td>3504</td>\n",
       "    </tr>\n",
       "    <tr>\n",
       "      <th>1</th>\n",
       "      <td>3693</td>\n",
       "    </tr>\n",
       "    <tr>\n",
       "      <th>2</th>\n",
       "      <td>3436</td>\n",
       "    </tr>\n",
       "    <tr>\n",
       "      <th>3</th>\n",
       "      <td>3433</td>\n",
       "    </tr>\n",
       "    <tr>\n",
       "      <th>4</th>\n",
       "      <td>3449</td>\n",
       "    </tr>\n",
       "  </tbody>\n",
       "</table>\n",
       "</div>"
      ],
      "text/plain": [
       "   weight\n",
       "0    3504\n",
       "1    3693\n",
       "2    3436\n",
       "3    3433\n",
       "4    3449"
      ]
     },
     "execution_count": 25,
     "metadata": {},
     "output_type": "execute_result"
    }
   ],
   "source": [
    "X[:5]"
   ]
  },
  {
   "cell_type": "code",
   "execution_count": 26,
   "metadata": {
    "colab": {
     "base_uri": "https://localhost:8080/",
     "height": 389
    },
    "executionInfo": {
     "elapsed": 23,
     "status": "ok",
     "timestamp": 1663914028580,
     "user": {
      "displayName": "이정구",
      "userId": "17400242557229223804"
     },
     "user_tz": -540
    },
    "id": "-2coDiT_2uIQ",
    "outputId": "3de4d313-7cc5-4806-d56b-ba5887569c2c"
   },
   "outputs": [
    {
     "data": {
      "image/png": "[encoded data removed]",
      "text/plain": [
       "<Figure size 648x432 with 1 Axes>"
      ]
     },
     "metadata": {
      "needs_background": "light"
     },
     "output_type": "display_data"
    }
   ],
   "source": [
    "import matplotlib.pyplot as plt\n",
    "\n",
    "fig = plt.figure(figsize = (9, 6))\n",
    "sns.regplot(x = X, y = y)\n",
    "plt.xlabel('weight_Without_Scaling')\n",
    "plt.show()"
   ]
  },
  {
   "cell_type": "markdown",
   "metadata": {
    "id": "tZjY9E0C8n2W"
   },
   "source": [
    "## With Normalization\n",
    "\n",
    "* sklearn Package"
   ]
  },
  {
   "cell_type": "code",
   "execution_count": 27,
   "metadata": {
    "executionInfo": {
     "elapsed": 436,
     "status": "ok",
     "timestamp": 1663914028998,
     "user": {
      "displayName": "이정구",
      "userId": "17400242557229223804"
     },
     "user_tz": -540
    },
    "id": "7xFuJdGI3My4"
   },
   "outputs": [],
   "source": [
    "from sklearn.preprocessing import MinMaxScaler\n",
    "\n",
    "scaler1 = MinMaxScaler()\n",
    "X_Norm = scaler1.fit_transform(X)"
   ]
  },
  {
   "cell_type": "markdown",
   "metadata": {
    "id": "RNpLPj2v-Ye8"
   },
   "source": [
    "* 정규화된 X값 확인"
   ]
  },
  {
   "cell_type": "code",
   "execution_count": 28,
   "metadata": {
    "colab": {
     "base_uri": "https://localhost:8080/"
    },
    "executionInfo": {
     "elapsed": 15,
     "status": "ok",
     "timestamp": 1663914028999,
     "user": {
      "displayName": "이정구",
      "userId": "17400242557229223804"
     },
     "user_tz": -540
    },
    "id": "rHDewgd59Tpo",
    "outputId": "c1e5a125-258f-49bf-c2f1-8a8bf536219e"
   },
   "outputs": [
    {
     "data": {
      "text/plain": [
       "array([[0.5361497 ],\n",
       "       [0.58973632],\n",
       "       [0.51686986],\n",
       "       [0.51601928],\n",
       "       [0.52055571]])"
      ]
     },
     "execution_count": 28,
     "metadata": {},
     "output_type": "execute_result"
    }
   ],
   "source": [
    "X_Norm[:5]"
   ]
  },
  {
   "cell_type": "markdown",
   "metadata": {
    "id": "TkP1Zwcs-mkl"
   },
   "source": [
    "* 정규화된 X값 모델생성"
   ]
  },
  {
   "cell_type": "code",
   "execution_count": 29,
   "metadata": {
    "colab": {
     "base_uri": "https://localhost:8080/",
     "height": 389
    },
    "executionInfo": {
     "elapsed": 626,
     "status": "ok",
     "timestamp": 1663914029614,
     "user": {
      "displayName": "이정구",
      "userId": "17400242557229223804"
     },
     "user_tz": -540
    },
    "id": "i1yuATua3xwJ",
    "outputId": "f76e5c1e-3339-4e5e-dc4b-59186de9b01d"
   },
   "outputs": [
    {
     "data": {
      "image/png": "[encoded data removed]",
      "text/plain": [
       "<Figure size 648x432 with 1 Axes>"
      ]
     },
     "metadata": {
      "needs_background": "light"
     },
     "output_type": "display_data"
    }
   ],
   "source": [
    "fig = plt.figure(figsize = (9, 6))\n",
    "sns.regplot(x = X_Norm, y = y)\n",
    "plt.xlabel('weight_With_Normalization')\n",
    "plt.show()"
   ]
  },
  {
   "cell_type": "markdown",
   "metadata": {
    "id": "emBmWCil8sIF"
   },
   "source": [
    "## With Standardization\n",
    "\n",
    "* sklearn Package"
   ]
  },
  {
   "cell_type": "code",
   "execution_count": 30,
   "metadata": {
    "executionInfo": {
     "elapsed": 23,
     "status": "ok",
     "timestamp": 1663914029618,
     "user": {
      "displayName": "이정구",
      "userId": "17400242557229223804"
     },
     "user_tz": -540
    },
    "id": "cysvce4t4Mpi"
   },
   "outputs": [],
   "source": [
    "from sklearn.preprocessing import StandardScaler\n",
    "\n",
    "scaler2 = StandardScaler()\n",
    "X_Stan = scaler2.fit_transform(X)"
   ]
  },
  {
   "cell_type": "markdown",
   "metadata": {
    "id": "BNcQKR8b-bRH"
   },
   "source": [
    "* 표준화된 X값 확인"
   ]
  },
  {
   "cell_type": "code",
   "execution_count": 31,
   "metadata": {
    "colab": {
     "base_uri": "https://localhost:8080/"
    },
    "executionInfo": {
     "elapsed": 23,
     "status": "ok",
     "timestamp": 1663914029621,
     "user": {
      "displayName": "이정구",
      "userId": "17400242557229223804"
     },
     "user_tz": -540
    },
    "id": "uSnK_Qo79Wvo",
    "outputId": "4ebf87e2-b423-4c7f-b0f9-5c29f1097d6a"
   },
   "outputs": [
    {
     "data": {
      "text/plain": [
       "array([[0.63086987],\n",
       "       [0.85433297],\n",
       "       [0.55047045],\n",
       "       [0.54692342],\n",
       "       [0.56584093]])"
      ]
     },
     "execution_count": 31,
     "metadata": {},
     "output_type": "execute_result"
    }
   ],
   "source": [
    "X_Stan[:5]"
   ]
  },
  {
   "cell_type": "markdown",
   "metadata": {
    "id": "K8K_mw2s-eS7"
   },
   "source": [
    "* 표준화된 X값 모델생성"
   ]
  },
  {
   "cell_type": "code",
   "execution_count": 33,
   "metadata": {
    "colab": {
     "base_uri": "https://localhost:8080/",
     "height": 389
    },
    "executionInfo": {
     "elapsed": 789,
     "status": "ok",
     "timestamp": 1663914030393,
     "user": {
      "displayName": "이정구",
      "userId": "17400242557229223804"
     },
     "user_tz": -540
    },
    "id": "tIQwnWKa4Xwq",
    "outputId": "6cb58565-bbb8-4291-c9b6-2c1c319e5c2c"
   },
   "outputs": [
    {
     "data": {
      "image/png": "[encoded data removed]",
      "text/plain": [
       "<Figure size 648x432 with 1 Axes>"
      ]
     },
     "metadata": {
      "needs_background": "light"
     },
     "output_type": "display_data"
    }
   ],
   "source": [
    "fig = plt.figure(figsize = (9, 6))\n",
    "sns.regplot(x = X_Stan, y = y)\n",
    "plt.xlabel('weigh_With_Standardization')\n",
    "plt.show()"
   ]
  },
  {
   "cell_type": "markdown",
   "metadata": {
    "id": "DKUy4j2T52fB"
   },
   "source": [
    "# The End "
   ]
  }
 ],
 "metadata": {
  "colab": {
   "collapsed_sections": [],
   "provenance": []
  },
  "kernelspec": {
   "display_name": "Python 3 (ipykernel)",
   "language": "python",
   "name": "python3"
  },
  "language_info": {
   "codemirror_mode": {
    "name": "ipython",
    "version": 3
   },
   "file_extension": ".py",
   "mimetype": "text/x-python",
   "name": "python",
   "nbconvert_exporter": "python",
   "pygments_lexer": "ipython3",
   "version": "3.11.7"
  },
  "toc": {
   "base_numbering": 1,
   "nav_menu": {},
   "number_sections": true,
   "sideBar": true,
   "skip_h1_title": false,
   "title_cell": "Table of Contents",
   "title_sidebar": "Contents",
   "toc_cell": false,
   "toc_position": {
    "height": "calc(100% - 180px)",
    "left": "10px",
    "top": "150px",
    "width": "173.797px"
   },
   "toc_section_display": true,
   "toc_window_display": true
  },
  "varInspector": {
   "cols": {
    "lenName": 16,
    "lenType": 16,
    "lenVar": 40
   },
   "kernels_config": {
    "python": {
     "delete_cmd_postfix": "",
     "delete_cmd_prefix": "del ",
     "library": "var_list.py",
     "varRefreshCmd": "print(var_dic_list())"
    },
    "r": {
     "delete_cmd_postfix": ") ",
     "delete_cmd_prefix": "rm(",
     "library": "var_list.r",
     "varRefreshCmd": "cat(var_dic_list()) "
    }
   },
   "types_to_exclude": [
    "module",
    "function",
    "builtin_function_or_method",
    "instance",
    "_Feature"
   ],
   "window_display": false
  }
 },
 "nbformat": 4,
 "nbformat_minor": 4
}
