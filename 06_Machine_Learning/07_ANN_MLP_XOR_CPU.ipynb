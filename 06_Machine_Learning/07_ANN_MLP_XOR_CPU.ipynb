{
 "cells": [
  {
   "cell_type": "markdown",
   "metadata": {
    "id": "6aLTiwMEU6dN"
   },
   "source": [
    "# 1. Perceptron"
   ]
  },
  {
   "cell_type": "code",
   "execution_count": 1,
   "metadata": {
    "executionInfo": {
     "elapsed": 13,
     "status": "ok",
     "timestamp": 1673400115143,
     "user": {
      "displayName": "이정구",
      "userId": "17400242557229223804"
     },
     "user_tz": -540
    },
    "id": "RbPgODpVzdHI",
    "tags": []
   },
   "outputs": [],
   "source": [
    "import warnings\n",
    "warnings.filterwarnings('ignore')"
   ]
  },
  {
   "cell_type": "markdown",
   "metadata": {
    "id": "3UugARcKaldr"
   },
   "source": [
    "> ## 1) Import numpy"
   ]
  },
  {
   "cell_type": "code",
   "execution_count": 2,
   "metadata": {
    "executionInfo": {
     "elapsed": 12,
     "status": "ok",
     "timestamp": 1673400115145,
     "user": {
      "displayName": "이정구",
      "userId": "17400242557229223804"
     },
     "user_tz": -540
    },
    "id": "O0NUWP2IRnZj",
    "tags": []
   },
   "outputs": [],
   "source": [
    "import numpy as np "
   ]
  },
  {
   "cell_type": "markdown",
   "metadata": {
    "id": "RWi7oYzwavvl"
   },
   "source": [
    "> ## 2) gradient( ) 함수 정의\n",
    "\n",
    "* 다변수 함수의 수치미분"
   ]
  },
  {
   "cell_type": "code",
   "execution_count": 3,
   "metadata": {
    "executionInfo": {
     "elapsed": 12,
     "status": "ok",
     "timestamp": 1673400115146,
     "user": {
      "displayName": "이정구",
      "userId": "17400242557229223804"
     },
     "user_tz": -540
    },
    "id": "5Y19zci4Rsca",
    "tags": []
   },
   "outputs": [],
   "source": [
    "def gradient(machine, param):\n",
    "\n",
    "    if param.ndim == 1:\n",
    "        temp_param = param\n",
    "        delta = 0.00005\n",
    "        learned_param = np.zeros(param.shape)\n",
    "        \n",
    "        for index in range(len(param)):\n",
    "            target_param = float(temp_param[index])\n",
    "            temp_param[index] = target_param + delta            \n",
    "            param_plus_delta = machine(temp_param)\n",
    "            temp_param[index] = target_param - delta  \n",
    "            param_minus_delta = machine(temp_param)\n",
    "            learned_param[index] = (param_plus_delta - param_minus_delta ) / (2 * delta)\n",
    "            temp_param[index] = target_param\n",
    "\n",
    "        return learned_param\n",
    "        \n",
    "\n",
    "    elif param.ndim == 2:\n",
    "        temp_param = param\n",
    "        delta = 0.00005\n",
    "        learned_param = np.zeros(param.shape)\n",
    "    \n",
    "        rows = param.shape[0]\n",
    "        columns = param.shape[1]\n",
    "    \n",
    "        for row in range(rows):\n",
    "            for column in range(columns):\n",
    "                target_param = float(temp_param[row, column])\n",
    "                temp_param[row, column] = target_param + delta            \n",
    "                param_plus_delta = machine(temp_param)\n",
    "                temp_param[row, column] = target_param - delta            \n",
    "                param_minus_delta = machine(temp_param)\n",
    "                learned_param[row, column] = (param_plus_delta - param_minus_delta) / (2 * delta)\n",
    "                temp_param[row, column] = target_param\n",
    "\n",
    "        return learned_param"
   ]
  },
  {
   "cell_type": "markdown",
   "metadata": {
    "id": "7kyyj7OuVR96"
   },
   "source": [
    "# II. Logic Gate( ) - 'AND', 'OR', 'NAND'"
   ]
  },
  {
   "cell_type": "markdown",
   "metadata": {
    "id": "1-nfRPT_bZLY"
   },
   "source": [
    "> ## 1) sigmoid( ) 함수 정의"
   ]
  },
  {
   "cell_type": "code",
   "execution_count": 4,
   "metadata": {
    "executionInfo": {
     "elapsed": 26,
     "status": "ok",
     "timestamp": 1673400115576,
     "user": {
      "displayName": "이정구",
      "userId": "17400242557229223804"
     },
     "user_tz": -540
    },
    "id": "O3pPJzd9Vmgg",
    "tags": []
   },
   "outputs": [],
   "source": [
    "import numpy as np \n",
    "\n",
    "def sigmoid(x):\n",
    "    y_hat = 1 / (1 + np.exp(-x))\n",
    "    return y_hat"
   ]
  },
  {
   "cell_type": "markdown",
   "metadata": {
    "id": "p7rTKDZKbfhb"
   },
   "source": [
    "> ## 2) LogicGate 클래스 선언\n",
    "* 1만회 학습, 천단위당 코스트함수값(CEE) 출력, 러닝레이트 0.01"
   ]
  },
  {
   "cell_type": "code",
   "execution_count": 5,
   "metadata": {
    "executionInfo": {
     "elapsed": 26,
     "status": "ok",
     "timestamp": 1673400115577,
     "user": {
      "displayName": "이정구",
      "userId": "17400242557229223804"
     },
     "user_tz": -540
    },
    "id": "AcH3S-1xWUWi",
    "tags": []
   },
   "outputs": [],
   "source": [
    "class LogicGate:\n",
    "    \n",
    "    def __init__(self, gate_Type, X_input, y_output):  \n",
    "\n",
    "# gate_Type 문자열 지정 Member      \n",
    "        self.Type = gate_Type\n",
    "        \n",
    "# X_input, y_output Member 초기화\n",
    "        self.X_input = X_input.reshape(4, 2)\n",
    "        self.y_output = y_output.reshape(4, 1)\n",
    "        \n",
    "# W, b Member 초기화\n",
    "        self.W = np.random.rand(2, 1)  \n",
    "        self.b = np.random.rand(1)\n",
    "                        \n",
    "# learning_rate Member 지정\n",
    "        self.learning_rate = 0.01\n",
    "\n",
    "# Cost_Function(CEE) Method\n",
    "    def cost_func(self):\n",
    "        z = np.dot(self.X_input, self.W) + self.b\n",
    "        y_hat = sigmoid(z)\n",
    "        \n",
    "        return -np.sum(self.y_output * np.log(y_hat) + (1 - self.y_output) * np.log(1 - y_hat))      \n",
    "\n",
    "# Learning Method\n",
    "    def fit(self):\n",
    "        machine = lambda x : self.cost_func()\n",
    "        print('Initial Cost = ', self.cost_func())\n",
    "        \n",
    "        for step in  range(10001):\n",
    "            self.W = self.W - self.learning_rate * gradient(machine, self.W)\n",
    "            self.b = self.b - self.learning_rate * gradient(machine, self.b)\n",
    "    \n",
    "            if (step % 1000 == 0):\n",
    "                print('Step = ', step, 'Cost = ', self.cost_func())\n",
    "                \n",
    "# Predict Method\n",
    "    def predict(self, input_data):\n",
    "        \n",
    "        z = np.dot(input_data, self.W) + self.b\n",
    "        y_prob = sigmoid(z)\n",
    "    \n",
    "        if y_prob > 0.5:\n",
    "            result = 1\n",
    "        else:\n",
    "            result = 0\n",
    "    \n",
    "        return y_prob, result"
   ]
  },
  {
   "cell_type": "markdown",
   "metadata": {
    "id": "9zdafbjmd0t2"
   },
   "source": [
    "> ## 3) AND_Gate\n",
    "\n",
    "* X_input, y_output 지정"
   ]
  },
  {
   "cell_type": "code",
   "execution_count": 6,
   "metadata": {
    "executionInfo": {
     "elapsed": 25,
     "status": "ok",
     "timestamp": 1673400115577,
     "user": {
      "displayName": "이정구",
      "userId": "17400242557229223804"
     },
     "user_tz": -540
    },
    "id": "bDGAxT7UXVEP",
    "tags": []
   },
   "outputs": [],
   "source": [
    "X_input  = np.array([[0, 0], [0, 1], [1, 0], [1, 1]])\n",
    "y_output = np.array([0, 0, 0, 1])"
   ]
  },
  {
   "cell_type": "markdown",
   "metadata": {
    "id": "UG2U0plZlR_L"
   },
   "source": [
    "* AND_Gate 객체 생성 및 학습"
   ]
  },
  {
   "cell_type": "code",
   "execution_count": 7,
   "metadata": {
    "colab": {
     "base_uri": "https://localhost:8080/"
    },
    "executionInfo": {
     "elapsed": 2249,
     "status": "ok",
     "timestamp": 1673400117801,
     "user": {
      "displayName": "이정구",
      "userId": "17400242557229223804"
     },
     "user_tz": -540
    },
    "id": "4pJp_noreWmV",
    "outputId": "a408d3aa-d8a6-4b79-b3f8-fa26b974e963",
    "tags": []
   },
   "outputs": [
    {
     "name": "stdout",
     "output_type": "stream",
     "text": [
      "Initial Cost =  4.497965651631574\n",
      "Step =  0 Cost =  4.446332569423319\n",
      "Step =  1000 Cost =  1.0592118130303234\n",
      "Step =  2000 Cost =  0.6816337071662233\n",
      "Step =  3000 Cost =  0.5032747108762602\n",
      "Step =  4000 Cost =  0.3978271410264743\n",
      "Step =  5000 Cost =  0.3281280507623008\n",
      "Step =  6000 Cost =  0.27872058601496985\n",
      "Step =  7000 Cost =  0.24193852466714252\n",
      "Step =  8000 Cost =  0.2135355683902081\n",
      "Step =  9000 Cost =  0.19096964749503464\n",
      "Step =  10000 Cost =  0.17262725296484957\n"
     ]
    }
   ],
   "source": [
    "AND_Gate = LogicGate('AND_GATE', X_input, y_output)\n",
    "\n",
    "AND_Gate.fit()"
   ]
  },
  {
   "cell_type": "markdown",
   "metadata": {
    "id": "hEAcasYalbLy"
   },
   "source": [
    "* AND_Gate 테스트"
   ]
  },
  {
   "cell_type": "code",
   "execution_count": 8,
   "metadata": {
    "colab": {
     "base_uri": "https://localhost:8080/"
    },
    "executionInfo": {
     "elapsed": 8,
     "status": "ok",
     "timestamp": 1673400117801,
     "user": {
      "displayName": "이정구",
      "userId": "17400242557229223804"
     },
     "user_tz": -540
    },
    "id": "oj9Rueh2ezxd",
    "outputId": "1deb64d7-1e05-434d-f0ba-11395fd9d851",
    "tags": []
   },
   "outputs": [
    {
     "name": "stdout",
     "output_type": "stream",
     "text": [
      "AND_GATE \n",
      "\n",
      "[0 0]  =  0\n",
      "[0 1]  =  0\n",
      "[1 0]  =  0\n",
      "[1 1]  =  1\n"
     ]
    }
   ],
   "source": [
    "print(AND_Gate.Type, '\\n')\n",
    "\n",
    "test_data = np.array([[0, 0], [0, 1], [1, 0], [1, 1]])\n",
    "\n",
    "for input_data in test_data:\n",
    "    (sigmoid_val, logical_val) = AND_Gate.predict(input_data) \n",
    "    print(input_data, ' = ', logical_val)  "
   ]
  },
  {
   "cell_type": "markdown",
   "metadata": {
    "id": "dCwDjzmWfOMH"
   },
   "source": [
    "> ## 4) OR_Gate\n",
    "\n",
    "* X_input, y_output"
   ]
  },
  {
   "cell_type": "code",
   "execution_count": 9,
   "metadata": {
    "executionInfo": {
     "elapsed": 6,
     "status": "ok",
     "timestamp": 1673400117802,
     "user": {
      "displayName": "이정구",
      "userId": "17400242557229223804"
     },
     "user_tz": -540
    },
    "id": "yWzMgGHUfcPZ",
    "tags": []
   },
   "outputs": [],
   "source": [
    "X_input  = np.array([[0, 0], [0, 1], [1, 0], [1, 1]])\n",
    "y_output = np.array([0, 1, 1, 1])"
   ]
  },
  {
   "cell_type": "markdown",
   "metadata": {
    "id": "BUZGv2PQlqTb"
   },
   "source": [
    "* OR_Gate 객체 생성 및 학습"
   ]
  },
  {
   "cell_type": "code",
   "execution_count": 10,
   "metadata": {
    "colab": {
     "base_uri": "https://localhost:8080/"
    },
    "executionInfo": {
     "elapsed": 2283,
     "status": "ok",
     "timestamp": 1673400120080,
     "user": {
      "displayName": "이정구",
      "userId": "17400242557229223804"
     },
     "user_tz": -540
    },
    "id": "fHMZWyWffwzJ",
    "outputId": "ab4bd046-36a5-45ec-efbf-d2a9c2d12c0b",
    "tags": []
   },
   "outputs": [
    {
     "name": "stdout",
     "output_type": "stream",
     "text": [
      "Initial Cost =  1.9516981751522096\n",
      "Step =  0 Cost =  1.9484013042554793\n",
      "Step =  1000 Cost =  0.7438918407711301\n",
      "Step =  2000 Cost =  0.4410610552919808\n",
      "Step =  3000 Cost =  0.3085272678388546\n",
      "Step =  4000 Cost =  0.23550245778527612\n",
      "Step =  5000 Cost =  0.1896994012032501\n",
      "Step =  6000 Cost =  0.15845949928712802\n",
      "Step =  7000 Cost =  0.13586538694168487\n",
      "Step =  8000 Cost =  0.11880116975313883\n",
      "Step =  9000 Cost =  0.1054777278084072\n",
      "Step =  10000 Cost =  0.09479771477678259\n"
     ]
    }
   ],
   "source": [
    "OR_Gate = LogicGate('OR_GATE', X_input, y_output)\n",
    "\n",
    "OR_Gate.fit() "
   ]
  },
  {
   "cell_type": "markdown",
   "metadata": {
    "id": "JsokT4WFl3Xa"
   },
   "source": [
    "* OR_Gate 테스트"
   ]
  },
  {
   "cell_type": "code",
   "execution_count": 11,
   "metadata": {
    "colab": {
     "base_uri": "https://localhost:8080/"
    },
    "executionInfo": {
     "elapsed": 9,
     "status": "ok",
     "timestamp": 1673400120080,
     "user": {
      "displayName": "이정구",
      "userId": "17400242557229223804"
     },
     "user_tz": -540
    },
    "id": "BCGWz7REfyHo",
    "outputId": "68d7d0cd-04b3-4449-b878-8e484da6ae0e",
    "tags": []
   },
   "outputs": [
    {
     "name": "stdout",
     "output_type": "stream",
     "text": [
      "OR_GATE \n",
      "\n",
      "[0 0]  =  0\n",
      "[0 1]  =  1\n",
      "[1 0]  =  1\n",
      "[1 1]  =  1\n"
     ]
    }
   ],
   "source": [
    "print(OR_Gate.Type, '\\n')\n",
    "\n",
    "test_data = np.array([[0, 0], [0, 1], [1, 0], [1, 1]])\n",
    "\n",
    "for input_data in test_data:\n",
    "    (sigmoid_val, logical_val) = OR_Gate.predict(input_data) \n",
    "    print(input_data, ' = ', logical_val)  "
   ]
  },
  {
   "cell_type": "markdown",
   "metadata": {
    "id": "lp8KycaqfTk_"
   },
   "source": [
    "> ## 5) NAND_Gate\n",
    "\n",
    "* X_input, y_output"
   ]
  },
  {
   "cell_type": "code",
   "execution_count": 12,
   "metadata": {
    "executionInfo": {
     "elapsed": 5,
     "status": "ok",
     "timestamp": 1673400120080,
     "user": {
      "displayName": "이정구",
      "userId": "17400242557229223804"
     },
     "user_tz": -540
    },
    "id": "F_4wxCkrfdBh",
    "tags": []
   },
   "outputs": [],
   "source": [
    "X_input  = np.array([[0, 0], [0, 1], [1, 0], [1, 1]])\n",
    "y_output = np.array([1, 1, 1, 0])"
   ]
  },
  {
   "cell_type": "markdown",
   "metadata": {
    "id": "FcWUPdI4ltaJ"
   },
   "source": [
    "* NAND_Gate 객체 생성 및 학습"
   ]
  },
  {
   "cell_type": "code",
   "execution_count": 13,
   "metadata": {
    "colab": {
     "base_uri": "https://localhost:8080/"
    },
    "executionInfo": {
     "elapsed": 3426,
     "status": "ok",
     "timestamp": 1673400123501,
     "user": {
      "displayName": "이정구",
      "userId": "17400242557229223804"
     },
     "user_tz": -540
    },
    "id": "dLrdFDHzglGo",
    "outputId": "781e4c47-20b3-4afd-dcde-b09fe4ab54f4",
    "tags": []
   },
   "outputs": [
    {
     "name": "stdout",
     "output_type": "stream",
     "text": [
      "Initial Cost =  2.765137078582787\n",
      "Step =  0 Cost =  2.760019710127509\n",
      "Step =  1000 Cost =  1.0580983501323535\n",
      "Step =  2000 Cost =  0.6812227134679254\n",
      "Step =  3000 Cost =  0.5030499389830065\n",
      "Step =  4000 Cost =  0.39768475809727377\n",
      "Step =  5000 Cost =  0.3280299421954096\n",
      "Step =  6000 Cost =  0.2786490402318342\n",
      "Step =  7000 Cost =  0.2418841441435384\n",
      "Step =  8000 Cost =  0.21349290181550257\n",
      "Step =  9000 Cost =  0.19093531839153796\n",
      "Step =  10000 Cost =  0.17259906099245959\n"
     ]
    }
   ],
   "source": [
    "NAND_Gate = LogicGate('NAND_GATE', X_input, y_output)\n",
    "\n",
    "NAND_Gate.fit()"
   ]
  },
  {
   "cell_type": "markdown",
   "metadata": {
    "id": "AX3f5qfBl62B"
   },
   "source": [
    "* NAND_Gate 테스트"
   ]
  },
  {
   "cell_type": "code",
   "execution_count": 14,
   "metadata": {
    "colab": {
     "base_uri": "https://localhost:8080/"
    },
    "executionInfo": {
     "elapsed": 22,
     "status": "ok",
     "timestamp": 1673400123503,
     "user": {
      "displayName": "이정구",
      "userId": "17400242557229223804"
     },
     "user_tz": -540
    },
    "id": "O18S4Ox-gs8X",
    "outputId": "8bb9d3f3-596c-4756-9c63-f6eb0fb63add",
    "tags": []
   },
   "outputs": [
    {
     "name": "stdout",
     "output_type": "stream",
     "text": [
      "NAND_GATE \n",
      "\n",
      "[0 0]  =  1\n",
      "[0 1]  =  1\n",
      "[1 0]  =  1\n",
      "[1 1]  =  0\n"
     ]
    }
   ],
   "source": [
    "print(NAND_Gate.Type, '\\n')\n",
    "\n",
    "test_data = np.array([[0, 0], [0, 1], [1, 0], [1, 1]])\n",
    "\n",
    "for input_data in test_data:\n",
    "    (sigmoid_val, logical_val) = NAND_Gate.predict(input_data) \n",
    "    print(input_data, ' = ', logical_val)  "
   ]
  },
  {
   "cell_type": "markdown",
   "metadata": {
    "id": "KfzunHXAfWyl"
   },
   "source": [
    "# III. XOR_Gate Issue"
   ]
  },
  {
   "cell_type": "markdown",
   "metadata": {
    "id": "BnFmJld2kY8I"
   },
   "source": [
    "> ## 1) XOR_Gate Failure\n",
    "\n",
    "* X_input, y_output"
   ]
  },
  {
   "cell_type": "code",
   "execution_count": 15,
   "metadata": {
    "executionInfo": {
     "elapsed": 23,
     "status": "ok",
     "timestamp": 1673400123959,
     "user": {
      "displayName": "이정구",
      "userId": "17400242557229223804"
     },
     "user_tz": -540
    },
    "id": "RHbjtJh6fduB",
    "tags": []
   },
   "outputs": [],
   "source": [
    "X_input  = np.array([[0, 0], [0, 1], [1, 0], [1, 1]])\n",
    "y_output = np.array([0, 1, 1, 0])"
   ]
  },
  {
   "cell_type": "markdown",
   "metadata": {
    "id": "MwH1C0AUlv5P"
   },
   "source": [
    "* XOR_Gate 객체 생성 및 학습"
   ]
  },
  {
   "cell_type": "code",
   "execution_count": 16,
   "metadata": {
    "colab": {
     "base_uri": "https://localhost:8080/"
    },
    "executionInfo": {
     "elapsed": 1716,
     "status": "ok",
     "timestamp": 1673400125654,
     "user": {
      "displayName": "이정구",
      "userId": "17400242557229223804"
     },
     "user_tz": -540
    },
    "id": "9FF1q21ahATG",
    "outputId": "22dccbf1-c4b8-4770-f7a1-25c58d72cf26",
    "tags": []
   },
   "outputs": [
    {
     "name": "stdout",
     "output_type": "stream",
     "text": [
      "Initial Cost =  3.4280738140089344\n",
      "Step =  0 Cost =  3.4111395406887315\n",
      "Step =  1000 Cost =  2.7732414197165887\n",
      "Step =  2000 Cost =  2.7726146782887082\n",
      "Step =  3000 Cost =  2.772589819100627\n",
      "Step =  4000 Cost =  2.772588769058514\n",
      "Step =  5000 Cost =  2.7725887242413743\n",
      "Step =  6000 Cost =  2.772588722325375\n",
      "Step =  7000 Cost =  2.7725887222434418\n",
      "Step =  8000 Cost =  2.7725887222399375\n",
      "Step =  9000 Cost =  2.772588722239788\n",
      "Step =  10000 Cost =  2.7725887222397816\n"
     ]
    }
   ],
   "source": [
    "XOR_Gate = LogicGate('XOR_GATE', X_input, y_output)\n",
    "\n",
    "XOR_Gate.fit()"
   ]
  },
  {
   "cell_type": "markdown",
   "metadata": {
    "id": "r2hDj20rl9NR"
   },
   "source": [
    "* XOR_Gate 테스트"
   ]
  },
  {
   "cell_type": "code",
   "execution_count": 17,
   "metadata": {
    "colab": {
     "base_uri": "https://localhost:8080/"
    },
    "executionInfo": {
     "elapsed": 12,
     "status": "ok",
     "timestamp": 1673400125654,
     "user": {
      "displayName": "이정구",
      "userId": "17400242557229223804"
     },
     "user_tz": -540
    },
    "id": "gn5Su92GhQY-",
    "outputId": "db4e095a-17df-4fbf-ab01-4225a0d525c5",
    "tags": []
   },
   "outputs": [
    {
     "name": "stdout",
     "output_type": "stream",
     "text": [
      "XOR_GATE \n",
      "\n",
      "[0 0]  =  1\n",
      "[0 1]  =  1\n",
      "[1 0]  =  1\n",
      "[1 1]  =  0\n"
     ]
    }
   ],
   "source": [
    "print(XOR_Gate.Type, '\\n')\n",
    "\n",
    "test_data = np.array([[0, 0], [0, 1], [1, 0], [1, 1]])\n",
    "\n",
    "for input_data in test_data:\n",
    "    (sigmoid_val, logical_val) = XOR_Gate.predict(input_data) \n",
    "    print(input_data, ' = ', logical_val)  "
   ]
  },
  {
   "cell_type": "markdown",
   "metadata": {
    "id": "cT2piTfAiMze"
   },
   "source": [
    "> ## 2) XOR_Gate Succeed\n",
    "\n",
    "* XOR를 (NAND + OR) 계층 및 AND 계층의 조합으로 연산\n",
    "* 이전 학습된 Parametrer로 XOR 수행"
   ]
  },
  {
   "cell_type": "code",
   "execution_count": 18,
   "metadata": {
    "executionInfo": {
     "elapsed": 10,
     "status": "ok",
     "timestamp": 1673400125655,
     "user": {
      "displayName": "이정구",
      "userId": "17400242557229223804"
     },
     "user_tz": -540
    },
    "id": "o93-rsvliQrT",
    "tags": []
   },
   "outputs": [],
   "source": [
    "input_data = np.array([[0, 0], [0, 1], [1, 0], [1, 1]])\n",
    "\n",
    "HL1_1 = []    # NAND 출력\n",
    "HL1_2 = []    # OR   출력\n",
    "\n",
    "new_input_data = []  # AND      입력\n",
    "final_output = []    # AND(XOR) 출력\n",
    "\n",
    "for index in range(len(input_data)):\n",
    "\n",
    "    HL1_1 = NAND_Gate.predict(input_data[index])  # NAND 출력\n",
    "    HL1_2 = OR_Gate.predict(input_data[index])    # OR   출력\n",
    "    \n",
    "    new_input_data.append(HL1_1[-1])    # AND 입력\n",
    "    new_input_data.append(HL1_2[-1])    # AND 입력\n",
    "    \n",
    "    (sigmoid_val, logical_val) = AND_Gate.predict(np.array(new_input_data))\n",
    "    \n",
    "    final_output.append(logical_val)    # AND(XOR) 출력    \n",
    "    new_input_data = []                 # AND 입력 초기화"
   ]
  },
  {
   "cell_type": "code",
   "execution_count": 19,
   "metadata": {
    "colab": {
     "base_uri": "https://localhost:8080/"
    },
    "executionInfo": {
     "elapsed": 9,
     "status": "ok",
     "timestamp": 1673400125655,
     "user": {
      "displayName": "이정구",
      "userId": "17400242557229223804"
     },
     "user_tz": -540
    },
    "id": "H8wZ7HS4mhsx",
    "outputId": "51f6deda-887f-47a9-bcb5-28791e410538",
    "tags": []
   },
   "outputs": [
    {
     "name": "stdout",
     "output_type": "stream",
     "text": [
      "XOR_GATE \n",
      "\n",
      "[0 0]  =  0\n",
      "[0 1]  =  1\n",
      "[1 0]  =  1\n",
      "[1 1]  =  0\n"
     ]
    }
   ],
   "source": [
    "print(XOR_Gate.Type, '\\n')\n",
    "\n",
    "for index in range(len(input_data)):    \n",
    "    print(input_data[index], ' = ', final_output[index])"
   ]
  },
  {
   "cell_type": "markdown",
   "metadata": {
    "id": "tBXcodpdp98R"
   },
   "source": [
    "> ## 3) XOR_Gate Learning"
   ]
  },
  {
   "cell_type": "markdown",
   "metadata": {
    "id": "LpzSonjcxVTM"
   },
   "source": [
    "### (1) XOR_Gate Class"
   ]
  },
  {
   "cell_type": "code",
   "execution_count": 22,
   "metadata": {
    "executionInfo": {
     "elapsed": 8,
     "status": "ok",
     "timestamp": 1673400125656,
     "user": {
      "displayName": "이정구",
      "userId": "17400242557229223804"
     },
     "user_tz": -540
    },
    "id": "rU2ZjRtQp9Xr",
    "tags": []
   },
   "outputs": [],
   "source": [
    "class XOR_Gate:\n",
    "    \n",
    "    def __init__(self, gate_Type, X_input, y_output):  \n",
    "\n",
    "# gate_Type 문자열 지정 Member      \n",
    "        self.Type = gate_Type\n",
    "        \n",
    "# X_input, y_output Member 초기화\n",
    "        self.X_input = X_input.reshape(4, 2)\n",
    "        self.y_output = y_output.reshape(4, 1)\n",
    "        \n",
    "# W_1, b_1 Member 초기화\n",
    "        self.W_1 = np.random.rand(2, 2)  \n",
    "        self.b_1 = np.random.rand(2)\n",
    "\n",
    "# W_2, b_2 Member 초기화\n",
    "        self.W_2 = np.random.rand(2, 1)  \n",
    "        self.b_2 = np.random.rand(1)\n",
    "\n",
    "# learning_rate Member 지정\n",
    "        self.learning_rate = 0.01\n",
    "        \n",
    "# Cost_Function(CEE) Method\n",
    "    def cost_func(self):\n",
    "\n",
    "        z_1 = np.dot(self.X_input, self.W_1) + self.b_1     # Hidden Layer\n",
    "        a_1 = sigmoid(z_1)                                \n",
    "        \n",
    "        z_2 = np.dot(a_1, self.W_2) + self.b_2              # Output Layer\n",
    "        y_hat = sigmoid(z_2)                        \n",
    "\n",
    "        return -np.sum(self.y_output * np.log(y_hat) + (1 - self.y_output) * np.log(1 - y_hat))      \n",
    "\n",
    "# Learning Method\n",
    "    def fit(self):\n",
    "        machine = lambda x : self.cost_func()\n",
    "        print('Initial Cost = ', self.cost_func())\n",
    "        \n",
    "        for step in range(50001):\n",
    "            self.W_1 = self.W_1- self.learning_rate * gradient(machine, self.W_1)\n",
    "            self.b_1 = self.b_1 - self.learning_rate * gradient(machine, self.b_1)\n",
    "\n",
    "            self.W_2 = self.W_2 - self.learning_rate * gradient(machine, self.W_2)\n",
    "            self.b_2 = self.b_2 - self.learning_rate * gradient(machine, self.b_2)\n",
    "            \n",
    "            if (step % 1000 == 0):\n",
    "                print('Step = ', step, 'Cost = ', self.cost_func())\n",
    "                \n",
    "# Predict Method\n",
    "    def predict(self, input_data):\n",
    "        \n",
    "        z_1 = np.dot(input_data, self.W_1) + self.b_1     # Hidden Layer\n",
    "        a_1 = sigmoid(z_1)                                \n",
    "        \n",
    "        z_2 = np.dot(a_1, self.W_2) + self.b_2            # Output Layer\n",
    "        y_prob = sigmoid(z_2)                             \n",
    "\n",
    "\n",
    "        if y_prob > 0.5:\n",
    "            result = 1\n",
    "        else:\n",
    "            result = 0\n",
    "    \n",
    "        return y_prob, result"
   ]
  },
  {
   "cell_type": "markdown",
   "metadata": {
    "id": "_kzJAz8Sv5hQ"
   },
   "source": [
    "### (2) X_input, y_output"
   ]
  },
  {
   "cell_type": "code",
   "execution_count": 23,
   "metadata": {
    "executionInfo": {
     "elapsed": 8,
     "status": "ok",
     "timestamp": 1673400125656,
     "user": {
      "displayName": "이정구",
      "userId": "17400242557229223804"
     },
     "user_tz": -540
    },
    "id": "X-Y-0WxQv5hS",
    "tags": []
   },
   "outputs": [],
   "source": [
    "X_input  = np.array([[0, 0], [0, 1], [1, 0], [1, 1]])\n",
    "y_output = np.array([0, 1, 1, 0])"
   ]
  },
  {
   "cell_type": "markdown",
   "metadata": {
    "id": "YJVNolWrv5hS"
   },
   "source": [
    "### (3) XOR_Gate_2.learn( )"
   ]
  },
  {
   "cell_type": "code",
   "execution_count": 24,
   "metadata": {
    "colab": {
     "base_uri": "https://localhost:8080/"
    },
    "executionInfo": {
     "elapsed": 32690,
     "status": "ok",
     "timestamp": 1673400158338,
     "user": {
      "displayName": "이정구",
      "userId": "17400242557229223804"
     },
     "user_tz": -540
    },
    "id": "6nfufi7Cv5hT",
    "outputId": "325172dc-29d8-42bb-c957-cfaef1306db2",
    "tags": []
   },
   "outputs": [
    {
     "name": "stdout",
     "output_type": "stream",
     "text": [
      "Initial Cost =  3.2007504878258946\n",
      "Step =  0 Cost =  3.186312685683361\n",
      "Step =  1000 Cost =  2.7720049018863815\n",
      "Step =  2000 Cost =  2.771720980946264\n",
      "Step =  3000 Cost =  2.7712464693357513\n",
      "Step =  4000 Cost =  2.7703839558144407\n",
      "Step =  5000 Cost =  2.7686529135369367\n",
      "Step =  6000 Cost =  2.7647661896497686\n",
      "Step =  7000 Cost =  2.7551003947416843\n",
      "Step =  8000 Cost =  2.7302934743992093\n",
      "Step =  9000 Cost =  2.6716430301955985\n",
      "Step =  10000 Cost =  2.552323704200145\n",
      "Step =  11000 Cost =  2.3694638509096277\n",
      "Step =  12000 Cost =  2.176823506793488\n",
      "Step =  13000 Cost =  2.0054106218455723\n",
      "Step =  14000 Cost =  1.858604153734353\n",
      "Step =  15000 Cost =  1.7335192975610774\n",
      "Step =  16000 Cost =  1.482472453518226\n",
      "Step =  17000 Cost =  0.9235953417661515\n",
      "Step =  18000 Cost =  0.581675847385573\n",
      "Step =  19000 Cost =  0.3993742325729886\n",
      "Step =  20000 Cost =  0.2971565256931488\n",
      "Step =  21000 Cost =  0.2342287915223813\n",
      "Step =  22000 Cost =  0.19229410428430865\n",
      "Step =  23000 Cost =  0.162599881506743\n",
      "Step =  24000 Cost =  0.14057545581026112\n",
      "Step =  25000 Cost =  0.12364037538638203\n",
      "Step =  26000 Cost =  0.11024065921466315\n",
      "Step =  27000 Cost =  0.09938966297326779\n",
      "Step =  28000 Cost =  0.09043304042332022\n",
      "Step =  29000 Cost =  0.08292076894283638\n",
      "Step =  30000 Cost =  0.0765337171512902\n",
      "Step =  31000 Cost =  0.0710395811546237\n",
      "Step =  32000 Cost =  0.06626540817622247\n",
      "Step =  33000 Cost =  0.06207988419398012\n",
      "Step =  34000 Cost =  0.05838157982908321\n",
      "Step =  35000 Cost =  0.05509094878736634\n",
      "Step =  36000 Cost =  0.052144756522843255\n",
      "Step =  37000 Cost =  0.04949212224571639\n",
      "Step =  38000 Cost =  0.04709165596670112\n",
      "Step =  39000 Cost =  0.04490935372857081\n",
      "Step =  40000 Cost =  0.04291702732436564\n",
      "Step =  41000 Cost =  0.04109111700521064\n",
      "Step =  42000 Cost =  0.03941178273669725\n",
      "Step =  43000 Cost =  0.03786220082185111\n",
      "Step =  44000 Cost =  0.03642801384155509\n",
      "Step =  45000 Cost =  0.03509689638233045\n",
      "Step =  46000 Cost =  0.033858209145287\n",
      "Step =  47000 Cost =  0.03270272118716494\n",
      "Step =  48000 Cost =  0.03162238516847313\n",
      "Step =  49000 Cost =  0.030610154196153296\n",
      "Step =  50000 Cost =  0.029659831567728383\n"
     ]
    }
   ],
   "source": [
    "XOR_Gate_2 = XOR_Gate('XOR_GATE', X_input, y_output)\n",
    "\n",
    "XOR_Gate_2.fit()"
   ]
  },
  {
   "cell_type": "markdown",
   "metadata": {
    "id": "qkHSTVJVwX--"
   },
   "source": [
    "### (4) XOR_Gate_2.predict( )"
   ]
  },
  {
   "cell_type": "code",
   "execution_count": 25,
   "metadata": {
    "colab": {
     "base_uri": "https://localhost:8080/"
    },
    "executionInfo": {
     "elapsed": 16,
     "status": "ok",
     "timestamp": 1673400158339,
     "user": {
      "displayName": "이정구",
      "userId": "17400242557229223804"
     },
     "user_tz": -540
    },
    "id": "o9cbHccRwX--",
    "outputId": "7442c62b-04b2-41f0-fe68-bcefb4c438c9",
    "tags": []
   },
   "outputs": [
    {
     "name": "stdout",
     "output_type": "stream",
     "text": [
      "XOR_GATE \n",
      "\n",
      "[0 0]  =  0\n",
      "[0 1]  =  1\n",
      "[1 0]  =  1\n",
      "[1 1]  =  0\n"
     ]
    }
   ],
   "source": [
    "print(XOR_Gate_2.Type, '\\n')\n",
    "\n",
    "test_data = np.array([[0, 0], [0, 1], [1, 0], [1, 1]])\n",
    "\n",
    "for input_data in test_data:\n",
    "    (sigmoid_val, logical_val) = XOR_Gate_2.predict(input_data) \n",
    "    print(input_data, ' = ', logical_val)  "
   ]
  },
  {
   "cell_type": "markdown",
   "metadata": {
    "id": "XiAhFISVnkkm"
   },
   "source": [
    "# THE END"
   ]
  }
 ],
 "metadata": {
  "colab": {
   "provenance": []
  },
  "kernelspec": {
   "display_name": "Python 3",
   "language": "python",
   "name": "python3"
  },
  "language_info": {
   "codemirror_mode": {
    "name": "ipython",
    "version": 3
   },
   "file_extension": ".py",
   "mimetype": "text/x-python",
   "name": "python",
   "nbconvert_exporter": "python",
   "pygments_lexer": "ipython3",
   "version": "3.11.5"
  },
  "toc": {
   "base_numbering": 1,
   "nav_menu": {},
   "number_sections": true,
   "sideBar": true,
   "skip_h1_title": false,
   "title_cell": "Table of Contents",
   "title_sidebar": "Contents",
   "toc_cell": false,
   "toc_position": {},
   "toc_section_display": true,
   "toc_window_display": false
  }
 },
 "nbformat": 4,
 "nbformat_minor": 4
}
