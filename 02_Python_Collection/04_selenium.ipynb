{
 "cells": [
  {
   "cell_type": "code",
   "execution_count": 1,
   "id": "6b23ac91-d9c6-4ac6-b1c3-3d8d49640ba4",
   "metadata": {
    "collapsed": true,
    "jupyter": {
     "outputs_hidden": true
    },
    "tags": []
   },
   "outputs": [
    {
     "name": "stdout",
     "output_type": "stream",
     "text": [
      "Collecting selenium\n",
      "  Downloading selenium-4.22.0-py3-none-any.whl.metadata (7.0 kB)\n",
      "Requirement already satisfied: urllib3<3,>=1.26 in c:\\users\\s.park\\anaconda3\\lib\\site-packages (from urllib3[socks]<3,>=1.26->selenium) (2.0.7)\n",
      "Collecting trio~=0.17 (from selenium)\n",
      "  Downloading trio-0.25.1-py3-none-any.whl.metadata (8.7 kB)\n",
      "Collecting trio-websocket~=0.9 (from selenium)\n",
      "  Downloading trio_websocket-0.11.1-py3-none-any.whl.metadata (4.7 kB)\n",
      "Requirement already satisfied: certifi>=2021.10.8 in c:\\users\\s.park\\anaconda3\\lib\\site-packages (from selenium) (2024.2.2)\n",
      "Requirement already satisfied: typing_extensions>=4.9.0 in c:\\users\\s.park\\anaconda3\\lib\\site-packages (from selenium) (4.9.0)\n",
      "Collecting websocket-client>=1.8.0 (from selenium)\n",
      "  Downloading websocket_client-1.8.0-py3-none-any.whl.metadata (8.0 kB)\n",
      "Collecting attrs>=23.2.0 (from trio~=0.17->selenium)\n",
      "  Downloading attrs-23.2.0-py3-none-any.whl.metadata (9.5 kB)\n",
      "Requirement already satisfied: sortedcontainers in c:\\users\\s.park\\anaconda3\\lib\\site-packages (from trio~=0.17->selenium) (2.4.0)\n",
      "Requirement already satisfied: idna in c:\\users\\s.park\\anaconda3\\lib\\site-packages (from trio~=0.17->selenium) (3.4)\n",
      "Collecting outcome (from trio~=0.17->selenium)\n",
      "  Downloading outcome-1.3.0.post0-py2.py3-none-any.whl.metadata (2.6 kB)\n",
      "Requirement already satisfied: sniffio>=1.3.0 in c:\\users\\s.park\\anaconda3\\lib\\site-packages (from trio~=0.17->selenium) (1.3.0)\n",
      "Requirement already satisfied: cffi>=1.14 in c:\\users\\s.park\\anaconda3\\lib\\site-packages (from trio~=0.17->selenium) (1.16.0)\n",
      "Collecting wsproto>=0.14 (from trio-websocket~=0.9->selenium)\n",
      "  Downloading wsproto-1.2.0-py3-none-any.whl.metadata (5.6 kB)\n",
      "Requirement already satisfied: pysocks!=1.5.7,<2.0,>=1.5.6 in c:\\users\\s.park\\anaconda3\\lib\\site-packages (from urllib3[socks]<3,>=1.26->selenium) (1.7.1)\n",
      "Requirement already satisfied: pycparser in c:\\users\\s.park\\anaconda3\\lib\\site-packages (from cffi>=1.14->trio~=0.17->selenium) (2.21)\n",
      "Requirement already satisfied: h11<1,>=0.9.0 in c:\\users\\s.park\\anaconda3\\lib\\site-packages (from wsproto>=0.14->trio-websocket~=0.9->selenium) (0.14.0)\n",
      "Downloading selenium-4.22.0-py3-none-any.whl (9.4 MB)\n",
      "   ---------------------------------------- 0.0/9.4 MB ? eta -:--:--\n",
      "   - -------------------------------------- 0.3/9.4 MB 10.6 MB/s eta 0:00:01\n",
      "   --- ------------------------------------ 0.8/9.4 MB 10.4 MB/s eta 0:00:01\n",
      "   ----- ---------------------------------- 1.3/9.4 MB 10.4 MB/s eta 0:00:01\n",
      "   -------- ------------------------------- 1.9/9.4 MB 11.0 MB/s eta 0:00:01\n",
      "   ---------- ----------------------------- 2.4/9.4 MB 11.1 MB/s eta 0:00:01\n",
      "   ------------ --------------------------- 3.0/9.4 MB 11.1 MB/s eta 0:00:01\n",
      "   -------------- ------------------------- 3.5/9.4 MB 11.7 MB/s eta 0:00:01\n",
      "   ----------------- ---------------------- 4.0/9.4 MB 11.7 MB/s eta 0:00:01\n",
      "   ------------------- -------------------- 4.6/9.4 MB 11.7 MB/s eta 0:00:01\n",
      "   --------------------- ------------------ 5.0/9.4 MB 11.5 MB/s eta 0:00:01\n",
      "   ----------------------- ---------------- 5.6/9.4 MB 11.6 MB/s eta 0:00:01\n",
      "   ------------------------- -------------- 6.1/9.4 MB 11.5 MB/s eta 0:00:01\n",
      "   ---------------------------- ----------- 6.6/9.4 MB 11.5 MB/s eta 0:00:01\n",
      "   ------------------------------ --------- 7.2/9.4 MB 11.5 MB/s eta 0:00:01\n",
      "   -------------------------------- ------- 7.7/9.4 MB 11.4 MB/s eta 0:00:01\n",
      "   ---------------------------------- ----- 8.3/9.4 MB 11.5 MB/s eta 0:00:01\n",
      "   ------------------------------------- -- 8.7/9.4 MB 11.4 MB/s eta 0:00:01\n",
      "   -------------------------------------- - 9.1/9.4 MB 11.2 MB/s eta 0:00:01\n",
      "   ---------------------------------------  9.4/9.4 MB 11.1 MB/s eta 0:00:01\n",
      "   ---------------------------------------- 9.4/9.4 MB 10.6 MB/s eta 0:00:00\n",
      "Downloading trio-0.25.1-py3-none-any.whl (467 kB)\n",
      "   ---------------------------------------- 0.0/467.7 kB ? eta -:--:--\n",
      "   --------------------------------------  460.8/467.7 kB 14.5 MB/s eta 0:00:01\n",
      "   ---------------------------------------- 467.7/467.7 kB 9.7 MB/s eta 0:00:00\n",
      "Downloading trio_websocket-0.11.1-py3-none-any.whl (17 kB)\n",
      "Downloading websocket_client-1.8.0-py3-none-any.whl (58 kB)\n",
      "   ---------------------------------------- 0.0/58.8 kB ? eta -:--:--\n",
      "   ---------------------------------------- 58.8/58.8 kB ? eta 0:00:00\n",
      "Downloading attrs-23.2.0-py3-none-any.whl (60 kB)\n",
      "   ---------------------------------------- 0.0/60.8 kB ? eta -:--:--\n",
      "   ---------------------------------------- 60.8/60.8 kB 1.6 MB/s eta 0:00:00\n",
      "Downloading wsproto-1.2.0-py3-none-any.whl (24 kB)\n",
      "Downloading outcome-1.3.0.post0-py2.py3-none-any.whl (10 kB)\n",
      "Installing collected packages: wsproto, websocket-client, attrs, outcome, trio, trio-websocket, selenium\n",
      "  Attempting uninstall: websocket-client\n",
      "    Found existing installation: websocket-client 0.58.0\n",
      "    Uninstalling websocket-client-0.58.0:\n",
      "      Successfully uninstalled websocket-client-0.58.0\n",
      "  Attempting uninstall: attrs\n",
      "    Found existing installation: attrs 23.1.0\n",
      "    Uninstalling attrs-23.1.0:\n",
      "      Successfully uninstalled attrs-23.1.0\n",
      "Successfully installed attrs-23.2.0 outcome-1.3.0.post0 selenium-4.22.0 trio-0.25.1 trio-websocket-0.11.1 websocket-client-1.8.0 wsproto-1.2.0\n"
     ]
    }
   ],
   "source": [
    "!pip install selenium"
   ]
  },
  {
   "cell_type": "code",
   "execution_count": null,
   "id": "edeada47-3857-4936-a417-cd9f5b226fb8",
   "metadata": {},
   "outputs": [],
   "source": []
  },
  {
   "cell_type": "code",
   "execution_count": null,
   "id": "a8d5794b-1ea1-43ac-b5ac-87b119832a71",
   "metadata": {},
   "outputs": [],
   "source": []
  },
  {
   "cell_type": "code",
   "execution_count": null,
   "id": "d73687ea-3b1f-4197-aa94-62394a483fa6",
   "metadata": {},
   "outputs": [],
   "source": []
  },
  {
   "cell_type": "code",
   "execution_count": null,
   "id": "ed70d2d6-f9fb-47c4-a29c-264e6e5e32ff",
   "metadata": {},
   "outputs": [],
   "source": []
  },
  {
   "cell_type": "code",
   "execution_count": null,
   "id": "57af7e4b-c5ce-44da-86ed-4db1d05b028f",
   "metadata": {},
   "outputs": [],
   "source": []
  },
  {
   "cell_type": "code",
   "execution_count": null,
   "id": "b13e51eb-02ff-4058-bdba-1c7b0190388f",
   "metadata": {},
   "outputs": [],
   "source": []
  },
  {
   "cell_type": "code",
   "execution_count": null,
   "id": "0fa8607d-a4a2-46b0-8769-328704557354",
   "metadata": {},
   "outputs": [],
   "source": []
  },
  {
   "cell_type": "code",
   "execution_count": null,
   "id": "7eea4d8b-bdcb-4b60-bd03-6c149449a5e2",
   "metadata": {},
   "outputs": [],
   "source": []
  },
  {
   "cell_type": "code",
   "execution_count": null,
   "id": "0042de51-6fcb-42b2-be7b-cbb3337d7670",
   "metadata": {},
   "outputs": [],
   "source": []
  },
  {
   "cell_type": "code",
   "execution_count": null,
   "id": "aece795e-6b6e-4485-88bf-3e4ab81c2fe4",
   "metadata": {},
   "outputs": [],
   "source": []
  },
  {
   "cell_type": "code",
   "execution_count": null,
   "id": "33ab176d-d44c-4ab6-9329-850dcf0282b5",
   "metadata": {},
   "outputs": [],
   "source": []
  },
  {
   "cell_type": "code",
   "execution_count": null,
   "id": "2fd0e045-c00d-4a47-9ad3-35eda2e51bea",
   "metadata": {},
   "outputs": [],
   "source": []
  },
  {
   "cell_type": "code",
   "execution_count": null,
   "id": "70eabc19-d5f0-4c55-bc59-25b9b26e72c0",
   "metadata": {},
   "outputs": [],
   "source": []
  },
  {
   "cell_type": "code",
   "execution_count": null,
   "id": "3faeec11-8775-4d4d-aa64-3f0483b31361",
   "metadata": {},
   "outputs": [],
   "source": []
  },
  {
   "cell_type": "code",
   "execution_count": null,
   "id": "bacd4e17-8269-4c2c-8f78-95a6b3feb900",
   "metadata": {},
   "outputs": [],
   "source": []
  },
  {
   "cell_type": "markdown",
   "id": "6e267614-8f34-4373-8e42-2e5df6c8841c",
   "metadata": {},
   "source": [
    "## options"
   ]
  },
  {
   "cell_type": "code",
   "execution_count": 4,
   "id": "585eea08-0c5f-4eda-bc91-94bfd85a0477",
   "metadata": {
    "tags": []
   },
   "outputs": [],
   "source": [
    "from selenium import webdriver\n",
    "from selenium.webdriver.common.by import By\n",
    "from selenium.webdriver.chrome.options import Options\n",
    "import time\n",
    "\n",
    "options = Options()\n",
    "options.add_argument(\"--headless=new\") \n",
    "# options.add_argument('--window-size= x, y') #실행되는 브라우저 크기를 지정할 수 있습니다.\n",
    "# options.add_argument('--start-maximized') #브라우저가 최대화된 상태로 실행됩니다.\n",
    "# options.add_argument('--start-fullscreen') #브라우저가 풀스크린 모드(F11)로 실행됩니다.\n",
    "# options.add_argument('--blink-settings=imagesEnabled=false') #브라우저에서 이미지 로딩을 하지 않습니다.\n",
    "# options.add_argument('--mute-audio') #브라우저에 음소거 옵션을 적용합니다.\n",
    "# options.add_argument('incognito') #시크릿 모드의 브라우저가 실행됩니다.\n",
    "options.add_experimental_option(\"detach\", True) #특정함수안에서  드라이버 생성시 함수종료될 때 브라우저 같이 종료되는 문제 대응"
   ]
  },
  {
   "cell_type": "code",
   "execution_count": 6,
   "id": "5cc015c5-86bf-4fd0-b6a2-5c2fae24238a",
   "metadata": {
    "tags": []
   },
   "outputs": [],
   "source": [
    "url = 'http://naver.com'\n",
    "driver = webdriver.Chrome(options=options)\n",
    "driver.get(url)\n",
    "time.sleep(2)"
   ]
  },
  {
   "cell_type": "code",
   "execution_count": 7,
   "id": "a6b2bf48-e64d-49ff-aa83-4c73f959e86f",
   "metadata": {
    "tags": []
   },
   "outputs": [
    {
     "name": "stdout",
     "output_type": "stream",
     "text": [
      "NAVER\n"
     ]
    }
   ],
   "source": [
    "print(driver.title)"
   ]
  },
  {
   "cell_type": "code",
   "execution_count": 112,
   "id": "034a95e4-f546-45d0-8ebe-06e2d85abd44",
   "metadata": {
    "tags": []
   },
   "outputs": [],
   "source": [
    "driver.quit() # 탭 닫기"
   ]
  },
  {
   "cell_type": "markdown",
   "id": "6b3ea905-5f8c-4344-a7f2-d12ea49ffab6",
   "metadata": {},
   "source": [
    "## 윈도우 컨트롤"
   ]
  },
  {
   "cell_type": "code",
   "execution_count": 127,
   "id": "0acdea6c-9d7e-4c44-921f-724b5251f8c6",
   "metadata": {
    "tags": []
   },
   "outputs": [],
   "source": [
    "from selenium import webdriver\n",
    "from selenium.webdriver.common.by import By\n",
    "from selenium.webdriver.chrome.options import Options\n",
    "import time\n",
    "\n",
    "options = Options()\n",
    "# options.add_argument(\"--start-maximized\")\n",
    "# options.add_argument(\"--headless=new\") \n",
    "options.add_experimental_option(\"detach\", True) #\n",
    "\n",
    "url = 'http://naver.com'\n",
    "driver = webdriver.Chrome(options=options)\n",
    "driver.get(url)\n",
    "time.sleep(2)"
   ]
  },
  {
   "cell_type": "markdown",
   "id": "c3fbd413-382c-4af5-af7e-610ecfeb820f",
   "metadata": {},
   "source": [
    "## 창 너비,높이 구하기"
   ]
  },
  {
   "cell_type": "code",
   "execution_count": 29,
   "id": "e71971e1-6e09-4d6e-9c34-af963cbb287b",
   "metadata": {
    "tags": []
   },
   "outputs": [
    {
     "name": "stdout",
     "output_type": "stream",
     "text": [
      "945px 1012px\n"
     ]
    }
   ],
   "source": [
    "size = driver.get_window_size()\n",
    "width = size.get(\"width\")\n",
    "height = size.get(\"height\")\n",
    "\n",
    "print(str(width)+\"px\"+\" \"+str(height)+\"px\")"
   ]
  },
  {
   "cell_type": "markdown",
   "id": "058766f1-09d8-4ed3-92cf-669485b783e3",
   "metadata": {},
   "source": [
    "## 창 크기 조절"
   ]
  },
  {
   "cell_type": "code",
   "execution_count": 32,
   "id": "30b91aaf-a658-458d-ae8c-632c8dd1d837",
   "metadata": {
    "tags": []
   },
   "outputs": [],
   "source": [
    "driver.set_window_size(800, 600)"
   ]
  },
  {
   "cell_type": "markdown",
   "id": "9d778d54-27b0-4ecc-a4dc-c5150b35085d",
   "metadata": {},
   "source": [
    "## 스크린 상에서의 창 좌표"
   ]
  },
  {
   "cell_type": "code",
   "execution_count": 34,
   "id": "1bfff2a4-5012-4faa-84da-9220efdcd7e2",
   "metadata": {
    "tags": []
   },
   "outputs": [
    {
     "name": "stdout",
     "output_type": "stream",
     "text": [
      "x : 10 y : 10\n"
     ]
    }
   ],
   "source": [
    "position = driver.get_window_position()\n",
    "x = position.get('x')\n",
    "y = position.get('y')\n",
    "\n",
    "print(\"x : \"+str(x)+\" \"+\"y : \"+str(y))"
   ]
  },
  {
   "cell_type": "code",
   "execution_count": 36,
   "id": "c57797cf-f724-4e11-8cda-f1ba8688b57f",
   "metadata": {
    "tags": []
   },
   "outputs": [
    {
     "data": {
      "text/plain": [
       "{'height': 600, 'width': 800, 'x': 200, 'y': 200}"
      ]
     },
     "execution_count": 36,
     "metadata": {},
     "output_type": "execute_result"
    }
   ],
   "source": [
    "driver.set_window_position(200,200)"
   ]
  },
  {
   "cell_type": "code",
   "execution_count": 38,
   "id": "63d84e9b-1ce2-4d18-ac98-3b68e067127e",
   "metadata": {
    "tags": []
   },
   "outputs": [],
   "source": [
    "# 창 크기 최대화\n",
    "driver.maximize_window()"
   ]
  },
  {
   "cell_type": "code",
   "execution_count": 40,
   "id": "336b1e91-b62e-4d9a-a7a5-8ef4ba3cf440",
   "metadata": {
    "tags": []
   },
   "outputs": [],
   "source": [
    "# 창 크기 최소화\n",
    "driver.minimize_window()"
   ]
  },
  {
   "cell_type": "code",
   "execution_count": 42,
   "id": "7852e8e8-6caf-4d77-a1ae-9b313b859a3d",
   "metadata": {
    "tags": []
   },
   "outputs": [],
   "source": [
    "# 전체 화면\n",
    "driver.fullscreen_window()"
   ]
  },
  {
   "cell_type": "code",
   "execution_count": 44,
   "id": "403a2c4e-fd26-435b-8561-e955e817795f",
   "metadata": {
    "tags": []
   },
   "outputs": [
    {
     "data": {
      "text/plain": [
       "True"
      ]
     },
     "execution_count": 44,
     "metadata": {},
     "output_type": "execute_result"
    }
   ],
   "source": [
    "# 스크린 샷\n",
    "driver.save_screenshot('./image.png')"
   ]
  },
  {
   "cell_type": "code",
   "execution_count": 128,
   "id": "ace90d6b-bbb7-4b62-b001-ae86236a34dd",
   "metadata": {
    "tags": []
   },
   "outputs": [],
   "source": [
    "driver.close()"
   ]
  },
  {
   "cell_type": "markdown",
   "id": "63b91f1e-cc4f-45ab-98e0-162027dd617a",
   "metadata": {},
   "source": [
    "## 예제) 네이버 블로그"
   ]
  },
  {
   "cell_type": "code",
   "execution_count": 5,
   "id": "713a4e4a-c2c1-4d58-b7fb-e211e268c823",
   "metadata": {
    "tags": []
   },
   "outputs": [],
   "source": [
    "from selenium import webdriver\n",
    "from selenium.webdriver.common.by import By\n",
    "from selenium.webdriver.chrome.options import Options\n",
    "import time, random, pandas as pd\n",
    "\n",
    "options = Options()\n",
    "options.add_argument('--window-size=974,1047')\n",
    "options.add_argument('--window-position=-7,0')\n",
    "options.add_experimental_option(\"detach\", True)"
   ]
  },
  {
   "cell_type": "code",
   "execution_count": 7,
   "id": "5da82dc6-1dd0-4d14-bf30-0b08fb17ed55",
   "metadata": {
    "tags": []
   },
   "outputs": [],
   "source": [
    "# 웹드라이버 로드\n",
    "driver = webdriver.Chrome( options = options)"
   ]
  },
  {
   "cell_type": "code",
   "execution_count": 8,
   "id": "ca91d07c-ec61-4009-8ae2-0ac2ef3bcd62",
   "metadata": {
    "tags": []
   },
   "outputs": [],
   "source": [
    "# 조건 설정\n",
    "where = 'blog'\n",
    "query = '인공지능'\n",
    "dateform = '20240101to20240625'\n",
    "url = f'https://search.naver.com/search.naver?ssc=tab.{where}.all&query={query}&sm=tab_opt&nso=so%3Ar%2Cp%3Afrom{dateform}'\n",
    "# url = f'https://search.naver.com/search.naver?where={where}&query={query}&sm=tab_op&nso=so:r,p:from{dateform}'\n",
    "fname = f'{where}_{query}_{dateform}'"
   ]
  },
  {
   "cell_type": "code",
   "execution_count": 11,
   "id": "9a373108-90d1-4637-8dbb-7f7508297f24",
   "metadata": {
    "tags": []
   },
   "outputs": [],
   "source": [
    "# url 접속\n",
    "driver.get(url)\n",
    "time.sleep(random.randint(2,3))"
   ]
  },
  {
   "cell_type": "markdown",
   "id": "784f8fcb-3eab-49bf-ac37-c4a0f722553e",
   "metadata": {},
   "source": [
    "## excute_script()\n",
    "자바스크립트 함수(스크롤다운) 실행하기 execute_script(\"스크립트\", 요소) 해당 페이지에 스크립트를 만들 때 사용합니다. 요소는 필수 파라미터는 아니고 요소가 있으면 요소에 스크립트가 실행되고 없으면 전체 페이지에 스크립트가 움직입니다.\n",
    "\n",
    "js코드를 인자로 넣을 수 있어 브라우저 화면을 제어 할수 있게 된다. 스크롤을 하기 위해 뿐만아니라 다른 동적이벤트를 작성할 수 있다.\n",
    "\n",
    "* 화면상 스크롤 위치 이동 : scrollTo(x,Y) ,scrollTo(x,Y+number)\n",
    "* 화면 최하단으로 스크롤 이동 : scrollTo(0, document.body.scrollHeight)\n",
    "* 화면을 움직이고 페이지 로드 기다리기 : time.sleep(second)\n",
    "* 함수 호출시 전달인자들이 배열 형태로 저장된 객체 : arguments \n",
    "    * (arguments[0].click(), sample)\n",
    "    * sample요소의 첫번째 인자에 click()을 명령"
   ]
  },
  {
   "cell_type": "code",
   "execution_count": 13,
   "id": "58e0c945-5402-43f2-8258-7b25fb0a878c",
   "metadata": {
    "tags": []
   },
   "outputs": [],
   "source": [
    "#네이버 뷰는 최대 1050까지만 노출\n",
    "# 스크롤 10번\n",
    "for i in range(10):\n",
    "    driver.execute_script('window.scrollTo(0, document.body.scrollHeight);')\n",
    "    time.sleep(random.randint(2, 3))"
   ]
  },
  {
   "cell_type": "code",
   "execution_count": 15,
   "id": "cd66ec88-6cd3-4fdc-bd98-1055a7dce8c5",
   "metadata": {
    "collapsed": true,
    "jupyter": {
     "outputs_hidden": true
    },
    "tags": []
   },
   "outputs": [
    {
     "name": "stdout",
     "output_type": "stream",
     "text": [
      "{'title': '엔비디아 주가 전망 시가총액 버블일까 실적 인공지능 가속기', 'text': '엔비디아 주가 전망 시가총액 버블일까 실적 인공지능 가속기 인공지능 AI열풍의 최전선에 있는 엔비디아는 1일간 시가총액 1위를 하고 다시 밀려났습니다. 최근들어서 거품이라는 이야기도 나오고 있죠. 과거 1999년 IT열풍이 한창일때, 나스닥 지수는 5000선까지 올랐었습니다. 그 거품의 중심에는 시스코가 있었죠. 닷컴 버블 붕괴 직전 시스코는 마이크로소프트(MSFT)...', 'date': '8시간 전'}\n",
      "{'title': '구글 알파벳 주가 전망, 1주만 사고 후회(feat. 배당금, 역투자, 인공지능)', 'text': '배당금, 역투자, 인공지능) 투자를 하면 항상 후회를 하게되죠. 그때 샀어야해, 팔았어야해, 더 떨어지면 살걸 등.. 매 순간마다 선택에 따라 수익률이 크게 차이날 수 있기... 인공지능 테마가 정말 무서울정도로 긴시간 지속되고 있습니다. 구글은 계속 긴장하고 있다 구글이 지금처럼 상승하기까지 어려움이 없었던 것은 아닙니다. 2022년부터 정리해고를 해왔고...', 'date': '2주 전'}\n",
      "{'title': '인공지능 삼성 노트북 갤럭시북4 엣지 가벼운 14인치 노트북 스펙 가격', 'text': '오늘은 인공지능 더해진 14인치 노트북 갤럭시북4 엣지 가격 스펙을 간단히 소개해 드리겠습니다. 갤럭시북4 엣지 14인치 갤럭시북4 엣지는 14인치와 16인치 두 종류로 출시됐으며... 에 초점을 둔 기기답게 윈도우 코파일럿(Copilot) 버튼이 키보드에 배정되어 있습니다. 텍스트와 대략적인 스케치만 있으면 알아서 예술 작품을 완성시켜주는 Cocreator...', 'date': '2일 전'}\n",
      "{'title': '[인공지능 개발자] 석사가 아닌 고졸도 취업이 가능한 루트', 'text': '인공지능 개발자 석사가 아닌 고졸도 취업이 가능한 루트 현재, IT 산업에서 가장 주목받고 있는 기술, AI(Artificial Intelligence)는 얼마 전까지만 하더라도, 유용한 기술인 건 맞지만... 하지만, 현재에는 관련 프로젝트를 수행하는 과정에서 활용할 수 있는 API, 라이브러리 등이 굉장히 많아졌고, 기술의 수준 또한 높기 때문에 과거에는 AI 프로젝트를 0%부터...', 'date': '3주 전'}\n",
      "{'title': '인공지능 VS 인간, 주식투자 대결 승자는? 로보어드바이저 투자 수익률 공개', 'text': \"인간과 인공지능(AI) 중 누가 더 투자를 잘할까요? AI는 빅데이터 분석, 머신러닝 알고리즘 등을 활용하여 인간보다 더 정확하고 수익성 높은 투자를 할 수 있다는 주장이... 'AI vs 인간' 주식 투자 대결 (2023년) ① 주최: 한국거래소 ② 참가자: 투자 플랫폼 10곳 vs 개인 투자자 100명 ③ 투자 기간: 6개월 ④ 투자 대상: KOSPI 200 지수 구성 종목 ⑤ 결과...\", 'date': '2024.05.10.'}\n",
      "{'title': '삼성전자 갤럭시북4 프로360 AI 인공지능 노트북 리뷰', 'text': 'AI 인공지능 관련된 기능들을 확실히 쾌적하게 사용이 가능했습니다. 보통 가성비를 생각하여 적당한 사양에서 타협을 보고 구입을 할건데 지금까지 갤럭시북 프로를 구형부터... 키보드의 숫자키는 생산성을 높였고, 상단의 지문인식 전원키는 보안성 강화해서 인가된 사용자외엔 철저하게 배제 해주니 이같은 AI 활용하기 편리한 노트북이...', 'date': '4주 전'}\n",
      "{'title': '애플 주가 인공지능 AI 아이폰 통화녹음 WWDC 내용 정리', 'text': '애플 주가 인공지능 AI 아이폰 통화녹음 WWDC 내용 정리 매년 6월이면 WWDC 가 열립니다. 매번 어떤 아이디어를 가지고 나타날까 궁금해지는데, 이번에는 애플도 AI 인공지능이라는 타이틀을 들고 나왔습니다. 드디어 애플도 시장에 참전하려는가 봅니다. 내용을 다 보진 못했지만 일부 확인후 요약본을 추가로 본 결과 애플이 어떤 생각으로 을 대하고...', 'date': '2주 전'}\n",
      "{'title': '인공지능AI와 ETF투자하는 법 feat. 핀트 후기', 'text': \"그 중 오늘은 AI 인공지능을 기반으로 투자에 투여하는 시간과 어려운 투자 의사결정을 대신해주고 개인 맞춤 포트폴리오 제공을 통해 자동으로 매수매수를 진행하는 [핀트] 에 대하여 알아보고자 한다. AI 투자 서비스 '핀트' 핀트는 모바일 1:1 맞춤형 간편투자 서비스로, 자체 개발한 투자 운용플랫폼 프레퍼스와 AI 간편투자 엔진 아이작이 개인의 투자...\", 'date': '2024.05.01.'}\n",
      "{'title': '앱제작 인공지능 기술이 비용을 확 낮춰드림', 'text': '하지만, 인공지능 기술로 앱제작을 하게 되면 이런 문제들을 전혀 신경 쓰지 않아도 됩니다. 인공지능 기술은 C, Java, Javascript 등 낡은 프로그램 언어와 똑같이 구현 대상에 아무런 제약이 없을 뿐만 아니라 표현 자유도(UI, UX)까지 매우 높으며 개발된 앱 제품은 오류 발생이 없습니다. Android, iOS 용 모바일 앱과 PC Windows, WebApp 프로그램까지 한 번에 제작할 수 있어...', 'date': '6일 전'}\n",
      "{'title': '데이터베이스 뜻 인공지능 코딩 데이터분석 취업 빅데이터학원', 'text': '인공지능분석 기술은 요즘에 4차산업혁명 새로운 직업군중에 고액 연봉 복지 대우를 받을 수 있는 직무 입니다. 빅데이터학원 에서 요즘 AI 국비지원 수업이 가능한데 어떤... 요즘에는 이런걸 이용해서 마케팅 영업 , 새로운 신기술 사업에 응용 할 수 있기 때문에 취업 AI 분야가 떠오르고 있다는 것 입니다. 뜻 같은 경우도 비슷하다고 보시면...', 'date': '4주 전'}\n",
      "{'title': '릴리스 AI , 유튜브 영상 자동 요약 인공지능', 'text': '아무리 인공지능 AI인들 그 긴 영상을 어떻게 깔끔하게 요약한단 말인가. 그런데 사용해보면, 이 기능들 진짜 미.쳤.다. 일단 아래 화면은 요약본이다. 영상은 22분짜리인데, 그냥 몇 초만에 요약해낸다. 요약본을 읽는데는 채 5분도 걸리지 않았다. 요약 상태도, 오, 훌륭하다. 서비스는 다양하다. 전체 스크립트를 볼 수 도 있게 되어있다. 요약본보다 더 자세한 내용을...', 'date': '3일 전'}\n",
      "{'title': '2024 월드IT쇼 LG전자 부스 방문 인공지능 AI 가전 새로운 미래를 만나다', 'text': '2024 월드IT쇼 LG전자 부스 방문 인공지능 AI 가전 새로운 미래를 만나다 안녕하세요. 사진&IT 크리에이터 자유분방입니다. 2024년 월드IT쇼 World IT Show 2024가 2024년 4월 17일(수)~19일(금)... LG전자 인공지능, AI가 보여주는 가전의 미래 LG전자부스는 빛의선율, 물의 순환, 바람의 시선, 흙 그리고 삶, 초월적 연결 5가지 테마로 되어 있었어요. 그리고 입구에는 LG 알파블...', 'date': '2024.04.19.'}\n",
      "{'title': '골프, 야구, 축구 등 스포츠에도 활용되는 인공지능(AI)', 'text': '인공지능(AI) 기술이 골프, 야구, 축구 등 다양한 스포츠 영역에 활용되고 있습니다. AI가 골프 경기 결과를 예측하고, 야구 경기에선 사람 대신 투구를 심판하고, 심지어 AI가 축구... [축구] 코너킥 전술 짜는 AI 구글 산하 인공지능(AI) 조직인 딥마인드는 지난 3월 영국 프로축구 구단 리버풀FC와 함께 AI 기반 축구 전술 코칭 프로그램을 개발했다고 발표했습니다....', 'date': '4주 전'}\n",
      "{'title': '애플 주가전망 미국주식 인공지능 시총1위 아이폰판매 기대', 'text': '애플 주가전망 미국주식 인공지능 시총1위 아이폰판매 기대 애플의 시가총액이 마이크로소프트를 다시 제치고 1위가 되었습니다. 생성형인공지능 애플인텔리전스 발표이후 시장의 반응이 상당히 뜨겁습니다. 애플시총1위 애플 주가전망 미국주식 시총 1위 유지 그렇지만 주가에 대한부담감도 상당합니다. 결국 앞으로 좋아질 애플의실적이 선 반영된 것이죠. 이주가를...', 'date': '2주 전'}\n",
      "{'title': '애플 주가 급등, AI 인공지능 애플 인텔리전스 게임 체인저 될까? 국내 관련주', 'text': 'AI 인공지능 관련주로 부각 애플 인텔리전스(Apple Intelligence)라는 인공지능 전략을 공개되면서 게임 체인저가 될 것으로 기대되고 있습니다. 회사는 WWDC(연례 세계 개발자 회의)에서 아이폰, 아이패드, 맥 컴퓨터에 AI를 적용하는 계획을 자세히 설명했는데요. 이제 각 디바이스에는 OpenAI의 ChatGPT를 시작으로 자체 및 타사 모델이 사용될...', 'date': '2주 전'}\n",
      "{'title': '무료 이미지 생성 AI 사이트 (인공지능이 자동으로 그림 그려주는 사이트)', 'text': '무료 이미지 생성 AI 사이트 (인공지능이 자동으로 그림 그려주는 사이트) 도비호 | 2024년 05월 28일 | 댓글 없음 카테고리: 인공지능, ChatGPT | 태그: 인공지능 블로그에 쓸 원하는 사진이 유료 밖에 없어 인공지능한테 그림을 그리라고해서 사용했다. 이 그림이나 사진을 그려주는 사이트를 모아 보았다. 목차 1 (AI)이 그림을 그려준다...', 'date': '4주 전'}\n",
      "{'title': '인공지능 감성 AI로봇 리쿠 리뷰, 가격 미운우리새끼 김승우 로봇', 'text': \"얼리어답터 리뷰/IT정보 인공지능 감성 AI로봇 리쿠 리뷰, 가격 미운우리새끼 김승우 로봇 by 엔돌슨 2024. 5. 22. 인공지능 감성 AI로봇 리쿠 리뷰, 가격 미운우리새끼 김승우 로봇 안녕하세요. 오늘은 국내 최초로 인공지능 감성 로봇으로 인정받은 '리쿠'에 대해 리뷰해보려고 합니다. 최근 방송된 미운우리새끼에서 김승수가 리쿠 로봇을 소개하는...\", 'date': '2024.05.22.'}\n",
      "{'title': '연금저축보험 이전 후 수익 인증, 인공지능 투자 성과 어떨까?', 'text': '최근엔 인공지능이 운영하는 상품을 추천하고 있습니다. 가입 후 연금을 받기까지 또는 연금을 받으면서도 상품을 운용해야 초장기 상품이기 때문에 상품 하나 가입하면 끝이 아니라 상황에 맞게 운용을 해야 합니다. 가입자가 직접 펀드를 바꾸고, ETF를 매수할 수 있다면 좋겠지만 쉽지 않죠. 적어도 제 주변에는 없었습니다. 은 연금저축계좌에 넣은...', 'date': '2024.04.08.'}\n",
      "{'title': 'AI 엑스포 인공지능 트렌드 기술 적용 사례 셀바스AI 기업 탐방기', 'text': 'GPT 서비스 시작으로 다양한 인공지능 서비스가 빠르게 성장하기 시작하였습니다. 물론, 일부 아쉬운점이 있었는데요. 스타트 기업 및 론칭 예정에 가까운 사업들이 많다는... 4) CO-Assistance 업무 생산성 SELVAS는 자체적 개발 음성 지능, 필기 지능 솔루션을 개발하였는데요. 복잡한 문서 및 이미지 파일을 텍스트로 전환하는 Selvy OCR, 대화 내용을 기록할 수 있는 Selvy...', 'date': '2024.05.14.'}\n",
      "{'title': '인공지능과 생명공학의 만남, 디지털 육종 기술', 'text': '따라서 디지털 육종이라는 것은 유전체 분석 및 인공지능 기술을 활용해 더 효율적으로 원하는 기능을 가진 고품질의 종자를 생산할 수 있는 융합 기술로 볼 수 있습니다. 2024년 10대... 빅데이터와 인공지능 기술의 적용이 아예 없는 0단계부터 육종가의 개입 없이 완전 자동화된 5단계까지 총 6단계로 나눌 수 있습니다. 디지털 육종의 단계별 기술을 자세히 살펴보면...', 'date': '2024.04.27.'}\n",
      "{'title': 'AI 인공지능 엔비디아 주가 국내 반도체 관련주 - SK하이닉스 KODEX 핵심장비 ETF', 'text': 'AI 인공지능 엔비디아 주가 국내 반도체 관련주 - SK하이닉스 KODEX 핵심장비 ETF 금리가 떨어지지 않고 있지만, 파월 의장의 비둘기파 발언으로 미국 주식시장은 활기를 되찾았습니다. 지금 주식시장의 가장 큰 화두는 바로 AI 입니다. 엔비디아는 그 중심에 서 있죠. 최근 좀 지지부진하긴 했지만, 2년전과 비교해보면 500% 이상 상승한 것을 볼 수 있습니다....', 'date': '2024.05.10.'}\n",
      "{'title': '소프트웨어 SW 코딩 엔트리 인공지능 with 햄스터로봇', 'text': '오늘 제가 읽은 책은 영진닷컴의 엔트리 인공지능 with 햄스터로봇 개정판인데요. 엔트리와 햄스터 로봇으로 쉽게 배우는 인공지능 교육 교재입니다. 엔트리는 우리나라에서 만든 소프트웨어 프로그램입니다. 누구나 무료로 사용할 수 있는 SW 교육 프로그램인데요. 대부분의 학교에서 이 SW를 사용해서 소프트웨어 학습을 진행하고 있습니다. 작품을 만드는 과정이...', 'date': '2주 전'}\n",
      "{'title': '인공지능이 변화시킬 미래, 주거환경엔 어떤 영향을 미칠까? 2024 AI EXPO', 'text': \"작년 초, 거대언어모델(LLM)의 상용화를 현실화시킨 Open AI사의 'Chat GPT'는 인공지능이 상용화되었다는 사실을 전 세계적으로 널리 알린 신호탄이었습니다. 그리고 1년 뒤 국내 최고의... 그리고 올해 5월 Open AI사는 'Chat-GPT-4o'를 통해 거대언어모델을 넘어 이미지와 영상도 AI로 콘텐츠화할 수 있고, 이제는 이 인간의 감정까지 읽을 수 있는 무서운 현실을...\", 'date': '2주 전'}\n",
      "{'title': 'AI 인공지능 개발자 비전공자 국비지원 취업 내일배움카드 교육 학원', 'text': '오늘은 AI개발자 취업 과정 그리고 인공지능 개발자 분야 국비지원 교육 과정에 대해서 알려드리려고 합니다~! AI취업 내일배움카드 알아보시는 분들에게 좋은 소식일듯 합니다 AI... 인공지능 개발자 교육 커리큘럼 안내 3. 비전공자 기준 IT진로 고민이라면 ? 4. 내일배움카드 사용할때 주의할점 5. IT현실 조언 / 팩트정리 1. AI 개발자 취업 전망이 좋은이유 학원...', 'date': '2024.05.25.'}\n",
      "{'title': '인공지능 관련주 투자 전망 국내외 6곳', 'text': \"AI 음성 비서 'NUGU', 지능형 CCTV 등 AI 기술 기반의 제품 및 서비스를 선보이고 있습니다. 최근에는 자회사 SK쉴더스를 통해 AI 기술 기반의 보안 솔루션 사업을 강화하고 있습니다. 전문가들은 SK 텔레콤이 AI 기술을 통신, 보안, 미디어 등 다양한 분야에 적용하며 성장할 것으로 전망하고 있습니다. 이처럼 국내 주요 IT, 통신, 보안 기업들이 ...\", 'date': '4주 전'}\n",
      "{'title': '복지 서비스에도 활용되는 인공지능(AI)', 'text': \"다양한 복지 서비스에 인공지능(AI)이 활용되고 있습니다. 인공지능이 안부 전화를 거는 'AI 노인 말벗 서비스'를 비롯해 발달장애인 돌봄에도 인공지능(AI) 기술이 적용되고, AI로 전력·통신사용량 감지해 1인가구의 고독사를 예방하기도 하는데요. 복지 서비스에 활용되는 (AI)의 활용 사례를 윤커뮤니케이션즈와 함께 살펴보세요! 이 안부 전화 거는...\", 'date': '2주 전'}\n",
      "{'title': '한미반도체 주가 전망 주식 인공지능AI 테마 관련주', 'text': '한미반도체 주가 전망 주식 인공지능AI 테마 관련주 국내주식이 미국 나스닥에 비해서는 재미없고 지루하다는 평이 많습니다. 하지만 일부 몇개 종목은 몇년간 엄청난 상승률을... 인공지능 AI테마의 중심 단순히 실적이 좋아진다는 이유만으로, 이정도로 주가가 오르기는 쉽지 않습니다. 하지만 한미반도체는 (AI)수혜주로 분류되고 있어요. 그 배경에는...', 'date': '2주 전'}\n",
      "{'title': '새로운 AI 시대의 시작 Windows 11 Copilot + PC 인공지능 노트북의 등장!', 'text': '요즘 인공지능 기반 서비스가 유행입니다. 저 역시도 윈도우 및 엣지 브라우저를 통해 코파일럿을 자주 사용하고 있습니다. 무료로 사용할 수 있으면서 그림 생성은... 여느 인공지능 기반 서비스보다 더 많은 기능과 향상된 성능을 제공하는 Copilot+ PC는 앞으로 우리의 PC 사용 경험을 크게 변화시킬 것입니다. 새로운 기능들과 함께 제공되는 뛰어난...', 'date': '2주 전'}\n",
      "{'title': '인공지능으로 국방규격 품질관리 시작한다! <국방표준종합정보시스템(KDSIS) 고도화 사업 완료>', 'text': '* PLM : Product Lifecycle Management ** BOM : Bill of Materials 이 밖에 로봇처리자동화(RPA*) 및 인공지능(AI) 기술을 적용하여 단순․반복적인 업무를 자동으로 처리하고 방대한 분량의 기술 자료도 신속하게 검증하여 국방규격의 품질을 크게 높일 수 있게 되었습니다. * RPA : Robotic Process Automation 이러한 기능 개선은 최근 첨단 무기체계의 개발 추세를 반영하는...', 'date': '1일 전'}\n",
      "{'title': '애플 iOS18 아이폰 기능, 어떤 인공지능 기능들이 추가될까?', 'text': 'Siri는 물론이고, 이메일, 메시지, 사파리, 사진 편집 등에서도 인공지능을 활용한 기능들이 추가될 것으로 예상되고 있습니다. 그리고 그 중심에는 Open AI의 ChatGPT가 있을 것이라는... 그리고 메일과 메시지에서는 인공지능을 활용한 스마트 답장 기능을 사용할 수 있을 것으로 예상되고 있습니다. 대형 언어 모델 기반으로 이메일과 메시지 내용 등을 분석해...', 'date': '3주 전'}\n",
      "{'title': '신일 무소음 선풍기 BLDC 모터에 인공지능 탑재 3D14W', 'text': 'BLDC 모터를 탑재해 12단계로 세부적인 풍량 조절은 물론 소음이 거의 없고, 인공지능 기능을 탑재해 스스로 풍량을 조절하고 3D 좌우 상하 입체 자동회전이 가능해 필자에게 딱... 게다가 인공지능 탑재로 주변 온도에 맞춰 자동으로 바람세기가 설정되도록 사용할 수 있다. 각도 조절도 가능한데, 30도/60도/120도 좌우 조절은 물론 상하 105도까지 조절이 가능해 상황에...', 'date': '2024.05.16.'}\n",
      "{'title': 'AI 상담 서비스 인공지능 챗봇 고객센터 클라우드게이트 프로모션 정보', 'text': '인공지능 기술이 발전하면서 이는 고객 상담 분야에도 큰 영향력을 가져왔습니다. 사람이 직접 상담을 하던 과거와 달리 학습된 AI 솔루션을 통해 고객 응대를 하는 기업들이 많아지고 있죠. 앞으로도 인공지능 분야로는 지속적인 발전이 예상되기에 솔루션 사용은 꼭 필요해지는 상황인데요. AI 상담 고객센터 대행에 괜찮은 클라우드게이트 AI 서비스 및...', 'date': '4주 전'}\n",
      "{'title': '인공지능(AI) 시대, 늘어나는 반도체 수요, 이번 기회를 놓치면 끝이다? 26조원 규모 반도체 산업지원 방안', 'text': '이는 전세계적으로 인공지능(AI) 투자가 확대되면서 반도체 수요가 급증했고, 메모리 반도체 가격이 상승한 덕분인데요. 하지만 그만큼 경쟁이 치열하다는 것을 의미하기도... 06.07~2025.06.06)) #웰컴저축은행 #웰컴디지털뱅크 #저축은행 #반도체 #파운드리 #HBM #미니팹 #팹리스 #반도체클러스터 #삼성전자 #SK하이닉스 #메모리 #메모리반도체 # #AI', 'date': '2주 전'}\n",
      "{'title': 'AI 종류 인공지능 직업 개발자 교육 국비지원 취업 내일배움카드 학원', 'text': '오늘은 AI종류 어떤것들이 있는지 인공지능 직업 에 대해서 알아보고 AI 교육 국비지원 수업과정 커리큘럼 강의 강좌 수업 내용까지 알아보려고 합니다 요즘에 인공지능개발자 취업, AI개발자 취업 많이 하시려고 하시는데요~ 파이썬 데이터분석, 딥러닝 기술이 필수여서 이런 부분에 맞게 교육과정을 받을 수 있는지 제대로 알아보고 본인 계획 목적에 맞게 기술...', 'date': '2024.05.25.'}\n",
      "{'title': '미국 AI 인공지능 관련주 수혜주 종류', 'text': '갑자기 AI 인공지능 관련주 수혜주에는 무슨 기업이 있는지 궁금하시데요. 재설씨를 위해 부랴부랴 인공지능 관련주에 대해 공부해서 분야별로 대표 주식들 알려드렸어요~ 오늘 포스팅은 6월 23일 기준으로 상담 내용이니 참고해주세요! 목차 1. 미국 증시 분위기 2. 미국 AI 관련주 수혜주 전망 3. 관련주 종류 4. ARM 주가 추세 5. AI 인에이블링 관련주...', 'date': '6시간 전'}\n",
      "{'title': 'AI프로필 제작 캐럿으로 나만의 인공지능 사진 및 그림 만들기', 'text': '요즘은 인공지능을 기반으로 앵커를 대체하기도 하고 CF 영상에 AI 캐릭터가 등장하기도 합니다. 정말 신기한 세상에 살고 있으나, 종종 어떻게 만드는지 궁금하기도 했는데요. 예전에는 뭔가 이질적이고 어색하다는 느낌이 들었다면, 요즘은 무엇이 진짜인지 헷갈릴 정도로 사진이나 캐릭터의 퀄리티가 높더라고요. 이번 글에서는 매일 1장 누구나 무료로...', 'date': '2024.03.25.'}\n",
      "{'title': '인공지능 딥러닝 용산 조립컴퓨터 견적 출고', 'text': '24코어 32스레드를 지원하고 있는 고사양 프로세서로 인공지능 개발용 컴퓨터를 제작할때 많이 선택받고 있는 고사양 프로세서 입니다. 기본클럭 3.2GHz 이며 최대클럭 6.0GHz를... 깔끔하게 선 정리를 완료합니다. 테스트를 완료하고 작동이 잘 되는 상태로 출고 합니다. 이렇게 딥러닝 용산 조립컴퓨터 포스팅을 마칩니다. 감사합니다.', 'date': '2024.05.21.'}\n",
      "{'title': '인공지능 ai 음악 만들기 저작권 정보 및 만드는 방법', 'text': '다만, 저작권을 가지려면 창작자가 있어야 하는데 ai 음악은 장작 주체가 인공지능이기 때문에 저작권 귀속 주체를 정하기 어렵습니다. 즉, 현재까지는 ai 음악에 대한 저작권이 없는 상태이며 법적 기준이 모호한 상황입니다. 때문에 ai 음악을 생성하면 저작권 없이 사용이 가능합니다. 본 포스팅에서는 필모라 AI 음악 생성기를 통해 음악 만드는 방법...', 'date': '2시간 전'}\n",
      "{'title': '사회적 고립가구 위한 인공지능(AI) 스피커 돌봄 서비스 시범 시행, 5월 24일까지 신청 접수', 'text': '사회적 고립가구를 위한 안전망✋ 서울주택도시공사 등 4개 기관이 사회적 고립가구를 위한 인공지능(AI) 스피커 돌봄 서비스를 시범 시행하고, SH공사 강동구 소재 다가구 매입임대주택 사회적 고립가구 100세대를 대상으로 5월 13~24일 신청 접수받습니다! 서울주택도시공사, 스피커로 사회적 고립가구 24시간 돌본다 서울주택도시공사와 서울시복지재단...', 'date': '2024.05.13.'}\n",
      "{'title': '인공지능의 시대: 2016년의 붐과 그 이후 #AI강의', 'text': \"영화 속 인공지능 '사만다'의 목소리는 스칼렛 요한슨이 맡았죠. 영화의 결말은 주인공이 '사만다'에게 깊은 애정을 품게 되지만, 결국 사만다가 업그레이드되어 그를 떠나버리는 이야기로 마무리됩니다. 이 결말은 인공지능이 인간과의 관계에서 어떻게 행동할지를 생각하게 만듭니다. 이 영화는 과 인간의 관계에 대한 많은 시사점을 던집니다....\", 'date': '2주 전'}\n",
      "{'title': '구글 홈미니 네스트 미니 2세대 인공지능 AI 스피커 4년 사용후기', 'text': '현재 인공지능 ai 스피커가 많이 보편화되면서 많은 ai 기술력을 가진 스피커가 많이 나오고 있습니다! 하지만 구글에서 나온 네이스트 미니 2세대를 사용해보면서 솔직한 후기를... 좋은 인공지능 스피커라는 점입니다. 처음에 연동만 잘 해놓으면 음성을 통해 음악도 들을 수 있고 날씨도 물어볼 수 있 검색도 할 수 있고 다양하게 활용할 수 있는 게 바로 구글 홈미니...', 'date': '2024.05.11.'}\n",
      "{'title': '마사(MASA) AI 대장 코인 탈중앙화 인공지능 데이터 프로젝트 소개 및 전망', 'text': '어떤 기업이 시총 1위를 하느냐는 사실 우리에게 의미는 없고, 두 회사 모두 인공지능에 엄청나게 앞서가고 있다는 것에 집중할 필요가 있습니다. 반도체 시장은 최근 다소 부침을 겪었지만 현재 엄청난 호황이죠. 국내 기업인 하이닉스만 봐도 알 수 있는데요. 하이닉스의 경우 ATH를 지속적으로 기록하고 있습니다. 그만큼 에 대한 기대감이 얼마나...', 'date': '14시간 전'}\n",
      "{'title': '무선이어폰 갤럭시버즈3 프로 스템 생기는 이유!! 실시간 번역 방법과 탑재 그런데 배터리 용량은?', 'text': '실시간 번역 기능과 인공지능 탑재 삼성전자가 무선이어폰 최신 모델 출시를 앞두고 있는 갤럭시버즈3 프로에 갤럭시S24 울트라에 탑재된 인공지능 기능과실시간 번역 기능을 탑재할 것으로 보입니다. 외국인과 통화를 하면서 실시간으로 어떤 내용을 말하는지 번역을 해 준다는 실시간 번역 기능이 무선이어폰에도 적용된다는 것입니다. 세상이 참 빠르게 변하고...', 'date': '4주 전'}\n",
      "{'title': '인공지능(AI)과 구글의 위기??', 'text': '인공지능(AI)과 구글의 위기? 구글(Google, 알파벳A)은 이세돌과 바둑 대결로 유명한 알파고를 시작하며 인공지능 시대를 열었습니다. 또한 세계적으로 수많은 인공지능 전문가를 배출해 내면서 인공지능의 선두 주자 중에 하나로 알려져 있습니다. 그런 구글이 최근 AI를 장착한 검색엔진을 유료화를 검토하고 있다고 합니다. 구글(Google)은 그동안 검색은 무료이고...', 'date': '2024.04.15.'}\n",
      "{'title': '한글과컴퓨터가 론칭한 인공지능 AI 뉴스레터 구독해 보니', 'text': \"OpenAI가 세상에 선보인 ChatGPT를 신호탄으로 인공지능을 활용한 다양한 서비스가 빠른 속도로 등장하고 있다. 전 세계가 미래 먹거리로 부상한 AI에 모든 역량을 투자하고 있기에... 최신 인공지능 트렌드와 국내에는 잘 알려지지 않은 일상 속 도움이 되는 AI 소식을 깔끔하게 정리해서 격주에 한 번씩 발행한다. 이는 국내 오피스 프로그램 기업인 '한글과컴퓨터(한컴)...\", 'date': '2024.04.17.'}\n",
      "{'title': 'AI활용능력 시험 AICE/한국인공지능자격 시험개요 종류 방식 일정', 'text': '① 초등학생들 대상으로 하는 Future ② 중고등학생 대상으로 하는 Junior ③ 비전공자에게 권장되는 Basic ④ 코딩이 필요한 Associate ⑤ 최고급 Professional 자격증기본정보 AICE 홈페이지 링크 ↓↓↓↓↓↓↓↓ 한국인공지능자격 한국협회에서 시행중인 자격시험임. 이미 수년전 부터 시행해오고 있음. 자격증취득 절차 시험일정 한국자격센터...', 'date': '4주 전'}\n",
      "{'title': 'AI 인공지능 관련주 산업 이제는 클라우드에서 온디바이스 AI로 전환', 'text': '안녕하세요 오쿤입니다 :) 글로벌 증시를 좌우하고 있는 산업 중 하나를 말해보라 하면 역시 인공지능 관련주 산업을 빼놓을 수 없는 것 같습니다. 작년부터 벌써 2년 가까이 시장을 이끌어가고 있다 해도 과언이 아닌 것 같습니다. 이러한 AI 관련주 산업에서도 새로운 변화가 생겨나고 있습니다. 기존 클라우드 서비스 중심으로 전개되던 산업 흐름이...', 'date': '3주 전'}\n",
      "{'title': '[포토샵]최신인공지능 기능 사용하기', 'text': '포토샵의 인공지능 기능이 점점 좋아지는 것 같습니다. 이것을 사용해보려고 하면, 알아야 할 것이 있어서 포스팅 합니다. 먼저 포토샵을 띄워봅니다. 새로 시작해봅니다. 흠.. 인공지능 이미지생성 기능이 보이지 않습니다...왜 일까요? 최신 기능은 베타버전에서 사용해볼 수 있습니다. 베타버전을 사용하기 위해서 creative cloud 앱을 열어보겠습니다. 포토샵...', 'date': '4일 전'}\n",
      "{'title': '지포스 RTX 4090 AI 인공지능 개발용 최고사양 조립PC', 'text': '오늘은 인텔 14세대 I9-14900K 모델과 지포스 RTX 4090 그래픽카드로 AI 인공지능 개발용 최고사양 조립PC를 제작 하였습니다. 충분한 사양과 성능으로 AI 개발용으로 사용하기... AI 인공지능 개발용 조립PC를 제작할때 많이 선택받고 있는 최고사양 그래픽카드 지포스 RTX 4090 입니다. 이번에 사용된 제조사는 기가바이트 회사 모델로 화이트 색상에 AERO 모델을 넣어...', 'date': '2주 전'}\n",
      "{'title': '감성 인공지능 AI 로봇 리쿠', 'text': '▸ 재미톡톡 동화구연 ▸ 율동, 동요 ▸ 안전 교육 7대 영역 ▸ 한글 사전으로 하는 단어 알기 ▸ 로봇 코딩 수업 활용 ▸ 영어 학습 ▸ 달콤 감성 ART ▸한국사 ▸기후와 환경 ▸AI 로봇 리쿠는 단순한 로봇이 아니라 인공지능 기능을 갖추고 있습니다. ▸감성 대화 ▸얼굴 인식 ▸원 운영 관리 프로그램 ▸ 수업 AI로봇 리쿠의 활용 지원 프로그램으로는...', 'date': '2주 전'}\n",
      "{'title': '인공지능 때문에 사라질 직업들, 현실은?', 'text': \"흥미로운 것은 '인공지능 때문에'라는 단서가 붙어 있다는 점입니다. 02 약 8년 전, 인공지능이 아직은 머나먼 미래로만 여겨지던 시점에 우리는 예술, 창작, 심리와 같은 '고차원적'인 정신 활동이 인간의 전유물이자 최후의 보루라 생각했네요. 실제 현실은 어떻게 됐을까요? AI 시대의 초입을 사는 우리는 이제야 봅니다. 재미(?)있게도 2016년 당시 '이 대체...\", 'date': '2024.05.04.'}\n",
      "{'title': '강원특별자치도, 2024년 인공지능(AI) 바우처 지원사업 역대 최대 성과 달성', 'text': '안녕하세요~ 강원특별자치도입니다~ 인공지능(AI)!!! 여러분은 AI 잘 활용하고 계시나요? 강원에서는 여러 산업 분야에서 인공지능의 도입과 확산을 위한 노력을 기울이고 있는데요. 강원의 산업 인공지능 역량이 빛을 발해 역대급 국비를 확보하는 성과를 거두었어요. 과학기술정보통신부 주관 2024년 (AI) 바우처 지원사업에서 국비 13억 원을 확보하며 총...', 'date': '5일 전'}\n",
      "{'title': '인공지능 로봇과 그림그리기 대회를 할 수 있는 어린이과학관', 'text': '로봇이 우리 생활에 일상적으로 자리 잡는다는 게 아직 상상이 가지 않지만, 불이 난 건물에서 로봇으로 사람을 구하는 시뮬레이션 게임 등을 통해 앞으로 인공지능 기계와 함께하는 우리 삶이 어떻게 변화할지 간접적으로나마 느낄 수 있습니다. 이곳에서 가장 인기 있었던 전시는 로봇과 낱말맞추기 대결하거나 그림 그리기 대결을 하는 것이었습니다. 사람과...', 'date': '2024.05.22.'}\n",
      "{'title': '페르소나 AI 부스 AICC 인공지능 체험 후기.', 'text': \"인공지능 기술이 하루가 멀다 하고 빠르게 발전하고 있어서 속도를 제대로 따라가지 못하면 소외를 받고 있는듯한 기분을 느끼고 있는데요. 그래서 오늘 미래를 선도할 기술을 한자리에서 만나볼 수 있는 IT 전시회 '스마트테크 코리아'를 다녀왔습니다. 그중에서 챗봇과 콜봇으로 각광을 받고 있는 페르소나AI 부스를 방문해서 직접 AICC 을 체험해 봤는데요....\", 'date': '5일 전'}\n",
      "{'title': '인공지능과 함께 디지털 인재로! AI, 학교 수업에 들어오다!?', 'text': '2022년 초·중등학교 교육과정 총론에서는 인공지능 기술 발전, 사회적 문제 해결을 위한 협력, 학생의 특성과 진로를 고려한 맞춤형 교육 수요 상승 등을 변화된 모습으로 보고... _AI와 인공지능 리터러시 인공지능 리터러시는 기술을 이해하고 적절하게 활용하는 능력을 의미합니다. 디지털 대전환 시대에 살고 있는 우리는 산업 전 분야를 넘어...', 'date': '2024.03.26.'}\n",
      "{'title': '챗GPT 관련주로 본 인공지능 투자 전략 Open AI 전망', 'text': '최근 인공지능 기술의 급격한 발전과 함께 챗GPT는 투자자들 사이에서 큰 관심을 받고 있다. 특히 OpenAI가 발표한 GPT-4o는 인공지능의 새로운 시대를 여는 중요한 전환점으로 평가받고 있다. 이 글에서는 챗GPT 관련주를 중심으로 투자 전략과 Open AI의 미래를 살펴보고자 한다. 초보 투자자들이 투자에 접근할 때 유용한 정보를 제공하는...', 'date': '2024.05.22.'}\n",
      "{'title': '충청 교육 - [ICT인공지능 온라인 교육] 플랫폼 기반 AI과정·IoT메이커 과정 교육생 모집', 'text': '충청 교육 - [ICT인공지능 온라인 교육] 플랫폼 기반 AI과정·IoT메이커 과정 교육생 모집 안녕하세요. 취업비서 인크루트 입니다. 충청권 지역 거점을 통해 신기술 인력을 양성하고 개발자를 지원하여 특화산업에 AI 등 신기술 도입 및 활용 활성화 도모를 위해서 진행되는 충청권 ICT이노베이션스퀘어, 충청 교육 - [ICT 온라인 교육] 플랫폼 기반...', 'date': '2주 전'}\n",
      "{'title': 'AI발명, 권리는 누구에게? 인공지능 지식재산권', 'text': '인공지능(artificial intelligence, A.I.) 인간의 지적 능력 중 일부 또는 전체를 인공적으로 구현하는 기술 인공지능은 인간의 지능을 대신해서 일을 할 수 있는 소프트웨어나 하드웨어를 모두 포함하는 큰 개념입니다. 기계학습은 기존의 데이터를 분석하여 자체적으로 동작하는 것을 말하는데요. 이때, 기존의 데이터를 만드는 방법에 따라 지도 학습, 비지도 학습, 강화...', 'date': '2024.05.14.'}\n",
      "{'title': 'AI(조류 독감/인플루엔자) 관련주이면서 AI(인공지능) 수혜주들.. 꿈틀하나? (ft. 노바백스, 모더나, 화이자...', 'text': \"미국 증시 인공지능 테마의 중심에 있는 엔비디아가 뜨거운 가운데 또 다른 ‘AI'에 관한 뉴스들도 보여 가져와 봤습니다. 또 다른 AI는 ’조류 인플루엔자(조류 독감)‘을 말하는... 신약 개발사들이 인공지능(AI)으로 인해 신약 개발 기간 및 비용을 줄일 수 있는 대표적인 향후 수혜 업종으로도 언급이 많이들 되고 있으니 ‘AI+AI’ 테마로 관심을 받을 가능성도 있지...\", 'date': '3주 전'}\n",
      "{'title': '애플 WWDC 앞두고 주가는 하락 / MS의 인공지능과 Xbox', 'text': \"마이크로소프트는 인공지능 연구개발을 OpenAI에 효과적으로 아웃소싱하고 있다고 말했다. 사티아 나델라의 말은 아니고 Okta의 CEO인 토드 맥키논의 말.... 답인지, 아무것도 확신할 수 없기 때문이다. 인공지능 외에도 Xbox 콘솔 신제품도 공개했다. Microsoft’s Xbox refresh can't compete with its leaked roadmap © billyfreeman, 출처 Unsplash\", 'date': '3주 전'}\n",
      "{'title': \"[ChatGPT 교육] '생성형 인공지능의 이해 및 사용법' 실습 강의 진행(5회차)\", 'text': \"한국폴리텍대학 인재개발원(남원시 소재) 직급별 교육에서 일반직 3급 약 50명의 직원분들을 대상으로 '생성형 인공지능의 이해 및 사용법'에 관한 주제로 실습형 강의를 했습니다.... 듀얼 모니터와 헤드셋이 갖추어진 전산실에서, LLM을 이용한 텍스트 생성, 음악 생성, 이미지 및 동영상 생성 등 다양한 생성형 툴의 이론부터 실습까지 콘텐츠를 만드는...\", 'date': '1일 전'}\n",
      "{'title': '간단한 인공지능으로 앱 만들기 하자', 'text': '(nocode)와 인공지능(AI) 기술의 발전으로 누구나 쉽게 자신만의 앱을 만들 수 있는 시대가 도래했습니다. 노코드란? 프로그래밍 언어를 모르는 사람들도 복잡한 코드를 작성하지 않고도 앱이나 웹사이트를 만들 수 있게 해주는 기술입니다. 사용자는 드래그 앤 드롭 같은 간단한 인터페이스를 통해 앱의 구성 요소를 선택하고 조합할 수 있습니다. 의 역할...', 'date': '2024.05.14.'}\n",
      "{'title': '[인공지능] 당신의 뇌를 바꾸시겠습니까? (EBS 지식채널, 머스크의 개발)', 'text': '인간 vs 인공지능대비 일론 머스크의 도전(BCI 개발) 지금 인류 최고의 관심사는 인공지능(AI, Artificial Intelligence) 개발. 이세돌과 AI 바둑대결 인류 수준의 학습능력, 문제해결능력을 넘어 창의적 사고까지 만들어낼 것이라는 기대감은 우리보다 나은 인류를 지배할 수 있을만큼 빠르게 발전하고 있는 #개발 #발전 에 대한 경계감 이미...', 'date': '2024.05.25.'}\n",
      "{'title': '국내 ai 관련주 전망, 인공지능 주식 top3', 'text': '오늘은 국내 ai 관련주 전망, 인공지능 주식 top3에 대해 알아보겠습니다. 미국 빅테크들의 인공지능 투자 확대 소식이 불거지면서 국내에서도 ai 관련주가 강세를 보이고 있습니다. 안그래도 요즘 계속해서 인공지능에 대한 여러 가지 시스템들이 공개가 되면서 많은 관심이 쏠리고 있는데요. 관련주들에는 어떤 것들이 있는지 살펴보도록 하겠습니다. 국내 ai...', 'date': '2024.05.01.'}\n",
      "{'title': '인공지능 AI 블루투스 스피커 하만카돈 스펙 기능 추천', 'text': '하만카돈 스피커 특징 하만카돈 PVS400A-S의 가장 큰 특징은 360도 전 방향으로 음성을 인식할 수 있는 인공지능 기능입니다. 이를 통해 지니뮤직 뿐만 아니라 라디오, 팟캐스트, 날씨... 지금까지 살펴본 하만카돈 인공지능 AI 스피커 하만카돈은 가격 대비 탁월한 성능을 제공하기 때문에 우리 일상생활속에서 다양한 공간에서 좋은 음악을 제공받고 싶은...', 'date': '2024.04.25.'}\n",
      "{'title': '한컴AI 인공지능 IA기업으로 발돋움', 'text': '한컴에서 한국판 코파일럿이라고 할 수 있는 인공지능 AI 프로그램인 한컴 어시스턴트를 내년 상반기에 출시한다고 합니다. 이번 한컴 어시스턴트는 스마트 문서 작성 엔진을 기반으로 여러 LLM(대형언어모델)과 연결되어 동작하는 AI 지능형 문서 작성 도구로 자연어로 명령하면 LLM을 거쳐 내용을 이해하고 의도를 분석해 자동으로 문서 생성을 도와주는 기술입니다....', 'date': '2024.01.11.'}\n",
      "{'title': '대구시교육청, 인공지능(AI)·에듀테크 활용 초등 영어수업교사 역량 강화 연수', 'text': '대구시교육청, 인공지능(AI)·에듀테크 활용 초등 영어수업교사 역량 강화 연수 대구 뉴스/교육 2024. 5. 8. 16:55 대구시교육청은 5월 8일(수) 대구교육연수원에서 관내 초등 영어수업교사 및 영어회화전문강사 80여 명을 대상으로 ‘(AI)·에듀테크 활용 역량 강화 연수’를 개최한다. 대구시교육청 이번 연수는 디지털 대전환 시대에 대응하여 초등...', 'date': '2024.05.08.'}\n",
      "{'title': '인공지능의 폐해, 기사의 완성도 저하가 우려', 'text': '요즘 뉴스 기사들을 보면 (인터넷 기사겠죠) 인공지능, 특히 ChatGPT를 활용한 이미지가 눈에 많이 띄입니다. 문제는... 바로 문제는요. 그 이미지들이 기사와는... #인공지능 #ChatGPT #AI활용 #뉴스기사 #금융감독원 #직원이탈 #조직쇄신 #딜로이트컨설팅 #연봉 #업무강도 #조직문화 #AI생산성 #AI이미지 #뉴스품질 #AI결과물활용...', 'date': '2일 전'}\n",
      "{'title': '인공지능 작곡 사이트 SOUNDRAW AI작곡 프로그램 사용 후기', 'text': '얼리어답터 리뷰/IT정보 인공지능 작곡 사이트 SOUNDRAW AI작곡 프로그램 사용 후기 by 엔돌슨 2024. 4. 7. 인공지능 작곡 사이트 SOUNDRAW AI작곡 프로그램 사용 후기 SOUNDRAW는 AI 기술을 이용한 작곡 프로그램 중 하나로 영어를 기반으로 제작되었지만 홈페이지에서 한글 자동 번역 기능을 활성화할 수 있습니다. 복잡한 부분은 영어와 한글이 섞여 나오기도 하지만...', 'date': '2024.04.07.'}\n",
      "{'title': 'ETRI, 『감성 인공지능 : 인간 이해와 감성 증강』 발간', 'text': '본 도서는 ETRI 휴먼증강연구실 기획으로 KAIST, 중앙대학교, 한양대학교, 상명대학교, 숙명여자대학교, 서경대학교, 한국지능정보사회진흥원, ㈜이모셔니스트, ㈜디스퀘어 등 감성 인공지능 분야에서 활발히 활동하고 있는 산·학·연 전문가 13명이 참여해 공동 집필한 것으로, 율곡출판사에서 펴냈습니다.', 'date': '2024.05.20.'}\n",
      "{'title': '공공·민간 맞춤형 일자리 정보 추천 ··· ‘인공지능(AI) 일자리 매칭’ 서비스', 'text': 'AI가 일자리 추천 민간취업포털 전 직종으로 확대 6월부터 구직자는 고용서비스 통합포털 고용24에서 ‘인공지능(AI) 일자리 매칭’ 서비스를 통해 나에게 맞는 맞춤형 일자리를 추천받을 수 있습니다. 특히 일자리 정보도 현재 워크넷 및 민간취업포털 정보기술(IT) 직종에서 민간취업포털 전 직종으로 확대됩니다. 오는 10월까지 단계적으로 늘려갈 계획으로 앞으로...', 'date': '2주 전'}\n",
      "{'title': '화원고, 교육과정 연계 인공지능 융합 프로그램···인공지능·에듀테크 활용 수업 진행', 'text': '화원고, 교육과정 연계 인공지능 융합 프로그램···인공지능·에듀테크 활용 수업 진행 카테고리 없음 2024. 5. 16. 15:50 화원고등학교는 오는 5월 24일(금)까지 교육과정과 연계한 인공지능 융합 프로그램을 운영한다고 16일(목) 밝혔다. 올해 처음 선보이는 이 프로그램은 영어, 수학, 과학, 역사, 기술, 음악, 체육, 중국어, 정보 등 9개 교과, 11명의 교사가 생성형 AI와...', 'date': '2024.05.16.'}\n",
      "{'title': '[주기동] 설명가능 인공지능 기술 동향 및 핵심 과제 (2134, 20240522) (1/2)', 'text': '서론 지난 몇 년간 인공지능(Artificial Intelligence: AI)의 비약적인 발전은 실생활의 여러 응용 분야에 AI 시스템의 활용을 촉진하였다. 특히, 기계학습(Machine Learning: ML) 및... 학습한 인공물이나 개념의 품질을 추론할 수 있는지 여부는 아직 미해결 과제 생성형 모델을 설명하기 위한 유망한 방법으로는 기계론적 해석 가능성(mechanistic interpretability)...', 'date': '1일 전'}\n",
      "{'title': 'LG 유플러스 AI 혁신 가속화 인공지능 AX 익시 Company로 도약', 'text': '이번 시간에는 LG유플러스 AI 혁신 가속화 인공지능 익시 AX Company로 도약에대해 알아보도록하겠습니다. AI 인공지능 기술은 이제 일상 속에 자리잡아 가고 있는데요. 스마트폰의 음성 인식 기능부터 가정용 로봇 청소기에 이르기까지, AI 기술은 다양한 형태로 우리 생활 곳곳에 스며들고 있고요. 디지털 기술이 발전함에 따라 AI의 역할은 앞으로 더욱 확대될...', 'date': '3주 전'}\n",
      "{'title': '\"AI(인공지능)가 연령대별 일자리 추천\"… \\'고용24\\' 맞춤서비스 강화', 'text': '* (잡케어) 노동시장 정보 추가 제공 (현재 8종 → 13종, 5종 추가) 전 생애에 걸친 경력단계에서 진로탐색·설계를 지원하기 위해 인공지능(AI)·빅데이터 기반으로 ①직무역량 분석 ②... 편도인 고용지원정책관은 “최근 온라인·디지털 서비스 이용이 증가하는 만큼 앞으로도 (AI) 기술을 접목한 새로운 서비스를 수요자의 의견을 반영해 지속 확대해...', 'date': '3주 전'}\n",
      "{'title': '인공지능과의 안전한 공존, 서울에서 묻다 AI 서울 정상회의', 'text': '인공지능에게 지배당하는 미래, 영화에서 한 번쯤은 보셨을 겁니다. 인공지능이 발전하면서 수많은 가짜 뉴스와 가짜 영상들이 만들어지고 있는 지금, 더 이상 SF 영화 속 허무맹랑한 이야기만은 아닌데요. 인공지능에 의해 미래가 위험해지는 것을 막고자 지난 11월 영국 블레츨리에서는 AI 안전 회의가 진행되었습니다. 미국, 독일, 일본, 프랑스 등 우리나라를...', 'date': '4주 전'}\n",
      "{'title': '직장에서 쓰기 좋은 AI 챗봇 인공지능 챗 GPT 종류 총 정리!', 'text': '직장에서 쓰기 좋은 AI 챗봇 인공지능 챗 GPT 종류 총 정리! 요즘 인공지능 챗 GPT 등을 많이 사용하고 있습니다. 대학생들이 과제를 할 때 맞춤법이나 개요를 잡아주기도 하고, 직장인들이 업무 관련 파일을 만들거나 메일을 쓸 때에도 챗 GPT가 아주 멋지게 도와주곤 하죠. 챗 GPT의 유용함이 잘 알려진 이후로 여기저기서 AI 챗봇을 출시하고 있는데요. 오늘은 AI...', 'date': '3주 전'}\n",
      "{'title': '인공지능과 코딩으로 꿈꾸던 북튜버 되기', 'text': \"광명도서관 이야기가 있는 코딩 책 읽기를 통해 확장된 사고력과 상상력을 인공지능, 코딩 등의 디지털 기술로 직접 구현해 보는 특색있는 프로그램이 찾아옵니다.... '를 읽은 후 다양한 독후 활동으로 책의 내용을 파악하고 창의적인 생각들로 발전시킨 후 전문 강사의 지도 아래 , 메타버스, 코딩 등의 디지털 기술을 배우게 됩니다. 그리고 이를...\", 'date': '4일 전'}\n",
      "{'title': 'DX 디지털 대전환 시대 AX 인공지능 대전환 AI Home과 UI, UX의 변화는?', 'text': '오늘의 책, 인공지능관련된 책인데요. 어렵지 않은 아주 쉽고 일상생활에 접목된 얘기가 가득 준비되어있어요. 바로 출발해볼까요? 책 제목은 <DX 디지털 대전환 시대 AX 인공지능 대전환> 시작합니다! 컨티뉴언 독서 인사이트 이 책의 프롤로그에서 볼 수 있듯이 변화를 말하고 있습니다. , 지금 2024년의 가장 큰 변화의 핵이라 할 수 있죠. 여러분들은 어떻게...', 'date': '4주 전'}\n",
      "{'title': '과기정통부, 인공지능-반도체 전략 구상 연구개발 현장 점검', 'text': '방문하여 인공지능(AI)·디지털 분야 연구자들과 소통하고 AI, AI반도체 등 이니셔티브 관련 R&D 추진현황을 점검하였습니다. 이번 방문은 지난 4월 9일 윤석열 대통령의 AI-반도체 이니셔티브 추진 방향 제시 이후 정부가 최근 발표한 게임체인저 기술 분야의 이니셔티브 실현을 위한 ETRI의 연구개발(R&D) 현황을 살펴보고, 지난 5월에 열린 AI 서울 정상회의에서 다룬...', 'date': '2주 전'}\n",
      "{'title': '[과학향기 Story] 딥러닝, 똑똑한 인공지능을 만든 비밀', 'text': '사람처럼 지능을 가진 기계에 대한 꿈은 컴퓨터가 없던 시대까지 거슬러 올라갈 수 있을 정도로 그 역사가 오래되었다. 그러다 1950년, 영국 수학자 앨런 튜링이 기계 역시 생각할 수... 하지만, 사람들은 능동적으로 문제를 해결할 수 있는 을 원했다. 이에 인공신경망, ‘딥러닝’에 대한 관심이 커지기 시작한 것이다. 딥러닝은 인간의 신경 구조를 본떠...', 'date': '4주 전'}\n",
      "{'title': '인공지능 반려로봇 에일릭 아이들의 새로운 친구 🤖어린이 로봇 선물 추천', 'text': '얼리어답터 리뷰/IT정보 인공지능 반려로봇 에일릭 아이들의 새로운 친구 🤖어린이 로봇 선물 추천 by 엔돌슨 2024. 4. 20. 인공지능 반려로봇 에일릭 아이들의 친구 🤖어린이 로봇 선물 추천 요즘 AI 인공지능 반려로봇이 인기라서 딸아이에게 에일릭 로봇하고 루나 로봇을 사주었습니다. 그 외에도 다양한 로봇 강아지를 사주었는 데, 그중에서 에일릭 로봇은 아주...', 'date': '2024.04.20.'}\n",
      "{'title': '인공지능(AI) 디지털교과서 개발에 대해 학교 현장의 의견을 듣는다', 'text': '첨부파일 [교육부 06-14(금) 석간보도자료] 인공지능(AI) 디지털교과서 개발에 대해 학교 현장의 의견을 듣는다.pdf 2024년 인공지능(AI) 디지털교과서 현장적합성 검토 지원단 발대식 개최 현장 활용도가 높은 인공지능(AI) 디지털교과서 개발을 위해 전 과정에서 의견 제시 교육부(부총리 겸 교육부장관 이주호)와 한국교과서연구재단(이사장 전우홍)은 6월 14일(금)...', 'date': '2주 전'}\n",
      "{'title': '스마트워크 및 인공지능 활용 방법 무료 강의 안내', 'text': '인공지능 등의 활용법을 익혀서 더 스마트하고 신속한 업무 스킬을 배울 수 있는 과정이 오픈됩니다. IT 특강 [ 스마트 업무 솔루션 ] 일정 : 2024년 6월 15일 토요일 오전 10시 ~ 오후 12시 30분(2시간 30분) 장소 : Zoom(비대면) 강사 : 구기모 수강 대상 : 업무 효율 및 생산성 향상을 원하는 재직 및 구직 여성 강의 내용 : 클라우드와 을...', 'date': '2024.05.22.'}\n",
      "{'title': '인공지능융합대학 2024년 공학설계입문 작품전시회 심사 진행', 'text': '인공지능융합대학 2024년 공학설계입문 작품전시회 심사 진행 안녕하세요. 인공지능융합대학 2024년 공학설계입문 작품전시회가 있었습니다. 출강하고 있는 학교에서 작품전시회가 있어 평가 위원으로 참석했습니다. 한 학기 동안 창의설계입문 과목을 통해 디자인 싱킹을 공부하고 아이데이션을 하여 시제품을 제작합니다. 이번 학기에도 다양하고 아이디어 있는...', 'date': '3주 전'}\n",
      "{'title': 'AI 제품사진 인공지능 이미지 편집 사이트, 드랩아트 사용 후기', 'text': '그래서 오늘은 제품사진 및 이미지들을 생성형 인공지능 서비스로 깔끔한 이미지, 원하는 이미지로 변경해주는 사이트를 소개해드리려고 합니다. 제가 소개해드리는 사이트는... 스마트스토어 운영 방법 등 여러가지 꿀팁들을 공식 블로그에서 제공하고 있습니다. 참고하시면 좋을 것 같네요. 지금까지 제품사진 편집 사이트, 드랩아트 사용 후기를 알려드렸습니다.', 'date': '2024.05.08.'}\n",
      "{'title': '제품사진 이미지 촬영 인공지능 드랩아트 쇼핑몰 제작 쉽게 가능', 'text': \"제품사진 이미지 촬영 인공지능 드랩아트 쇼핑몰 제작 쉽게 가능 안녕하세요. 사진&IT 크리에이터 자유분방입니다. 예전에 아는 분이 쇼핑몰 제작 후 사진을 촬영하기 위해서... 이번 글에서는 스마트스토어, 쇼핑몰 등을 운영할 때 제품사진을 쉽게 수급할 수 있는 기반 사진 제작사이트로 '드랩아트'를 소개 드려보도록 하겠습니다. 드랩아트 Draph Art 바로...\", 'date': '2024.04.30.'}\n",
      "{'title': \"'KT 인공지능 자격증 단기 취득반' ️ 교육생 모집\", 'text': '강남구 KT 인공지능 자격증 단기 취득반 교육생 모집 신청기간 2024년 5월 29일 ~ 6월 11일 13:00까지 신청대상 강남구 거주 미취업 청년 (19세~39세) 교육기간 6/24(월)~7/5(금), 매주 월-금 10시-18시 교육장소 충현교회 제3교육관 (강남구 논현로98길 22) 교육과정 자격증 취득 교육(KT AICE Basic 과정) ✔️비전공자도, 문과생들도 쉽게 도전 가능한 Basic 과정...', 'date': '4주 전'}\n",
      "{'title': '동영상 편집 프로그램 캡컷의 생성형 인공지능AI 사용후기', 'text': '바로 생성형 인공지능AI. 코파일럿이나 미드저니에서 사용하던 것 처럼 텍스트를 입력하고 그 결과 값으로 그림을 그려주는 것이다. 캡컷 생성형 인공지능AI의 장점은 어떤 프로그램과 제휴했는지는 정확히 알 수 없지만 영어가 아닌 한글로 텍스트를 입력할 시 그림을 그려준다! 게다가 무료! 1:1 그림파일도 만들어주고 9:16 비율 그림도 만들어주고 매우 좋다! 근데...', 'date': '2024.05.05.'}\n",
      "{'title': '서빙로봇 인공지능 애완 로봇 강아지 아이보 백터', 'text': '이번 시간에는 서빙로봇 인공지능 애완 로봇 강아지 아이보 백터에 대해 알아보도록 하겠습니다. 인공지능 기술의 발달로 로봇도 진화하고 있는데요. 인공지능이란 사람처럼 학습하고 추론할 수 있는 기계의 능력을 말합니다. 은 데이터를 분석하고 패턴을 인식해 스스로 문제를 해결하고 결정을 내릴 수 있어, 음성 인식, 이미지 분석, 로봇공학 등 다양한 분야에...', 'date': '2024.05.19.'}\n",
      "{'title': '인공지능 AI 기초 상식을 통한 AI 요점 정리', 'text': '인공지능은 인간의 지능을 모방하거나 대체하기 위해 고안된 기술입니다. AI도서는 크게 3가지로 구분이 됩니다. ANI, AGI, ASI인데요. ANI는 특정 목적을 위해 제한된 범위 내에서만... 인간의 개입이 최소화되어 인공신경망이 데이터를 직접처리하고 학습합니다. 인공신경망은 인간의 신경망을 모방한 구조로 여러 층으로 이루어져 있습니다. 딥러닝 모델에서...', 'date': '2024.03.22.'}\n",
      "{'title': '초등학교 진로수업 - 인공지능 기초 코딩', 'text': '코딩하는 딩가샘입니다 인공지능 수업을 하려고 연제구에 있는 초등학교에 왔어요~~ 오늘은 KT AI 코디니로 신호등도 만들어 볼 예정입니다.! 인공지능에 대해서 배워보고 실습하는 방법도 자세히 알려 주었어요~ 신호등 만들기 시작! 간단한 신호등을 만들어 보았어요~ 2시간 안에 코딩까지 해야 해서 부지런히 키트 조립을 해야 합니다. 키트 조립이 되면 코딩을 해서...', 'date': '6일 전'}\n",
      "{'title': 'WWDC 2024, 애플의 인공지능 파트너십 계획 발표 예정', 'text': 'WWDC 2024 주요 내용 올해 WWDC의 주요 발표 내용은 인공지능(AI)에 중점을 둔 새로운 소프트웨어 업데이이트로 예상이 되고 있다. 블룸버그의 레포트에 따르면, 애플은 iOS 18애... 마무리 애플이 시리를 내놓았을 때만 해도 분야의 선도주자였다. 시리가 빠르게 이 시장을 잠식해 나가리라는 기대는 당연해 보였다. 하지만, 결과적으로 애플은 구글...', 'date': '2주 전'}\n",
      "{'title': '인공지능 조련사, 프롬프트 엔지니어', 'text': '그 사이 인공지능(AI)은 빠르게 발전해 텍스트, 이미지, 영상을 한 번에 이해해 생성하고, 농담도 던집니다. AI를 접목하고 있는 기업도 늘고 있는데요. 이에 따라 새로운 직업군이... 국내 AI 스타트업은 연봉 1억 원에, 구글이 투자한 스타트업은 연봉 3억∼4억 원에 채용하기도 했답니다. AI로 매일 우리는 새로운 세상으로 나아가고 있습니다. 여기서는...', 'date': '4주 전'}\n",
      "{'title': \"온라인 무료 공개강좌 'K-무크'···인공지능·숏폼 미디어창작·디자인 등 22개 강좌 신설\", 'text': '인공지능·디자인 등 K-무크 강좌 22개 신설 정부가 운영하는 한국형 온라인 공개강좌 ‘K-무크(K-MOOC)’에 22개 강좌가 신설됐습니다. 교육부와 국가평생교육진흥원은 4월 24일 신규... 디지털 교양분야에 선정된 ‘놀라운 증명’, 디지털 기초분야에 선정된 ‘과 캐글분석’, ‘ 활용 숏폼 미디어창작자로 수익화하기’ 등 국민의 디지털 역량을...', 'date': '2024.05.02.'}\n",
      "{'title': '[KISTI 뉴스] ‘인공지능 윤리’에 대한 이슈브리프 발간', 'text': 'KISTI, ‘인공지능 윤리’에 대한 이슈브리프 발간 - 인간과 인공지능의 조화로운 공존 방안 제시 - 한국과학기술정보연구원(원장 김재수, 이하 KISTI)은 인공지능 윤리(AI Ethics): 인간과 인공지능의 조화로운 공존 방안에 대한 KISTI 이슈브리프를 발간하였다. 전환(AI Transformation, AX) 시대로 진입하면서 AI는 일상생활과 산업 전반에 걸쳐 혁신적인...', 'date': '4주 전'}\n",
      "{'title': 'AI, 일상에 물들다. AX(인공지능 전환) 시대', 'text': \"하지만 챗GPT와 같이 기존 인공지능들과 차원이 다른 모습을 보여주는 인공지능이 등장하면서, DX를 넘어 AX(AI Transformation) 시대로의 전환이 필요하다는 목소리가 점차 나오고 있습니다. © 픽사베이 정부도 이러한 AI 트렌드의 변화를 인지하고, AI 일상화 시대를 앞당기기 위해 2024년 9,090억 원을 투입해 '대한민국 도약 방안'을 발표한 바...\", 'date': '2024.04.03.'}\n",
      "{'title': '시작되는 인공지능 법률 서비스 경쟁, 돌아봐야 할 점은?', 'text': '나만의 인공지능 변호사 최근 OpenAI사의 GPT가 업데이트되어, 사용자가 본인의 GPT를 이른바 ‘커스터마이징’(customizing)할 수 있게 되었습니다. 이에 법적인 쟁점을 분석해줄 수... 선고, 사건번호 2022구합89524)에 대한 분석) 그렇다면 변호사가 필요하면 항상 이렇게 ChatGPT를 커스터마이징해야 하는 건가요? 아예 법률만 전문으로 공부한 서비스는...', 'date': '2024.05.24.'}\n",
      "{'title': '<엔트리 인공지능 with 햄스터 로봇> 기대평 이벤트', 'text': '엔트리와 햄스터 로봇으로 시작하는 인공지능 프로그래밍 안녕하세요! 인공지능을 활용해 재미있고 유익한 프로그래밍 활동을 해볼 수 있는 <엔트리 인공지능 with 햄스터 로봇> 개정판이 출간하였습니다. 이번 개정판은 최신 버전의 엔트리로 전체를 업데이트하였고 또한 일부 챕터는 소재를 재구성하였는데요. 도서 출간을 기념하여...', 'date': '2주 전'}\n",
      "{'title': '인공지능 기술의 미래를 이끄는 챗GPT - 혁신과 발전의 중심', 'text': '인공지능 기술은 현재 우리의 삶과 사회에 놀라운 변화를 가져오고 있다. 그 중에서도 최근 몇 년간 주목을 받고 있는 기술 중 하나는 챗GPT다. 챗GPT는 자연어 처리와 이해를 위한... 인공지능 기술의 발전은 우리의 삶에 긍정적인 영향을 미치지만, 동시에 윤리적인 문제와 사회적인 영향에 대한 고려가 필요하다. 그렇기에 지속적인 논의와 연구가 필요하다....', 'date': '2주 전'}\n",
      "{'title': 'MWC24 바르셀로나 통신과 인공지능의 융합 SKT AI 가 그리는 통신사업의 미래', 'text': '특히 ‘AI의 인간화’를 전면에 부각하며 인공지능으로 달라질 일상에 주목했습니다. SK텔레콤 역시 ‘AI, 변화의 시작점’을 주제로 텔코(Telco·통신사) 중심의 인공지능(AI) 기술 및 서비스를 선보였는데요. 전시 내용에 대해 좀 더 구체적으로 살펴보겠습니다. SKT는 올해도 바르셀로나 ‘피라 그란 비아(Fira Gran Via)’의 메인 전시관인 3홀 중앙에 대형...', 'date': '2024.02.28.'}\n",
      "{'title': '인공지능 개발자 국비지원 교육 문제와 현실(비대면)', 'text': '① 인공지능 국비지원 ② 빅데이터 국비지원 과거와 다르게 웹개발 국비지원보다 위 2가지 국비 교육을 더 많이 볼 수 있는 건 최근 대부분 기업이 인공지능 개발자 채용을 늘리고 웹 개발자 채용을 축소하고 있기 때문입니다. 늘어나는 개발자 채용 그에 맞춰 늘어나는 국비지원 석사 채용 과거 개발자는 석사 급의 인력을 채용했습니다. 혹은 3년 이상...', 'date': '2주 전'}\n",
      "{'title': \"유엔 사무총장, 인류에게 '칼날' 경고, 인공지능이 핵전쟁 위험 증가\", 'text': '안토니오 구테흐스 유엔 사무총장은 인공지능(AI) 사용 확산으로 인해 핵 전쟁의 위험이 증가하고 인류는 이제 \"칼날\"에 처해 있다고 경고했다고 가디아 ( The Guardia n)가 보도했다.... 각국의 억지력 강화를 위해 인공지능(AI)을 활용해 발사 절차가 간소화될 가능성도 있다는 우려가 나온다. 따라서 이제 \"인류는 칼날 위에 있다. 구테흐스는 연설에서 핵무기 사용 위험이...', 'date': '3주 전'}\n",
      "{'title': '[인공지능CCTV] 경기 고양시 덕양구 보험대리점 빌딩 내 침입감지와 보안을 위한 cctv...', 'text': 'AI 영상보안 솔루션 자비스넷 지능형 영상분석 인공지능 cctv 이러한 지능형 영상분석 기능을 바탕으로 AI 영상감시 솔루션을 제공해 드리고 있는데요, \"AI 영상감시 솔루션\"이란 감지된 상황이 실제 위급한 상황인지 아닌지를 딥러닝서버가 2차로 빠르게 분석하여 실제 상황으로 판단 되었을 경우, 실시간 영상과 함께 고객님의 휴대폰으로 긴급 PUSH 알림을...', 'date': '7시간 전'}\n",
      "{'title': 'SK하이닉스 주가 전망...5% 하락에도 인공지능은 장기적 이슈', 'text': '엔비디아를 비롯한 미국 인공지능(AI) 반도체주의 조정으로 투자심리가 위축된 영향이다. 특히 지난 21일 엔비디아가 3% 하락한 영향이다. 24일 한국거래소에 따르면... 그리고 지속적으로 말씀드린 것과 같이 인공지능, 범용(AGI), 초(ASI)와 같은 것들은 단기적인 이슈가 아니라 매우 장기적이고 큰 이슈이다. 따라서 장기적인 관점에서...', 'date': '7시간 전'}\n",
      "{'title': \"[챗GPT특강] '생성형 인공지능의 이해 및 사용법' 실습 강의 진행(3차수)\", 'text': \"한국폴리텍대학 인재개발원(남원시 소재) 직급별 기본교육에서 일반직 6,7급(2차)을 대상으로 '생성형 인공지능의 이해 및 사용법'에 관한 주제로 실습형 강의를 했습니다. 현재 한국폴리텍대학 인재개발원에서는 직급별로 생성형 에 관한 학습이 진행되고 있습니다! 이번 강의는 3월에 이어 3차수이며, 일반직 6,7급 2차 직원분들을 대상으로...\", 'date': '2024.04.29.'}\n",
      "{'title': '파이썬 캐글 인공지능 머신러닝 가이드 사용법', 'text': '인공지능과 머신러닝을 공부하고 사용할수 있는 케글이라는 사이트를 알게 되어 공유하고자 합니다. 케글은 데이터 과학자나 머신러닝 애호가들에게 잘 알려진 플래쇼폼으로 다른... 캐글이란 캐글은 2010년 만들어져 2017년에 구글에서 인수를 하게 되면서부터 다양한 분야에서 활용되고 있습니다. 캐글은 무료이며 경진대회나 기업들이 데이터를 공개하는데...', 'date': '4일 전'}\n",
      "{'title': 'FET 페치 코인 전망 ASI 통합 일정 연기 인공지능 연합', 'text': '비트코인, 이더리움 등 전반적인 가상화폐가 하락하면서 좋지 못한 시기를 이어나가고 있으나 인공지능(AI) 테마의 경우 아쉬운 시세 대비 기대 전망을 가지고 있는 사람들이 많은... 합병을 위한 준비 단계에서 신중한 조정의 일환으로 ASI CEO는 탈 중앙화 초 지능 네트워크 구축을 위한 진전에 이번 일시적인 지연은 영향을 미치지 않는다고 밝혔으니 참고하시기...', 'date': '2주 전'}\n",
      "{'title': '인공지능 대전환(AX) 시대에 인기 있는 AI 기술, 직업, 전문가는?', 'text': '인공지능은 제조, 금융, 유통, 패션산업 등 다양한 분야에서 이미 활용되고 있으며 그 적용 범위가 빠르게 확대되고 있습니다. 이렇게 AI 기술을 다양한 분야에 적용해 새로운... 머신러닝 엔지니어는 머신러닝 핵심 알고리즘을 구현하면서 시스템 실험과 테스트를 실행하는 일을 합니다. 머신러닝 시스템을 직접 설계하고, 머신러닝 정확도를...', 'date': '2주 전'}\n",
      "{'title': '[행사 스케치] 2024 인공지능&빅데이터쇼: 천 개의 AI 고민을 듣다', 'text': \"NHN Cloud는 다양한 산업에 인프라를 제공하는 CSP(Cloud Service Provider)로써, [2024 인공지능&빅데이터쇼(스마트 테크 코리아 2024동시 개최)]에 참여하여 국내 AI 도입 관련... 부스 소개 | NHN Cloud AI 얼라이언스 with 2Digit, Vessl AI NHN Cloud AI 얼라이언스 2024년 6월 19일부터 21일까지 코엑스에서 열린 '&빅데이터쇼 2024'에서 NHN Cloud는 2Digit, Vessl AI와 함께 AI...\", 'date': '1일 전'}\n",
      "{'title': '2024 AI 엑스포 셀바스 AI 부스 방문 및 인공지능 트렌드', 'text': \"2024년 5월 1일(수)~ 5월 3일(금)까지 코엑스 D홀에서 2024 국제인공지능대전이 진행이 되었어요. 저는 첫 번째나 방문을 해보았는데요. 아무래도 2024년의 화두가 '인공지능 트렌드'이다 보니 행사장이 상당히 붐비더군요. 국내 최초이자 최대 AI 전문전시회로 국내기업들은 물론이고 큰 행사인 만큼 해외 기업들도 참여를 했더라고요. 주최는 한국협회...\", 'date': '2024.05.07.'}\n",
      "{'title': '새로운 인공지능 공개 애플 7%대 상승', 'text': '애플 새로운 인공지능 공개 7%대 상승 테슬라 -1.80 엔비디아 -0.71 테슬라 -1.85 MS 1.12% 오늘 개장전 미국 CPI 발표 예정. 내일은 FOMC 결과 발표 이벤트 정부 벨류업 추가 세제 인센티브등 세법 개정안 발표 예정. 은행, 자동차등 수익이 많이 난 기업들 유리 미국 사상최고치 경신 소식등 국내증시 우호적. 짧은 테마주 연속성 없는 흐름 감안하고 접근 현대차 밸류업...', 'date': '2주 전'}\n",
      "{'title': '전력 설비 전선 관련주 대한전선 KBI메탈 애플 AI 인공지능 관련주 브리지텍 에스피소프트 5월 13일', 'text': \"애플 음성인식 인공지능 관련주 재료 - 애플 다음 달 생성형 인공지능(AI) 탑재 음성 비서 '시리' 차세대 버전 공개 예정 소식 브리지텍 상한가 마감하지 못해 아쉬운 모습이지만 관련주 시장보다 강한 모습을 보였습니다. 브리지텍 시간 외에서 상승 모습이라 내일 오전 관심 주로 시초가 지켜볼 생각입니다. 거래 대금과 일봉 차트 위치는 추가 상승 여력이 남아 있어...\", 'date': '2024.05.13.'}\n",
      "{'title': '인공지능&챗GPT 강의 추천 3편 - 생성형AI 뭐길래 난리일까', 'text': 'AI(인공지능)가 세상을 빠르게 바꾸고 있습니다. 저는 훗날 돌아보면 스마트폰 시대를 연 아이폰 혁명 같은 일이 아닐까 생각합니다. 아니, 그 이상의 큰 변화인 것 같다고요. 그런데 막상 챗GPT를 열어보면 이게 뭔지, 이걸 어떻게 써야할지, 왜 혁명이라 하는지 감이 잘 안 오죠. 챗GPT가 그린 LLM 개념 게다가 LLM(Large Language Model, 대형언어모델)이며 생성형 ...', 'date': '2024.01.24.'}\n",
      "{'title': '한글과컴퓨터 주가 전망 : 인공지능에 진심이다.', 'text': '인공지능에 진심이 느껴지는 기업입니다. 한글과컴퓨터 주가 전망 시작하겠습니다. 1. 기업 정보 2. 한글과컴퓨터 주가 분석 3. 한글과컴퓨터 실적 4. 수급 분석 5. 한글과컴퓨터 배당금 6. 지분 현황 7. 인공지능에 진심이다. 8. 한글과컴퓨터 주가 전망 기업 정보 동사는 소프트웨어 개발 및 공급업을 목적으로 1990년 10월 11일에 설립되었으며, 1996년 9월 24일...', 'date': '3주 전'}\n",
      "{'title': '제조업에 인공지능(AI) 입힌다!', 'text': '‘인공지능(AI) 자율 제조 마스터플랜’ 수립 착수 산업통상자원부가 제조업의 공정 혁신과 생산성 제고를 통한 산업 대전환을 위해 ‘인공지능(AI) 자율 제조 마스터플랜’ 수립에... 이에 산업부는 ▲지능형 생산 ▲첨단장비 결합 ▲자율제조 시스템 등을 중심으로 한 마스터플랜을 상반기 중 수립할 계획입니다. 한편, 이날 간담회에서 참석 기업들은 산업 AI가 제조업...', 'date': '2024.03.07.'}\n",
      "{'title': '기업 컨택센터를 인공지능 IPCC, AI 고객센터로 대체한다면 효율적이지 않을까', 'text': \"혹자는 '인공지능이 대체하기엔 아직은 무리가 아닐까?' 생각하겠지만 아니다. 인공지능은 우리가 상상하는 것 이상으로 발 빠른 발전을 이뤄내고 있고 AI 컨택센터 역시 기계음만이 가득한 단순한 안내를 넘어 실제 상담원의 역할을 하는 시대가 왔으니까. 실제로 클라우드 기반 AI 기능을 제공하며 자체적인 고객센터 솔루션을 제공하는 KT A'Cen Cloud의 경우 초기 장비...\", 'date': '3주 전'}\n",
      "{'title': '애플의 WWDC에서 공개할 AI 기능 예상 / 인공지능이 인간의 외로움을 해결할까에 대한 단상', 'text': \"Galaxy AI 번역/요약 인공지능이 사람의 외로움을 해결하는데 도움이 될까? 될 수도 있고, 역효과가 날 수도 있다. 개인적으로는 기대하는 쪽. 영화 'Her'도 그렇고 최근 공개된 ChatGPT-4o도 그렇고 조금씩 사람이 편하게 마음을 열 수 있는 형태의 이 개발되고 있다. Could AI help cure ‘downward spiral’ of human loneliness? 인간의 외로움을 해결하는 AI의 잠재력...\", 'date': '4주 전'}\n",
      "{'title': '인공지능 사관학교 제5기 교육생을 모집합니다!', 'text': '과학기술정보통신부와 광주광역시가 함께하는 AI 고급인재 양성사업 인공지능 사관학교 제5기 교육생을 모집합니다! 기간 2024. 01. 02. (화) ~ 2024. 02. 29. (목) 모집대상 인공지능에 관심있는 만 18세 ~ 만 39세 미취업자 청년 * 대학(원) 휴학 및 졸업생, 취업준비생 누구나 가능 (학력, 전공, 성적, 거주지 등 조건 없음) 교육내용 이론 및 실습 교육 과정 및...', 'date': '2024.01.08.'}\n",
      "{'title': 'AI 인공지능 관련주 대장주 카카오 주가 전망 분석', 'text': 'AI 인공지능 관련주 대장주 카카오 주가 전망 에 관해서 월봉차트 분석해 드립니다. 출처:네이버 금융 실전 분석 최근 3년 매출액은 꾸준히 증가하고 있으며, 영업이익률도... 네이버 금융 AI 인공지능 관련주 대장주 카카오 기업 정보 대표자 정신아 기업구분 카카오 계열사, 코스피 상장 업종 포털 및 기타 인터넷 정보매개 서비스업 설립일 1996년 2월 16일...', 'date': '2024.05.06.'}\n",
      "{'title': '[생성형 인공지능] 피카랩스(Pika)에서 사운드 생성하기', 'text': '생성형 인공지능 피카에서 동영상을 만드는 방법은 다음의 자료를 참고하세요! \" & 최근 생성형 인공지능 피카(Pika)에서 사운드 효과를 생성하는 기능이 추가되었습니다. 피카(Pika) 사운드 효과 생성하기 피카에서 제공하고 있는 불꽃놀이 동영상을 이용해 사운드를 생성해 보겠습니다. 동영상을 업로드하고, [Sound Effects] 클릭 이후 자동으로 동영상이...', 'date': '2024.04.23.'}\n",
      "{'title': 'chat gpt 기반의 AI 휴대용녹음기 요약 번역등 인공지능 플라우드노트', 'text': '그만큼 많은 분들이 관심을 가지고 있을텐데요~ 그래서 오늘은 최근 가장 핫한 챗gpt 기반의 인공지능 \"휴대용녹음기\" 플라우드노트를 소개해볼가 합니다. 스마트폰으로 간편하게... 인공지능 chat GPT 활용에 대한 부분과 1.제품 휴대폰 연동 2.전용앱 사용 방법 및 결과 3.업무 및 여행중 사용 차례로 연속해서 포스팅해볼 생각 입니다. 오늘은 제품구성 및 간단한 소개만...', 'date': '2024.04.22.'}\n",
      "{'title': '윈도우 환경에서 코파일럿 Copilot 으로 ChatGPT 인공지능 설정', 'text': '#윈도우11코파일럿 #윈도우11인공지능 #윈도우11AI #윈도우인공지능 #windowcopilot #copilot 윈도우 11을 사용하는 사용자에게는 코파일럿(Copilot)이 효율적인 작업을 위한 유용한 도구로 다가옵니다. 코파일럿은 AI를 활용해 사용자 경험을 향상시키는 기능으로, 다양한 업무를 쉽게 처리할 수 있도록 돕습니다. 특히, 코파일럿을 활성화하는 방법을 잘 알고...', 'date': '2024.05.07.'}\n",
      "{'title': '인공지능 대중화의 최선두 분야 방위산업, 그 안에서 한국의 현재 상황', 'text': 'https://n.news.naver.com/mnews/article/003/0012490212?sid=101 https://n.news.naver.com/mnews/article/011/0004325198?sid=100 한국 군은 인공지능을 활용한 드론 시스템과 이에 대응하는 안티 드론시스템도 빠르게 도입하고 있고, 인공지능 활용의 기초 인프라가 될 인공위성 감시시스템 구축에도 적극적입니다. 이달 8일 발사된 고성능 감시위성인 SAR 위성을 스페이스X를 통해 발사해...', 'date': '2024.04.15.'}\n",
      "{'title': '3년 후 이 회사주식 10배 간다고? 1인 1인공 지능 시대 재파 엑스 앱 다운로드 주식 신청하는 방법', 'text': \"1인 1인공 지능 시대 재파 엑스 앱 다운로드 주식 신청하는 방법 테슬라의 CEO 일론 머스크는 테슬라의 초창기에 20억을 투자해서 지금의 부자가 되었습니다. 우리가 테슬라의 초창기로... 인공지능 AI 스타트업 <재파 엑스 X>! 근데 왜 주식을 공짜로 주냐구요? 그냥, 고맙잖아요! 재파 유튜브 '재테크 읽어주는 파일럿'에 오셔서 수다도 같이 떨어 주시고, 고맙잖아요. 그...\", 'date': '2시간 전'}\n",
      "{'title': '영어공부어플 야나두 인공지능 AI원어민톡 영어를 잘하고 싶다면 추천', 'text': '영어공부어플 야나두 인공지능 AI원어민톡 영어를 잘하고 싶다면 추천 안녕하세요. 사진&IT 크리에이터 자유분방입니다. 누구나 영어를 잘하고 싶고, 많은 시간을 할애하여... 챗GPT, AI인공지능 등의 발달이 이렇게 ai 교육으로 이어지게 되네요. 영어공부어플 AI원어민톡 소개 AI원어민톡의 주요 특징들을 한번 나열을 해보도록 할게요. 1> 원어민이 자주...', 'date': '2024.04.16.'}\n",
      "{'title': '인공지능 위험성 분석하고 신뢰성 확보! AI 신뢰성 인증제도', 'text': '묻는 말에 대답해주거나, 제시문에 따라 영상을 만들어 주는 생성형 인공지능은 편리하지만 치명적인 단점이 몇 가지 있습니다. 엉뚱한 대답을 하는 환각 현상과 잘못된 정보를 의도적으로 확산시키는 딥페이크 영상을 만들어 낼 위험성이 있는데요. 때때로 생성형 AI는 거짓 정보를 마치 사실인 것처럼 풀어내는 ‘환각’ 현상을 보입니다. 이는 이 학습된...', 'date': '2024.05.09.'}\n",
      "{'title': '이제 조금 알게된 인공지능경영시스템 심사원(ISO42001) 등록!', 'text': '#ISO42001 은 #인공지능경영시스템심사원 으로 2023년 중반에 나왔다. 지금까지 내가 아는 것을 공유하는 것이므로 내용에 오류가 있을 수 있음 그래서 아직 구체적인 무엇인가 정해져... 즉, ISO인증의 지식이외에 인공지능 자체에 대한 지식이 있어야 한다. 결론 전망은 아주 좋아 보이고 기존에 기득권(나쁜 의미아님)도 없기 때문에 새롭게 진출해서 우리가 기득권이...', 'date': '6일 전'}\n",
      "{'title': '특징주 [삼성공조] 인공지능(AI) 테마주 열풍이 이어오며 냉난방공조(HVAC) 주가변동', 'text': '이유는 인공지능(AI) 테마주 열풍이 이어오면서 고대역폭메모리(HBM) 관련주, 냉난방공조 관련주, 전선주 등 여러 관련주가 돌아가며 상승세를 보이고 있기 때문이라고 풀이되고 있습니다. 또한 데이터센터 냉각시스템 수요 확대 전망이 나오며 긍정적 투자 심리가 작용한 것으로 풀이되고 있습니다. (AI) 확산에 따른 냉난방공조 (HVAC) 관련주의 주가...', 'date': '8분 전'}\n",
      "{'title': '인간에게 인공지능은 긍정적일까? 부정적일까?', 'text': '그 이유와 인공지능에 대해 어떻게 생각하는지, 여러분들이 두려워하는 인공지능에 대해 함께 살펴볼게요. 바로 시작합니다! 인공지능의 세계로~ © hiteshchoudhary, 출처 Unsplash OpenAI에서 GPT 모델을 만든 후 퇴사하고 Anthropica를 설립한 이유 OpenAI에서는 GPT-2를 만들고 연구에 관여했는데요. 그 후에는 Anthropic을 만들기 위해 OpenAI를 떠난거죠. 일부 그룹은 GPT...', 'date': '2024.04.16.'}\n",
      "{'title': 'MWC 2024 텔코 AI와 함께 하는 SKT 인공지능 기술 소개', 'text': \"국내 통신 브랜드를 대표하는 SKT 부스에서는 불과 몇 년 사이에 가장 핫한 키워드로 떠오른 인공지능과 관련된 여러 가지 기술과 활용 사례들을 만나볼 수 있었습니다. 많이 가까워지기는 했지만 아직까지 우리 일상에 어떤 영향이 있을지 모르겠다는 분들도 있습니다. 아주 간단한 예로 SK텔레콤의 비서인 '에이닷'이 있습니다. 에이닷을 이용하면 통화...\", 'date': '2024.02.29.'}\n",
      "{'title': '공장 내 인공지능cctv 설치후기 | 공장cctv | 업체cctv | cctv | cctv추천 | 공장CCTV추천 |', 'text': '자비스넷의 인공지능cctv가 더욱 특별한 이유는 제공하는 모든 카메라에 지능형 영상분석 기능이 탑재되어 있기 때문인데요, 지능형 영상분석 기능이란? 카메라에 촬영되어지는 모든 객체를 분류하며 군집감지, 침입/도난감지, 투기감지, 배회감지, 쓰러짐 감지 등 다양한 객체의 행동 변화를 감지하여 분석하는 기능을 말합니다. 자비스넷만의 지능형...', 'date': '1시간 전'}\n",
      "{'title': '인공지능 시대, 휴머니티와 진정성으로 디지털 플랫폼 비즈니스', 'text': '인공지능 시대란 인공지능이 음성 번역, 로봇 공학, 인공 시각, 인지 과학 등 다양한 분야에서 인간이 해야 할 일을 기계가 대신하게 되는 시대를 말합니다. 챗 GPT가 탄생하면서 인공지능 시대를 빠르게 앞당겨지고 있습니다. 얼마 전 매일경제에 나온 내용을 보면 산업연구원의 AI 시대 일자리 보고서에 일자리 327만 개가 사라진다는 충격적인 보고서가 나왔으며, 금융업은...', 'date': '2024.04.01.'}\n",
      "{'title': '국제미래학회 챗GPT 인공지능지도사 1급 과정 수료 및 챗GPT인공지능지도사협회 공식 출범', 'text': '\\'챗GPT 인공지능지도사\\' 1급 과정 수료 및 지도사협회 공식 출범 지도사 자질 향상과 인공지능 선용 리더 활성화 다양한 역할 수행 안종배 \"인공지능 선용 방안 제시, 미래사회에 긍정적 변화 이끌어 갈 것\" #국제미래학회 #대한민국메타버스포럼 #안종배 # #챗GPT지도사 국내 대표 미래기관 국제미래학회와 대한민국 메타버스포럼...', 'date': '2일 전'}\n",
      "{'title': '갤럭시 탭 S9 업데이트 AI 통역 인공지능 탑재, 삼성 필기용 태블릿 PC 추천', 'text': '삼성 스마트폰 갤럭시S24 모델은 최초로 온디바이스 AI 인공지능 기능을 탑재하여 큰 주목을 받았습니다. 탄탄한 실용성을 바탕으로 실제 판매량까지 이어졌고 이 기세를 몰아... 여기에 온디바이스 AI 인공지능 기능까지 추가되어 활용도는 더욱 좋아졌습니다. 어떤 기능이 있는지 하나씩 살펴볼게요. 먼저 실시간 대면으로 대화를 통역해주는 기능입니다. 파파고나 구글...', 'date': '2024.04.13.'}\n",
      "{'title': '강원특별자치도가 인공지능(AI) 헬스케어 글로벌 혁신 특구로 지정되었습니다!', 'text': '지난 4월 30일(화) 「강원 인공지능(AI) 헬스케어 글로벌 혁신 특구」가 신규 지정 의결되었습니다. 강원특별자치도는 풍부한 경험과 노하우를 바탕으로 인공지능(AI) 헬스케어 산업 생태계를 구축할 계획입니다. 인공지능(AI) 헬스케어 글로벌 혁신 특구 혜택 국내 최초 전면적 사후 규제(네거티브) 특례 방식 시행 법률에서 금지한 행위가 아니면 기준과 규격 등이...', 'date': '2024.05.03.'}\n",
      "{'title': '[키네마스터] 인공지능 자동자막 입력 기능 업데이트 사용법, 스마트폰강사', 'text': '며칠전에 키네마스터도 인공지능으로 자동자막이 입력되는 기능이 추가 업데이트 되었네요. 플로그인을 다운받아야 되지만 굿굿 아주 좋습니다. 키네마스터 최고에요.^^ 키네마스터 인공지능 자동자막 입력 기능 업데이트 사용법 음성 동영상 추가 키네마스터 어플 터치하고 만들기 새로만들기 터치하구요. 프로젝트 이름 입력하고 16:9 선택하고 만들기 터치합니다....', 'date': '2024.03.29.'}\n",
      "{'title': '인공지능이 할 수 있는 것, 할 수 없는 것(2) (4장 지능 패러다임～5장 AI 시대)', 'text': \"4장 지능 패러다임 여러 가지 지능 '인공지능 패러다임'이란 인공적으로 만들어진 모든 기술을 써서 문제를 해결하는 접근법이라 할 수 있다. 인공지능은 기호주의 인공지능과 기계학습 인공지능을 포괄한다. '문자 지식 패러다임'에서 짧은 정보나 지식 혹은 기억하기 어려운 긴 경험은 문자를 통해 기록되고 분석되고 조립되며 이를 통해 이전에는 불가능하던 더...\", 'date': '2024.05.10.'}\n",
      "{'title': '프로 크기 얼마나 커질까? 생성형 AI(인공지능) 향상시킨 뉴럴 엔진 탑재 기대(feat. 애플 최신 모델)', 'text': '애플이 인공지능 면에서는 아직 이슈를 만들지 못하고 있어 수많은 애플 유저들의 목을 길게 늘어뜨리고 있습니다. 최근 생성형AI(인공지능)을 행상시킨 뉴럴 엔진을 탑재한 아이폰16 프로를 오는 9월에 공개한다는 소식이 들립니다. 역시 애플은 애플이지~ 라고 환호할 텐데요. 과연 얼마나 만족스러운 결과를 제공할지 기대해 보면 좋을 것 같습니다. 아이폰16...', 'date': '2024.03.12.'}\n",
      "{'title': '챗 GPT 오픈 AI 그리고 인공지능 챗 GPT의 시대 4차 산업혁명 서영상 지음', 'text': '듭니다 인공지능의 역사 초창기에는 기계가 과연 인간의 지능을 가질 수 있는지 의문이 있었어요 그래서 앨런 튜링의 아이디어로 튜링 테스트라는 방법으로 인공지능의 초기... 했답니다 인공지능의 역사를 돌아보면 발전하는 과정은 기술 부족으로 실패가 많았지만 반도체의 비약적인 개발로 딥러닝과 인공신경망이 발전하며 인간의 언어를 이해하고 생성할 수...', 'date': '2024.04.13.'}\n",
      "{'title': '2025년 인공지능(AI) 디지털교과서 도입 ··· 초·중등 디지털 인프라 개선 계획', 'text': '2025년 인공지능(AI) 디지털교과서가 도입됩니다. 교육부는 5월 14일 이 같은 내용이 포함된 ‘초·중등 디지털 인프라 개선 계획’을 발표했는데요. AI 디지털교과서는 2025년 초등학교 3... ▶나에게 든든한 정책주간지 K-공감 원문 기사 보기 함께 읽으면 좋은 콘텐츠 초·중·고 모두 ‘(AI) 디지털교과서’ 검정도서로 발간, 2025년 도입 \"AI 반도체가 없다면 AI는...', 'date': '2024.05.24.'}\n",
      "{'title': '한국저작권위원회 저작권 걱정 없는 인공지능 학습 원천데이터 소개 스마트테크코리아2024', 'text': '저작권 걱정 없는 \\'인공지능 학습 원천데이터\\' 소개 스마트테크코리아 2024에서 ‘공유 BANK’ 주제 홍보부스 운영 \"수요층에게 꼭 필요한 초기 데이터, 지속 구축해 제공할 예정\" #한국저작권위원회 #스마트테크코리아2024 # #학습원천데이터 #공유BANK 원천데이터 홍보부스. 사진=한국저작권위원회 한국저작권위원회(위원장 강석원, 이하 위원회)는...', 'date': '5시간 전'}\n",
      "{'title': '인공지능이 할 수 있는 것, 할 수 없는 것(1) (1장 인공지능 패러다임～3장 기계학습 )', 'text': \"점 더 정확히 말하면 타고난 지능과 인공적으로 만들어진 지능의 하이브리드 시스템이었다. 저자는 이들을 사이보그1이라고 부른다. 3장 기계학습 인공지능 기계학습 인공지능을 구현하기 위한 접근법에는 '연결주의' 혹은 '기계학습' 접근법이 있었다. 기계학습은 인간이 규칙을 제공하지 않고 기계가 스스로 주어진 데이터 안에 존재하는 규칙을 찾아내어 새로운 상황에...\", 'date': '2024.05.09.'}\n",
      "{'title': '인공지능 기계 디자이너의 탄생', 'text': '인공지능(AI) 관련 산업이 가파르게 성장함에 따라 중국의 인공지능 관련 디자인 산업 역시 비약적인 발전을 이루고 있다. 2016년 퉁지대학(同濟大學)이 세계 최초로 ‘디자인 인공지능 실험실’을 설립하여 대학원생을 양성한 뒤 저장대학(浙江大學), 칭화대학(清華大學) 등 저명한 대학교들이 자원을 투입하고 관련 학과를 설치하며 디자인과 의 결합을...', 'date': '2024.04.27.'}\n",
      "{'title': '인공지능 디지털교과서 본격 도입 대비, 학교 디지털 인프라 질적 개선에 총력', 'text': '(수) 인공지능(AI) 디지털교과서 시대, 디지털 기반 수업혁신을 지원하기 위한 「초·중등 디지털 인프라* 개선계획」을 발표한다. * 디지털 인프라는 학교 내에서 디지털 기술을... 특히, 그간의 디지털 기기 보급 등 인프라의 양적 확대를 넘어 새롭게 도입되는 디지털교과서 구동 환경에 걸맞게 질적 개선을 추진하고, 인프라 관리 부담 경감 등 학교 현장의...', 'date': '2024.05.14.'}\n",
      "{'title': '홈페이지 제작, 인공지능 쇼핑몰 제작 하기', 'text': '오늘은 홈페이지 제작 기간부터 업체 선택 요령 그리고 요즘 핫한 인공지능 쇼핑몰 제작하는 방법에 대해서 이야기를 해보려 합니다. 알다시피 홈페이지는 기업의 꽃이자, 브랜딩을 할... 그중에 하나가 바로 < 인공지능 상담 시스템 >입니다. 고객이 궁금하거나 물어보고자 하는 내용을, 쇼핑몰에서 일일이 다 응대하려면 시간이 많이 걸리겠죠? 그래서 요즘은 ...', 'date': '2024.05.09.'}\n",
      "{'title': '엔트리 인공지능 with 햄스터 로봇 개정판', 'text': '엔트리 인공지능 with 햄스터 로봇 개정판 * 책 소개 엔트리와 햄스터 로봇으로 시작하는 인공지능 프로그래밍 《엔트리 인공지능 with 햄스터 로봇 개정판》은 엔트리와 인공지능을 활용해 재미있고 유익한 프로그래밍 활동을 해 볼 수 있는 도서로, 이번 개정판은 엔트리 최신 버전으로 전체를 업데이트하였고 엔트리의 신기능인 탐험하기에 대한 간략한...', 'date': '2024.05.02.'}\n",
      "{'title': '[외식경영학회 춘계학술대회 기조강연] 생성형 인공지능 시대, 외식산업의 성장 전략', 'text': '외식경영학회 춘계학술대회 기조강연 생성형 인공지능 시대, 외식산업의 성장 전략 한국외식경영학회 오늘은 대구카톨릭대학교에서 진행되는 한국외식경영학회 2024 춘계학술대회 기조강연에 대한 소식을 공유하여 드립니다. 을 활용한 외식업 창업, 경영, 마케팅 김영갑 교수 14시~15시 예정 김영갑 교수 기조강연의 내용은 어떻게 구성되었나? 생성형...', 'date': '4주 전'}\n",
      "{'title': '[2024년 2분기 세미나 후기] 챗GPT 질문의 기술:인공지능 시대 개인의 경쟁력은 질문하는 힘', 'text': '이번 세미나의 주제는 『 챗GPT 질문의 기술:인공지능 시대 개인의 경쟁력은 질문하는 힘 』 입니다 지난 1분기 세미나와 달리 이번 2분기 세미나는 시각적인 자료 제공을 위해 대면으로 진행이 되었습니다!! (이번에도 많은 분들이 신청해 주셔서 운영진은 참으로 뿌듯했습니다..후후..) 세미나를 진행해주신 강사님께서는 『 챗GPT 질문의 기술 』의 저자이자 AIwave의...', 'date': '3주 전'}\n",
      "{'title': '알아두면 유용한 인공지능(AI) 플랫폼', 'text': \"회사 이름과 업종만 입력하면 AI가 2분만에 로고를 제작해주고, 또 자동으로 광고 문구를 생성해주는 등 인공지능을 활용한 다양한 플랫폼이 개발되고 있습니다. 알아두면 유용한 인공지능(AI) 플랫폼, 윤커뮤니케이션즈와 함께 살펴보세요! 2분만에 로고 만들기! AI 로고 제작 플랫폼 'Designs.ai' Designs.ai 'Designs.ai'는 을 활용하여 디자인 작업을...\", 'date': '2024.03.29.'}\n",
      "{'title': '큰 화면 TV와 인공지능 결합 판매량 반전? LG 알파11 프로세서 탑재한 엘지 올레드 에보(M4/G4)와...', 'text': '위에서 개인적으로 인공지능에 대한 생각을 LG전자도 했는지 인공지능보다는 공감지능이라는 용어를 사용하기 시작했습니다. 어떻게 보면 솔직하고 정직한 표현이 아닌가 싶습니다. 올해 LG TV는 인공지능 성능을 강화한 알파11 AI 프로세서가 핵심 요소로 기존 대비 최대 4배 강화된 딥러닝을 시켰습니다. 기존보다 4배가 강화된 으로...', 'date': '2024.05.11.'}\n",
      "{'title': '파이썬기초 인공지능 개발자 국비 강의 학원', 'text': '여러분~ 전 개발자 현 IT 전문 진로 컨설턴트 이 팀장입니다~ 오늘은 파이썬기초 인공지능 개발자 국비 강의 학원 이라는 내용으로 찾아왔습니다. 전 세계가 빠른 속도로 발전을 하고... 이처럼 AI 인공지능이나 빅데이터 분석 사물인터넷 RPA 로봇 소프트웨어 사무 자동화 등 다양한 기능들이 나오기 시작하면서 IT 기업뿐만 아니라 일반 기업들의 입장에서도 관련...', 'date': '2시간 전'}\n",
      "{'title': '[우리사업을 ~확] 주요 본부 사업 - 인공지능', 'text': '| 4차 산업혁명 시대의 핵심 기술, AI 인공지능(AI)은 4차 산업혁명 시대의 핵심 기술로 자리매김했습니다. 세계 AI 시장규모는 2026년까지 연평균 39.7% 성장하여 3,095억 달러(출처... AI 기술의 개발부터 실증, 검증까지 전주기 지원체계를 구축해 성능과 신뢰성이 확보된 데이터와 제품을 시장에 공급하는 등 국내 산업 지능화를 촉진하고, 산업 디지털 전환 정책을...', 'date': '2024.05.10.'}\n",
      "{'title': '리벨리온 인공지능 AI 반도체 주식 상장 주가 - NPU 관련주', 'text': '리벨리온 인공지능 AI 반도체 주식 상장 주가 - NPU 관련주 반도체 산업은 두 부류로 나뉩니다. 반도체를 설계하고 디자인 하는 쪽과, 이걸 실제 공장에서 찍어내는 쪽입니다. 전자를... 엔비디아가 급성장한 이유는 인공지능 분야에 절대적으로 필요한 반도체 설계기술을 가지고 있기 때문입니다. AI 를 학습하고 동작시키기 위해서는 엄청나게 많은 부동소수점...', 'date': '2024.03.14.'}\n",
      "{'title': \"[ChatGPT 특강] '생성형 인공지능의 이해 및 사용법' 실습 강의 진행(2차수)\", 'text': \"대상으로 '생성형 인공지능의 이해 및 사용법'에 관한 주제로 실습형 강의를 했습니다. ChatGPT 특강이 오전 9시부터 시작되기 때문에 전날 생활관에서 숙박하고, 아침 일찍 강의를 준비했습니다. 직급별 교육 1차수는 일반직 4,5급을 대상으로 진행했으며, 이번에는 6,7급을 대상으로 생성형 활용법에 대해 강의했습니다. 한국폴리텍대학 인재개발원...\", 'date': '2024.04.11.'}\n",
      "{'title': '디지털 소양을 기르는 인공지능 수업디자인', 'text': '인공지능 수업을 어떻게 준비하면 좋을까 고민하다가 읽게 된 책입니다. 박재찬 선생님이 저자인데요. 이쪽 분야에서 오래동안 활동하신 분입니다. 소개 부분을 보면 교사들의 PBL 수업, AI 디지털 활용수업 분야에서 활동하는 분인데요. 디지털 소양을 기르는 수업디자인 저자 박재찬 출판 테크빌교육 발매 2023.09.08. 책은 2022 개정 교육과정 기반 AI 디지털 활용...', 'date': '2024.04.13.'}\n",
      "{'title': '[현미경] AI(인공지능)부터 웹툰까지! 미래를 바꿀 트렌드, 콘텐츠 IP(지식재산권)', 'text': '오늘날 인공지능(AI)과 지식재산권(IP)이 콘텐츠 산업의 변화를 이끌고 있다고 설명했습니다. 엔데믹에 돌입하며 새로운 동력을 찾는 움직임이 컸던 2023년, 콘텐츠 산업 전 영역에 AI 기술이 도입돼 콘텐츠 제작 효율성을 높였고, IP를 활용한 다양한 사업들이 탄생한 것이죠. 그렇게 탄생한 콘텐츠 IP산업 현황을 살펴보기에 앞서, 콘텐츠 IP의 정의부터 찬찬히...', 'date': '2024.04.12.'}\n",
      "{'title': 'AI 스피커 추천 누구 캔들 인공지능 거실 사용 장점 단점', 'text': '인공지능 스피커와 추천 제품 중 누구 캔들을 소개해 드리며 거실 스피커로서의 장점 단점을 알려드리도록 하겠습니다 NUGU 스피커는 누구 캔들 S2 인공지능 스피커 입니다. 누구 캔들은 SK텔레콤과 아마존 알렉사를 사용할 수 있게 개발된 스피커인데요 가장 중요한 특징은 바로 한국 어와 영어를 명령하면 수행할 수 있는 똑똑한 AI 스피커라는 것입니다....', 'date': '2024.03.31.'}\n",
      "{'title': '인공지능 AI 행정 지원 서비스 행정안전부 시범 운영', 'text': '인력 감축은 없고 정부가 보유하고 있는 행정 데이터와 기업이 민간기업의 초거대 인공지능 AI 기술의 접목으로 기존인력으로 더 많은 서비스를 제공한다는 취지이며 AI 인공지능을 활용한 전자적 처리를 통해 선제적이고 창의적인 정부 혁신을 선도하며 디지털 플랫폼 정부 실현에 한걸음 다가가는 전환점으로 삼는다는 것이랍니다. 민·관 협업 지능형 업무관리시스템...', 'date': '6일 전'}\n",
      "{'title': '개인정보위, 인공지능 시대 개인정보 정책 방향을 국제사회와 논의', 'text': '개인정보위, 인공지능 시대 개인정보 정책 방향을 국제사회와 논의 - 제61차 아시아태평양지역 개인정보 감독기구 협의체(APPA) 포럼에서 ‘비정형 데이터 가명처리 가이드라인’... 1일차(6.20.) 포럼 “국가별 동향 보고” 세션에서는 각국 개인정보 감독기구들이 아동에 대한 개인정보 보호, 관련 개인정보 정책과 소셜네트워크(SNS) 등 여러 조사·처분...', 'date': '1일 전'}\n",
      "{'title': 'AI 브랜딩 회사, 타이디비에서는 인공지능 기술로 브랜딩을 한다고?', 'text': '이러한 브랜드 마케팅도 이제는 내부 인력이 없어도 인공지능 기술을 활용해 시도해 볼 수 있게 되었습니다. 실제로 AI 브랜딩 회사, 타이티비에서는 적은 비용으로 고퀄리티의... 그런데 이제는 이러한 브랜딩도 인공지능 기술로 자동화할 수 있다면 어떨까? AI 브랜딩 회사, 타이디비 창업가, 마케터, 디자이너를 위한 AI 브랜딩 회사인 TIDY-B(타이디비)에서는 생성형...', 'date': '2024.05.18.'}\n",
      "{'title': '인공지능 AI 활용하여 브리핑 자료로 유튜브 영상 제작하기...기본과정 4주차', 'text': '오늘은 유튜브 영상을 꼭 휴대폰이나 카메라로 찍은 영상만이 유튜브 영상이 되는 것이라는 편견을 깨는 인공지능 사이트를 활용한 영상 소스제작과 영상편집 방법을 배웠습니다. 많은 분들이 이런 신세계가 열렸다고 환호해 주셨습니다. 왜냐하면 이런 높은 수준의 영상은 많은 시간이 걸릴 줄 알았는데, AI 사이트를 활용하니 놀라운 시간 단축으로 많은...', 'date': '2024.04.03.'}\n",
      "{'title': '[과학향기 for Kids] 인공지능(AI)이 똑똑해진 비결은? ‘기계학습’', 'text': '이 모든 일을 하는 주인공은 바로 ‘인공지능(AI)’입니다. 그동안 AI는 SF 영화 속에서만 만나볼 수 있었지만, 기술의 발전으로 어느덧 일상 속 곳곳에 침투해 우리 생활을 편리하게... 과학자들은 오래전부터 인간의 지능을 닮은 기계를 개발하고 싶어 했습니다. 그러던 중 1950년 영국의 수학자인 앨런 튜링은 언젠가 모든 면에서 인간의 지능을 따라 할 수 있는...', 'date': '2024.05.13.'}\n",
      "{'title': '소상공인 식당 경영자가 상권분석을 할 때 인공지능을 활용하는 방법', 'text': '소상공인 여러분, 인공지능을 활용해서 상권분석을 하는 시대가 되었습니다 소상공인 식당 경영자를 위한 상권분석을 할 때 인공지능을 활용하는 방법에 대해 설명해 드리겠습니다. 인공지능은 예비 창업자와 기존 사업자 모두에게 유용한 상권 분석 도구가 될 수 있습니다. 을 활용하여 상권 분석을 수행하는 방법을 단계별로 안내해 드립니다. 1단계: 목표 설정...', 'date': '2024.05.21.'}\n",
      "{'title': '[이핀로봇F+] 인공지능 로봇의 과대낙폭 단기바닥 포착 (에스바이오메딕스 +7%)', 'text': '인공지능 로봇의 타점 포착! 지금 시작합니다. 최근 미국증시를 이끌었던 엔비디아 등 반도체 관련주들이 조정구간에 들어가며 지수가 하락하고 있습니다. <나스닥 지수 차트> <코스피 코스닥 지수 차트> 오후 12시 21분 기준 한국증시 또한 조정구간을 만들고 있습니다. 오늘 같은 시장에서 이핀의 로봇 시그널캐쳐의 당일 매수매도 원칙 단타로봇은...', 'date': '1시간 전'}\n",
      "{'title': 'Open AI 실시간 대화 가능한 ChatGPT 4o 공개, 국내 AI 인공지능 관련주는?', 'text': '이에 따라 국내 AI 인공지능 관련주들도 긍정적인 영향을 받을 것으로 예상되는데요. Open AI ChatGPT 4o 주요 기능과 관련주들을 알아보겠습니다. [주요 기능] ChatGPT 4o는 이전 버전인 챗GPT4 수준의 지능을 자랑하면 훨씬 더 빠르게 텍스트, 음성, 비전 기능을 제공하는 플래그십 모델입니다. 1. 실시간으로 자연스러운 대화가 가능합니다. 이날 시연을 시작하며...', 'date': '2024.05.14.'}\n",
      "{'title': '갤럭시 S24 핵심인 온디바이스 AI 인공지능', 'text': '얼리어답터 리뷰/스마트폰 갤럭시 S24 핵심인 온디바이스 AI 인공지능 by 엔돌슨 2024. 1. 22. 갤럭시 S24 왜 인공지능 탑재된 온디바이스 AI 일까? 이제 언어의 장벽은 인공지능 앞에서 다 깨져버리는 것일까요? 이런 생각이 듭니다. 그리고 스마트폰이 개인 비서 역할을 더 잘해줄 수 있게 변해가는 중이라는 생각이 듭니다. 최근 출시된 삼성전자의 스마트폰인 갤럭시...', 'date': '2024.01.22.'}\n",
      "{'title': '구글 홈미니 인공지능 AI 스피커 블루투스 네스트미니', 'text': '이번 시간에는 구글 홈미니 인공지능 AI 스피커 블루투스 네스트미니에 대해 알아보도록 하겠습니다. 먼저 구글홈미니 1세대는 2017년에 첫 선을 보이며 우리 생활 속에 AI 스피커라는 새로운 카테고리를 소개했는데요. 기본적으로 음성 인식 기능을 탑재해 간단한 명령으로 음악 재생, 정보 검색, 일정 관리 등을 할 수 있습니다. 또한, 2019년에는 스피커...', 'date': '2024.05.18.'}\n",
      "{'title': '빅데이터 국비 학원 (서울 AI 데이터 분석/인공지능 빅데이터 취업) 데이터 애널리스트 양성과정 교육생 모집', 'text': '빅데이터 국비 학원 (서울 AI 데이터 분석/인공지능 빅데이터 취업) 데이터 애널리스트 양성과정 교육생 모집 안녕하세요. 취업 비서 인크루트 입니다. 디지털 핵심 실무인재 양성사업 (K-Digital Training)으로 진행되는 빅데이터 국비 학원 (서울 AI 데이터 분석/ 빅데이터 취업) 데이터 애널리스트 양성과정 교육생 모집이 진행되고 있습니다. 지금부터 교육생...', 'date': '2024.05.24.'}\n",
      "{'title': '[도서] DX 디지털 대전환 시대 AX 인공지능 대전환 : AI가 만들어낸 새로운 AI Home 시대, AX 시대의...', 'text': \"DX 디지털 대전환 시대 AX 인공지능 대전환 저자 이정용,임재희 출판 광문각출판미디어 발매 2024.04.29. 광문각출판미디어에서 출간한 'DX 디지털 대전환 시대 AX 인공지능 대전환'입니다. 요즘 뉴스를 살펴보면 인공지능 AI가 우리나라의 새로운 미래 먹거리 산업으로 각광받으면서 이에 대한 기술 개발이나 투자 유치 등에 대한 소식들이 계속해서 들려오고...\", 'date': '2024.05.16.'}\n",
      "{'title': '숨어있는 인공지능 관련주 AMD 주식 주가 총정리', 'text': '숨어있는 인공지능 관련주 AMD 주식 주가 총정리 시간입니다. 인공지능 관련주 LG전자 바야흐로 인공지능 세상입니다. 인공지능 대장 주인 엔비디아는 AI 반도체를 앞세워 사상 최고가를 연일 경신하고 있습니다. 이는 다른 회사보다 발 빠르게 시장을 점유했기 때문입니다. AI 시장은 발전 가능성이 높습니다. 은 다양한 산업 및 서비스와 융합되고...', 'date': '3주 전'}\n",
      "{'title': \"[AI 강의] '생성형 인공지능의 이해 및 활용법' 강의 진행(1차수)\", 'text': '한국폴리텍대학 인재개발원(남원시 소재) 직급별 기본교육(1회차)에서 \\'생성형 인공지능의 이해 및 활용법\\'에 관한 주제로 실습형 강의를 했습니다. \"교육의 목적은 앎이 아니라 행동이다\" 공감 가는 문구입니다! 이번 강의에서는 4, 5급 직원분들을 대상으로 실무 현장에서 사용할 수 있는 다양한 생성형 플랫폼을 소개하고, 회원 가입 및 사용 방법을...', 'date': '2024.04.01.'}\n",
      "{'title': \"[IT 기본학습] 디지털 시대의 심리적 동반자 인공지능과 챗GPT, 정신 건강 의학 분야에 '활약'\", 'text': \"[IT 기본학습] 디지털 시대의 심리적 동반자 인공지능과 챗GPT, 정신 건강 의학 분야에 '활약' 우리의 일상생활과 정신 건강 관리 방식이 인공지능의 발전에 힘입어 변화하고 있습니다. 특히, 정신건강의학 분야에서 인공지능, 챗GPT의 활약이 돋보이고 있는데요. 본 포스팅에서는 최근 주목받고 있는 기술인 챗GPT가 우리의 정신 건강 분야에서 어떻게...\", 'date': '2024.04.08.'}\n",
      "{'title': '[홍파스] 인공지능의 거짓말: AI 환각', 'text': '사람뿐만 아니라 인공지능도 거짓말을 할 수 있다는 것을 알고 있나요? 최근 몇 년간 인공지능(AI)의 발전은 우리 생활에 혁신을 가져왔습니다. 자료조사부터 레포트 작성까지 척척해내는 GhatGPT와 같은 AI 챗봇 덕분에 많은 사람들이 편리함을 누리고 있죠. 개인뿐만 아니라 기업에서도 AI를 활용한 업무가 보편화되고 있습니다. 하지만 AI가 항상...', 'date': '6일 전'}\n",
      "{'title': '애플과 오픈AI의 파트너십: 챗GPT 통합으로 인공지능 미래를 선도하다', 'text': '최근 블룸버그 통신의 보도에 따르면, 애플은 인공지능(AI) 챗봇인 챗GPT를 활용하기 위해 오픈AI와 파트너십을 체결했지만, 이에 대한 금전적인 대가를 지불하지 않는다고 합니다. 이... 애플과 오픈AI의 파트너십은 인공지능 기술의 발전과 활용에 있어 중요한 이정표가 될 것입니다. 금전적인 대가를 주고받지 않는 협력 모델은 새로운 비즈니스 모델의 가능성을...', 'date': '2주 전'}\n",
      "{'title': '\"인공지능, 3D모델링 등 59개 과목\" 송파런 5~6월 수강생 모집!', 'text': '\"인공지능, 3D모델링 등 59개 과목\" 송파런 5~6월 수강생 모집! 교육도시 송파구의 중심, 청소년의 친구 송파런이 더욱 새롭고 다채로운 5~6월 프로그램을 준비했습니다! ✔️ 수강료: 무료(재료비 등 발생 시 별도 고지) ✔️모집과정: , 코딩, 3D모델링, 메타버스, 그래픽 등 59개 과정 ✔️모집기간: 2024. 4.23.(화) 10:00 ~ 마감 시 ※ 모집인원에...', 'date': '2024.04.25.'}\n",
      "{'title': '인공지능 AI 스피커 구글 네스트 미니 2세대', 'text': '이번 시간에는 인공지능 AI스피커 구글 네스트 미니 2세대 모델에 대해서 알아보도록 하겠습니다. 네스트 미니 2세대는 2017년에 출시된 모델로 콤팩트하고 세련된 디자인과 함께 블랙... 여러 대의 네스트 미니를 연결할 경우 멀티룸 오디오 시스템도 구성할 수 있다는 점에서 AI스피커 찾으시는 분들에게 좋은 선택지가 되어줄 제품이 아닐까 싶어요 :D', 'date': '2024.04.24.'}\n",
      "{'title': '인공지능 칩 경쟁 과열 양상으로 엔비디아 주가 하락세', 'text': \"인공지능 칩 경쟁 가열 팻 겔싱어 인텔 최고경영자(CEO)가 9일(현지시간) 미국 애리조나주 피닉스에서 열린 '인텔 비전 2024'에서 인텔의 최신형 인공지능(AI) 칩 '가우디3'을 소개하고 있다. 인텔 제공 인텔은 화요일에 가우디 3라는 새로운 AI 칩을 선보이면서 엔비디아-인텔의 직접적인 경쟁이 치열해지고 있는 것으로 보입니다. 가우디 3 칩은 지난 한 해...\", 'date': '2024.04.11.'}\n",
      "{'title': '[주기동] 설명가능 인공지능 기술 동향 및 핵심 과제 (2134, 20240522) (2/2)', 'text': '설명가능 인공지능의 핵심 과제 및 연구 방향 (이어서) 2) 기존 설명가능 인공지능 기술의 개선 XAI 방법론의 주요 분야 중 하나는 입력 기여도 방법 두가지 방법 입력의 변화를 통해 출력의 변화를 관찰하여 기여도를 측정하는 섭동(perturbation) 기반 방법 입력에 대한 출력의 기울기(gradient)를 통해 기여도를 측정하는 기울기 기반 방법 입력 기여도 방법은, 영리한...', 'date': '6시간 전'}\n",
      "{'title': 'AI 인공지능 스피커 누구캔들 장단점 알아보기', 'text': '생각보다 우리나라엔 다양한 인공지능스피커가 있습니다. 뭐... 대부분 통신사가 많아요. 삼성과 네이버도 있지만 이번엔 예외로 치자고요. 이번엔 AI스피커를 중 SK에서 만든... 그런데 너무 인공지능스피커 본연의 기능에만 집중한 티가 납니다. 일단 스피커 출력이 낮은 것이 대표적인 예 인데요. 5W의 출력은 작은 방이나 개인 공간에서는 충분하지만...', 'date': '4주 전'}\n",
      "{'title': 'LG 사운드바 AI인공지능으로 진화한 입체음향 사운드를 담다', 'text': 'LG전자에서 인공지능으로 구현한 풍부한 입체 사운드는 물론 프리미엄 LG TV 시리즈와도 디자인을 꼭 맞춘 2024년형 LG 사운드바를 출시합니다. 이번 신제품은 사운드바와 TV... 이제 사운드바도 AI 인공지능의 중요성을 담고 있는 것을 확인할 수 있습니다. LG 사운드바 AI 입체 사운드 대표 모델인 S95TR은 세계 최초로 업파이어링 스피커 3개를 탑재한...', 'date': '2024.03.11.'}\n",
      "{'title': '무엇이든 만드는 생성형 인공지능 기술', 'text': '무엇이든 만드는 생성형 인공지능 기술 https://www.etri.re.kr/webzine/202404/sub01.html ChatGPT 개발사인 오픈AI가 텍스트를 동영상으로 만들어주는 인공지능 기술 ‘SORA’를 선보였다. 현재 제한된 인원만 사용할 수 있는 기술이지만, 이미지를 만들어주는 의 기술이 한 단계 업그레이드된 셈이다. 생성형 의 발전 생성형 은...', 'date': '2024.04.02.'}\n",
      "{'title': '삼성 언팩 인공지능 탑재 갤럭시 S24 울트라 주요 기능 가격', 'text': '알려진 대로 갤럭시 AI가 탑재되었으며, 이를 통한 실시간 번역, 인공지능 검색 및 사진 편집 등의 기능들을 선보였습니다. 언팩을 시청하면서 인상 깊었던 기능 그리고 출시일 및... 인공지능 기반의 프로비주얼 엔진 탑재로 저조도에서 나이토그래피 기능이 더욱 향상되었고요. 기존에는 3배, 10배 줌에만 광학 수준 고화질이 제공되었는데요. 이번에 쿼드 텔레...', 'date': '2024.01.18.'}\n",
      "{'title': '인공지능 국비지원 ai개발자 비전공자 취업 가능성', 'text': '인공지능 국비지원 빅데이터 그리고 인공지능이 국책 사업으로 지정되면서 관련 인력 채용도 늘어나고 있습니다. 자연스럽게 채용 시장의 수요를 반영하는 국비지원도 인공지능에 대해서 다루는 교육이 늘어나고 있습니다. ① 머신러닝 엔지니어 ② 딥러닝 엔지니어 ③ RPA 개발자 같은 ai개발자라도 세부적인 진로에 많은 차이가 있습니다. 오늘은 위와 같은...', 'date': '3주 전'}\n",
      "{'title': '[상권분석전문가과정 3주차 수업 후기] 인공지능이 상권분석 해 주는 시대', 'text': '진정한 상권분석 4.0 시대가 도래하다 상권분석전문가과정 31기 3주차 수업 후기 상권분석전문가과정 31기의 3주차 수업에서는 인공지능(AI)을 활용한 상권분석 수업이 진행되었습니다. 이번 수업은 수강생들이 실제로 자신이 운영하거나 계획 중인 업종과 업태에 맞는 상권분석을 효과적으로 수행할 수 있도록 돕는 데 중점을 두었습니다. 수업 내용 개요 1. 기초...', 'date': '2024.05.22.'}\n",
      "{'title': '[생성형 인공지능] 세계 최초 AI 미인 대회 공모전 공지사항 및 접수 방법', 'text': '[미드저니를 이용한 인물 생성, 김정곤] 인공지능 창작물은 미래의 엔터테인먼트 및 광고 산업에 큰 변화를 예고하고 있습니다. AI가 생성한 인공지능 모델이 실제 인간 모델을 대체하여 광고 캠페인에 등장하는 경우에는 제작 비용을 절감하고, 더 다양하고 맞춤화된 콘텐츠를 생성할 수 있죠. [미드저니를 이용한 인물 생성, 김정곤] 이런 사회적, 기술적인...', 'date': '2024.04.18.'}\n",
      "{'title': '항공사들의 A I활용-인공지능 컨택 센터(AICC/AI Contact Center)', 'text': '적용한 ‘인공지능컨택센터(AICC/AI Contact Center)’ 플랫폼을 구축한다. AWS의 AI 기술을 활용한 상담 서비스 품질 향상을 위한 조치다. AICC는 AI 기술을 통한 음성봇·챗봇 등이 소비자의 질문에 답변하는 클라우드 기반 지능형 고객센터다. AICC를 활용하면 단순 안내와 상담 업무를 제공했던 콜센터 업무를 넘어 AI와 클라우드 기반의 혁신기술을 접목한...', 'date': '4주 전'}\n",
      "{'title': '인공지능 AI 시대의 최대 걸림돌이 되고 있는 소비 전력', 'text': '뉴런이 연결되는 강도에 따라서 사고가 발생하고 지능이 발생합니다. 이것과 동일하게 인공지능에는 파라미터가 존재합니다. 이 파라미터들은 스위치 같은 것이라서 복잡한 연산은 하지 않고 간단한 연산을 많이 빠르게 반복해야 합니다. 그래서 복잡한 연산을 하는 CPU가 아닌 그래픽 구현하는데 필요한 단순 반복 빠른 연산을 하는 GPU가 각광을 받고 있습니다....', 'date': '2024.04.21.'}\n",
      "{'title': \"스타트업 해외 투자 유치 확대·인공지능(AI)·디지털 전환 등 ··· '중소기업 도약 전략' 발표\", 'text': '또한 산업 전반의 인공지능(AI)·디지털 전환으로 생산성을 높입니다. 제조데이터 표준 기준을 정립해 개별 설비 중심에서 공장·기업 간 디지털 연결을 늘리고 ‘지역특화 인공지능 센터’와 권역별 TP, 지방자치단체 간 협업 연계를 강화합니다. 현재 38% 수준에 머무르고 있는 국가전략기술분야 R&D 지원은 50% 이상으로 확대한다는 내용도 담겼습니다. 정부·공공기관의...', 'date': '2024.05.09.'}\n",
      "{'title': '인공지능이 가장 먼저 빼앗을 직업 ‘의사’', 'text': '대부분 사람들은 인공지능 시대가 본격적으로 도래하면 단순한 노동을 반복하는 일자리부터 대체될 것이라고 생각했습니다. 그러나 그건 인공지능의 학습능력을 너무 얕잡아보고 미래를 낭만적으로 예측한 것입니다. 인공지능은 현재의 고소득 전문직, 화이트칼라와 골드칼라 직종부터 차분하게 잠식할 가능성이 큰데요. 결론부터 말하자면 가장 먼저 사라질 직종은...', 'date': '2024.03.22.'}\n",
      "{'title': '소프트웨어야 놀자 <생성형 인공지능 윤리 1> 교재 OPEN 이벤트', 'text': '우리 삶에 깊숙이 스며든 인공지능 기술들에 대해 우리에게 어떤 고민이 필요할까요? 생성형 인공지능의 엄청난 영향력과 함께 급부상하고 있는 인공지능 윤리! 소프트웨어야 놀자에서 생성형 인공지능 윤리 교육을 위한 신규 교재 <생성형 윤리 1>을 공개했습니다~! 생.성.형. AI라는 단어는 많이 들어봤는데 아직도 그게 뭔지 감이 안 오시는 분들!...', 'date': '1일 전'}\n",
      "{'title': '[인천소셜서포터즈 30기 10회, 358회] 인천 동구 등대교회에서 재미나이 어시스턴트와 대화형...', 'text': '어시스턴트와 인공지능 대화형 서비스 스터디하고 송림추어탕 맛있게 먹었어요. 오후 6시에 등대교회에 도착했어요. 맛집에서 맛있는 저녁식사도 할겸 인천 동구 등대교회에서 스터디모임을 하게 되었습니다. 인천 동구 등대교회에서 재미나이 어시스턴트와 대화형 서비스 스터디하고 송림추어탕 한주간 소식 및 AI 뉴스 시청하기 1. 수강생님, 일반 전화 받을...', 'date': '4주 전'}\n",
      "{'title': '삼성 갤럭시 S24 홍보 이미지 유출! AI 인공지능 기능과 스펙은?', 'text': 'AI 인공지능 기능과 스펙은? 영댕이 2024. 1. 14. 17:44 이제 다음 주면 삼성전자의 플래그십 스마트폰 갤럭시 S24 시리즈가 정식으로 공개될 예정입니다. 그리고 이미 중요한 정보들은... AI(인공지능) 관련 기능을 강화할 것으로 보이는데요. 최근의 트렌드를 반영한 개발 방향이라고 할 수 있습니다. 그런데 아직 이러한 기능들이 원활하게 동작하는 제품들은 많지...', 'date': '2024.01.14.'}\n",
      "{'title': '군사, 방위 산업 부문에서의 기계 학습과 인공 지능', 'text': '기계 학습은 컴퓨터 과학의 한 분야이자 인공 지능의 하위 분야이다. 기계 학습은 시스템이 과거의 경험을 통해 자동으로 학습하고 개선할 수 있도록 하는 다양한 기술 또는... © dysto, 출처 Unsplash ● 방위, 국방 분야에서 기계 학습과 기계 학습 및 은 현재 다양한 군사 응용 분야에서 사용되고 있다. 전 세계 강대국 및 선진국은 무기 체계를 개선하고...', 'date': '1일 전'}\n",
      "{'title': 'AI 인공지능 관련주 엔비디아 주가 상승, 실적 예측치 상회 주식 분할 발표, 국내 관련주는?', 'text': '연일 신고가를 갱신하던 뉴욕증시는 AI 인공지능 관련주 엔비디아 실적 발표를 앞두고 약보합세로 마감됐습니다. 이날 공개된 FOMC 의사록에 따르면 최근 몇 달 동안 인플레이션... [AI 인공지능 관련주 엔비디아 실적 예측치 상회] 엔비디아 주가는 장 마감 이후 상승하며 최초로 $1,000를 돌파했습니다. 장 종료 후 공개된 실적은 예측치를 상회했는데요....', 'date': '2024.05.23.'}\n",
      "{'title': '생성형 인공지능 AI 기반 브랜딩 솔루션 클라우드바우처 지원 타이디비', 'text': \"생성형 인공지능 AI 기반 브랜딩 솔루션 클라우드바우처 지원 타이디비 안녕하세요. 사진&IT 크리에이터 자유분방입니다. 브랜딩의 사전적 정의는 '소비자와의 관계 형성에서 시작해... 이번 글에서는 창업가, 마케터, 디자이너를 위한 브랜드 구축 플랫폼으로 생성형 (AI)과 대면 컨설팅을 통한 브랜딩 방법으로 '타이디비'를 소개 드려보고 실제로 체험을 해보도록...\", 'date': '2024.04.25.'}\n",
      "{'title': '데이터 솔루션, 인공지능이 바꾸는 HR의 미래는?', 'text': '새로운 변화를 맞이하는 HR 분야 채용 IBM은 인공지능 모델 왓슨을 개발했어요. 직무 매칭을 점수화하고 성과 창출 가능성을 계산해 채용에 활용한 사례예요. 왓슨은 지원자의 경력... 성과 관리 마이크로소프트는 인공지능을 활용해 직원들의 성과를 관리하고 생산성을 높이고 있습니다. 업무 데이터를 실적, 고객 만족도 등의 데이터와 연계해 분석하는데요. 성과가...', 'date': '2024.04.23.'}\n",
      "{'title': '#인공지능회사 주식회사 #베리아이를 설립했습니다#아트테크사업제안', 'text': 'https://m.blog.naver.com/dongsn1004/223439721070 안녕하십니까 선릉역 1번출구 상제리제 A동 701호에 #인공지능회사 주식회사 #베리아이를 설립했습니다 #베리아이(VERIAI)는 1. **인공지능(AI)을 이용한 미술품 진위 확인 방법 및 해당 시스템** 2. #(AI)을 이용한 미술품 가치 평가 방법 및 해당 시스템** 3. #미술품 진위 및 가치분석을 위한 (AI)...', 'date': '2주 전'}\n",
      "{'title': '무료로 이용할 수 있는 인공지능(AI) 툴 추천', 'text': \"유튜브 링크만 붙여넣으면 AI가 자동으로 내용을 요약해주고, AI 음성 인식 기능을 통해 자막을 자동으로 생성하는 등 인공지능을 활용한 다양한 플랫폼이 개발되고 있습니다. 무료로 이용할 수 있는 인공지능(AI) 툴, 윤커뮤니케이션즈와 함께 살펴보세요! 유튜브 URL만 붙여넣으면 AI가 자동으로 요약 '릴리스(Lilys) AI' 유튜브 영상의 URL을 붙여넣으면 요약해주는...\", 'date': '2024.03.08.'}\n",
      "{'title': '인공지능 활용교육 엔지니어 취업 국비지원 학원', 'text': '그래서 오늘의 주제도 인공지능 활용교육 엔지니어 취업 국비지원 학원 이라는 내용으로 찾아왔습니다. 인공지능 활용교육 형태 자체가 온라인 4일 + 오프라인 1일로 구성되어 서울, 부산, 인천, 대구, 대전, 광주 경기도, 울산, 경상남도, 충청남도, 충청북도 전주, 제주도, 강원도 등 어느 지역에서든지 수강이 가능하고 대한민국 취업 시장에서 IT 인재 양성을 하기 위해...', 'date': '2주 전'}\n",
      "{'title': '구글, 인공 지능 인력 이민 간소화 요청', 'text': '\"Schedule A 에 인공 지능, 사이버 보안 등을 포함하도록 해야하며, 지속 업데이트 해야 한다\" - Schedule A 란? 부족 직업군에 해당하는 이민 신청자들을 위해 이민 절차를 간소화... 현재 Open AI 는 AI 전문가에게 최대 1천만불의 연봉을 주는 등 몸값이 치솟고 있음. 요약: 인력이 부족, 인건비가 비싸져 부담스러우니 정부는 이민 절차 간소화 해달라.', 'date': '2024.05.07.'}\n",
      "{'title': '파이썬 프로그래밍, 인공지능 시대에 배울 만한 가치가 있을까?', 'text': '인공지능 시대가 빠르게 다가오면서 전 세계적으로 코딩 기술에 대한 중요성이 꾸준히 강조되고 있습니다. 하지만 몇 달 전 엔비디아의 CEO 젠슨 황은 이제 코딩을 배울 필요가 없다고 언급하면서 큰 화제를 모았습니다. 그는 이 많은 프로그래밍 작업을 자동화해 코딩에 대한 수요를 줄일 것이라고 말했지만, 이 의견에 동의하지 않는 전문가들도 많습니다. 특히...', 'date': '2024.05.08.'}\n",
      "{'title': '천안시, 보행자 안전 위해 교통정보 영상에 인공지능 더한다', 'text': '이번 협약에 따라 천안시는 한국전자통신연구원과 과학기술정보통신부의 ‘장기 시각 메모리 네트워크 기반의 예지형 시각지능 핵심기술 개발’ 과제인 예지형 보행자 안전 인공지능 기술 개발을 추진합니다. 양 기관은 천안 교통정보 CCTV 영상을 접목해 테스트베드를 구축하고 예지형 보행자 안전 요소 기술과 통합 솔루션의 개발 및 검증을 위해 유기적인...', 'date': '2024.04.24.'}\n",
      "{'title': 'EBS와 협력하여 인공지능(AI) 디지털교과서 개발을 지원하다!', 'text': '첨부파일 [교육부 03-11(월) 조간보도자료]EBS와 협력하여 인공지능(AI) 디지털교과서 개발을 지원하다!.pdf 개발사가 인공지능(AI) 디지털교과서 개발에 활용할 수 있도록 한국교육방송공사(EBS) 영상, 평가문항 등 지원 풍부한 교육 콘텐츠를 (AI) 디지털교과서에 담아 학생 맞춤교육 지원 교육부(부총리 겸 교육부장관 이주호)와 한국교육방송공사(사장...', 'date': '2024.03.10.'}\n",
      "{'title': '인공지능 CCTV 캡스 텔레캅 에스원 비교', 'text': '인공지능 CCTV가 무엇일까요? 우리가 알고 있는 씨씨티비랑 다른 지 궁금하신 분들을 위해 알아보는 시간을 가져볼까 합니다. 국내 대표 보안 3사 캡스 텔레캅 에스원 비교도 하며, 장단점이 무엇인 지 꼼꼼하게 체크를 해보는 시간을 가져볼게요. <목차> 1. 캡스 텔레캅 에스원 비교 2. CCTV 뭔가요? 3. 홈캠,사무실 감지 센서 씨씨티비 ▣ 캡스 텔레캅 에스원 비교...', 'date': '6일 전'}\n",
      "{'title': '문과생도 이해하는 인공지능 101 초등학생부터 이해하는 101가지 기술', 'text': \"책의 이름은 <문과생도 이해하는 인공지능 101>인데요. 제가 이 책을 읽고 지어본 부제목이 있어요. 바로 '초등학생부터 이해하는 101가지 기술'!!! 왜 그럴지 함께 살펴볼게요! 출발합니다! 컨티뉴언 인공지능 인사이트 이 대세라고 하죠? 인터넷의 시대를 뛰어넘어 의 시대라고 합니다. 그러면 우리는 어떤 것을 준비할 수 있을까요? 어떤 것을 준비해야...\", 'date': '2024.03.30.'}\n",
      "{'title': 'AI 인공지능 재미나이로 작사하고 suno로 나만의 노래 쉽고 빠르게 작곡하기, 스마트폰강사', 'text': '스마트폰, 인공지능으로 안되는 것이 무엇일까 찾기 어려운 거 같은 요즘 시간되면 솔내거리 상인회에 참석해서 공부도 하고 서포트도 하고 있는데요, 문성식교수님, suno로 노래 만들기 교육을 하셨어요. AI 인공지능 재미나이로 작사하고 suno로 나만의 노래 쉽고 빠르게 작곡하기 스마트폰 활용교육 때 활용하면 좋겠죠! AI 재미나이로 작사하고 suno로...', 'date': '2024.02.15.'}\n",
      "{'title': '감시도 HCN 자비스넷 컬러카메라로! | 인공지능cctv | 야간cctv | 보안cctv | 침입감시cctv | 창고cctv', 'text': '#경기씨씨티비 #고양cctv #cctv출장 #CCTV #cctv설치 #CCTV설치 #씨씨티비설치 #씨씨티비 #창고시설cctv #지능형CCTV #고양CCTV설치 #창고cctv #고양시CCTV #수도권CCTV #씨씨티비 #장비업체씨씨티비 #야간cctv #CCTV #경기cctv #지능형씨씨티비 #씨씨티비 #cctv #자비스넷 #자비스넷cctv #물류창고cctv #티오더 #t오더 #테이블오더 #무인주문기 #키오스크...', 'date': '6시간 전'}\n",
      "{'title': '인공지능의 미래와 윤리문제 - 챗GPT VS 클로드 비교 분석', 'text': '인공지능의 미래와 윤리문제 - 챗GPT VS 클로드 비교 분석 “ 챗GPT VS 클로드, 비교 분석 (ChatGPT VS Claude) “ 안녕하세요 위드유입니다. 최근 전세계적으로 핫한 이슈중 하나인 인공지능 AI에 대해서 알아보겠습니다. 특히 앞으로 시대를 이끌어갈 2개 업체에 대하여 비교 분석을 하면서 윤리적인 문제 부문에서 2개 기업이 어떤 차이점을 가지고...', 'date': '2024.04.05.'}\n",
      "{'title': '갤럭시 S23 울트라 ONE UI 6.1 업데이트 및 인공지능 사진보정 서클투서치 사용 후기', 'text': '갤럭시 S23 울트라 ONE UI 6.1 업데이트 및 인공지능 사진보정 서클투서치 사용 후기 안녕하세요. 사진&IT 크리에이터 자유분방입니다. ONE UI 6.1이 업데이트가 되었다는 소식을 접한지는 시간이 꽤 흘렀지만, 조금 지켜보고 업데이트를 하는 게 좋을 것 같아서 미루고 미루다가 업데이트를 진행을 해보았습니다. 기존 갤럭시 S24에 탑재된 AI 기능이 갤럭시 S23...', 'date': '2024.04.10.'}\n",
      "{'title': '석유화학산업 분야와 스마트 기술의 만남(빅데이터, 나프타, 스마트플랜트전환, )', 'text': '정보를 저장하는 컴퓨터를 넘어 스스로 생각하는 지능을 가지고 있는 인공지능이 발달해 학습과 판단을 할 수 있는 수준까지 도달했고 방대한 양의 데이터를 학습시킬 수 있는 하드웨어의 성능 즉, 빅데이터와 넓은 범위의 네트워크를 통해 접근할 수 있는 가상화 된 서버인 클라우드까지! 이 모든 것이 4차 산업혁명 시대의 대표적인 기술입니다. 출처 : 클립아트코리아...', 'date': '2024.03.29.'}\n",
      "{'title': '뷰 에어컨(FQ18EV4EA1) 달라진 점!! 뷰케이스로 인테리어 클린뷰로 직접 청소 은 기본(feat. LG)', 'text': '물론 인공지능은 기본입니다. 요즘 인공지능을 전면에 내세우는 것은 큰 의미가 없어 보입니다. 엘지 휘센 뷰 에어컨(FQ18EV4EA1)을 보니 사용하고 있는 인공지능 스스로 에어컨이 완전 오징어가 된 기분이 들지만 아직도 쎙쌩하니 좀 더 사용해야겠습니다. 그러나 결혼을 앞둔 신혼부부가 신혼살림을 장만하거나 이사하면서 새 가전을 교체할 분이라면 엘지 휘센...', 'date': '2024.03.28.'}\n",
      "{'title': 'AI가 인간의 오감까지 구현한다고? 인공지능 로봇의 진화!', 'text': '인공지능(AI)은 현대 기술의 최첨단을 달리고 있으며, 다양한 분야에서 혁신적인 변화를 이끌어내고 있습니다. 그중에서도 인간의 오감을 인식하는 인공지능(AI) 기술은 인간과 기계의 상호작용을 보다 자연스럽고 효율적으로 만드는 데 중요한 역할을 하고 있습니다. 이러한 기술은 음성 인식, 이미지 인식, 촉각 센서, 향기 및 맛 인식 등 다양한 형태로 구현될 수...', 'date': '4일 전'}\n",
      "{'title': '[도서] AI 챗GPT 디지털 예술가 되기 : 인공지능과 예술이 만나다, 누구나 쉽게 디지털 예술가 되기!', 'text': '요즘에는 인공지능 AI 기술의 눈부신 발전으로 인해서 마우스 클릭 하나면 단 몇 분 만에 뛰어난 퀄리티의 작품들을 만들어낼 수 있는 순간이 찾아왔습니다. 실제로, 작년에는 AI로 그린 그림이나 소설 작품들이 공모전 등에서 우수한 성적을 거두면서 입상을 해서 큰 논란이 되기도 했죠. 처음에는 인공적인 느낌의 어색한 부분들이 자주 보여서 이것이 바로 AI의...', 'date': '2024.05.16.'}\n",
      "{'title': '인공지능 미래 및 앙명선 그리고 AI 종류', 'text': '인공지능 접목 다양한 산업에 인공지능이 융합되고 있습니다. 지금은 인공지능이 없는 미래는 상상하기 어려운 상황에 직면했는데요. 의료, 금융, 마케팅, 제조, 헬스케어 등등 인공지능은 이미 우리 일상 생활에 빠르게 접목되고 있습니다. 현재의 ai는 이미 우리 사회에 많은 영향을 끼치고 있으며 앞으로의 미래에도 중요한 역할을 할 것입니다. 의 미래...', 'date': '2024.05.24.'}\n",
      "{'title': \"'인공지능학과' 진학 위한 세특 탐구주제\", 'text': '인공지능에 대한 기본 지식 표현과 문제해결방법, 지능형 시스템 개발론, 탐색 방법과 학습 방법 등 인공지능 모델의 전반적인 이론에 대해 학습한다. ㆍ분산학습시스템 = 학습에 활용되는 근간 데이터 관리 프레임워크 및 기계학습 및 데이터분석 알고리즘 수행 프레임워크에 대해서 학습한다. 빅데이터 플랫폼과 더불어 최근 추세는 클라우드 및 기계학습 플랫폼으로...', 'date': '1일 전'}\n",
      "{'title': '[상권분석전문가과정 31기 3주차 수업 예고] 인공지능을 이용한 상권분석', 'text': '#상권분석 #인공지능활용 안녕하세요. 상권분석전문가과정 김영갑 교수입니다. 오늘은 다음주 화요일(5월 21일)에 진행하게 될 상권분석 31기 3주차 수업에 대한 간략한 안내를 드립니다. 3주차 수업의 핵심 주제는 인공지능을 활용한 상권분석입니다. 소상공인진흥공단의 상권정보시스템에서 조사한 데이터를 을 이용해서 분류하고 분석하는 방법을 자세하게...', 'date': '2024.05.19.'}\n",
      "{'title': 'AI부트캠프 인공지능 개발자 비전공자가 주목해야 하는 이유(국비지원)', 'text': '반면 인공지능에 관련된 전공자 자체가 아직 없으며 AI 국비지원, AI 부트캠프도 찾아보기가 어렵습니다. 즉, 개발자 채용이 줄었다기 보다는 웹(프론트, 백엔드) 부문의 개발자 채용이 줄었으며 AI 개발자 채용은 매년 빠르게 늘어나고 있습니다. 그 밖에도 자율주행자동차 산업이 빠르게 성장하며 HW 코딩을 담당하는 임베디드 채용도 늘고 있어요. 개발자...', 'date': '3주 전'}\n",
      "{'title': '[진실 혹은 거짓] 인공지능, 인간의 오감까지 느낄 수 있다?', 'text': '이러한 인공지능이 이제는 인간의 오감까지 느낄 수 있다? 오늘의 진실 혹은 거짓 주제는 인공지능과 인간의 오감에 대한 루머를 다루어 보려고 합니다. NIPA와 함께 알아볼까요? 인공지능, 인간의 오감까지 느낄 수 있다? , 인간의 오감까지 느낄 수 있다? 정답은, 거짓! 현재 로봇과 기술이 발달함에 따라 이 인간을 대신해 많은 일을 하고 있지만...', 'date': '6일 전'}\n",
      "{'title': '인공지능 AI 블루투스 스피커 씽고 특징 기능', 'text': '인공지능 기술을 활용한 AI 스피커 제품으로, 음악 재생, 날씨 정보, 일정 관리 등 다양한 기능을 제공하며 어떤 특징이 있는지 살펴보겠습니다. 무선으로 연결되는 블루투스 스피커... 씽고 AI 스피커 제품은 인공지능 기술을 통해 사용자의 음성 명령을 인식하고 응답할 수 있는 특징을 가지고 있습니다. 예를 들어, \"씽고야, 오늘 날씨 어때?\"라고 말하면 현재 위치의...', 'date': '2024.03.11.'}\n",
      "{'title': '[2월 26일 마감시황] 인공지능(AI) 테마 추가 반등은 아직', 'text': \"바탕으로 인공지능(AI) 테마가 주식시장 상승 모멘텀을 끌고 갈 것이란 기대가 높기는 하지만 본격적인 추가 반등은 아직 현실로 나타나지 않고 있음 '월가 공포지수' 변동성 지수(VIX)는 보합세 업종별로는 혼조세 테슬라가 포진한 임의소비재와 에너지, 엔비디아 등이 들어가 있는 기술업종이 상승 (AI) 시장 경쟁이 심화하는 가운데 검색시장...\", 'date': '2024.02.27.'}\n",
      "{'title': '포크링크 패션 인공지능 리퍼 재고상품 명품 브랜드 싸게 구매하는 법!', 'text': '이번에 리퍼 전문 쇼핑몰 패션 인공지능 기업 웨얼리가 만든 온라인 재고상품을 파는 온라인 패션 아울렛을 소개드릴게요! 국내 100여 브랜드 입점 외에도 발렌시아가 ,구찌, 톰브라운... 패션 인공지능 기업이라 국내 재고 외에 행외 재고까지 소싱하고 있어서 수시로 둘러보며 득템 기회 노려보고 있어요! 기반추천 시스템으로 패션 이미지를 분석해서 추천해...', 'date': '4시간 전'}\n",
      "{'title': '[행사: 한국언론학회 봄철 정기학술대회 참관기] 언론학 100년, 인공지능 시대 미디어의 미래를 준비하다', 'text': '커뮤니케이션 철학과 사상 연구회 세션에서 박승일(서강대)은 인공지능이 인간 문명사에서 언어적 전회(linguistic turn)에 버금가는 인공적 전회(artificial turn)를 가져올 수 있으며, 인공지능, 언어, 기술적 존재로 이어지는 새로운 기술 철학을 구축할 필요가 있다고 주장했다. 미디어 심리 연구 100년의 성찰과 전망을 다룬 대주제 세션 발표에서 나은영(서강대)은 지난...', 'date': '2주 전'}\n",
      "{'title': '인공지능학과 대학 탄탄한 진로준비', 'text': '인공지능학과 대학 탄탄한 진로준비 우리의 생활 반경에서 로봇청소기가 청소를 대신하고, 음식을 주문할 때 사람 대신, 로봇이 배달을 하는 현상들을 요즘엔 더 많이 찾아볼 수... 이런 분야로 공대 진학을 고려하고 계신다면, 학과 대학준비를 통해서 보다 나은 기술력을 배워나가고, 보안과 관련된 부분까지 연계하여 준비를 해본다면, 개인정보보호 분야와...', 'date': '4일 전'}\n",
      "{'title': '(주)에버영피플 인공지능 데이터 활용 무료 교육생 모집 지원 절차', 'text': '[에버영피플] 인공지능 데이터 가공 전문가 되어 미래를 바꾸세요! 지금 바로 선착순 모집에 신청하세요 오늘은 주)에버영피플에서 인공지능 데이터 활용 무료 교육생 모집에 대해 알려드리겠습니다 인공지능 시대, 데이터는 미래를 움직이는 핵심 자원입니다 지금 바로 에버영피플의 데이터활용 교육 지원 모집에 참여하여 데이터 가공...', 'date': '2주 전'}\n",
      "{'title': 'AI × 인간지능의 시대 인공지능과 제대로 놀아보실래요?', 'text': \"책과 함께 AI를 활용해 미래를 창조해보고, 각자의 분야에서 AI를 통해 '멋진' 미래를 이끌어 가길 바랄게요. AI × 인간지능의 시대 저자 김상균 출판 베가북스 발매 2024.04.17. * 마지막으로 좋은 책과 함께 할 수 있는 기회를 주신 김상균 교수님과 베가북스출판사분들에게 감사의 말씀을 남깁니다. #AIx인간지능의시대 #김상균교수 # #챗GPT #AI #오픈AI #베가북스\", 'date': '2024.04.13.'}\n",
      "{'title': '[생성형 인공지능] Suno AI(수노 ai) 누구나 무료로 노래를 만들 수 있는 플랫폼 사용법', 'text': '(인공지능 플랫폼이 대부분 외국에서 만든 것들이기 때문에 구글 계정을 활용하면 가입이 쉽습니다!) 가입이 완료되면, 왼쪽 메뉴에서 [만들다]를 클릭합니다. 이후 노래 설명을... Suno AI를 이용해서 자신만의 노래를 만들어 보세요. 과 더욱 친숙해지는 기회가 될 것입니다. 무료로 영상을 생성하는 플랫폼 Pika 활용법은 다음을 확인하세요! \"', 'date': '2024.04.27.'}\n",
      "{'title': '인공지능 반도체 관련주: 엔비디아 주식 주가 전망', 'text': '인공지능 반도체 관련주 엔비디아의 영향은 이뿐만이 아니다. 최근 떠오르고 있는 전기차에도 지대한 영향을 미치고 있다. NVIDIA DRIVE 자율 주행 플랫폼 및 자동차 개발 계약 Jetson... 반도체 관련주 엔비디아 엔비디아 주가 근황 관련주 엔비디아 주가 엔비디아(NVIDIA)는 최근 어닝 서프라이즈를 통해 주가가 크게 상승하였다. 현재 엔비디아 주가는 762....', 'date': '2024.02.23.'}\n",
      "{'title': '인공지능(AI) 기술의 발전은 놀라운 속도로', 'text': '인공지능(AI) 기술의 발전은 놀라운 속도로 진행되고 있으며, 특히 온디바이스 AI와 클라우드 AI는 현대 기술 환경에서 중요한 역할을 하고 있습니다. 이 두 기술은 각각의 장단점을 가지고 있으며, 사용자의 요구와 환경에 따라 적합한 선택이 달라질 수 있습니다. 온디바이스 AI는 기기 내부에서 독립적으로 작동하는 AI 시스템으로...', 'date': '4주 전'}\n",
      "{'title': '[2024 입결] 서강대 입결 ... 인공지능학과 교과 1.83, 학종 2.07, 전자공학 교과 1.39, 학종 1.81', 'text': '[교과전형] 전자공학 1.39, 생명과학 1.4, 인공지능 1.83, 인문학부 1.63, 사회과학 1.42, 수학 1.67. 인공지능 학과가 낮은데, 2025 입시에서는 인공지능 학과가 좀 더 높아지지 않을가 생각합니다. 이에 반해 의대 증원으로 생명과학은 조금 낮아지지 않을까 싶습니다. [학종전형] 사회학과 1.98, 수학 2.15, 전자공학 1.81, 생명과 2.87 역시 학과가 많이...', 'date': '2일 전'}\n",
      "{'title': '2025년 인공지능 디지털교과서 도입 대비, 수학·영어·정보 교과 교수·학습 방안 논의', 'text': '이후 교과별 학회 전문가, 교과연구회 및 전문적 학습공동체 등에서 활동하는 교원이 학교 현장에 적합한 교과별 인공지능(AI) 디지털교과서를 활용한 교수·학습 방법을 제안할 예정이다. 오석환 교육부차관은 “올해는 공교육 디지털 대전환을 위한 골든타임”이라고 말하며, “교실혁명의 주인공인 교사가 수업을 혁신할 수 있도록 맞춤 교원 연수와 함께 교과별...', 'date': '2024.01.30.'}\n",
      "{'title': 'AI 인공지능 반도체 수요 증가로 매출 급등한 파운드리 관련주 TSMC 주가', 'text': '이는 AI 인공지능 반도체 수요 급증에 따른 것으로 분석되는데요. 반도체 파운드리란 무엇이고 자세한 TSMC 주가 강세 요인이 무엇인지 함께 살펴보도록 하겠습니다. [반도체... Verified Market Research의 자료에 따르면 글로벌 파운드리 시장 규모는 AI 반도체 시장 성장에 힘입어 2023년 825억 달러에서 연평균 7.6% 성장하며 2030년에는 1.368억에 달할 것으로...', 'date': '2024.05.11.'}\n",
      "{'title': '인공지능폰 갤럭시Z 폴드6 S펜 탑재해 출시될까? 카메라 스펙과 소재 변화로 가벼워진 무게 그리고...', 'text': '인공지능폰 갤럭시Z 폴드6가 출시되면 꾸준히 니즈가 있었던 S펜 탑재 여부에 관심이 많습니다. 아마도 인공지능폰 갤럭시Z 폴드6에 S펜이 탑재되어 출시된다면 매출량에 상당히 기여할 수 있지 않을까 싶습니다. 사실 S펜을 폰케이스에 장착하는 것은 영~ Flex되지 않고 불편하거든요. 7인치대의 대화면으로 한 번에 많은 콘텐츠를 볼 수 있는 매력 때문에 인기가...', 'date': '2024.02.12.'}\n",
      "{'title': 'AI 프로필 어플 캐럿 AI 사진 만들기 인공지능 후기', 'text': '그러면 친구 혹은 지인에게 링크를 받을 수 있는데요. URL을 지인에게 전달하여 어플을 사용하게 된다면 열쇠를 획득할 수 있습니다. 마무리 요즘, 퍼스널 브랜딩은 필수인데요. 캐럿을 활용하여 SNS 인스타, 블로그, 카카오톡 프로필 등 본인을 대표하는 포토를 만들어주시기 바랍니다. 자세한 내용은 아래 하단을 참고 바랍니다. 감사합니다. #', 'date': '2024.03.28.'}\n",
      "{'title': '엔비디아 주가 실적 발표 주식액면분할 인공지능 대장주 젠슨황', 'text': '엔비디아 주가 실적 발표 주식액면분할 인공지능 대장주 젠슨황 인공지능AI대장주 엔비디아의 주가가 고공행진하고 있습니다. 역시 주가는 성장성과 수익, 기대심리로 오르는거라는 게 확인되고 있어요. 엔비디아1분기 실적 1분기 매출은 전년동기대비 262%증가한 260억달러, 조정 주당순이익EPS는 461%급증한 6.12 달러 입니다. 시장전망치를 아웃퍼폼했습니다. 그리고...', 'date': '2024.05.23.'}\n",
      "{'title': '휴런 장외주식 혁신적인 인공지능 기술을 갖춘 기업', 'text': \"오늘은 뇌에 관련된 질환들이 인생에 걸림돌이 되지 않도록 혁신적인 인공지능 기술을 가진 휴런 장외주식에 대한 소식과 함께 회사의 정보 및 근황에 대해 말씀드리겠습니다. 이곳은 신경과 전문의의 주도를 통해 발전시킨 ' 헬스테크'로서 전문 임상의의 진단 로직을 AI 모델로 구현해서 의료 대응을 위한 해법을 제시하고 있는데요. 이곳만이 가진...\", 'date': '3주 전'}\n",
      "{'title': 'SOXL 투자 이유? 인공지능시대, 멀티모달 AI GPT-4o 등장했다는데요?', 'text': 'PURPOSE 블로그 목적 주식 투자자의 관점에서 꼭 확인해야할 인공지능시대 GPT-4o관련 소식에 대해서 공부및 정리후 나만의 노하우와 지식을 공유한다. 블로그 요약 1. 인공지능시대 멀티모달 AI GPT-4o에 대해서 알아본다. 2. ICE반도체지수 3배레버리지 SOXL에 대해서 알아본다. 3. SOXL 투자 관련 나만의 생각을 정리해본다. FIRST STORY 시대 멀티모달 AI GPT-4o...', 'date': '3주 전'}\n",
      "{'title': '2024 월드IT쇼 첫날 방문기! 일상을 바꾸는 AI(인공지능)기술은?', 'text': '루하티는 인공지능 기반의 반려견 전용 헬스케어 디바이스를 선보였습니다. 집에서 누구나 강아지의 몸 상태를 체크할 수 있게 된 것이죠. 심장소리, 활동량, 체온 변화 등... 특히, 4D 푸드 프린팅 시스템은 인공지능 기반의 개인 맞춤 영양 제공시스템입니다. 영양 설문->영양 카트리->프린터->액상보틀의 프로세스로 맞춤 영양제를 제공받을 수 있는 것이죠. 사업...', 'date': '2024.04.17.'}\n",
      "{'title': '‘인공지능’ 시대의 농업유전자원', 'text': '‘인공지능’ 시대의 농업유전자원 농업유전자원센터는 데이터 라벨링을 통한 농업식물유전자원의 빅데이터 구축을 계속해 품종 육성 디지털화를 위한 기초자료를 제공해 나갈 계획이다. 최근 빈번하게 등장하는 신조어가 하나 있다. 바로 ‘데이터 라벨링(Data labeling)’이다. 사람이 만든 데이터를 (AI)이 인식할 수 있도록 각 데이터에 정보를 붙여주는...', 'date': '2024.02.26.'}\n",
      "{'title': '인공지능 데이터라벨링 꾸준한 수입 올리는 법', 'text': '인공지능 데이터라벨링 꾸준한 수입 올리는 법 안녕하세요. 사진&IT 크리에이터 자유분방입니다. 데이터라벨링은 인공지능 모델이 학습할 수 있도록 데이터의 레이블을 지정하는 작업을 의미합니다. 이미지나 텍스트, 오디오, 비디오 등에 레이블을 지정하는 방식입니다. 2023년도 그렇고 챗GPT의 시대는 2024년에도 여전히 진행 중입니다. 대규모 언어모델이자 챗봇인...', 'date': '2024.02.06.'}\n",
      "{'title': '엑셈 주가 전망 AI 인공지능으로 무장한 기업.', 'text': '데이터베이스를 비롯한 시스템 전 구간 성능 관리에서 클라우드, 인공지능, 빅데이터에 이르기까지 폭넓은 기술력으로 대한민국을 대표하는 IT기업이 있습니다. 바로... 지난 5월 1일부터 3일까지 진행된 \"국제 인공지능 대전 2024\"에서 엑셈은 기술을 활용한 무중단 IT 운영을 지원하는 싸이 옵스(XAIOps)를 비롯한 제품들을 선보였으며 호평을...', 'date': '2일 전'}\n",
      "{'title': '[강사 양성 과정] 대한민국 최초 소상공인 매출 증대를 위한 인공지능 활용 강사 과정 1기 개강 안내', 'text': '소상공인을 위한 인공지능 강의 전담 강사 양성 과정을 준비하고 있습니다. \"소상공인 매출 증대를 위한 인공지능 활용 전문가 과정\"을 준비하고 있습니다 1기는 \\'소상공인 인공지능 활용법 전문 강사 양성\\'을 목적으로 진행합니다. 아래 강의 내용을 충분히 검토 후 수강신청서를 작성해 주시기 바랍니다. 수강 신청후 2일 이내 입금이 되지 않는 경우 미신청자로...', 'date': '2주 전'}\n",
      "{'title': '\"창조적 시선\"에서 기술 결정론에 대한 대목 공유와 인공지능에 대한 간단한 의견', 'text': '그런데 방금 읽고 있는 대목 중에서 최근 인공지능 관련된 강의에서 강조한 내용(인공지능이라는 기술이 단순히 그 기술을 도입하는 것을 넘어 인공지능의 도입하려는 조직과 기업 문화를 바꿔야 한다)과 같은 맥락으로 읽을 수 있는 대목이 있어서 해당 부문을 공유하려고 합니다. 아래 글에서 등자 대신 을 바꾸고 등자로 미칠 영향에 대한 몇몇 대목을...', 'date': '2024.04.10.'}\n",
      "{'title': 'IMF가 정부에 AI 경고한 이유와 인공지능이 고용 및 노동시장에 가져오는 영향', 'text': '그래서 이번 시간에는 IMF가 정부에 AI 경고한 이유와 인공지능이 고용과 노동시장에 미치는 영향을 알아보려고 합니다. IMF가 우려하는 이유 국제통화기금 IMF에서는 AI가 현재 노동시장에 혼란을 가져오고 불평등을 불러올 수 있는 것에 경고를 하며 모든 국가의 정부에서 대책 마련을 해야 한다고 촉구하고 있습니다. 또한 AI로 인해서 지능적인 로봇이 나오게 되면서...', 'date': '1주 전'}\n",
      "{'title': '인공지능의 시대의 미래교육', 'text': '인공지능의 교육적 활용이 미칠 사회적 효과 (The Social Consequences of Al in Education) 앞에서 살펴보았듯이, 교육분야에서 인공지능 기술의 적용은 빠르게 증가하고 있다. 이 책에서는 현재 이용되고 있는 다양한 인공 지능 기술들과 점점 더 활용 가능성이 높아질 것으로 예상되는 기술에 대해 살펴보았다. AIED는 일정 부분 주목할 만한 성공을 달성했고, 활용...', 'date': '2일 전'}\n",
      "{'title': '인공지능 AI시대, 살아질 직업, 살아남을 직업? #피규어AI #챗GPT', 'text': '인공지능 AI시대 살아질 직업, 살아남을 직업? #피규어AI #챗GPT 예전에는 인공지능과 로봇의 발달과 관련해 이런 말들이 있었습니다. “단순 노동은 로봇이 대체할 것이고 창의력을 발휘할 수 있는 직업이 살아남을 것이라.” 그런데 말이에요. 챗GPT를 비롯해 압도적인 성능을 발휘하는 이 등장하면서 위의 말이 사실과 좀 다르다는 생각 안 드나요? 의사...', 'date': '2024.03.26.'}\n",
      "{'title': \"산업통상자원부, 인공지능(AI) 시대 산업전략 '열공 중'\", 'text': \"산업통상자원부, 인공지능(AI) 시대 산업전략 '열공 중' 산업통상자원부 제1차 [AI 시대의 신(新) 산업정책] 전문가 간담회 산업통상자원부는 6.7.(금) 오전 10시 안덕근 장관 및 국내 기업·학계의 인공지능(AI) 분야 전문가들이 참석한 가운데 제1차 [ (AI) 시대의 신(新) 산업정책] 전문가 간담회를 개최하였다. 지난 5.8.(수) [AI 시대의 新 산업정책] 위원회...\", 'date': '3주 전'}\n",
      "{'title': '인공지능 자연어 번역 시스템 DeepL 뜻과 사용법', 'text': '최근 인공지능을 공부하고 스터디를 하고 있다보니 많은 용어들이 생소하였는데요. 반복해서 DeepL을 사용하여 비지니스에 사용하시는 분들이 많고 자연어 번역 시스템으로 유명한 프로그램이기에 뜻과 함께 사용법등을 이해해보고자 합니다. DeepL 이란?뜻 DeepL은 독일의 한 회사에서 만든 번역 프로그램입니다. 이 프로그램은 (AI)을 사용해서 문장의...', 'date': '2주 전'}\n",
      "{'title': 'AI 인공지능시대에 글은 그림은, 책은? - 볼로냐국제어린이도서전, 그림작가들의 벽 앞에서', 'text': '평면작품을 입체로 만들어 도드라지게 하거나, 아예 인공 찰흙으로 조형을 만들어 붙이거나 작품과 큐알코드를 함께 두어 바로 다양한 제 작업으로 연결시키거나 한 다양한 방식으로... 그림도 몇 가지 키워드 텍스트로 금세 금세 만들어지는 일러스트의 시대가 되었어요. 심지어 ‘소라’라는 영상 제작 툴은, 영상도 실제와 거의 같이 만들어주어요....', 'date': '2024.05.09.'}\n",
      "{'title': 'AI 인공지능 관련주 한글과컴퓨터 주식 실적 및 주가 차트분석', 'text': '요즘 급등하고 있는 AI 인공지능 관련주 한 글과 컴퓨터 주식 실적 및 주가 차트에 관해 분석해 봅니다. 한글과컴퓨터 회사 소개 * 소프트웨어 개발 및 공급업을 목적으로 1990년 10월... 출처:네이버 금융 AI 인공지능 관련주 한글과컴퓨터 실적 분석 2023년 실적은 지난해 대비 매출액은 증가, 영업이익도 크게 증가했으나 당기순이익은 적자를 기록함. 2024년 실적...', 'date': '2024.05.16.'}\n",
      "{'title': '2024년 월드IT쇼의 주제와 주인공은 인공지능(AI) 그리고 LG전자', 'text': '심지어 인공지능을 이용해서 지뢰 탐지 하는 기술도 있더라고요. 실용화된 건 아니고 개발 단계입니다. 원리는 시각 정보를 이용해서 학습한 AI가 탐지를 하는 방식입니다. 2024년 ICT 기술 사업화 페스티벌도 함께 하고 있는데 여기는 관람객도 적고 관련 부스에서 적극적으로 설명도 하지 않는 등 대단히 게으르고 억지로 참가한 듯한 모습이 보여서 좀 아쉬웠습니다....', 'date': '2024.04.18.'}\n",
      "{'title': '(장전시황)여전히 인공지능이 대세', 'text': '오늘 우리시장은 필라델피아 반도체 지수의 강세로 인해 갭상승 출발이 예상됩니다 하지만 너무 큰 갭상승은 결국 그자리를 내놓을 가능성이 높다고 보여집니다 특히 오늘 옵션만기일인만큼 유동성도 배제할수 없을듯 합니다 어제 미증시를 살펴보면 애플을 비롯해 엔비디아, arm, 브로드컴등 섹터가 강세를 보였습니다 결국 지금 믿을것은 섹터밖에...', 'date': '2주 전'}\n",
      "{'title': '인공지능 LLM 개인정보보호 LMM보안 프라이빗 LLM CAPSULE 웹사이트', 'text': \"인공지능 LLM CAPSULE웹사이트 모든 위험 요소를 한 번에 해결! LLM Capsule 은 사용자가 개인정보 및 민감 정보 노출걱정없이 LLM을 사용할 수있게 해주는 보안 솔루션이예요 기업과... 개인정보 보호가 가능한 인공지능 보안서비스 필수! LLM Capsule는 행정안전부의 '개인정보 비식별 조치 가이드라인'을 준수하며, 개인정보 보안에 거의 100%에 가까운 결과를...\", 'date': '4주 전'}\n",
      "{'title': '보이스레코더 플라우드 노트 통화녹음 소형녹음기 챗GPT 인공지능 Plaud Note', 'text': '보이스레코더 플라우드 노트 통화녹음 소형녹음기 챗GPT 인공지능 Plaud Note 안녕하세요. 사진&IT 크리에이터 자유분방입니다. 챗GPT가 공개된 이후로 다양한 분야에 인공지능 AI가 적용이 되고 있습니다. 생각지도 못했던 다양한 분야에 AI, 챗GPT 등이 사용이 되는 모습을 쉽게 볼 수 있는데요. 심지어 소형 녹음기, 보이스레코더에도 챗GPT가 적용이 되어 출시가...', 'date': '2024.04.24.'}\n",
      "{'title': '인공지능 AI 반도체 관련주 미국 국내 (1편)', 'text': '인공지능 AI 반도체 관련주 미국, 국내 미국 엔비디아 주가가 연일 폭등하고 있어서 AI 반도체에 대해 이야기를 해보려고 합니다. AI 반도체를 글 한편에 모두 설명하기에는 얽혀 있는 기업들도 많고 그 먹이 사슬을 이해하는 데만 해도 너무 정보가 방대하기 때문에 앞으로 AI 반도체 글을 시리즈 형식으로 나눠서 올릴 생각입니다~ 1. AI 가 대세 * 현재...', 'date': '2024.02.17.'}\n",
      "{'title': '출판사에서 인공 지능을 활용하는 사례', 'text': '인공 지능을 활용해 만든 책 표지 <아버지의 마지막 골프 레슨> 북스톤의 책 중에 인공 지능을 활용한 표지가 있다는 사실, 알고 계시나요? 그 주인공은 바로 <아버지의 마지막 골프 레슨>입니다. 제목과 마찬가지로 표지도 책의 분위기를 한 번에 소개할 수 있어야 하죠. 아버지와 함께 골프 필드에 나가 있는 책 표지의 이미지는 바로 으로 만든 그림이랍니다....', 'date': '4일 전'}\n",
      "{'title': '[생성형 인공지능] 미드저니(Midjourney)에서 캐릭터 일관성을 유지하는 방법', 'text': '이미지 생성 인공지능에서 가장 어려운 것 중에 하나가 생성된 이미지와 동일한 캐릭터를 사용하는 것입니다. 기존에는 유사한 이미지를 생성할 수 있어, 이미지 생성의... 그럼 미드저니를 활용해 웹툰, 인공지능 광고 모델, 가수, 인플루언서 등 다양한 캐릭터가 생성될 것입니다. 지금까지 미드저니에서 캐릭터 일관성을 유지하는...', 'date': '2024.04.21.'}\n",
      "{'title': '애플 iOS 18 출시일 언제? 인공지능 기능 탑재 예상!', 'text': '그 이유는 애플의 새로운 OS에는 늘 새로운 기능이 탑재되고 있으며, 특히 이번 버전의 경우 다양한 인공지능 기능들이 탑재될 것으로 예상되고 있기 때문입니다. 그래서 오늘은... 이번 버전의 핵심은 역시 인공지능 기능이라고 할 수 있습니다. 현재 시장에서는 애플이 이번 버전부터 온디바이스 AI 기능을 제공할 것으로 예상하고 있는데요. 대표적으로 Siri 개선...', 'date': '2024.04.28.'}\n",
      "{'title': '투자자들의 마음을 사로잡은 인공지능 블록체인 솔루션', 'text': '인공지능과 블록체인 기술을 결합한 솔루션의 개발과 암호화폐 분야에 참여하는 기관 투자자를 대상으로 한 상품이 증가하면서 투자자들을 끌어들이고 있습니다. 아래는... 두바이에 설립된 이 스타트업은 탈중앙화된 인공지능 모델을 사용하여 투명성과 편향성 등 기존 신용 평가 시스템의 단점을 해결합니다. 이번 라운드에는 글로벌 투자사인...', 'date': '2024.03.19.'}\n",
      "{'title': '고품질 이미지 생성 인공지능, SeaArt AI를 아시나요?', 'text': '고품질 이미지 생성 인공지능, SeaArt AI를 아시나요? SeaArt AI는 다양한 AI 기반의 예술 생성 도구를 제공하는 플랫폼입니다. 이 플랫폼은 사용자가 텍스트 설명으로부터 고품질 이미지를 생성할 수 있도록 지원하는 여러 AI 모델과 도구를 갖추고 있습니다. SeaArt AI는 특히 그래픽 디자이너, 아티스트 및 콘텐츠 제작자에게 매력적인 선택지를 제공합니다. 주요...', 'date': '2024.04.28.'}\n",
      "{'title': 'AI 인공지능 관련주 엔비디아 강세 이유와 국내 엔비디아 관련주', 'text': '[AI 인공지능 관련주 엔비디아 강세 요인] 전날 장 마감 후 실적을 발표한 구글과 마이크로소프트는 어닝 서프라이즈를 공개하며 각각 +9.96%, +1.82% 상승했습니다. Google과 Microsoft의 실적 발표는 AI 인공지능 관련주 엔비디아에도 긍정적인 영향을 미치며 주가가 +6.18% 올랐습니다. 마이크로소프트는 컨퍼런스콜을 통해 클라우드 및 AI 제품을 지원하기 위한...', 'date': '2024.04.27.'}\n",
      "{'title': \"'LG전자' 주식 분석! AI 인공지능 산업 수혜?\", 'text': '특히 거래량이 폭발한 5월 28일에 개인이 엄청난 매도세를 기록했죠. 오늘은 LG전자 기업에 대해 함께 알아보았는데요~ 인공지능 AI 수혜주로 평가를 받으며 주가가 많이 상승을 했습니다! 올해 2024년 실적도 긍정적으로 보여 주식이 더 오르게 될지 궁금하네요. 관련 내용 확인하기! ▼ ▼ ▼ ▼ ▼ ▼ ▼', 'date': '4주 전'}\n",
      "{'title': 'AI의 모든 것, AI EXPO KOREA 2024 국제인공지능대전 전격 분석! 기업 및 기관의 AI 활용과 보안', 'text': '<행사 개요> 행사명 : AI EXPO KOREA 2024 (국제인공지능대전) 일시 : 2024년 5월 1일(수) ~ 3일(금) 10:00 ~ 17:00 장소 : 서울 COEX 3층 HALL D 개최 규모 : 약 300개사 500부스 주최/주관 : (사)한국인공지능협회, ㈜서울메쎄, 신문 제7회 AI EXPO KOREA 2024 (국제대전)이 5월 1일부터 3일까지 총 3일간 서울 COEX 3층 D홀에서 성황리에 개최됐습니다....', 'date': '2024.05.09.'}\n",
      "{'title': '수십 년 동안 편안하게 매수하고 보유할 인공지능(AI) ETF 2가지- QQQ와 CHAT', 'text': '인공지능은 세계 경제에 15조 달러의 경제적 가치를 더할 수 있습니다. 인공지능(AI)에 대한 과대광고는 지난 18개월 동안 과장되어 왔습니다. AI가 세상에 나온 지 수년이 지났지만, 최근 기술의 발전으로 인해 AI는 투자 잠재력 측면에서 아직 초기 단계에 머물러 있습니다. 투자자들은 앞으로 몇 년 동안 더 많은 변화를 기대해야 합니다. 일부...', 'date': '2주 전'}\n",
      "{'title': 'WIS 월드IT쇼 2024 인공지능(AI)의 미래를 확인하는 4월 IT전시회', 'text': \"'인공지능(AI)'는 헬스케어, 자율 주행, 금융 서비스, 쇼핑, 제조업 등 다양한 분야에서 활발하게 사용되고 있다. 지난 몇 년전 까지만 하더라도 간단하게 콘텐츠를 추천하면서... 이렇듯 AI는 짧은 기간에 우리의 미래 변화를 예고하며, 많은 기업과 소비자가 일상에 을 접목해 효율성을 어떻게 향상시킬 수 있을지에 큰 관심을 기울이고 있다. 미래를...\", 'date': '2024.04.06.'}\n",
      "{'title': '자동으로 PPT를 만들어주는 Gamma app (인공지능)', 'text': '© CoolPubilcDomains, 출처 OGQ 요즘은 생성형 인공지능의 시대다. 특히 chat gpt를 사용하지 않으면 정말 심각하다는 느낌이 들 때도 있는데, 특히 유사한 서비스들이 많아지면서 업무 자체가 많이 단축되고 자동화되는 것 같다. 오늘은 많은 업무 중 파워포인트를 빠르고 쉽게 자동으로 만들어주는 웹 사이트, Gamma app에 대해 알아보도록 하자. 우선은 chat gpt에서...', 'date': '2024.02.05.'}\n",
      "{'title': 'AI 인공지능 관련주 TOP 10 미국주식에 투자하는 국내 ETF', 'text': \"(페이스북, 애플, 아마존, 넷플릭스, 구글) 최근에는 AI 위주의 투자가 주목받으면서 FAANG에서 넷플릭스가 제외되고 최대 AI 인공지능 관련주 엔비디아, 테슬라, 마이크로소프트가 포함된 'M7'(Magnificent7)이라는 용어를 많이 사용하고 있습니다. 하지만 M7 기업이라고해서 모두 주가 상승을 기록하고 있는 것은 아닙니다. 실제로 최대 관련주 엔비디아가...\", 'date': '2024.03.06.'}\n",
      "{'title': '아이폰, 아이패드, 맥 챗GPT 쓴다 애플 인공지능 인텔리전스 공개', 'text': '다양한 디바이스의 OS가 발표되는 자리였지만 그보다 더 많은 사용자들이 궁금했던 애플의 인공지능에 대한 이야기를 들을 수 있었는데요. 강력한 생성형 AI 모델이 애플의 다양한 디바이스에 탑재된다고 보면 될 것 같습니다. 애플은 애플 인텔리전스라고 명명하고 iPhone, iPad, Mac을 위한 개인용 시스템의 업그레이드를 이야기 한 것이죠....', 'date': '2주 전'}\n",
      "{'title': '인공지능(AI) 판사 찬반 논란', 'text': '인공지능(AI) 판사가 과연 도입이 가능할까요? 기술의 발달하면서 야구에서는 인공지능 판정, 축구에서는 라인크로스 판단 기술 등 여러 분야에서 인공지능(AI) 기술이 도입되고 있습니다. 법에 관에서도 인공지능(AI) 판사가 도입될 경우 윤리적 문제, 사법적 정의에 대한 영향을 끼칠 수 있습니다. 현재 사법 시스템에서는 기술을 이미 사용하고 있습니다....', 'date': '2024.01.25.'}\n",
      "{'title': '광주와 태국 간 인공지능(AI)·미래차 등 첨단산업 교류협력', 'text': '간 인공지능(AI)·미래차 등 첨단산업 교류협력 방안에 대해 논의했다. 강 시장은 “광주시와 태국은 다양한 인연이 있다. 아시아문화전당과 함께 2023년부터 치앙마이에서 2년째... 타니 쌩랏 태국대사는 “태국은 인공지능(AI), 미래차 분야에 주목하고 있다. 태국 총리가 최근 발표한 태국의 발전 비전과도 상당히 맞닿아 있다”며 “태국 스타트업 기업들이 한국...', 'date': '4일 전'}\n",
      "{'title': '인공지능 활용 비지니스 1탄 쏘카 타다의 ETA 예측 배차 시스템', 'text': '그 중에서도 쏘다 타다는 인공지능을 활용한 ETA 예측 배차 시스템으로 업계에서 주목받고 있습니다. ETA(Estimated Time of Arrival) 예측 배차 시스템은 이용자가 호출한 차량이 도착할 시간을 예측하고, 이를 기반으로 최적의 차량을 배차하는 기술입니다. 이 글에서는 이 활용되는 쏘다 타다의 ETA 예측 배차 시스템이 어떻게 작동하는지를 자세히 이야기 해보도록...', 'date': '2주 전'}\n",
      "{'title': '네이버 대화형 AI 큐 (Cue) 인공지능 사용방법, 후기', 'text': \":) 아직은 큐가 많은 사람에게 알려지지 않았고 자리 잡아가는 중이라 경쟁이 치열하지 않겠지만 네이버 인공지능 AI Cue이니까 조만간 이곳도 경쟁이 꽤 치열해질 것 같다 ~ 상황 말하고 금리 계산해 주라고 했더니 계산도 자기가 알아서 답변해 준다 ㅋㅋ 기존 AI와 네이버 Cue의 차이점은 맞춤 검색 어드바이저 '검색'에 초점을 맞춘 서비스 인데, 검색해서 자기가...\", 'date': '2024.05.23.'}\n",
      "{'title': '쓰레기를 자동으로 분류하는 인공지능 로봇 ZenRobotics 4.0', 'text': '(동영상) 이렇게 인공지능 이미지 분류 기술을 이용한 인공지능 로봇은 사실 먼 미래의 이야기가 아니라 이미 현실로 다가온 이야기입니다. 일본 등 극심한 인력난을 겪는 국가에서도 이미 이런 시스템이 하나 둘 도입되고 있습니다. (관련 뉴스) 3D 업종을 기피하는 분위기인데다, 저출산 노령화 여파로 실제로 일할...', 'date': '2024.02.25.'}\n",
      "{'title': '2024년 인공지능 데이터 활용 전문인력 교육생 모집 공고, 에버영피플', 'text': \"'2024년 인공지능 데이터 활용 전문인력 교육생 모집' 공고 중장년층 ICT 일자리 창출 전문기업 에버영피플과 에버영코리아는 시니어를 대상으로 인공지능(AI) 디지털 데이터 활용 전문인력의 양성 과정을 오는 7월 30일 개설한다. 모집기간은 6.12~7.14(선착순) 모집기간 6월 12일부터 7월 14일(선착순) 교육생 모집은 한국지능정보사회진흥원의...\", 'date': '2일 전'}\n",
      "{'title': '인공지능 몰라 디지털 문맹이 두려운 분들을 위한 소소한 의견', 'text': '얼마전 뉴스를 보니 유명한 IT 기업의 임원께서 미래는 인공지능을 쓰는 사람과 그렇지 못한 사람으로 나뉜다고 하네요. 인공지능을 못 다루면 사회에 뒤쳐지며 도태될 수 있다는 경고처럼 들렸습니다. 또 다른 뉴스에서는 회사에서 인재를 판단하는 기준을 의 활용 능력으로 대체한다고 합니다. 저는 개발자나 IT 전문가는 아니지만 주변에서 컴퓨터 잘한다는...', 'date': '2024.05.24.'}\n",
      "{'title': 'ICT인공지능 AI 무료교육 충청ICT이노베이션스퀘어 교육생 모집', 'text': 'ICT인공지능 AI 무료교육 충청ICT이노베이션스퀘어 교육생 모집 안녕하세요. 취업비서 인크루트 입니다. 2024년 ICT이노베이션스퀘어 확산사업으로 진행되는 충청ICT인공지능 AI 무료교육 과정에 대한 정보, 교육생 모집 일정과 상세 교육 안내 정보에 대한 부분을 알려드리겠습니다. 모집 기간과 교육대상 및 접수 방법과 수강혜택까지 전문적인...', 'date': '2024.03.13.'}\n",
      "{'title': '신개념 인공지능(AI) 퍼플렉시티(PERPLEXITY) 알아보기', 'text': '최근 다양한 생성 인공지능 챗봇 서비스가 등장하였는데요. SK텔레콤이 투자한 생성형 인공지능(AI) 검색 엔진 퍼플렉시티에 대해 알아보도록 하겠습니다. 퍼플렉시티는 국내에서는 다소 생소하지만, 북미에서는 구글의 대항마로 언급될 만큼 주목받는 새로운 대화형 검색 엔진 AI 챗봇 서비스를 지칭한다고 합니다. 퍼플렉시티는 오픈 AI 출신 엔지니어 아르빈드...', 'date': '2024.04.04.'}\n",
      "{'title': '대규모 언어모델(LLM)과 인공지능 로봇, 로보테크 혁명의 서막', 'text': '21세기에 들어서면서 인공지능(AI)과 로봇공학의 발전인 로보테크를 갖춘 우리의 삶 많은 부분이 혁신적으로 변화되되고 있습니다. 특히 대규모 언어모델 (LLM, Large Language Model)의 등장은 로봇의 지능과 활용 범위를 획기적으로 넓히는 데 큰 기여를 하고 있습니다. 대규모 언어모델(LLM)을 적용한 로봇, NIPA와 함께 알아볼까요? LLM을 적용한 로봇의 이해 대규모 언어모델...', 'date': '1주 전'}\n",
      "{'title': '올해부터 전국에 인공지능(AI) 자율제조 공장 본격 확산한다', 'text': '올해부터 전국에 인공지능(AI) 자율제조 공장 본격 확산한다 산업통상자원부 인공지능(AI) 자율제조 10대 선도프로젝트 선정 작업 착수 인공지능(AI) 기반으로 로봇·장비 등을 제조 공정에 결합해 주력 산업의 생산 고도화와 자율화를 구현하는 AI 자율제조 사업이 본격 추진된다. 산업통상자원부는 지난달 발표(5.8) 한 [AI 자율제조 전략 1.0]의 핵심 정책이었던 AI...', 'date': '2주 전'}\n",
      "{'title': '3일간 표준협회 인공지능경영시스템 ISO42001심사원 교육 받으러~, 아니 5일이구나!', 'text': '근데 내가 심사원 교육 하나만 듣고 있을 수가 없기 때문에 왼쪽 귀는 인공지는 심사원 오른쪽 귀는 다른 것 그리고 손은... #ISMSP심사원 모의고사 문제 출제 ㅠㅠ #인공지능경영시스템 #ISO42001 이제 알고 보니..ㅠ 5일이다. 교육기간이..3일이 아니구나... 이제 이 과정을 이해했습니다. 3일교육 AI경력이 2년 있는 사람: 표준협회 전문위원이 되어서 전문가로...', 'date': '2주 전'}\n",
      "{'title': '단말형 인공지능의 뜻, AI 알고리즘과의 차이, 장점, 단점, 대표사례', 'text': '이러한 AI 알고리즘은 방대한 데이터를 학습하여 패턴을 찾고, 문제를 해결하며, 새로운 정보를 생성하는 등의 지능적인 기능을 수행합니다. 대표적인 AI 알고리즘에는 기계학습, 딥러닝, 강화학습 등이 있습니다. 반면, 단말형 (Edge AI)은 이러한 AI 알고리즘을 스마트폰, IoT 기기, 자율주행 차량 등의 단말기에 직접 구현한 것을 말합니다. 즉, 단말기...', 'date': '3주 전'}\n",
      "{'title': '호실적, 소매 판매 호조로 봐도 될까 / 넷플릭스 광고 이용자 급증 / 구글 I/O, 다시 불붙는 경쟁', 'text': \"구글도 I/O 행사에서 인공지능 행보에 대한 강한 인상을 남겼다. What is Gemini Live? How Google's real-time chatbot competes with GPT-4o 구글 제미니 라이브: GPT-4o에 도전하는 실시간 챗봇... 인공지능 반도체 성능은 더욱 강화되고 있고, 무엇보다 여러 지배적인 서비스와 플랫폼을 보유한 구글은 지금 당장 부족해도 소비자 접점을 이미 확보하고 있다는 장점이...\", 'date': '2024.05.16.'}\n",
      "{'title': '인공지능 데이터라벨링으로 수익 창출하고 싶다면?', 'text': '인공지능 데이터라벨링으로 수익 창출하고 싶다면? 데이터가 곧 힘이다! 라는 말이 있듯이 정보는 우리에게 큰 힘이 되고 있습니다. 특히 작년에 Chat GPT 출시와 함께 국내. 외로 인공지능에 대한 관심도 많이 늘어나고 있는데요. 주변을 둘러보면 이미 많은 분들이 을 활용해 사업에서 이윤을 창출하고 있는 것을 볼 수 있습니다. 오늘 뉴스만 보더라도 챗 GPT에...', 'date': '2024.02.08.'}\n",
      "{'title': '2024년 6월 25일 : 뉴욕증시, 인공지능(AI) 대장주 엔비디아의 부진 등으로 하락 마감', 'text': '<뉴욕 증시> : 혼조 마감 다우지수 +0.67% / 나스닥지수 -1.09% / S&P500지수 -0.31% <한국 증시(코스피)> : 2771선 상승 출발 코스닥 838선 하락 출발 뉴욕증시, 인공지능(AI) 대장주... 코스피 상승 출발, 외국인 매도세 진정되고 기관 매수 나서 (AI) 테마에 대한 차익실현 이어져 AI 테마에서 빠진 수급이 증시에서 이탈하지 않고 다른 업종으로 분산되는 모양새...', 'date': '4시간 전'}\n",
      "{'title': '[생성형 인공지능(AI)] 감마AI로 PPT 슬라이드 초안 자동 작성하기', 'text': '인공지능이 키워드에 대한 내용과 각 슬라이드에 적합한 이미지를 생성하고 전반적인 구성을 제시해 주었습니다. 내용과 Layout을 수정할 수 있으며, 다음과 같이 이미지를 검색하거나, 이미지를 인공지능으로 만들어 삽입할 수 있습니다. 최종적으로 작성된 내용은 PDF나 PPT로 다운로드가 가능합니다. 이런 방법으로 감마AI를 이용할 수 있는데, 완성된 PPT를...', 'date': '2024.03.19.'}\n",
      "{'title': 'AI시대 인공지능시대 일자리 미래와 인력양성 전략', 'text': 'Keys키스의 투자스케치 [Back지식] AI시대 인공지능시대 일자리 미래와 인력양성 전략 2024. 3. 13 KIET 산업연구원 ■ 국내기업의 인공지능 도입률은 4% 수준으로 여전히 낮고 경제성과는 아직 가시화되지 않았으나, 본격적인 시대에 대비한 선제적 대응 필요 - 2022년 전체 4% 수준으로 매우 낮고, 최초 도입 이후 사용을 지속하고 있다고 응답한 기업은...', 'date': '2024.03.15.'}\n",
      "{'title': 'CXL 관련주 · 온디바이스 AI 인공지능, 삼성 갤럭시 s24 · 필라델피아 반도체 지수 급등', 'text': '온디바이스 · CXL 관련주 필라델피아 반도체 지수 급등 AI 인공지능·삼성 갤럭시 s24 미국 경기선행지수(LEI)는 지난해 12월 -0.1%로 21개월 연속 마이너스 행진을 보이고 있지만 다우존스30산업평균지수와 스탠더드앤드푸어스(S&P)500 지수 등 미국 지수는 (AI) 성장에 대한 기대감 등 반도체 관련주 들의 강세로 최고치를 경신하는 등 상승장을...', 'date': '2024.01.23.'}\n",
      "{'title': '슈퍼마이크로컴퓨터(SMCI) 주가, 인공지능, 데이터센터 관련주', 'text': '안녕하세요 저장 안해서 같은 포스팅을 두번째 작성하는 네이버 인플루언서 길짱입니다 최근 AI 관련주가 굉장히 핫한데요 특히 전세계 증시 대장 미국 증권시장에 속한 인공지능... 슈퍼마이크로컴퓨터는 인공지능 및 GPU 시장 대장인 엔비디아와 긴밀한 협력 관계를 구축하고 있어 엔비디아 관련주로 분류됩니다 또한 CPU 및 GPU 가속기 분야에서 엔비디아뿐 아니라...', 'date': '2024.02.24.'}\n",
      "{'title': '[온라인마케팅MBA 25기 1주차 강의 예고] 인공지능 챗GPTs 활용, 블로그 글쓰기 방법', 'text': '온라인마케팅MBA 25기 1주차 강의 예고입니다 1주차 수업에서는 인공지능 챗GPTs 를 활용해서 블로그 글쓰는 방법을 알려드립니다 아래 이미지는 제가 직접 만들어서 블로그 글쓰기를 할... 인공지능 챗GPTs을 이용해서 블로그 글쓰기를 하는 목적은 외식업에 대한 전문지식을 배우면서 실무적으로 도움이 되는 내용으로 블로그 글쓰기를 하고 그것을 이용해서 내 점포에...', 'date': '2024.04.29.'}\n",
      "{'title': '파일 요약을 해주는 인공지능 서비스 Word Tune', 'text': \"마찬가지로 파일을 요약하고 글쓰기를 도와주는 인공지능 서비스다. 우선 웹 사이트 접속을 한다. 위 이미지를 클릭하면 접속이 가능하며, 검색창에 wordtune이라고 검색해도 된다. 자주 사용하는 계정으로 가입을 한다. 사용하는 목적 선택하기. 선택이 모두 끝났다면 Let's go 크롬 확장 프로그램도 있다. 바로 설치가 가능하다. 다양한 방식의 사용이 가능하다....\", 'date': '2024.02.18.'}\n",
      "{'title': '인공지능 반도체 관련 정보', 'text': '다른 분야에 비해 메모리와 통신쪽 병목현상이 심각하다는 이야기. 인공지능 시대에 메모리쪽의 수혜가 가능하다는 예상이 가능. 특히 HBM의 경우 기술적으로도 난제가 많은 상황이며 글로벌 탑3플레이어에서만 제작이 가능한 상황. 연사가 네이버 소속이라는 점을 감안해서 교차 검증이 필요한 부분이 있겠지만, 그럼에도 유용한 내용이 너무나 많은 영상. & &', 'date': '2024.04.23.'}\n",
      "{'title': '갤럭시S24 출시 가격 및 특징! 인공지능 AI로 차별화', 'text': '이번 갤럭시S24는 하드웨어보다는 인공지능 AI에 좀 더 집중이 된 모습을 보여주기도 했는데요. S24보다 갤럭시AI가 진짜 주인공이었다는 생각이 들기도 했습니다. 대표적인 AI기능으로는 문자 메지시 및 통화 중 실시간 번역이 가능한 AI 번역, 웹 서핑, SNS, 유튜브 등 사용 중 궁금한 사안이나 정보 확인을 위해 검색이 필요할 경우, 어느 화면에서나 동그라미를...', 'date': '2024.01.18.'}\n",
      "{'title': 'LG 통돌이세탁기 19kg T19MX7 T19DX8 인공지능 통세척 꽉 채운 기능', 'text': '특히 이제는 인공지능까지 탑재되어 나오기 때문에 단순히 저렴한 세탁기만으로 볼 수도 없는데요. 그래서 오늘은 많이들 찾으시는 LG 통돌이세탁기 19kg 모델 두 가지를 가지고... T19MX7 T19DX8 흡족한 후기 먼저 이 두 제품의 가장 메인 특징은 옷감을 정밀하게 감지해 맞춤 세탁을 하는 세탁 기능이 탑재되었다는 겁니다. 전 이게 가장 마음에 들었어요!...', 'date': '2주 전'}\n",
      "{'title': '[서평단 모집] 인공지능, 기계가 스스로 생각하는 시대(반갑다 과학)', 'text': '1부 인공지능 개념 잡기 “무엇을 인공지능이라 부르는지”부터 시작해, 알고리즘, 기계 학습, 인공 신경망, 빅데이터, 딥러닝 등 핵심 개념을 인공지능의 발전 과정에 따라 소개합니다. 2부 우리 생활 속 인공지능 살펴보기 챗봇, 자율주행차, 스마트 시티, 전쟁 무기 등 이 구체적으로 어떤 분야에서 어떤 방식으로 활약할지 하나하나 살펴봅니다. 3부...', 'date': '1일 전'}\n",
      "{'title': '악재와 호재가 혼재되어 있는 AI 인공지능 CCTV 산업', 'text': '우선 우호적인 측면에서는 계속해서 기업들과 지자체에서 인공지능 CCTV를 확대해 나갈 것이라는 계획들 \" \" 그리고 아이디스의 최근 소식인 바레인 스마트 경찰 플랫폼 구축 및... HMM은 글로브에이아이와 협업하여 딥아이즈(Deep Eyes) 도입 포스코DX는 인텔리빅스와 스마트 CCTV 업무 협약 추진 인피닉이라는 곳은 하이디 AI로 KISA의 지능형 CCTV 인증 획득 \" \" 산업은...', 'date': '2024.05.11.'}\n",
      "{'title': '에너지 잡아먹는 건물을 인공지능(AI)으로 똑똑하게 관리할 수 있다?', 'text': \"이런 문제를 해결하기 위해 한국에너지기술연구원에서는 인공지능(AI)을 활용한 '건물에너지 통합 관리 플랫폼 기술'을 개발했습니다! 1) 건물에너지 통합 관리 플랫폼 기술? 그게 뭐죠?... 그래서 인공지능과 확률·통계적 기법을 활용해 건물 자원을 실시간으로 모니터링하고 고장을 진단하는 플랫폼 기술을 개발했습니다. 덕분에 에너지 사용 비용을 줄이고 환경 영향도...\", 'date': '2024.04.24.'}\n",
      "{'title': 'AI 생태계 펼쳐졌다,2024 AI EXPO 국제인공지능대전 참관 후기', 'text': '아래 사진은 3D스캐너가 없는 상태임. 3.스마트안경 : 엑스퍼트아이엔씨 AI 음성, 자막변환 안경 씨사운드, 대화 환경에 가장 적합한 스마트 안경 입니다. 판가: 170만원 실제로 안경을 써 보았음. 4.음성 인식: 리드스피커코리아 세계 최다 다국어와 다음색을 가진 AI 음성기술을 보유하고 있다고 합니다. 5. 관련 사진들', 'date': '2024.05.03.'}\n",
      "{'title': '집착남주 인공지능 캐릭터 로판 AI', 'text': '로맨스+판타지를 합쳐 로판(Rofan)이라는 단어와 인공지능의 AI를 합친 이름이예요. 말 그대로 로맨스 판타지 속 캐릭터와 AI를 이용해 대화를 할 수 있는데요. 단순 로맨스 판타지 속 인물들만이 아닌 연예인,영화와 애니메이션 주인공과 일상생활의 AI캐릭터등 다양한 실사 또는 그림 캐릭터가 있어서 개인의 취향에 맞게 선택가능해요. 깔끔하고 직관적인 디자인을...', 'date': '4일 전'}\n",
      "{'title': '[상권분석전문가과정 31기 5주차 수업 예고] 인공지능을 이용한 상권분석의 새로운 세계', 'text': '수업 시간에 제가 활용하는 인공지능 기반의 상권분석 방법론을 실전 분석 사례를 이용해서 자세하게 알려드리겠습니다. 기대해 주시기 바랍니다. 재미있게 구성한 김성공의 인공지능을 활용한 상권분석 사례입니다. 김성공은 이른 아침 공항에 도착했다. 일본의 라멘, 소바, 우동 전문점을 벤치마킹하고 돌아오는 그의 발걸음에는 새로운 결의가 담겨 있었다. 그는...', 'date': '2주 전'}\n",
      "{'title': 'LG유플러스 AI ixi 익시로 시작하는 AX Company 인공지능 기대.', 'text': \"인공지능 기술이 더욱 확대되어 누구나 평소에도 AI를 활용하는 세상이 왔습니다. 지금도 그렇지만 앞으로는 일상 속에서 더욱 다양한 영역에 광범위한 영향을 줄 것으로... 기존 LG유플러스의 비전인 '고객 일상의 즐거운 변화'를 내포하는 Growth Leading 과 AI 전환을 의미하는 AX의 결합으로, 기술을 활용해 변화를 선두하고 새로운 가치 있는 고객 경험을...\", 'date': '3주 전'}\n",
      "{'title': '인공지능 AI 딥러닝 머신러닝 뜻 차이 활용 알아보기', 'text': '요즘 뉴스나 인터넷에서 인공지능, 머신러닝, 딥러닝이라는 말을 자주 들어봤을 거예요. 이 세 가지 단어는 모두 컴퓨터가 더 똑똑해지고, 우리를 도와주는 기술들을 말하는데요, 각각 조금씩 다른 의미를 가지고 있어요. 초등학생 친구들이 쉽게 이해할 수 있도록 이 세 가지 기술이 무엇이고, 어떻게 다른지 설명해 보겠습니다. (Artificial Intelligence, AI)...', 'date': '3주 전'}\n",
      "{'title': '[2023 우수성과 기업] 인공지능 비데로, 새로운 건강의 길을 찾은 기업 ㈜쉬즈엠', 'text': \"2023 중소기업 R&D지원사업 우수성과 50 ⑤ <쉬즈엠> 오늘은 인공지능 비데로 새로운 건강의 길을 찾은 기업 ㈜쉬즈엠을 소개해 드리겠습니다. 쉬즈엠은 폐업 및 재창업 후 중소기업 R&D 지원사업 참여를 통해 인공지능헬스케어 비데를 개발하고, 미용기구 제조업에서 스마트 헬스케어 영역으로 업종 전환에 성공했어요! 중소벤처기업 R&D 서포터 '알파(Alpha)'와 함께...\", 'date': '2024.05.22.'}\n",
      "{'title': '베트남, ‘정부 인공지능(AI) 준비지수’ 세계 59위 기록', 'text': '베트남, ‘정부 인공지능(AI) 준비지수’ 세계 59위 기록 단신 속보뉴스 베트남 하노이무역관 최지영 출처 : KOTRA □ 베트남 정부의 AI 준비 수준, 193개국 중 59위 ㅇ (국별 비교)... 보고서에서 인공지능(AI) 준비성 측면에서 193개국 중 59위를 차지했다. 2022년에는 55위, 2021년에는 62위, 2020년에는 76위를 기록했다. Oxford Insights 연례 보고서는 AI를 사용하여...', 'date': '2024.02.21.'}\n",
      "{'title': '인공지능 딥러닝 Anomaly Detection 트레이닝(학습) 방법', 'text': '인공지능 딥러닝 Anomaly Detection 트레이닝(학습) 방법 안녕하세요, 주니스입니다. 이번엔 인공지능 딥러닝 기능 중 Anomaly Detection 기능에 대한 학습법에 대해 다루어 보겠습니다. Anomaly Detection 은 정상 이미지만을 학습하여 학습한 이미지와 다른 이미지에서 차이가 있는 부분을 찾아내는 기능입니다. 예로 게임 디아블로4의 원소술사 캐릭터...', 'date': '1일 전'}\n",
      "{'title': \"'개발자를 위한 필수 수학', 다양한 실무 조언과 함께 익히는 데이터과학, 관련 수학\", 'text': '빅데이터, 인공지능을 공부하다 보면, 항상 걸리는 부분이 수학이다. 전에는 프로그램 개발하는 데, 수학 몰라도 크게 힘든 부분이 거의 없었다. 개발에 걸림돌은 업무나 기술에 대한 이해였지, 수학적인 능력은 아니었다. 내 경우 여러 개발을 해왔지만, 총합이나 평균 정도가 가장 많이 사용된 수학이었고, 좀 복잡한 경우 벡터와 미적분 정도였다. 그런데 을...', 'date': '2일 전'}\n",
      "{'title': '인공지능 관련 주, IA기업 한글과컴퓨터 한컴 AI 출시 내용 정리', 'text': '2) 단순 AI가 아닌 지능형 자동화 시장 공략 지능형 자동화를 뜻하는 IA는 인공지능(AI)를 활용하여 비즈니스 프로세스 관리, 로봇 프로세스 자동화 기술을 활용하여 전사적 법위에 의사결정을 간소화 및 확장 등 소프트웨어 자동화를 만드는 프로세스를 이른다. 한컴 어시스턴트를 중심으로 고객 및 산업별 비즈니스 프로세스 맞춤형 자동화 엔진을 만들어 시장을 공략할...', 'date': '2024.01.04.'}\n",
      "{'title': '[에퀴닉스] 데이터센터가 인공지능 수혜를 볼 수 있을까? (JPM 컨퍼런스)', 'text': '카테고리별로 묶으면 ① 인공지능 시대에 데이터센터 비즈니스가 어떻게 변할지 ② 전력밀도가 올라가는데 액체냉각은 준비가 잘 되고 있는지 ③ 마지막으로 어떠한 투자지표를... [인공지능 시대, 에퀴닉스가 수혜를 볼 수 있을까?] Q) 클라우드 그리고 의 성장으로 에퀴닉스가 담당하는 데이터센터 임대업이 기술적으로 밀려날 것이라는 우려가 있습니다....', 'date': '2024.05.22.'}\n",
      "{'title': '❤️중부발전에 미나니가 떴다! (feat. 인공지능 로봇) 현장스케치 유튜브 영상 기대평 이벤트❤️', 'text': '인공지능 로봇)❤️ 한국중부발전 x 지식인미나니 현장 스케치 < 한국중부발전 신보령본부에 직접 방문한 지식인미나니! > 실제 작업에 사용되는 인공지능 협력로봇을 비롯해 본부 곳곳을 둘러보고 왔는데요 대상을 인식할 수 있는 3D 레이더 기능 탑재 로봇의 놀라움과 편리함! 지금 바로 중부발전 유튜브를 통해 확인하고, 영상을 본 후 기대평을 작성해 보세요!...', 'date': '2024.05.24.'}\n",
      "{'title': '부산빅데이터학원 개발자 인공지능 AI 분석 머신러닝 딥러닝 국비지원 취업 내일배움카드 전문가 교육', 'text': '부산빅데이터전문가학원 알아보신다면 신중하게 알아보셔야 합니다~ 인공지능개발자 취업 하기 위해서는 AI분석, 머신러닝 딥러닝 기술을 전반적으로 알아야 합니다. 부산빅데이터... 통해서 인공지능 AI 개발자 취업 준비 잘 하시길 바랍니다. 5. IT현실 조언 / 팩트정리 부산빅데이터학원 결국에 데이터베이스 분야와, 전반적인 하둡 기술까지 AI 데이터분석...', 'date': '2024.05.24.'}\n",
      "{'title': '삼성 인공지능PC 출시, 온디바이스 AI 수혜주 : 아이티엠반도체, TIGER 글로벌온디바이스AI ETF', 'text': \"@ 네이버 삼성전자가 올해 초 세계 최초로 '온디바이스 인공지능 (AI)' 탑재한 휴대폰을 내놓은 이후 PC까지 출시하면서 관련 사업 속도전에 나서고 있습니다. 스마트폰 양대 산맥인 애플도 온디바이스 AI가 구동되는 신형 스마트폰을 내놓는다고 발표하면서 증권가에서는 수혜주 찾기가 한창입니다. 이들 기술을 고도화하는 기업에 투자하는...\", 'date': '6일 전'}\n",
      "{'title': '시력 저하 환자를 돕는 인공지능 웨어러블 기기 AiSee', 'text': 'Suranga Nanayakkara)가 이끄는 연구팀은 시력이 거의 상실되어 손에 든 물건이 무엇인지도 잘 보이지 않는 시력 저하 환자를 돕는 인공지능 웨어러블 기기인 AiSee를... 참고 https://newatlas.com/wearables/aisee-wearable-blind-object-recognition/ https://news.nus.edu.sg/ai-powered-eye-for-visually-impaired-people/ ##시력저하#AiSee#웨어러블', 'date': '2024.02.13.'}\n",
      "{'title': '[도서] 얄팍한 AI 지식 쌓기 : 인공지능 AI 기초 상식 배우기, 새로운 기술을 이해하다!', 'text': \"최근 세상의 관심은 AI와 반도체에 쏠려 있다고 할 수 있는데요, 영화에서만 보던 인공지능이 인간의 생활 전반에 도입되고 기술을 크게 진보시키는 것은 더 이상 공상 속의 꿈이... '얄팍한 AI 지식 쌓기'는 초보자들도 AI에 대해서 쉽게 알아볼 수 있는 AI도서라는 이름에 걸맞게 (AI)의 가장 기초적인 이야기부터 시작하고 있는데요, AI가 크게는 ANI / AGI...\", 'date': '2024.03.25.'}\n",
      "{'title': '인공지능폰 갤럭시Z 폴드6와 폼팩터 비슷한 얇은 스마트폰 아너 매직V2의 장점과 단점?(feat. 중국폰)', 'text': '인공지능폰 갤럭시Z 폴드가 티타늄 소재로 출시될 것으로 충분히 예상할 수 있는 가운데 중국폭 아너 매직V2는 어떤 장점과 단점이 있을까요. 중국폰이라고 쳐다보지 않을 수도... 애플이나 삼성은 서로 가격이 자존 jongamk.tistory.com 갤럭시Z 폴드6 커버 디스플레이 등 폼팩터의 변화와 티타늄소재 사용!! 및 동시번역 탑재 당연? 갤럭시Z 폴드6 커버...', 'date': '2024.01.31.'}\n",
      "{'title': '소프트뱅크 손정의 \"초인공지능 10년 내 도래\" (주간IT동향 트렌드/신기술/서비스 2024년 6월3주차)', 'text': '소프트뱅크 손정의 \"초인공지능 10년 내 도래\"…라인야후 언급 無 손정의 소프트뱅크그룹(SBG) 회장 손정의 소프트뱅크 그룹 회장이 \"인간의 능력을 1만배 초과할 인공 슈퍼 지능을 실현해 인류의 발전을 돕는 \\'초인공지능(ASI)\\'의 시대가 10년 이내에 올 것\"이라고 말했다. 21일 개최된 일본에서 개최된 소프트뱅크 그룹 정기 주주총회에서 손정의 회장은...', 'date': '1일 전'}\n",
      "{'title': '햄스터로봇을 이용한 초등코딩배우기 [엔트리 인공지능 with 햄스터로봇]', 'text': '햄스터로봇을 이용한 초등코딩배우기 [엔트리 인공지능 with 햄스터로봇] 안녕하세요~ 감군사랑입니다. 저는 직업적으로 소프트웨어를 다룰일이 많아요. 그러다보니 아이들보다 제가 더 관심있어 하는 분야가 소프트웨어입니다. 오늘은 영진닷컴에서 새롭게 개정되어 나온 엔트리 책으로 햄스터로봇까지 함께 학습해 볼 수 있는 엔트리 with햄스터...', 'date': '6일 전'}\n",
      "{'title': '인공지능(AI) 시대, 반도체에 7조 달러 투자한다고?', 'text': '사람이 촬영한 것보다 더 정교한 동영상을 인공지능이 만들어낸 것인데요. 사람들은 감탄을 자아내고 있습니다. 특히 특정 분야에서 활용되는 AI가 아니라 범용 AI가 개발되면 어떨까요? 범용 AI는 모든 상황에 인간처럼 적용하여 두루 활용할 수 있는 AI를 말합니다. 이를 인공일반지능(AGI)이라고 말하죠. © siderius_creativ, 출처 Unsplash AGI가 개발되면 미래의 세상은...', 'date': '2024.02.26.'}\n",
      "{'title': 'LG전자 주가, AI 인공지능 데이터 열처리 냉각기와 구독전자 서비스', 'text': 'LG전자 주가, AI 인공지능 데이터 열처리 냉각기와 구독전자 서비스 LG전자가 2분기 기준 사상 최대 실적을 보일거라는 전망과 함께 인공지능 데이터 열처리 수혜가 주목받으며 현재 주가는 저평가 구간으로 평가된다. 자세히 알아보자. 주요사업 내용 전체 매출액 대비 약 40.8%를 차지하는 H&A사업부문의 주요 제품은 냉장고, 세탁기, 에어컨 등 이며, 건조기, 정수기...', 'date': '2주 전'}\n",
      "{'title': '인공지능 대표도시 광주, 본격적인 인공지능(AI)개발 위한 초고성능 컴퓨팅(HPC)서비스 본격 지원', 'text': '25일부터 7월 15일까지 HPC 서비스 이용자 모집 공고 7월 생성형 인공지능 개발 위한 HPC 서비스 정식 개시 총연산량 20PF(H100 38대)·저장공간 22PB 규모로 구성 ‘인공지능 대표도시 광주’에서 본격적인 초거대 인공지능(AI) 개발을 위한 HPC(초고성능 컴퓨팅 지원) 서비스를 시작한다. 챗GPT처럼 초거대 (AI)의 학습 데이터뿐만 아니라 이를 수행할 수...', 'date': '1일 전'}\n",
      "{'title': '초등코딩교육 <엔트리 인공지능 with 햄스터로봇> 으로 배우기', 'text': '초등코딩교육 <엔트리 인공지능 with 햄스터로봇> 으로 배우기 도서관 프로그램을 통해 코딩과 친해지는 시간을 가지기도 하고, 학교에서도 재미있는 교구를 활용해서 코딩교육을... (요즘 사운드까지 활용하는 바람에 매우 시끄럽지만, 그래도 다양한 기능을 스스로 익혀가는 모습에 일단 지켜보는 중이다.) 2025년부터 초, 중, 고에 적용되는 교육과정에 (AI)...', 'date': '6일 전'}\n",
      "{'title': '헤이젠ai 말하는 아바타 나대신 말하는 인공지능 시대', 'text': '인공지능의 개발이 점차적으로 그 속도가 급속도로 빨라지고 있습니다. 앨런 튜링이 1950년에 개념을 내놓았고, 그 개념이 70년이 넘은 지금 발전에 발전을 거듭하고 있는 것이죠.... 바로 ceo가 인공지능으로 만든 영상으로 설명을 해주는 것을 볼 수가 있습니다. 비슷하면서도 아주 미묘하게 다르지만 그래도 제 생각에 85% 이상 실제 사람과 비슷한 모습이라서 부족함이...', 'date': '2주 전'}\n",
      "{'title': '실망스러운 애플 인공지능(AI) WWDC 2024 (feat김단테)', 'text': '미팅 시간이 5시로 연기되면 딸의 공연에 늦지 않고 갈 수 있는지 궁금하다고 질문하면, 인공지능은 미팅 시간, 미팅 내용, 딸의 존재유무, 약속장소 등을 열람하여 답변을... - 아이폰 15프로 이상부터 인공지능 기능을 사용할 수 있다. iPad, Mac 은 M1 이후면 가능하다. -기대했던 만큼의 AI 는 없어서 애플 주가는 하락하고 있다. #WWDC #애플 #애플...', 'date': '2주 전'}\n",
      "{'title': '숙면베개 AI모션필로우 인공지능 수험생베개', 'text': '숙면베개 AI모션필로우 인공지능 수험생베개 질 좋은 수면이 중요하다는 건 모르시는 분 안 계시죠? 제대로 된 숙면을 통해 뇌와 신체를 충분히 쉬게 하는것! 더불어, 내 수면 상태를... 숙면을 도와주는 스마트 인공지능 AI모션필로우 입니다. 간단한 특징으로는, ■ 인체공학적 C커브 디자인 설계로 경추를 편안하게 해주고, 베개 높낮이 조절 가능 ■ AI코골이...', 'date': '2주 전'}\n",
      "{'title': '머신러닝 리스크 관리 with 파이썬 - 올바른 인공지능 활용을 위한 필독서 -', 'text': '머신러닝 리스크 관리 with 파이썬 - 올바른 인공지능 활용을 위한 필독서 - 머신러닝 리스크 관리 with 파이썬 저자 패트릭 홀포드,제임스 커티스,파룰 판데이 출판 한빛미디어 발매 2024.05.10. 요즘 우리는 주변에서 AI를 아주 쉽게 접할 수 있습니다. 특히 최근에는 발표된 삼성의 AI 스마트폰, 애플도 OpenAI와 손잡고 시리를 업그레이드해서 아이폰 15pro부터 을...', 'date': '4일 전'}\n",
      "{'title': '여수캠퍼스 인공지능 개발 과정 무료 개설', 'text': '전남대 여수캠퍼스 인공지능 개발 과정 무료 개설 재학생 대상... 26일까지 접수 전남대학교 여수캠퍼스가 재학생을 대상으로 인공지능(AI) 알고리즘 및 솔루션을 개발하는 프로젝트 교육과정을 무료 운영한다. 전남대 여수캠퍼스는 오는 7월 1일부터 26일까지 파이썬, 데이터 분석을 위한 시각화 프로그래밍 등 이론교육은 물론 융합 문제해결 아이디어...', 'date': '5일 전'}\n",
      "{'title': '[3월 18일 마감시황] 애플이 구글 인공지능(AI)인 제미나이 아이폰에 장착 위해 논의 중', 'text': \"JYP 엔터테인먼트는 지난 13일 이후 4거래일 연속 하락세 미국 증시 리뷰 & & 뉴욕 주식시장 3대 지수가 18일 일제히 상승 마감 애플이 알파벳 산하의 구글 인공지능(AI)인 제미나이를 아이폰에 장착하기 위해 논의 중이라는 보도가 AI 기대감을 부추기면서 빅 7 대형 기술주들을 일제히 끌어올렸고, 그 덕에 3대 지수가 동반 상승 '월가 공포지수' 변동성...\", 'date': '2024.03.19.'}\n",
      "{'title': '재미로 보는 인공지능의 2024년 암호화폐 전망', 'text': '인공지능의 빅뱅은 2022년 말 OpenAI의 ChatGPT 대규모 언어 모델 AI가 공개되면서 폭발적으로 증가했습니다. ChatGPT의 붐으로 인해 다른 업체들도 이 독점적 지위에 도전장을 내밀었고... 코인텔레그래프는 인공지능이 2024년에 가치 있는 통찰력을 제공할 수 있는지 살펴봅니다. 비트코인이 2024년에 사상 최고치를 경신할까? © wildbook, 출처 Unsplash 구글의 바드는...', 'date': '2024.01.07.'}\n",
      "{'title': '오픈AI와 파트너십 맺은 애플 생성 인공지능 제품 대거 출시', 'text': \"오픈AI와 파트너십 맺은 애플 생성 인공지능 제품 대거 출시 애플, AI 시대에 도전하다: '애플 인텔리전스' 공개 애플이 세계 개발자 콘퍼런스에서 AI 기반 플랫폼 '애플 인텔리전스'를 공개했다. 이번 발표로 애플은 챗봇과 같은 생성형 (AI) 관련 제품을 대거 내놓으며 AI 분야에 대한 진출을 가속화하고 있다. 애플의 AI 시도 애플은 협업을 통해 오픈AI와 같은 AI...\", 'date': '3주 전'}\n",
      "{'title': '지코어 Gcore Edge AI 솔루션 인공지능 자동 음성인식 서비스', 'text': '지코어 Gcore Edge AI 솔루션 인공지능 자동 음성인식 서비스 안녕하세요. 사진&IT 크리에이터 자유분방입니다. 지코어(Gcore)는 클라우드, 엣지 및 AI 솔루션 서비스 프로바이더입니다. AI 교육 가속화 및 클라우드 서비스 제공, 콘텐츠 전송 개선, 서버 및 애플리케이션을 보호하고 있으며 전 세계에 160개 이상의 PoP가 있고, 13,000 이상의 파트너, 110+ Tbps 총 네트워크 용량...', 'date': '2024.03.29.'}\n",
      "{'title': \"'인공지능 대전환(AX)' 시대가 열렸다\", 'text': \"생성형 AI가 빠르게 발전하면서 이제는 인공지능을 단순히 활용하는 개념을 넘어, 산업의 체질을 바꾸는 핵심 기술로 활용하는 '인공지능 전환(AI Transformation, AX)' 시대가 다가오고 있습니다. 인공지능 기술을 통해 산업 생태계와 업무 혁신을 이끌어내는 것인데요. 미래의 디지털 경제 시대에 대비하고 경쟁력을 유지하기 위한 필수적인 요소 ' 전환(AX)...\", 'date': '2024.02.23.'}\n",
      "{'title': '[인공지능시대가 온다 #2] Chatgpt 4o를 통한 슈팅 게임 만들기', 'text': '아래의 링크 에 있는 파일은 윈도우용 이고 실행 파일이니 게임을 즐기실분은 클릭하시길 바랍니다. http://naver.me/F2ZBRfnR ( 비밀번호 : 0611 ) 여러분, 이제 인공지능 도구를 공부하시고 응용하셔서 여러분만의 업을 만드시길 바랍니다. 이제, 을 공부해야 하는 시기임은 분명한것 같습니다. 감사합니다.', 'date': '2주 전'}\n",
      "완료\n"
     ]
    }
   ],
   "source": [
    "# get_view()\n",
    "views = driver.find_elements(By.CSS_SELECTOR, '.lst_view .view_wrap')\n",
    "result = []\n",
    "\n",
    "for view in views:\n",
    "    con_dict = {}\n",
    "    con_dict['title'] = view.find_element(By.CSS_SELECTOR, '.title_link').text\n",
    "    con_dict['text'] = view.find_element(By.CSS_SELECTOR, '.dsc_link').text\n",
    "    con_dict['date'] = view.find_element(By.CSS_SELECTOR, '.sub').text\n",
    "    result.append(con_dict)\n",
    "    print(con_dict)\n",
    "    \n",
    "print('완료')"
   ]
  },
  {
   "cell_type": "code",
   "execution_count": 19,
   "id": "10d22230-c2ec-4a44-b9b4-ba475dca2f4e",
   "metadata": {
    "collapsed": true,
    "jupyter": {
     "outputs_hidden": true
    },
    "tags": []
   },
   "outputs": [
    {
     "data": {
      "text/html": [
       "<div>\n",
       "<style scoped>\n",
       "    .dataframe tbody tr th:only-of-type {\n",
       "        vertical-align: middle;\n",
       "    }\n",
       "\n",
       "    .dataframe tbody tr th {\n",
       "        vertical-align: top;\n",
       "    }\n",
       "\n",
       "    .dataframe thead th {\n",
       "        text-align: right;\n",
       "    }\n",
       "</style>\n",
       "<table border=\"1\" class=\"dataframe\">\n",
       "  <thead>\n",
       "    <tr style=\"text-align: right;\">\n",
       "      <th></th>\n",
       "      <th>title</th>\n",
       "      <th>text</th>\n",
       "      <th>date</th>\n",
       "    </tr>\n",
       "  </thead>\n",
       "  <tbody>\n",
       "    <tr>\n",
       "      <th>0</th>\n",
       "      <td>엔비디아 주가 전망 시가총액 버블일까 실적 인공지능 가속기</td>\n",
       "      <td>엔비디아 주가 전망 시가총액 버블일까 실적 인공지능 가속기 인공지능 AI열풍의 최전...</td>\n",
       "      <td>8시간 전</td>\n",
       "    </tr>\n",
       "    <tr>\n",
       "      <th>1</th>\n",
       "      <td>구글 알파벳 주가 전망, 1주만 사고 후회(feat. 배당금, 역투자, 인공지능)</td>\n",
       "      <td>배당금, 역투자, 인공지능) 투자를 하면 항상 후회를 하게되죠. 그때 샀어야해, 팔...</td>\n",
       "      <td>2주 전</td>\n",
       "    </tr>\n",
       "    <tr>\n",
       "      <th>2</th>\n",
       "      <td>인공지능 삼성 노트북 갤럭시북4 엣지 가벼운 14인치 노트북 스펙 가격</td>\n",
       "      <td>오늘은 인공지능 더해진 14인치 노트북 갤럭시북4 엣지 가격 스펙을 간단히 소개해 ...</td>\n",
       "      <td>2일 전</td>\n",
       "    </tr>\n",
       "    <tr>\n",
       "      <th>3</th>\n",
       "      <td>[인공지능 개발자] 석사가 아닌 고졸도 취업이 가능한 루트</td>\n",
       "      <td>인공지능 개발자 석사가 아닌 고졸도 취업이 가능한 루트 현재, IT 산업에서 가장 ...</td>\n",
       "      <td>3주 전</td>\n",
       "    </tr>\n",
       "    <tr>\n",
       "      <th>4</th>\n",
       "      <td>인공지능 VS 인간, 주식투자 대결 승자는? 로보어드바이저 투자 수익률 공개</td>\n",
       "      <td>인간과 인공지능(AI) 중 누가 더 투자를 잘할까요? AI는 빅데이터 분석, 머신러...</td>\n",
       "      <td>2024.05.10.</td>\n",
       "    </tr>\n",
       "    <tr>\n",
       "      <th>...</th>\n",
       "      <td>...</td>\n",
       "      <td>...</td>\n",
       "      <td>...</td>\n",
       "    </tr>\n",
       "    <tr>\n",
       "      <th>655</th>\n",
       "      <td>재미로 보는 인공지능의 2024년 암호화폐 전망</td>\n",
       "      <td>인공지능의 빅뱅은 2022년 말 OpenAI의 ChatGPT 대규모 언어 모델 AI...</td>\n",
       "      <td>2024.01.07.</td>\n",
       "    </tr>\n",
       "    <tr>\n",
       "      <th>656</th>\n",
       "      <td>오픈AI와 파트너십 맺은 애플 생성 인공지능 제품 대거 출시</td>\n",
       "      <td>오픈AI와 파트너십 맺은 애플 생성 인공지능 제품 대거 출시 애플, AI 시대에 도...</td>\n",
       "      <td>3주 전</td>\n",
       "    </tr>\n",
       "    <tr>\n",
       "      <th>657</th>\n",
       "      <td>지코어 Gcore Edge AI 솔루션 인공지능 자동 음성인식 서비스</td>\n",
       "      <td>지코어 Gcore Edge AI 솔루션 인공지능 자동 음성인식 서비스 안녕하세요. ...</td>\n",
       "      <td>2024.03.29.</td>\n",
       "    </tr>\n",
       "    <tr>\n",
       "      <th>658</th>\n",
       "      <td>'인공지능 대전환(AX)' 시대가 열렸다</td>\n",
       "      <td>생성형 AI가 빠르게 발전하면서 이제는 인공지능을 단순히 활용하는 개념을 넘어, 산...</td>\n",
       "      <td>2024.02.23.</td>\n",
       "    </tr>\n",
       "    <tr>\n",
       "      <th>659</th>\n",
       "      <td>[인공지능시대가 온다 #2] Chatgpt 4o를 통한 슈팅 게임 만들기</td>\n",
       "      <td>아래의 링크 에 있는 파일은 윈도우용 이고 실행 파일이니 게임을 즐기실분은 클릭하시...</td>\n",
       "      <td>2주 전</td>\n",
       "    </tr>\n",
       "  </tbody>\n",
       "</table>\n",
       "<p>660 rows × 3 columns</p>\n",
       "</div>"
      ],
      "text/plain": [
       "                                             title  \\\n",
       "0                 엔비디아 주가 전망 시가총액 버블일까 실적 인공지능 가속기   \n",
       "1    구글 알파벳 주가 전망, 1주만 사고 후회(feat. 배당금, 역투자, 인공지능)   \n",
       "2          인공지능 삼성 노트북 갤럭시북4 엣지 가벼운 14인치 노트북 스펙 가격   \n",
       "3                 [인공지능 개발자] 석사가 아닌 고졸도 취업이 가능한 루트   \n",
       "4       인공지능 VS 인간, 주식투자 대결 승자는? 로보어드바이저 투자 수익률 공개   \n",
       "..                                             ...   \n",
       "655                     재미로 보는 인공지능의 2024년 암호화폐 전망   \n",
       "656              오픈AI와 파트너십 맺은 애플 생성 인공지능 제품 대거 출시   \n",
       "657         지코어 Gcore Edge AI 솔루션 인공지능 자동 음성인식 서비스   \n",
       "658                         '인공지능 대전환(AX)' 시대가 열렸다   \n",
       "659       [인공지능시대가 온다 #2] Chatgpt 4o를 통한 슈팅 게임 만들기   \n",
       "\n",
       "                                                  text         date  \n",
       "0    엔비디아 주가 전망 시가총액 버블일까 실적 인공지능 가속기 인공지능 AI열풍의 최전...        8시간 전  \n",
       "1    배당금, 역투자, 인공지능) 투자를 하면 항상 후회를 하게되죠. 그때 샀어야해, 팔...         2주 전  \n",
       "2    오늘은 인공지능 더해진 14인치 노트북 갤럭시북4 엣지 가격 스펙을 간단히 소개해 ...         2일 전  \n",
       "3    인공지능 개발자 석사가 아닌 고졸도 취업이 가능한 루트 현재, IT 산업에서 가장 ...         3주 전  \n",
       "4    인간과 인공지능(AI) 중 누가 더 투자를 잘할까요? AI는 빅데이터 분석, 머신러...  2024.05.10.  \n",
       "..                                                 ...          ...  \n",
       "655  인공지능의 빅뱅은 2022년 말 OpenAI의 ChatGPT 대규모 언어 모델 AI...  2024.01.07.  \n",
       "656  오픈AI와 파트너십 맺은 애플 생성 인공지능 제품 대거 출시 애플, AI 시대에 도...         3주 전  \n",
       "657  지코어 Gcore Edge AI 솔루션 인공지능 자동 음성인식 서비스 안녕하세요. ...  2024.03.29.  \n",
       "658  생성형 AI가 빠르게 발전하면서 이제는 인공지능을 단순히 활용하는 개념을 넘어, 산...  2024.02.23.  \n",
       "659  아래의 링크 에 있는 파일은 윈도우용 이고 실행 파일이니 게임을 즐기실분은 클릭하시...         2주 전  \n",
       "\n",
       "[660 rows x 3 columns]"
      ]
     },
     "execution_count": 19,
     "metadata": {},
     "output_type": "execute_result"
    }
   ],
   "source": [
    "#저장된 게시물 리스트를 데이터프레임으로 변환후 csv로 저장\n",
    "df = pd.DataFrame(result)\n",
    "df"
   ]
  },
  {
   "cell_type": "code",
   "execution_count": 21,
   "id": "ab0b0122-3248-4200-b452-06bd25fde558",
   "metadata": {
    "tags": []
   },
   "outputs": [],
   "source": [
    "#데이터 프레임 저장\n",
    "# csv는 sep 쉼표가 반드시 있어야 한글이 안깨짐\n",
    "df.to_csv(f'./naver_{fname}.csv', sep=',', encoding='utf-8-sig')"
   ]
  },
  {
   "cell_type": "markdown",
   "id": "8a4fe14c-3c6f-463e-b83c-f6a3994aab95",
   "metadata": {},
   "source": [
    "## 예제) 구글 플레이 스토어 리뷰"
   ]
  },
  {
   "cell_type": "code",
   "execution_count": 24,
   "id": "764309bf-3fdb-41d9-bfe7-eb120c76391e",
   "metadata": {
    "tags": []
   },
   "outputs": [],
   "source": [
    "from selenium import webdriver\n",
    "from selenium.webdriver.common.by import By\n",
    "from selenium.webdriver.chrome.options import Options\n",
    "import time, random, pandas as pd\n",
    "\n",
    "options = Options()\n",
    "options.add_argument('--window-size=974,1047')\n",
    "options.add_argument('--window-position=-7,0')\n",
    "options.add_experimental_option(\"detach\", True)\n",
    "\n",
    "driver = webdriver.Chrome( options = options)\n",
    "url = 'https://play.google.com/store/apps/details?id=com.estsoft.picnic'\n",
    "driver.get(url)\n",
    "time.sleep(random.randint(2,3))"
   ]
  },
  {
   "cell_type": "code",
   "execution_count": 28,
   "id": "00b7da65-5938-494b-8e03-cc82c9f23701",
   "metadata": {
    "collapsed": true,
    "jupyter": {
     "outputs_hidden": true
    },
    "tags": []
   },
   "outputs": [
    {
     "ename": "NoSuchElementException",
     "evalue": "Message: no such element: Unable to locate element: {\"method\":\"xpath\",\"selector\":\"//*[@id=\"yDmH0d\"]/c-wiz[2]/div/div/div[1]/div/div[2]/div/div[1]/div[1]/c-wiz[5]/section/div/div[2]/div[5]/div/div/button/span\"}\n  (Session info: chrome=126.0.6478.114); For documentation on this error, please visit: https://www.selenium.dev/documentation/webdriver/troubleshooting/errors#no-such-element-exception\nStacktrace:\n\tGetHandleVerifier [0x00007FF75510EEA2+31554]\n\t(No symbol) [0x00007FF755087ED9]\n\t(No symbol) [0x00007FF754F4872A]\n\t(No symbol) [0x00007FF754F98434]\n\t(No symbol) [0x00007FF754F9853C]\n\t(No symbol) [0x00007FF754FDF6A7]\n\t(No symbol) [0x00007FF754FBD06F]\n\t(No symbol) [0x00007FF754FDC977]\n\t(No symbol) [0x00007FF754FBCDD3]\n\t(No symbol) [0x00007FF754F8A33B]\n\t(No symbol) [0x00007FF754F8AED1]\n\tGetHandleVerifier [0x00007FF755418B1D+3217341]\n\tGetHandleVerifier [0x00007FF755465AE3+3532675]\n\tGetHandleVerifier [0x00007FF75545B0E0+3489152]\n\tGetHandleVerifier [0x00007FF7551BE776+750614]\n\t(No symbol) [0x00007FF75509375F]\n\t(No symbol) [0x00007FF75508EB14]\n\t(No symbol) [0x00007FF75508ECA2]\n\t(No symbol) [0x00007FF75507E16F]\n\tBaseThreadInitThunk [0x00007FF8AF9E257D+29]\n\tRtlUserThreadStart [0x00007FF8B0C2AF28+40]\n",
     "output_type": "error",
     "traceback": [
      "\u001b[1;31m---------------------------------------------------------------------------\u001b[0m",
      "\u001b[1;31mNoSuchElementException\u001b[0m                    Traceback (most recent call last)",
      "Cell \u001b[1;32mIn[28], line 3\u001b[0m\n\u001b[0;32m      1\u001b[0m \u001b[38;5;66;03m# 리뷰 더보기 클릭\u001b[39;00m\n\u001b[0;32m      2\u001b[0m xpath \u001b[38;5;241m=\u001b[39m \u001b[38;5;124m'\u001b[39m\u001b[38;5;124m//*[@id=\u001b[39m\u001b[38;5;124m\"\u001b[39m\u001b[38;5;124myDmH0d\u001b[39m\u001b[38;5;124m\"\u001b[39m\u001b[38;5;124m]/c-wiz[2]/div/div/div[1]/div/div[2]/div/div[1]/div[1]/c-wiz[5]/section/div/div[2]/div[5]/div/div/button/span\u001b[39m\u001b[38;5;124m'\u001b[39m\n\u001b[1;32m----> 3\u001b[0m driver\u001b[38;5;241m.\u001b[39mfind_element(By\u001b[38;5;241m.\u001b[39mXPATH, xpath)\u001b[38;5;241m.\u001b[39mclick()\n\u001b[0;32m      4\u001b[0m time\u001b[38;5;241m.\u001b[39msleep(random\u001b[38;5;241m.\u001b[39mrandint(\u001b[38;5;241m2\u001b[39m, \u001b[38;5;241m3\u001b[39m))\n",
      "File \u001b[1;32m~\\anaconda3\\Lib\\site-packages\\selenium\\webdriver\\remote\\webdriver.py:748\u001b[0m, in \u001b[0;36mWebDriver.find_element\u001b[1;34m(self, by, value)\u001b[0m\n\u001b[0;32m    745\u001b[0m     by \u001b[38;5;241m=\u001b[39m By\u001b[38;5;241m.\u001b[39mCSS_SELECTOR\n\u001b[0;32m    746\u001b[0m     value \u001b[38;5;241m=\u001b[39m \u001b[38;5;124mf\u001b[39m\u001b[38;5;124m'\u001b[39m\u001b[38;5;124m[name=\u001b[39m\u001b[38;5;124m\"\u001b[39m\u001b[38;5;132;01m{\u001b[39;00mvalue\u001b[38;5;132;01m}\u001b[39;00m\u001b[38;5;124m\"\u001b[39m\u001b[38;5;124m]\u001b[39m\u001b[38;5;124m'\u001b[39m\n\u001b[1;32m--> 748\u001b[0m \u001b[38;5;28;01mreturn\u001b[39;00m \u001b[38;5;28mself\u001b[39m\u001b[38;5;241m.\u001b[39mexecute(Command\u001b[38;5;241m.\u001b[39mFIND_ELEMENT, {\u001b[38;5;124m\"\u001b[39m\u001b[38;5;124musing\u001b[39m\u001b[38;5;124m\"\u001b[39m: by, \u001b[38;5;124m\"\u001b[39m\u001b[38;5;124mvalue\u001b[39m\u001b[38;5;124m\"\u001b[39m: value})[\u001b[38;5;124m\"\u001b[39m\u001b[38;5;124mvalue\u001b[39m\u001b[38;5;124m\"\u001b[39m]\n",
      "File \u001b[1;32m~\\anaconda3\\Lib\\site-packages\\selenium\\webdriver\\remote\\webdriver.py:354\u001b[0m, in \u001b[0;36mWebDriver.execute\u001b[1;34m(self, driver_command, params)\u001b[0m\n\u001b[0;32m    352\u001b[0m response \u001b[38;5;241m=\u001b[39m \u001b[38;5;28mself\u001b[39m\u001b[38;5;241m.\u001b[39mcommand_executor\u001b[38;5;241m.\u001b[39mexecute(driver_command, params)\n\u001b[0;32m    353\u001b[0m \u001b[38;5;28;01mif\u001b[39;00m response:\n\u001b[1;32m--> 354\u001b[0m     \u001b[38;5;28mself\u001b[39m\u001b[38;5;241m.\u001b[39merror_handler\u001b[38;5;241m.\u001b[39mcheck_response(response)\n\u001b[0;32m    355\u001b[0m     response[\u001b[38;5;124m\"\u001b[39m\u001b[38;5;124mvalue\u001b[39m\u001b[38;5;124m\"\u001b[39m] \u001b[38;5;241m=\u001b[39m \u001b[38;5;28mself\u001b[39m\u001b[38;5;241m.\u001b[39m_unwrap_value(response\u001b[38;5;241m.\u001b[39mget(\u001b[38;5;124m\"\u001b[39m\u001b[38;5;124mvalue\u001b[39m\u001b[38;5;124m\"\u001b[39m, \u001b[38;5;28;01mNone\u001b[39;00m))\n\u001b[0;32m    356\u001b[0m     \u001b[38;5;28;01mreturn\u001b[39;00m response\n",
      "File \u001b[1;32m~\\anaconda3\\Lib\\site-packages\\selenium\\webdriver\\remote\\errorhandler.py:229\u001b[0m, in \u001b[0;36mErrorHandler.check_response\u001b[1;34m(self, response)\u001b[0m\n\u001b[0;32m    227\u001b[0m         alert_text \u001b[38;5;241m=\u001b[39m value[\u001b[38;5;124m\"\u001b[39m\u001b[38;5;124malert\u001b[39m\u001b[38;5;124m\"\u001b[39m]\u001b[38;5;241m.\u001b[39mget(\u001b[38;5;124m\"\u001b[39m\u001b[38;5;124mtext\u001b[39m\u001b[38;5;124m\"\u001b[39m)\n\u001b[0;32m    228\u001b[0m     \u001b[38;5;28;01mraise\u001b[39;00m exception_class(message, screen, stacktrace, alert_text)  \u001b[38;5;66;03m# type: ignore[call-arg]  # mypy is not smart enough here\u001b[39;00m\n\u001b[1;32m--> 229\u001b[0m \u001b[38;5;28;01mraise\u001b[39;00m exception_class(message, screen, stacktrace)\n",
      "\u001b[1;31mNoSuchElementException\u001b[0m: Message: no such element: Unable to locate element: {\"method\":\"xpath\",\"selector\":\"//*[@id=\"yDmH0d\"]/c-wiz[2]/div/div/div[1]/div/div[2]/div/div[1]/div[1]/c-wiz[5]/section/div/div[2]/div[5]/div/div/button/span\"}\n  (Session info: chrome=126.0.6478.114); For documentation on this error, please visit: https://www.selenium.dev/documentation/webdriver/troubleshooting/errors#no-such-element-exception\nStacktrace:\n\tGetHandleVerifier [0x00007FF75510EEA2+31554]\n\t(No symbol) [0x00007FF755087ED9]\n\t(No symbol) [0x00007FF754F4872A]\n\t(No symbol) [0x00007FF754F98434]\n\t(No symbol) [0x00007FF754F9853C]\n\t(No symbol) [0x00007FF754FDF6A7]\n\t(No symbol) [0x00007FF754FBD06F]\n\t(No symbol) [0x00007FF754FDC977]\n\t(No symbol) [0x00007FF754FBCDD3]\n\t(No symbol) [0x00007FF754F8A33B]\n\t(No symbol) [0x00007FF754F8AED1]\n\tGetHandleVerifier [0x00007FF755418B1D+3217341]\n\tGetHandleVerifier [0x00007FF755465AE3+3532675]\n\tGetHandleVerifier [0x00007FF75545B0E0+3489152]\n\tGetHandleVerifier [0x00007FF7551BE776+750614]\n\t(No symbol) [0x00007FF75509375F]\n\t(No symbol) [0x00007FF75508EB14]\n\t(No symbol) [0x00007FF75508ECA2]\n\t(No symbol) [0x00007FF75507E16F]\n\tBaseThreadInitThunk [0x00007FF8AF9E257D+29]\n\tRtlUserThreadStart [0x00007FF8B0C2AF28+40]\n"
     ]
    }
   ],
   "source": [
    "# 리뷰 더보기 클릭 -- 코드 바껴서 안됨\n",
    "\n",
    "xpath = '//*[@id=\"yDmH0d\"]/c-wiz[2]/div/div/div[1]/div/div[2]/div/div[1]/div[1]/c-wiz[5]/section/div/div[2]/div[5]/div/div/button/span'\n",
    "driver.find_element(By.XPATH, xpath).click()\n",
    "time.sleep(random.randint(2, 3))"
   ]
  },
  {
   "cell_type": "code",
   "execution_count": 38,
   "id": "a60ab720-b877-4026-a9d3-921dfcb35e56",
   "metadata": {
    "tags": []
   },
   "outputs": [],
   "source": [
    "# 리뷰 더보기 클릭\n",
    "review = driver.find_element(By.XPATH,'//*[@id=\"ow76\"]/section/div/div[2]/div[5]/div/div/button/span')\n",
    "review.click()"
   ]
  },
  {
   "cell_type": "code",
   "execution_count": 40,
   "id": "401b2ac0-74dc-468d-b002-f6227f45f849",
   "metadata": {
    "tags": []
   },
   "outputs": [],
   "source": [
    "# 스크롤\n",
    "for i in range(10):\n",
    "    review_box = driver.find_element(By.CSS_SELECTOR, 'div.fysCi')\n",
    "    driver.execute_script('arguments[0].scrollTop = arguments[0].scrollHeight', review_box )\n",
    "    time.sleep(random.randint(2, 3))"
   ]
  },
  {
   "cell_type": "code",
   "execution_count": 42,
   "id": "4afb604a-88a7-469a-8879-a540eba76c38",
   "metadata": {
    "collapsed": true,
    "jupyter": {
     "outputs_hidden": true
    },
    "tags": []
   },
   "outputs": [
    {
     "data": {
      "text/plain": [
       "[<selenium.webdriver.remote.webelement.WebElement (session=\"30eb0dd9f39cb6cff5a73f3cc8f497ee\", element=\"f.C84F0FCB846D83BC9A65108221F1E96C.d.FCC6F91E56B02940870716A1D0678162.e.15402\")>,\n",
       " <selenium.webdriver.remote.webelement.WebElement (session=\"30eb0dd9f39cb6cff5a73f3cc8f497ee\", element=\"f.C84F0FCB846D83BC9A65108221F1E96C.d.FCC6F91E56B02940870716A1D0678162.e.15477\")>,\n",
       " <selenium.webdriver.remote.webelement.WebElement (session=\"30eb0dd9f39cb6cff5a73f3cc8f497ee\", element=\"f.C84F0FCB846D83BC9A65108221F1E96C.d.FCC6F91E56B02940870716A1D0678162.e.15552\")>,\n",
       " <selenium.webdriver.remote.webelement.WebElement (session=\"30eb0dd9f39cb6cff5a73f3cc8f497ee\", element=\"f.C84F0FCB846D83BC9A65108221F1E96C.d.FCC6F91E56B02940870716A1D0678162.e.15629\")>,\n",
       " <selenium.webdriver.remote.webelement.WebElement (session=\"30eb0dd9f39cb6cff5a73f3cc8f497ee\", element=\"f.C84F0FCB846D83BC9A65108221F1E96C.d.FCC6F91E56B02940870716A1D0678162.e.15706\")>,\n",
       " <selenium.webdriver.remote.webelement.WebElement (session=\"30eb0dd9f39cb6cff5a73f3cc8f497ee\", element=\"f.C84F0FCB846D83BC9A65108221F1E96C.d.FCC6F91E56B02940870716A1D0678162.e.15783\")>,\n",
       " <selenium.webdriver.remote.webelement.WebElement (session=\"30eb0dd9f39cb6cff5a73f3cc8f497ee\", element=\"f.C84F0FCB846D83BC9A65108221F1E96C.d.FCC6F91E56B02940870716A1D0678162.e.15864\")>,\n",
       " <selenium.webdriver.remote.webelement.WebElement (session=\"30eb0dd9f39cb6cff5a73f3cc8f497ee\", element=\"f.C84F0FCB846D83BC9A65108221F1E96C.d.FCC6F91E56B02940870716A1D0678162.e.15941\")>,\n",
       " <selenium.webdriver.remote.webelement.WebElement (session=\"30eb0dd9f39cb6cff5a73f3cc8f497ee\", element=\"f.C84F0FCB846D83BC9A65108221F1E96C.d.FCC6F91E56B02940870716A1D0678162.e.16018\")>,\n",
       " <selenium.webdriver.remote.webelement.WebElement (session=\"30eb0dd9f39cb6cff5a73f3cc8f497ee\", element=\"f.C84F0FCB846D83BC9A65108221F1E96C.d.FCC6F91E56B02940870716A1D0678162.e.16098\")>,\n",
       " <selenium.webdriver.remote.webelement.WebElement (session=\"30eb0dd9f39cb6cff5a73f3cc8f497ee\", element=\"f.C84F0FCB846D83BC9A65108221F1E96C.d.FCC6F91E56B02940870716A1D0678162.e.16175\")>,\n",
       " <selenium.webdriver.remote.webelement.WebElement (session=\"30eb0dd9f39cb6cff5a73f3cc8f497ee\", element=\"f.C84F0FCB846D83BC9A65108221F1E96C.d.FCC6F91E56B02940870716A1D0678162.e.16246\")>,\n",
       " <selenium.webdriver.remote.webelement.WebElement (session=\"30eb0dd9f39cb6cff5a73f3cc8f497ee\", element=\"f.C84F0FCB846D83BC9A65108221F1E96C.d.FCC6F91E56B02940870716A1D0678162.e.16323\")>,\n",
       " <selenium.webdriver.remote.webelement.WebElement (session=\"30eb0dd9f39cb6cff5a73f3cc8f497ee\", element=\"f.C84F0FCB846D83BC9A65108221F1E96C.d.FCC6F91E56B02940870716A1D0678162.e.16400\")>,\n",
       " <selenium.webdriver.remote.webelement.WebElement (session=\"30eb0dd9f39cb6cff5a73f3cc8f497ee\", element=\"f.C84F0FCB846D83BC9A65108221F1E96C.d.FCC6F91E56B02940870716A1D0678162.e.16471\")>,\n",
       " <selenium.webdriver.remote.webelement.WebElement (session=\"30eb0dd9f39cb6cff5a73f3cc8f497ee\", element=\"f.C84F0FCB846D83BC9A65108221F1E96C.d.FCC6F91E56B02940870716A1D0678162.e.16548\")>,\n",
       " <selenium.webdriver.remote.webelement.WebElement (session=\"30eb0dd9f39cb6cff5a73f3cc8f497ee\", element=\"f.C84F0FCB846D83BC9A65108221F1E96C.d.FCC6F91E56B02940870716A1D0678162.e.16619\")>,\n",
       " <selenium.webdriver.remote.webelement.WebElement (session=\"30eb0dd9f39cb6cff5a73f3cc8f497ee\", element=\"f.C84F0FCB846D83BC9A65108221F1E96C.d.FCC6F91E56B02940870716A1D0678162.e.16696\")>,\n",
       " <selenium.webdriver.remote.webelement.WebElement (session=\"30eb0dd9f39cb6cff5a73f3cc8f497ee\", element=\"f.C84F0FCB846D83BC9A65108221F1E96C.d.FCC6F91E56B02940870716A1D0678162.e.16773\")>,\n",
       " <selenium.webdriver.remote.webelement.WebElement (session=\"30eb0dd9f39cb6cff5a73f3cc8f497ee\", element=\"f.C84F0FCB846D83BC9A65108221F1E96C.d.FCC6F91E56B02940870716A1D0678162.e.16853\")>,\n",
       " <selenium.webdriver.remote.webelement.WebElement (session=\"30eb0dd9f39cb6cff5a73f3cc8f497ee\", element=\"f.C84F0FCB846D83BC9A65108221F1E96C.d.FCC6F91E56B02940870716A1D0678162.e.19161\")>,\n",
       " <selenium.webdriver.remote.webelement.WebElement (session=\"30eb0dd9f39cb6cff5a73f3cc8f497ee\", element=\"f.C84F0FCB846D83BC9A65108221F1E96C.d.FCC6F91E56B02940870716A1D0678162.e.19078\")>,\n",
       " <selenium.webdriver.remote.webelement.WebElement (session=\"30eb0dd9f39cb6cff5a73f3cc8f497ee\", element=\"f.C84F0FCB846D83BC9A65108221F1E96C.d.FCC6F91E56B02940870716A1D0678162.e.18991\")>,\n",
       " <selenium.webdriver.remote.webelement.WebElement (session=\"30eb0dd9f39cb6cff5a73f3cc8f497ee\", element=\"f.C84F0FCB846D83BC9A65108221F1E96C.d.FCC6F91E56B02940870716A1D0678162.e.18917\")>,\n",
       " <selenium.webdriver.remote.webelement.WebElement (session=\"30eb0dd9f39cb6cff5a73f3cc8f497ee\", element=\"f.C84F0FCB846D83BC9A65108221F1E96C.d.FCC6F91E56B02940870716A1D0678162.e.18830\")>,\n",
       " <selenium.webdriver.remote.webelement.WebElement (session=\"30eb0dd9f39cb6cff5a73f3cc8f497ee\", element=\"f.C84F0FCB846D83BC9A65108221F1E96C.d.FCC6F91E56B02940870716A1D0678162.e.18752\")>,\n",
       " <selenium.webdriver.remote.webelement.WebElement (session=\"30eb0dd9f39cb6cff5a73f3cc8f497ee\", element=\"f.C84F0FCB846D83BC9A65108221F1E96C.d.FCC6F91E56B02940870716A1D0678162.e.18674\")>,\n",
       " <selenium.webdriver.remote.webelement.WebElement (session=\"30eb0dd9f39cb6cff5a73f3cc8f497ee\", element=\"f.C84F0FCB846D83BC9A65108221F1E96C.d.FCC6F91E56B02940870716A1D0678162.e.18587\")>,\n",
       " <selenium.webdriver.remote.webelement.WebElement (session=\"30eb0dd9f39cb6cff5a73f3cc8f497ee\", element=\"f.C84F0FCB846D83BC9A65108221F1E96C.d.FCC6F91E56B02940870716A1D0678162.e.18502\")>,\n",
       " <selenium.webdriver.remote.webelement.WebElement (session=\"30eb0dd9f39cb6cff5a73f3cc8f497ee\", element=\"f.C84F0FCB846D83BC9A65108221F1E96C.d.FCC6F91E56B02940870716A1D0678162.e.18419\")>,\n",
       " <selenium.webdriver.remote.webelement.WebElement (session=\"30eb0dd9f39cb6cff5a73f3cc8f497ee\", element=\"f.C84F0FCB846D83BC9A65108221F1E96C.d.FCC6F91E56B02940870716A1D0678162.e.18334\")>,\n",
       " <selenium.webdriver.remote.webelement.WebElement (session=\"30eb0dd9f39cb6cff5a73f3cc8f497ee\", element=\"f.C84F0FCB846D83BC9A65108221F1E96C.d.FCC6F91E56B02940870716A1D0678162.e.18247\")>,\n",
       " <selenium.webdriver.remote.webelement.WebElement (session=\"30eb0dd9f39cb6cff5a73f3cc8f497ee\", element=\"f.C84F0FCB846D83BC9A65108221F1E96C.d.FCC6F91E56B02940870716A1D0678162.e.18164\")>,\n",
       " <selenium.webdriver.remote.webelement.WebElement (session=\"30eb0dd9f39cb6cff5a73f3cc8f497ee\", element=\"f.C84F0FCB846D83BC9A65108221F1E96C.d.FCC6F91E56B02940870716A1D0678162.e.18081\")>,\n",
       " <selenium.webdriver.remote.webelement.WebElement (session=\"30eb0dd9f39cb6cff5a73f3cc8f497ee\", element=\"f.C84F0FCB846D83BC9A65108221F1E96C.d.FCC6F91E56B02940870716A1D0678162.e.17998\")>,\n",
       " <selenium.webdriver.remote.webelement.WebElement (session=\"30eb0dd9f39cb6cff5a73f3cc8f497ee\", element=\"f.C84F0FCB846D83BC9A65108221F1E96C.d.FCC6F91E56B02940870716A1D0678162.e.17920\")>,\n",
       " <selenium.webdriver.remote.webelement.WebElement (session=\"30eb0dd9f39cb6cff5a73f3cc8f497ee\", element=\"f.C84F0FCB846D83BC9A65108221F1E96C.d.FCC6F91E56B02940870716A1D0678162.e.17835\")>,\n",
       " <selenium.webdriver.remote.webelement.WebElement (session=\"30eb0dd9f39cb6cff5a73f3cc8f497ee\", element=\"f.C84F0FCB846D83BC9A65108221F1E96C.d.FCC6F91E56B02940870716A1D0678162.e.17748\")>,\n",
       " <selenium.webdriver.remote.webelement.WebElement (session=\"30eb0dd9f39cb6cff5a73f3cc8f497ee\", element=\"f.C84F0FCB846D83BC9A65108221F1E96C.d.FCC6F91E56B02940870716A1D0678162.e.17665\")>,\n",
       " <selenium.webdriver.remote.webelement.WebElement (session=\"30eb0dd9f39cb6cff5a73f3cc8f497ee\", element=\"f.C84F0FCB846D83BC9A65108221F1E96C.d.FCC6F91E56B02940870716A1D0678162.e.17591\")>,\n",
       " <selenium.webdriver.remote.webelement.WebElement (session=\"30eb0dd9f39cb6cff5a73f3cc8f497ee\", element=\"f.C84F0FCB846D83BC9A65108221F1E96C.d.FCC6F91E56B02940870716A1D0678162.e.21067\")>,\n",
       " <selenium.webdriver.remote.webelement.WebElement (session=\"30eb0dd9f39cb6cff5a73f3cc8f497ee\", element=\"f.C84F0FCB846D83BC9A65108221F1E96C.d.FCC6F91E56B02940870716A1D0678162.e.20984\")>,\n",
       " <selenium.webdriver.remote.webelement.WebElement (session=\"30eb0dd9f39cb6cff5a73f3cc8f497ee\", element=\"f.C84F0FCB846D83BC9A65108221F1E96C.d.FCC6F91E56B02940870716A1D0678162.e.20901\")>,\n",
       " <selenium.webdriver.remote.webelement.WebElement (session=\"30eb0dd9f39cb6cff5a73f3cc8f497ee\", element=\"f.C84F0FCB846D83BC9A65108221F1E96C.d.FCC6F91E56B02940870716A1D0678162.e.20823\")>,\n",
       " <selenium.webdriver.remote.webelement.WebElement (session=\"30eb0dd9f39cb6cff5a73f3cc8f497ee\", element=\"f.C84F0FCB846D83BC9A65108221F1E96C.d.FCC6F91E56B02940870716A1D0678162.e.20740\")>,\n",
       " <selenium.webdriver.remote.webelement.WebElement (session=\"30eb0dd9f39cb6cff5a73f3cc8f497ee\", element=\"f.C84F0FCB846D83BC9A65108221F1E96C.d.FCC6F91E56B02940870716A1D0678162.e.20662\")>,\n",
       " <selenium.webdriver.remote.webelement.WebElement (session=\"30eb0dd9f39cb6cff5a73f3cc8f497ee\", element=\"f.C84F0FCB846D83BC9A65108221F1E96C.d.FCC6F91E56B02940870716A1D0678162.e.20575\")>,\n",
       " <selenium.webdriver.remote.webelement.WebElement (session=\"30eb0dd9f39cb6cff5a73f3cc8f497ee\", element=\"f.C84F0FCB846D83BC9A65108221F1E96C.d.FCC6F91E56B02940870716A1D0678162.e.20488\")>,\n",
       " <selenium.webdriver.remote.webelement.WebElement (session=\"30eb0dd9f39cb6cff5a73f3cc8f497ee\", element=\"f.C84F0FCB846D83BC9A65108221F1E96C.d.FCC6F91E56B02940870716A1D0678162.e.20410\")>,\n",
       " <selenium.webdriver.remote.webelement.WebElement (session=\"30eb0dd9f39cb6cff5a73f3cc8f497ee\", element=\"f.C84F0FCB846D83BC9A65108221F1E96C.d.FCC6F91E56B02940870716A1D0678162.e.20323\")>,\n",
       " <selenium.webdriver.remote.webelement.WebElement (session=\"30eb0dd9f39cb6cff5a73f3cc8f497ee\", element=\"f.C84F0FCB846D83BC9A65108221F1E96C.d.FCC6F91E56B02940870716A1D0678162.e.20236\")>,\n",
       " <selenium.webdriver.remote.webelement.WebElement (session=\"30eb0dd9f39cb6cff5a73f3cc8f497ee\", element=\"f.C84F0FCB846D83BC9A65108221F1E96C.d.FCC6F91E56B02940870716A1D0678162.e.20149\")>,\n",
       " <selenium.webdriver.remote.webelement.WebElement (session=\"30eb0dd9f39cb6cff5a73f3cc8f497ee\", element=\"f.C84F0FCB846D83BC9A65108221F1E96C.d.FCC6F91E56B02940870716A1D0678162.e.20064\")>,\n",
       " <selenium.webdriver.remote.webelement.WebElement (session=\"30eb0dd9f39cb6cff5a73f3cc8f497ee\", element=\"f.C84F0FCB846D83BC9A65108221F1E96C.d.FCC6F91E56B02940870716A1D0678162.e.19986\")>,\n",
       " <selenium.webdriver.remote.webelement.WebElement (session=\"30eb0dd9f39cb6cff5a73f3cc8f497ee\", element=\"f.C84F0FCB846D83BC9A65108221F1E96C.d.FCC6F91E56B02940870716A1D0678162.e.19908\")>,\n",
       " <selenium.webdriver.remote.webelement.WebElement (session=\"30eb0dd9f39cb6cff5a73f3cc8f497ee\", element=\"f.C84F0FCB846D83BC9A65108221F1E96C.d.FCC6F91E56B02940870716A1D0678162.e.19821\")>,\n",
       " <selenium.webdriver.remote.webelement.WebElement (session=\"30eb0dd9f39cb6cff5a73f3cc8f497ee\", element=\"f.C84F0FCB846D83BC9A65108221F1E96C.d.FCC6F91E56B02940870716A1D0678162.e.19745\")>,\n",
       " <selenium.webdriver.remote.webelement.WebElement (session=\"30eb0dd9f39cb6cff5a73f3cc8f497ee\", element=\"f.C84F0FCB846D83BC9A65108221F1E96C.d.FCC6F91E56B02940870716A1D0678162.e.19671\")>,\n",
       " <selenium.webdriver.remote.webelement.WebElement (session=\"30eb0dd9f39cb6cff5a73f3cc8f497ee\", element=\"f.C84F0FCB846D83BC9A65108221F1E96C.d.FCC6F91E56B02940870716A1D0678162.e.19595\")>,\n",
       " <selenium.webdriver.remote.webelement.WebElement (session=\"30eb0dd9f39cb6cff5a73f3cc8f497ee\", element=\"f.C84F0FCB846D83BC9A65108221F1E96C.d.FCC6F91E56B02940870716A1D0678162.e.19508\")>,\n",
       " <selenium.webdriver.remote.webelement.WebElement (session=\"30eb0dd9f39cb6cff5a73f3cc8f497ee\", element=\"f.C84F0FCB846D83BC9A65108221F1E96C.d.FCC6F91E56B02940870716A1D0678162.e.22940\")>,\n",
       " <selenium.webdriver.remote.webelement.WebElement (session=\"30eb0dd9f39cb6cff5a73f3cc8f497ee\", element=\"f.C84F0FCB846D83BC9A65108221F1E96C.d.FCC6F91E56B02940870716A1D0678162.e.22853\")>,\n",
       " <selenium.webdriver.remote.webelement.WebElement (session=\"30eb0dd9f39cb6cff5a73f3cc8f497ee\", element=\"f.C84F0FCB846D83BC9A65108221F1E96C.d.FCC6F91E56B02940870716A1D0678162.e.22766\")>,\n",
       " <selenium.webdriver.remote.webelement.WebElement (session=\"30eb0dd9f39cb6cff5a73f3cc8f497ee\", element=\"f.C84F0FCB846D83BC9A65108221F1E96C.d.FCC6F91E56B02940870716A1D0678162.e.22692\")>,\n",
       " <selenium.webdriver.remote.webelement.WebElement (session=\"30eb0dd9f39cb6cff5a73f3cc8f497ee\", element=\"f.C84F0FCB846D83BC9A65108221F1E96C.d.FCC6F91E56B02940870716A1D0678162.e.22605\")>,\n",
       " <selenium.webdriver.remote.webelement.WebElement (session=\"30eb0dd9f39cb6cff5a73f3cc8f497ee\", element=\"f.C84F0FCB846D83BC9A65108221F1E96C.d.FCC6F91E56B02940870716A1D0678162.e.22518\")>,\n",
       " <selenium.webdriver.remote.webelement.WebElement (session=\"30eb0dd9f39cb6cff5a73f3cc8f497ee\", element=\"f.C84F0FCB846D83BC9A65108221F1E96C.d.FCC6F91E56B02940870716A1D0678162.e.22431\")>,\n",
       " <selenium.webdriver.remote.webelement.WebElement (session=\"30eb0dd9f39cb6cff5a73f3cc8f497ee\", element=\"f.C84F0FCB846D83BC9A65108221F1E96C.d.FCC6F91E56B02940870716A1D0678162.e.22344\")>,\n",
       " <selenium.webdriver.remote.webelement.WebElement (session=\"30eb0dd9f39cb6cff5a73f3cc8f497ee\", element=\"f.C84F0FCB846D83BC9A65108221F1E96C.d.FCC6F91E56B02940870716A1D0678162.e.22266\")>,\n",
       " <selenium.webdriver.remote.webelement.WebElement (session=\"30eb0dd9f39cb6cff5a73f3cc8f497ee\", element=\"f.C84F0FCB846D83BC9A65108221F1E96C.d.FCC6F91E56B02940870716A1D0678162.e.22192\")>,\n",
       " <selenium.webdriver.remote.webelement.WebElement (session=\"30eb0dd9f39cb6cff5a73f3cc8f497ee\", element=\"f.C84F0FCB846D83BC9A65108221F1E96C.d.FCC6F91E56B02940870716A1D0678162.e.22105\")>,\n",
       " <selenium.webdriver.remote.webelement.WebElement (session=\"30eb0dd9f39cb6cff5a73f3cc8f497ee\", element=\"f.C84F0FCB846D83BC9A65108221F1E96C.d.FCC6F91E56B02940870716A1D0678162.e.22027\")>,\n",
       " <selenium.webdriver.remote.webelement.WebElement (session=\"30eb0dd9f39cb6cff5a73f3cc8f497ee\", element=\"f.C84F0FCB846D83BC9A65108221F1E96C.d.FCC6F91E56B02940870716A1D0678162.e.21949\")>,\n",
       " <selenium.webdriver.remote.webelement.WebElement (session=\"30eb0dd9f39cb6cff5a73f3cc8f497ee\", element=\"f.C84F0FCB846D83BC9A65108221F1E96C.d.FCC6F91E56B02940870716A1D0678162.e.21871\")>,\n",
       " <selenium.webdriver.remote.webelement.WebElement (session=\"30eb0dd9f39cb6cff5a73f3cc8f497ee\", element=\"f.C84F0FCB846D83BC9A65108221F1E96C.d.FCC6F91E56B02940870716A1D0678162.e.21788\")>,\n",
       " <selenium.webdriver.remote.webelement.WebElement (session=\"30eb0dd9f39cb6cff5a73f3cc8f497ee\", element=\"f.C84F0FCB846D83BC9A65108221F1E96C.d.FCC6F91E56B02940870716A1D0678162.e.21701\")>,\n",
       " <selenium.webdriver.remote.webelement.WebElement (session=\"30eb0dd9f39cb6cff5a73f3cc8f497ee\", element=\"f.C84F0FCB846D83BC9A65108221F1E96C.d.FCC6F91E56B02940870716A1D0678162.e.21623\")>,\n",
       " <selenium.webdriver.remote.webelement.WebElement (session=\"30eb0dd9f39cb6cff5a73f3cc8f497ee\", element=\"f.C84F0FCB846D83BC9A65108221F1E96C.d.FCC6F91E56B02940870716A1D0678162.e.21549\")>,\n",
       " <selenium.webdriver.remote.webelement.WebElement (session=\"30eb0dd9f39cb6cff5a73f3cc8f497ee\", element=\"f.C84F0FCB846D83BC9A65108221F1E96C.d.FCC6F91E56B02940870716A1D0678162.e.21462\")>,\n",
       " <selenium.webdriver.remote.webelement.WebElement (session=\"30eb0dd9f39cb6cff5a73f3cc8f497ee\", element=\"f.C84F0FCB846D83BC9A65108221F1E96C.d.FCC6F91E56B02940870716A1D0678162.e.21375\")>,\n",
       " <selenium.webdriver.remote.webelement.WebElement (session=\"30eb0dd9f39cb6cff5a73f3cc8f497ee\", element=\"f.C84F0FCB846D83BC9A65108221F1E96C.d.FCC6F91E56B02940870716A1D0678162.e.24827\")>,\n",
       " <selenium.webdriver.remote.webelement.WebElement (session=\"30eb0dd9f39cb6cff5a73f3cc8f497ee\", element=\"f.C84F0FCB846D83BC9A65108221F1E96C.d.FCC6F91E56B02940870716A1D0678162.e.24742\")>,\n",
       " <selenium.webdriver.remote.webelement.WebElement (session=\"30eb0dd9f39cb6cff5a73f3cc8f497ee\", element=\"f.C84F0FCB846D83BC9A65108221F1E96C.d.FCC6F91E56B02940870716A1D0678162.e.24657\")>,\n",
       " <selenium.webdriver.remote.webelement.WebElement (session=\"30eb0dd9f39cb6cff5a73f3cc8f497ee\", element=\"f.C84F0FCB846D83BC9A65108221F1E96C.d.FCC6F91E56B02940870716A1D0678162.e.24570\")>,\n",
       " <selenium.webdriver.remote.webelement.WebElement (session=\"30eb0dd9f39cb6cff5a73f3cc8f497ee\", element=\"f.C84F0FCB846D83BC9A65108221F1E96C.d.FCC6F91E56B02940870716A1D0678162.e.24487\")>,\n",
       " <selenium.webdriver.remote.webelement.WebElement (session=\"30eb0dd9f39cb6cff5a73f3cc8f497ee\", element=\"f.C84F0FCB846D83BC9A65108221F1E96C.d.FCC6F91E56B02940870716A1D0678162.e.24409\")>,\n",
       " <selenium.webdriver.remote.webelement.WebElement (session=\"30eb0dd9f39cb6cff5a73f3cc8f497ee\", element=\"f.C84F0FCB846D83BC9A65108221F1E96C.d.FCC6F91E56B02940870716A1D0678162.e.24331\")>,\n",
       " <selenium.webdriver.remote.webelement.WebElement (session=\"30eb0dd9f39cb6cff5a73f3cc8f497ee\", element=\"f.C84F0FCB846D83BC9A65108221F1E96C.d.FCC6F91E56B02940870716A1D0678162.e.24253\")>,\n",
       " <selenium.webdriver.remote.webelement.WebElement (session=\"30eb0dd9f39cb6cff5a73f3cc8f497ee\", element=\"f.C84F0FCB846D83BC9A65108221F1E96C.d.FCC6F91E56B02940870716A1D0678162.e.24168\")>,\n",
       " <selenium.webdriver.remote.webelement.WebElement (session=\"30eb0dd9f39cb6cff5a73f3cc8f497ee\", element=\"f.C84F0FCB846D83BC9A65108221F1E96C.d.FCC6F91E56B02940870716A1D0678162.e.24081\")>,\n",
       " <selenium.webdriver.remote.webelement.WebElement (session=\"30eb0dd9f39cb6cff5a73f3cc8f497ee\", element=\"f.C84F0FCB846D83BC9A65108221F1E96C.d.FCC6F91E56B02940870716A1D0678162.e.24003\")>,\n",
       " <selenium.webdriver.remote.webelement.WebElement (session=\"30eb0dd9f39cb6cff5a73f3cc8f497ee\", element=\"f.C84F0FCB846D83BC9A65108221F1E96C.d.FCC6F91E56B02940870716A1D0678162.e.23920\")>,\n",
       " <selenium.webdriver.remote.webelement.WebElement (session=\"30eb0dd9f39cb6cff5a73f3cc8f497ee\", element=\"f.C84F0FCB846D83BC9A65108221F1E96C.d.FCC6F91E56B02940870716A1D0678162.e.23846\")>,\n",
       " <selenium.webdriver.remote.webelement.WebElement (session=\"30eb0dd9f39cb6cff5a73f3cc8f497ee\", element=\"f.C84F0FCB846D83BC9A65108221F1E96C.d.FCC6F91E56B02940870716A1D0678162.e.23759\")>,\n",
       " <selenium.webdriver.remote.webelement.WebElement (session=\"30eb0dd9f39cb6cff5a73f3cc8f497ee\", element=\"f.C84F0FCB846D83BC9A65108221F1E96C.d.FCC6F91E56B02940870716A1D0678162.e.23676\")>,\n",
       " <selenium.webdriver.remote.webelement.WebElement (session=\"30eb0dd9f39cb6cff5a73f3cc8f497ee\", element=\"f.C84F0FCB846D83BC9A65108221F1E96C.d.FCC6F91E56B02940870716A1D0678162.e.23602\")>,\n",
       " <selenium.webdriver.remote.webelement.WebElement (session=\"30eb0dd9f39cb6cff5a73f3cc8f497ee\", element=\"f.C84F0FCB846D83BC9A65108221F1E96C.d.FCC6F91E56B02940870716A1D0678162.e.23519\")>,\n",
       " <selenium.webdriver.remote.webelement.WebElement (session=\"30eb0dd9f39cb6cff5a73f3cc8f497ee\", element=\"f.C84F0FCB846D83BC9A65108221F1E96C.d.FCC6F91E56B02940870716A1D0678162.e.23445\")>,\n",
       " <selenium.webdriver.remote.webelement.WebElement (session=\"30eb0dd9f39cb6cff5a73f3cc8f497ee\", element=\"f.C84F0FCB846D83BC9A65108221F1E96C.d.FCC6F91E56B02940870716A1D0678162.e.23362\")>,\n",
       " <selenium.webdriver.remote.webelement.WebElement (session=\"30eb0dd9f39cb6cff5a73f3cc8f497ee\", element=\"f.C84F0FCB846D83BC9A65108221F1E96C.d.FCC6F91E56B02940870716A1D0678162.e.23279\")>,\n",
       " <selenium.webdriver.remote.webelement.WebElement (session=\"30eb0dd9f39cb6cff5a73f3cc8f497ee\", element=\"f.C84F0FCB846D83BC9A65108221F1E96C.d.FCC6F91E56B02940870716A1D0678162.e.26684\")>,\n",
       " <selenium.webdriver.remote.webelement.WebElement (session=\"30eb0dd9f39cb6cff5a73f3cc8f497ee\", element=\"f.C84F0FCB846D83BC9A65108221F1E96C.d.FCC6F91E56B02940870716A1D0678162.e.26597\")>,\n",
       " <selenium.webdriver.remote.webelement.WebElement (session=\"30eb0dd9f39cb6cff5a73f3cc8f497ee\", element=\"f.C84F0FCB846D83BC9A65108221F1E96C.d.FCC6F91E56B02940870716A1D0678162.e.26521\")>,\n",
       " <selenium.webdriver.remote.webelement.WebElement (session=\"30eb0dd9f39cb6cff5a73f3cc8f497ee\", element=\"f.C84F0FCB846D83BC9A65108221F1E96C.d.FCC6F91E56B02940870716A1D0678162.e.26447\")>,\n",
       " <selenium.webdriver.remote.webelement.WebElement (session=\"30eb0dd9f39cb6cff5a73f3cc8f497ee\", element=\"f.C84F0FCB846D83BC9A65108221F1E96C.d.FCC6F91E56B02940870716A1D0678162.e.26360\")>,\n",
       " <selenium.webdriver.remote.webelement.WebElement (session=\"30eb0dd9f39cb6cff5a73f3cc8f497ee\", element=\"f.C84F0FCB846D83BC9A65108221F1E96C.d.FCC6F91E56B02940870716A1D0678162.e.26282\")>,\n",
       " <selenium.webdriver.remote.webelement.WebElement (session=\"30eb0dd9f39cb6cff5a73f3cc8f497ee\", element=\"f.C84F0FCB846D83BC9A65108221F1E96C.d.FCC6F91E56B02940870716A1D0678162.e.26204\")>,\n",
       " <selenium.webdriver.remote.webelement.WebElement (session=\"30eb0dd9f39cb6cff5a73f3cc8f497ee\", element=\"f.C84F0FCB846D83BC9A65108221F1E96C.d.FCC6F91E56B02940870716A1D0678162.e.26121\")>,\n",
       " <selenium.webdriver.remote.webelement.WebElement (session=\"30eb0dd9f39cb6cff5a73f3cc8f497ee\", element=\"f.C84F0FCB846D83BC9A65108221F1E96C.d.FCC6F91E56B02940870716A1D0678162.e.26034\")>,\n",
       " <selenium.webdriver.remote.webelement.WebElement (session=\"30eb0dd9f39cb6cff5a73f3cc8f497ee\", element=\"f.C84F0FCB846D83BC9A65108221F1E96C.d.FCC6F91E56B02940870716A1D0678162.e.25956\")>,\n",
       " <selenium.webdriver.remote.webelement.WebElement (session=\"30eb0dd9f39cb6cff5a73f3cc8f497ee\", element=\"f.C84F0FCB846D83BC9A65108221F1E96C.d.FCC6F91E56B02940870716A1D0678162.e.25878\")>,\n",
       " <selenium.webdriver.remote.webelement.WebElement (session=\"30eb0dd9f39cb6cff5a73f3cc8f497ee\", element=\"f.C84F0FCB846D83BC9A65108221F1E96C.d.FCC6F91E56B02940870716A1D0678162.e.25804\")>,\n",
       " <selenium.webdriver.remote.webelement.WebElement (session=\"30eb0dd9f39cb6cff5a73f3cc8f497ee\", element=\"f.C84F0FCB846D83BC9A65108221F1E96C.d.FCC6F91E56B02940870716A1D0678162.e.25721\")>,\n",
       " <selenium.webdriver.remote.webelement.WebElement (session=\"30eb0dd9f39cb6cff5a73f3cc8f497ee\", element=\"f.C84F0FCB846D83BC9A65108221F1E96C.d.FCC6F91E56B02940870716A1D0678162.e.25636\")>,\n",
       " <selenium.webdriver.remote.webelement.WebElement (session=\"30eb0dd9f39cb6cff5a73f3cc8f497ee\", element=\"f.C84F0FCB846D83BC9A65108221F1E96C.d.FCC6F91E56B02940870716A1D0678162.e.25549\")>,\n",
       " <selenium.webdriver.remote.webelement.WebElement (session=\"30eb0dd9f39cb6cff5a73f3cc8f497ee\", element=\"f.C84F0FCB846D83BC9A65108221F1E96C.d.FCC6F91E56B02940870716A1D0678162.e.25473\")>,\n",
       " <selenium.webdriver.remote.webelement.WebElement (session=\"30eb0dd9f39cb6cff5a73f3cc8f497ee\", element=\"f.C84F0FCB846D83BC9A65108221F1E96C.d.FCC6F91E56B02940870716A1D0678162.e.25399\")>,\n",
       " <selenium.webdriver.remote.webelement.WebElement (session=\"30eb0dd9f39cb6cff5a73f3cc8f497ee\", element=\"f.C84F0FCB846D83BC9A65108221F1E96C.d.FCC6F91E56B02940870716A1D0678162.e.25323\")>,\n",
       " <selenium.webdriver.remote.webelement.WebElement (session=\"30eb0dd9f39cb6cff5a73f3cc8f497ee\", element=\"f.C84F0FCB846D83BC9A65108221F1E96C.d.FCC6F91E56B02940870716A1D0678162.e.25249\")>,\n",
       " <selenium.webdriver.remote.webelement.WebElement (session=\"30eb0dd9f39cb6cff5a73f3cc8f497ee\", element=\"f.C84F0FCB846D83BC9A65108221F1E96C.d.FCC6F91E56B02940870716A1D0678162.e.25175\")>,\n",
       " <selenium.webdriver.remote.webelement.WebElement (session=\"30eb0dd9f39cb6cff5a73f3cc8f497ee\", element=\"f.C84F0FCB846D83BC9A65108221F1E96C.d.FCC6F91E56B02940870716A1D0678162.e.28486\")>,\n",
       " <selenium.webdriver.remote.webelement.WebElement (session=\"30eb0dd9f39cb6cff5a73f3cc8f497ee\", element=\"f.C84F0FCB846D83BC9A65108221F1E96C.d.FCC6F91E56B02940870716A1D0678162.e.28412\")>,\n",
       " <selenium.webdriver.remote.webelement.WebElement (session=\"30eb0dd9f39cb6cff5a73f3cc8f497ee\", element=\"f.C84F0FCB846D83BC9A65108221F1E96C.d.FCC6F91E56B02940870716A1D0678162.e.28329\")>,\n",
       " <selenium.webdriver.remote.webelement.WebElement (session=\"30eb0dd9f39cb6cff5a73f3cc8f497ee\", element=\"f.C84F0FCB846D83BC9A65108221F1E96C.d.FCC6F91E56B02940870716A1D0678162.e.28255\")>,\n",
       " <selenium.webdriver.remote.webelement.WebElement (session=\"30eb0dd9f39cb6cff5a73f3cc8f497ee\", element=\"f.C84F0FCB846D83BC9A65108221F1E96C.d.FCC6F91E56B02940870716A1D0678162.e.28172\")>,\n",
       " <selenium.webdriver.remote.webelement.WebElement (session=\"30eb0dd9f39cb6cff5a73f3cc8f497ee\", element=\"f.C84F0FCB846D83BC9A65108221F1E96C.d.FCC6F91E56B02940870716A1D0678162.e.28094\")>,\n",
       " <selenium.webdriver.remote.webelement.WebElement (session=\"30eb0dd9f39cb6cff5a73f3cc8f497ee\", element=\"f.C84F0FCB846D83BC9A65108221F1E96C.d.FCC6F91E56B02940870716A1D0678162.e.28009\")>,\n",
       " <selenium.webdriver.remote.webelement.WebElement (session=\"30eb0dd9f39cb6cff5a73f3cc8f497ee\", element=\"f.C84F0FCB846D83BC9A65108221F1E96C.d.FCC6F91E56B02940870716A1D0678162.e.27931\")>,\n",
       " <selenium.webdriver.remote.webelement.WebElement (session=\"30eb0dd9f39cb6cff5a73f3cc8f497ee\", element=\"f.C84F0FCB846D83BC9A65108221F1E96C.d.FCC6F91E56B02940870716A1D0678162.e.27855\")>,\n",
       " <selenium.webdriver.remote.webelement.WebElement (session=\"30eb0dd9f39cb6cff5a73f3cc8f497ee\", element=\"f.C84F0FCB846D83BC9A65108221F1E96C.d.FCC6F91E56B02940870716A1D0678162.e.27777\")>,\n",
       " <selenium.webdriver.remote.webelement.WebElement (session=\"30eb0dd9f39cb6cff5a73f3cc8f497ee\", element=\"f.C84F0FCB846D83BC9A65108221F1E96C.d.FCC6F91E56B02940870716A1D0678162.e.27703\")>,\n",
       " <selenium.webdriver.remote.webelement.WebElement (session=\"30eb0dd9f39cb6cff5a73f3cc8f497ee\", element=\"f.C84F0FCB846D83BC9A65108221F1E96C.d.FCC6F91E56B02940870716A1D0678162.e.27629\")>,\n",
       " <selenium.webdriver.remote.webelement.WebElement (session=\"30eb0dd9f39cb6cff5a73f3cc8f497ee\", element=\"f.C84F0FCB846D83BC9A65108221F1E96C.d.FCC6F91E56B02940870716A1D0678162.e.27553\")>,\n",
       " <selenium.webdriver.remote.webelement.WebElement (session=\"30eb0dd9f39cb6cff5a73f3cc8f497ee\", element=\"f.C84F0FCB846D83BC9A65108221F1E96C.d.FCC6F91E56B02940870716A1D0678162.e.27470\")>,\n",
       " <selenium.webdriver.remote.webelement.WebElement (session=\"30eb0dd9f39cb6cff5a73f3cc8f497ee\", element=\"f.C84F0FCB846D83BC9A65108221F1E96C.d.FCC6F91E56B02940870716A1D0678162.e.27396\")>,\n",
       " <selenium.webdriver.remote.webelement.WebElement (session=\"30eb0dd9f39cb6cff5a73f3cc8f497ee\", element=\"f.C84F0FCB846D83BC9A65108221F1E96C.d.FCC6F91E56B02940870716A1D0678162.e.27313\")>,\n",
       " <selenium.webdriver.remote.webelement.WebElement (session=\"30eb0dd9f39cb6cff5a73f3cc8f497ee\", element=\"f.C84F0FCB846D83BC9A65108221F1E96C.d.FCC6F91E56B02940870716A1D0678162.e.27230\")>,\n",
       " <selenium.webdriver.remote.webelement.WebElement (session=\"30eb0dd9f39cb6cff5a73f3cc8f497ee\", element=\"f.C84F0FCB846D83BC9A65108221F1E96C.d.FCC6F91E56B02940870716A1D0678162.e.27147\")>,\n",
       " <selenium.webdriver.remote.webelement.WebElement (session=\"30eb0dd9f39cb6cff5a73f3cc8f497ee\", element=\"f.C84F0FCB846D83BC9A65108221F1E96C.d.FCC6F91E56B02940870716A1D0678162.e.27073\")>,\n",
       " <selenium.webdriver.remote.webelement.WebElement (session=\"30eb0dd9f39cb6cff5a73f3cc8f497ee\", element=\"f.C84F0FCB846D83BC9A65108221F1E96C.d.FCC6F91E56B02940870716A1D0678162.e.26997\")>,\n",
       " <selenium.webdriver.remote.webelement.WebElement (session=\"30eb0dd9f39cb6cff5a73f3cc8f497ee\", element=\"f.C84F0FCB846D83BC9A65108221F1E96C.d.FCC6F91E56B02940870716A1D0678162.e.30387\")>,\n",
       " <selenium.webdriver.remote.webelement.WebElement (session=\"30eb0dd9f39cb6cff5a73f3cc8f497ee\", element=\"f.C84F0FCB846D83BC9A65108221F1E96C.d.FCC6F91E56B02940870716A1D0678162.e.30304\")>,\n",
       " <selenium.webdriver.remote.webelement.WebElement (session=\"30eb0dd9f39cb6cff5a73f3cc8f497ee\", element=\"f.C84F0FCB846D83BC9A65108221F1E96C.d.FCC6F91E56B02940870716A1D0678162.e.30230\")>,\n",
       " <selenium.webdriver.remote.webelement.WebElement (session=\"30eb0dd9f39cb6cff5a73f3cc8f497ee\", element=\"f.C84F0FCB846D83BC9A65108221F1E96C.d.FCC6F91E56B02940870716A1D0678162.e.30145\")>,\n",
       " <selenium.webdriver.remote.webelement.WebElement (session=\"30eb0dd9f39cb6cff5a73f3cc8f497ee\", element=\"f.C84F0FCB846D83BC9A65108221F1E96C.d.FCC6F91E56B02940870716A1D0678162.e.30069\")>,\n",
       " <selenium.webdriver.remote.webelement.WebElement (session=\"30eb0dd9f39cb6cff5a73f3cc8f497ee\", element=\"f.C84F0FCB846D83BC9A65108221F1E96C.d.FCC6F91E56B02940870716A1D0678162.e.29986\")>,\n",
       " <selenium.webdriver.remote.webelement.WebElement (session=\"30eb0dd9f39cb6cff5a73f3cc8f497ee\", element=\"f.C84F0FCB846D83BC9A65108221F1E96C.d.FCC6F91E56B02940870716A1D0678162.e.29901\")>,\n",
       " <selenium.webdriver.remote.webelement.WebElement (session=\"30eb0dd9f39cb6cff5a73f3cc8f497ee\", element=\"f.C84F0FCB846D83BC9A65108221F1E96C.d.FCC6F91E56B02940870716A1D0678162.e.29823\")>,\n",
       " <selenium.webdriver.remote.webelement.WebElement (session=\"30eb0dd9f39cb6cff5a73f3cc8f497ee\", element=\"f.C84F0FCB846D83BC9A65108221F1E96C.d.FCC6F91E56B02940870716A1D0678162.e.29745\")>,\n",
       " <selenium.webdriver.remote.webelement.WebElement (session=\"30eb0dd9f39cb6cff5a73f3cc8f497ee\", element=\"f.C84F0FCB846D83BC9A65108221F1E96C.d.FCC6F91E56B02940870716A1D0678162.e.29658\")>,\n",
       " <selenium.webdriver.remote.webelement.WebElement (session=\"30eb0dd9f39cb6cff5a73f3cc8f497ee\", element=\"f.C84F0FCB846D83BC9A65108221F1E96C.d.FCC6F91E56B02940870716A1D0678162.e.29575\")>,\n",
       " <selenium.webdriver.remote.webelement.WebElement (session=\"30eb0dd9f39cb6cff5a73f3cc8f497ee\", element=\"f.C84F0FCB846D83BC9A65108221F1E96C.d.FCC6F91E56B02940870716A1D0678162.e.29499\")>,\n",
       " <selenium.webdriver.remote.webelement.WebElement (session=\"30eb0dd9f39cb6cff5a73f3cc8f497ee\", element=\"f.C84F0FCB846D83BC9A65108221F1E96C.d.FCC6F91E56B02940870716A1D0678162.e.29421\")>,\n",
       " <selenium.webdriver.remote.webelement.WebElement (session=\"30eb0dd9f39cb6cff5a73f3cc8f497ee\", element=\"f.C84F0FCB846D83BC9A65108221F1E96C.d.FCC6F91E56B02940870716A1D0678162.e.29334\")>,\n",
       " <selenium.webdriver.remote.webelement.WebElement (session=\"30eb0dd9f39cb6cff5a73f3cc8f497ee\", element=\"f.C84F0FCB846D83BC9A65108221F1E96C.d.FCC6F91E56B02940870716A1D0678162.e.29251\")>,\n",
       " <selenium.webdriver.remote.webelement.WebElement (session=\"30eb0dd9f39cb6cff5a73f3cc8f497ee\", element=\"f.C84F0FCB846D83BC9A65108221F1E96C.d.FCC6F91E56B02940870716A1D0678162.e.29164\")>,\n",
       " <selenium.webdriver.remote.webelement.WebElement (session=\"30eb0dd9f39cb6cff5a73f3cc8f497ee\", element=\"f.C84F0FCB846D83BC9A65108221F1E96C.d.FCC6F91E56B02940870716A1D0678162.e.29081\")>,\n",
       " <selenium.webdriver.remote.webelement.WebElement (session=\"30eb0dd9f39cb6cff5a73f3cc8f497ee\", element=\"f.C84F0FCB846D83BC9A65108221F1E96C.d.FCC6F91E56B02940870716A1D0678162.e.29005\")>,\n",
       " <selenium.webdriver.remote.webelement.WebElement (session=\"30eb0dd9f39cb6cff5a73f3cc8f497ee\", element=\"f.C84F0FCB846D83BC9A65108221F1E96C.d.FCC6F91E56B02940870716A1D0678162.e.28922\")>,\n",
       " <selenium.webdriver.remote.webelement.WebElement (session=\"30eb0dd9f39cb6cff5a73f3cc8f497ee\", element=\"f.C84F0FCB846D83BC9A65108221F1E96C.d.FCC6F91E56B02940870716A1D0678162.e.28848\")>,\n",
       " <selenium.webdriver.remote.webelement.WebElement (session=\"30eb0dd9f39cb6cff5a73f3cc8f497ee\", element=\"f.C84F0FCB846D83BC9A65108221F1E96C.d.FCC6F91E56B02940870716A1D0678162.e.32214\")>,\n",
       " <selenium.webdriver.remote.webelement.WebElement (session=\"30eb0dd9f39cb6cff5a73f3cc8f497ee\", element=\"f.C84F0FCB846D83BC9A65108221F1E96C.d.FCC6F91E56B02940870716A1D0678162.e.32140\")>,\n",
       " <selenium.webdriver.remote.webelement.WebElement (session=\"30eb0dd9f39cb6cff5a73f3cc8f497ee\", element=\"f.C84F0FCB846D83BC9A65108221F1E96C.d.FCC6F91E56B02940870716A1D0678162.e.32057\")>,\n",
       " <selenium.webdriver.remote.webelement.WebElement (session=\"30eb0dd9f39cb6cff5a73f3cc8f497ee\", element=\"f.C84F0FCB846D83BC9A65108221F1E96C.d.FCC6F91E56B02940870716A1D0678162.e.31983\")>,\n",
       " <selenium.webdriver.remote.webelement.WebElement (session=\"30eb0dd9f39cb6cff5a73f3cc8f497ee\", element=\"f.C84F0FCB846D83BC9A65108221F1E96C.d.FCC6F91E56B02940870716A1D0678162.e.31907\")>,\n",
       " <selenium.webdriver.remote.webelement.WebElement (session=\"30eb0dd9f39cb6cff5a73f3cc8f497ee\", element=\"f.C84F0FCB846D83BC9A65108221F1E96C.d.FCC6F91E56B02940870716A1D0678162.e.31833\")>,\n",
       " <selenium.webdriver.remote.webelement.WebElement (session=\"30eb0dd9f39cb6cff5a73f3cc8f497ee\", element=\"f.C84F0FCB846D83BC9A65108221F1E96C.d.FCC6F91E56B02940870716A1D0678162.e.31750\")>,\n",
       " <selenium.webdriver.remote.webelement.WebElement (session=\"30eb0dd9f39cb6cff5a73f3cc8f497ee\", element=\"f.C84F0FCB846D83BC9A65108221F1E96C.d.FCC6F91E56B02940870716A1D0678162.e.31667\")>,\n",
       " <selenium.webdriver.remote.webelement.WebElement (session=\"30eb0dd9f39cb6cff5a73f3cc8f497ee\", element=\"f.C84F0FCB846D83BC9A65108221F1E96C.d.FCC6F91E56B02940870716A1D0678162.e.31593\")>,\n",
       " <selenium.webdriver.remote.webelement.WebElement (session=\"30eb0dd9f39cb6cff5a73f3cc8f497ee\", element=\"f.C84F0FCB846D83BC9A65108221F1E96C.d.FCC6F91E56B02940870716A1D0678162.e.31517\")>,\n",
       " <selenium.webdriver.remote.webelement.WebElement (session=\"30eb0dd9f39cb6cff5a73f3cc8f497ee\", element=\"f.C84F0FCB846D83BC9A65108221F1E96C.d.FCC6F91E56B02940870716A1D0678162.e.31434\")>,\n",
       " <selenium.webdriver.remote.webelement.WebElement (session=\"30eb0dd9f39cb6cff5a73f3cc8f497ee\", element=\"f.C84F0FCB846D83BC9A65108221F1E96C.d.FCC6F91E56B02940870716A1D0678162.e.31360\")>,\n",
       " <selenium.webdriver.remote.webelement.WebElement (session=\"30eb0dd9f39cb6cff5a73f3cc8f497ee\", element=\"f.C84F0FCB846D83BC9A65108221F1E96C.d.FCC6F91E56B02940870716A1D0678162.e.31286\")>,\n",
       " <selenium.webdriver.remote.webelement.WebElement (session=\"30eb0dd9f39cb6cff5a73f3cc8f497ee\", element=\"f.C84F0FCB846D83BC9A65108221F1E96C.d.FCC6F91E56B02940870716A1D0678162.e.31208\")>,\n",
       " <selenium.webdriver.remote.webelement.WebElement (session=\"30eb0dd9f39cb6cff5a73f3cc8f497ee\", element=\"f.C84F0FCB846D83BC9A65108221F1E96C.d.FCC6F91E56B02940870716A1D0678162.e.31125\")>,\n",
       " <selenium.webdriver.remote.webelement.WebElement (session=\"30eb0dd9f39cb6cff5a73f3cc8f497ee\", element=\"f.C84F0FCB846D83BC9A65108221F1E96C.d.FCC6F91E56B02940870716A1D0678162.e.31049\")>,\n",
       " <selenium.webdriver.remote.webelement.WebElement (session=\"30eb0dd9f39cb6cff5a73f3cc8f497ee\", element=\"f.C84F0FCB846D83BC9A65108221F1E96C.d.FCC6F91E56B02940870716A1D0678162.e.30973\")>,\n",
       " <selenium.webdriver.remote.webelement.WebElement (session=\"30eb0dd9f39cb6cff5a73f3cc8f497ee\", element=\"f.C84F0FCB846D83BC9A65108221F1E96C.d.FCC6F91E56B02940870716A1D0678162.e.30886\")>,\n",
       " <selenium.webdriver.remote.webelement.WebElement (session=\"30eb0dd9f39cb6cff5a73f3cc8f497ee\", element=\"f.C84F0FCB846D83BC9A65108221F1E96C.d.FCC6F91E56B02940870716A1D0678162.e.30812\")>,\n",
       " <selenium.webdriver.remote.webelement.WebElement (session=\"30eb0dd9f39cb6cff5a73f3cc8f497ee\", element=\"f.C84F0FCB846D83BC9A65108221F1E96C.d.FCC6F91E56B02940870716A1D0678162.e.30725\")>,\n",
       " <selenium.webdriver.remote.webelement.WebElement (session=\"30eb0dd9f39cb6cff5a73f3cc8f497ee\", element=\"f.C84F0FCB846D83BC9A65108221F1E96C.d.FCC6F91E56B02940870716A1D0678162.e.34131\")>,\n",
       " <selenium.webdriver.remote.webelement.WebElement (session=\"30eb0dd9f39cb6cff5a73f3cc8f497ee\", element=\"f.C84F0FCB846D83BC9A65108221F1E96C.d.FCC6F91E56B02940870716A1D0678162.e.34048\")>,\n",
       " <selenium.webdriver.remote.webelement.WebElement (session=\"30eb0dd9f39cb6cff5a73f3cc8f497ee\", element=\"f.C84F0FCB846D83BC9A65108221F1E96C.d.FCC6F91E56B02940870716A1D0678162.e.33965\")>,\n",
       " <selenium.webdriver.remote.webelement.WebElement (session=\"30eb0dd9f39cb6cff5a73f3cc8f497ee\", element=\"f.C84F0FCB846D83BC9A65108221F1E96C.d.FCC6F91E56B02940870716A1D0678162.e.33891\")>,\n",
       " <selenium.webdriver.remote.webelement.WebElement (session=\"30eb0dd9f39cb6cff5a73f3cc8f497ee\", element=\"f.C84F0FCB846D83BC9A65108221F1E96C.d.FCC6F91E56B02940870716A1D0678162.e.33813\")>,\n",
       " <selenium.webdriver.remote.webelement.WebElement (session=\"30eb0dd9f39cb6cff5a73f3cc8f497ee\", element=\"f.C84F0FCB846D83BC9A65108221F1E96C.d.FCC6F91E56B02940870716A1D0678162.e.33728\")>,\n",
       " <selenium.webdriver.remote.webelement.WebElement (session=\"30eb0dd9f39cb6cff5a73f3cc8f497ee\", element=\"f.C84F0FCB846D83BC9A65108221F1E96C.d.FCC6F91E56B02940870716A1D0678162.e.33641\")>,\n",
       " <selenium.webdriver.remote.webelement.WebElement (session=\"30eb0dd9f39cb6cff5a73f3cc8f497ee\", element=\"f.C84F0FCB846D83BC9A65108221F1E96C.d.FCC6F91E56B02940870716A1D0678162.e.33558\")>,\n",
       " <selenium.webdriver.remote.webelement.WebElement (session=\"30eb0dd9f39cb6cff5a73f3cc8f497ee\", element=\"f.C84F0FCB846D83BC9A65108221F1E96C.d.FCC6F91E56B02940870716A1D0678162.e.33480\")>,\n",
       " <selenium.webdriver.remote.webelement.WebElement (session=\"30eb0dd9f39cb6cff5a73f3cc8f497ee\", element=\"f.C84F0FCB846D83BC9A65108221F1E96C.d.FCC6F91E56B02940870716A1D0678162.e.33397\")>,\n",
       " <selenium.webdriver.remote.webelement.WebElement (session=\"30eb0dd9f39cb6cff5a73f3cc8f497ee\", element=\"f.C84F0FCB846D83BC9A65108221F1E96C.d.FCC6F91E56B02940870716A1D0678162.e.33310\")>,\n",
       " <selenium.webdriver.remote.webelement.WebElement (session=\"30eb0dd9f39cb6cff5a73f3cc8f497ee\", element=\"f.C84F0FCB846D83BC9A65108221F1E96C.d.FCC6F91E56B02940870716A1D0678162.e.33225\")>,\n",
       " <selenium.webdriver.remote.webelement.WebElement (session=\"30eb0dd9f39cb6cff5a73f3cc8f497ee\", element=\"f.C84F0FCB846D83BC9A65108221F1E96C.d.FCC6F91E56B02940870716A1D0678162.e.33142\")>,\n",
       " <selenium.webdriver.remote.webelement.WebElement (session=\"30eb0dd9f39cb6cff5a73f3cc8f497ee\", element=\"f.C84F0FCB846D83BC9A65108221F1E96C.d.FCC6F91E56B02940870716A1D0678162.e.33059\")>,\n",
       " <selenium.webdriver.remote.webelement.WebElement (session=\"30eb0dd9f39cb6cff5a73f3cc8f497ee\", element=\"f.C84F0FCB846D83BC9A65108221F1E96C.d.FCC6F91E56B02940870716A1D0678162.e.32981\")>,\n",
       " <selenium.webdriver.remote.webelement.WebElement (session=\"30eb0dd9f39cb6cff5a73f3cc8f497ee\", element=\"f.C84F0FCB846D83BC9A65108221F1E96C.d.FCC6F91E56B02940870716A1D0678162.e.32898\")>,\n",
       " <selenium.webdriver.remote.webelement.WebElement (session=\"30eb0dd9f39cb6cff5a73f3cc8f497ee\", element=\"f.C84F0FCB846D83BC9A65108221F1E96C.d.FCC6F91E56B02940870716A1D0678162.e.32813\")>,\n",
       " <selenium.webdriver.remote.webelement.WebElement (session=\"30eb0dd9f39cb6cff5a73f3cc8f497ee\", element=\"f.C84F0FCB846D83BC9A65108221F1E96C.d.FCC6F91E56B02940870716A1D0678162.e.32730\")>,\n",
       " <selenium.webdriver.remote.webelement.WebElement (session=\"30eb0dd9f39cb6cff5a73f3cc8f497ee\", element=\"f.C84F0FCB846D83BC9A65108221F1E96C.d.FCC6F91E56B02940870716A1D0678162.e.32647\")>,\n",
       " <selenium.webdriver.remote.webelement.WebElement (session=\"30eb0dd9f39cb6cff5a73f3cc8f497ee\", element=\"f.C84F0FCB846D83BC9A65108221F1E96C.d.FCC6F91E56B02940870716A1D0678162.e.32564\")>,\n",
       " <selenium.webdriver.remote.webelement.WebElement (session=\"30eb0dd9f39cb6cff5a73f3cc8f497ee\", element=\"f.C84F0FCB846D83BC9A65108221F1E96C.d.FCC6F91E56B02940870716A1D0678162.e.35992\")>,\n",
       " <selenium.webdriver.remote.webelement.WebElement (session=\"30eb0dd9f39cb6cff5a73f3cc8f497ee\", element=\"f.C84F0FCB846D83BC9A65108221F1E96C.d.FCC6F91E56B02940870716A1D0678162.e.35905\")>,\n",
       " <selenium.webdriver.remote.webelement.WebElement (session=\"30eb0dd9f39cb6cff5a73f3cc8f497ee\", element=\"f.C84F0FCB846D83BC9A65108221F1E96C.d.FCC6F91E56B02940870716A1D0678162.e.35831\")>,\n",
       " <selenium.webdriver.remote.webelement.WebElement (session=\"30eb0dd9f39cb6cff5a73f3cc8f497ee\", element=\"f.C84F0FCB846D83BC9A65108221F1E96C.d.FCC6F91E56B02940870716A1D0678162.e.35757\")>,\n",
       " <selenium.webdriver.remote.webelement.WebElement (session=\"30eb0dd9f39cb6cff5a73f3cc8f497ee\", element=\"f.C84F0FCB846D83BC9A65108221F1E96C.d.FCC6F91E56B02940870716A1D0678162.e.35683\")>,\n",
       " <selenium.webdriver.remote.webelement.WebElement (session=\"30eb0dd9f39cb6cff5a73f3cc8f497ee\", element=\"f.C84F0FCB846D83BC9A65108221F1E96C.d.FCC6F91E56B02940870716A1D0678162.e.35600\")>,\n",
       " <selenium.webdriver.remote.webelement.WebElement (session=\"30eb0dd9f39cb6cff5a73f3cc8f497ee\", element=\"f.C84F0FCB846D83BC9A65108221F1E96C.d.FCC6F91E56B02940870716A1D0678162.e.35522\")>,\n",
       " <selenium.webdriver.remote.webelement.WebElement (session=\"30eb0dd9f39cb6cff5a73f3cc8f497ee\", element=\"f.C84F0FCB846D83BC9A65108221F1E96C.d.FCC6F91E56B02940870716A1D0678162.e.35439\")>,\n",
       " <selenium.webdriver.remote.webelement.WebElement (session=\"30eb0dd9f39cb6cff5a73f3cc8f497ee\", element=\"f.C84F0FCB846D83BC9A65108221F1E96C.d.FCC6F91E56B02940870716A1D0678162.e.35354\")>,\n",
       " <selenium.webdriver.remote.webelement.WebElement (session=\"30eb0dd9f39cb6cff5a73f3cc8f497ee\", element=\"f.C84F0FCB846D83BC9A65108221F1E96C.d.FCC6F91E56B02940870716A1D0678162.e.35271\")>,\n",
       " <selenium.webdriver.remote.webelement.WebElement (session=\"30eb0dd9f39cb6cff5a73f3cc8f497ee\", element=\"f.C84F0FCB846D83BC9A65108221F1E96C.d.FCC6F91E56B02940870716A1D0678162.e.35184\")>,\n",
       " <selenium.webdriver.remote.webelement.WebElement (session=\"30eb0dd9f39cb6cff5a73f3cc8f497ee\", element=\"f.C84F0FCB846D83BC9A65108221F1E96C.d.FCC6F91E56B02940870716A1D0678162.e.35097\")>,\n",
       " <selenium.webdriver.remote.webelement.WebElement (session=\"30eb0dd9f39cb6cff5a73f3cc8f497ee\", element=\"f.C84F0FCB846D83BC9A65108221F1E96C.d.FCC6F91E56B02940870716A1D0678162.e.35014\")>,\n",
       " <selenium.webdriver.remote.webelement.WebElement (session=\"30eb0dd9f39cb6cff5a73f3cc8f497ee\", element=\"f.C84F0FCB846D83BC9A65108221F1E96C.d.FCC6F91E56B02940870716A1D0678162.e.34927\")>,\n",
       " <selenium.webdriver.remote.webelement.WebElement (session=\"30eb0dd9f39cb6cff5a73f3cc8f497ee\", element=\"f.C84F0FCB846D83BC9A65108221F1E96C.d.FCC6F91E56B02940870716A1D0678162.e.34851\")>,\n",
       " <selenium.webdriver.remote.webelement.WebElement (session=\"30eb0dd9f39cb6cff5a73f3cc8f497ee\", element=\"f.C84F0FCB846D83BC9A65108221F1E96C.d.FCC6F91E56B02940870716A1D0678162.e.34773\")>,\n",
       " <selenium.webdriver.remote.webelement.WebElement (session=\"30eb0dd9f39cb6cff5a73f3cc8f497ee\", element=\"f.C84F0FCB846D83BC9A65108221F1E96C.d.FCC6F91E56B02940870716A1D0678162.e.34699\")>,\n",
       " <selenium.webdriver.remote.webelement.WebElement (session=\"30eb0dd9f39cb6cff5a73f3cc8f497ee\", element=\"f.C84F0FCB846D83BC9A65108221F1E96C.d.FCC6F91E56B02940870716A1D0678162.e.34612\")>,\n",
       " <selenium.webdriver.remote.webelement.WebElement (session=\"30eb0dd9f39cb6cff5a73f3cc8f497ee\", element=\"f.C84F0FCB846D83BC9A65108221F1E96C.d.FCC6F91E56B02940870716A1D0678162.e.34538\")>,\n",
       " <selenium.webdriver.remote.webelement.WebElement (session=\"30eb0dd9f39cb6cff5a73f3cc8f497ee\", element=\"f.C84F0FCB846D83BC9A65108221F1E96C.d.FCC6F91E56B02940870716A1D0678162.e.34464\")>]"
      ]
     },
     "execution_count": 42,
     "metadata": {},
     "output_type": "execute_result"
    }
   ],
   "source": [
    "# 리뷰내용, 별점, 날짜 포함한 객체 찾기\n",
    "reviews = driver.find_elements(By.CSS_SELECTOR, 'div.RHo1pe')\n",
    "reviews"
   ]
  },
  {
   "cell_type": "code",
   "execution_count": 44,
   "id": "9790fcbe-77c8-43a9-b7bb-b2f1042b727a",
   "metadata": {
    "tags": []
   },
   "outputs": [
    {
     "data": {
      "text/plain": [
       "220"
      ]
     },
     "execution_count": 44,
     "metadata": {},
     "output_type": "execute_result"
    }
   ],
   "source": [
    "len(reviews)"
   ]
  },
  {
   "cell_type": "code",
   "execution_count": 48,
   "id": "f2fa5626-157f-4a27-948d-83903bdc452f",
   "metadata": {
    "tags": []
   },
   "outputs": [],
   "source": [
    "# 요소별 추출\n",
    "def get_content(review):\n",
    "    condic = {}\n",
    "    condic['text'] = review.find_element(By.CSS_SELECTOR, 'div.h3YV2d').text\n",
    "    condic['rat'] = len(review.find_elements(By.CSS_SELECTOR, 'span.Z1Dz7b'))\n",
    "    condic['date'] = review.find_element(By.CSS_SELECTOR, 'span.bp9Aid').text\n",
    "    return condic"
   ]
  },
  {
   "cell_type": "code",
   "execution_count": 50,
   "id": "e481df24-0569-43b1-a58d-c4ed87d46825",
   "metadata": {
    "tags": []
   },
   "outputs": [],
   "source": [
    "result = [get_content(review) for review in reviews]"
   ]
  },
  {
   "cell_type": "code",
   "execution_count": 51,
   "id": "2825c487-f330-4f4d-bf1e-dae8d9927674",
   "metadata": {
    "tags": []
   },
   "outputs": [
    {
     "data": {
      "text/html": [
       "<div>\n",
       "<style scoped>\n",
       "    .dataframe tbody tr th:only-of-type {\n",
       "        vertical-align: middle;\n",
       "    }\n",
       "\n",
       "    .dataframe tbody tr th {\n",
       "        vertical-align: top;\n",
       "    }\n",
       "\n",
       "    .dataframe thead th {\n",
       "        text-align: right;\n",
       "    }\n",
       "</style>\n",
       "<table border=\"1\" class=\"dataframe\">\n",
       "  <thead>\n",
       "    <tr style=\"text-align: right;\">\n",
       "      <th></th>\n",
       "      <th>text</th>\n",
       "      <th>rat</th>\n",
       "      <th>date</th>\n",
       "    </tr>\n",
       "  </thead>\n",
       "  <tbody>\n",
       "    <tr>\n",
       "      <th>0</th>\n",
       "      <td>많고 많은 필터어플들이 개성은 별로 없는편인데 피크닉은 독보적인 필터들이 많아서 계...</td>\n",
       "      <td>5</td>\n",
       "      <td>2019년 4월 14일</td>\n",
       "    </tr>\n",
       "    <tr>\n",
       "      <th>1</th>\n",
       "      <td>진짜 이 앱은 남이 알까 무서울 정도로 좋은 앱이네요ㅠㅜㅜ 사진이 세상 예쁘게 되고...</td>\n",
       "      <td>4</td>\n",
       "      <td>2019년 6월 1일</td>\n",
       "    </tr>\n",
       "    <tr>\n",
       "      <th>2</th>\n",
       "      <td>일단 정말 잘 사용하고 있구요!감사합니다! 다만 최근 AI기능 on off가 있어서...</td>\n",
       "      <td>4</td>\n",
       "      <td>2019년 2월 26일</td>\n",
       "    </tr>\n",
       "    <tr>\n",
       "      <th>3</th>\n",
       "      <td>사진 화질도 아주좋고 쓸만하네요 하지만 사람들이 더 다양하게 커스텀 할수있는 기능을...</td>\n",
       "      <td>5</td>\n",
       "      <td>2024년 1월 8일</td>\n",
       "    </tr>\n",
       "    <tr>\n",
       "      <th>4</th>\n",
       "      <td>배경이 자연스럽게 들어가 흐린날에도 사진찍기 좋고 필터 하나하나 색감도 너무 마음에...</td>\n",
       "      <td>5</td>\n",
       "      <td>2019년 2월 4일</td>\n",
       "    </tr>\n",
       "    <tr>\n",
       "      <th>...</th>\n",
       "      <td>...</td>\n",
       "      <td>...</td>\n",
       "      <td>...</td>\n",
       "    </tr>\n",
       "    <tr>\n",
       "      <th>215</th>\n",
       "      <td>아름답고 이쁜 필터들이 많아서 좋은데요 약간 오류가 있나보네요 옷 색깔이 흰옷이나 ...</td>\n",
       "      <td>4</td>\n",
       "      <td>2019년 2월 9일</td>\n",
       "    </tr>\n",
       "    <tr>\n",
       "      <th>216</th>\n",
       "      <td>너무 좋아요 🌙 이상하게 찍은 망친 풍경사진도 이 앱만 있으면 완벽해요💕 요즘 미세...</td>\n",
       "      <td>5</td>\n",
       "      <td>2019년 3월 16일</td>\n",
       "    </tr>\n",
       "    <tr>\n",
       "      <th>217</th>\n",
       "      <td>필터를 바꿀때 전혀 어색하지않고 넘 이뻐서 맘에들어요!! 부탁한가지만 한다면 필터를...</td>\n",
       "      <td>5</td>\n",
       "      <td>2019년 1월 19일</td>\n",
       "    </tr>\n",
       "    <tr>\n",
       "      <th>218</th>\n",
       "      <td>너무너무 조은듯.. 진짜 필터 보정 같은거 할때 진짜 유용해용.. 이런앱을 만들어 ...</td>\n",
       "      <td>5</td>\n",
       "      <td>2019년 5월 17일</td>\n",
       "    </tr>\n",
       "    <tr>\n",
       "      <th>219</th>\n",
       "      <td>필터가 너무 예뻐요! 다른 앱은 필터가 예쁜게 별로 없어서 아쉬운데, 이 앱은 필터...</td>\n",
       "      <td>5</td>\n",
       "      <td>2020년 5월 6일</td>\n",
       "    </tr>\n",
       "  </tbody>\n",
       "</table>\n",
       "<p>220 rows × 3 columns</p>\n",
       "</div>"
      ],
      "text/plain": [
       "                                                  text  rat          date\n",
       "0    많고 많은 필터어플들이 개성은 별로 없는편인데 피크닉은 독보적인 필터들이 많아서 계...    5  2019년 4월 14일\n",
       "1    진짜 이 앱은 남이 알까 무서울 정도로 좋은 앱이네요ㅠㅜㅜ 사진이 세상 예쁘게 되고...    4   2019년 6월 1일\n",
       "2    일단 정말 잘 사용하고 있구요!감사합니다! 다만 최근 AI기능 on off가 있어서...    4  2019년 2월 26일\n",
       "3    사진 화질도 아주좋고 쓸만하네요 하지만 사람들이 더 다양하게 커스텀 할수있는 기능을...    5   2024년 1월 8일\n",
       "4    배경이 자연스럽게 들어가 흐린날에도 사진찍기 좋고 필터 하나하나 색감도 너무 마음에...    5   2019년 2월 4일\n",
       "..                                                 ...  ...           ...\n",
       "215  아름답고 이쁜 필터들이 많아서 좋은데요 약간 오류가 있나보네요 옷 색깔이 흰옷이나 ...    4   2019년 2월 9일\n",
       "216  너무 좋아요 🌙 이상하게 찍은 망친 풍경사진도 이 앱만 있으면 완벽해요💕 요즘 미세...    5  2019년 3월 16일\n",
       "217  필터를 바꿀때 전혀 어색하지않고 넘 이뻐서 맘에들어요!! 부탁한가지만 한다면 필터를...    5  2019년 1월 19일\n",
       "218  너무너무 조은듯.. 진짜 필터 보정 같은거 할때 진짜 유용해용.. 이런앱을 만들어 ...    5  2019년 5월 17일\n",
       "219  필터가 너무 예뻐요! 다른 앱은 필터가 예쁜게 별로 없어서 아쉬운데, 이 앱은 필터...    5   2020년 5월 6일\n",
       "\n",
       "[220 rows x 3 columns]"
      ]
     },
     "execution_count": 51,
     "metadata": {},
     "output_type": "execute_result"
    }
   ],
   "source": [
    "df = pd.DataFrame(result)\n",
    "df"
   ]
  },
  {
   "cell_type": "markdown",
   "id": "7f00b9e5-ca74-4485-bf33-d926f9172b01",
   "metadata": {
    "jupyter": {
     "source_hidden": true
    },
    "tags": []
   },
   "source": []
  },
  {
   "cell_type": "markdown",
   "id": "d296b7f4-9d85-4f16-afc0-567c0d499c59",
   "metadata": {},
   "source": [
    "## 예제) 대한민국 지역 여행기사 수집\n",
    "예제 페이지 URL https://korean.visitkorea.or.kr/search/search_list.do?keyword=%EC%A0%9C%EC%A3%BC%EB%8F%84"
   ]
  },
  {
   "cell_type": "code",
   "execution_count": 4,
   "id": "6bdcc701-89d5-4033-a165-7dea00a8729b",
   "metadata": {
    "tags": []
   },
   "outputs": [],
   "source": [
    "from selenium import webdriver\n",
    "from selenium.webdriver.common.by import By\n",
    "from selenium.webdriver.chrome.options import Options\n",
    "import math, time\n",
    "\n",
    "options = Options()\n",
    "options.add_argument('--window-size=974,1047')\n",
    "options.add_argument('--window-position=-7,0')\n",
    "options.add_experimental_option(\"detach\", True)"
   ]
  },
  {
   "cell_type": "code",
   "execution_count": 6,
   "id": "4b7efb34-b35c-4d48-92ca-fa0472e92ae2",
   "metadata": {
    "tags": []
   },
   "outputs": [
    {
     "name": "stdin",
     "output_type": "stream",
     "text": [
      "검색어를 입력하세요. 제주\n"
     ]
    }
   ],
   "source": [
    "search = input('검색어를 입력하세요.')"
   ]
  },
  {
   "cell_type": "code",
   "execution_count": 8,
   "id": "0fa7da27-054a-4bbb-ac5b-014833eb02b1",
   "metadata": {
    "tags": []
   },
   "outputs": [],
   "source": [
    "URL = 'https://korean.visitkorea.or.kr/search/search_list.do?keyword='+search\n",
    "\n",
    "driver = webdriver.Chrome(options=options)\n",
    "driver.get(URL)\n",
    "time.sleep(3)"
   ]
  },
  {
   "cell_type": "code",
   "execution_count": 9,
   "id": "d26957e1-e61b-4fd9-b064-4518a895f64e",
   "metadata": {
    "tags": []
   },
   "outputs": [],
   "source": [
    "# 여행기사 더보기 클릭\n",
    "# driver.find_element(By.CSS_SELECTOR, \".more_view > a\").click()\n",
    "driver.find_element(By.CSS_SELECTOR, \"#s_recommend > .more_view > a\").click()"
   ]
  },
  {
   "cell_type": "code",
   "execution_count": 10,
   "id": "9d96ccd7-b5d9-4196-85d7-e81c70932dee",
   "metadata": {
    "tags": []
   },
   "outputs": [
    {
     "data": {
      "text/plain": [
       "''"
      ]
     },
     "execution_count": 10,
     "metadata": {},
     "output_type": "execute_result"
    }
   ],
   "source": [
    "result = driver.find_elements(By.CSS_SELECTOR, '.tit a')\n",
    "result[0].text"
   ]
  },
  {
   "cell_type": "code",
   "execution_count": 16,
   "id": "64d2f4c0-9c44-4779-8a59-4fc3401f70ce",
   "metadata": {
    "tags": []
   },
   "outputs": [
    {
     "name": "stdout",
     "output_type": "stream",
     "text": [
      "\n",
      "\n",
      "\n",
      "\n",
      "\n",
      "\n",
      "\n",
      "\n",
      "\n",
      "\n",
      "\n",
      "\n",
      "\n",
      "\n",
      "\n",
      "\n",
      "\n",
      "\n",
      "해변산책부터 레이싱까지, 제주 반려동물 동반여행 추천 코스\n",
      "제주 6월 걷기 좋은 길, 성안올레 1코스 원도심 투어\n",
      "사계절 자연의 아름다움을 간직한 제주시 댕댕이 추천코스\n",
      "멈춤과 완보로 만나는 제주 생각하는정원\n",
      "제주도가 품은 신비의 화산 숲, 환상숲곶자왈공원\n",
      "설렘과 여유가 가득한 제주 여행\n",
      "[팜스테이션] 제주공항과 아름다운 해안이 인접한 워케이션 공간\n",
      "[디어먼데이 제주] 월요병이 없는 세상을 꿈꾸는 이들의 제주 워케이션\n",
      "[질그랭이 거점 센터] 조용한 제주 해안마을에서 즐기는 워케이션\n",
      "비움과 채움의 조화로 완성한 웰니스 라이프, 제주901\n"
     ]
    }
   ],
   "source": [
    "result = driver.find_elements(By.CSS_SELECTOR, '.tit a')\n",
    "for i in range(len(result)):\n",
    "    print(result[i].text)"
   ]
  },
  {
   "cell_type": "code",
   "execution_count": 18,
   "id": "cc4f6f94-99de-423c-a326-08b82e904c75",
   "metadata": {
    "tags": []
   },
   "outputs": [
    {
     "data": {
      "text/plain": [
       "'해변산책부터 레이싱까지, 제주 반려동물 동반여행 추천 코스'"
      ]
     },
     "execution_count": 18,
     "metadata": {},
     "output_type": "execute_result"
    }
   ],
   "source": [
    "a = driver.find_element(By.XPATH, '//*[@id=\"search_result\"]/ul/li[1]/div[1]/div[1]/a')\n",
    "a.text"
   ]
  },
  {
   "cell_type": "code",
   "execution_count": 20,
   "id": "99facf70-4074-4b94-ba21-396555604afc",
   "metadata": {
    "tags": []
   },
   "outputs": [
    {
     "data": {
      "text/plain": [
       "(10, '해변산책부터 레이싱까지, 제주 반려동물 동반여행 추천 코스', '제주 6월 걷기 좋은 길, 성안올레 1코스 원도심 투어')"
      ]
     },
     "execution_count": 20,
     "metadata": {},
     "output_type": "execute_result"
    }
   ],
   "source": [
    "# tit_xpath = '//*[@id=\"search_result\"]/ul/li/div/div/a' # 해당 요소가 하나씩일 때\n",
    "tit_xpath = '//*[@id=\"search_result\"]/ul/li[*]/div[1]/div[1]/a'\n",
    "result = driver.find_elements(By.XPATH, tit_xpath)\n",
    "len(result), result[0].text, result[1].text"
   ]
  },
  {
   "cell_type": "markdown",
   "id": "20507429-3bd3-431e-977e-9f383cedd86f",
   "metadata": {},
   "source": [
    "## 페이지 이동\n",
    "1 : 수집 갯수를 입력받는다.\n",
    "2 : 수집 갯수에 따라 페이지를 이동한다.\n",
    "3 : 각 페이지별 데이터를 수집한다. (타이틀 텍스트)\n",
    "4 : 출력"
   ]
  },
  {
   "cell_type": "code",
   "execution_count": 22,
   "id": "85c8ac68-c7e6-40dd-ac2b-dcf9547d8275",
   "metadata": {
    "tags": []
   },
   "outputs": [],
   "source": [
    "# 페이지 버튼 클릭\n",
    "driver.find_element(By.XPATH, '/html/body/div[3]/div/div[1]/div[14]/a[2]').click()"
   ]
  },
  {
   "cell_type": "code",
   "execution_count": 24,
   "id": "6f211d27-66ae-47e2-95e9-09bebdf68671",
   "metadata": {
    "tags": []
   },
   "outputs": [
    {
     "name": "stdin",
     "output_type": "stream",
     "text": [
      "크롤링 할 건수는 몇건입니까?:  5\n"
     ]
    },
    {
     "data": {
      "text/plain": [
       "5"
      ]
     },
     "execution_count": 24,
     "metadata": {},
     "output_type": "execute_result"
    }
   ],
   "source": [
    "cnt = int(input('크롤링 할 건수는 몇건입니까?: '))\n",
    "cnt"
   ]
  },
  {
   "cell_type": "code",
   "execution_count": 26,
   "id": "55403bd2-bb03-4a29-a0cf-ceb3c39cbd58",
   "metadata": {
    "tags": []
   },
   "outputs": [
    {
     "name": "stdout",
     "output_type": "stream",
     "text": [
      "1\n"
     ]
    }
   ],
   "source": [
    "page_cnt = math.ceil(cnt / 10) # 크롤링 할 전체 페이지 수 (올림)\n",
    "print(page_cnt)"
   ]
  },
  {
   "cell_type": "code",
   "execution_count": 28,
   "id": "0ae2339a-b504-4bfb-8ec8-e46c936da02d",
   "metadata": {},
   "outputs": [
    {
     "name": "stdout",
     "output_type": "stream",
     "text": [
      "========= 1 페이지 작업 =========\n",
      "1 상큼한 귤밭이 내어준 나만의 치유공간, 제원하늘농원\n",
      "2 “바다가 우리에겐 부엌이지.” - 해녀의 부엌_북촌점\n",
      "3 제주 해녀들의 “호오이 호오이” 숨비소리 찾는 여행 – 제주해녀박물관과 숨비소리길\n",
      "4 돌이 나에게 말을 걸어오는 시적(詩的)인 곳– 제주돌문화공원\n",
      "5 자연 속에서 더욱 단단해지는 가족애, 제주돌문화공원과 교래자연휴양림\n",
      "========= 작업 완료 =========\n"
     ]
    }
   ],
   "source": [
    "tit_xpath = '//*[@id=\"search_result\"]/ul/li[*]/div[1]/div[1]/a'\n",
    "no = 0\n",
    "\n",
    "for x in range(1, page_cnt+1):\n",
    "    print(f'========= {x} 페이지 작업 =========')\n",
    "    mylist = driver.find_elements(By.XPATH, tit_xpath)\n",
    "    \n",
    "    for item in mylist:\n",
    "        no += 1\n",
    "        if no > cnt:\n",
    "            break\n",
    "        print(no, item.text)\n",
    "    \n",
    "    if no <= cnt:\n",
    "        a = f'/html/body/div[3]/div/div[1]/div[14]/a[{x+1}]'\n",
    "        driver.find_element(By.XPATH, a).click()\n",
    "#         next_button = driver.find_element(By.CSS_SELECTOR, f\"a[id='{x+1}']\")\n",
    "#         driver.execute_script(\"arguments[0].click();\", next_button)\n",
    "        time.sleep(2)\n",
    "    \n",
    "print('========= 작업 완료 =========')\n",
    "# driver.close()"
   ]
  },
  {
   "cell_type": "markdown",
   "id": "88c1675a-f50c-44ec-ac0c-0d1c4e5615af",
   "metadata": {},
   "source": [
    "## 특정 게시글의 상세 정보 추출하기"
   ]
  },
  {
   "cell_type": "code",
   "execution_count": 31,
   "id": "c9a94932-4247-4b5d-92ba-f7c1f7d55a84",
   "metadata": {},
   "outputs": [],
   "source": [
    "from selenium import webdriver\n",
    "from selenium.webdriver.common.by import By\n",
    "from selenium.webdriver.chrome.options import Options\n",
    "import math, time\n",
    "\n",
    "options = Options()\n",
    "options.add_argument('--window-size=974,1047')\n",
    "options.add_argument('--window-position=-7,0')\n",
    "options.add_experimental_option(\"detach\", True)"
   ]
  },
  {
   "cell_type": "code",
   "execution_count": 33,
   "id": "edcfc951-966f-4243-880e-aae32c52451c",
   "metadata": {},
   "outputs": [],
   "source": [
    "URL = 'https://korean.visitkorea.or.kr/detail/rem_detail.html?cotid=be3db10c-b642-409c-81cc-c4cdecb5bd8b&temp='\n",
    "\n",
    "driver = webdriver.Chrome(options=options)\n",
    "driver.get(URL)\n",
    "time.sleep(3)"
   ]
  },
  {
   "cell_type": "code",
   "execution_count": 34,
   "id": "ae6c55d8-b983-4d6e-861a-be0c4028d606",
   "metadata": {},
   "outputs": [
    {
     "data": {
      "text/plain": [
       "'향긋한 굴구이, 시원한 대구탕과 함께 하는 겨울 거제여행'"
      ]
     },
     "execution_count": 34,
     "metadata": {},
     "output_type": "execute_result"
    }
   ],
   "source": [
    "# 제목 추출\n",
    "title = driver.find_element(By.ID, 'topTitle').text\n",
    "title"
   ]
  },
  {
   "cell_type": "code",
   "execution_count": 37,
   "id": "1756f2bc-2d8d-453c-83ff-22982b95c50c",
   "metadata": {
    "tags": []
   },
   "outputs": [
    {
     "name": "stdout",
     "output_type": "stream",
     "text": [
      "찬바람이 불기 시작하는 이 즈음이면 전국의 포구는 미식가들로 붐비기 시작한다. 겨울이면 한껏 기름기가 오르는 생선이며 조개를 맛보려는 미식가들의 발걸음으로 유명식당 문턱이 닳는다. 도루묵이며 숭어 등등 겨울이면 맛이 드는 여러 해산물 중에서도 최고의 맛을 꼽으라면 단연 굴과 대구가 아닐까. 향긋한 굴구이와 시원하면서도 얼큰한 대구탕 한 그릇이면 코끝을 얼리는 차가운 겨울 바람이 오히려 고맙게 느껴진다.\n",
      "[<selenium.webdriver.remote.webelement.WebElement (session=\"e0d1794f2b3d3eb683d9e19db75a83f6\", element=\"f.E3E06C5AE9E56AB36532B5C0B07FA7EB.d.66CD4EA4D03AC50538D510629966E6C0.e.3716\")>, <selenium.webdriver.remote.webelement.WebElement (session=\"e0d1794f2b3d3eb683d9e19db75a83f6\", element=\"f.E3E06C5AE9E56AB36532B5C0B07FA7EB.d.66CD4EA4D03AC50538D510629966E6C0.e.3723\")>, <selenium.webdriver.remote.webelement.WebElement (session=\"e0d1794f2b3d3eb683d9e19db75a83f6\", element=\"f.E3E06C5AE9E56AB36532B5C0B07FA7EB.d.66CD4EA4D03AC50538D510629966E6C0.e.3730\")>, <selenium.webdriver.remote.webelement.WebElement (session=\"e0d1794f2b3d3eb683d9e19db75a83f6\", element=\"f.E3E06C5AE9E56AB36532B5C0B07FA7EB.d.66CD4EA4D03AC50538D510629966E6C0.e.3737\")>, <selenium.webdriver.remote.webelement.WebElement (session=\"e0d1794f2b3d3eb683d9e19db75a83f6\", element=\"f.E3E06C5AE9E56AB36532B5C0B07FA7EB.d.66CD4EA4D03AC50538D510629966E6C0.e.3744\")>, <selenium.webdriver.remote.webelement.WebElement (session=\"e0d1794f2b3d3eb683d9e19db75a83f6\", element=\"f.E3E06C5AE9E56AB36532B5C0B07FA7EB.d.66CD4EA4D03AC50538D510629966E6C0.e.3751\")>, <selenium.webdriver.remote.webelement.WebElement (session=\"e0d1794f2b3d3eb683d9e19db75a83f6\", element=\"f.E3E06C5AE9E56AB36532B5C0B07FA7EB.d.66CD4EA4D03AC50538D510629966E6C0.e.3758\")>, <selenium.webdriver.remote.webelement.WebElement (session=\"e0d1794f2b3d3eb683d9e19db75a83f6\", element=\"f.E3E06C5AE9E56AB36532B5C0B07FA7EB.d.66CD4EA4D03AC50538D510629966E6C0.e.3765\")>, <selenium.webdriver.remote.webelement.WebElement (session=\"e0d1794f2b3d3eb683d9e19db75a83f6\", element=\"f.E3E06C5AE9E56AB36532B5C0B07FA7EB.d.66CD4EA4D03AC50538D510629966E6C0.e.3772\")>, <selenium.webdriver.remote.webelement.WebElement (session=\"e0d1794f2b3d3eb683d9e19db75a83f6\", element=\"f.E3E06C5AE9E56AB36532B5C0B07FA7EB.d.66CD4EA4D03AC50538D510629966E6C0.e.3779\")>, <selenium.webdriver.remote.webelement.WebElement (session=\"e0d1794f2b3d3eb683d9e19db75a83f6\", element=\"f.E3E06C5AE9E56AB36532B5C0B07FA7EB.d.66CD4EA4D03AC50538D510629966E6C0.e.3786\")>, <selenium.webdriver.remote.webelement.WebElement (session=\"e0d1794f2b3d3eb683d9e19db75a83f6\", element=\"f.E3E06C5AE9E56AB36532B5C0B07FA7EB.d.66CD4EA4D03AC50538D510629966E6C0.e.3793\")>, <selenium.webdriver.remote.webelement.WebElement (session=\"e0d1794f2b3d3eb683d9e19db75a83f6\", element=\"f.E3E06C5AE9E56AB36532B5C0B07FA7EB.d.66CD4EA4D03AC50538D510629966E6C0.e.3800\")>, <selenium.webdriver.remote.webelement.WebElement (session=\"e0d1794f2b3d3eb683d9e19db75a83f6\", element=\"f.E3E06C5AE9E56AB36532B5C0B07FA7EB.d.66CD4EA4D03AC50538D510629966E6C0.e.3807\")>, <selenium.webdriver.remote.webelement.WebElement (session=\"e0d1794f2b3d3eb683d9e19db75a83f6\", element=\"f.E3E06C5AE9E56AB36532B5C0B07FA7EB.d.66CD4EA4D03AC50538D510629966E6C0.e.3815\")>]\n"
     ]
    }
   ],
   "source": [
    "contents = driver.find_elements(By.CLASS_NAME, 'txt_p')\n",
    "print(contents[0].text)\n",
    "print(contents)"
   ]
  },
  {
   "cell_type": "code",
   "execution_count": 39,
   "id": "679a574d-2177-494e-8eb3-46f18d6e7fa8",
   "metadata": {
    "tags": []
   },
   "outputs": [
    {
     "data": {
      "text/plain": [
       "['찬바람이 불기 시작하는 이 즈음이면 전국의 포구는 미식가들로 붐비기 시작한다. 겨울이면 한껏 기름기가 오르는 생선이며 조개를 맛보려는 미식가들의 발걸음으로 유명식당 문턱이 닳는다. 도루묵이며 숭어 등등 겨울이면 맛이 드는 여러 해산물 중에서도 최고의 맛을 꼽으라면 단연 굴과 대구가 아닐까. 향긋한 굴구이와 시원하면서도 얼큰한 대구탕 한 그릇이면 코끝을 얼리는 차가운 겨울 바람이 오히려 고맙게 느껴진다.',\n",
       " '거제는 굴구이와 대구요리 등 싱싱한 겨울 해산물을 맛볼 수 있는 대표적인 겨울별미 여행지다. 별미여행의 시작은 거제면 내간리에 자리한 굴구이집이다. 굴하면 이웃한 통영을 떠올리지만, 거제에서도 통영 못지 않게 굴이 많이 생산된다. 통영에서 신거제대교를 넘어 호곡, 녹산, 법동 등지를 지나 거제면 내간리까지 이어지는 1018번 지방도로를 따라가다 보면 해안가에 굴양식을 위한 지주들이 끝 간 데 없이 꽂혀 있는 것을 볼 수 있다. 바다 위에는 가지런히 떠있는 투하식 굴양식장의 부표들도 장관을 이루고 있다.',\n",
       " '거제 사람들은 굴을 주로 구이로 먹는다. 예전에 굴을 캐던 사람들이 모닥불을 피우고 구워먹던 것이 세월이 흘러 자연스럽게 상품화가 됐다고 한다. 내간리 해안가에 굴구이를 내는 집이 모여있다. 굴구이를 주문하면 맛보기로 생굴이 나오고 곧 이어 굴튀김과 굴무침이 가득 담긴 접시도 놓여진다. 고추, 파와 함께 바삭하게 튀긴 굴튀김은 일식집에서 맛보던 그것과는 또 다른 맛을 낸다. 매콤한 맛이 이마와 콧등에 송글송글 땀을 맺히게 한다. 각종 야채와 함께 버무려진 굴무침도 매우면서도 새콤한 맛으로 젓가락질을 바쁘게 만든다.',\n",
       " '굴무침과 굴튀김을 다 먹을 때면 커다란 철판 하나가 불 위에 올려진다.  뚜껑을 열어보면 껍질을 까지 않은 생굴이 가득 담겨있다. 가장자리에 검은 테두리가 선명한데, 이는 굴이 싱싱하다는 증거기도 하다. 거제 굴구이는 구우면서 동시에 찌는 방식. 다 익기까지는 5분 정도가 걸리는데, 장갑을 끼고 칼로 껍질을 까서 먹는다.',\n",
       " '굴껍질을 까보면 육즙이 가득 고여 있다. 칼로 굴을 살짝 들어내면 탱글탱글한 굴이 보기에도 먹음직스럽다. 특유의 진한 굴향도 후각을 강하게 자극한다. 초장에 살짝 찍어 입으로 가져가면 짭조롬한 맛이 입안을 가득 채운다. 굴 자체에 간이 되어 있어 양념을 찍지 않고 그냥 먹어도 맛있다. 거제의 굴구이 집 대부분은 굴구이, 굴죽, 굴국밥 등 다양한 굴요리를 파는데, 굴구이 세트를 시키면 굴구이와 굴튀김을 비롯한 다양한 굴요리를 코스로 먹을 수 있다.',\n",
       " '거제의 또다른 겨울 별미는 대구다. ‘눈 본 대구, 비 본 청어’라는 속담도 있듯, 찬바람이 부는 겨울은 대구에 맛이 제대로 드는 때다. 12월부터 이듬해 2월까지는 대구 산란기인데, 이때 잡히는 알 잔뜩 머금은 대구는 천하일미라고 해도 과언이 아니다. 외포항이 자리한 진해만에는 겨울이면 전국 최대규모의 대구 어장이 형성된다. 1980년대 한때 진해만을 가득 메웠던 대구가 사라지면서 ‘금대구’라고 불리던 시절도 있었다. 어쩌다 한두 마리가 잡히면 수십만원에 팔렸다는 기사가 신문에 소개될 정도로 귀한 생선이었다. 그러다 90년대 중반 거제수협이 대구알 방류 사업에 성공하면서 2000년대 중반부터 외포항으로 대구가 돌아오기 시작했다.',\n",
       " '이른 아침부터 외포항에 자리한 거제수협 외포출장소 어판장은 대구 경매에 참여한 중매인들로 북적거린다. 어판장 바닥에 늘어선 갓 잡은 대구를 꼼꼼하게 살피던 중매인들은 경매가 시작되면 경매사에게 손가락 신호를 열심히 보낸다. 이렇게 30분이 지나면 나무상자에 담겨 있던 대구는 모두 팔려나간다. 대구잡이에는 호망을 쓴다. 호망은 대구를 유인하기 위해 길그물을 길게 놓고 그 끝에 둥그런 통그물을 붙인 것이다. 통그물의 모양이 단지(壺)처럼 생겨 호망이라 부른다. 야행성인 대구는 밤에 쏘다니다 호망에 걸리는데, 그물코에 꿰는 것이 아니니 산 채로 올라오는 대구도 많다. 외포항에는 대구요리를 내는 식당 10여곳이 늘어서 있다. 대구탕 거리로도 불린다. 대구는 회나 찜도 좋지만, 이맘땐 탕만 한 게 없다. 뽀얀 국물이 언 듯 보기에는 꼭 곰탕같다. 국물은 구수하면서도 진하다. 소금만으로 간을 해 깊고 그윽한 맛을 낸다.',\n",
       " '외지인들은 생대구가 좋다고 하지만, 어민들은 살짝 말린 대구를 더 선호한다. 내장과 아가미, 알과 이리 등을 제거하고 해풍에 3~5일 말린 대구는 수분이 쏙 빠져 더욱 차진 맛을 낸다. 말린 것으로 탕을 끓이면 더 뽀얗고 구수한 맛의 국물을 얻을 수 있다는 것이 상인들의 귀띔이다. 외포항 곳곳에서는 대구를 말려 건대구로 만드는 작업을 쉽게 볼 수 있는데, 부둣가 햇볕이 드는 곳에는 어김없이 내장을 빼고 나무꼬치로 꿴 대구가 널려 있다.',\n",
       " '말린 대구를 콩나물, 채소 등과 함께 쪄 먹는 대구찜도 맛있다. 생대구에서는 맛볼 수 없었던 쫀득한 맛과 말린 생선 특유의 감칠맛을 함께 느낄 수 있다. 코다리찜과 비슷하다고 보면 된다. 대구는 지방 함유량이 적고 열량도 높지 않아 다이어트에 그만이며 각종 비타민이 많이 들어 있어 원기 회복에도 도움이 된다고 한다.',\n",
       " '굴과 대구로 배가 든든해졌다면 거제도의 아름다운 풍경 속으로 들어가보자. 거제는 우리나라에서 제주도 다음으로 큰 섬이다. 350km가 넘는 해안선을 따라 바다와 기암괴석이 어우러진 비경이 펼쳐진다. 거제에서 가장 아름다운 풍광을 꼽으라면 아마도 신선대와 ‘바람의 언덕’일 것이다. 해금강 가는 갈곶리 도로 오른편에 신선대가, 왼편에 바람의 언덕이 각각 자리한다. 신선대는 신선이 내려와 풍류를 즐겼다고 할 정도로 해안 경관이 절경이다. 파도가 쉴 새 없이 밀려와 기암괴석에 부딪혀 하얗게 부서지는 모습이 감탄을 자아낸다.',\n",
       " '바람의 언덕은 갈곶리 도장포마을 북쪽 해안에 있는 언덕으로 사시사철 바닷바람이 분다고 해서 이렇게 이름붙었다. 바다와 풍차가 어우러진 이국적인 경치가 매력적이다.',\n",
       " '신선대 입구에 자리한 해금강테마박물관은 가족들과 함께 돌아보기 좋은 곳이다. 1950~1980년대까지의 생활상을 볼 수 있는 곳으로 다이얼식공중전화, 대폿집 풍경을 재현한 전시장, 난로 위에 놓인 알루미늄 도시락 등 ‘그때 그 시절’을 구경하다 보면 시간가는 줄 모른다.',\n",
       " '학동에 있는 학동흑진주몽돌해변도 놓치기 아까운 풍경이다. 흑진주처럼 반들반들 윤이 나는 검은 몽돌이 덮인 몽돌밭 해변이 1.2km에 걸쳐 펼쳐져 있다. 바닷물이 밀려들고 나갈 때마다 몽돌밭에서는 ‘자글자글’하는 소리가 나는데, 우리나라 자연 소리 100선에 선정될 만큼 아름답고 감미롭다.',\n",
       " '구불구불 이어지는 해안선을 따라 즐기는 바다 드라이브도 거제 여행의 낭만을 더해준다. 특히 여차~홍포간 해안도로는 한국에서 가장 아름다운 바닷길이라고 해도 손색이 없을 정도. 푸른 바다와 정다운 포구마을, 깍아지른 해안절벽이 어우러진 풍경은 자꾸만 차를 세우게 만든다. 거가대교도 빼놓을 수 없는 명소다. 장목면과 부산 가덕도를 연결한 4.5km의 사장교로 일출과 일몰을 감상하기에도 좋다.',\n",
       " '<당일 여행 코스>\\n내간리 굴구이→해금강테마박물관→신선대→바람의 언덕→외포항\\n  <1박 2일 여행 코스>\\n첫째 날 / 거제도 포로수용소 유적공원→내간리 굴구이→학동흑진주몽돌해변→학동 숙박\\n둘째 날 / 해금강테마박물관→신선대→바람의 언덕→외포항\\n  관련 웹사이트 주소\\n-거제문화관광 http://tour.geoje.go.kr\\n-해금강테마박물관 www.hggmuseum.com\\n  문의 전화\\n-거제시청 관광과 055-639-4173\\n-해금강테마박물관 055-632-0670\\n  대중교통 정보\\n-[버스] 서울-거제(고현) : 서울남부터미널에서 하루 28회(06:40~24:00) 운행, 약 4시간 20분 소요. 문의 : 서울남부터미널 1688-0540, 전국시외버스통합예약안내서비스 www.busterminal.or.kr , 고현시외버스터미널 1688-5003\\n  자가운전 정보\\n-대전통영고속도로→통영 IC→남해안대로 거제 방향→신거제대교→거제대로→1018번 지방도→내간리\\n\\n숙박 정보\\n-라이트하우스호텔 : 거제시 장승포로, 055)681-6362, www.geojelighthouse.com  \\n-베니키아호텔거제 : 거제시 성산로, 055)991-1000, www.benikeahotel.kr  \\n-머그학동 : 거제시 동부면 학동3길, 010)5036-3889, http://mughakdong.com\\n-애드미럴호텔 : 거제시 서간도길, 055)687-3761, www.admiralhotel.co.kr\\n  식당 정보\\n-원조거제굴구이 : 굴구이, 거제면 거제남서로, 055)632-4200\\n-외포효진횟집 : 대구탕, 장목면 외포2길, 055)635-6340\\n-양지바위횟집 : 대구탕, 장목면 외포5길, 055)635-4327\\n-항만식당 : 해물뚝배기, 거제시 장승포로7길, 055)682-4369\\n\\n축제와 행사 정보\\n-2015 거제대구수산물축제 : 12월 19~20일, 055)639-4274, 외포항 일대\\n주변볼거리\\n-지심도, 해금강, 외도보타니아, 칠천량해전공원\\n\\n글, 사진 : 최갑수(여행작가)\\n  ※ 위 정보는 2019년 3월에 갱신된 정보로, 이후 변경될 수 있으니 여행 하시기 전에 반드시 확인하시기 바랍니다.\\n※ 이 기사에 사용된 텍스트, 사진, 동영상 등의 정보는 한국관광공사가 저작권을 보유하고 있으므로 기사의 무단 사용을 금합니다.']"
      ]
     },
     "execution_count": 39,
     "metadata": {},
     "output_type": "execute_result"
    }
   ],
   "source": [
    "# 내용 추출\n",
    "contents = driver.find_elements(By.CLASS_NAME, 'txt_p')\n",
    "\n",
    "contents_list = []\n",
    "for item in contents:\n",
    "    contents_list.append(item.text)\n",
    "contents_list"
   ]
  },
  {
   "cell_type": "code",
   "execution_count": 41,
   "id": "5a799605-2aaa-4a92-86ab-2426f0a22564",
   "metadata": {
    "tags": []
   },
   "outputs": [
    {
     "data": {
      "text/plain": [
       "'찬바람이 불기 시작하는 이 즈음이면 전국의 포구는 미식가들로 붐비기 시작한다. 겨울이면 한껏 기름기가 오르는 생선이며 조개를 맛보려는 미식가들의 발걸음으로 유명식당 문턱이 닳는다. 도루묵이며 숭어 등등 겨울이면 맛이 드는 여러 해산물 중에서도 최고의 맛을 꼽으라면 단연 굴과 대구가 아닐까. 향긋한 굴구이와 시원하면서도 얼큰한 대구탕 한 그릇이면 코끝을 얼리는 차가운 겨울 바람이 오히려 고맙게 느껴진다. 거제는 굴구이와 대구요리 등 싱싱한 겨울 해산물을 맛볼 수 있는 대표적인 겨울별미 여행지다. 별미여행의 시작은 거제면 내간리에 자리한 굴구이집이다. 굴하면 이웃한 통영을 떠올리지만, 거제에서도 통영 못지 않게 굴이 많이 생산된다. 통영에서 신거제대교를 넘어 호곡, 녹산, 법동 등지를 지나 거제면 내간리까지 이어지는 1018번 지방도로를 따라가다 보면 해안가에 굴양식을 위한 지주들이 끝 간 데 없이 꽂혀 있는 것을 볼 수 있다. 바다 위에는 가지런히 떠있는 투하식 굴양식장의 부표들도 장관을 이루고 있다. 거제 사람들은 굴을 주로 구이로 먹는다. 예전에 굴을 캐던 사람들이 모닥불을 피우고 구워먹던 것이 세월이 흘러 자연스럽게 상품화가 됐다고 한다. 내간리 해안가에 굴구이를 내는 집이 모여있다. 굴구이를 주문하면 맛보기로 생굴이 나오고 곧 이어 굴튀김과 굴무침이 가득 담긴 접시도 놓여진다. 고추, 파와 함께 바삭하게 튀긴 굴튀김은 일식집에서 맛보던 그것과는 또 다른 맛을 낸다. 매콤한 맛이 이마와 콧등에 송글송글 땀을 맺히게 한다. 각종 야채와 함께 버무려진 굴무침도 매우면서도 새콤한 맛으로 젓가락질을 바쁘게 만든다. 굴무침과 굴튀김을 다 먹을 때면 커다란 철판 하나가 불 위에 올려진다.  뚜껑을 열어보면 껍질을 까지 않은 생굴이 가득 담겨있다. 가장자리에 검은 테두리가 선명한데, 이는 굴이 싱싱하다는 증거기도 하다. 거제 굴구이는 구우면서 동시에 찌는 방식. 다 익기까지는 5분 정도가 걸리는데, 장갑을 끼고 칼로 껍질을 까서 먹는다. 굴껍질을 까보면 육즙이 가득 고여 있다. 칼로 굴을 살짝 들어내면 탱글탱글한 굴이 보기에도 먹음직스럽다. 특유의 진한 굴향도 후각을 강하게 자극한다. 초장에 살짝 찍어 입으로 가져가면 짭조롬한 맛이 입안을 가득 채운다. 굴 자체에 간이 되어 있어 양념을 찍지 않고 그냥 먹어도 맛있다. 거제의 굴구이 집 대부분은 굴구이, 굴죽, 굴국밥 등 다양한 굴요리를 파는데, 굴구이 세트를 시키면 굴구이와 굴튀김을 비롯한 다양한 굴요리를 코스로 먹을 수 있다. 거제의 또다른 겨울 별미는 대구다. ‘눈 본 대구, 비 본 청어’라는 속담도 있듯, 찬바람이 부는 겨울은 대구에 맛이 제대로 드는 때다. 12월부터 이듬해 2월까지는 대구 산란기인데, 이때 잡히는 알 잔뜩 머금은 대구는 천하일미라고 해도 과언이 아니다. 외포항이 자리한 진해만에는 겨울이면 전국 최대규모의 대구 어장이 형성된다. 1980년대 한때 진해만을 가득 메웠던 대구가 사라지면서 ‘금대구’라고 불리던 시절도 있었다. 어쩌다 한두 마리가 잡히면 수십만원에 팔렸다는 기사가 신문에 소개될 정도로 귀한 생선이었다. 그러다 90년대 중반 거제수협이 대구알 방류 사업에 성공하면서 2000년대 중반부터 외포항으로 대구가 돌아오기 시작했다. 이른 아침부터 외포항에 자리한 거제수협 외포출장소 어판장은 대구 경매에 참여한 중매인들로 북적거린다. 어판장 바닥에 늘어선 갓 잡은 대구를 꼼꼼하게 살피던 중매인들은 경매가 시작되면 경매사에게 손가락 신호를 열심히 보낸다. 이렇게 30분이 지나면 나무상자에 담겨 있던 대구는 모두 팔려나간다. 대구잡이에는 호망을 쓴다. 호망은 대구를 유인하기 위해 길그물을 길게 놓고 그 끝에 둥그런 통그물을 붙인 것이다. 통그물의 모양이 단지(壺)처럼 생겨 호망이라 부른다. 야행성인 대구는 밤에 쏘다니다 호망에 걸리는데, 그물코에 꿰는 것이 아니니 산 채로 올라오는 대구도 많다. 외포항에는 대구요리를 내는 식당 10여곳이 늘어서 있다. 대구탕 거리로도 불린다. 대구는 회나 찜도 좋지만, 이맘땐 탕만 한 게 없다. 뽀얀 국물이 언 듯 보기에는 꼭 곰탕같다. 국물은 구수하면서도 진하다. 소금만으로 간을 해 깊고 그윽한 맛을 낸다. 외지인들은 생대구가 좋다고 하지만, 어민들은 살짝 말린 대구를 더 선호한다. 내장과 아가미, 알과 이리 등을 제거하고 해풍에 3~5일 말린 대구는 수분이 쏙 빠져 더욱 차진 맛을 낸다. 말린 것으로 탕을 끓이면 더 뽀얗고 구수한 맛의 국물을 얻을 수 있다는 것이 상인들의 귀띔이다. 외포항 곳곳에서는 대구를 말려 건대구로 만드는 작업을 쉽게 볼 수 있는데, 부둣가 햇볕이 드는 곳에는 어김없이 내장을 빼고 나무꼬치로 꿴 대구가 널려 있다. 말린 대구를 콩나물, 채소 등과 함께 쪄 먹는 대구찜도 맛있다. 생대구에서는 맛볼 수 없었던 쫀득한 맛과 말린 생선 특유의 감칠맛을 함께 느낄 수 있다. 코다리찜과 비슷하다고 보면 된다. 대구는 지방 함유량이 적고 열량도 높지 않아 다이어트에 그만이며 각종 비타민이 많이 들어 있어 원기 회복에도 도움이 된다고 한다. 굴과 대구로 배가 든든해졌다면 거제도의 아름다운 풍경 속으로 들어가보자. 거제는 우리나라에서 제주도 다음으로 큰 섬이다. 350km가 넘는 해안선을 따라 바다와 기암괴석이 어우러진 비경이 펼쳐진다. 거제에서 가장 아름다운 풍광을 꼽으라면 아마도 신선대와 ‘바람의 언덕’일 것이다. 해금강 가는 갈곶리 도로 오른편에 신선대가, 왼편에 바람의 언덕이 각각 자리한다. 신선대는 신선이 내려와 풍류를 즐겼다고 할 정도로 해안 경관이 절경이다. 파도가 쉴 새 없이 밀려와 기암괴석에 부딪혀 하얗게 부서지는 모습이 감탄을 자아낸다. 바람의 언덕은 갈곶리 도장포마을 북쪽 해안에 있는 언덕으로 사시사철 바닷바람이 분다고 해서 이렇게 이름붙었다. 바다와 풍차가 어우러진 이국적인 경치가 매력적이다. 신선대 입구에 자리한 해금강테마박물관은 가족들과 함께 돌아보기 좋은 곳이다. 1950~1980년대까지의 생활상을 볼 수 있는 곳으로 다이얼식공중전화, 대폿집 풍경을 재현한 전시장, 난로 위에 놓인 알루미늄 도시락 등 ‘그때 그 시절’을 구경하다 보면 시간가는 줄 모른다. 학동에 있는 학동흑진주몽돌해변도 놓치기 아까운 풍경이다. 흑진주처럼 반들반들 윤이 나는 검은 몽돌이 덮인 몽돌밭 해변이 1.2km에 걸쳐 펼쳐져 있다. 바닷물이 밀려들고 나갈 때마다 몽돌밭에서는 ‘자글자글’하는 소리가 나는데, 우리나라 자연 소리 100선에 선정될 만큼 아름답고 감미롭다. 구불구불 이어지는 해안선을 따라 즐기는 바다 드라이브도 거제 여행의 낭만을 더해준다. 특히 여차~홍포간 해안도로는 한국에서 가장 아름다운 바닷길이라고 해도 손색이 없을 정도. 푸른 바다와 정다운 포구마을, 깍아지른 해안절벽이 어우러진 풍경은 자꾸만 차를 세우게 만든다. 거가대교도 빼놓을 수 없는 명소다. 장목면과 부산 가덕도를 연결한 4.5km의 사장교로 일출과 일몰을 감상하기에도 좋다. <당일 여행 코스>\\n내간리 굴구이→해금강테마박물관→신선대→바람의 언덕→외포항\\n  <1박 2일 여행 코스>\\n첫째 날 / 거제도 포로수용소 유적공원→내간리 굴구이→학동흑진주몽돌해변→학동 숙박\\n둘째 날 / 해금강테마박물관→신선대→바람의 언덕→외포항\\n  관련 웹사이트 주소\\n-거제문화관광 http://tour.geoje.go.kr\\n-해금강테마박물관 www.hggmuseum.com\\n  문의 전화\\n-거제시청 관광과 055-639-4173\\n-해금강테마박물관 055-632-0670\\n  대중교통 정보\\n-[버스] 서울-거제(고현) : 서울남부터미널에서 하루 28회(06:40~24:00) 운행, 약 4시간 20분 소요. 문의 : 서울남부터미널 1688-0540, 전국시외버스통합예약안내서비스 www.busterminal.or.kr , 고현시외버스터미널 1688-5003\\n  자가운전 정보\\n-대전통영고속도로→통영 IC→남해안대로 거제 방향→신거제대교→거제대로→1018번 지방도→내간리\\n\\n숙박 정보\\n-라이트하우스호텔 : 거제시 장승포로, 055)681-6362, www.geojelighthouse.com  \\n-베니키아호텔거제 : 거제시 성산로, 055)991-1000, www.benikeahotel.kr  \\n-머그학동 : 거제시 동부면 학동3길, 010)5036-3889, http://mughakdong.com\\n-애드미럴호텔 : 거제시 서간도길, 055)687-3761, www.admiralhotel.co.kr\\n  식당 정보\\n-원조거제굴구이 : 굴구이, 거제면 거제남서로, 055)632-4200\\n-외포효진횟집 : 대구탕, 장목면 외포2길, 055)635-6340\\n-양지바위횟집 : 대구탕, 장목면 외포5길, 055)635-4327\\n-항만식당 : 해물뚝배기, 거제시 장승포로7길, 055)682-4369\\n\\n축제와 행사 정보\\n-2015 거제대구수산물축제 : 12월 19~20일, 055)639-4274, 외포항 일대\\n주변볼거리\\n-지심도, 해금강, 외도보타니아, 칠천량해전공원\\n\\n글, 사진 : 최갑수(여행작가)\\n  ※ 위 정보는 2019년 3월에 갱신된 정보로, 이후 변경될 수 있으니 여행 하시기 전에 반드시 확인하시기 바랍니다.\\n※ 이 기사에 사용된 텍스트, 사진, 동영상 등의 정보는 한국관광공사가 저작권을 보유하고 있으므로 기사의 무단 사용을 금합니다.'"
      ]
     },
     "execution_count": 41,
     "metadata": {},
     "output_type": "execute_result"
    }
   ],
   "source": [
    "# 하나의 문자열로 통합\n",
    "contents_merge = ' '.join(contents_list) \n",
    "contents_merge"
   ]
  },
  {
   "cell_type": "markdown",
   "id": "4634dd92-9647-4999-aa4e-c1ed1ba9cf67",
   "metadata": {},
   "source": [
    "## 이미지 추출하기"
   ]
  },
  {
   "cell_type": "code",
   "execution_count": 76,
   "id": "02d26315-aa87-4b2a-89d5-2570d8942598",
   "metadata": {
    "tags": []
   },
   "outputs": [],
   "source": [
    "from bs4 import BeautifulSoup\n",
    "from selenium import webdriver\n",
    "from selenium.webdriver.common.by import By\n",
    "from selenium.webdriver.common.keys import Keys\n",
    "from selenium.webdriver.chrome.options import Options\n",
    "import time, urllib.request\n",
    "\n",
    "options = Options()\n",
    "options.add_argument('--window-size=974,1047')\n",
    "options.add_argument('--window-position=-7,0')\n",
    "options.add_experimental_option(\"detach\", True)"
   ]
  },
  {
   "cell_type": "code",
   "execution_count": 78,
   "id": "55313494-5641-4d5e-be34-2145030da07f",
   "metadata": {
    "tags": []
   },
   "outputs": [],
   "source": [
    "URL = \"https://korean.visitkorea.or.kr/detail/rem_detail.html?cotid=be3db10c-b642-409c-81cc-c4cdecb5bd8b&temp=\"\n",
    "driver = webdriver.Chrome(options=options)\n",
    "driver.get(URL)\n",
    "time.sleep(2)"
   ]
  },
  {
   "cell_type": "code",
   "execution_count": 62,
   "id": "743cd845-fc6d-4b15-aa21-e23058082cbe",
   "metadata": {
    "tags": []
   },
   "outputs": [
    {
     "data": {
      "text/plain": [
       "'C:\\\\workspace\\\\wassup3\\\\02_Python_Collection'"
      ]
     },
     "execution_count": 62,
     "metadata": {},
     "output_type": "execute_result"
    }
   ],
   "source": [
    "pwd"
   ]
  },
  {
   "cell_type": "code",
   "execution_count": 64,
   "id": "8cf2c85c-9b1b-4441-9375-331ad6939cb3",
   "metadata": {
    "tags": []
   },
   "outputs": [
    {
     "data": {
      "text/plain": [
       "'C:\\\\workspace\\\\wassup3\\\\02_Python_Collection'"
      ]
     },
     "execution_count": 64,
     "metadata": {},
     "output_type": "execute_result"
    }
   ],
   "source": [
    "import os\n",
    "os.getcwd()"
   ]
  },
  {
   "cell_type": "code",
   "execution_count": 66,
   "id": "bcd944e0-a739-4ba2-a724-fc5076e66b1a",
   "metadata": {
    "tags": []
   },
   "outputs": [
    {
     "name": "stdin",
     "output_type": "stream",
     "text": [
      "이미지 저장 폴더명 :  image\n"
     ]
    }
   ],
   "source": [
    "f_dir = input('이미지 저장 폴더명 : ')\n",
    "\n",
    "now = time.localtime()\n",
    "s = '%04d%02d%02d_%02d%02d%02d'%(now.tm_year, now.tm_mon, now.tm_mday, now.tm_hour, now.tm_min, now.tm_sec)\n",
    "f_name = f_dir +'_' + s\n",
    "\n",
    "os.makedirs(os.getcwd()+'\\\\' + f_name)"
   ]
  },
  {
   "cell_type": "code",
   "execution_count": 70,
   "id": "df430b5d-7155-4c35-807a-85a7ca8dad0d",
   "metadata": {
    "tags": []
   },
   "outputs": [],
   "source": [
    "driver.execute_script(\"window.scrollTo(0, document.body.scrollHeight)\")"
   ]
  },
  {
   "cell_type": "code",
   "execution_count": null,
   "id": "a1934a72-38ee-4c93-a5dc-701677c5837d",
   "metadata": {},
   "outputs": [],
   "source": []
  },
  {
   "cell_type": "code",
   "execution_count": 72,
   "id": "6305a72c-1a76-4836-825b-0bd6157b6a39",
   "metadata": {
    "tags": []
   },
   "outputs": [],
   "source": [
    "html_src = driver.page_source"
   ]
  },
  {
   "cell_type": "code",
   "execution_count": 74,
   "id": "7d8db8d6-f22a-445a-ab9c-e984a6fd55dd",
   "metadata": {
    "tags": []
   },
   "outputs": [
    {
     "ename": "NameError",
     "evalue": "name 'BeautifulSoup' is not defined",
     "output_type": "error",
     "traceback": [
      "\u001b[1;31m---------------------------------------------------------------------------\u001b[0m",
      "\u001b[1;31mNameError\u001b[0m                                 Traceback (most recent call last)",
      "Cell \u001b[1;32mIn[74], line 1\u001b[0m\n\u001b[1;32m----> 1\u001b[0m html_dom \u001b[38;5;241m=\u001b[39m BeautifulSoup(html_src, \u001b[38;5;124m'\u001b[39m\u001b[38;5;124mlxml\u001b[39m\u001b[38;5;124m'\u001b[39m)\n\u001b[0;32m      2\u001b[0m html_dom\n",
      "\u001b[1;31mNameError\u001b[0m: name 'BeautifulSoup' is not defined"
     ]
    }
   ],
   "source": [
    "html_dom = BeautifulSoup(html_src, 'lxml')\n",
    "html_dom"
   ]
  },
  {
   "cell_type": "code",
   "execution_count": null,
   "id": "fec7dfe5-99f7-4f9e-b8c5-2e6e848319f5",
   "metadata": {},
   "outputs": [],
   "source": []
  },
  {
   "cell_type": "code",
   "execution_count": null,
   "id": "66028930-c0fe-4f8c-a7aa-0dd04418aaf5",
   "metadata": {},
   "outputs": [],
   "source": []
  },
  {
   "cell_type": "markdown",
   "id": "44395dfa-d9de-4bbb-b8f1-d07e336486ca",
   "metadata": {},
   "source": [
    "## 파일 스크래핑\n",
    "예제 사이트 : KRX(한국증권거래소)사이트에 있는 상장종목 주요기록\n",
    "http://data.krx.co.kr/contents/MDC/MDI/mdiLoader/index.cmd?menuId=MDC0301"
   ]
  },
  {
   "cell_type": "code",
   "execution_count": 5,
   "id": "e1815782-9597-41a1-b176-c0ca05b1027b",
   "metadata": {
    "tags": []
   },
   "outputs": [],
   "source": [
    "from bs4 import BeautifulSoup\n",
    "from selenium import webdriver\n",
    "from selenium.webdriver.common.by import By\n",
    "from selenium.webdriver.common.keys import Keys\n",
    "from selenium.webdriver.chrome.options import Options\n",
    "\n",
    "options = Options()\n",
    "options.add_argument('--window-size=974,1047')\n",
    "options.add_argument('--window-position=-7,0')\n",
    "options.add_experimental_option(\"detach\", True)"
   ]
  },
  {
   "cell_type": "code",
   "execution_count": 7,
   "id": "84db870a-bdef-4e76-a05d-b08ab06fd1a6",
   "metadata": {
    "tags": []
   },
   "outputs": [
    {
     "ename": "FileExistsError",
     "evalue": "[WinError 183] 파일이 이미 있으므로 만들 수 없습니다: 'C:\\\\workspace\\\\wassup3\\\\02_Python_Collection\\\\stock1'",
     "output_type": "error",
     "traceback": [
      "\u001b[1;31m---------------------------------------------------------------------------\u001b[0m",
      "\u001b[1;31mFileExistsError\u001b[0m                           Traceback (most recent call last)",
      "Cell \u001b[1;32mIn[7], line 3\u001b[0m\n\u001b[0;32m      1\u001b[0m \u001b[38;5;28;01mimport\u001b[39;00m \u001b[38;5;21;01mos\u001b[39;00m\n\u001b[0;32m      2\u001b[0m f_dir \u001b[38;5;241m=\u001b[39m \u001b[38;5;124m'\u001b[39m\u001b[38;5;124mstock1\u001b[39m\u001b[38;5;124m'\u001b[39m\n\u001b[1;32m----> 3\u001b[0m os\u001b[38;5;241m.\u001b[39mmakedirs(os\u001b[38;5;241m.\u001b[39mgetcwd()\u001b[38;5;241m+\u001b[39m\u001b[38;5;124m'\u001b[39m\u001b[38;5;130;01m\\\\\u001b[39;00m\u001b[38;5;124m'\u001b[39m \u001b[38;5;241m+\u001b[39m f_dir)\n\u001b[0;32m      5\u001b[0m driver \u001b[38;5;241m=\u001b[39m webdriver\u001b[38;5;241m.\u001b[39mChrome(options\u001b[38;5;241m=\u001b[39moptions)\n\u001b[0;32m      6\u001b[0m URL \u001b[38;5;241m=\u001b[39m \u001b[38;5;124m'\u001b[39m\u001b[38;5;124mhttp://data.krx.co.kr/contents/MDC/MDI/mdiLoader/index.cmd?menuId=MDC0301\u001b[39m\u001b[38;5;124m'\u001b[39m  \n",
      "File \u001b[1;32m<frozen os>:225\u001b[0m, in \u001b[0;36mmakedirs\u001b[1;34m(name, mode, exist_ok)\u001b[0m\n",
      "\u001b[1;31mFileExistsError\u001b[0m: [WinError 183] 파일이 이미 있으므로 만들 수 없습니다: 'C:\\\\workspace\\\\wassup3\\\\02_Python_Collection\\\\stock1'"
     ]
    }
   ],
   "source": [
    "import os\n",
    "f_dir = 'stock1'\n",
    "os.makedirs(os.getcwd()+'\\\\' + f_dir)\n",
    "\n",
    "driver = webdriver.Chrome(options=options)\n",
    "URL = 'http://data.krx.co.kr/contents/MDC/MDI/mdiLoader/index.cmd?menuId=MDC0301'  \n",
    "driver.get(URL)"
   ]
  },
  {
   "cell_type": "code",
   "execution_count": 90,
   "id": "4154e924-747f-46ba-afa3-46a6319fb685",
   "metadata": {
    "tags": []
   },
   "outputs": [],
   "source": [
    "driver.find_element(By.LINK_TEXT, '주식').click()"
   ]
  },
  {
   "cell_type": "code",
   "execution_count": 93,
   "id": "8055e268-2b5e-404f-ad81-0ece221fbafc",
   "metadata": {
    "tags": []
   },
   "outputs": [
    {
     "ename": "NoSuchElementException",
     "evalue": "Message: no such element: Unable to locate element: {\"method\":\"link text\",\"selector\":\"상장종목 주요기록\"}\n  (Session info: chrome=126.0.6478.127); For documentation on this error, please visit: https://www.selenium.dev/documentation/webdriver/troubleshooting/errors#no-such-element-exception\nStacktrace:\n\tGetHandleVerifier [0x00007FF728FAEEA2+31554]\n\t(No symbol) [0x00007FF728F27ED9]\n\t(No symbol) [0x00007FF728DE872A]\n\t(No symbol) [0x00007FF728E38434]\n\t(No symbol) [0x00007FF728E3853C]\n\t(No symbol) [0x00007FF728E7F6A7]\n\t(No symbol) [0x00007FF728E5D06F]\n\t(No symbol) [0x00007FF728E7C977]\n\t(No symbol) [0x00007FF728E5CDD3]\n\t(No symbol) [0x00007FF728E2A33B]\n\t(No symbol) [0x00007FF728E2AED1]\n\tGetHandleVerifier [0x00007FF7292B8B1D+3217341]\n\tGetHandleVerifier [0x00007FF729305AE3+3532675]\n\tGetHandleVerifier [0x00007FF7292FB0E0+3489152]\n\tGetHandleVerifier [0x00007FF72905E776+750614]\n\t(No symbol) [0x00007FF728F3375F]\n\t(No symbol) [0x00007FF728F2EB14]\n\t(No symbol) [0x00007FF728F2ECA2]\n\t(No symbol) [0x00007FF728F1E16F]\n\tBaseThreadInitThunk [0x00007FFC145E257D+29]\n\tRtlUserThreadStart [0x00007FFC168EAF28+40]\n",
     "output_type": "error",
     "traceback": [
      "\u001b[1;31m---------------------------------------------------------------------------\u001b[0m",
      "\u001b[1;31mNoSuchElementException\u001b[0m                    Traceback (most recent call last)",
      "Cell \u001b[1;32mIn[93], line 1\u001b[0m\n\u001b[1;32m----> 1\u001b[0m driver\u001b[38;5;241m.\u001b[39mfind_element(By\u001b[38;5;241m.\u001b[39mLINK_TEXT, \u001b[38;5;124m'\u001b[39m\u001b[38;5;124m상장종목 주요기록\u001b[39m\u001b[38;5;124m'\u001b[39m)\u001b[38;5;241m.\u001b[39mclick()\n",
      "File \u001b[1;32m~\\anaconda3\\Lib\\site-packages\\selenium\\webdriver\\remote\\webdriver.py:748\u001b[0m, in \u001b[0;36mWebDriver.find_element\u001b[1;34m(self, by, value)\u001b[0m\n\u001b[0;32m    745\u001b[0m     by \u001b[38;5;241m=\u001b[39m By\u001b[38;5;241m.\u001b[39mCSS_SELECTOR\n\u001b[0;32m    746\u001b[0m     value \u001b[38;5;241m=\u001b[39m \u001b[38;5;124mf\u001b[39m\u001b[38;5;124m'\u001b[39m\u001b[38;5;124m[name=\u001b[39m\u001b[38;5;124m\"\u001b[39m\u001b[38;5;132;01m{\u001b[39;00mvalue\u001b[38;5;132;01m}\u001b[39;00m\u001b[38;5;124m\"\u001b[39m\u001b[38;5;124m]\u001b[39m\u001b[38;5;124m'\u001b[39m\n\u001b[1;32m--> 748\u001b[0m \u001b[38;5;28;01mreturn\u001b[39;00m \u001b[38;5;28mself\u001b[39m\u001b[38;5;241m.\u001b[39mexecute(Command\u001b[38;5;241m.\u001b[39mFIND_ELEMENT, {\u001b[38;5;124m\"\u001b[39m\u001b[38;5;124musing\u001b[39m\u001b[38;5;124m\"\u001b[39m: by, \u001b[38;5;124m\"\u001b[39m\u001b[38;5;124mvalue\u001b[39m\u001b[38;5;124m\"\u001b[39m: value})[\u001b[38;5;124m\"\u001b[39m\u001b[38;5;124mvalue\u001b[39m\u001b[38;5;124m\"\u001b[39m]\n",
      "File \u001b[1;32m~\\anaconda3\\Lib\\site-packages\\selenium\\webdriver\\remote\\webdriver.py:354\u001b[0m, in \u001b[0;36mWebDriver.execute\u001b[1;34m(self, driver_command, params)\u001b[0m\n\u001b[0;32m    352\u001b[0m response \u001b[38;5;241m=\u001b[39m \u001b[38;5;28mself\u001b[39m\u001b[38;5;241m.\u001b[39mcommand_executor\u001b[38;5;241m.\u001b[39mexecute(driver_command, params)\n\u001b[0;32m    353\u001b[0m \u001b[38;5;28;01mif\u001b[39;00m response:\n\u001b[1;32m--> 354\u001b[0m     \u001b[38;5;28mself\u001b[39m\u001b[38;5;241m.\u001b[39merror_handler\u001b[38;5;241m.\u001b[39mcheck_response(response)\n\u001b[0;32m    355\u001b[0m     response[\u001b[38;5;124m\"\u001b[39m\u001b[38;5;124mvalue\u001b[39m\u001b[38;5;124m\"\u001b[39m] \u001b[38;5;241m=\u001b[39m \u001b[38;5;28mself\u001b[39m\u001b[38;5;241m.\u001b[39m_unwrap_value(response\u001b[38;5;241m.\u001b[39mget(\u001b[38;5;124m\"\u001b[39m\u001b[38;5;124mvalue\u001b[39m\u001b[38;5;124m\"\u001b[39m, \u001b[38;5;28;01mNone\u001b[39;00m))\n\u001b[0;32m    356\u001b[0m     \u001b[38;5;28;01mreturn\u001b[39;00m response\n",
      "File \u001b[1;32m~\\anaconda3\\Lib\\site-packages\\selenium\\webdriver\\remote\\errorhandler.py:229\u001b[0m, in \u001b[0;36mErrorHandler.check_response\u001b[1;34m(self, response)\u001b[0m\n\u001b[0;32m    227\u001b[0m         alert_text \u001b[38;5;241m=\u001b[39m value[\u001b[38;5;124m\"\u001b[39m\u001b[38;5;124malert\u001b[39m\u001b[38;5;124m\"\u001b[39m]\u001b[38;5;241m.\u001b[39mget(\u001b[38;5;124m\"\u001b[39m\u001b[38;5;124mtext\u001b[39m\u001b[38;5;124m\"\u001b[39m)\n\u001b[0;32m    228\u001b[0m     \u001b[38;5;28;01mraise\u001b[39;00m exception_class(message, screen, stacktrace, alert_text)  \u001b[38;5;66;03m# type: ignore[call-arg]  # mypy is not smart enough here\u001b[39;00m\n\u001b[1;32m--> 229\u001b[0m \u001b[38;5;28;01mraise\u001b[39;00m exception_class(message, screen, stacktrace)\n",
      "\u001b[1;31mNoSuchElementException\u001b[0m: Message: no such element: Unable to locate element: {\"method\":\"link text\",\"selector\":\"상장종목 주요기록\"}\n  (Session info: chrome=126.0.6478.127); For documentation on this error, please visit: https://www.selenium.dev/documentation/webdriver/troubleshooting/errors#no-such-element-exception\nStacktrace:\n\tGetHandleVerifier [0x00007FF728FAEEA2+31554]\n\t(No symbol) [0x00007FF728F27ED9]\n\t(No symbol) [0x00007FF728DE872A]\n\t(No symbol) [0x00007FF728E38434]\n\t(No symbol) [0x00007FF728E3853C]\n\t(No symbol) [0x00007FF728E7F6A7]\n\t(No symbol) [0x00007FF728E5D06F]\n\t(No symbol) [0x00007FF728E7C977]\n\t(No symbol) [0x00007FF728E5CDD3]\n\t(No symbol) [0x00007FF728E2A33B]\n\t(No symbol) [0x00007FF728E2AED1]\n\tGetHandleVerifier [0x00007FF7292B8B1D+3217341]\n\tGetHandleVerifier [0x00007FF729305AE3+3532675]\n\tGetHandleVerifier [0x00007FF7292FB0E0+3489152]\n\tGetHandleVerifier [0x00007FF72905E776+750614]\n\t(No symbol) [0x00007FF728F3375F]\n\t(No symbol) [0x00007FF728F2EB14]\n\t(No symbol) [0x00007FF728F2ECA2]\n\t(No symbol) [0x00007FF728F1E16F]\n\tBaseThreadInitThunk [0x00007FFC145E257D+29]\n\tRtlUserThreadStart [0x00007FFC168EAF28+40]\n"
     ]
    }
   ],
   "source": [
    "driver.find_element(By.LINK_TEXT, '상장종목 주요기록').click()"
   ]
  },
  {
   "cell_type": "code",
   "execution_count": null,
   "id": "32260e4e-828c-47fd-8f0b-d1cb4f3d9473",
   "metadata": {},
   "outputs": [],
   "source": []
  },
  {
   "cell_type": "code",
   "execution_count": null,
   "id": "50bad2ff-ead3-44d4-8c80-29525983803a",
   "metadata": {},
   "outputs": [],
   "source": []
  },
  {
   "cell_type": "code",
   "execution_count": null,
   "id": "2fd31937-885a-4bb8-938c-19381e03458a",
   "metadata": {},
   "outputs": [],
   "source": []
  }
 ],
 "metadata": {
  "kernelspec": {
   "display_name": "Python 3 (ipykernel)",
   "language": "python",
   "name": "python3"
  },
  "language_info": {
   "codemirror_mode": {
    "name": "ipython",
    "version": 3
   },
   "file_extension": ".py",
   "mimetype": "text/x-python",
   "name": "python",
   "nbconvert_exporter": "python",
   "pygments_lexer": "ipython3",
   "version": "3.11.7"
  }
 },
 "nbformat": 4,
 "nbformat_minor": 5
}
