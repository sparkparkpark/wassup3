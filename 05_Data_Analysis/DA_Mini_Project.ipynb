{
 "cells": [
  {
   "cell_type": "markdown",
   "id": "ad7181c2-2b55-4c85-b98b-73f88cd2f077",
   "metadata": {
    "tags": []
   },
   "source": [
    "# DA Mini Project\n",
    "* 주제 : 온라인 학습 플랫폼 사용자 행동 패턴 분석\n",
    "* 개요 :\n",
    "```\n",
    "이번 프로젝트는 학습 서비스를 이용하는 독자들 중 누가 서비스 구독을 연장할지 예측하기 위한 사전 파악에 초점을 맞추고 있습니다. 우리의 목표는 유저들의 학습 습관, 선호도, 이용 행태 등 다양한 측면을 면밀히 분석하는 것입니다.\n",
    "\n",
    "\n",
    "이를 위해, 우리는 유저들의 학습 패턴, 서비스 이용 시간, 콘텐츠에 대한 반응, 그리고 이들이 얼마나 자주 서비스를 이용하는지 등 다양한 데이터를 수집하고 분석할 계획입니다. 이 데이터는 유저들이 서비스에 얼마나 만족하고 있는지, 어떤 요소들이 그들의 구독 결정에 영향을 미치는지 이해하는 데 중요한 역할을 할 것입니다.\n",
    "```\n",
    "* 데이터셋 : mini.csv\n",
    "    * 메타데이터\n",
    "        * user_id: 사용자의 고유 식별자\n",
    "        * subscription_duration: 사용자가 서비스에 가입한 기간 (월)\n",
    "        * recent_login_time: 사용자가 마지막으로 로그인한 시간 (일)\n",
    "        * average_login_time:  사용자의 일반적인 로그인 시간\n",
    "        * average_time_per_learning_session: 각 학습 세션에 소요된 평균 시간 (분)\n",
    "        * monthly_active_learning_days: 월간 활동적인 학습 일수\n",
    "        * total_completed_courses: 완료한 총 코스 수\n",
    "        * recent_learning_achievement: 최근 학습 성취도\n",
    "        * abandoned_learning_sessions: 중단된 학습 세션 수\n",
    "        * community_engagement_level: 커뮤니티 참여도\n",
    "        * preferred_difficulty_level: 선호하는 난이도\n",
    "        * subscription_type: 구독 유형\n",
    "        * customer_inquiry_history: 고객 문의 이력\n",
    "        * payment_pattern : 사용자의 지난 3개월 간의 결제 패턴을 10진수로 표현한 값.\n",
    "          - 7: 3개월 모두 결제함\n",
    "          - 6: 첫 2개월은 결제했으나 마지막 달에는 결제하지 않음\n",
    "          - 5: 첫 달과 마지막 달에 결제함\n",
    "          - 4: 첫 달에만 결제함\n",
    "          - 3: 마지막 2개월에 결제함\n",
    "          - 2: 가운데 달에만 결제함\n",
    "          - 1: 마지막 달에만 결제함\n",
    "          - 0: 3개월 동안 결제하지 않음\n",
    "        * target: 사용자가 다음 달에도 구독을 계속할지 (1) 또는 취소할지 (0)를 나타냄"
   ]
  },
  {
   "cell_type": "markdown",
   "id": "7f1bef90-d8e2-4890-9bbc-5ecbb821fc35",
   "metadata": {
    "tags": []
   },
   "source": [
    "## Step 1. 문제 정의 및 가설 설정하기\n",
    "\n",
    "\n",
    "- 학습 서비스를 이용하는 독자들 중 누가 서비스 구독을 연장할지 예측하기 위한 사전 파악\n",
    "\n",
    "    - 어떤 행동 패턴이 서비스 구독 연장에 영향을 미치는가?   \n",
    "    - 유저들의 학습 습관, 선호도, 이용 행태는 어떻게 구독 결정에 영향을 미치는가?   \n",
    "   \n",
    "   \n",
    "- 가설 설정   \n",
    "    1. 사용자가 학습 플랫폼을 많이 이용할수록 구독을 연장할 가능성이 높다.\n",
    "         - 월간 활동적인 학습 일수, 완료한 총 코스 수, 평균 학습 세션 시간 등이 높을수록 구독 연장 확률이 높다.\n",
    "\n",
    "    2. 커뮤니티 참여도가 높을수록 구독을 연장할 가능성이 높다.\n"
   ]
  },
  {
   "cell_type": "markdown",
   "id": "46a31483-fff1-4882-b2d2-26a1e0e0b1de",
   "metadata": {
    "tags": []
   },
   "source": [
    "## 데이터 분석 기본 세팅 하기"
   ]
  },
  {
   "cell_type": "markdown",
   "id": "9a766d57-3705-4808-a2a7-ab0a4ec98f3d",
   "metadata": {
    "tags": []
   },
   "source": [
    "    - 1. 데이터 불러오기\n",
    "    - 2. 데이터 확인\n",
    "    - 3. 데이터 기본 정보 확인\n",
    "    - 4. 데이터 통계 요약 확인"
   ]
  },
  {
   "cell_type": "code",
   "execution_count": 6,
   "id": "8b009833-8f53-45bd-881c-f40aec9ce857",
   "metadata": {
    "tags": []
   },
   "outputs": [],
   "source": [
    "import pandas as pd\n",
    "import numpy as np\n",
    "import matplotlib.pyplot as plt\n",
    "import seaborn as sns\n",
    "import koreanize_matplotlib\n",
    "import folium\n",
    "from folium.plugins import MarkerCluster"
   ]
  },
  {
   "cell_type": "code",
   "execution_count": 7,
   "id": "53e4bd5b-5a13-4b1b-b873-514f87a9fa85",
   "metadata": {
    "tags": []
   },
   "outputs": [],
   "source": [
    "# 데이터 로드\n",
    "access_data = pd.read_csv('data/mini.csv',sep=',')"
   ]
  },
  {
   "cell_type": "code",
   "execution_count": 253,
   "id": "9dbda812-2013-47f0-abfe-3d4f89995cbd",
   "metadata": {
    "collapsed": true,
    "jupyter": {
     "outputs_hidden": true
    },
    "tags": []
   },
   "outputs": [
    {
     "data": {
      "text/html": [
       "<div>\n",
       "<style scoped>\n",
       "    .dataframe tbody tr th:only-of-type {\n",
       "        vertical-align: middle;\n",
       "    }\n",
       "\n",
       "    .dataframe tbody tr th {\n",
       "        vertical-align: top;\n",
       "    }\n",
       "\n",
       "    .dataframe thead th {\n",
       "        text-align: right;\n",
       "    }\n",
       "</style>\n",
       "<table border=\"1\" class=\"dataframe\">\n",
       "  <thead>\n",
       "    <tr style=\"text-align: right;\">\n",
       "      <th></th>\n",
       "      <th>user_id</th>\n",
       "      <th>subscription_duration</th>\n",
       "      <th>recent_login_time</th>\n",
       "      <th>average_login_time</th>\n",
       "      <th>average_time_per_learning_session</th>\n",
       "      <th>monthly_active_learning_days</th>\n",
       "      <th>total_completed_courses</th>\n",
       "      <th>recent_learning_achievement</th>\n",
       "      <th>abandoned_learning_sessions</th>\n",
       "      <th>community_engagement_level</th>\n",
       "      <th>preferred_difficulty_level</th>\n",
       "      <th>subscription_type</th>\n",
       "      <th>customer_inquiry_history</th>\n",
       "      <th>payment_pattern</th>\n",
       "      <th>target</th>\n",
       "      <th>login_time_bins</th>\n",
       "    </tr>\n",
       "  </thead>\n",
       "  <tbody>\n",
       "    <tr>\n",
       "      <th>0</th>\n",
       "      <td>b919c29d</td>\n",
       "      <td>13</td>\n",
       "      <td>14</td>\n",
       "      <td>14.946163</td>\n",
       "      <td>8.427187</td>\n",
       "      <td>18</td>\n",
       "      <td>16</td>\n",
       "      <td>68.360455</td>\n",
       "      <td>3</td>\n",
       "      <td>4</td>\n",
       "      <td>Low</td>\n",
       "      <td>Basic</td>\n",
       "      <td>4</td>\n",
       "      <td>5</td>\n",
       "      <td>0</td>\n",
       "      <td>11-15</td>\n",
       "    </tr>\n",
       "    <tr>\n",
       "      <th>1</th>\n",
       "      <td>a0a60abb</td>\n",
       "      <td>16</td>\n",
       "      <td>18</td>\n",
       "      <td>18.453224</td>\n",
       "      <td>72.646087</td>\n",
       "      <td>16</td>\n",
       "      <td>13</td>\n",
       "      <td>97.567322</td>\n",
       "      <td>2</td>\n",
       "      <td>3</td>\n",
       "      <td>Medium</td>\n",
       "      <td>Basic</td>\n",
       "      <td>1</td>\n",
       "      <td>6</td>\n",
       "      <td>1</td>\n",
       "      <td>16-20</td>\n",
       "    </tr>\n",
       "    <tr>\n",
       "      <th>2</th>\n",
       "      <td>b9f171ae</td>\n",
       "      <td>22</td>\n",
       "      <td>1</td>\n",
       "      <td>16.195228</td>\n",
       "      <td>21.774492</td>\n",
       "      <td>13</td>\n",
       "      <td>14</td>\n",
       "      <td>94.358763</td>\n",
       "      <td>3</td>\n",
       "      <td>4</td>\n",
       "      <td>Medium</td>\n",
       "      <td>Premium</td>\n",
       "      <td>0</td>\n",
       "      <td>7</td>\n",
       "      <td>1</td>\n",
       "      <td>16-20</td>\n",
       "    </tr>\n",
       "    <tr>\n",
       "      <th>3</th>\n",
       "      <td>5dc0ba8b</td>\n",
       "      <td>1</td>\n",
       "      <td>19</td>\n",
       "      <td>17.628656</td>\n",
       "      <td>42.659066</td>\n",
       "      <td>19</td>\n",
       "      <td>18</td>\n",
       "      <td>70.153228</td>\n",
       "      <td>0</td>\n",
       "      <td>3</td>\n",
       "      <td>Low</td>\n",
       "      <td>Basic</td>\n",
       "      <td>1</td>\n",
       "      <td>0</td>\n",
       "      <td>1</td>\n",
       "      <td>16-20</td>\n",
       "    </tr>\n",
       "    <tr>\n",
       "      <th>4</th>\n",
       "      <td>65c83654</td>\n",
       "      <td>4</td>\n",
       "      <td>5</td>\n",
       "      <td>21.390656</td>\n",
       "      <td>30.744287</td>\n",
       "      <td>19</td>\n",
       "      <td>10</td>\n",
       "      <td>81.917908</td>\n",
       "      <td>2</td>\n",
       "      <td>4</td>\n",
       "      <td>Medium</td>\n",
       "      <td>Basic</td>\n",
       "      <td>3</td>\n",
       "      <td>0</td>\n",
       "      <td>1</td>\n",
       "      <td>21-25</td>\n",
       "    </tr>\n",
       "    <tr>\n",
       "      <th>...</th>\n",
       "      <td>...</td>\n",
       "      <td>...</td>\n",
       "      <td>...</td>\n",
       "      <td>...</td>\n",
       "      <td>...</td>\n",
       "      <td>...</td>\n",
       "      <td>...</td>\n",
       "      <td>...</td>\n",
       "      <td>...</td>\n",
       "      <td>...</td>\n",
       "      <td>...</td>\n",
       "      <td>...</td>\n",
       "      <td>...</td>\n",
       "      <td>...</td>\n",
       "      <td>...</td>\n",
       "      <td>...</td>\n",
       "    </tr>\n",
       "    <tr>\n",
       "      <th>9995</th>\n",
       "      <td>ae6b76bc</td>\n",
       "      <td>22</td>\n",
       "      <td>29</td>\n",
       "      <td>14.727623</td>\n",
       "      <td>84.053558</td>\n",
       "      <td>18</td>\n",
       "      <td>16</td>\n",
       "      <td>64.966803</td>\n",
       "      <td>2</td>\n",
       "      <td>5</td>\n",
       "      <td>Low</td>\n",
       "      <td>Premium</td>\n",
       "      <td>1</td>\n",
       "      <td>1</td>\n",
       "      <td>1</td>\n",
       "      <td>11-15</td>\n",
       "    </tr>\n",
       "    <tr>\n",
       "      <th>9996</th>\n",
       "      <td>24588752</td>\n",
       "      <td>10</td>\n",
       "      <td>11</td>\n",
       "      <td>19.374054</td>\n",
       "      <td>45.464833</td>\n",
       "      <td>9</td>\n",
       "      <td>8</td>\n",
       "      <td>82.750244</td>\n",
       "      <td>3</td>\n",
       "      <td>3</td>\n",
       "      <td>Medium</td>\n",
       "      <td>Basic</td>\n",
       "      <td>2</td>\n",
       "      <td>7</td>\n",
       "      <td>1</td>\n",
       "      <td>16-20</td>\n",
       "    </tr>\n",
       "    <tr>\n",
       "      <th>9997</th>\n",
       "      <td>e4622a54</td>\n",
       "      <td>7</td>\n",
       "      <td>27</td>\n",
       "      <td>18.240978</td>\n",
       "      <td>127.302411</td>\n",
       "      <td>24</td>\n",
       "      <td>14</td>\n",
       "      <td>81.567839</td>\n",
       "      <td>3</td>\n",
       "      <td>5</td>\n",
       "      <td>High</td>\n",
       "      <td>Basic</td>\n",
       "      <td>1</td>\n",
       "      <td>6</td>\n",
       "      <td>1</td>\n",
       "      <td>16-20</td>\n",
       "    </tr>\n",
       "    <tr>\n",
       "      <th>9998</th>\n",
       "      <td>e07fbad9</td>\n",
       "      <td>11</td>\n",
       "      <td>7</td>\n",
       "      <td>18.783800</td>\n",
       "      <td>5.297234</td>\n",
       "      <td>10</td>\n",
       "      <td>10</td>\n",
       "      <td>89.885656</td>\n",
       "      <td>4</td>\n",
       "      <td>5</td>\n",
       "      <td>Low</td>\n",
       "      <td>Basic</td>\n",
       "      <td>2</td>\n",
       "      <td>0</td>\n",
       "      <td>1</td>\n",
       "      <td>16-20</td>\n",
       "    </tr>\n",
       "    <tr>\n",
       "      <th>9999</th>\n",
       "      <td>e12dcb55</td>\n",
       "      <td>10</td>\n",
       "      <td>5</td>\n",
       "      <td>13.073230</td>\n",
       "      <td>28.120031</td>\n",
       "      <td>3</td>\n",
       "      <td>13</td>\n",
       "      <td>64.811297</td>\n",
       "      <td>4</td>\n",
       "      <td>5</td>\n",
       "      <td>Low</td>\n",
       "      <td>Premium</td>\n",
       "      <td>0</td>\n",
       "      <td>3</td>\n",
       "      <td>0</td>\n",
       "      <td>11-15</td>\n",
       "    </tr>\n",
       "  </tbody>\n",
       "</table>\n",
       "<p>10000 rows × 16 columns</p>\n",
       "</div>"
      ],
      "text/plain": [
       "       user_id  subscription_duration  recent_login_time  average_login_time  \\\n",
       "0     b919c29d                     13                 14           14.946163   \n",
       "1     a0a60abb                     16                 18           18.453224   \n",
       "2     b9f171ae                     22                  1           16.195228   \n",
       "3     5dc0ba8b                      1                 19           17.628656   \n",
       "4     65c83654                      4                  5           21.390656   \n",
       "...        ...                    ...                ...                 ...   \n",
       "9995  ae6b76bc                     22                 29           14.727623   \n",
       "9996  24588752                     10                 11           19.374054   \n",
       "9997  e4622a54                      7                 27           18.240978   \n",
       "9998  e07fbad9                     11                  7           18.783800   \n",
       "9999  e12dcb55                     10                  5           13.073230   \n",
       "\n",
       "      average_time_per_learning_session  monthly_active_learning_days  \\\n",
       "0                              8.427187                            18   \n",
       "1                             72.646087                            16   \n",
       "2                             21.774492                            13   \n",
       "3                             42.659066                            19   \n",
       "4                             30.744287                            19   \n",
       "...                                 ...                           ...   \n",
       "9995                          84.053558                            18   \n",
       "9996                          45.464833                             9   \n",
       "9997                         127.302411                            24   \n",
       "9998                           5.297234                            10   \n",
       "9999                          28.120031                             3   \n",
       "\n",
       "      total_completed_courses  recent_learning_achievement  \\\n",
       "0                          16                    68.360455   \n",
       "1                          13                    97.567322   \n",
       "2                          14                    94.358763   \n",
       "3                          18                    70.153228   \n",
       "4                          10                    81.917908   \n",
       "...                       ...                          ...   \n",
       "9995                       16                    64.966803   \n",
       "9996                        8                    82.750244   \n",
       "9997                       14                    81.567839   \n",
       "9998                       10                    89.885656   \n",
       "9999                       13                    64.811297   \n",
       "\n",
       "      abandoned_learning_sessions  community_engagement_level  \\\n",
       "0                               3                           4   \n",
       "1                               2                           3   \n",
       "2                               3                           4   \n",
       "3                               0                           3   \n",
       "4                               2                           4   \n",
       "...                           ...                         ...   \n",
       "9995                            2                           5   \n",
       "9996                            3                           3   \n",
       "9997                            3                           5   \n",
       "9998                            4                           5   \n",
       "9999                            4                           5   \n",
       "\n",
       "     preferred_difficulty_level subscription_type  customer_inquiry_history  \\\n",
       "0                           Low             Basic                         4   \n",
       "1                        Medium             Basic                         1   \n",
       "2                        Medium           Premium                         0   \n",
       "3                           Low             Basic                         1   \n",
       "4                        Medium             Basic                         3   \n",
       "...                         ...               ...                       ...   \n",
       "9995                        Low           Premium                         1   \n",
       "9996                     Medium             Basic                         2   \n",
       "9997                       High             Basic                         1   \n",
       "9998                        Low             Basic                         2   \n",
       "9999                        Low           Premium                         0   \n",
       "\n",
       "      payment_pattern  target login_time_bins  \n",
       "0                   5       0           11-15  \n",
       "1                   6       1           16-20  \n",
       "2                   7       1           16-20  \n",
       "3                   0       1           16-20  \n",
       "4                   0       1           21-25  \n",
       "...               ...     ...             ...  \n",
       "9995                1       1           11-15  \n",
       "9996                7       1           16-20  \n",
       "9997                6       1           16-20  \n",
       "9998                0       1           16-20  \n",
       "9999                3       0           11-15  \n",
       "\n",
       "[10000 rows x 16 columns]"
      ]
     },
     "execution_count": 253,
     "metadata": {},
     "output_type": "execute_result"
    }
   ],
   "source": [
    "# 데이터 확인\n",
    "access_data"
   ]
  },
  {
   "cell_type": "code",
   "execution_count": 266,
   "id": "0c92fa62-d617-4cd3-95a2-71e09a1a8791",
   "metadata": {
    "tags": []
   },
   "outputs": [
    {
     "name": "stdout",
     "output_type": "stream",
     "text": [
      "<class 'pandas.core.frame.DataFrame'>\n",
      "RangeIndex: 10000 entries, 0 to 9999\n",
      "Data columns (total 15 columns):\n",
      " #   Column                             Non-Null Count  Dtype  \n",
      "---  ------                             --------------  -----  \n",
      " 0   user_id                            10000 non-null  object \n",
      " 1   subscription_duration              10000 non-null  int64  \n",
      " 2   recent_login_time                  10000 non-null  int64  \n",
      " 3   average_login_time                 10000 non-null  float64\n",
      " 4   average_time_per_learning_session  10000 non-null  float64\n",
      " 5   monthly_active_learning_days       10000 non-null  int64  \n",
      " 6   total_completed_courses            10000 non-null  int64  \n",
      " 7   recent_learning_achievement        10000 non-null  float64\n",
      " 8   abandoned_learning_sessions        10000 non-null  int64  \n",
      " 9   community_engagement_level         10000 non-null  int64  \n",
      " 10  preferred_difficulty_level         10000 non-null  object \n",
      " 11  subscription_type                  10000 non-null  object \n",
      " 12  customer_inquiry_history           10000 non-null  int64  \n",
      " 13  payment_pattern                    10000 non-null  int64  \n",
      " 14  target                             10000 non-null  int64  \n",
      "dtypes: float64(3), int64(9), object(3)\n",
      "memory usage: 1.1+ MB\n"
     ]
    }
   ],
   "source": [
    "# 결측치, Datatype 확인\n",
    "access_data.info()"
   ]
  },
  {
   "cell_type": "code",
   "execution_count": 641,
   "id": "b4898927-a2cf-40bf-b25c-37b3a3bb1011",
   "metadata": {
    "tags": []
   },
   "outputs": [
    {
     "data": {
      "text/html": [
       "<div>\n",
       "<style scoped>\n",
       "    .dataframe tbody tr th:only-of-type {\n",
       "        vertical-align: middle;\n",
       "    }\n",
       "\n",
       "    .dataframe tbody tr th {\n",
       "        vertical-align: top;\n",
       "    }\n",
       "\n",
       "    .dataframe thead th {\n",
       "        text-align: right;\n",
       "    }\n",
       "</style>\n",
       "<table border=\"1\" class=\"dataframe\">\n",
       "  <thead>\n",
       "    <tr style=\"text-align: right;\">\n",
       "      <th></th>\n",
       "      <th>subscription_duration</th>\n",
       "      <th>recent_login_time</th>\n",
       "      <th>average_login_time</th>\n",
       "      <th>average_time_per_learning_session</th>\n",
       "      <th>monthly_active_learning_days</th>\n",
       "      <th>total_completed_courses</th>\n",
       "      <th>recent_learning_achievement</th>\n",
       "      <th>abandoned_learning_sessions</th>\n",
       "      <th>community_engagement_level</th>\n",
       "      <th>customer_inquiry_history</th>\n",
       "      <th>payment_pattern</th>\n",
       "      <th>target</th>\n",
       "    </tr>\n",
       "  </thead>\n",
       "  <tbody>\n",
       "    <tr>\n",
       "      <th>count</th>\n",
       "      <td>10000.000000</td>\n",
       "      <td>10000.000000</td>\n",
       "      <td>10000.000000</td>\n",
       "      <td>10000.000000</td>\n",
       "      <td>10000.000000</td>\n",
       "      <td>10000.000000</td>\n",
       "      <td>10000.000000</td>\n",
       "      <td>10000.000000</td>\n",
       "      <td>10000.000000</td>\n",
       "      <td>10000.000000</td>\n",
       "      <td>10000.000000</td>\n",
       "      <td>10000.000000</td>\n",
       "    </tr>\n",
       "    <tr>\n",
       "      <th>mean</th>\n",
       "      <td>11.897400</td>\n",
       "      <td>15.013200</td>\n",
       "      <td>14.994076</td>\n",
       "      <td>54.917720</td>\n",
       "      <td>12.545400</td>\n",
       "      <td>12.227500</td>\n",
       "      <td>75.029513</td>\n",
       "      <td>3.043600</td>\n",
       "      <td>3.886100</td>\n",
       "      <td>2.010500</td>\n",
       "      <td>3.502900</td>\n",
       "      <td>0.619900</td>\n",
       "    </tr>\n",
       "    <tr>\n",
       "      <th>std</th>\n",
       "      <td>6.600896</td>\n",
       "      <td>8.362573</td>\n",
       "      <td>3.001869</td>\n",
       "      <td>56.024310</td>\n",
       "      <td>6.932239</td>\n",
       "      <td>3.634125</td>\n",
       "      <td>9.968529</td>\n",
       "      <td>1.755052</td>\n",
       "      <td>1.262175</td>\n",
       "      <td>1.420983</td>\n",
       "      <td>2.311261</td>\n",
       "      <td>0.485435</td>\n",
       "    </tr>\n",
       "    <tr>\n",
       "      <th>min</th>\n",
       "      <td>1.000000</td>\n",
       "      <td>1.000000</td>\n",
       "      <td>2.366189</td>\n",
       "      <td>0.011515</td>\n",
       "      <td>1.000000</td>\n",
       "      <td>1.000000</td>\n",
       "      <td>35.941755</td>\n",
       "      <td>0.000000</td>\n",
       "      <td>1.000000</td>\n",
       "      <td>0.000000</td>\n",
       "      <td>0.000000</td>\n",
       "      <td>0.000000</td>\n",
       "    </tr>\n",
       "    <tr>\n",
       "      <th>25%</th>\n",
       "      <td>6.000000</td>\n",
       "      <td>8.000000</td>\n",
       "      <td>13.025597</td>\n",
       "      <td>15.276611</td>\n",
       "      <td>7.000000</td>\n",
       "      <td>10.000000</td>\n",
       "      <td>68.278054</td>\n",
       "      <td>2.000000</td>\n",
       "      <td>3.000000</td>\n",
       "      <td>1.000000</td>\n",
       "      <td>1.000000</td>\n",
       "      <td>0.000000</td>\n",
       "    </tr>\n",
       "    <tr>\n",
       "      <th>50%</th>\n",
       "      <td>12.000000</td>\n",
       "      <td>15.000000</td>\n",
       "      <td>14.979228</td>\n",
       "      <td>37.578818</td>\n",
       "      <td>13.000000</td>\n",
       "      <td>12.000000</td>\n",
       "      <td>75.126061</td>\n",
       "      <td>3.000000</td>\n",
       "      <td>4.000000</td>\n",
       "      <td>2.000000</td>\n",
       "      <td>4.000000</td>\n",
       "      <td>1.000000</td>\n",
       "    </tr>\n",
       "    <tr>\n",
       "      <th>75%</th>\n",
       "      <td>18.000000</td>\n",
       "      <td>22.000000</td>\n",
       "      <td>16.995340</td>\n",
       "      <td>75.584200</td>\n",
       "      <td>19.000000</td>\n",
       "      <td>15.000000</td>\n",
       "      <td>81.718976</td>\n",
       "      <td>4.000000</td>\n",
       "      <td>5.000000</td>\n",
       "      <td>3.000000</td>\n",
       "      <td>6.000000</td>\n",
       "      <td>1.000000</td>\n",
       "    </tr>\n",
       "    <tr>\n",
       "      <th>max</th>\n",
       "      <td>23.000000</td>\n",
       "      <td>29.000000</td>\n",
       "      <td>26.998490</td>\n",
       "      <td>503.372616</td>\n",
       "      <td>24.000000</td>\n",
       "      <td>27.000000</td>\n",
       "      <td>112.643828</td>\n",
       "      <td>12.000000</td>\n",
       "      <td>5.000000</td>\n",
       "      <td>10.000000</td>\n",
       "      <td>7.000000</td>\n",
       "      <td>1.000000</td>\n",
       "    </tr>\n",
       "  </tbody>\n",
       "</table>\n",
       "</div>"
      ],
      "text/plain": [
       "       subscription_duration  recent_login_time  average_login_time  \\\n",
       "count           10000.000000       10000.000000        10000.000000   \n",
       "mean               11.897400          15.013200           14.994076   \n",
       "std                 6.600896           8.362573            3.001869   \n",
       "min                 1.000000           1.000000            2.366189   \n",
       "25%                 6.000000           8.000000           13.025597   \n",
       "50%                12.000000          15.000000           14.979228   \n",
       "75%                18.000000          22.000000           16.995340   \n",
       "max                23.000000          29.000000           26.998490   \n",
       "\n",
       "       average_time_per_learning_session  monthly_active_learning_days  \\\n",
       "count                       10000.000000                  10000.000000   \n",
       "mean                           54.917720                     12.545400   \n",
       "std                            56.024310                      6.932239   \n",
       "min                             0.011515                      1.000000   \n",
       "25%                            15.276611                      7.000000   \n",
       "50%                            37.578818                     13.000000   \n",
       "75%                            75.584200                     19.000000   \n",
       "max                           503.372616                     24.000000   \n",
       "\n",
       "       total_completed_courses  recent_learning_achievement  \\\n",
       "count             10000.000000                 10000.000000   \n",
       "mean                 12.227500                    75.029513   \n",
       "std                   3.634125                     9.968529   \n",
       "min                   1.000000                    35.941755   \n",
       "25%                  10.000000                    68.278054   \n",
       "50%                  12.000000                    75.126061   \n",
       "75%                  15.000000                    81.718976   \n",
       "max                  27.000000                   112.643828   \n",
       "\n",
       "       abandoned_learning_sessions  community_engagement_level  \\\n",
       "count                 10000.000000                10000.000000   \n",
       "mean                      3.043600                    3.886100   \n",
       "std                       1.755052                    1.262175   \n",
       "min                       0.000000                    1.000000   \n",
       "25%                       2.000000                    3.000000   \n",
       "50%                       3.000000                    4.000000   \n",
       "75%                       4.000000                    5.000000   \n",
       "max                      12.000000                    5.000000   \n",
       "\n",
       "       customer_inquiry_history  payment_pattern        target  \n",
       "count              10000.000000     10000.000000  10000.000000  \n",
       "mean                   2.010500         3.502900      0.619900  \n",
       "std                    1.420983         2.311261      0.485435  \n",
       "min                    0.000000         0.000000      0.000000  \n",
       "25%                    1.000000         1.000000      0.000000  \n",
       "50%                    2.000000         4.000000      1.000000  \n",
       "75%                    3.000000         6.000000      1.000000  \n",
       "max                   10.000000         7.000000      1.000000  "
      ]
     },
     "execution_count": 641,
     "metadata": {},
     "output_type": "execute_result"
    }
   ],
   "source": [
    "access_data.describe()"
   ]
  },
  {
   "cell_type": "markdown",
   "id": "78a746dd-11ed-4327-9130-134a255426b6",
   "metadata": {},
   "source": [
    "## 데이터 전처리"
   ]
  },
  {
   "cell_type": "markdown",
   "id": "36538da0-2e84-4f96-a6b5-46d561e90c48",
   "metadata": {
    "tags": []
   },
   "source": [
    "- 커뮤니티 참여를 기준으로 알아보고자 한다."
   ]
  },
  {
   "cell_type": "code",
   "execution_count": 299,
   "id": "4dc81642-47b8-471b-93f8-0f78fd6489e9",
   "metadata": {
    "tags": []
   },
   "outputs": [
    {
     "data": {
      "text/plain": [
       "community_engagement_level\n",
       "1     559\n",
       "2    1219\n",
       "3    1588\n",
       "4    2070\n",
       "5    4564\n",
       "Name: user_id, dtype: int64"
      ]
     },
     "execution_count": 299,
     "metadata": {},
     "output_type": "execute_result"
    }
   ],
   "source": [
    "# 1. 커뮤니티 참여도별 유저 수 구하기\n",
    "community_user = access_data.groupby('community_engagement_level')['user_id'].count()\n",
    "community_user"
   ]
  },
  {
   "cell_type": "code",
   "execution_count": 297,
   "id": "847e72ce-19e9-45e0-880f-5ccef9c188d6",
   "metadata": {
    "tags": []
   },
   "outputs": [
    {
     "data": {
      "text/plain": [
       "community_engagement_level\n",
       "1    12.688730\n",
       "2    12.755537\n",
       "3    12.112720\n",
       "4    12.653623\n",
       "5    12.573181\n",
       "Name: monthly_active_learning_days, dtype: float64"
      ]
     },
     "execution_count": 297,
     "metadata": {},
     "output_type": "execute_result"
    }
   ],
   "source": [
    "# 2. 커뮤니티 참여도별 월간 활동적인 학습 일수 평균 구하기\n",
    "community_act = access_data.groupby('community_engagement_level')['monthly_active_learning_days'].mean()\n",
    "community_act"
   ]
  },
  {
   "cell_type": "code",
   "execution_count": 301,
   "id": "7ed6434a-5e85-4593-b81e-7b7bc7228c03",
   "metadata": {
    "tags": []
   },
   "outputs": [
    {
     "data": {
      "text/plain": [
       "community_engagement_level\n",
       "1     9.919499\n",
       "2    11.047580\n",
       "3    11.351385\n",
       "4    12.255072\n",
       "5    13.117660\n",
       "Name: total_completed_courses, dtype: float64"
      ]
     },
     "execution_count": 301,
     "metadata": {},
     "output_type": "execute_result"
    }
   ],
   "source": [
    "# 3. 커뮤니티 참여도별 완료한 총 코스 수 평균 구하기\n",
    "community_completed = access_data.groupby('community_engagement_level')['total_completed_courses'].mean()\n",
    "community_completed"
   ]
  },
  {
   "cell_type": "code",
   "execution_count": 303,
   "id": "cbdb452e-808d-4bd6-823a-89e52289e0ab",
   "metadata": {
    "tags": []
   },
   "outputs": [
    {
     "data": {
      "text/plain": [
       "community_engagement_level\n",
       "1    74.820052\n",
       "2    74.782313\n",
       "3    75.426017\n",
       "4    75.133346\n",
       "5    74.936138\n",
       "Name: recent_learning_achievement, dtype: float64"
      ]
     },
     "execution_count": 303,
     "metadata": {},
     "output_type": "execute_result"
    }
   ],
   "source": [
    "# 4. 커뮤니티 참여도별 최근 학습 성취도 구하기\n",
    "community_achievement = access_data.groupby('community_engagement_level')['recent_learning_achievement'].mean()\n",
    "community_achievement"
   ]
  },
  {
   "cell_type": "markdown",
   "id": "2baf3d60-6b1c-43dc-9e88-3a05af2f39c4",
   "metadata": {},
   "source": [
    "- 타겟별로 알아보자"
   ]
  },
  {
   "cell_type": "code",
   "execution_count": 329,
   "id": "3abc6342-6fef-4e79-b9e0-5d8f23d9863f",
   "metadata": {
    "tags": []
   },
   "outputs": [
    {
     "data": {
      "text/plain": [
       "target\n",
       "0    3801\n",
       "1    6199\n",
       "Name: user_id, dtype: int64"
      ]
     },
     "execution_count": 329,
     "metadata": {},
     "output_type": "execute_result"
    }
   ],
   "source": [
    "# 1. 타겟별 유저 수 구하기\n",
    "target_user = access_data.groupby('target')['user_id'].count()\n",
    "target_user"
   ]
  },
  {
   "cell_type": "code",
   "execution_count": 331,
   "id": "acfa4dc5-c828-4933-a679-4e7752088ee4",
   "metadata": {
    "tags": []
   },
   "outputs": [
    {
     "data": {
      "text/plain": [
       "target\n",
       "0    12.502236\n",
       "1    12.571866\n",
       "Name: monthly_active_learning_days, dtype: float64"
      ]
     },
     "execution_count": 331,
     "metadata": {},
     "output_type": "execute_result"
    }
   ],
   "source": [
    "# 2. 타겟별 월간 활동적인 학습 일수 평균 구하기\n",
    "target_act = access_data.groupby('target')['monthly_active_learning_days'].mean()\n",
    "target_act"
   ]
  },
  {
   "cell_type": "code",
   "execution_count": 333,
   "id": "c9aba921-4f47-4d28-9533-b432498bebaf",
   "metadata": {
    "tags": []
   },
   "outputs": [
    {
     "data": {
      "text/plain": [
       "target\n",
       "0    12.246251\n",
       "1    12.216003\n",
       "Name: total_completed_courses, dtype: float64"
      ]
     },
     "execution_count": 333,
     "metadata": {},
     "output_type": "execute_result"
    }
   ],
   "source": [
    "# 3. 완료한 총 코스 수 평균 구하기\n",
    "targe_completed = access_data.groupby('target')['total_completed_courses'].mean()\n",
    "targe_completed"
   ]
  },
  {
   "cell_type": "code",
   "execution_count": 335,
   "id": "28676352-0682-45c9-896e-6fb1d1206860",
   "metadata": {
    "tags": []
   },
   "outputs": [
    {
     "data": {
      "text/plain": [
       "target\n",
       "0    75.000310\n",
       "1    75.047419\n",
       "Name: recent_learning_achievement, dtype: float64"
      ]
     },
     "execution_count": 335,
     "metadata": {},
     "output_type": "execute_result"
    }
   ],
   "source": [
    "# 4. 최근 학습 성취도 평균 구하기\n",
    "targe_achievement = access_data.groupby('target')['recent_learning_achievement'].mean()\n",
    "targe_achievement"
   ]
  },
  {
   "cell_type": "markdown",
   "id": "f81ae5c7-e7ba-4060-bef1-5c5124f7c31f",
   "metadata": {
    "tags": []
   },
   "source": [
    "## 커뮤니티별 그래프로 시각화 해보기"
   ]
  },
  {
   "cell_type": "code",
   "execution_count": 369,
   "id": "af824366-fc34-42e7-8d1a-5839270efabd",
   "metadata": {
    "tags": []
   },
   "outputs": [
    {
     "data": {
      "image/png": "[encoded data removed]",
      "text/plain": [
       "<Figure size 400x300 with 1 Axes>"
      ]
     },
     "metadata": {},
     "output_type": "display_data"
    },
    {
     "data": {
      "image/png": "[encoded data removed]",
      "text/plain": [
       "<Figure size 400x300 with 1 Axes>"
      ]
     },
     "metadata": {},
     "output_type": "display_data"
    },
    {
     "data": {
      "image/png": "[encoded data removed]",
      "text/plain": [
       "<Figure size 400x300 with 1 Axes>"
      ]
     },
     "metadata": {},
     "output_type": "display_data"
    },
    {
     "data": {
      "image/png": "[encoded data removed]",
      "text/plain": [
       "<Figure size 400x300 with 1 Axes>"
      ]
     },
     "metadata": {},
     "output_type": "display_data"
    }
   ],
   "source": [
    "# 1. 커뮤니티 참여도별 유저 수\n",
    "\n",
    "plt.figure(figsize=(4,3))\n",
    "\n",
    "#그래프 x축 y축\n",
    "plt.bar(community_user.index, community_user.values)\n",
    "\n",
    "#그래프 명\n",
    "plt.title('커뮤니티 참여도별 유저 수')\n",
    "\n",
    "plt.xlabel('참여 레벨')\n",
    "plt.ylabel('유저 수')\n",
    "plt.xticks()\n",
    "plt.show()\n",
    "\n",
    "\n",
    "# 2. 커뮤니티 참여도별 월간 활동적인 학습 일수\n",
    "\n",
    "plt.figure(figsize=(4,3))\n",
    "\n",
    "#그래프 x축 y축\n",
    "plt.bar(community_act.index, community_act.values)\n",
    "\n",
    "#그래프 명\n",
    "plt.title('커뮤니티 참여도별 평균 월간 활동적인 학습 일수')\n",
    "\n",
    "plt.xlabel('참여 레벨')\n",
    "plt.ylabel('학습 일수')\n",
    "plt.xticks()\n",
    "plt.show()\n",
    "\n",
    "\n",
    "# 3. 커뮤니티 참여도별 완료한 총 코스 수\n",
    "\n",
    "plt.figure(figsize=(4,3))\n",
    "\n",
    "#그래프 x축 y축\n",
    "plt.bar(community_monact.index, community_monact.values)\n",
    "\n",
    "#그래프 명\n",
    "plt.title('커뮤니티 참여도별 완료한 평균 총 코스 수')\n",
    "\n",
    "\n",
    "plt.xlabel('참여 레벨')\n",
    "plt.ylabel('코스 수')\n",
    "plt.xticks()\n",
    "plt.show()\n",
    "\n",
    "\n",
    "# 4. 커뮤니티 참여도별 최근 학습 성취도\n",
    "\n",
    "plt.figure(figsize=(4,3))\n",
    "\n",
    "#그래프 x축 y축\n",
    "plt.bar(community_achievement.index, community_achievement.values)\n",
    "\n",
    "#그래프 명\n",
    "plt.title('커뮤니티 참여도별 평균 최근 학습 성취도')\n",
    "\n",
    "plt.xlabel('참여 레벨')\n",
    "plt.ylabel('학습 성취도')\n",
    "plt.xticks()\n",
    "plt.show()"
   ]
  },
  {
   "cell_type": "markdown",
   "id": "404dc034-a7ea-4133-972e-d2b0dfa004c0",
   "metadata": {},
   "source": [
    "커뮤니티 참여도가 5수준의 그룹의 유저수가 월등히 많으나 학습 일수, 완료한 코스, 학습 성취도상 참여 레벨별로 큰 차이가 보이지 않았다. 다른 분석이 추가적으로 필요해 보인다."
   ]
  },
  {
   "cell_type": "markdown",
   "id": "de4d774c-3592-4976-9975-15e0d4ecb68a",
   "metadata": {},
   "source": [
    "## target별 그래프로 시각화 해보기"
   ]
  },
  {
   "cell_type": "code",
   "execution_count": 402,
   "id": "f751e2b1-d5c7-4912-8de6-ee7f3b97c3a7",
   "metadata": {
    "tags": []
   },
   "outputs": [
    {
     "data": {
      "image/png": "[encoded data removed]",
      "text/plain": [
       "<Figure size 400x300 with 1 Axes>"
      ]
     },
     "metadata": {},
     "output_type": "display_data"
    },
    {
     "data": {
      "image/png": "[encoded data removed]",
      "text/plain": [
       "<Figure size 400x300 with 1 Axes>"
      ]
     },
     "metadata": {},
     "output_type": "display_data"
    },
    {
     "data": {
      "image/png": "[encoded data removed]",
      "text/plain": [
       "<Figure size 400x300 with 1 Axes>"
      ]
     },
     "metadata": {},
     "output_type": "display_data"
    },
    {
     "data": {
      "image/png": "[encoded data removed]",
      "text/plain": [
       "<Figure size 400x300 with 1 Axes>"
      ]
     },
     "metadata": {},
     "output_type": "display_data"
    }
   ],
   "source": [
    "# 1. 타겟별 유저 수\n",
    "\n",
    "plt.figure(figsize=(4,3))\n",
    "\n",
    "#그래프 x축 y축\n",
    "plt.bar(target_user.index, target_user.values)\n",
    "\n",
    "#그래프 명\n",
    "plt.title('타겟별 유저 수')\n",
    "\n",
    "plt.xlabel('Traget')\n",
    "plt.ylabel('유저 수')\n",
    "plt.xticks([0, 1])\n",
    "plt.show()\n",
    "\n",
    "\n",
    "# 2. 타겟별 월간 활동적인 학습 일수\n",
    "\n",
    "plt.figure(figsize=(4,3))\n",
    "\n",
    "#그래프 x축 y축\n",
    "plt.bar(target_act.index, target_act.values)\n",
    "\n",
    "#그래프 명\n",
    "plt.title('타겟별 월간 활동적인 학습 일수')\n",
    "\n",
    "plt.xlabel('Traget')\n",
    "plt.ylabel('학습 일수')\n",
    "plt.xticks([0, 1])\n",
    "plt.show()\n",
    "\n",
    "\n",
    "# 3. 타겟별 완료한 총 코스 수\n",
    "\n",
    "plt.figure(figsize=(4,3))\n",
    "\n",
    "#그래프 x축 y축\n",
    "plt.bar(targe_completed.index, targe_completed.values)\n",
    "\n",
    "#그래프 명\n",
    "plt.title('타겟별 완료한 총 코스 수')\n",
    "\n",
    "\n",
    "plt.xlabel('Traget')\n",
    "plt.ylabel('코스 수')\n",
    "plt.xticks([0, 1])\n",
    "plt.show()\n",
    "\n",
    "\n",
    "# 4. 타겟별 최근 학습 성취도\n",
    "\n",
    "plt.figure(figsize=(4,3))\n",
    "#그래프 x축 y축\n",
    "plt.bar(targe_achievement.index, targe_achievement.values)\n",
    "\n",
    "#그래프 명\n",
    "plt.title('타겟별 최근 학습 성취도')\n",
    "\n",
    "plt.xlabel('Traget')\n",
    "plt.ylabel('학습 성취도')\n",
    "plt.xticks([0, 1])\n",
    "plt.show()"
   ]
  },
  {
   "cell_type": "markdown",
   "id": "053ab7a1-086e-4740-8c55-a18e31222857",
   "metadata": {
    "tags": []
   },
   "source": [
    "위와 동일한 기준으로 타겟별로 살펴 보았으나 이렇게 하면 제대로 그래프가 안 보인다.   \n",
    "target1과0을 나눠서 다시 살펴보자."
   ]
  },
  {
   "cell_type": "code",
   "execution_count": 499,
   "id": "5994dc16-5964-4479-99a0-55e29b4172d6",
   "metadata": {
    "tags": []
   },
   "outputs": [],
   "source": [
    "#커뮤니티 참여도별 target\n",
    "\n",
    "community_engagement_target_1 = access_data[access_data['target'] == 1].groupby('community_engagement_level').size()\n",
    "community_engagement_target_0 = access_data[access_data['target'] == 0].groupby('community_engagement_level').size()\n"
   ]
  },
  {
   "cell_type": "code",
   "execution_count": 501,
   "id": "9fe1b1d5-6a4a-4431-909f-33cf67d045e8",
   "metadata": {
    "tags": []
   },
   "outputs": [
    {
     "data": {
      "text/plain": [
       "community_engagement_level\n",
       "1     348\n",
       "2     751\n",
       "3     968\n",
       "4    1265\n",
       "5    2867\n",
       "dtype: int64"
      ]
     },
     "execution_count": 501,
     "metadata": {},
     "output_type": "execute_result"
    }
   ],
   "source": [
    "community_engagement_target_1"
   ]
  },
  {
   "cell_type": "code",
   "execution_count": 503,
   "id": "9fd012ea-9fd8-44f8-9c77-58a8637ba52e",
   "metadata": {
    "tags": []
   },
   "outputs": [
    {
     "data": {
      "text/plain": [
       "community_engagement_level\n",
       "1     211\n",
       "2     468\n",
       "3     620\n",
       "4     805\n",
       "5    1697\n",
       "dtype: int64"
      ]
     },
     "execution_count": 503,
     "metadata": {},
     "output_type": "execute_result"
    }
   ],
   "source": [
    "community_engagement_target_0"
   ]
  },
  {
   "cell_type": "code",
   "execution_count": 564,
   "id": "7b40033a-c18e-4bd5-b682-f86e71729fa2",
   "metadata": {
    "tags": []
   },
   "outputs": [
    {
     "data": {
      "image/png": "[encoded data removed]",
      "text/plain": [
       "<Figure size 500x400 with 1 Axes>"
      ]
     },
     "metadata": {},
     "output_type": "display_data"
    }
   ],
   "source": [
    "# 막대 그래프로 시각화\n",
    "plt.figure(figsize=(5, 4))\n",
    "\n",
    "# Target 1 막대 그래프\n",
    "plt.bar(community_engagement_target_1.index - 0.2, community_engagement_target_1.values, width=0.4, label='Target 1', color='#99ccff')\n",
    "\n",
    "# Target 0 막대 그래프\n",
    "plt.bar(community_engagement_target_0.index + 0.2, community_engagement_target_0.values, width=0.4, label='Target 0', color='#e35f62')\n",
    "\n",
    "# X 축 눈금 조정\n",
    "\n",
    "plt.title('타겟별 커뮤니티 참여')\n",
    "plt.xlabel('커뮤니티 참여 레벨')\n",
    "plt.ylabel('유저 수', labelpad=35, rotation=360)\n",
    "plt.legend()\n",
    "plt.grid(True)\n",
    "plt.show()"
   ]
  },
  {
   "cell_type": "markdown",
   "id": "947ff6ce-e227-4c11-a7ef-35cab7e12e5f",
   "metadata": {},
   "source": [
    "- 위와 같이 나눠서 target의 두 그룹을 비교하면서 더 알아보자."
   ]
  },
  {
   "cell_type": "code",
   "execution_count": 529,
   "id": "8c35f040-6a8c-4c6d-bf0e-9ed263841937",
   "metadata": {},
   "outputs": [],
   "source": [
    "# 타겟별 월간 활동적인 학습 일수\n",
    "\n",
    "monthly_active_learning_days_target_1 = access_data[access_data['target'] == 1].groupby('monthly_active_learning_days').size()\n",
    "monthly_active_learning_days_target_0 = access_data[access_data['target'] == 0].groupby('monthly_active_learning_days').size()\n"
   ]
  },
  {
   "cell_type": "code",
   "execution_count": 531,
   "id": "8088e1b5-48b4-46e2-9d36-21cb55b016c9",
   "metadata": {},
   "outputs": [
    {
     "data": {
      "image/png": "[encoded data removed]",
      "text/plain": [
       "<Figure size 500x400 with 1 Axes>"
      ]
     },
     "metadata": {},
     "output_type": "display_data"
    }
   ],
   "source": [
    "# 막대 그래프로 시각화\n",
    "plt.figure(figsize=(5, 4))\n",
    "\n",
    "# Target 1 막대 그래프\n",
    "plt.bar(monthly_active_learning_days_target_1.index - 0.2, monthly_active_learning_days_target_1.values, width=0.4, label='Target 1', color='#99ccff')\n",
    "\n",
    "# Target 0 막대 그래프\n",
    "plt.bar(monthly_active_learning_days_target_0.index + 0.2, monthly_active_learning_days_target_0.values, width=0.4, label='Target 0', color='#e35f62')\n",
    "\n",
    "# X 축 눈금 조정\n",
    "\n",
    "plt.title('타겟별 활동적인 학습 일수')\n",
    "plt.xlabel('학습 일수')\n",
    "plt.ylabel('유저 수', labelpad=35, rotation=360)\n",
    "plt.legend()\n",
    "plt.grid(True)\n",
    "plt.show()"
   ]
  },
  {
   "cell_type": "code",
   "execution_count": 547,
   "id": "588bbbec-8a0e-41b5-a8c6-e8b0519c8c93",
   "metadata": {},
   "outputs": [],
   "source": [
    "# 타겟별 완료한 총 코스 수\n",
    "\n",
    "total_completed_coursest_target_1 = access_data[access_data['target'] == 1].groupby('total_completed_courses').size()\n",
    "total_completed_coursest_target_0 = access_data[access_data['target'] == 0].groupby('total_completed_courses').size()"
   ]
  },
  {
   "cell_type": "code",
   "execution_count": 555,
   "id": "5d70c164-7755-4451-97f8-424f3c6aa554",
   "metadata": {},
   "outputs": [
    {
     "data": {
      "image/png": "[encoded data removed]",
      "text/plain": [
       "<Figure size 500x400 with 1 Axes>"
      ]
     },
     "metadata": {},
     "output_type": "display_data"
    }
   ],
   "source": [
    "# 막대 그래프로 시각화\n",
    "plt.figure(figsize=(5, 4))\n",
    "\n",
    "# Target 1 막대 그래프\n",
    "plt.bar(total_completed_coursest_target_1.index - 0.2, total_completed_coursest_target_1.values, width=0.4, label='Target 1', color='#99ccff')\n",
    "\n",
    "# Target 0 막대 그래프\n",
    "plt.bar(total_completed_coursest_target_0.index + 0.2, total_completed_coursest_target_0.values, width=0.4, label='Target 0', color='#e35f62')\n",
    "\n",
    "# X 축 눈금 조정\n",
    "plt.title('타겟별 커뮤니티 참여도')\n",
    "plt.xlabel('참여도')\n",
    "plt.ylabel('유저 수', labelpad=35, rotation=360)\n",
    "plt.legend()\n",
    "plt.grid(True)\n",
    "plt.show()"
   ]
  },
  {
   "cell_type": "markdown",
   "id": "ca164aa2-d78e-46dc-9e5c-96084060a84e",
   "metadata": {},
   "source": [
    "target 두 그룹의 전체 사용자의 비율에 따른 차이만 보일뿐 유의미한 분석이 아직 보이질 않는다. 위의 가설로 돌아가서 구독연장을 기준으로 데이터를 분석해보자.\n",
    "\n",
    "- 가설 설정   \n",
    "    1. 사용자가 학습 플랫폼을 많이 이용할수록 구독을 연장할 가능성이 높다.\n",
    "         - 월간 활동적인 학습 일수, 완료한 총 코스 수, 평균 학습 세션 시간 등이 높을수록 구독 연장 확률이 높다.\n",
    "\n",
    "    2. 커뮤니티 참여도가 높을수록 구독을 연장할 가능성이 높다.\n"
   ]
  },
  {
   "cell_type": "code",
   "execution_count": 620,
   "id": "739dfed5-f606-4ece-8fe3-9270008a0266",
   "metadata": {
    "tags": []
   },
   "outputs": [
    {
     "data": {
      "image/png": "[encoded data removed]",
      "text/plain": [
       "<Figure size 500x300 with 1 Axes>"
      ]
     },
     "metadata": {},
     "output_type": "display_data"
    },
    {
     "data": {
      "image/png": "[encoded data removed]",
      "text/plain": [
       "<Figure size 500x300 with 1 Axes>"
      ]
     },
     "metadata": {},
     "output_type": "display_data"
    },
    {
     "data": {
      "image/png": "[encoded data removed]",
      "text/plain": [
       "<Figure size 500x300 with 1 Axes>"
      ]
     },
     "metadata": {},
     "output_type": "display_data"
    }
   ],
   "source": [
    "#가설1. 사용자가 학습 플랫폼을 많이 이용할수록 구독을 연장할 가능성이 높다.\n",
    "#         월간 활동적인 학습 일수, 완료한 총 코스 수, 평균 학습 세션 시간 등이 높을수록 구독 연장 확률이 높다.\n",
    "\n",
    "# 월간 활동적인 학습 일수 vs. 구독 연장\n",
    "plt.figure(figsize=(5, 3))\n",
    "sns.boxplot(x='target', y='monthly_active_learning_days', data=access_data)\n",
    "plt.title('월간 활동적인 학습 일수 vs 구독 연장')\n",
    "plt.show()\n",
    "\n",
    "# 완료한 총 코스 수 vs. 구독 연장\n",
    "plt.figure(figsize=(5, 3))\n",
    "sns.boxplot(x='target', y='total_completed_courses', data=access_data)\n",
    "plt.title('완료한 총 코스 수 vs 구독 연장')\n",
    "plt.show()\n",
    "\n",
    "# 평균 학습 세션 시간 vs. 구독 연장\n",
    "plt.figure(figsize=(5, 3))\n",
    "sns.boxplot(x='target', y='average_time_per_learning_session', data=access_data)\n",
    "plt.title('평균 학습 세션 시간 vs 구독 연장')\n",
    "plt.show()"
   ]
  },
  {
   "cell_type": "code",
   "execution_count": 617,
   "id": "bf1056ec-0039-4a00-82c0-305073eccf49",
   "metadata": {
    "tags": []
   },
   "outputs": [
    {
     "data": {
      "image/png": "[encoded data removed]",
      "text/plain": [
       "<Figure size 500x300 with 1 Axes>"
      ]
     },
     "metadata": {},
     "output_type": "display_data"
    }
   ],
   "source": [
    "# 가설2. 커뮤니티 참여도 vs. 구독 연장\n",
    "plt.figure(figsize=(5,3))\n",
    "sns.boxplot(x='target', y='community_engagement_level', data=access_data)\n",
    "plt.title('커뮤니티 참여도 vs 구독 연장')\n",
    "plt.show()"
   ]
  },
  {
   "cell_type": "markdown",
   "id": "28b5d154-1f97-4bd7-a76a-fdfefc547e68",
   "metadata": {},
   "source": [
    "결론\n",
    "\n",
    "가설을 검증하는 데이터가 나오길 기대했으나,   \n",
    "대부분의 데이터에서는 target 두 그룹의 유저가 비슷한 양상을 보였고, 뚜렷한 차이점을 발견 할 수 없었다.   \n",
    "커뮤니티 레벨이 단계가 높을수록 유저 수도 많았는데, 더 높은 레벨을 만들어 인플루언서 같은 제도를 둬도 재밌을것 같다.\n",
    "\n",
    "구독 연장을 기준으로 한 데이터에서는 유일하게   \n",
    "평균 학습 세션 시간에 따른 차이가 눈에 띄였는데 학습 시간이 구독에 유의미한 결과를 보여주고 있다.\n",
    "따라서 학습시간별 보상이 이루어 지면 전체적으로 학습 시간이 올라가고, 따라서 구독을 유지하는 유저가 늘어날 것으로 기대된다.\n",
    "\n",
    "     \n",
    "   \n",
    "아래는 내가 원했던 결론이었으나 원하는만큼 분석, 도출하진 못했다.   \n",
    "꾸준한 데이터 수집과 AB테스트 등이 필요하다.\n",
    "- 활동적인 학습 일수, 커뮤니티 참여도가 높은 유저는 구독을 연장할 가능성이 높다.\n",
    "- 최근 학습 성취도가 높은 유저는 구독을 연장할 가능성이 높다.\n",
    "- 따라서 커뮤니티 참여도에 따른 보상으로 인해 유저의 참여도를 더 높이는 방안을 마련해야 한다.\n",
    "\n",
    "\n",
    "매우 미흡하고 두서없었지만\n",
    "이상입니다."
   ]
  }
 ],
 "metadata": {
  "kernelspec": {
   "display_name": "Python 3 (ipykernel)",
   "language": "python",
   "name": "python3"
  },
  "language_info": {
   "codemirror_mode": {
    "name": "ipython",
    "version": 3
   },
   "file_extension": ".py",
   "mimetype": "text/x-python",
   "name": "python",
   "nbconvert_exporter": "python",
   "pygments_lexer": "ipython3",
   "version": "3.11.7"
  }
 },
 "nbformat": 4,
 "nbformat_minor": 5
}
