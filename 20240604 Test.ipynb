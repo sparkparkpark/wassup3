{
 "cells": [
  {
   "cell_type": "code",
   "execution_count": 2,
   "id": "6d51ba17",
   "metadata": {},
   "outputs": [
    {
     "name": "stdout",
     "output_type": "stream",
     "text": [
      "hello world\n"
     ]
    }
   ],
   "source": [
    "print(\"hello world\")"
   ]
  },
  {
   "cell_type": "markdown",
   "id": "4b62a5e4",
   "metadata": {},
   "source": [
    "markdown"
   ]
  },
  {
   "cell_type": "markdown",
   "id": "b22bb879-7d43-4a5f-bbac-4e7f019936fd",
   "metadata": {},
   "source": [
    "pip install jupyter_nbextensions_configurator jupyter_contrib_nbextensionsd"
   ]
  },
  {
   "cell_type": "code",
   "execution_count": null,
   "id": "081fd290",
   "metadata": {},
   "outputs": [],
   "source": []
  }
 ],
 "metadata": {
  "kernelspec": {
   "display_name": "Python 3 (ipykernel)",
   "language": "python",
   "name": "python3"
  },
  "language_info": {
   "codemirror_mode": {
    "name": "ipython",
    "version": 3
   },
   "file_extension": ".py",
   "mimetype": "text/x-python",
   "name": "python",
   "nbconvert_exporter": "python",
   "pygments_lexer": "ipython3",
   "version": "3.11.7"
  }
 },
 "nbformat": 4,
 "nbformat_minor": 5
}
