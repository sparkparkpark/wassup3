{
 "cells": [
  {
   "cell_type": "markdown",
   "id": "018e1a71-a500-40f2-bfdd-248d03722156",
   "metadata": {
    "jp-MarkdownHeadingCollapsed": true,
    "tags": [],
    "toc-hr-collapsed": true
   },
   "source": [
    "# 숫자 자료형"
   ]
  },
  {
   "cell_type": "code",
   "execution_count": 7,
   "id": "dc4b0fdc-8da3-4288-a7ec-4dcc87404db9",
   "metadata": {
    "tags": []
   },
   "outputs": [],
   "source": [
    "a = 123"
   ]
  },
  {
   "cell_type": "code",
   "execution_count": 9,
   "id": "67f3eb43-2c08-4b99-94e4-5c613bb62c66",
   "metadata": {
    "tags": []
   },
   "outputs": [
    {
     "data": {
      "text/plain": [
       "123"
      ]
     },
     "execution_count": 9,
     "metadata": {},
     "output_type": "execute_result"
    }
   ],
   "source": [
    "a"
   ]
  },
  {
   "cell_type": "code",
   "execution_count": 11,
   "id": "6dbd1446-b1b6-417e-8792-d3ba064570dd",
   "metadata": {
    "tags": []
   },
   "outputs": [
    {
     "data": {
      "text/plain": [
       "-178"
      ]
     },
     "execution_count": 11,
     "metadata": {},
     "output_type": "execute_result"
    }
   ],
   "source": [
    "a = -178\n",
    "a"
   ]
  },
  {
   "cell_type": "code",
   "execution_count": 13,
   "id": "11525a15-20e8-4bd6-8bac-c6ee6368454b",
   "metadata": {
    "tags": []
   },
   "outputs": [
    {
     "data": {
      "text/plain": [
       "0"
      ]
     },
     "execution_count": 13,
     "metadata": {},
     "output_type": "execute_result"
    }
   ],
   "source": [
    "a = 0 \n",
    "a"
   ]
  },
  {
   "cell_type": "code",
   "execution_count": 15,
   "id": "c4f90379-5fd5-4cff-9de4-b567c878b9c8",
   "metadata": {
    "tags": []
   },
   "outputs": [
    {
     "data": {
      "text/plain": [
       "-1.1"
      ]
     },
     "execution_count": 15,
     "metadata": {},
     "output_type": "execute_result"
    }
   ],
   "source": [
    "a = -1.1\n",
    "a"
   ]
  },
  {
   "cell_type": "code",
   "execution_count": 17,
   "id": "abd6a0bf-af59-4612-9163-e731a2465419",
   "metadata": {
    "tags": []
   },
   "outputs": [
    {
     "data": {
      "text/plain": [
       "42400000000.0"
      ]
     },
     "execution_count": 17,
     "metadata": {},
     "output_type": "execute_result"
    }
   ],
   "source": [
    "a = 4.24E10\n",
    "a"
   ]
  },
  {
   "cell_type": "code",
   "execution_count": 19,
   "id": "df9fc8b5-ff10-4d6a-9e26-7de8137967da",
   "metadata": {
    "tags": []
   },
   "outputs": [
    {
     "data": {
      "text/plain": [
       "4.24e-10"
      ]
     },
     "execution_count": 19,
     "metadata": {},
     "output_type": "execute_result"
    }
   ],
   "source": [
    "a = 4.24E-10\n",
    "a"
   ]
  },
  {
   "cell_type": "code",
   "execution_count": 21,
   "id": "8481afd3-10f4-41f8-bf94-19c50de1e166",
   "metadata": {
    "tags": []
   },
   "outputs": [
    {
     "data": {
      "text/plain": [
       "9"
      ]
     },
     "execution_count": 21,
     "metadata": {},
     "output_type": "execute_result"
    }
   ],
   "source": [
    "a = 0o011\n",
    "a"
   ]
  },
  {
   "cell_type": "code",
   "execution_count": 23,
   "id": "3311b66e-0c64-4e30-89c8-fda69b1ed447",
   "metadata": {
    "tags": []
   },
   "outputs": [
    {
     "data": {
      "text/plain": [
       "2303"
      ]
     },
     "execution_count": 23,
     "metadata": {},
     "output_type": "execute_result"
    }
   ],
   "source": [
    "a = 0x8ff\n",
    "a"
   ]
  },
  {
   "cell_type": "markdown",
   "id": "f91bfd18-5d28-426a-b830-954fe915ae27",
   "metadata": {},
   "source": [
    "## 사칙 연산"
   ]
  },
  {
   "cell_type": "code",
   "execution_count": 27,
   "id": "0e97abb4-0e81-4b5c-b438-c4f0425139f7",
   "metadata": {
    "tags": []
   },
   "outputs": [
    {
     "data": {
      "text/plain": [
       "7"
      ]
     },
     "execution_count": 27,
     "metadata": {},
     "output_type": "execute_result"
    }
   ],
   "source": [
    "a = 3\n",
    "b = 4\n",
    "a + b"
   ]
  },
  {
   "cell_type": "code",
   "execution_count": 29,
   "id": "b53ae7d9-5c41-4d96-a971-e72762f64bed",
   "metadata": {
    "tags": []
   },
   "outputs": [
    {
     "data": {
      "text/plain": [
       "-1"
      ]
     },
     "execution_count": 29,
     "metadata": {},
     "output_type": "execute_result"
    }
   ],
   "source": [
    "a-b"
   ]
  },
  {
   "cell_type": "code",
   "execution_count": 31,
   "id": "79677517-8a25-450a-8dfd-655403383339",
   "metadata": {
    "tags": []
   },
   "outputs": [
    {
     "data": {
      "text/plain": [
       "12"
      ]
     },
     "execution_count": 31,
     "metadata": {},
     "output_type": "execute_result"
    }
   ],
   "source": [
    "a*b"
   ]
  },
  {
   "cell_type": "markdown",
   "id": "e8e08af7-3821-4b91-ad1c-da6434a4fc99",
   "metadata": {
    "tags": []
   },
   "source": [
    "## 제곱 연산"
   ]
  },
  {
   "cell_type": "code",
   "execution_count": 36,
   "id": "2f571f98-69bc-4c8c-8d48-84ed7a24ad31",
   "metadata": {
    "tags": []
   },
   "outputs": [
    {
     "data": {
      "text/plain": [
       "81"
      ]
     },
     "execution_count": 36,
     "metadata": {},
     "output_type": "execute_result"
    }
   ],
   "source": [
    "a ** b"
   ]
  },
  {
   "cell_type": "markdown",
   "id": "07857374-38b1-4586-9715-5dc5b8f1f34f",
   "metadata": {
    "tags": []
   },
   "source": [
    "## 나눗셈 나머지 연산"
   ]
  },
  {
   "cell_type": "code",
   "execution_count": 39,
   "id": "2dc0270a-e432-46d2-8855-1275695630f0",
   "metadata": {
    "tags": []
   },
   "outputs": [
    {
     "data": {
      "text/plain": [
       "1"
      ]
     },
     "execution_count": 39,
     "metadata": {},
     "output_type": "execute_result"
    }
   ],
   "source": [
    "7 % 3"
   ]
  },
  {
   "cell_type": "code",
   "execution_count": 41,
   "id": "5a2443f8-e077-4089-b184-3c3c68460f21",
   "metadata": {
    "tags": []
   },
   "outputs": [
    {
     "data": {
      "text/plain": [
       "3"
      ]
     },
     "execution_count": 41,
     "metadata": {},
     "output_type": "execute_result"
    }
   ],
   "source": [
    "3 % 7"
   ]
  },
  {
   "cell_type": "markdown",
   "id": "aac07ebd-7b97-46ab-bcda-58654cd05b08",
   "metadata": {},
   "source": [
    "## 나눗셈 몫 연산"
   ]
  },
  {
   "cell_type": "code",
   "execution_count": 44,
   "id": "8f524b06-5ae8-4530-abba-7ffa8f779aea",
   "metadata": {
    "tags": []
   },
   "outputs": [
    {
     "data": {
      "text/plain": [
       "1"
      ]
     },
     "execution_count": 44,
     "metadata": {},
     "output_type": "execute_result"
    }
   ],
   "source": [
    "7//4"
   ]
  },
  {
   "cell_type": "code",
   "execution_count": 46,
   "id": "397211e6-66ee-4f66-a888-d1e7c47d809b",
   "metadata": {
    "tags": []
   },
   "outputs": [
    {
     "data": {
      "text/plain": [
       "1.75"
      ]
     },
     "execution_count": 46,
     "metadata": {},
     "output_type": "execute_result"
    }
   ],
   "source": [
    "7/4"
   ]
  },
  {
   "cell_type": "markdown",
   "id": "1ad4d2ab-6918-44ee-b07c-465e0209165d",
   "metadata": {
    "tags": [],
    "toc-hr-collapsed": true
   },
   "source": [
    "# 문자열 자료형"
   ]
  },
  {
   "cell_type": "code",
   "execution_count": 54,
   "id": "f1fe8956-0a9a-43f4-a375-be1a724fc1c0",
   "metadata": {
    "tags": []
   },
   "outputs": [
    {
     "data": {
      "text/plain": [
       "'Hello world'"
      ]
     },
     "execution_count": 54,
     "metadata": {},
     "output_type": "execute_result"
    }
   ],
   "source": [
    "\"Hello world\""
   ]
  },
  {
   "cell_type": "code",
   "execution_count": 58,
   "id": "a636f5cd-28d8-42a5-920f-c19045d35ea4",
   "metadata": {
    "tags": []
   },
   "outputs": [
    {
     "data": {
      "text/plain": [
       "'Hello world'"
      ]
     },
     "execution_count": 58,
     "metadata": {},
     "output_type": "execute_result"
    }
   ],
   "source": [
    "'Hello world'"
   ]
  },
  {
   "cell_type": "code",
   "execution_count": 70,
   "id": "635101e0-5fa5-465d-8298-7cd1d3fe4445",
   "metadata": {
    "tags": []
   },
   "outputs": [
    {
     "data": {
      "text/plain": [
       "'\\nHello world\\n'"
      ]
     },
     "execution_count": 70,
     "metadata": {},
     "output_type": "execute_result"
    }
   ],
   "source": [
    "'''\n",
    "Hello world\n",
    "'''"
   ]
  },
  {
   "cell_type": "markdown",
   "id": "7883ddb8-073a-40ec-b4f8-ab95125527fa",
   "metadata": {
    "tags": []
   },
   "source": [
    "## 문자열 안에 작은 따음표나 큰 따음표를 포함시키고 싶을 때"
   ]
  },
  {
   "cell_type": "code",
   "execution_count": 81,
   "id": "f3d852ff-3e0d-43c0-8417-36cf2892c270",
   "metadata": {
    "tags": []
   },
   "outputs": [
    {
     "ename": "SyntaxError",
     "evalue": "unterminated string literal (detected at line 1) (272527429.py, line 1)",
     "output_type": "error",
     "traceback": [
      "\u001b[1;36m  Cell \u001b[1;32mIn[81], line 1\u001b[1;36m\u001b[0m\n\u001b[1;33m    Python's\u001b[0m\n\u001b[1;37m          ^\u001b[0m\n\u001b[1;31mSyntaxError\u001b[0m\u001b[1;31m:\u001b[0m unterminated string literal (detected at line 1)\n"
     ]
    }
   ],
   "source": [
    "Python's"
   ]
  },
  {
   "cell_type": "code",
   "execution_count": 83,
   "id": "47d313ed-8ebc-44a3-8fc0-800d15d563e7",
   "metadata": {
    "tags": []
   },
   "outputs": [
    {
     "ename": "SyntaxError",
     "evalue": "unterminated string literal (detected at line 1) (1715177011.py, line 1)",
     "output_type": "error",
     "traceback": [
      "\u001b[1;36m  Cell \u001b[1;32mIn[83], line 1\u001b[1;36m\u001b[0m\n\u001b[1;33m    'Python's hi'\u001b[0m\n\u001b[1;37m                ^\u001b[0m\n\u001b[1;31mSyntaxError\u001b[0m\u001b[1;31m:\u001b[0m unterminated string literal (detected at line 1)\n"
     ]
    }
   ],
   "source": [
    "'Python's hi'"
   ]
  },
  {
   "cell_type": "code",
   "execution_count": 85,
   "id": "b2fee420-4b6e-4dee-9546-1611e78ace64",
   "metadata": {
    "tags": []
   },
   "outputs": [
    {
     "data": {
      "text/plain": [
       "\"Python's hi\""
      ]
     },
     "execution_count": 85,
     "metadata": {},
     "output_type": "execute_result"
    }
   ],
   "source": [
    "\"Python's hi\""
   ]
  },
  {
   "cell_type": "code",
   "execution_count": 89,
   "id": "fa6826fb-a848-48dd-b5d2-ea3eac49bddb",
   "metadata": {
    "tags": []
   },
   "outputs": [
    {
     "data": {
      "text/plain": [
       "'\"Python hi\" haha.'"
      ]
     },
     "execution_count": 89,
     "metadata": {},
     "output_type": "execute_result"
    }
   ],
   "source": [
    "'\"Python hi\" haha.'"
   ]
  },
  {
   "cell_type": "code",
   "execution_count": 91,
   "id": "86404aa5-c4ae-415b-bc1d-3d3f4bf1fd86",
   "metadata": {
    "tags": []
   },
   "outputs": [
    {
     "data": {
      "text/plain": [
       "\"Python's favorite is haha\""
      ]
     },
     "execution_count": 91,
     "metadata": {},
     "output_type": "execute_result"
    }
   ],
   "source": [
    "'''Python's favorite is haha'''"
   ]
  },
  {
   "cell_type": "code",
   "execution_count": 93,
   "id": "3dc11c60-f48d-4c0d-b858-583674dc946e",
   "metadata": {
    "tags": []
   },
   "outputs": [
    {
     "data": {
      "text/plain": [
       "\"Python's favorite is haha\""
      ]
     },
     "execution_count": 93,
     "metadata": {},
     "output_type": "execute_result"
    }
   ],
   "source": [
    "'Python\\'s favorite is haha'"
   ]
  },
  {
   "cell_type": "code",
   "execution_count": 101,
   "id": "b9a4dbcd-6234-4cb8-8af6-a75ebb3025ce",
   "metadata": {
    "tags": []
   },
   "outputs": [],
   "source": [
    "multiline = \"haha is too \\n what\""
   ]
  },
  {
   "cell_type": "code",
   "execution_count": 103,
   "id": "628900d4-cf3d-4877-b2b8-e10a22ee4fe8",
   "metadata": {
    "tags": []
   },
   "outputs": [
    {
     "name": "stdout",
     "output_type": "stream",
     "text": [
      "haha is too \n",
      " what\n"
     ]
    }
   ],
   "source": [
    "print(multiline)"
   ]
  },
  {
   "cell_type": "code",
   "execution_count": 105,
   "id": "4a24dc1a-cf50-44dd-b90c-005923429e6a",
   "metadata": {
    "tags": []
   },
   "outputs": [],
   "source": [
    "mutliline = '''\n",
    "hahi\n",
    "what\n",
    "'''"
   ]
  },
  {
   "cell_type": "code",
   "execution_count": 107,
   "id": "1996f134-88f6-48d0-95e8-64d2db602aff",
   "metadata": {
    "tags": []
   },
   "outputs": [
    {
     "data": {
      "text/plain": [
       "'haha is too \\n what'"
      ]
     },
     "execution_count": 107,
     "metadata": {},
     "output_type": "execute_result"
    }
   ],
   "source": [
    "multiline"
   ]
  },
  {
   "cell_type": "code",
   "execution_count": 109,
   "id": "596349ee-c3e1-4189-a445-de3d843162c7",
   "metadata": {
    "tags": []
   },
   "outputs": [
    {
     "data": {
      "text/plain": [
       "'\\nhahi\\nwhat\\n'"
      ]
     },
     "execution_count": 109,
     "metadata": {},
     "output_type": "execute_result"
    }
   ],
   "source": [
    "mutliline"
   ]
  },
  {
   "cell_type": "code",
   "execution_count": 111,
   "id": "9be602f2-3740-4d7c-a93b-265edaf55395",
   "metadata": {
    "tags": []
   },
   "outputs": [
    {
     "name": "stdout",
     "output_type": "stream",
     "text": [
      "\n",
      "hahi\n",
      "what\n",
      "\n"
     ]
    }
   ],
   "source": [
    "print(mutliline)"
   ]
  },
  {
   "cell_type": "markdown",
   "id": "e2e42372-2e22-433e-b195-395645761c2d",
   "metadata": {},
   "source": [
    "## 문자열 연산하기"
   ]
  },
  {
   "cell_type": "code",
   "execution_count": 116,
   "id": "93b9a3a2-bc92-4646-9d11-56f58da32b56",
   "metadata": {},
   "outputs": [
    {
     "data": {
      "text/plain": [
       "'python is fun!'"
      ]
     },
     "execution_count": 116,
     "metadata": {},
     "output_type": "execute_result"
    }
   ],
   "source": [
    "head = \"python\"\n",
    "tail = \" is fun!\"\n",
    "head + tail"
   ]
  },
  {
   "cell_type": "code",
   "execution_count": 118,
   "id": "fab99b8d-eb39-4e04-a382-abef83ba66ec",
   "metadata": {},
   "outputs": [
    {
     "data": {
      "text/plain": [
       "'pythonpythonpythonpythonpython'"
      ]
     },
     "execution_count": 118,
     "metadata": {},
     "output_type": "execute_result"
    }
   ],
   "source": [
    "a = 'python'\n",
    "a * 5"
   ]
  },
  {
   "cell_type": "code",
   "execution_count": 120,
   "id": "2e5735ff-f9a6-4fad-8f2a-da029e85842c",
   "metadata": {},
   "outputs": [
    {
     "data": {
      "text/plain": [
       "13"
      ]
     },
     "execution_count": 120,
     "metadata": {},
     "output_type": "execute_result"
    }
   ],
   "source": [
    "a = \"Life is short\"\n",
    "len(a)"
   ]
  },
  {
   "cell_type": "markdown",
   "id": "4857e1e3-ce7a-4886-b2c7-04e924e26415",
   "metadata": {},
   "source": [
    "## 문자열 인덱싱"
   ]
  },
  {
   "cell_type": "code",
   "execution_count": 122,
   "id": "9356a902-74e5-4f31-8b9b-82d1c8f6980d",
   "metadata": {},
   "outputs": [
    {
     "data": {
      "text/plain": [
       "34"
      ]
     },
     "execution_count": 122,
     "metadata": {},
     "output_type": "execute_result"
    }
   ],
   "source": [
    "a = \"Life is too short, You need Python\"\n",
    "len(a)"
   ]
  },
  {
   "cell_type": "code",
   "execution_count": 127,
   "id": "d89a85fc-47b6-4567-8190-53b60bcc177c",
   "metadata": {
    "tags": []
   },
   "outputs": [
    {
     "data": {
      "text/plain": [
       "'s'"
      ]
     },
     "execution_count": 127,
     "metadata": {},
     "output_type": "execute_result"
    }
   ],
   "source": [
    "a[3]"
   ]
  },
  {
   "cell_type": "code",
   "execution_count": 129,
   "id": "191f1ccd-9048-42e4-b4d7-e5a139dd69a5",
   "metadata": {
    "tags": []
   },
   "outputs": [
    {
     "data": {
      "text/plain": [
       "'h'"
      ]
     },
     "execution_count": 129,
     "metadata": {},
     "output_type": "execute_result"
    }
   ],
   "source": [
    "a[13]"
   ]
  },
  {
   "cell_type": "code",
   "execution_count": 131,
   "id": "85f2b194-fa3e-4cf8-a11f-700c5cc55650",
   "metadata": {
    "tags": []
   },
   "outputs": [
    {
     "data": {
      "text/plain": [
       "'n'"
      ]
     },
     "execution_count": 131,
     "metadata": {},
     "output_type": "execute_result"
    }
   ],
   "source": [
    "a[-1]"
   ]
  },
  {
   "cell_type": "code",
   "execution_count": 133,
   "id": "1245cdfd-4690-44ad-99e6-da9dc3e41358",
   "metadata": {
    "tags": []
   },
   "outputs": [
    {
     "data": {
      "text/plain": [
       "' '"
      ]
     },
     "execution_count": 133,
     "metadata": {},
     "output_type": "execute_result"
    }
   ],
   "source": [
    "a[-7]"
   ]
  },
  {
   "cell_type": "code",
   "execution_count": 135,
   "id": "abb8a56b-c3fb-4434-b3df-5c2632a4a782",
   "metadata": {
    "tags": []
   },
   "outputs": [
    {
     "data": {
      "text/plain": [
       "'L'"
      ]
     },
     "execution_count": 135,
     "metadata": {},
     "output_type": "execute_result"
    }
   ],
   "source": [
    "a[-0]"
   ]
  },
  {
   "cell_type": "markdown",
   "id": "97a25529-79f3-4f6a-80b7-00e8327c71e6",
   "metadata": {},
   "source": [
    "## 문자열 슬라이싱"
   ]
  },
  {
   "cell_type": "code",
   "execution_count": 144,
   "id": "783de6e8-a4bd-45f2-9d9d-78ae595ffdb2",
   "metadata": {
    "tags": []
   },
   "outputs": [
    {
     "data": {
      "text/plain": [
       "'Life is too short, You need Python'"
      ]
     },
     "execution_count": 144,
     "metadata": {},
     "output_type": "execute_result"
    }
   ],
   "source": [
    "a = \"Life is too short, You need Python\"\n",
    "a[0:34]"
   ]
  },
  {
   "cell_type": "code",
   "execution_count": 146,
   "id": "7d3309d9-f5fb-4f4c-98d2-05a84bbd8e2a",
   "metadata": {
    "tags": []
   },
   "outputs": [
    {
     "data": {
      "text/plain": [
       "'You need Python'"
      ]
     },
     "execution_count": 146,
     "metadata": {},
     "output_type": "execute_result"
    }
   ],
   "source": [
    "a[-15:34]"
   ]
  },
  {
   "cell_type": "markdown",
   "id": "4e4547c3-ca53-4263-8979-54bffcfb5876",
   "metadata": {},
   "source": [
    "## 슬라이싱으로 문자열 나누기"
   ]
  },
  {
   "cell_type": "code",
   "execution_count": 151,
   "id": "36d51282-b978-4bf5-890b-71109a98d69a",
   "metadata": {
    "tags": []
   },
   "outputs": [
    {
     "data": {
      "text/plain": [
       "('20240610', 'Sunny')"
      ]
     },
     "execution_count": 151,
     "metadata": {},
     "output_type": "execute_result"
    }
   ],
   "source": [
    "a = \"20240610Sunny\"\n",
    "date = a[:8]\n",
    "weather = a[8: ]\n",
    "date, weather"
   ]
  },
  {
   "cell_type": "markdown",
   "id": "81a5dcaa-2d7e-41d5-8d9e-9a00e7959a04",
   "metadata": {},
   "source": [
    "## 문자열 수정하기"
   ]
  },
  {
   "cell_type": "code",
   "execution_count": 155,
   "id": "ed53826d-50d0-4901-8602-75ed07fdecc7",
   "metadata": {
    "tags": []
   },
   "outputs": [
    {
     "ename": "TypeError",
     "evalue": "'str' object does not support item assignment",
     "output_type": "error",
     "traceback": [
      "\u001b[1;31m---------------------------------------------------------------------------\u001b[0m",
      "\u001b[1;31mTypeError\u001b[0m                                 Traceback (most recent call last)",
      "Cell \u001b[1;32mIn[155], line 2\u001b[0m\n\u001b[0;32m      1\u001b[0m a \u001b[38;5;241m=\u001b[39m \u001b[38;5;124m\"\u001b[39m\u001b[38;5;124mparr\u001b[39m\u001b[38;5;124m\"\u001b[39m\n\u001b[1;32m----> 2\u001b[0m a[\u001b[38;5;241m5\u001b[39m] \u001b[38;5;241m=\u001b[39m \u001b[38;5;124m'\u001b[39m\u001b[38;5;124mk\u001b[39m\u001b[38;5;124m'\u001b[39m\n",
      "\u001b[1;31mTypeError\u001b[0m: 'str' object does not support item assignment"
     ]
    }
   ],
   "source": [
    "a = \"parr\"\n",
    "a[5] = 'k'"
   ]
  },
  {
   "cell_type": "code",
   "execution_count": 158,
   "id": "bbc8a4f9-c6bc-49cf-a37f-eea530be7b7f",
   "metadata": {
    "tags": []
   },
   "outputs": [
    {
     "ename": "IndexError",
     "evalue": "string index out of range",
     "output_type": "error",
     "traceback": [
      "\u001b[1;31m---------------------------------------------------------------------------\u001b[0m",
      "\u001b[1;31mIndexError\u001b[0m                                Traceback (most recent call last)",
      "Cell \u001b[1;32mIn[158], line 1\u001b[0m\n\u001b[1;32m----> 1\u001b[0m b \u001b[38;5;241m=\u001b[39m a[\u001b[38;5;241m0\u001b[39m:\u001b[38;5;241m4\u001b[39m]\u001b[38;5;241m+\u001b[39ma[\u001b[38;5;241m5\u001b[39m]\u001b[38;5;241m+\u001b[39m\u001b[38;5;124m'\u001b[39m\u001b[38;5;124mk\u001b[39m\u001b[38;5;124m'\u001b[39m\n",
      "\u001b[1;31mIndexError\u001b[0m: string index out of range"
     ]
    }
   ],
   "source": [
    "b = a[0:4]+a[5]+'k'"
   ]
  },
  {
   "cell_type": "markdown",
   "id": "e7e019a7-3a2c-4c94-ac45-d80703eb99ce",
   "metadata": {},
   "source": [
    "## 문자열 포매팅"
   ]
  },
  {
   "cell_type": "code",
   "execution_count": 162,
   "id": "5a0bf33a-6ddd-4d9d-bb76-672ec234c73b",
   "metadata": {},
   "outputs": [
    {
     "data": {
      "text/plain": [
       "'I ead 3 apples'"
      ]
     },
     "execution_count": 162,
     "metadata": {},
     "output_type": "execute_result"
    }
   ],
   "source": [
    "# 숫자 바로 대입\n",
    "\"I ead %d apples\"%3"
   ]
  },
  {
   "cell_type": "code",
   "execution_count": 164,
   "id": "50575e0a-1db9-42c9-b440-d94498bb9ed9",
   "metadata": {
    "tags": []
   },
   "outputs": [
    {
     "data": {
      "text/plain": [
       "'I eat five apples'"
      ]
     },
     "execution_count": 164,
     "metadata": {},
     "output_type": "execute_result"
    }
   ],
   "source": [
    "# 문자열 바로 대입\n",
    "\"I eat %s apples\"%\"five\""
   ]
  },
  {
   "cell_type": "code",
   "execution_count": 166,
   "id": "0bb49942-9da5-4ae6-949d-6ccbb973ea5f",
   "metadata": {
    "tags": []
   },
   "outputs": [
    {
     "data": {
      "text/plain": [
       "'I eat 5 apples'"
      ]
     },
     "execution_count": 166,
     "metadata": {},
     "output_type": "execute_result"
    }
   ],
   "source": [
    "\"I eat %s apples\"%5"
   ]
  },
  {
   "cell_type": "code",
   "execution_count": 168,
   "id": "4449c439-d05f-4002-8c5d-5b3cdaa5dc52",
   "metadata": {
    "tags": []
   },
   "outputs": [
    {
     "ename": "NameError",
     "evalue": "name '삼' is not defined",
     "output_type": "error",
     "traceback": [
      "\u001b[1;31m---------------------------------------------------------------------------\u001b[0m",
      "\u001b[1;31mNameError\u001b[0m                                 Traceback (most recent call last)",
      "Cell \u001b[1;32mIn[168], line 1\u001b[0m\n\u001b[1;32m----> 1\u001b[0m \u001b[38;5;124m\"\u001b[39m\u001b[38;5;124mI eat \u001b[39m\u001b[38;5;132;01m%s\u001b[39;00m\u001b[38;5;124m apples\u001b[39m\u001b[38;5;124m\"\u001b[39m\u001b[38;5;241m%\u001b[39m삼\n",
      "\u001b[1;31mNameError\u001b[0m: name '삼' is not defined"
     ]
    }
   ],
   "source": [
    "\"I eat %s apples\"%삼"
   ]
  },
  {
   "cell_type": "code",
   "execution_count": 170,
   "id": "0afee8e7-600f-43df-a8e3-2cca32594d36",
   "metadata": {
    "tags": []
   },
   "outputs": [
    {
     "data": {
      "text/plain": [
       "'I eat 3 apples'"
      ]
     },
     "execution_count": 170,
     "metadata": {},
     "output_type": "execute_result"
    }
   ],
   "source": [
    "# 숫자 값을 나다내는 변수로 대입\n",
    "num = 3\n",
    "\"I eat %s apples\"%num"
   ]
  },
  {
   "cell_type": "code",
   "execution_count": 174,
   "id": "a3746b26-f312-4772-a3d3-73f1f6f6e6d7",
   "metadata": {
    "tags": []
   },
   "outputs": [
    {
     "data": {
      "text/plain": [
       "'I ate 10 apples. so i was sick for three days.'"
      ]
     },
     "execution_count": 174,
     "metadata": {},
     "output_type": "execute_result"
    }
   ],
   "source": [
    "# 2개 이상 값 넣기\n",
    "num = 10\n",
    "day = 'three'\n",
    "\"I ate %d apples. so i was sick for %s days.\"%(num,day)"
   ]
  },
  {
   "cell_type": "code",
   "execution_count": 176,
   "id": "ca87c90b-25ca-43bd-8cc0-ed9ffb5d8db0",
   "metadata": {
    "tags": []
   },
   "outputs": [
    {
     "data": {
      "text/plain": [
       "'I have 3 apple'"
      ]
     },
     "execution_count": 176,
     "metadata": {},
     "output_type": "execute_result"
    }
   ],
   "source": [
    "\"I have %s apple\"%3"
   ]
  },
  {
   "cell_type": "code",
   "execution_count": 178,
   "id": "fcb64a6a-e4b0-4d65-8705-9481929a99db",
   "metadata": {
    "tags": []
   },
   "outputs": [
    {
     "data": {
      "text/plain": [
       "'rate 3.12'"
      ]
     },
     "execution_count": 178,
     "metadata": {},
     "output_type": "execute_result"
    }
   ],
   "source": [
    "\"rate %s\"%3.12"
   ]
  },
  {
   "cell_type": "code",
   "execution_count": 182,
   "id": "88379013-077d-4e2f-8b68-0fcceb1237fb",
   "metadata": {
    "tags": []
   },
   "outputs": [
    {
     "data": {
      "text/plain": [
       "'오늘 습도 10%.'"
      ]
     },
     "execution_count": 182,
     "metadata": {},
     "output_type": "execute_result"
    }
   ],
   "source": [
    "\"오늘 습도 %d%%.\"%10"
   ]
  },
  {
   "cell_type": "markdown",
   "id": "68b18b17-958a-4013-acd8-b2a3f83d5bbd",
   "metadata": {},
   "source": [
    "## 소수점 표현하기"
   ]
  },
  {
   "cell_type": "code",
   "execution_count": 185,
   "id": "293cd7a9-ea79-4253-8e38-206848641bcc",
   "metadata": {
    "tags": []
   },
   "outputs": [
    {
     "data": {
      "text/plain": [
       "3.14"
      ]
     },
     "execution_count": 185,
     "metadata": {},
     "output_type": "execute_result"
    }
   ],
   "source": [
    "3.14"
   ]
  },
  {
   "cell_type": "code",
   "execution_count": 189,
   "id": "d3aa8c81-9377-47b4-befd-4a89fd2b0fc1",
   "metadata": {
    "tags": []
   },
   "outputs": [
    {
     "data": {
      "text/plain": [
       "'3.14'"
      ]
     },
     "execution_count": 189,
     "metadata": {},
     "output_type": "execute_result"
    }
   ],
   "source": [
    "\"%0.2f\"%3.1431423423"
   ]
  },
  {
   "cell_type": "code",
   "execution_count": 191,
   "id": "66bf795b-a9bc-494c-bba3-76c83a06e922",
   "metadata": {
    "tags": []
   },
   "outputs": [
    {
     "data": {
      "text/plain": [
       "'3.1431'"
      ]
     },
     "execution_count": 191,
     "metadata": {},
     "output_type": "execute_result"
    }
   ],
   "source": [
    "\"%0.4f\"%3.1431423423"
   ]
  },
  {
   "cell_type": "markdown",
   "id": "ec7e74db-78da-4b2d-879d-a80ebfcf3120",
   "metadata": {},
   "source": [
    "## format 함수를 사용한 포매팅"
   ]
  },
  {
   "cell_type": "code",
   "execution_count": 194,
   "id": "a4423857-d2ab-49ed-8975-e83ed9c50101",
   "metadata": {
    "tags": []
   },
   "outputs": [
    {
     "data": {
      "text/plain": [
       "'I eat 3 apple'"
      ]
     },
     "execution_count": 194,
     "metadata": {},
     "output_type": "execute_result"
    }
   ],
   "source": [
    "\"I eat {} apple\".format(3)"
   ]
  },
  {
   "cell_type": "code",
   "execution_count": 196,
   "id": "7387d480-9f9d-4895-9c9b-5f97e29f899e",
   "metadata": {
    "tags": []
   },
   "outputs": [
    {
     "data": {
      "text/plain": [
       "'I eat five apple'"
      ]
     },
     "execution_count": 196,
     "metadata": {},
     "output_type": "execute_result"
    }
   ],
   "source": [
    "\"I eat {} apple\".format('five')"
   ]
  },
  {
   "cell_type": "code",
   "execution_count": 202,
   "id": "79175d5b-aba7-4169-9119-a9e2b1cc29d8",
   "metadata": {
    "tags": []
   },
   "outputs": [
    {
     "data": {
      "text/plain": [
       "'I eat 10 apple'"
      ]
     },
     "execution_count": 202,
     "metadata": {},
     "output_type": "execute_result"
    }
   ],
   "source": [
    "num = 10\n",
    "\"I eat {} apple\".format(num)"
   ]
  },
  {
   "cell_type": "code",
   "execution_count": 198,
   "id": "1253b21e-dc3e-48d7-acab-b6966c6939c8",
   "metadata": {
    "tags": []
   },
   "outputs": [
    {
     "data": {
      "text/plain": [
       "'I ate 10 apples. so i was sick for three days.'"
      ]
     },
     "execution_count": 198,
     "metadata": {},
     "output_type": "execute_result"
    }
   ],
   "source": [
    "\"I ate {} apples. so i was sick for {} days.\".format(num,day)"
   ]
  },
  {
   "cell_type": "code",
   "execution_count": 204,
   "id": "d471ef6b-e909-48eb-8a4f-ec430509a926",
   "metadata": {
    "tags": []
   },
   "outputs": [
    {
     "data": {
      "text/plain": [
       "'I ate three apples. so i was sick for 10 days.'"
      ]
     },
     "execution_count": 204,
     "metadata": {},
     "output_type": "execute_result"
    }
   ],
   "source": [
    "\"I ate {} apples. so i was sick for {} days.\".format(day,num)"
   ]
  },
  {
   "cell_type": "code",
   "execution_count": null,
   "id": "0fc4e0e3-04fc-4b3b-860e-40df13e76602",
   "metadata": {},
   "outputs": [],
   "source": [
    "\"I ate {} apples. so i was sick for {} days.\".format(day,num)"
   ]
  },
  {
   "cell_type": "markdown",
   "id": "6ce05bdd-c128-410d-a8f9-ce2844a623e8",
   "metadata": {},
   "source": [
    "## 소수점 표현하기"
   ]
  },
  {
   "cell_type": "code",
   "execution_count": 207,
   "id": "0cabe3b5-5a3a-4541-9111-a12ae29f7d70",
   "metadata": {
    "tags": []
   },
   "outputs": [
    {
     "data": {
      "text/plain": [
       "'3.1423'"
      ]
     },
     "execution_count": 207,
     "metadata": {},
     "output_type": "execute_result"
    }
   ],
   "source": [
    "y = 3.14234234\n",
    "\"{0:0.4f}\".format(y)"
   ]
  },
  {
   "cell_type": "markdown",
   "id": "eb367f4b-6570-4105-b05e-d648171b1d81",
   "metadata": {},
   "source": [
    "## f문자열 포매팅(강추)"
   ]
  },
  {
   "cell_type": "code",
   "execution_count": 210,
   "id": "91da00d5-12e9-4bef-ba8d-4754f92cbfd1",
   "metadata": {
    "tags": []
   },
   "outputs": [
    {
     "data": {
      "text/plain": [
       "'내 이름 박선임. 나이는 3임.'"
      ]
     },
     "execution_count": 210,
     "metadata": {},
     "output_type": "execute_result"
    }
   ],
   "source": [
    "name = '박선'\n",
    "age = 3\n",
    "f'내 이름 {name}임. 나이는 {age}임.'"
   ]
  },
  {
   "cell_type": "code",
   "execution_count": 232,
   "id": "cf121ee8-a38a-4fae-a3a4-5b493c1c2c15",
   "metadata": {
    "tags": []
   },
   "outputs": [
    {
     "ename": "NameError",
     "evalue": "name '홍길동' is not defined",
     "output_type": "error",
     "traceback": [
      "\u001b[1;31m---------------------------------------------------------------------------\u001b[0m",
      "\u001b[1;31mNameError\u001b[0m                                 Traceback (most recent call last)",
      "Cell \u001b[1;32mIn[232], line 1\u001b[0m\n\u001b[1;32m----> 1\u001b[0m d \u001b[38;5;241m=\u001b[39m {\u001b[38;5;124m'\u001b[39m\u001b[38;5;124mname\u001b[39m\u001b[38;5;124m'\u001b[39m : 홍길동, \u001b[38;5;124m'\u001b[39m\u001b[38;5;124mage\u001b[39m\u001b[38;5;124m'\u001b[39m : \u001b[38;5;241m30\u001b[39m }\n\u001b[0;32m      2\u001b[0m \u001b[38;5;124mf\u001b[39m\u001b[38;5;124m'\u001b[39m\u001b[38;5;124mmy name is \u001b[39m\u001b[38;5;132;01m{\u001b[39;00md[\u001b[38;5;124m\"\u001b[39m\u001b[38;5;124mnamae\u001b[39m\u001b[38;5;124m\"\u001b[39m]\u001b[38;5;132;01m}\u001b[39;00m\u001b[38;5;124m and my age is \u001b[39m\u001b[38;5;132;01m{\u001b[39;00md[\u001b[38;5;124m\"\u001b[39m\u001b[38;5;124mage\u001b[39m\u001b[38;5;124m\"\u001b[39m]\u001b[38;5;132;01m}\u001b[39;00m\u001b[38;5;124m.\u001b[39m\u001b[38;5;124m'\u001b[39m\n",
      "\u001b[1;31mNameError\u001b[0m: name '홍길동' is not defined"
     ]
    }
   ],
   "source": [
    "d = {'name' : 홍길동, 'age' : 30 }\n",
    "f'my name is {d[\"namae\"]} and my age is {d[\"age\"]}.'"
   ]
  },
  {
   "cell_type": "code",
   "execution_count": null,
   "id": "c3fa5c97-be5d-4623-8237-a2fb764e5e0a",
   "metadata": {},
   "outputs": [],
   "source": []
  },
  {
   "cell_type": "code",
   "execution_count": null,
   "id": "eb1f77f2-f41e-45b1-8acb-42f0c5760fcc",
   "metadata": {},
   "outputs": [],
   "source": []
  },
  {
   "cell_type": "code",
   "execution_count": null,
   "id": "e5fa5f4c-09e0-42c8-bdda-9cc4b4c7ce20",
   "metadata": {},
   "outputs": [],
   "source": []
  },
  {
   "cell_type": "code",
   "execution_count": null,
   "id": "c47a3a5a-4f44-41b2-b3ee-581a8cacf9d7",
   "metadata": {},
   "outputs": [],
   "source": []
  },
  {
   "cell_type": "code",
   "execution_count": null,
   "id": "21a80ccd-b1ca-4a6e-8f68-d1ba47707368",
   "metadata": {},
   "outputs": [],
   "source": []
  },
  {
   "cell_type": "code",
   "execution_count": null,
   "id": "b3bf57f2-0bd6-490a-87e9-0962776fd54d",
   "metadata": {},
   "outputs": [],
   "source": []
  }
 ],
 "metadata": {
  "kernelspec": {
   "display_name": "Python 3 (ipykernel)",
   "language": "python",
   "name": "python3"
  },
  "language_info": {
   "codemirror_mode": {
    "name": "ipython",
    "version": 3
   },
   "file_extension": ".py",
   "mimetype": "text/x-python",
   "name": "python",
   "nbconvert_exporter": "python",
   "pygments_lexer": "ipython3",
   "version": "3.11.7"
  }
 },
 "nbformat": 4,
 "nbformat_minor": 5
}
