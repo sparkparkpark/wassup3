{
 "cells": [
  {
   "cell_type": "markdown",
   "metadata": {},
   "source": [
    "# 전화번호 프로그램 만들기\n",
    "\n",
    "* 홍길동 010-123-4567\n",
    "* 기능1 : 연락처 추가\n",
    "* 기능2 : 연락처 전체 보기\n",
    "* 기능3 : 검색, 이름을 입력받아서 전화번호 조회\n",
    "* 기능4 : 수정, 이름을 입력받아서 전화번호 입력수정\n",
    "* 기능5 : 삭제, 이름 입력받아서 삭제\n",
    "* 기능6 : 프로그램 종료"
   ]
  },
  {
   "cell_type": "code",
   "execution_count": null,
   "metadata": {
    "tags": []
   },
   "outputs": [
    {
     "name": "stdout",
     "output_type": "stream",
     "text": [
      "\n",
      "1: 연락처 추가 : 이름, 연락처 입력\n",
      "2: 연락처 전체 보기\n",
      "3: 연락처 검색 : 이름 입력\n",
      "4: 연락처 수정 : 이름 입력 후 전화번호 수정\n",
      "5: 연락처 삭제 : 이름 입력 후 삭제\n",
      "6: 프로그램을 종료합니다.\n"
     ]
    },
    {
     "name": "stdin",
     "output_type": "stream",
     "text": [
      "사용할 기능의 번호를 입력하고 엔터 치세요. :  1\n",
      "이름 :  park\n",
      "전화번호 :  01011111111\n"
     ]
    },
    {
     "name": "stdout",
     "output_type": "stream",
     "text": [
      "park님의 연락처 추가완료!\n",
      "\n",
      "1: 연락처 추가 : 이름, 연락처 입력\n",
      "2: 연락처 전체 보기\n",
      "3: 연락처 검색 : 이름 입력\n",
      "4: 연락처 수정 : 이름 입력 후 전화번호 수정\n",
      "5: 연락처 삭제 : 이름 입력 후 삭제\n",
      "6: 프로그램을 종료합니다.\n"
     ]
    },
    {
     "name": "stdin",
     "output_type": "stream",
     "text": [
      "사용할 기능의 번호를 입력하고 엔터 치세요. :  2\n"
     ]
    },
    {
     "name": "stdout",
     "output_type": "stream",
     "text": [
      "\n",
      "전체 연락처 목록:\n",
      "park: 01011111111\n",
      "\n",
      "1: 연락처 추가 : 이름, 연락처 입력\n",
      "2: 연락처 전체 보기\n",
      "3: 연락처 검색 : 이름 입력\n",
      "4: 연락처 수정 : 이름 입력 후 전화번호 수정\n",
      "5: 연락처 삭제 : 이름 입력 후 삭제\n",
      "6: 프로그램을 종료합니다.\n"
     ]
    },
    {
     "name": "stdin",
     "output_type": "stream",
     "text": [
      "사용할 기능의 번호를 입력하고 엔터 치세요. :  1\n",
      "이름 :  sun\n",
      "전화번호 :  222222222-222\n"
     ]
    },
    {
     "name": "stdout",
     "output_type": "stream",
     "text": [
      "sun님의 연락처 추가완료!\n",
      "\n",
      "1: 연락처 추가 : 이름, 연락처 입력\n",
      "2: 연락처 전체 보기\n",
      "3: 연락처 검색 : 이름 입력\n",
      "4: 연락처 수정 : 이름 입력 후 전화번호 수정\n",
      "5: 연락처 삭제 : 이름 입력 후 삭제\n",
      "6: 프로그램을 종료합니다.\n"
     ]
    },
    {
     "name": "stdin",
     "output_type": "stream",
     "text": [
      "사용할 기능의 번호를 입력하고 엔터 치세요. :  2\n"
     ]
    },
    {
     "name": "stdout",
     "output_type": "stream",
     "text": [
      "\n",
      "전체 연락처 목록:\n",
      "park: 01011111111\n",
      "sun: 222222222-222\n",
      "\n",
      "1: 연락처 추가 : 이름, 연락처 입력\n",
      "2: 연락처 전체 보기\n",
      "3: 연락처 검색 : 이름 입력\n",
      "4: 연락처 수정 : 이름 입력 후 전화번호 수정\n",
      "5: 연락처 삭제 : 이름 입력 후 삭제\n",
      "6: 프로그램을 종료합니다.\n"
     ]
    },
    {
     "name": "stdin",
     "output_type": "stream",
     "text": [
      "사용할 기능의 번호를 입력하고 엔터 치세요. :  김귤\n"
     ]
    },
    {
     "name": "stdout",
     "output_type": "stream",
     "text": [
      "잘못된 입력입니다. 1에서 6 사이의 번호를 입력하세요.\n",
      "\n",
      "1: 연락처 추가 : 이름, 연락처 입력\n",
      "2: 연락처 전체 보기\n",
      "3: 연락처 검색 : 이름 입력\n",
      "4: 연락처 수정 : 이름 입력 후 전화번호 수정\n",
      "5: 연락처 삭제 : 이름 입력 후 삭제\n",
      "6: 프로그램을 종료합니다.\n"
     ]
    },
    {
     "name": "stdin",
     "output_type": "stream",
     "text": [
      "사용할 기능의 번호를 입력하고 엔터 치세요. :  1\n"
     ]
    },
    {
     "ename": "KeyboardInterrupt",
     "evalue": "Interrupted by user",
     "output_type": "error",
     "traceback": [
      "\u001b[1;31m---------------------------------------------------------------------------\u001b[0m",
      "\u001b[1;31mKeyboardInterrupt\u001b[0m                         Traceback (most recent call last)",
      "Cell \u001b[1;32mIn[1], line 13\u001b[0m\n\u001b[0;32m     10\u001b[0m select_code \u001b[38;5;241m=\u001b[39m \u001b[38;5;28minput\u001b[39m(\u001b[38;5;124m\"\u001b[39m\u001b[38;5;124m사용할 기능의 번호를 입력하고 엔터 치세요. : \u001b[39m\u001b[38;5;124m\"\u001b[39m)\n\u001b[0;32m     12\u001b[0m \u001b[38;5;28;01mif\u001b[39;00m select_code \u001b[38;5;241m==\u001b[39m \u001b[38;5;124m'\u001b[39m\u001b[38;5;124m1\u001b[39m\u001b[38;5;124m'\u001b[39m:\n\u001b[1;32m---> 13\u001b[0m     name \u001b[38;5;241m=\u001b[39m \u001b[38;5;28minput\u001b[39m(\u001b[38;5;124m\"\u001b[39m\u001b[38;5;124m이름 : \u001b[39m\u001b[38;5;124m\"\u001b[39m)\n\u001b[0;32m     14\u001b[0m     number \u001b[38;5;241m=\u001b[39m \u001b[38;5;28minput\u001b[39m(\u001b[38;5;124m\"\u001b[39m\u001b[38;5;124m전화번호 : \u001b[39m\u001b[38;5;124m\"\u001b[39m)\n\u001b[0;32m     15\u001b[0m     phone_book[name] \u001b[38;5;241m=\u001b[39m number\n",
      "File \u001b[1;32m~\\anaconda3\\Lib\\site-packages\\ipykernel\\kernelbase.py:1262\u001b[0m, in \u001b[0;36mKernel.raw_input\u001b[1;34m(self, prompt)\u001b[0m\n\u001b[0;32m   1260\u001b[0m     msg \u001b[38;5;241m=\u001b[39m \u001b[38;5;124m\"\u001b[39m\u001b[38;5;124mraw_input was called, but this frontend does not support input requests.\u001b[39m\u001b[38;5;124m\"\u001b[39m\n\u001b[0;32m   1261\u001b[0m     \u001b[38;5;28;01mraise\u001b[39;00m StdinNotImplementedError(msg)\n\u001b[1;32m-> 1262\u001b[0m \u001b[38;5;28;01mreturn\u001b[39;00m \u001b[38;5;28mself\u001b[39m\u001b[38;5;241m.\u001b[39m_input_request(\n\u001b[0;32m   1263\u001b[0m     \u001b[38;5;28mstr\u001b[39m(prompt),\n\u001b[0;32m   1264\u001b[0m     \u001b[38;5;28mself\u001b[39m\u001b[38;5;241m.\u001b[39m_parent_ident[\u001b[38;5;124m\"\u001b[39m\u001b[38;5;124mshell\u001b[39m\u001b[38;5;124m\"\u001b[39m],\n\u001b[0;32m   1265\u001b[0m     \u001b[38;5;28mself\u001b[39m\u001b[38;5;241m.\u001b[39mget_parent(\u001b[38;5;124m\"\u001b[39m\u001b[38;5;124mshell\u001b[39m\u001b[38;5;124m\"\u001b[39m),\n\u001b[0;32m   1266\u001b[0m     password\u001b[38;5;241m=\u001b[39m\u001b[38;5;28;01mFalse\u001b[39;00m,\n\u001b[0;32m   1267\u001b[0m )\n",
      "File \u001b[1;32m~\\anaconda3\\Lib\\site-packages\\ipykernel\\kernelbase.py:1305\u001b[0m, in \u001b[0;36mKernel._input_request\u001b[1;34m(self, prompt, ident, parent, password)\u001b[0m\n\u001b[0;32m   1302\u001b[0m \u001b[38;5;28;01mexcept\u001b[39;00m \u001b[38;5;167;01mKeyboardInterrupt\u001b[39;00m:\n\u001b[0;32m   1303\u001b[0m     \u001b[38;5;66;03m# re-raise KeyboardInterrupt, to truncate traceback\u001b[39;00m\n\u001b[0;32m   1304\u001b[0m     msg \u001b[38;5;241m=\u001b[39m \u001b[38;5;124m\"\u001b[39m\u001b[38;5;124mInterrupted by user\u001b[39m\u001b[38;5;124m\"\u001b[39m\n\u001b[1;32m-> 1305\u001b[0m     \u001b[38;5;28;01mraise\u001b[39;00m \u001b[38;5;167;01mKeyboardInterrupt\u001b[39;00m(msg) \u001b[38;5;28;01mfrom\u001b[39;00m \u001b[38;5;28;01mNone\u001b[39;00m\n\u001b[0;32m   1306\u001b[0m \u001b[38;5;28;01mexcept\u001b[39;00m \u001b[38;5;167;01mException\u001b[39;00m:\n\u001b[0;32m   1307\u001b[0m     \u001b[38;5;28mself\u001b[39m\u001b[38;5;241m.\u001b[39mlog\u001b[38;5;241m.\u001b[39mwarning(\u001b[38;5;124m\"\u001b[39m\u001b[38;5;124mInvalid Message:\u001b[39m\u001b[38;5;124m\"\u001b[39m, exc_info\u001b[38;5;241m=\u001b[39m\u001b[38;5;28;01mTrue\u001b[39;00m)\n",
      "\u001b[1;31mKeyboardInterrupt\u001b[0m: Interrupted by user"
     ]
    }
   ],
   "source": [
    "phone_book = {}\n",
    "\n",
    "while True:\n",
    "    print(\"\\n1: 연락처 추가 : 이름, 연락처 입력\")\n",
    "    print(\"2: 연락처 전체 보기\")\n",
    "    print(\"3: 연락처 검색 : 이름 입력\")\n",
    "    print(\"4: 연락처 수정 : 이름 입력 후 전화번호 수정\")\n",
    "    print(\"5: 연락처 삭제 : 이름 입력 후 삭제\")\n",
    "    print(\"6: 프로그램을 종료합니다.\")\n",
    "    select_code = input(\"사용할 기능의 번호를 입력하고 엔터 치세요. : \")\n",
    "\n",
    "    if select_code == '1':\n",
    "        name = input(\"이름 : \")\n",
    "        number = input(\"전화번호 : \")\n",
    "        phone_book[name] = number\n",
    "        print(f\"{name}님의 연락처 추가완료!\")\n",
    "\n",
    "    elif select_code == '2':\n",
    "        if phone_book:\n",
    "            print(\"\\n전체 연락처 목록:\")\n",
    "            for name, number in phone_book.items():\n",
    "                print(f\"{name}: {number}\")\n",
    "        else:\n",
    "            print(\"저장된 연락처가 없습니다.\")\n",
    "\n",
    "    elif select_code == '3':\n",
    "        name = input(\"검색할 이름을 입력하세요: \")\n",
    "        if name in phone_book:\n",
    "            print(f\"{name}의 전화번호는 {phone_book[name]}입니다.\")\n",
    "        else:\n",
    "            print(f\"{name}의 연락처를 찾을 수 없습니다.\")\n",
    "\n",
    "    elif select_code == '4':\n",
    "        name = input(\"수정할 이름을 입력하세요: \")\n",
    "        if name in phone_book:\n",
    "            number = input(f\"{name}의 새로운 전화번호를 입력하세요: \")\n",
    "            phone_book[name] = number\n",
    "            print(f\"{name}의 전화번호가 수정되었습니다.\")\n",
    "        else:\n",
    "            print(f\"{name}의 연락처를 찾을 수 없습니다.\")\n",
    "\n",
    "    elif select_code == '5':\n",
    "        name = input(\"삭제할 이름을 입력하세요: \")\n",
    "        if name in phone_book:\n",
    "            del phone_book[name]\n",
    "            print(f\"{name}의 연락처가 삭제되었습니다.\")\n",
    "        else:\n",
    "            print(f\"{name}의 연락처를 찾을 수 없습니다.\")\n",
    "\n",
    "    elif select_code == '6':\n",
    "        print(\"프로그램을 종료합니다.\")\n",
    "        break\n",
    "\n",
    "    else:\n",
    "        print(\"잘못된 입력입니다. 1에서 6 사이의 번호를 입력하세요.\")\n"
   ]
  },
  {
   "cell_type": "code",
   "execution_count": 1,
   "metadata": {
    "tags": []
   },
   "outputs": [
    {
     "name": "stdout",
     "output_type": "stream",
     "text": [
      "------------------  \n",
      "기능1: 연락처 추가 \n",
      "기능2: 연락처 전체 보기 \n",
      "기능3: 검색(이름 입력) \n",
      "기능4: 수정(이름 입력) \n",
      "기능5: 삭제(이름 입력) \n",
      "기능0: 종료 \n",
      "------------------ \n"
     ]
    },
    {
     "name": "stdin",
     "output_type": "stream",
     "text": [
      "위에서 원하는 기능의 코드를 입력하세요. 1\n",
      "이름을 입력하세요. 박선정\n",
      "전화번호를 입력하세요. 111111111\n"
     ]
    },
    {
     "name": "stdout",
     "output_type": "stream",
     "text": [
      "=== >박선정님의 연락처 111111111가 등록되었습니다.<===\n",
      "------------------  \n",
      "기능1: 연락처 추가 \n",
      "기능2: 연락처 전체 보기 \n",
      "기능3: 검색(이름 입력) \n",
      "기능4: 수정(이름 입력) \n",
      "기능5: 삭제(이름 입력) \n",
      "기능0: 종료 \n",
      "------------------ \n"
     ]
    },
    {
     "name": "stdin",
     "output_type": "stream",
     "text": [
      "위에서 원하는 기능의 코드를 입력하세요. 2\n"
     ]
    },
    {
     "name": "stdout",
     "output_type": "stream",
     "text": [
      "{'박선정': '111111111'}\n",
      "------------------  \n",
      "기능1: 연락처 추가 \n",
      "기능2: 연락처 전체 보기 \n",
      "기능3: 검색(이름 입력) \n",
      "기능4: 수정(이름 입력) \n",
      "기능5: 삭제(이름 입력) \n",
      "기능0: 종료 \n",
      "------------------ \n"
     ]
    },
    {
     "name": "stdin",
     "output_type": "stream",
     "text": [
      "위에서 원하는 기능의 코드를 입력하세요. 3\n",
      "검색할 이름 :  박선정\n"
     ]
    },
    {
     "name": "stdout",
     "output_type": "stream",
     "text": [
      "박선정의 전화번호는 111111111입니다.\n",
      "------------------  \n",
      "기능1: 연락처 추가 \n",
      "기능2: 연락처 전체 보기 \n",
      "기능3: 검색(이름 입력) \n",
      "기능4: 수정(이름 입력) \n",
      "기능5: 삭제(이름 입력) \n",
      "기능0: 종료 \n",
      "------------------ \n"
     ]
    },
    {
     "name": "stdin",
     "output_type": "stream",
     "text": [
      "위에서 원하는 기능의 코드를 입력하세요. 4\n",
      "수정할 이름 :  박선정\n",
      "박선정의 새로운 전화번호를 입력하세요:  2222222222222222222222\n"
     ]
    },
    {
     "name": "stdout",
     "output_type": "stream",
     "text": [
      "박선정의 전화번호 수정 완료\n",
      "------------------  \n",
      "기능1: 연락처 추가 \n",
      "기능2: 연락처 전체 보기 \n",
      "기능3: 검색(이름 입력) \n",
      "기능4: 수정(이름 입력) \n",
      "기능5: 삭제(이름 입력) \n",
      "기능0: 종료 \n",
      "------------------ \n"
     ]
    },
    {
     "name": "stdin",
     "output_type": "stream",
     "text": [
      "위에서 원하는 기능의 코드를 입력하세요. 5\n",
      "삭제할 이름 :  박선정\n"
     ]
    },
    {
     "name": "stdout",
     "output_type": "stream",
     "text": [
      "박선정의 연락처가 삭제 완료\n",
      "------------------  \n",
      "기능1: 연락처 추가 \n",
      "기능2: 연락처 전체 보기 \n",
      "기능3: 검색(이름 입력) \n",
      "기능4: 수정(이름 입력) \n",
      "기능5: 삭제(이름 입력) \n",
      "기능0: 종료 \n",
      "------------------ \n"
     ]
    },
    {
     "name": "stdin",
     "output_type": "stream",
     "text": [
      "위에서 원하는 기능의 코드를 입력하세요. 0\n"
     ]
    },
    {
     "name": "stdout",
     "output_type": "stream",
     "text": [
      "프로그램 종료\n"
     ]
    }
   ],
   "source": [
    "phone_book = {}\n",
    "\n",
    "\n",
    "while True:\n",
    "    print(f\"------------------  \\n기능1: 연락처 추가 \\n기능2: 연락처 전체 보기 \\n기능3: 검색(이름 입력) \\n기능4: 수정(이름 입력) \\n기능5: 삭제(이름 입력) \\n기능0: 종료 \\n------------------ \")\n",
    "    code = input(\"위에서 원하는 기능의 코드를 입력하세요.\")\n",
    "    \n",
    "    if code == '1' :\n",
    "        name = input(\"이름을 입력하세요.\")\n",
    "        phone = input(\"전화번호를 입력하세요.\")\n",
    "        phone_book[name] = phone\n",
    "        print(f\"=== >{name}님의 연락처 {phone}가 등록되었습니다.<===\")\n",
    "         \n",
    "    elif code == '2':\n",
    "        if phone_book:\n",
    "            print(phone_book)\n",
    "        else:\n",
    "            print(\"저장된 연락처가 없습니다.\")\n",
    "\n",
    "    elif code == '3':\n",
    "        name = input(\"검색할 이름 : \")\n",
    "        if name in phone_book:\n",
    "            print(f\"{name}의 전화번호는 {phone_book[name]}입니다.\")\n",
    "        else:\n",
    "            print(f\"{name}의 연락처를 찾을 수 없습니다.\")\n",
    "\n",
    "    elif code == '4':\n",
    "        name = input(\"수정할 이름 : \")\n",
    "        if name in phone_book:\n",
    "            number = input(f\"{name}의 새로운 전화번호를 입력하세요: \")\n",
    "            phone_book[name] = number\n",
    "            print(f\"{name}의 전화번호 수정 완료\")\n",
    "        else:\n",
    "            print(f\"{name}의 연락처를 찾을 수 없습니다.\")\n",
    "\n",
    "    elif code == '5':\n",
    "        name = input(\"삭제할 이름 : \")\n",
    "        if name in phone_book:\n",
    "            del phone_book[name]\n",
    "            print(f\"{name}의 연락처가 삭제 완료\")\n",
    "        else:\n",
    "            print(f\"{name}의 연락처를 찾을 수 없습니다.\")\n",
    "\n",
    "    elif code == '0':\n",
    "        print(\"프로그램 종료\")\n",
    "        break\n",
    "\n",
    "    else:\n",
    "        print(\" ====> 위의 코드 내용 확인하고 다시 입력하세요. <====\")\n"
   ]
  },
  {
   "cell_type": "code",
   "execution_count": null,
   "metadata": {},
   "outputs": [],
   "source": []
  }
 ],
 "metadata": {
  "kernelspec": {
   "display_name": "Python 3 (ipykernel)",
   "language": "python",
   "name": "python3"
  },
  "language_info": {
   "codemirror_mode": {
    "name": "ipython",
    "version": 3
   },
   "file_extension": ".py",
   "mimetype": "text/x-python",
   "name": "python",
   "nbconvert_exporter": "python",
   "pygments_lexer": "ipython3",
   "version": "3.11.7"
  },
  "toc": {
   "base_numbering": 1,
   "nav_menu": {},
   "number_sections": true,
   "sideBar": true,
   "skip_h1_title": false,
   "title_cell": "Table of Contents",
   "title_sidebar": "Contents",
   "toc_cell": false,
   "toc_position": {},
   "toc_section_display": true,
   "toc_window_display": false
  },
  "varInspector": {
   "cols": {
    "lenName": 16,
    "lenType": 16,
    "lenVar": 40
   },
   "kernels_config": {
    "python": {
     "delete_cmd_postfix": "",
     "delete_cmd_prefix": "del ",
     "library": "var_list.py",
     "varRefreshCmd": "print(var_dic_list())"
    },
    "r": {
     "delete_cmd_postfix": ") ",
     "delete_cmd_prefix": "rm(",
     "library": "var_list.r",
     "varRefreshCmd": "cat(var_dic_list()) "
    }
   },
   "types_to_exclude": [
    "module",
    "function",
    "builtin_function_or_method",
    "instance",
    "_Feature"
   ],
   "window_display": false
  }
 },
 "nbformat": 4,
 "nbformat_minor": 4
}
