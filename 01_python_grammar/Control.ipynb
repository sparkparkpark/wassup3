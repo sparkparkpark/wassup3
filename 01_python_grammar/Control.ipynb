{
 "cells": [
  {
   "cell_type": "markdown",
   "id": "59e90736-0811-4027-aa72-0e0476c11b73",
   "metadata": {},
   "source": [
    "# if 분기문"
   ]
  },
  {
   "cell_type": "code",
   "execution_count": 2,
   "id": "81ff72d0-e9ea-4aca-aac1-f7dfd7b28d79",
   "metadata": {
    "tags": []
   },
   "outputs": [
    {
     "name": "stdout",
     "output_type": "stream",
     "text": [
      "택시를 타고 가라\n"
     ]
    }
   ],
   "source": [
    "money = True\n",
    "if money:\n",
    "    print(\"택시를 타고 가라\")\n",
    "else:\n",
    "    print(\"걸어 가라\")"
   ]
  },
  {
   "cell_type": "code",
   "execution_count": 5,
   "id": "a466bed4-ab32-47c6-a084-8e9012ab356b",
   "metadata": {
    "tags": []
   },
   "outputs": [
    {
     "name": "stdout",
     "output_type": "stream",
     "text": [
      "택시를 타고 가라\n"
     ]
    }
   ],
   "source": []
  },
  {
   "cell_type": "code",
   "execution_count": null,
   "id": "351e1749-558e-4ceb-8b01-38285976df11",
   "metadata": {},
   "outputs": [],
   "source": []
  },
  {
   "cell_type": "code",
   "execution_count": null,
   "id": "f554ec50-ecd7-44cf-b125-44c9a504ae8f",
   "metadata": {},
   "outputs": [],
   "source": []
  },
  {
   "cell_type": "markdown",
   "id": "2389faf5-4bd3-4533-879f-11a01e6f1778",
   "metadata": {},
   "source": [
    "## 조건문이랑 무엇인가?"
   ]
  },
  {
   "cell_type": "code",
   "execution_count": 8,
   "id": "c7862b66-00bf-4e47-aad8-b6d83e5a56ae",
   "metadata": {
    "tags": []
   },
   "outputs": [
    {
     "data": {
      "text/plain": [
       "True"
      ]
     },
     "execution_count": 8,
     "metadata": {},
     "output_type": "execute_result"
    }
   ],
   "source": [
    "# 비교연산자  \n",
    "x = 3\n",
    "y = 2\n",
    "x > y"
   ]
  },
  {
   "cell_type": "code",
   "execution_count": 10,
   "id": "269dd9e3-0dd4-463e-8e9a-3d0b6192c107",
   "metadata": {
    "tags": []
   },
   "outputs": [
    {
     "data": {
      "text/plain": [
       "False"
      ]
     },
     "execution_count": 10,
     "metadata": {},
     "output_type": "execute_result"
    }
   ],
   "source": [
    "x < y"
   ]
  },
  {
   "cell_type": "code",
   "execution_count": 14,
   "id": "72d95110-6abf-425c-9383-aecd4c16c58c",
   "metadata": {
    "tags": []
   },
   "outputs": [
    {
     "data": {
      "text/plain": [
       "True"
      ]
     },
     "execution_count": 14,
     "metadata": {},
     "output_type": "execute_result"
    }
   ],
   "source": [
    "x != y"
   ]
  },
  {
   "cell_type": "code",
   "execution_count": 22,
   "id": "0e90934a-2aeb-457e-bd0d-69c08778c23c",
   "metadata": {
    "tags": []
   },
   "outputs": [
    {
     "name": "stdout",
     "output_type": "stream",
     "text": [
      "택시를 타고 가라\n"
     ]
    }
   ],
   "source": [
    "money = 30000\n",
    "if money >= 3000:\n",
    "    print(\"택시를 타고 가라\")\n",
    "else:\n",
    "    print(\"걸어 가라\")"
   ]
  },
  {
   "cell_type": "code",
   "execution_count": 30,
   "id": "7c95df72-0cdb-4ac3-b690-fea8b4deb623",
   "metadata": {
    "tags": []
   },
   "outputs": [
    {
     "name": "stdout",
     "output_type": "stream",
     "text": [
      "택시를 타고 가라\n"
     ]
    }
   ],
   "source": [
    "# and, or, not\n",
    "\n",
    "money = 30000\n",
    "card = True\n",
    "if money >= 3000 or card:\n",
    "    print(\"택시를 타고 가라\")\n",
    "else:\n",
    "    print(\"걸어 가라\")"
   ]
  },
  {
   "cell_type": "code",
   "execution_count": null,
   "id": "46eba778-5b9a-47c2-8230-b33d79516464",
   "metadata": {},
   "outputs": [],
   "source": [
    "## in, not in"
   ]
  },
  {
   "cell_type": "code",
   "execution_count": 32,
   "id": "48593d46-8b80-44e4-9096-4b2a4d0e8a5f",
   "metadata": {
    "tags": []
   },
   "outputs": [
    {
     "data": {
      "text/plain": [
       "True"
      ]
     },
     "execution_count": 32,
     "metadata": {},
     "output_type": "execute_result"
    }
   ],
   "source": [
    "1 in [1,2,3]"
   ]
  },
  {
   "cell_type": "code",
   "execution_count": 34,
   "id": "cf7f8c03-7dac-44b6-9e0c-38e18515fbfd",
   "metadata": {
    "tags": []
   },
   "outputs": [
    {
     "data": {
      "text/plain": [
       "False"
      ]
     },
     "execution_count": 34,
     "metadata": {},
     "output_type": "execute_result"
    }
   ],
   "source": [
    "1 not in [1,2,3]"
   ]
  },
  {
   "cell_type": "code",
   "execution_count": null,
   "id": "604a86b0-aa97-4eea-b9aa-c596f899d208",
   "metadata": {},
   "outputs": [],
   "source": [
    "money = 30000\n",
    "card = True\n",
    "if money >= 3000 or card:\n",
    "    print(\"택시를 타고 가라\")\n",
    "else:\n",
    "    print(\"걸어 가라\")"
   ]
  },
  {
   "cell_type": "code",
   "execution_count": null,
   "id": "f3e7cf7a-ce56-476a-aa9b-d488fb780851",
   "metadata": {},
   "outputs": [],
   "source": []
  },
  {
   "cell_type": "code",
   "execution_count": null,
   "id": "66e1cf78-701c-4820-8d1d-80173f583dd5",
   "metadata": {},
   "outputs": [],
   "source": []
  },
  {
   "cell_type": "markdown",
   "id": "3c9a9b62-3adf-499b-9e55-e791ca9a0e83",
   "metadata": {},
   "source": [
    "## 다양한 조건을 판단하는 elif"
   ]
  },
  {
   "cell_type": "code",
   "execution_count": 39,
   "id": "185b7bb7-b600-414f-82f1-9048ee3abc9d",
   "metadata": {
    "tags": []
   },
   "outputs": [
    {
     "name": "stdout",
     "output_type": "stream",
     "text": [
      "택시를 타고 가라\n"
     ]
    }
   ],
   "source": [
    "#주머니에 돈이 있으면 택시를 타고 가고, \n",
    "# 주머니에 돈은 없지만 카드가 있으면 택시를 타고 가고, \n",
    "# 돈도 없고 카드도 없으면 걸어가라.\n",
    "\n",
    "# 주머니에 있는 돈의 리스트\n",
    "pockey = ['money','card','key']  # 돈이 없을 때는 빈 리스트로 설정\n",
    "\n",
    "if pockey:  # 주머니에 돈이 있으면\n",
    "    print(\"택시를 타고 가라\")\n",
    "else:  # 돈도 없고 카드도 없으면\n",
    "    print(\"걸어 가라\")"
   ]
  },
  {
   "cell_type": "markdown",
   "id": "6e46c4d8-5151-41ca-ac6b-523661302960",
   "metadata": {},
   "source": [
    "## 조건부 표현식"
   ]
  },
  {
   "cell_type": "code",
   "execution_count": 46,
   "id": "09de55d2-a404-4ec9-a109-d279ab662254",
   "metadata": {
    "tags": []
   },
   "outputs": [
    {
     "name": "stdout",
     "output_type": "stream",
     "text": [
      "success\n"
     ]
    }
   ],
   "source": [
    "score = 88\n",
    "if score >= 60:\n",
    "    message = \"success\"\n",
    "else:\n",
    "    message = \"failure\"\n",
    "print(message)"
   ]
  },
  {
   "cell_type": "code",
   "execution_count": 50,
   "id": "03413007-e731-488d-9763-b7cad19010c1",
   "metadata": {
    "tags": []
   },
   "outputs": [
    {
     "name": "stdout",
     "output_type": "stream",
     "text": [
      "success\n"
     ]
    }
   ],
   "source": [
    "message = \"success\" if score >= 60 else \"failure\"\n",
    "print(message)"
   ]
  },
  {
   "cell_type": "markdown",
   "id": "37117308-c4fe-4160-8e5d-d4186fe492dd",
   "metadata": {},
   "source": [
    "# while 문"
   ]
  },
  {
   "cell_type": "code",
   "execution_count": 58,
   "id": "c23f2503-c6dc-4977-bdd4-5dde78401b23",
   "metadata": {
    "tags": []
   },
   "outputs": [
    {
     "name": "stdout",
     "output_type": "stream",
     "text": [
      "나무를 1번 찍었습니다.\n",
      "나무를 2번 찍었습니다.\n",
      "나무를 3번 찍었습니다.\n",
      "나무를 4번 찍었습니다.\n",
      "나무를 5번 찍었습니다.\n",
      "나무를 6번 찍었습니다.\n",
      "나무를 7번 찍었습니다.\n",
      "나무를 8번 찍었습니다.\n",
      "나무를 9번 찍었습니다.\n",
      "나무를 10번 찍었습니다.\n",
      "나무 넘어갑니다.\n"
     ]
    }
   ],
   "source": [
    ">>> treeHit = 0\n",
    ">>> while treeHit < 10:\n",
    "...     treeHit = treeHit +1\n",
    "...     print(\"나무를 %d번 찍었습니다.\" % treeHit)\n",
    "...     if treeHit == 10:\n",
    "...         print(\"나무 넘어갑니다.\")\n",
    "...\n"
   ]
  },
  {
   "cell_type": "code",
   "execution_count": 64,
   "id": "f64d151b-804e-4f0f-b200-1fb2fa883b1c",
   "metadata": {
    "tags": []
   },
   "outputs": [],
   "source": [
    ">>> prompt = \"\"\"\n",
    "... 1. Add\n",
    "... 2. Del\n",
    "... 3. List\n",
    "... 4. Quit\n",
    "...\n",
    "... Enter number: \"\"\"\n",
    ">>>\n"
   ]
  },
  {
   "cell_type": "code",
   "execution_count": 1,
   "id": "68134fb9-ebe1-47f5-96a8-aa994deb2e28",
   "metadata": {
    "tags": []
   },
   "outputs": [
    {
     "ename": "NameError",
     "evalue": "name 'prompt' is not defined",
     "output_type": "error",
     "traceback": [
      "\u001b[1;31m---------------------------------------------------------------------------\u001b[0m",
      "\u001b[1;31mNameError\u001b[0m                                 Traceback (most recent call last)",
      "Cell \u001b[1;32mIn[1], line 3\u001b[0m\n\u001b[0;32m      1\u001b[0m number \u001b[38;5;241m=\u001b[39m \u001b[38;5;241m0\u001b[39m\n\u001b[0;32m      2\u001b[0m \u001b[38;5;28;01mwhile\u001b[39;00m number \u001b[38;5;241m!=\u001b[39m \u001b[38;5;241m4\u001b[39m:\n\u001b[1;32m----> 3\u001b[0m     \u001b[38;5;28mprint\u001b[39m(prompt)\n\u001b[0;32m      4\u001b[0m     number \u001b[38;5;241m=\u001b[39m \u001b[38;5;28mint\u001b[39m(\u001b[38;5;28minput\u001b[39m())\n",
      "\u001b[1;31mNameError\u001b[0m: name 'prompt' is not defined"
     ]
    }
   ],
   "source": [
    ">>> number = 0\n",
    ">>> while number != 4:\n",
    "...     print(prompt)\n",
    "...     number = int(input())"
   ]
  },
  {
   "cell_type": "markdown",
   "id": "4d3f65ca-8db4-4cdf-acb4-7fe1669153b9",
   "metadata": {
    "tags": []
   },
   "source": [
    "## while 문 강제로 빠져나가기"
   ]
  },
  {
   "cell_type": "code",
   "execution_count": 3,
   "id": "0230a98a-6868-4bfe-a6f1-17cd725c0e1f",
   "metadata": {
    "tags": []
   },
   "outputs": [
    {
     "name": "stdout",
     "output_type": "stream",
     "text": [
      "돈 있음 커피 줌\n",
      "남은 커피는 : 9 \n",
      "돈 있음 커피 줌\n",
      "남은 커피는 : 8 \n",
      "돈 있음 커피 줌\n",
      "남은 커피는 : 7 \n",
      "돈 있음 커피 줌\n",
      "남은 커피는 : 6 \n",
      "돈 있음 커피 줌\n",
      "남은 커피는 : 5 \n",
      "돈 있음 커피 줌\n",
      "남은 커피는 : 4 \n",
      "돈 있음 커피 줌\n",
      "남은 커피는 : 3 \n",
      "돈 있음 커피 줌\n",
      "남은 커피는 : 2 \n",
      "돈 있음 커피 줌\n",
      "남은 커피는 : 1 \n",
      "돈 있음 커피 줌\n",
      "남은 커피는 : 0 \n",
      "커피 끝\n"
     ]
    }
   ],
   "source": [
    "money = 300\n",
    "coffee = 10\n",
    "\n",
    "while money :\n",
    "    print('돈 있음 커피 줌')\n",
    "    coffee = coffee - 1\n",
    "    print(f'남은 커피는 : {coffee} ')\n",
    "    if coffee == 0 :\n",
    "        print('커피 끝')\n",
    "        break"
   ]
  },
  {
   "cell_type": "markdown",
   "id": "76330e3e-3a76-493c-bb0c-2ce84453ae6e",
   "metadata": {
    "tags": []
   },
   "source": [
    "##### coffee = 300\n",
    "stock = 2 #커피 재고\n",
    "\n",
    "while coffee > 0:\n",
    "    money = int(input(\"돈을 입력하세요: \"))\n",
    "\n",
    "    if money >= coffee:\n",
    "        change = money - coffee\n",
    "        stock -= 1\n",
    "        print(f\"커피를 구매했습니다. 잔돈은 {change}원 입니다.\")\n",
    "        print(f\"남은 커피 재고: {stock}개\")\n",
    "    else:\n",
    "        print(\"돈이 부족합니다.\")\n",
    "    \n",
    "    if stock == 0:\n",
    "        print(\"오늘 커피는 끝.\")\n",
    "        break"
   ]
  },
  {
   "cell_type": "markdown",
   "id": "3decac62-e29e-43b1-8676-f8d848f08480",
   "metadata": {
    "tags": []
   },
   "source": [
    "##### coffee = 300 # 가격\n",
    "stock = 2 #커피 재고\n",
    "\n",
    "while coffee > 0:\n",
    "    money = int(input(\"돈을 입력하세요: \"))\n",
    "\n",
    "    if money >= coffee:\n",
    "        change = money - coffee\n",
    "        stock -= 1\n",
    "        print(f\"커피를 구매했습니다. 잔돈은 {change}원 입니다.\")\n",
    "        print(f\"남은 커피 재고: {stock}개\")\n",
    "    else:\n",
    "        print(f\"돈이 부족합니다.{coffee-money}원 더 넣으세요\")\n",
    "    \n",
    "    if stock == 0:\n",
    "        print(\"+++++ 오늘 커피는 끝 +++++\")\n",
    "        break"
   ]
  },
  {
   "cell_type": "code",
   "execution_count": null,
   "id": "5a9da7ff-ccf9-4183-8053-7c2e4a6c4bb9",
   "metadata": {},
   "outputs": [],
   "source": [
    "coffee = 10\n",
    "\n",
    "while True :\n",
    "    money = int(input('돈을 넣어주세요 : '))\n",
    "    \n",
    "    if money == 300:\n",
    "        print('300원 받았음. 커피줄게')\n",
    "        \n",
    "    elif money\n",
    "    \n",
    "    break"
   ]
  },
  {
   "cell_type": "code",
   "execution_count": null,
   "id": "832be6ef-da9d-4b5f-973c-b730e686a93b",
   "metadata": {},
   "outputs": [],
   "source": []
  },
  {
   "cell_type": "code",
   "execution_count": null,
   "id": "56fbac52-da3e-4cae-9761-5115b3cf1fe2",
   "metadata": {},
   "outputs": [],
   "source": []
  },
  {
   "cell_type": "code",
   "execution_count": null,
   "id": "8e953caf-c5ac-4481-b4cc-8a7869bb56d9",
   "metadata": {},
   "outputs": [],
   "source": []
  },
  {
   "cell_type": "code",
   "execution_count": null,
   "id": "768bc525-9bad-41ec-a5c7-dc198fa375f1",
   "metadata": {},
   "outputs": [],
   "source": []
  },
  {
   "cell_type": "code",
   "execution_count": null,
   "id": "b812d111-6eb5-46ac-908e-0a920dd2fab5",
   "metadata": {},
   "outputs": [],
   "source": []
  },
  {
   "cell_type": "code",
   "execution_count": null,
   "id": "775dc3bc-24d5-4e98-b17b-cfb33aeddca1",
   "metadata": {},
   "outputs": [],
   "source": []
  },
  {
   "cell_type": "code",
   "execution_count": null,
   "id": "2ebafa76-f9ff-46a6-a3de-566b08febab4",
   "metadata": {},
   "outputs": [],
   "source": []
  },
  {
   "cell_type": "code",
   "execution_count": null,
   "id": "646d807b-d2a9-4c39-82cc-dfe84fd81546",
   "metadata": {},
   "outputs": [],
   "source": []
  },
  {
   "cell_type": "code",
   "execution_count": null,
   "id": "262b66f6-cda1-41b7-8e9c-42e25ca566f0",
   "metadata": {},
   "outputs": [],
   "source": []
  },
  {
   "cell_type": "code",
   "execution_count": null,
   "id": "69d63fee-48ed-4c00-a582-203b021f7449",
   "metadata": {},
   "outputs": [],
   "source": []
  },
  {
   "cell_type": "code",
   "execution_count": null,
   "id": "160d76fa-444e-4970-843f-2a930e4cf9d4",
   "metadata": {},
   "outputs": [],
   "source": []
  },
  {
   "cell_type": "code",
   "execution_count": null,
   "id": "2e98ff02-9e3a-4c1c-8061-33378c643c97",
   "metadata": {},
   "outputs": [],
   "source": []
  },
  {
   "cell_type": "code",
   "execution_count": null,
   "id": "f5b520d6-34b1-4923-a2c8-ba0d034db164",
   "metadata": {},
   "outputs": [],
   "source": []
  },
  {
   "cell_type": "code",
   "execution_count": null,
   "id": "d2e258f0-ad2d-44ff-8454-ce0dcb5a581f",
   "metadata": {},
   "outputs": [],
   "source": []
  },
  {
   "cell_type": "code",
   "execution_count": null,
   "id": "d360fa13-4155-43f4-bf24-9089c9891b2d",
   "metadata": {},
   "outputs": [],
   "source": []
  },
  {
   "cell_type": "code",
   "execution_count": null,
   "id": "53d39c77-2bf2-49dd-bc7d-4754bc0b4f32",
   "metadata": {},
   "outputs": [],
   "source": []
  },
  {
   "cell_type": "code",
   "execution_count": null,
   "id": "af5326f4-d474-44c3-994f-f6ffa953414d",
   "metadata": {},
   "outputs": [],
   "source": []
  },
  {
   "cell_type": "code",
   "execution_count": null,
   "id": "44d8d0c6-de01-4447-91fd-353482366d98",
   "metadata": {},
   "outputs": [],
   "source": []
  },
  {
   "cell_type": "code",
   "execution_count": null,
   "id": "2198e797-befe-420e-974b-cdb480151199",
   "metadata": {},
   "outputs": [],
   "source": []
  },
  {
   "cell_type": "code",
   "execution_count": null,
   "id": "d9e97235-8b63-4e6e-afae-c4b57ed4bffc",
   "metadata": {},
   "outputs": [],
   "source": []
  },
  {
   "cell_type": "code",
   "execution_count": null,
   "id": "f154a0fa-3c17-490d-b58d-a61d3326da45",
   "metadata": {},
   "outputs": [],
   "source": []
  },
  {
   "cell_type": "code",
   "execution_count": null,
   "id": "80c1f813-c2b9-4fb6-a136-b88baa49b9a2",
   "metadata": {},
   "outputs": [],
   "source": []
  },
  {
   "cell_type": "code",
   "execution_count": null,
   "id": "cbe3ac44-8a60-4fe8-9d2f-524b03b3ca08",
   "metadata": {},
   "outputs": [],
   "source": []
  },
  {
   "cell_type": "code",
   "execution_count": null,
   "id": "dcc24196-cebd-41dc-a944-4eeb065a3c79",
   "metadata": {},
   "outputs": [],
   "source": []
  },
  {
   "cell_type": "code",
   "execution_count": null,
   "id": "292b345e-e6da-4f26-aa70-89083f4eb006",
   "metadata": {},
   "outputs": [],
   "source": []
  },
  {
   "cell_type": "code",
   "execution_count": null,
   "id": "6f710da0-3031-4078-af41-fe3a59b3e853",
   "metadata": {},
   "outputs": [],
   "source": []
  },
  {
   "cell_type": "code",
   "execution_count": null,
   "id": "ddebcc35-20f4-4442-9d29-5463969858ca",
   "metadata": {},
   "outputs": [],
   "source": []
  },
  {
   "cell_type": "code",
   "execution_count": null,
   "id": "91408f53-5a2d-4fff-91ba-b4b0e76113bc",
   "metadata": {},
   "outputs": [],
   "source": []
  },
  {
   "cell_type": "code",
   "execution_count": null,
   "id": "2f3f12b5-b345-4776-8cbd-3c0b25946a33",
   "metadata": {},
   "outputs": [],
   "source": []
  },
  {
   "cell_type": "code",
   "execution_count": null,
   "id": "7048f730-fb70-4e54-999d-b612a2037c83",
   "metadata": {},
   "outputs": [],
   "source": []
  },
  {
   "cell_type": "code",
   "execution_count": null,
   "id": "2e5603ca-27f0-49a0-adc0-60c276558906",
   "metadata": {},
   "outputs": [],
   "source": []
  },
  {
   "cell_type": "code",
   "execution_count": null,
   "id": "9d42062a-8010-406c-b0f0-fc3c2d128a78",
   "metadata": {},
   "outputs": [],
   "source": []
  },
  {
   "cell_type": "code",
   "execution_count": null,
   "id": "55a3538a-aa9b-455b-a92f-7d6697411aa2",
   "metadata": {},
   "outputs": [],
   "source": []
  },
  {
   "cell_type": "code",
   "execution_count": null,
   "id": "af2293d7-9076-40f1-a365-c789f7ef378a",
   "metadata": {},
   "outputs": [],
   "source": []
  },
  {
   "cell_type": "code",
   "execution_count": null,
   "id": "89db367b-4117-4468-b9f3-f9c07fb18538",
   "metadata": {},
   "outputs": [],
   "source": []
  },
  {
   "cell_type": "code",
   "execution_count": null,
   "id": "f8f86e81-a48f-4d02-9671-077880b894d0",
   "metadata": {},
   "outputs": [],
   "source": []
  },
  {
   "cell_type": "code",
   "execution_count": null,
   "id": "19b60ebe-dfaa-4520-856a-6cb64a01437f",
   "metadata": {},
   "outputs": [],
   "source": []
  },
  {
   "cell_type": "code",
   "execution_count": null,
   "id": "5fce9814-308d-424c-af63-443514e281ff",
   "metadata": {},
   "outputs": [],
   "source": []
  },
  {
   "cell_type": "code",
   "execution_count": null,
   "id": "27a884ad-40c9-4d6a-b756-b5632d4cb98d",
   "metadata": {},
   "outputs": [],
   "source": []
  },
  {
   "cell_type": "code",
   "execution_count": null,
   "id": "44bd8213-378d-490a-970d-6b76eed24a31",
   "metadata": {},
   "outputs": [],
   "source": []
  }
 ],
 "metadata": {
  "kernelspec": {
   "display_name": "Python 3 (ipykernel)",
   "language": "python",
   "name": "python3"
  },
  "language_info": {
   "codemirror_mode": {
    "name": "ipython",
    "version": 3
   },
   "file_extension": ".py",
   "mimetype": "text/x-python",
   "name": "python",
   "nbconvert_exporter": "python",
   "pygments_lexer": "ipython3",
   "version": "3.11.7"
  }
 },
 "nbformat": 4,
 "nbformat_minor": 5
}
