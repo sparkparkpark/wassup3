{
 "cells": [
  {
   "cell_type": "markdown",
   "metadata": {},
   "source": [
    "# 전화번호 프로그램 만들기\n",
    "\n",
    "* 홍길동 010-123-4567\n",
    "* 기능1 : 연락처 추가\n",
    "* 기능2 : 연락처 전체 보기\n",
    "* 기능3 : 검색, 이름을 입력받아서 전화번호 조회\n",
    "* 기능4 : 수정, 이름을 입력받아서 전화번호 입력수정\n",
    "* 기능5 : 삭제, 이름 입력받아서 삭제\n",
    "* 기능6 : 프로그램 종료"
   ]
  },
  {
   "cell_type": "code",
   "execution_count": null,
   "metadata": {
    "tags": []
   },
   "outputs": [
    {
     "name": "stdout",
     "output_type": "stream",
     "text": [
      "------------------  \n",
      "기능1: 연락처 추가 \n",
      "기능2: 연락처 전체 보기 \n",
      "기능3: 검색(이름 입력) \n",
      "기능4: 수정(이름 입력) \n",
      "기능5: 삭제(이름 입력) \n",
      "기능6: 종료 \n",
      "------------------ \n"
     ]
    },
    {
     "name": "stdin",
     "output_type": "stream",
     "text": [
      "위에서 원하는 기능의 코드를 입력하세요. ㄹ\n"
     ]
    },
    {
     "name": "stdout",
     "output_type": "stream",
     "text": [
      "잘못된 입력입니다. 1에서 6 사이의 번호를 입력하세요.\n",
      "------------------  \n",
      "기능1: 연락처 추가 \n",
      "기능2: 연락처 전체 보기 \n",
      "기능3: 검색(이름 입력) \n",
      "기능4: 수정(이름 입력) \n",
      "기능5: 삭제(이름 입력) \n",
      "기능6: 종료 \n",
      "------------------ \n"
     ]
    },
    {
     "name": "stdin",
     "output_type": "stream",
     "text": [
      "위에서 원하는 기능의 코드를 입력하세요. 2\n"
     ]
    },
    {
     "name": "stdout",
     "output_type": "stream",
     "text": [
      "저장된 연락처가 없습니다.\n",
      "------------------  \n",
      "기능1: 연락처 추가 \n",
      "기능2: 연락처 전체 보기 \n",
      "기능3: 검색(이름 입력) \n",
      "기능4: 수정(이름 입력) \n",
      "기능5: 삭제(이름 입력) \n",
      "기능6: 종료 \n",
      "------------------ \n"
     ]
    },
    {
     "name": "stdin",
     "output_type": "stream",
     "text": [
      "위에서 원하는 기능의 코드를 입력하세요. 2\n"
     ]
    },
    {
     "name": "stdout",
     "output_type": "stream",
     "text": [
      "저장된 연락처가 없습니다.\n",
      "------------------  \n",
      "기능1: 연락처 추가 \n",
      "기능2: 연락처 전체 보기 \n",
      "기능3: 검색(이름 입력) \n",
      "기능4: 수정(이름 입력) \n",
      "기능5: 삭제(이름 입력) \n",
      "기능6: 종료 \n",
      "------------------ \n"
     ]
    }
   ],
   "source": [
    "phone_book = {}\n",
    "\n",
    "\n",
    "while True:\n",
    "    print(f\"------------------  \\n기능1: 연락처 추가 \\n기능2: 연락처 전체 보기 \\n기능3: 검색(이름 입력) \\n기능4: 수정(이름 입력) \\n기능5: 삭제(이름 입력) \\n기능6: 종료 \\n------------------ \")\n",
    "    code = input(\"위에서 원하는 기능의 코드를 입력하세요.\")\n",
    "    \n",
    "    if code == '1' :\n",
    "        name = input(\"이름을 입력하세요.\")\n",
    "        phone = input(\"전화번호를 입력하세요.\")\n",
    "        phone_book[name] = phone\n",
    "        print(f\"=== >{name}님의 연락처 {phone}가 등록되었습니다.<===\")\n",
    "         \n",
    "    elif code == '2':\n",
    "        if phone_book:\n",
    "            print(phone_book)\n",
    "        else:\n",
    "            print(\"저장된 연락처가 없습니다.\")\n",
    "\n",
    "    elif code == '3':\n",
    "        name = input(\"검색할 이름을 입력하세요: \")\n",
    "        if name in phone_book:\n",
    "            print(f\"{name}의 전화번호는 {phone_book[name]}입니다.\")\n",
    "        else:\n",
    "            print(f\"{name}의 연락처를 찾을 수 없습니다.\")\n",
    "\n",
    "    elif code == '4':\n",
    "        name = input(\"수정할 이름을 입력하세요: \")\n",
    "        if name in phone_book:\n",
    "            number = input(f\"{name}의 새로운 전화번호를 입력하세요: \")\n",
    "            phone_book[name] = number\n",
    "            print(f\"{name}의 전화번호가 수정되었습니다.\")\n",
    "        else:\n",
    "            print(f\"{name}의 연락처를 찾을 수 없습니다.\")\n",
    "\n",
    "    elif code == '5':\n",
    "        name = input(\"삭제할 이름을 입력하세요: \")\n",
    "        if name in phone_book:\n",
    "            del phone_book[name]\n",
    "            print(f\"{name}의 연락처가 삭제되었습니다.\")\n",
    "        else:\n",
    "            print(f\"{name}의 연락처를 찾을 수 없습니다.\")\n",
    "\n",
    "    elif code == '6':\n",
    "        print(\"프로그램을 종료합니다.\")\n",
    "        break\n",
    "\n",
    "    else:\n",
    "        print(\"잘못된 입력입니다. 1에서 6 사이의 번호를 입력하세요.\")\n"
   ]
  },
  {
   "cell_type": "markdown",
   "metadata": {},
   "source": [
    "# 강사님ver"
   ]
  },
  {
   "cell_type": "code",
   "execution_count": null,
   "metadata": {
    "tags": []
   },
   "outputs": [
    {
     "name": "stdout",
     "output_type": "stream",
     "text": [
      "-----전화번호부 프로그램-----\n",
      "1.추가   2.보기   3.검색   4.수정   5.삭제   9.종료\n"
     ]
    }
   ],
   "source": [
    "contact = {}\n",
    "\n",
    "while True:\n",
    "    print('-----전화번호부 프로그램-----')\n",
    "    print('1.추가   2.보기   3.검색   4.수정   5.삭제   9.종료')\n",
    "    menu = int(input('메뉴를 선택해주세요.(숫자only): ' ))\n",
    "\n",
    "    if menu == 1:\n",
    "        print('연락처를 추가합니다.')\n",
    "        new_name = input('이름: ')\n",
    "        new_tel = input('전화번호: ')\n",
    "        print(new_name, new_tel)\n",
    "        # contact[new_name] = new_tel\n",
    "        contact.setdefault(new_name, new_tel)\n",
    "\n",
    "    elif menu == 2: #완성\n",
    "        print('연락처를 조회합니다.')\n",
    "        # print(contact)\n",
    "        for name, tel in contact.items():\n",
    "            print(name, '=', tel )\n",
    "\n",
    "    elif menu == 3: # 완성\n",
    "        print('연락처를 검색합니다.')\n",
    "        search_name = input('검색 이름: ')\n",
    "        # print(contact[search_name])\n",
    "        print(contact.get(search_name, '없는 이름입니다.'))\n",
    "\n",
    "\n",
    "    elif menu == 4: # 완성\n",
    "        print('연락처를 수정합니다.')\n",
    "        mod_name = input('수정 이름 : ')\n",
    "\n",
    "        if mod_name in contact:\n",
    "            mod_tel = input('새 전화번호 : ')\n",
    "            contact[mod_name] = mod_tel\n",
    "        else :\n",
    "            print('등록되지 않은 이름입니다.')\n",
    "\n",
    "    elif menu == 5: # 완성\n",
    "        print('연락처를 삭제합니다.')\n",
    "        del_name = input('삭제 이름: ')\n",
    "\n",
    "        if del_name in contact:\n",
    "            del contact[del_name]\n",
    "        else :\n",
    "            print('등록되지 않은 이름입니다.')\n",
    "\n",
    "\n",
    "    elif menu == 9: # 완성\n",
    "        print('연락처를 종료합니다.')\n",
    "        break\n",
    "\n",
    "    else :\n",
    "        print('잘못된 입력입니다.')"
   ]
  }
 ],
 "metadata": {
  "kernelspec": {
   "display_name": "Python 3 (ipykernel)",
   "language": "python",
   "name": "python3"
  },
  "language_info": {
   "codemirror_mode": {
    "name": "ipython",
    "version": 3
   },
   "file_extension": ".py",
   "mimetype": "text/x-python",
   "name": "python",
   "nbconvert_exporter": "python",
   "pygments_lexer": "ipython3",
   "version": "3.11.7"
  },
  "toc": {
   "base_numbering": 1,
   "nav_menu": {},
   "number_sections": true,
   "sideBar": true,
   "skip_h1_title": false,
   "title_cell": "Table of Contents",
   "title_sidebar": "Contents",
   "toc_cell": false,
   "toc_position": {},
   "toc_section_display": true,
   "toc_window_display": false
  },
  "varInspector": {
   "cols": {
    "lenName": 16,
    "lenType": 16,
    "lenVar": 40
   },
   "kernels_config": {
    "python": {
     "delete_cmd_postfix": "",
     "delete_cmd_prefix": "del ",
     "library": "var_list.py",
     "varRefreshCmd": "print(var_dic_list())"
    },
    "r": {
     "delete_cmd_postfix": ") ",
     "delete_cmd_prefix": "rm(",
     "library": "var_list.r",
     "varRefreshCmd": "cat(var_dic_list()) "
    }
   },
   "types_to_exclude": [
    "module",
    "function",
    "builtin_function_or_method",
    "instance",
    "_Feature"
   ],
   "window_display": false
  }
 },
 "nbformat": 4,
 "nbformat_minor": 4
}
