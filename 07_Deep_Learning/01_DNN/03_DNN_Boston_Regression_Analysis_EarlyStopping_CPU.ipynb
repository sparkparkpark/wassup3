{
 "cells": [
  {
   "cell_type": "markdown",
   "metadata": {
    "id": "LjNX3EXPFc7u"
   },
   "source": [
    "# Boston_Housing - Regression Analysis\n",
    "\n",
    "## Import TensorFlow"
   ]
  },
  {
   "cell_type": "code",
   "execution_count": 1,
   "metadata": {
    "executionInfo": {
     "elapsed": 4,
     "status": "ok",
     "timestamp": 1673407781124,
     "user": {
      "displayName": "이정구",
      "userId": "17400242557229223804"
     },
     "user_tz": -540
    },
    "id": "RbPgODpVzdHI"
   },
   "outputs": [],
   "source": [
    "import warnings\n",
    "warnings.filterwarnings('ignore')"
   ]
  },
  {
   "cell_type": "markdown",
   "metadata": {
    "id": "fD0O7UxBn_Rt"
   },
   "source": [
    "* import TensorFlow"
   ]
  },
  {
   "cell_type": "code",
   "execution_count": 2,
   "metadata": {
    "colab": {
     "base_uri": "https://localhost:8080/",
     "height": 35
    },
    "executionInfo": {
     "elapsed": 3073,
     "status": "ok",
     "timestamp": 1673407784194,
     "user": {
      "displayName": "이정구",
      "userId": "17400242557229223804"
     },
     "user_tz": -540
    },
    "id": "VV43aTWAnK_k",
    "outputId": "9b0c9286-1dad-4907-ce06-34ad68d97a98"
   },
   "outputs": [
    {
     "data": {
      "text/plain": [
       "'2.10.0'"
      ]
     },
     "execution_count": 2,
     "metadata": {},
     "output_type": "execute_result"
    }
   ],
   "source": [
    "import tensorflow as tf\n",
    "\n",
    "tf.__version__"
   ]
  },
  {
   "cell_type": "markdown",
   "metadata": {
    "id": "Mu8aBYFDoG3w"
   },
   "source": [
    "* GPU 설정 OFF"
   ]
  },
  {
   "cell_type": "code",
   "execution_count": 3,
   "metadata": {
    "colab": {
     "base_uri": "https://localhost:8080/",
     "height": 35
    },
    "executionInfo": {
     "elapsed": 32,
     "status": "ok",
     "timestamp": 1673407784197,
     "user": {
      "displayName": "이정구",
      "userId": "17400242557229223804"
     },
     "user_tz": -540
    },
    "id": "68YMkQDDC8Bc",
    "outputId": "3f158acf-aff6-4301-bd95-db78c99878de"
   },
   "outputs": [
    {
     "data": {
      "text/plain": [
       "'/device:GPU:0'"
      ]
     },
     "execution_count": 3,
     "metadata": {},
     "output_type": "execute_result"
    }
   ],
   "source": [
    "tf.test.gpu_device_name()"
   ]
  },
  {
   "cell_type": "markdown",
   "metadata": {
    "id": "Y7LxqxkVoPiM"
   },
   "source": [
    "# I. Boston_Housing Data_Set Load & Review"
   ]
  },
  {
   "cell_type": "markdown",
   "metadata": {
    "id": "1bgjwkhWb1fv"
   },
   "source": [
    "> ## 1) Load Boston_Housing Data_Set"
   ]
  },
  {
   "cell_type": "code",
   "execution_count": 4,
   "metadata": {
    "colab": {
     "base_uri": "https://localhost:8080/"
    },
    "executionInfo": {
     "elapsed": 30,
     "status": "ok",
     "timestamp": 1673407784198,
     "user": {
      "displayName": "이정구",
      "userId": "17400242557229223804"
     },
     "user_tz": -540
    },
    "id": "3cOeJPbMF6TU",
    "outputId": "43e9557c-6f25-490b-ec37-f89924be8a57"
   },
   "outputs": [
    {
     "name": "stdout",
     "output_type": "stream",
     "text": [
      "Downloading data from https://storage.googleapis.com/tensorflow/tf-keras-datasets/boston_housing.npz\n",
      "57026/57026 [==============================] - 0s 0us/step\n"
     ]
    }
   ],
   "source": [
    "from tensorflow.keras.datasets import boston_housing\n",
    "\n",
    "(X_train, y_train), (X_test, y_test) =  boston_housing.load_data()"
   ]
  },
  {
   "cell_type": "markdown",
   "metadata": {
    "id": "vb2uj53VDbak"
   },
   "source": [
    "> ## 2) Data_Set Information"
   ]
  },
  {
   "cell_type": "markdown",
   "metadata": {
    "id": "rC5x6nb_3vU0"
   },
   "source": [
    "* <font color = 'blue'>'boston.csv' (506 * 14)</font>\n",
    "\n",
    " - CRIM: 범죄 발생률\n",
    " - ZN: 25,000평방피트를 초과하는 거주 지역의 비율\n",
    " -  INDUS: 비소매 상업 지역 비율\n",
    " - CHAS: 찰스강 인접 여부(강주변 1, 아니면 0)\n",
    " - NOX: 일산화질소 농도\n",
    " - RM: 거주 목적 방 개수\n",
    " - AGE: 1940년 이전 건축된 주택 비율\n",
    " - DIS: 보스턴 5대 고용지역까지 거리\n",
    " - RAD: 고속도로 접근성\n",
    " - TAX: 10,000달러당 재산세율\n",
    " - PTRATIO: 교사와 학생 수 비율\n",
    " - B: 흑인 거주 비율\n",
    " - LSTAT: 하위 계층 비율\n",
    " - <font color = 'red'>PRICE: 주택 가격 -> 'y'"
   ]
  },
  {
   "cell_type": "code",
   "execution_count": 5,
   "metadata": {
    "colab": {
     "base_uri": "https://localhost:8080/"
    },
    "executionInfo": {
     "elapsed": 12,
     "status": "ok",
     "timestamp": 1673407784667,
     "user": {
      "displayName": "이정구",
      "userId": "17400242557229223804"
     },
     "user_tz": -540
    },
    "id": "ZOevNA5fGGgh",
    "outputId": "35d2f18b-cfcf-45a3-ec72-19387855874d"
   },
   "outputs": [
    {
     "name": "stdout",
     "output_type": "stream",
     "text": [
      "(404, 13)\n",
      "(102, 13)\n",
      "[15.2 42.3 50.  21.1 17.7 18.5 11.3 15.6 15.6 14.4]\n",
      "[ 7.2 18.8 19.  27.  22.2 24.5 31.2 22.9 20.5 23.2]\n"
     ]
    }
   ],
   "source": [
    "print(X_train.shape)\n",
    "print(X_test.shape)\n",
    "\n",
    "print(y_train[:10])\n",
    "print(y_test[:10])"
   ]
  },
  {
   "cell_type": "markdown",
   "metadata": {
    "id": "zGnHSb2LDurN"
   },
   "source": [
    "# II. Data Preprocessing"
   ]
  },
  {
   "cell_type": "markdown",
   "metadata": {
    "id": "oc3ICJk2odtO"
   },
   "source": [
    "> ## 1) Standardization\n",
    "\n",
    " * train_data & test_data"
   ]
  },
  {
   "cell_type": "code",
   "execution_count": 6,
   "metadata": {
    "executionInfo": {
     "elapsed": 8,
     "status": "ok",
     "timestamp": 1673407784667,
     "user": {
      "displayName": "이정구",
      "userId": "17400242557229223804"
     },
     "user_tz": -540
    },
    "id": "JErY3qRBGde_"
   },
   "outputs": [],
   "source": [
    "mean = X_train.mean(axis = 0)\n",
    "std = X_train.std(axis = 0)\n",
    "\n",
    "X_train = X_train - mean\n",
    "X_train = X_train / std\n",
    "\n",
    "X_test = X_test - mean\n",
    "X_test = X_test / std"
   ]
  },
  {
   "cell_type": "markdown",
   "metadata": {
    "id": "nhjflelxQzKL"
   },
   "source": [
    "> ## 2) Train & Validation Split"
   ]
  },
  {
   "cell_type": "code",
   "execution_count": 7,
   "metadata": {
    "colab": {
     "base_uri": "https://localhost:8080/"
    },
    "executionInfo": {
     "elapsed": 417,
     "status": "ok",
     "timestamp": 1673407785076,
     "user": {
      "displayName": "이정구",
      "userId": "17400242557229223804"
     },
     "user_tz": -540
    },
    "id": "d3XGRBzkQ11v",
    "outputId": "4dfad450-4f3c-4ce7-b0fa-a4dd96a75614"
   },
   "outputs": [
    {
     "data": {
      "text/plain": [
       "((323, 13), (81, 13), (323,), (81,))"
      ]
     },
     "execution_count": 7,
     "metadata": {},
     "output_type": "execute_result"
    }
   ],
   "source": [
    "from sklearn.model_selection import train_test_split\n",
    "\n",
    "X_train, X_valid, y_train, y_valid = train_test_split(X_train, y_train, \n",
    "                                                      test_size = 0.2, \n",
    "                                                      random_state = 2045) \n",
    "\n",
    "X_train.shape, X_valid.shape, y_train.shape, y_valid.shape"
   ]
  },
  {
   "cell_type": "markdown",
   "metadata": {
    "id": "-jEAyLdtD9aa"
   },
   "source": [
    "# III. Boston_Housing Keras Modeling"
   ]
  },
  {
   "cell_type": "markdown",
   "metadata": {
    "id": "4Ws01hC2opeC"
   },
   "source": [
    "> ## 1) Model Define"
   ]
  },
  {
   "cell_type": "code",
   "execution_count": 8,
   "metadata": {
    "executionInfo": {
     "elapsed": 571,
     "status": "ok",
     "timestamp": 1673407785645,
     "user": {
      "displayName": "이정구",
      "userId": "17400242557229223804"
     },
     "user_tz": -540
    },
    "id": "VPyXS9kzGhEX"
   },
   "outputs": [],
   "source": [
    "from tensorflow.keras import models\n",
    "from tensorflow.keras import layers\n",
    "\n",
    "boston = models.Sequential(name = 'Regression')\n",
    "boston.add(layers.Dense(64, activation = 'relu', input_shape = (13,)))\n",
    "boston.add(layers.Dense(64, activation = 'relu'))\n",
    "boston.add(layers.Dense(1))"
   ]
  },
  {
   "cell_type": "code",
   "execution_count": 9,
   "metadata": {
    "colab": {
     "base_uri": "https://localhost:8080/"
    },
    "executionInfo": {
     "elapsed": 13,
     "status": "ok",
     "timestamp": 1673407785647,
     "user": {
      "displayName": "이정구",
      "userId": "17400242557229223804"
     },
     "user_tz": -540
    },
    "id": "fF4M7J5WKtw9",
    "outputId": "791ffc46-6c7a-4f03-e365-f96b8220dd9f"
   },
   "outputs": [
    {
     "name": "stdout",
     "output_type": "stream",
     "text": [
      "Model: \"Regression\"\n",
      "_________________________________________________________________\n",
      " Layer (type)                Output Shape              Param #   \n",
      "=================================================================\n",
      " dense (Dense)               (None, 64)                896       \n",
      "                                                                 \n",
      " dense_1 (Dense)             (None, 64)                4160      \n",
      "                                                                 \n",
      " dense_2 (Dense)             (None, 1)                 65        \n",
      "                                                                 \n",
      "=================================================================\n",
      "Total params: 5,121\n",
      "Trainable params: 5,121\n",
      "Non-trainable params: 0\n",
      "_________________________________________________________________\n"
     ]
    }
   ],
   "source": [
    "boston.summary()"
   ]
  },
  {
   "cell_type": "markdown",
   "metadata": {
    "id": "NKzJ_OtWcIph"
   },
   "source": [
    "> ## 2) Model Compile"
   ]
  },
  {
   "cell_type": "code",
   "execution_count": 10,
   "metadata": {
    "executionInfo": {
     "elapsed": 6,
     "status": "ok",
     "timestamp": 1673407785647,
     "user": {
      "displayName": "이정구",
      "userId": "17400242557229223804"
     },
     "user_tz": -540
    },
    "id": "pzkR29BwEK6c"
   },
   "outputs": [],
   "source": [
    "boston.compile(loss = 'mse',\n",
    "               optimizer = 'rmsprop',\n",
    "               metrics = ['mae'])"
   ]
  },
  {
   "cell_type": "markdown",
   "metadata": {
    "id": "2c2K8UOFcMJw"
   },
   "source": [
    "> ## 3) Model Fit\n",
    "\n",
    " * 약 8분"
   ]
  },
  {
   "cell_type": "code",
   "execution_count": 11,
   "metadata": {
    "colab": {
     "base_uri": "https://localhost:8080/"
    },
    "executionInfo": {
     "elapsed": 338773,
     "status": "ok",
     "timestamp": 1673408124415,
     "user": {
      "displayName": "이정구",
      "userId": "17400242557229223804"
     },
     "user_tz": -540
    },
    "id": "5ZTtl9IZEwyu",
    "outputId": "9432de28-2560-46fd-c4fb-96ded208ba91",
    "scrolled": true
   },
   "outputs": [
    {
     "name": "stdout",
     "output_type": "stream",
     "text": [
      "Epoch 1/500\n",
      "323/323 [==============================] - 1s 2ms/step - loss: 177.8194 - mae: 9.7962 - val_loss: 41.5529 - val_mae: 4.0896\n",
      "Epoch 2/500\n",
      "323/323 [==============================] - 0s 1ms/step - loss: 24.6227 - mae: 3.4540 - val_loss: 27.8640 - val_mae: 2.8661\n",
      "Epoch 3/500\n",
      "323/323 [==============================] - 0s 1ms/step - loss: 18.8948 - mae: 2.9359 - val_loss: 21.7358 - val_mae: 2.6584\n",
      "Epoch 4/500\n",
      "323/323 [==============================] - 0s 1ms/step - loss: 15.6091 - mae: 2.6651 - val_loss: 26.0436 - val_mae: 2.9602\n",
      "Epoch 5/500\n",
      "323/323 [==============================] - 0s 1ms/step - loss: 14.5034 - mae: 2.5310 - val_loss: 22.9235 - val_mae: 2.5066\n",
      "Epoch 6/500\n",
      "323/323 [==============================] - 0s 1ms/step - loss: 13.9794 - mae: 2.4282 - val_loss: 18.5244 - val_mae: 2.4789\n",
      "Epoch 7/500\n",
      "323/323 [==============================] - 0s 1ms/step - loss: 12.6019 - mae: 2.3579 - val_loss: 19.6487 - val_mae: 2.5491\n",
      "Epoch 8/500\n",
      "323/323 [==============================] - 0s 1ms/step - loss: 11.9924 - mae: 2.2659 - val_loss: 18.8113 - val_mae: 2.5979\n",
      "Epoch 9/500\n",
      "323/323 [==============================] - 0s 1ms/step - loss: 11.5856 - mae: 2.2630 - val_loss: 17.9791 - val_mae: 2.2899\n",
      "Epoch 10/500\n",
      "323/323 [==============================] - 0s 1ms/step - loss: 11.2957 - mae: 2.2556 - val_loss: 21.0224 - val_mae: 3.1198\n",
      "Epoch 11/500\n",
      "323/323 [==============================] - 0s 1ms/step - loss: 10.5188 - mae: 2.1346 - val_loss: 17.8256 - val_mae: 2.5581\n",
      "Epoch 12/500\n",
      "323/323 [==============================] - 0s 1ms/step - loss: 11.6815 - mae: 2.1643 - val_loss: 17.8075 - val_mae: 2.4828\n",
      "Epoch 13/500\n",
      "323/323 [==============================] - 0s 1ms/step - loss: 11.2143 - mae: 2.1604 - val_loss: 16.4692 - val_mae: 2.3409\n",
      "Epoch 14/500\n",
      "323/323 [==============================] - 0s 1ms/step - loss: 10.5266 - mae: 2.1223 - val_loss: 16.9992 - val_mae: 2.2255\n",
      "Epoch 15/500\n",
      "323/323 [==============================] - 0s 1ms/step - loss: 10.8482 - mae: 2.1286 - val_loss: 13.8980 - val_mae: 2.4332\n",
      "Epoch 16/500\n",
      "323/323 [==============================] - 0s 1ms/step - loss: 9.6514 - mae: 2.1362 - val_loss: 14.1411 - val_mae: 2.2074\n",
      "Epoch 17/500\n",
      "323/323 [==============================] - 0s 1ms/step - loss: 10.4831 - mae: 2.1041 - val_loss: 15.2403 - val_mae: 2.2952\n",
      "Epoch 18/500\n",
      "323/323 [==============================] - 0s 1ms/step - loss: 9.8036 - mae: 2.0692 - val_loss: 14.0598 - val_mae: 2.1855\n",
      "Epoch 19/500\n",
      "323/323 [==============================] - 0s 1ms/step - loss: 9.7019 - mae: 2.0402 - val_loss: 14.9475 - val_mae: 2.2987\n",
      "Epoch 20/500\n",
      "323/323 [==============================] - 0s 1ms/step - loss: 9.5664 - mae: 2.0794 - val_loss: 16.3964 - val_mae: 2.3567\n",
      "Epoch 21/500\n",
      "323/323 [==============================] - 0s 1ms/step - loss: 9.6066 - mae: 1.9833 - val_loss: 14.2400 - val_mae: 2.3147\n",
      "Epoch 22/500\n",
      "323/323 [==============================] - 0s 1ms/step - loss: 8.6848 - mae: 1.9587 - val_loss: 14.4790 - val_mae: 2.3622\n",
      "Epoch 23/500\n",
      "323/323 [==============================] - 0s 1ms/step - loss: 9.2508 - mae: 2.0203 - val_loss: 14.0242 - val_mae: 2.2887\n",
      "Epoch 24/500\n",
      "323/323 [==============================] - 0s 1ms/step - loss: 9.0098 - mae: 1.9508 - val_loss: 13.3771 - val_mae: 2.0990\n",
      "Epoch 25/500\n",
      "323/323 [==============================] - 0s 1ms/step - loss: 8.7726 - mae: 1.9629 - val_loss: 12.5574 - val_mae: 2.2383\n",
      "Epoch 26/500\n",
      "323/323 [==============================] - 0s 1ms/step - loss: 8.4086 - mae: 1.9309 - val_loss: 12.2465 - val_mae: 2.1413\n",
      "Epoch 27/500\n",
      "323/323 [==============================] - 0s 1ms/step - loss: 8.8198 - mae: 1.9306 - val_loss: 12.3632 - val_mae: 2.1145\n",
      "Epoch 28/500\n",
      "323/323 [==============================] - 0s 1ms/step - loss: 8.6551 - mae: 2.0012 - val_loss: 13.3458 - val_mae: 2.2309\n",
      "Epoch 29/500\n",
      "323/323 [==============================] - 0s 1ms/step - loss: 8.4912 - mae: 1.9002 - val_loss: 14.1348 - val_mae: 2.4714\n",
      "Epoch 30/500\n",
      "323/323 [==============================] - 0s 1ms/step - loss: 8.3824 - mae: 1.9300 - val_loss: 10.8793 - val_mae: 2.0941\n",
      "Epoch 31/500\n",
      "323/323 [==============================] - 0s 1ms/step - loss: 8.2619 - mae: 1.9262 - val_loss: 9.3465 - val_mae: 1.9593\n",
      "Epoch 32/500\n",
      "323/323 [==============================] - 0s 1ms/step - loss: 8.0610 - mae: 1.9613 - val_loss: 11.5074 - val_mae: 2.2051\n",
      "Epoch 33/500\n",
      "323/323 [==============================] - 0s 1ms/step - loss: 8.2153 - mae: 1.8996 - val_loss: 11.9001 - val_mae: 2.1718\n",
      "Epoch 34/500\n",
      "323/323 [==============================] - 0s 1ms/step - loss: 7.5391 - mae: 1.8051 - val_loss: 10.6664 - val_mae: 2.3303\n",
      "Epoch 35/500\n",
      "323/323 [==============================] - 0s 1ms/step - loss: 7.9781 - mae: 1.9026 - val_loss: 11.5537 - val_mae: 2.1529\n",
      "Epoch 36/500\n",
      "323/323 [==============================] - 0s 1ms/step - loss: 8.0432 - mae: 1.8053 - val_loss: 9.6263 - val_mae: 1.9602\n",
      "Epoch 37/500\n",
      "323/323 [==============================] - 0s 1ms/step - loss: 7.6398 - mae: 1.8002 - val_loss: 9.7400 - val_mae: 2.0823\n",
      "Epoch 38/500\n",
      "323/323 [==============================] - 0s 1ms/step - loss: 7.7536 - mae: 1.8095 - val_loss: 10.8294 - val_mae: 2.1570\n",
      "Epoch 39/500\n",
      "323/323 [==============================] - 0s 1ms/step - loss: 7.3860 - mae: 1.8285 - val_loss: 10.8613 - val_mae: 2.2333\n",
      "Epoch 40/500\n",
      "323/323 [==============================] - 0s 1ms/step - loss: 7.0492 - mae: 1.7548 - val_loss: 9.3147 - val_mae: 2.0446\n",
      "Epoch 41/500\n",
      "323/323 [==============================] - 0s 1ms/step - loss: 7.1933 - mae: 1.8181 - val_loss: 11.4534 - val_mae: 2.1837\n",
      "Epoch 42/500\n",
      "323/323 [==============================] - 0s 1ms/step - loss: 7.0528 - mae: 1.7814 - val_loss: 10.4332 - val_mae: 2.1163\n",
      "Epoch 43/500\n",
      "323/323 [==============================] - 0s 1ms/step - loss: 7.0540 - mae: 1.8433 - val_loss: 11.1986 - val_mae: 2.1798\n",
      "Epoch 44/500\n",
      "323/323 [==============================] - 0s 1ms/step - loss: 7.1757 - mae: 1.7376 - val_loss: 9.3595 - val_mae: 2.0531\n",
      "Epoch 45/500\n",
      "323/323 [==============================] - 0s 1ms/step - loss: 7.1676 - mae: 1.7666 - val_loss: 10.3902 - val_mae: 2.0952\n",
      "Epoch 46/500\n",
      "323/323 [==============================] - 0s 1ms/step - loss: 6.7772 - mae: 1.6915 - val_loss: 11.3530 - val_mae: 2.4193\n",
      "Epoch 47/500\n",
      "323/323 [==============================] - 0s 1ms/step - loss: 6.6223 - mae: 1.7507 - val_loss: 9.0932 - val_mae: 2.1050\n",
      "Epoch 48/500\n",
      "323/323 [==============================] - 0s 1ms/step - loss: 6.4960 - mae: 1.7672 - val_loss: 9.8627 - val_mae: 2.2056\n",
      "Epoch 49/500\n",
      "323/323 [==============================] - 0s 1ms/step - loss: 6.6831 - mae: 1.7334 - val_loss: 10.3424 - val_mae: 2.2927\n",
      "Epoch 50/500\n",
      "323/323 [==============================] - 0s 1ms/step - loss: 6.5693 - mae: 1.6972 - val_loss: 9.0472 - val_mae: 2.1273\n",
      "Epoch 51/500\n",
      "323/323 [==============================] - 0s 1ms/step - loss: 6.3951 - mae: 1.7009 - val_loss: 8.4253 - val_mae: 2.0596\n",
      "Epoch 52/500\n",
      "323/323 [==============================] - 0s 1ms/step - loss: 6.1383 - mae: 1.6888 - val_loss: 10.5317 - val_mae: 2.2232\n",
      "Epoch 53/500\n",
      "323/323 [==============================] - 0s 1ms/step - loss: 6.1716 - mae: 1.6607 - val_loss: 9.6362 - val_mae: 2.0947\n",
      "Epoch 54/500\n",
      "323/323 [==============================] - 0s 1ms/step - loss: 6.3320 - mae: 1.6202 - val_loss: 9.8157 - val_mae: 2.1486\n",
      "Epoch 55/500\n",
      "323/323 [==============================] - 0s 1ms/step - loss: 6.4234 - mae: 1.6708 - val_loss: 8.7751 - val_mae: 2.0798\n",
      "Epoch 56/500\n",
      "323/323 [==============================] - 0s 1ms/step - loss: 6.1439 - mae: 1.6397 - val_loss: 9.7583 - val_mae: 2.1606\n",
      "Epoch 57/500\n",
      "323/323 [==============================] - 0s 1ms/step - loss: 6.1763 - mae: 1.6717 - val_loss: 10.3706 - val_mae: 2.2055\n",
      "Epoch 58/500\n",
      "323/323 [==============================] - 0s 1ms/step - loss: 6.1513 - mae: 1.6872 - val_loss: 9.3626 - val_mae: 2.2126\n",
      "Epoch 59/500\n",
      "323/323 [==============================] - 0s 1ms/step - loss: 5.7159 - mae: 1.6129 - val_loss: 8.3637 - val_mae: 2.0569\n",
      "Epoch 60/500\n",
      "323/323 [==============================] - 0s 1ms/step - loss: 5.7914 - mae: 1.6370 - val_loss: 9.7527 - val_mae: 2.2547\n",
      "Epoch 61/500\n",
      "323/323 [==============================] - 0s 1ms/step - loss: 5.6241 - mae: 1.5908 - val_loss: 10.1251 - val_mae: 2.3127\n",
      "Epoch 62/500\n",
      "323/323 [==============================] - 0s 1ms/step - loss: 5.5689 - mae: 1.5855 - val_loss: 9.4153 - val_mae: 2.1376\n",
      "Epoch 63/500\n",
      "323/323 [==============================] - 0s 1ms/step - loss: 5.5510 - mae: 1.5689 - val_loss: 9.4812 - val_mae: 2.1319\n",
      "Epoch 64/500\n",
      "323/323 [==============================] - 0s 2ms/step - loss: 5.6761 - mae: 1.5785 - val_loss: 8.4908 - val_mae: 2.0884\n",
      "Epoch 65/500\n",
      "323/323 [==============================] - 0s 2ms/step - loss: 5.6166 - mae: 1.6023 - val_loss: 8.5371 - val_mae: 2.0729\n",
      "Epoch 66/500\n",
      "323/323 [==============================] - 0s 1ms/step - loss: 5.5328 - mae: 1.5731 - val_loss: 10.0614 - val_mae: 2.3578\n",
      "Epoch 67/500\n",
      "323/323 [==============================] - 0s 1ms/step - loss: 5.6834 - mae: 1.6299 - val_loss: 9.5909 - val_mae: 2.2334\n",
      "Epoch 68/500\n",
      "323/323 [==============================] - 0s 1ms/step - loss: 5.1262 - mae: 1.5442 - val_loss: 9.2274 - val_mae: 2.2513\n",
      "Epoch 69/500\n",
      "323/323 [==============================] - 0s 1ms/step - loss: 5.2569 - mae: 1.5362 - val_loss: 9.0914 - val_mae: 2.1356\n",
      "Epoch 70/500\n",
      "323/323 [==============================] - 0s 1ms/step - loss: 4.8534 - mae: 1.5530 - val_loss: 8.5981 - val_mae: 2.0956\n",
      "Epoch 71/500\n",
      "323/323 [==============================] - 0s 1ms/step - loss: 5.1758 - mae: 1.5764 - val_loss: 10.0147 - val_mae: 2.2400\n",
      "Epoch 72/500\n",
      "323/323 [==============================] - 0s 1ms/step - loss: 5.1116 - mae: 1.4727 - val_loss: 8.5193 - val_mae: 2.2069\n",
      "Epoch 73/500\n",
      "323/323 [==============================] - 0s 1ms/step - loss: 5.1667 - mae: 1.4990 - val_loss: 9.4782 - val_mae: 2.2842\n",
      "Epoch 74/500\n",
      "323/323 [==============================] - 0s 1ms/step - loss: 4.8429 - mae: 1.5208 - val_loss: 9.7357 - val_mae: 2.2876\n",
      "Epoch 75/500\n",
      "323/323 [==============================] - 0s 1ms/step - loss: 5.0297 - mae: 1.4438 - val_loss: 8.4297 - val_mae: 2.1851\n",
      "Epoch 76/500\n",
      "323/323 [==============================] - 0s 1ms/step - loss: 4.9032 - mae: 1.4312 - val_loss: 8.6034 - val_mae: 2.1697\n",
      "Epoch 77/500\n",
      "323/323 [==============================] - 0s 1ms/step - loss: 4.8247 - mae: 1.5054 - val_loss: 8.5916 - val_mae: 2.1105\n",
      "Epoch 78/500\n",
      "323/323 [==============================] - 0s 1ms/step - loss: 4.9058 - mae: 1.4918 - val_loss: 9.8669 - val_mae: 2.3438\n",
      "Epoch 79/500\n",
      "323/323 [==============================] - 0s 1ms/step - loss: 4.7737 - mae: 1.4355 - val_loss: 9.6789 - val_mae: 2.1388\n",
      "Epoch 80/500\n",
      "323/323 [==============================] - 0s 1ms/step - loss: 4.8225 - mae: 1.4863 - val_loss: 8.9226 - val_mae: 2.1509\n",
      "Epoch 81/500\n",
      "323/323 [==============================] - 0s 1ms/step - loss: 4.7658 - mae: 1.4632 - val_loss: 9.2872 - val_mae: 2.1761\n",
      "Epoch 82/500\n",
      "323/323 [==============================] - 0s 1ms/step - loss: 4.8832 - mae: 1.4624 - val_loss: 9.2021 - val_mae: 2.2080\n",
      "Epoch 83/500\n",
      "323/323 [==============================] - 0s 1ms/step - loss: 4.4821 - mae: 1.4170 - val_loss: 10.2471 - val_mae: 2.2876\n",
      "Epoch 84/500\n",
      "323/323 [==============================] - 0s 1ms/step - loss: 4.5722 - mae: 1.4071 - val_loss: 10.6914 - val_mae: 2.3251\n",
      "Epoch 85/500\n",
      "323/323 [==============================] - 0s 1ms/step - loss: 4.5246 - mae: 1.4102 - val_loss: 16.3230 - val_mae: 3.0458\n",
      "Epoch 86/500\n",
      "323/323 [==============================] - 0s 1ms/step - loss: 4.5374 - mae: 1.4176 - val_loss: 13.1448 - val_mae: 2.5855\n",
      "Epoch 87/500\n",
      "323/323 [==============================] - 0s 1ms/step - loss: 4.5816 - mae: 1.4852 - val_loss: 9.5828 - val_mae: 2.1818\n",
      "Epoch 88/500\n",
      "323/323 [==============================] - 0s 1ms/step - loss: 4.4352 - mae: 1.4084 - val_loss: 9.2825 - val_mae: 2.1787\n",
      "Epoch 89/500\n",
      "323/323 [==============================] - 0s 1ms/step - loss: 4.5179 - mae: 1.4044 - val_loss: 9.3792 - val_mae: 2.1902\n",
      "Epoch 90/500\n",
      "323/323 [==============================] - 0s 1ms/step - loss: 4.4183 - mae: 1.4166 - val_loss: 8.9747 - val_mae: 2.2317\n",
      "Epoch 91/500\n",
      "323/323 [==============================] - 0s 1ms/step - loss: 4.4412 - mae: 1.3932 - val_loss: 10.5681 - val_mae: 2.4092\n",
      "Epoch 92/500\n",
      "323/323 [==============================] - 0s 1ms/step - loss: 4.3916 - mae: 1.3641 - val_loss: 10.1527 - val_mae: 2.2807\n",
      "Epoch 93/500\n",
      "323/323 [==============================] - 0s 1ms/step - loss: 3.9093 - mae: 1.3142 - val_loss: 10.6917 - val_mae: 2.3043\n",
      "Epoch 94/500\n",
      "323/323 [==============================] - 0s 1ms/step - loss: 4.2832 - mae: 1.4200 - val_loss: 10.2518 - val_mae: 2.2928\n",
      "Epoch 95/500\n",
      "323/323 [==============================] - 0s 1ms/step - loss: 4.0225 - mae: 1.3807 - val_loss: 9.8242 - val_mae: 2.2994\n",
      "Epoch 96/500\n",
      "323/323 [==============================] - 0s 1ms/step - loss: 4.1111 - mae: 1.3562 - val_loss: 13.1005 - val_mae: 2.5878\n",
      "Epoch 97/500\n",
      "323/323 [==============================] - 0s 1ms/step - loss: 4.1726 - mae: 1.3741 - val_loss: 8.5907 - val_mae: 2.1152\n",
      "Epoch 98/500\n",
      "323/323 [==============================] - 0s 1ms/step - loss: 4.2838 - mae: 1.3402 - val_loss: 10.5187 - val_mae: 2.3598\n",
      "Epoch 99/500\n",
      "323/323 [==============================] - 0s 1ms/step - loss: 3.7747 - mae: 1.2704 - val_loss: 10.4276 - val_mae: 2.3073\n",
      "Epoch 100/500\n",
      "323/323 [==============================] - 0s 1ms/step - loss: 3.9792 - mae: 1.3045 - val_loss: 10.9201 - val_mae: 2.4385\n",
      "Epoch 101/500\n",
      "323/323 [==============================] - 0s 1ms/step - loss: 4.0488 - mae: 1.3193 - val_loss: 11.5304 - val_mae: 2.4923\n",
      "Epoch 102/500\n",
      "323/323 [==============================] - 0s 1ms/step - loss: 4.1549 - mae: 1.3398 - val_loss: 9.7795 - val_mae: 2.1826\n",
      "Epoch 103/500\n",
      "323/323 [==============================] - 0s 1ms/step - loss: 4.2020 - mae: 1.3295 - val_loss: 11.3558 - val_mae: 2.3191\n",
      "Epoch 104/500\n",
      "323/323 [==============================] - 0s 1ms/step - loss: 4.0764 - mae: 1.3131 - val_loss: 10.5872 - val_mae: 2.3123\n",
      "Epoch 105/500\n",
      "323/323 [==============================] - 0s 1ms/step - loss: 4.0060 - mae: 1.3608 - val_loss: 11.2574 - val_mae: 2.3782\n",
      "Epoch 106/500\n",
      "323/323 [==============================] - 0s 1ms/step - loss: 3.9594 - mae: 1.3177 - val_loss: 12.5006 - val_mae: 2.4928\n",
      "Epoch 107/500\n",
      "323/323 [==============================] - 0s 1ms/step - loss: 3.8427 - mae: 1.2439 - val_loss: 10.0354 - val_mae: 2.4018\n",
      "Epoch 108/500\n",
      "323/323 [==============================] - 0s 1ms/step - loss: 3.9626 - mae: 1.3374 - val_loss: 13.5372 - val_mae: 2.7968\n",
      "Epoch 109/500\n",
      "323/323 [==============================] - 0s 1ms/step - loss: 3.8536 - mae: 1.3111 - val_loss: 9.6653 - val_mae: 2.2920\n",
      "Epoch 110/500\n",
      "323/323 [==============================] - 0s 1ms/step - loss: 3.7950 - mae: 1.2768 - val_loss: 11.2730 - val_mae: 2.4132\n",
      "Epoch 111/500\n",
      "323/323 [==============================] - 0s 1ms/step - loss: 3.7535 - mae: 1.2728 - val_loss: 11.4988 - val_mae: 2.4268\n",
      "Epoch 112/500\n",
      "323/323 [==============================] - 0s 1ms/step - loss: 3.9676 - mae: 1.2551 - val_loss: 11.7838 - val_mae: 2.4540\n",
      "Epoch 113/500\n",
      "323/323 [==============================] - 0s 1ms/step - loss: 3.7187 - mae: 1.2810 - val_loss: 14.2442 - val_mae: 2.5396\n",
      "Epoch 114/500\n",
      "323/323 [==============================] - 0s 1ms/step - loss: 3.6864 - mae: 1.2866 - val_loss: 14.2914 - val_mae: 2.7472\n",
      "Epoch 115/500\n",
      "323/323 [==============================] - 0s 1ms/step - loss: 3.5223 - mae: 1.2518 - val_loss: 12.3337 - val_mae: 2.4490\n",
      "Epoch 116/500\n",
      "323/323 [==============================] - 0s 1ms/step - loss: 3.7840 - mae: 1.2802 - val_loss: 10.8439 - val_mae: 2.3020\n",
      "Epoch 117/500\n",
      "323/323 [==============================] - 0s 1ms/step - loss: 3.5307 - mae: 1.2423 - val_loss: 11.0337 - val_mae: 2.3686\n",
      "Epoch 118/500\n",
      "323/323 [==============================] - 0s 1ms/step - loss: 3.7581 - mae: 1.2430 - val_loss: 11.1894 - val_mae: 2.4741\n",
      "Epoch 119/500\n",
      "323/323 [==============================] - 0s 1ms/step - loss: 3.8274 - mae: 1.2744 - val_loss: 12.0278 - val_mae: 2.3642\n",
      "Epoch 120/500\n",
      "323/323 [==============================] - 0s 1ms/step - loss: 3.6719 - mae: 1.2571 - val_loss: 12.9860 - val_mae: 2.4716\n",
      "Epoch 121/500\n",
      "323/323 [==============================] - 0s 1ms/step - loss: 3.4396 - mae: 1.2257 - val_loss: 12.2074 - val_mae: 2.3881\n",
      "Epoch 122/500\n",
      "323/323 [==============================] - 0s 1ms/step - loss: 3.5606 - mae: 1.2240 - val_loss: 11.7781 - val_mae: 2.3602\n",
      "Epoch 123/500\n",
      "323/323 [==============================] - 0s 1ms/step - loss: 3.5129 - mae: 1.1879 - val_loss: 12.6624 - val_mae: 2.5236\n",
      "Epoch 124/500\n",
      "323/323 [==============================] - 0s 1ms/step - loss: 3.4027 - mae: 1.2107 - val_loss: 12.4122 - val_mae: 2.6700\n",
      "Epoch 125/500\n",
      "323/323 [==============================] - 0s 1ms/step - loss: 3.5239 - mae: 1.1950 - val_loss: 11.9158 - val_mae: 2.3977\n",
      "Epoch 126/500\n",
      "323/323 [==============================] - 0s 1ms/step - loss: 3.5490 - mae: 1.2128 - val_loss: 11.9544 - val_mae: 2.4839\n",
      "Epoch 127/500\n",
      "323/323 [==============================] - 1s 2ms/step - loss: 3.4657 - mae: 1.2373 - val_loss: 12.3905 - val_mae: 2.4669\n",
      "Epoch 128/500\n",
      "323/323 [==============================] - 0s 1ms/step - loss: 3.3801 - mae: 1.2125 - val_loss: 11.2963 - val_mae: 2.3675\n",
      "Epoch 129/500\n",
      "323/323 [==============================] - 0s 1ms/step - loss: 3.3378 - mae: 1.2217 - val_loss: 12.2200 - val_mae: 2.4072\n",
      "Epoch 130/500\n",
      "323/323 [==============================] - 0s 1ms/step - loss: 3.2556 - mae: 1.1972 - val_loss: 11.7748 - val_mae: 2.4716\n",
      "Epoch 131/500\n",
      "323/323 [==============================] - 0s 1ms/step - loss: 3.1934 - mae: 1.1694 - val_loss: 14.6103 - val_mae: 2.8200\n",
      "Epoch 132/500\n",
      "323/323 [==============================] - 0s 1ms/step - loss: 3.3343 - mae: 1.2213 - val_loss: 11.7987 - val_mae: 2.5339\n",
      "Epoch 133/500\n",
      "323/323 [==============================] - 0s 1ms/step - loss: 3.1056 - mae: 1.2163 - val_loss: 11.1953 - val_mae: 2.3897\n",
      "Epoch 134/500\n",
      "323/323 [==============================] - 0s 1ms/step - loss: 3.3381 - mae: 1.1948 - val_loss: 11.2952 - val_mae: 2.3846\n",
      "Epoch 135/500\n",
      "323/323 [==============================] - 0s 1ms/step - loss: 3.3529 - mae: 1.1888 - val_loss: 12.2278 - val_mae: 2.4448\n",
      "Epoch 136/500\n",
      "323/323 [==============================] - 0s 1ms/step - loss: 3.0863 - mae: 1.1752 - val_loss: 14.2700 - val_mae: 2.7170\n",
      "Epoch 137/500\n",
      "323/323 [==============================] - 0s 1ms/step - loss: 3.1626 - mae: 1.1832 - val_loss: 13.8192 - val_mae: 2.5372\n",
      "Epoch 138/500\n",
      "323/323 [==============================] - 0s 1ms/step - loss: 3.4474 - mae: 1.1402 - val_loss: 12.8804 - val_mae: 2.4410\n",
      "Epoch 139/500\n",
      "323/323 [==============================] - 0s 1ms/step - loss: 3.1046 - mae: 1.1142 - val_loss: 13.7475 - val_mae: 2.4575\n",
      "Epoch 140/500\n",
      "323/323 [==============================] - 0s 1ms/step - loss: 3.3056 - mae: 1.1437 - val_loss: 11.8547 - val_mae: 2.4673\n",
      "Epoch 141/500\n",
      "323/323 [==============================] - 0s 1ms/step - loss: 3.2173 - mae: 1.1565 - val_loss: 13.1791 - val_mae: 2.4295\n",
      "Epoch 142/500\n",
      "323/323 [==============================] - 0s 1ms/step - loss: 3.3262 - mae: 1.1518 - val_loss: 14.8846 - val_mae: 2.5271\n",
      "Epoch 143/500\n",
      "323/323 [==============================] - 0s 1ms/step - loss: 3.0780 - mae: 1.1702 - val_loss: 11.9794 - val_mae: 2.3759\n",
      "Epoch 144/500\n",
      "323/323 [==============================] - 0s 1ms/step - loss: 2.9434 - mae: 1.1324 - val_loss: 11.5453 - val_mae: 2.3813\n",
      "Epoch 145/500\n",
      "323/323 [==============================] - 0s 1ms/step - loss: 3.1188 - mae: 1.1078 - val_loss: 11.7568 - val_mae: 2.4091\n",
      "Epoch 146/500\n",
      "323/323 [==============================] - 0s 1ms/step - loss: 2.9299 - mae: 1.1635 - val_loss: 15.3961 - val_mae: 2.6024\n",
      "Epoch 147/500\n",
      "323/323 [==============================] - 0s 1ms/step - loss: 2.9196 - mae: 1.1113 - val_loss: 15.4070 - val_mae: 2.6124\n",
      "Epoch 148/500\n",
      "323/323 [==============================] - 0s 1ms/step - loss: 3.2584 - mae: 1.1594 - val_loss: 14.2932 - val_mae: 2.5370\n",
      "Epoch 149/500\n",
      "323/323 [==============================] - 0s 1ms/step - loss: 2.8024 - mae: 1.1482 - val_loss: 13.1258 - val_mae: 2.5791\n",
      "Epoch 150/500\n",
      "323/323 [==============================] - 0s 1ms/step - loss: 2.7621 - mae: 1.0969 - val_loss: 15.0873 - val_mae: 2.5725\n",
      "Epoch 151/500\n",
      "323/323 [==============================] - 0s 1ms/step - loss: 3.0068 - mae: 1.1119 - val_loss: 15.1530 - val_mae: 2.7009\n",
      "Epoch 152/500\n",
      "323/323 [==============================] - 0s 1ms/step - loss: 2.7425 - mae: 1.1466 - val_loss: 12.8605 - val_mae: 2.5878\n",
      "Epoch 153/500\n",
      "323/323 [==============================] - 0s 1ms/step - loss: 2.9215 - mae: 1.1314 - val_loss: 13.2537 - val_mae: 2.5533\n",
      "Epoch 154/500\n",
      "323/323 [==============================] - 0s 1ms/step - loss: 2.8607 - mae: 1.1118 - val_loss: 17.0904 - val_mae: 2.9725\n",
      "Epoch 155/500\n",
      "323/323 [==============================] - 0s 1ms/step - loss: 2.8135 - mae: 1.1159 - val_loss: 13.4160 - val_mae: 2.5552\n",
      "Epoch 156/500\n",
      "323/323 [==============================] - 0s 1ms/step - loss: 3.1165 - mae: 1.1686 - val_loss: 11.9973 - val_mae: 2.5566\n",
      "Epoch 157/500\n",
      "323/323 [==============================] - 0s 1ms/step - loss: 2.7900 - mae: 1.1064 - val_loss: 18.0281 - val_mae: 2.9016\n",
      "Epoch 158/500\n",
      "323/323 [==============================] - 0s 1ms/step - loss: 2.9444 - mae: 1.1166 - val_loss: 12.7714 - val_mae: 2.4694\n",
      "Epoch 159/500\n",
      "323/323 [==============================] - 0s 1ms/step - loss: 2.7551 - mae: 1.0888 - val_loss: 11.2020 - val_mae: 2.2510\n",
      "Epoch 160/500\n",
      "323/323 [==============================] - 0s 1ms/step - loss: 2.6690 - mae: 1.0995 - val_loss: 14.5716 - val_mae: 2.7157\n",
      "Epoch 161/500\n",
      "323/323 [==============================] - 0s 1ms/step - loss: 2.8103 - mae: 1.1162 - val_loss: 13.4130 - val_mae: 2.5483\n",
      "Epoch 162/500\n",
      "323/323 [==============================] - 0s 1ms/step - loss: 2.7691 - mae: 1.1198 - val_loss: 15.4022 - val_mae: 2.6700\n",
      "Epoch 163/500\n",
      "323/323 [==============================] - 0s 1ms/step - loss: 2.5933 - mae: 1.0856 - val_loss: 12.8970 - val_mae: 2.5024\n",
      "Epoch 164/500\n",
      "323/323 [==============================] - 0s 1ms/step - loss: 2.7665 - mae: 1.1168 - val_loss: 14.5419 - val_mae: 2.6281\n",
      "Epoch 165/500\n",
      "323/323 [==============================] - 0s 1ms/step - loss: 2.5907 - mae: 1.0659 - val_loss: 15.0270 - val_mae: 2.6553\n",
      "Epoch 166/500\n",
      "323/323 [==============================] - 0s 1ms/step - loss: 2.7862 - mae: 1.1322 - val_loss: 12.2409 - val_mae: 2.4171\n",
      "Epoch 167/500\n",
      "323/323 [==============================] - 0s 1ms/step - loss: 2.6466 - mae: 1.0847 - val_loss: 13.4593 - val_mae: 2.4601\n",
      "Epoch 168/500\n",
      "323/323 [==============================] - 0s 1ms/step - loss: 2.5984 - mae: 1.0874 - val_loss: 12.7364 - val_mae: 2.5464\n",
      "Epoch 169/500\n",
      "323/323 [==============================] - 0s 1ms/step - loss: 2.6677 - mae: 1.0595 - val_loss: 14.2005 - val_mae: 2.6211\n",
      "Epoch 170/500\n",
      "323/323 [==============================] - 0s 1ms/step - loss: 2.4793 - mae: 1.1160 - val_loss: 15.6091 - val_mae: 2.6739\n",
      "Epoch 171/500\n",
      "323/323 [==============================] - 0s 1ms/step - loss: 2.6770 - mae: 1.0805 - val_loss: 16.2598 - val_mae: 2.7322\n",
      "Epoch 172/500\n",
      "323/323 [==============================] - 0s 1ms/step - loss: 2.5030 - mae: 1.0659 - val_loss: 15.0134 - val_mae: 2.7312\n",
      "Epoch 173/500\n",
      "323/323 [==============================] - 0s 1ms/step - loss: 2.4904 - mae: 1.0816 - val_loss: 14.9214 - val_mae: 2.7135\n",
      "Epoch 174/500\n",
      "323/323 [==============================] - 0s 1ms/step - loss: 2.3704 - mae: 1.0429 - val_loss: 13.3214 - val_mae: 2.5154\n",
      "Epoch 175/500\n",
      "323/323 [==============================] - 0s 1ms/step - loss: 2.4563 - mae: 1.0316 - val_loss: 13.8284 - val_mae: 2.6544\n",
      "Epoch 176/500\n",
      "323/323 [==============================] - 0s 1ms/step - loss: 2.3722 - mae: 1.0560 - val_loss: 13.1752 - val_mae: 2.5814\n",
      "Epoch 177/500\n",
      "323/323 [==============================] - 0s 1ms/step - loss: 2.3872 - mae: 1.0320 - val_loss: 14.6664 - val_mae: 2.5162\n",
      "Epoch 178/500\n",
      "323/323 [==============================] - 0s 1ms/step - loss: 2.5123 - mae: 1.0652 - val_loss: 14.3679 - val_mae: 2.5626\n",
      "Epoch 179/500\n",
      "323/323 [==============================] - 0s 1ms/step - loss: 2.5071 - mae: 1.0800 - val_loss: 13.2222 - val_mae: 2.4430\n",
      "Epoch 180/500\n",
      "323/323 [==============================] - 0s 1ms/step - loss: 2.3525 - mae: 1.0953 - val_loss: 14.6439 - val_mae: 2.6856\n",
      "Epoch 181/500\n",
      "323/323 [==============================] - 0s 1ms/step - loss: 2.2558 - mae: 1.0397 - val_loss: 14.4837 - val_mae: 2.5651\n",
      "Epoch 182/500\n",
      "323/323 [==============================] - 0s 1ms/step - loss: 2.4251 - mae: 1.0915 - val_loss: 16.3450 - val_mae: 2.8121\n",
      "Epoch 183/500\n",
      "323/323 [==============================] - 0s 1ms/step - loss: 2.2085 - mae: 1.0414 - val_loss: 14.5723 - val_mae: 2.5821\n",
      "Epoch 184/500\n",
      "323/323 [==============================] - 0s 1ms/step - loss: 2.1155 - mae: 1.0383 - val_loss: 13.3284 - val_mae: 2.5073\n",
      "Epoch 185/500\n",
      "323/323 [==============================] - 0s 1ms/step - loss: 2.4496 - mae: 1.0300 - val_loss: 12.9333 - val_mae: 2.5371\n",
      "Epoch 186/500\n",
      "323/323 [==============================] - 0s 1ms/step - loss: 2.2242 - mae: 0.9891 - val_loss: 13.1007 - val_mae: 2.5197\n",
      "Epoch 187/500\n",
      "323/323 [==============================] - 0s 1ms/step - loss: 2.2310 - mae: 1.0283 - val_loss: 15.5972 - val_mae: 2.8863\n",
      "Epoch 188/500\n",
      "323/323 [==============================] - 0s 1ms/step - loss: 2.1832 - mae: 1.0369 - val_loss: 12.0491 - val_mae: 2.4182\n",
      "Epoch 189/500\n",
      "323/323 [==============================] - 0s 1ms/step - loss: 2.1662 - mae: 1.0157 - val_loss: 15.0795 - val_mae: 2.6527\n",
      "Epoch 190/500\n",
      "323/323 [==============================] - 0s 1ms/step - loss: 2.1532 - mae: 1.0273 - val_loss: 12.6956 - val_mae: 2.4283\n",
      "Epoch 191/500\n",
      "323/323 [==============================] - 0s 1ms/step - loss: 1.9432 - mae: 0.9922 - val_loss: 13.3859 - val_mae: 2.5689\n",
      "Epoch 192/500\n",
      "323/323 [==============================] - 0s 1ms/step - loss: 2.1893 - mae: 1.0395 - val_loss: 14.3007 - val_mae: 2.6138\n",
      "Epoch 193/500\n",
      "323/323 [==============================] - 0s 1ms/step - loss: 2.0304 - mae: 1.0097 - val_loss: 14.1424 - val_mae: 2.6402\n",
      "Epoch 194/500\n",
      "323/323 [==============================] - 0s 1ms/step - loss: 2.0435 - mae: 1.0136 - val_loss: 13.5865 - val_mae: 2.7100\n",
      "Epoch 195/500\n",
      "323/323 [==============================] - 0s 1ms/step - loss: 2.1013 - mae: 1.0213 - val_loss: 12.7337 - val_mae: 2.4969\n",
      "Epoch 196/500\n",
      "323/323 [==============================] - 0s 1ms/step - loss: 2.0025 - mae: 0.9701 - val_loss: 12.8654 - val_mae: 2.5468\n",
      "Epoch 197/500\n",
      "323/323 [==============================] - 0s 1ms/step - loss: 2.0874 - mae: 0.9963 - val_loss: 16.1375 - val_mae: 2.8007\n",
      "Epoch 198/500\n",
      "323/323 [==============================] - 0s 1ms/step - loss: 1.9667 - mae: 0.9764 - val_loss: 15.6811 - val_mae: 2.6526\n",
      "Epoch 199/500\n",
      "323/323 [==============================] - 0s 1ms/step - loss: 1.9614 - mae: 0.9915 - val_loss: 13.8469 - val_mae: 2.6035\n",
      "Epoch 200/500\n",
      "323/323 [==============================] - 0s 1ms/step - loss: 2.1117 - mae: 1.0376 - val_loss: 15.5734 - val_mae: 2.8640\n",
      "Epoch 201/500\n",
      "323/323 [==============================] - 0s 1ms/step - loss: 2.0247 - mae: 0.9714 - val_loss: 12.7209 - val_mae: 2.4833\n",
      "Epoch 202/500\n",
      "323/323 [==============================] - 0s 1ms/step - loss: 2.0051 - mae: 0.9671 - val_loss: 16.1351 - val_mae: 2.8835\n",
      "Epoch 203/500\n",
      "323/323 [==============================] - 0s 1ms/step - loss: 2.1073 - mae: 0.9925 - val_loss: 12.3064 - val_mae: 2.4684\n",
      "Epoch 204/500\n",
      "323/323 [==============================] - 0s 1ms/step - loss: 1.8230 - mae: 0.9643 - val_loss: 14.0866 - val_mae: 2.6639\n",
      "Epoch 205/500\n",
      "323/323 [==============================] - 0s 1ms/step - loss: 2.0865 - mae: 1.0218 - val_loss: 12.6166 - val_mae: 2.4768\n",
      "Epoch 206/500\n",
      "323/323 [==============================] - 0s 1ms/step - loss: 2.0472 - mae: 0.9906 - val_loss: 12.7779 - val_mae: 2.4515\n",
      "Epoch 207/500\n",
      "323/323 [==============================] - 0s 1ms/step - loss: 1.7923 - mae: 0.9736 - val_loss: 15.7503 - val_mae: 2.7295\n",
      "Epoch 208/500\n",
      "323/323 [==============================] - 0s 1ms/step - loss: 1.8508 - mae: 1.0029 - val_loss: 13.5848 - val_mae: 2.4686\n",
      "Epoch 209/500\n",
      "323/323 [==============================] - 0s 1ms/step - loss: 1.8100 - mae: 0.9676 - val_loss: 13.5335 - val_mae: 2.5065\n",
      "Epoch 210/500\n",
      "323/323 [==============================] - 0s 1ms/step - loss: 2.0141 - mae: 0.9885 - val_loss: 15.0894 - val_mae: 2.6176\n",
      "Epoch 211/500\n",
      "323/323 [==============================] - 0s 1ms/step - loss: 1.7461 - mae: 0.9547 - val_loss: 12.1209 - val_mae: 2.3593\n",
      "Epoch 212/500\n",
      "323/323 [==============================] - 0s 1ms/step - loss: 1.9516 - mae: 0.9796 - val_loss: 13.0797 - val_mae: 2.5243\n",
      "Epoch 213/500\n",
      "323/323 [==============================] - 0s 1ms/step - loss: 1.8669 - mae: 0.9394 - val_loss: 13.6175 - val_mae: 2.5173\n",
      "Epoch 214/500\n",
      "323/323 [==============================] - 0s 1ms/step - loss: 1.8255 - mae: 0.9617 - val_loss: 12.5895 - val_mae: 2.5268\n",
      "Epoch 215/500\n",
      "323/323 [==============================] - 0s 1ms/step - loss: 1.6980 - mae: 0.9167 - val_loss: 13.3858 - val_mae: 2.6234\n",
      "Epoch 216/500\n",
      "323/323 [==============================] - 0s 1ms/step - loss: 1.7835 - mae: 0.9707 - val_loss: 13.6312 - val_mae: 2.6263\n",
      "Epoch 217/500\n",
      "323/323 [==============================] - 0s 1ms/step - loss: 1.7477 - mae: 0.9443 - val_loss: 14.4075 - val_mae: 2.7344\n",
      "Epoch 218/500\n",
      "323/323 [==============================] - 0s 1ms/step - loss: 1.6948 - mae: 0.9249 - val_loss: 14.5641 - val_mae: 2.7530\n",
      "Epoch 219/500\n",
      "323/323 [==============================] - 0s 1ms/step - loss: 1.7354 - mae: 0.9754 - val_loss: 14.3343 - val_mae: 2.7157\n",
      "Epoch 220/500\n",
      "323/323 [==============================] - 0s 1ms/step - loss: 1.7651 - mae: 0.9344 - val_loss: 15.4413 - val_mae: 2.7154\n",
      "Epoch 221/500\n",
      "323/323 [==============================] - 0s 1ms/step - loss: 1.7473 - mae: 0.9605 - val_loss: 16.3221 - val_mae: 2.8685\n",
      "Epoch 222/500\n",
      "323/323 [==============================] - 0s 1ms/step - loss: 1.6530 - mae: 0.9496 - val_loss: 12.8428 - val_mae: 2.5201\n",
      "Epoch 223/500\n",
      "323/323 [==============================] - 0s 1ms/step - loss: 1.8893 - mae: 0.9924 - val_loss: 11.4502 - val_mae: 2.3363\n",
      "Epoch 224/500\n",
      "323/323 [==============================] - 0s 1ms/step - loss: 1.6989 - mae: 0.9477 - val_loss: 13.5275 - val_mae: 2.4763\n",
      "Epoch 225/500\n",
      "323/323 [==============================] - 0s 1ms/step - loss: 1.7280 - mae: 0.9189 - val_loss: 14.0652 - val_mae: 2.5777\n",
      "Epoch 226/500\n",
      "323/323 [==============================] - 0s 1ms/step - loss: 1.7480 - mae: 0.9217 - val_loss: 13.4635 - val_mae: 2.5304\n",
      "Epoch 227/500\n",
      "323/323 [==============================] - 0s 1ms/step - loss: 1.6306 - mae: 0.9268 - val_loss: 13.4626 - val_mae: 2.5737\n",
      "Epoch 228/500\n",
      "323/323 [==============================] - 0s 1ms/step - loss: 1.8178 - mae: 0.9539 - val_loss: 11.4525 - val_mae: 2.3559\n",
      "Epoch 229/500\n",
      "323/323 [==============================] - 0s 1ms/step - loss: 1.7244 - mae: 0.9322 - val_loss: 16.6033 - val_mae: 2.7060\n",
      "Epoch 230/500\n",
      "323/323 [==============================] - 0s 1ms/step - loss: 1.6780 - mae: 0.9451 - val_loss: 12.7687 - val_mae: 2.4106\n",
      "Epoch 231/500\n",
      "323/323 [==============================] - 0s 1ms/step - loss: 1.6502 - mae: 0.9610 - val_loss: 13.3234 - val_mae: 2.5040\n",
      "Epoch 232/500\n",
      "323/323 [==============================] - 0s 1ms/step - loss: 1.6544 - mae: 0.9234 - val_loss: 13.4243 - val_mae: 2.4864\n",
      "Epoch 233/500\n",
      "323/323 [==============================] - 0s 1ms/step - loss: 1.5646 - mae: 0.9003 - val_loss: 12.8612 - val_mae: 2.4705\n",
      "Epoch 234/500\n",
      "323/323 [==============================] - 0s 1ms/step - loss: 1.6506 - mae: 0.9146 - val_loss: 13.9768 - val_mae: 2.7011\n",
      "Epoch 235/500\n",
      "323/323 [==============================] - 0s 1ms/step - loss: 1.6426 - mae: 0.9321 - val_loss: 13.3986 - val_mae: 2.5595\n",
      "Epoch 236/500\n",
      "323/323 [==============================] - 0s 1ms/step - loss: 1.6847 - mae: 0.9017 - val_loss: 13.9510 - val_mae: 2.5838\n",
      "Epoch 237/500\n",
      "323/323 [==============================] - 0s 1ms/step - loss: 1.6003 - mae: 0.9047 - val_loss: 13.9526 - val_mae: 2.5775\n",
      "Epoch 238/500\n",
      "323/323 [==============================] - 0s 1ms/step - loss: 1.6944 - mae: 0.9370 - val_loss: 14.7833 - val_mae: 2.6389\n",
      "Epoch 239/500\n",
      "323/323 [==============================] - 0s 1ms/step - loss: 1.6887 - mae: 0.9312 - val_loss: 13.5934 - val_mae: 2.5756\n",
      "Epoch 240/500\n",
      "323/323 [==============================] - 0s 1ms/step - loss: 1.6081 - mae: 0.9100 - val_loss: 15.7002 - val_mae: 2.6367\n",
      "Epoch 241/500\n",
      "323/323 [==============================] - 0s 1ms/step - loss: 1.5572 - mae: 0.9109 - val_loss: 19.2215 - val_mae: 3.0900\n",
      "Epoch 242/500\n",
      "323/323 [==============================] - 0s 1ms/step - loss: 1.6391 - mae: 0.9023 - val_loss: 16.3331 - val_mae: 2.7924\n",
      "Epoch 243/500\n",
      "323/323 [==============================] - 0s 1ms/step - loss: 1.5736 - mae: 0.9171 - val_loss: 17.0526 - val_mae: 2.7119\n",
      "Epoch 244/500\n",
      "323/323 [==============================] - 0s 1ms/step - loss: 1.4825 - mae: 0.8624 - val_loss: 12.9996 - val_mae: 2.5276\n",
      "Epoch 245/500\n",
      "323/323 [==============================] - 0s 1ms/step - loss: 1.6229 - mae: 0.9153 - val_loss: 13.3428 - val_mae: 2.5152\n",
      "Epoch 246/500\n",
      "323/323 [==============================] - 0s 1ms/step - loss: 1.5609 - mae: 0.9030 - val_loss: 13.3127 - val_mae: 2.5569\n",
      "Epoch 247/500\n",
      "323/323 [==============================] - 0s 1ms/step - loss: 1.6610 - mae: 0.9456 - val_loss: 14.8173 - val_mae: 2.7454\n",
      "Epoch 248/500\n",
      "323/323 [==============================] - 0s 1ms/step - loss: 1.6913 - mae: 0.9203 - val_loss: 14.4445 - val_mae: 2.6260\n",
      "Epoch 249/500\n",
      "323/323 [==============================] - 0s 1ms/step - loss: 1.5992 - mae: 0.8845 - val_loss: 14.2965 - val_mae: 2.5847\n",
      "Epoch 250/500\n",
      "323/323 [==============================] - 0s 1ms/step - loss: 1.5802 - mae: 0.8967 - val_loss: 12.3863 - val_mae: 2.4803\n",
      "Epoch 251/500\n",
      "323/323 [==============================] - 0s 1ms/step - loss: 1.5264 - mae: 0.8716 - val_loss: 13.1253 - val_mae: 2.4817\n",
      "Epoch 252/500\n",
      "323/323 [==============================] - 0s 1ms/step - loss: 1.6266 - mae: 0.9247 - val_loss: 13.5011 - val_mae: 2.5544\n",
      "Epoch 253/500\n",
      "323/323 [==============================] - 0s 1ms/step - loss: 1.5449 - mae: 0.9170 - val_loss: 14.6246 - val_mae: 2.7065\n",
      "Epoch 254/500\n",
      "323/323 [==============================] - 0s 1ms/step - loss: 1.3466 - mae: 0.8417 - val_loss: 14.3924 - val_mae: 2.7266\n",
      "Epoch 255/500\n",
      "323/323 [==============================] - 0s 1ms/step - loss: 1.5038 - mae: 0.8971 - val_loss: 14.0275 - val_mae: 2.5904\n",
      "Epoch 256/500\n",
      "323/323 [==============================] - 0s 1ms/step - loss: 1.5688 - mae: 0.9055 - val_loss: 14.5075 - val_mae: 2.6545\n",
      "Epoch 257/500\n",
      "323/323 [==============================] - 0s 1ms/step - loss: 1.5529 - mae: 0.8885 - val_loss: 11.8691 - val_mae: 2.3984\n",
      "Epoch 258/500\n",
      "323/323 [==============================] - 0s 1ms/step - loss: 1.5076 - mae: 0.8996 - val_loss: 15.5040 - val_mae: 2.6804\n",
      "Epoch 259/500\n",
      "323/323 [==============================] - 0s 1ms/step - loss: 1.5998 - mae: 0.9253 - val_loss: 15.6337 - val_mae: 2.7323\n",
      "Epoch 260/500\n",
      "323/323 [==============================] - 0s 1ms/step - loss: 1.5059 - mae: 0.8815 - val_loss: 14.5862 - val_mae: 2.5489\n",
      "Epoch 261/500\n",
      "323/323 [==============================] - 0s 1ms/step - loss: 1.3714 - mae: 0.8793 - val_loss: 13.4250 - val_mae: 2.5152\n",
      "Epoch 262/500\n",
      "323/323 [==============================] - 0s 1ms/step - loss: 1.4373 - mae: 0.8707 - val_loss: 15.4371 - val_mae: 2.8563\n",
      "Epoch 263/500\n",
      "323/323 [==============================] - 0s 1ms/step - loss: 1.5086 - mae: 0.8870 - val_loss: 14.4299 - val_mae: 2.7280\n",
      "Epoch 264/500\n",
      "323/323 [==============================] - 0s 1ms/step - loss: 1.2356 - mae: 0.8122 - val_loss: 15.6793 - val_mae: 2.6225\n",
      "Epoch 265/500\n",
      "323/323 [==============================] - 0s 1ms/step - loss: 1.5386 - mae: 0.9334 - val_loss: 14.4608 - val_mae: 2.5402\n",
      "Epoch 266/500\n",
      "323/323 [==============================] - 0s 1ms/step - loss: 1.4273 - mae: 0.8626 - val_loss: 16.3680 - val_mae: 2.8100\n",
      "Epoch 267/500\n",
      "323/323 [==============================] - 0s 1ms/step - loss: 1.5198 - mae: 0.8956 - val_loss: 12.5045 - val_mae: 2.3717\n",
      "Epoch 268/500\n",
      "323/323 [==============================] - 0s 1ms/step - loss: 1.4687 - mae: 0.8452 - val_loss: 12.1794 - val_mae: 2.5146\n",
      "Epoch 269/500\n",
      "323/323 [==============================] - 0s 1ms/step - loss: 1.4329 - mae: 0.8577 - val_loss: 14.1821 - val_mae: 2.6405\n",
      "Epoch 270/500\n",
      "323/323 [==============================] - 0s 1ms/step - loss: 1.4562 - mae: 0.9012 - val_loss: 15.8925 - val_mae: 2.8169\n",
      "Epoch 271/500\n",
      "323/323 [==============================] - 0s 1ms/step - loss: 1.3380 - mae: 0.8692 - val_loss: 13.2501 - val_mae: 2.5379\n",
      "Epoch 272/500\n",
      "323/323 [==============================] - 0s 1ms/step - loss: 1.4958 - mae: 0.8945 - val_loss: 14.6916 - val_mae: 2.6371\n",
      "Epoch 273/500\n",
      "323/323 [==============================] - 0s 1ms/step - loss: 1.3517 - mae: 0.8571 - val_loss: 15.6888 - val_mae: 2.6683\n",
      "Epoch 274/500\n",
      "323/323 [==============================] - 0s 1ms/step - loss: 1.4963 - mae: 0.9342 - val_loss: 13.0129 - val_mae: 2.4914\n",
      "Epoch 275/500\n",
      "323/323 [==============================] - 0s 1ms/step - loss: 1.4194 - mae: 0.8332 - val_loss: 12.6561 - val_mae: 2.4958\n",
      "Epoch 276/500\n",
      "323/323 [==============================] - 0s 1ms/step - loss: 1.3717 - mae: 0.8719 - val_loss: 15.5826 - val_mae: 2.7032\n",
      "Epoch 277/500\n",
      "323/323 [==============================] - 0s 1ms/step - loss: 1.3370 - mae: 0.8431 - val_loss: 14.0732 - val_mae: 2.5269\n",
      "Epoch 278/500\n",
      "323/323 [==============================] - 0s 1ms/step - loss: 1.4786 - mae: 0.8745 - val_loss: 14.7772 - val_mae: 2.5315\n",
      "Epoch 279/500\n",
      "323/323 [==============================] - 0s 1ms/step - loss: 1.4010 - mae: 0.8645 - val_loss: 13.8611 - val_mae: 2.6239\n",
      "Epoch 280/500\n",
      "323/323 [==============================] - 0s 1ms/step - loss: 1.3872 - mae: 0.8445 - val_loss: 13.3548 - val_mae: 2.5420\n",
      "Epoch 281/500\n",
      "323/323 [==============================] - 0s 1ms/step - loss: 1.2620 - mae: 0.8452 - val_loss: 13.9901 - val_mae: 2.5971\n",
      "Epoch 282/500\n",
      "323/323 [==============================] - 0s 1ms/step - loss: 1.3132 - mae: 0.8251 - val_loss: 16.3472 - val_mae: 2.7511\n",
      "Epoch 283/500\n",
      "323/323 [==============================] - 0s 1ms/step - loss: 1.5656 - mae: 0.8797 - val_loss: 14.0485 - val_mae: 2.5767\n",
      "Epoch 284/500\n",
      "323/323 [==============================] - 0s 1ms/step - loss: 1.4344 - mae: 0.8429 - val_loss: 14.7154 - val_mae: 2.6192\n",
      "Epoch 285/500\n",
      "323/323 [==============================] - 0s 1ms/step - loss: 1.1846 - mae: 0.8320 - val_loss: 14.6491 - val_mae: 2.4991\n",
      "Epoch 286/500\n",
      "323/323 [==============================] - 0s 1ms/step - loss: 1.3048 - mae: 0.8654 - val_loss: 17.2749 - val_mae: 2.8193\n",
      "Epoch 287/500\n",
      "323/323 [==============================] - 0s 1ms/step - loss: 1.2466 - mae: 0.8171 - val_loss: 21.2949 - val_mae: 3.0566\n",
      "Epoch 288/500\n",
      "323/323 [==============================] - 0s 1ms/step - loss: 1.4137 - mae: 0.8660 - val_loss: 16.1320 - val_mae: 2.8456\n",
      "Epoch 289/500\n",
      "323/323 [==============================] - 0s 1ms/step - loss: 1.4003 - mae: 0.8874 - val_loss: 15.4769 - val_mae: 2.6172\n",
      "Epoch 290/500\n",
      "323/323 [==============================] - 0s 1ms/step - loss: 1.2584 - mae: 0.8187 - val_loss: 14.6448 - val_mae: 2.5657\n",
      "Epoch 291/500\n",
      "323/323 [==============================] - 0s 1ms/step - loss: 1.3491 - mae: 0.8468 - val_loss: 15.2575 - val_mae: 2.5854\n",
      "Epoch 292/500\n",
      "323/323 [==============================] - 0s 1ms/step - loss: 1.3502 - mae: 0.8650 - val_loss: 12.6876 - val_mae: 2.5746\n",
      "Epoch 293/500\n",
      "323/323 [==============================] - 0s 1ms/step - loss: 1.1869 - mae: 0.8441 - val_loss: 13.6189 - val_mae: 2.4631\n",
      "Epoch 294/500\n",
      "323/323 [==============================] - 0s 1ms/step - loss: 1.3731 - mae: 0.8605 - val_loss: 14.9384 - val_mae: 2.6161\n",
      "Epoch 295/500\n",
      "323/323 [==============================] - 0s 1ms/step - loss: 1.2626 - mae: 0.8453 - val_loss: 14.9154 - val_mae: 2.6428\n",
      "Epoch 296/500\n",
      "323/323 [==============================] - 0s 1ms/step - loss: 1.3717 - mae: 0.8483 - val_loss: 15.9692 - val_mae: 2.7614\n",
      "Epoch 297/500\n",
      "323/323 [==============================] - 0s 1ms/step - loss: 1.2535 - mae: 0.8399 - val_loss: 14.6807 - val_mae: 2.4776\n",
      "Epoch 298/500\n",
      "323/323 [==============================] - 0s 1ms/step - loss: 1.1977 - mae: 0.7898 - val_loss: 13.8995 - val_mae: 2.5612\n",
      "Epoch 299/500\n",
      "323/323 [==============================] - 0s 1ms/step - loss: 1.2602 - mae: 0.8134 - val_loss: 13.3261 - val_mae: 2.6028\n",
      "Epoch 300/500\n",
      "323/323 [==============================] - 0s 1ms/step - loss: 1.3601 - mae: 0.8857 - val_loss: 15.6979 - val_mae: 2.7366\n",
      "Epoch 301/500\n",
      "323/323 [==============================] - 0s 1ms/step - loss: 1.3613 - mae: 0.8587 - val_loss: 14.0005 - val_mae: 2.5956\n",
      "Epoch 302/500\n",
      "323/323 [==============================] - 0s 1ms/step - loss: 1.2075 - mae: 0.7902 - val_loss: 15.1473 - val_mae: 2.6352\n",
      "Epoch 303/500\n",
      "323/323 [==============================] - 0s 1ms/step - loss: 1.2450 - mae: 0.8301 - val_loss: 14.3724 - val_mae: 2.6089\n",
      "Epoch 304/500\n",
      "323/323 [==============================] - 0s 1ms/step - loss: 1.2227 - mae: 0.8208 - val_loss: 18.6593 - val_mae: 3.0482\n",
      "Epoch 305/500\n",
      "323/323 [==============================] - 0s 1ms/step - loss: 1.2566 - mae: 0.8464 - val_loss: 15.3717 - val_mae: 2.6718\n",
      "Epoch 306/500\n",
      "323/323 [==============================] - 0s 1ms/step - loss: 1.2650 - mae: 0.8379 - val_loss: 15.9553 - val_mae: 2.7334\n",
      "Epoch 307/500\n",
      "323/323 [==============================] - 0s 1ms/step - loss: 1.1127 - mae: 0.8147 - val_loss: 15.3017 - val_mae: 2.7052\n",
      "Epoch 308/500\n",
      "323/323 [==============================] - 0s 1ms/step - loss: 1.2058 - mae: 0.8134 - val_loss: 14.8259 - val_mae: 2.6501\n",
      "Epoch 309/500\n",
      "323/323 [==============================] - 0s 1ms/step - loss: 1.3195 - mae: 0.8441 - val_loss: 14.6205 - val_mae: 2.6695\n",
      "Epoch 310/500\n",
      "323/323 [==============================] - 0s 1ms/step - loss: 1.1507 - mae: 0.7961 - val_loss: 16.5760 - val_mae: 2.6455\n",
      "Epoch 311/500\n",
      "323/323 [==============================] - 0s 1ms/step - loss: 1.2347 - mae: 0.8318 - val_loss: 15.7460 - val_mae: 2.6443\n",
      "Epoch 312/500\n",
      "323/323 [==============================] - 0s 1ms/step - loss: 1.1694 - mae: 0.7926 - val_loss: 16.0866 - val_mae: 2.6579\n",
      "Epoch 313/500\n",
      "323/323 [==============================] - 0s 1ms/step - loss: 1.2495 - mae: 0.7961 - val_loss: 16.1057 - val_mae: 2.8501\n",
      "Epoch 314/500\n",
      "323/323 [==============================] - 0s 1ms/step - loss: 1.0189 - mae: 0.7645 - val_loss: 15.5318 - val_mae: 2.6917\n",
      "Epoch 315/500\n",
      "323/323 [==============================] - 0s 1ms/step - loss: 1.3899 - mae: 0.8569 - val_loss: 14.1675 - val_mae: 2.5162\n",
      "Epoch 316/500\n",
      "323/323 [==============================] - 0s 1ms/step - loss: 1.2555 - mae: 0.8085 - val_loss: 14.4878 - val_mae: 2.5993\n",
      "Epoch 317/500\n",
      "323/323 [==============================] - 0s 1ms/step - loss: 1.2069 - mae: 0.7839 - val_loss: 14.8130 - val_mae: 2.5084\n",
      "Epoch 318/500\n",
      "323/323 [==============================] - 0s 1ms/step - loss: 1.1932 - mae: 0.8237 - val_loss: 16.7717 - val_mae: 2.6211\n",
      "Epoch 319/500\n",
      "323/323 [==============================] - 0s 1ms/step - loss: 1.3233 - mae: 0.8179 - val_loss: 16.2387 - val_mae: 2.8074\n",
      "Epoch 320/500\n",
      "323/323 [==============================] - 0s 1ms/step - loss: 1.1770 - mae: 0.7979 - val_loss: 12.9458 - val_mae: 2.4621\n",
      "Epoch 321/500\n",
      "323/323 [==============================] - 0s 1ms/step - loss: 1.3388 - mae: 0.8326 - val_loss: 12.9109 - val_mae: 2.4783\n",
      "Epoch 322/500\n",
      "323/323 [==============================] - 0s 1ms/step - loss: 1.1672 - mae: 0.7732 - val_loss: 16.2660 - val_mae: 2.7643\n",
      "Epoch 323/500\n",
      "323/323 [==============================] - 0s 1ms/step - loss: 1.2180 - mae: 0.7842 - val_loss: 14.8634 - val_mae: 2.5412\n",
      "Epoch 324/500\n",
      "323/323 [==============================] - 0s 1ms/step - loss: 1.2020 - mae: 0.8310 - val_loss: 14.8554 - val_mae: 2.7373\n",
      "Epoch 325/500\n",
      "323/323 [==============================] - 0s 1ms/step - loss: 1.2366 - mae: 0.7888 - val_loss: 14.6564 - val_mae: 2.5366\n",
      "Epoch 326/500\n",
      "323/323 [==============================] - 0s 1ms/step - loss: 1.1951 - mae: 0.7917 - val_loss: 16.8525 - val_mae: 2.7601\n",
      "Epoch 327/500\n",
      "323/323 [==============================] - 0s 1ms/step - loss: 1.1805 - mae: 0.7825 - val_loss: 17.5414 - val_mae: 2.8487\n",
      "Epoch 328/500\n",
      "323/323 [==============================] - 0s 1ms/step - loss: 1.2442 - mae: 0.8100 - val_loss: 14.9025 - val_mae: 2.6080\n",
      "Epoch 329/500\n",
      "323/323 [==============================] - 0s 1ms/step - loss: 1.1501 - mae: 0.8037 - val_loss: 15.6996 - val_mae: 2.6138\n",
      "Epoch 330/500\n",
      "323/323 [==============================] - 0s 1ms/step - loss: 1.3229 - mae: 0.8071 - val_loss: 13.9475 - val_mae: 2.4723\n",
      "Epoch 331/500\n",
      "323/323 [==============================] - 0s 1ms/step - loss: 1.1757 - mae: 0.7861 - val_loss: 15.0206 - val_mae: 2.4774\n",
      "Epoch 332/500\n",
      "323/323 [==============================] - 0s 1ms/step - loss: 1.2378 - mae: 0.8336 - val_loss: 15.2497 - val_mae: 2.7019\n",
      "Epoch 333/500\n",
      "323/323 [==============================] - 0s 1ms/step - loss: 1.0612 - mae: 0.7764 - val_loss: 13.5558 - val_mae: 2.5317\n",
      "Epoch 334/500\n",
      "323/323 [==============================] - 0s 1ms/step - loss: 1.2525 - mae: 0.8145 - val_loss: 13.7676 - val_mae: 2.5043\n",
      "Epoch 335/500\n",
      "323/323 [==============================] - 0s 1ms/step - loss: 1.1803 - mae: 0.8083 - val_loss: 14.3296 - val_mae: 2.4752\n",
      "Epoch 336/500\n",
      "323/323 [==============================] - 0s 1ms/step - loss: 1.2501 - mae: 0.7977 - val_loss: 13.5864 - val_mae: 2.4776\n",
      "Epoch 337/500\n",
      "323/323 [==============================] - 0s 1ms/step - loss: 1.0565 - mae: 0.7687 - val_loss: 13.9253 - val_mae: 2.6106\n",
      "Epoch 338/500\n",
      "323/323 [==============================] - 0s 1ms/step - loss: 1.1399 - mae: 0.8042 - val_loss: 12.6968 - val_mae: 2.4331\n",
      "Epoch 339/500\n",
      "323/323 [==============================] - 0s 1ms/step - loss: 1.1690 - mae: 0.7974 - val_loss: 14.6824 - val_mae: 2.5836\n",
      "Epoch 340/500\n",
      "323/323 [==============================] - 0s 1ms/step - loss: 1.1746 - mae: 0.8042 - val_loss: 13.6271 - val_mae: 2.3625\n",
      "Epoch 341/500\n",
      "323/323 [==============================] - 0s 1ms/step - loss: 1.1011 - mae: 0.7953 - val_loss: 14.7900 - val_mae: 2.7446\n",
      "Epoch 342/500\n",
      "323/323 [==============================] - 0s 1ms/step - loss: 1.2460 - mae: 0.7964 - val_loss: 14.5587 - val_mae: 2.5989\n",
      "Epoch 343/500\n",
      "323/323 [==============================] - 0s 1ms/step - loss: 1.0461 - mae: 0.7846 - val_loss: 13.7501 - val_mae: 2.5404\n",
      "Epoch 344/500\n",
      "323/323 [==============================] - 0s 1ms/step - loss: 1.2526 - mae: 0.8173 - val_loss: 12.5328 - val_mae: 2.4203\n",
      "Epoch 345/500\n",
      "323/323 [==============================] - 0s 1ms/step - loss: 1.1329 - mae: 0.7937 - val_loss: 14.9459 - val_mae: 2.5540\n",
      "Epoch 346/500\n",
      "323/323 [==============================] - 0s 1ms/step - loss: 1.1093 - mae: 0.7838 - val_loss: 12.4260 - val_mae: 2.4037\n",
      "Epoch 347/500\n",
      "323/323 [==============================] - 0s 1ms/step - loss: 1.0343 - mae: 0.7524 - val_loss: 15.8952 - val_mae: 2.7375\n",
      "Epoch 348/500\n",
      "323/323 [==============================] - 0s 1ms/step - loss: 1.1258 - mae: 0.7667 - val_loss: 15.1647 - val_mae: 2.7384\n",
      "Epoch 349/500\n",
      "323/323 [==============================] - 0s 1ms/step - loss: 1.1662 - mae: 0.7962 - val_loss: 15.0032 - val_mae: 2.5555\n",
      "Epoch 350/500\n",
      "323/323 [==============================] - 0s 1ms/step - loss: 1.1415 - mae: 0.7950 - val_loss: 14.2834 - val_mae: 2.6597\n",
      "Epoch 351/500\n",
      "323/323 [==============================] - 0s 1ms/step - loss: 1.1438 - mae: 0.7804 - val_loss: 12.5477 - val_mae: 2.5083\n",
      "Epoch 352/500\n",
      "323/323 [==============================] - 0s 1ms/step - loss: 1.1381 - mae: 0.7934 - val_loss: 13.6515 - val_mae: 2.5592\n",
      "Epoch 353/500\n",
      "323/323 [==============================] - 0s 1ms/step - loss: 1.0646 - mae: 0.7756 - val_loss: 14.2329 - val_mae: 2.5893\n",
      "Epoch 354/500\n",
      "323/323 [==============================] - 0s 1ms/step - loss: 1.0307 - mae: 0.7575 - val_loss: 13.5870 - val_mae: 2.6472\n",
      "Epoch 355/500\n",
      "323/323 [==============================] - 0s 1ms/step - loss: 1.0296 - mae: 0.7613 - val_loss: 17.6725 - val_mae: 2.7618\n",
      "Epoch 356/500\n",
      "323/323 [==============================] - 0s 1ms/step - loss: 1.2639 - mae: 0.8432 - val_loss: 13.8071 - val_mae: 2.6312\n",
      "Epoch 357/500\n",
      "323/323 [==============================] - 0s 1ms/step - loss: 1.0955 - mae: 0.7576 - val_loss: 15.7880 - val_mae: 2.6406\n",
      "Epoch 358/500\n",
      "323/323 [==============================] - 0s 1ms/step - loss: 1.0832 - mae: 0.7793 - val_loss: 14.8739 - val_mae: 2.6331\n",
      "Epoch 359/500\n",
      "323/323 [==============================] - 0s 1ms/step - loss: 1.1155 - mae: 0.7599 - val_loss: 13.3113 - val_mae: 2.5143\n",
      "Epoch 360/500\n",
      "323/323 [==============================] - 0s 1ms/step - loss: 1.1444 - mae: 0.7941 - val_loss: 14.9176 - val_mae: 2.6581\n",
      "Epoch 361/500\n",
      "323/323 [==============================] - 0s 1ms/step - loss: 1.2779 - mae: 0.8138 - val_loss: 15.2076 - val_mae: 2.4888\n",
      "Epoch 362/500\n",
      "323/323 [==============================] - 0s 1ms/step - loss: 1.0071 - mae: 0.7583 - val_loss: 14.9762 - val_mae: 2.5905\n",
      "Epoch 363/500\n",
      "323/323 [==============================] - 0s 1ms/step - loss: 1.1377 - mae: 0.7603 - val_loss: 13.1653 - val_mae: 2.5545\n",
      "Epoch 364/500\n",
      "323/323 [==============================] - 0s 1ms/step - loss: 1.0109 - mae: 0.7437 - val_loss: 16.0003 - val_mae: 2.8501\n",
      "Epoch 365/500\n",
      "323/323 [==============================] - 0s 1ms/step - loss: 1.0611 - mae: 0.7518 - val_loss: 15.1404 - val_mae: 2.5485\n",
      "Epoch 366/500\n",
      "323/323 [==============================] - 0s 1ms/step - loss: 1.1692 - mae: 0.8315 - val_loss: 13.8944 - val_mae: 2.5706\n",
      "Epoch 367/500\n",
      "323/323 [==============================] - 0s 1ms/step - loss: 1.0333 - mae: 0.7416 - val_loss: 14.9690 - val_mae: 2.5350\n",
      "Epoch 368/500\n",
      "323/323 [==============================] - 0s 1ms/step - loss: 1.0009 - mae: 0.7667 - val_loss: 15.0952 - val_mae: 2.6709\n",
      "Epoch 369/500\n",
      "323/323 [==============================] - 0s 1ms/step - loss: 1.1209 - mae: 0.7821 - val_loss: 14.2345 - val_mae: 2.4994\n",
      "Epoch 370/500\n",
      "323/323 [==============================] - 0s 1ms/step - loss: 0.9808 - mae: 0.7310 - val_loss: 14.5137 - val_mae: 2.6497\n",
      "Epoch 371/500\n",
      "323/323 [==============================] - 0s 1ms/step - loss: 1.1309 - mae: 0.7961 - val_loss: 13.8051 - val_mae: 2.4937\n",
      "Epoch 372/500\n",
      "323/323 [==============================] - 0s 1ms/step - loss: 1.1560 - mae: 0.7885 - val_loss: 13.3945 - val_mae: 2.4890\n",
      "Epoch 373/500\n",
      "323/323 [==============================] - 0s 1ms/step - loss: 1.0063 - mae: 0.7539 - val_loss: 15.4230 - val_mae: 2.7651\n",
      "Epoch 374/500\n",
      "323/323 [==============================] - 0s 1ms/step - loss: 1.1146 - mae: 0.7753 - val_loss: 14.1569 - val_mae: 2.5432\n",
      "Epoch 375/500\n",
      "323/323 [==============================] - 0s 1ms/step - loss: 1.0238 - mae: 0.7560 - val_loss: 17.7573 - val_mae: 2.8539\n",
      "Epoch 376/500\n",
      "323/323 [==============================] - 0s 1ms/step - loss: 1.1471 - mae: 0.7444 - val_loss: 14.2359 - val_mae: 2.5662\n",
      "Epoch 377/500\n",
      "323/323 [==============================] - 0s 1ms/step - loss: 1.0438 - mae: 0.7763 - val_loss: 12.9970 - val_mae: 2.4692\n",
      "Epoch 378/500\n",
      "323/323 [==============================] - 0s 1ms/step - loss: 1.0188 - mae: 0.7542 - val_loss: 12.8796 - val_mae: 2.4561\n",
      "Epoch 379/500\n",
      "323/323 [==============================] - 0s 1ms/step - loss: 1.0429 - mae: 0.7437 - val_loss: 14.4771 - val_mae: 2.5916\n",
      "Epoch 380/500\n",
      "323/323 [==============================] - 0s 1ms/step - loss: 1.0114 - mae: 0.7437 - val_loss: 14.1726 - val_mae: 2.4764\n",
      "Epoch 381/500\n",
      "323/323 [==============================] - 0s 1ms/step - loss: 1.0999 - mae: 0.7943 - val_loss: 13.3290 - val_mae: 2.4473\n",
      "Epoch 382/500\n",
      "323/323 [==============================] - 0s 1ms/step - loss: 0.9495 - mae: 0.7195 - val_loss: 14.5413 - val_mae: 2.5588\n",
      "Epoch 383/500\n",
      "323/323 [==============================] - 0s 1ms/step - loss: 1.0243 - mae: 0.7476 - val_loss: 14.6267 - val_mae: 2.6451\n",
      "Epoch 384/500\n",
      "323/323 [==============================] - 0s 1ms/step - loss: 1.1153 - mae: 0.7727 - val_loss: 15.2909 - val_mae: 2.5754\n",
      "Epoch 385/500\n",
      "323/323 [==============================] - 0s 1ms/step - loss: 0.9785 - mae: 0.7351 - val_loss: 15.7491 - val_mae: 2.6745\n",
      "Epoch 386/500\n",
      "323/323 [==============================] - 0s 1ms/step - loss: 0.9975 - mae: 0.7675 - val_loss: 14.6762 - val_mae: 2.6483\n",
      "Epoch 387/500\n",
      "323/323 [==============================] - 0s 1ms/step - loss: 0.9473 - mae: 0.7556 - val_loss: 14.1617 - val_mae: 2.5360\n",
      "Epoch 388/500\n",
      "323/323 [==============================] - 0s 1ms/step - loss: 1.0749 - mae: 0.7154 - val_loss: 14.3378 - val_mae: 2.5435\n",
      "Epoch 389/500\n",
      "323/323 [==============================] - 0s 1ms/step - loss: 1.0480 - mae: 0.7266 - val_loss: 14.1433 - val_mae: 2.6720\n",
      "Epoch 390/500\n",
      "323/323 [==============================] - 0s 1ms/step - loss: 1.0158 - mae: 0.7466 - val_loss: 15.5706 - val_mae: 2.6565\n",
      "Epoch 391/500\n",
      "323/323 [==============================] - 0s 1ms/step - loss: 0.9910 - mae: 0.7199 - val_loss: 15.0621 - val_mae: 2.4910\n",
      "Epoch 392/500\n",
      "323/323 [==============================] - 0s 1ms/step - loss: 1.0267 - mae: 0.7492 - val_loss: 17.1187 - val_mae: 2.7439\n",
      "Epoch 393/500\n",
      "323/323 [==============================] - 0s 1ms/step - loss: 0.9968 - mae: 0.7501 - val_loss: 14.8515 - val_mae: 2.5494\n",
      "Epoch 394/500\n",
      "323/323 [==============================] - 0s 1ms/step - loss: 0.9191 - mae: 0.7220 - val_loss: 16.2494 - val_mae: 2.6313\n",
      "Epoch 395/500\n",
      "323/323 [==============================] - 0s 1ms/step - loss: 1.0774 - mae: 0.7464 - val_loss: 16.7179 - val_mae: 2.6700\n",
      "Epoch 396/500\n",
      "323/323 [==============================] - 0s 1ms/step - loss: 0.9950 - mae: 0.7303 - val_loss: 15.1124 - val_mae: 2.6476\n",
      "Epoch 397/500\n",
      "323/323 [==============================] - 0s 1ms/step - loss: 1.0285 - mae: 0.7649 - val_loss: 14.1870 - val_mae: 2.5509\n",
      "Epoch 398/500\n",
      "323/323 [==============================] - 0s 1ms/step - loss: 0.9132 - mae: 0.7143 - val_loss: 13.1366 - val_mae: 2.3591\n",
      "Epoch 399/500\n",
      "323/323 [==============================] - 0s 1ms/step - loss: 0.9479 - mae: 0.7315 - val_loss: 16.1811 - val_mae: 2.7536\n",
      "Epoch 400/500\n",
      "323/323 [==============================] - 0s 1ms/step - loss: 1.0580 - mae: 0.7327 - val_loss: 15.8106 - val_mae: 2.7779\n",
      "Epoch 401/500\n",
      "323/323 [==============================] - 0s 1ms/step - loss: 1.0129 - mae: 0.7490 - val_loss: 14.4471 - val_mae: 2.5520\n",
      "Epoch 402/500\n",
      "323/323 [==============================] - 0s 1ms/step - loss: 1.0422 - mae: 0.7447 - val_loss: 13.7662 - val_mae: 2.5684\n",
      "Epoch 403/500\n",
      "323/323 [==============================] - 0s 1ms/step - loss: 1.0093 - mae: 0.7489 - val_loss: 13.4114 - val_mae: 2.4869\n",
      "Epoch 404/500\n",
      "323/323 [==============================] - 0s 1ms/step - loss: 0.9034 - mae: 0.7079 - val_loss: 14.9204 - val_mae: 2.6049\n",
      "Epoch 405/500\n",
      "323/323 [==============================] - 0s 1ms/step - loss: 0.9752 - mae: 0.7096 - val_loss: 14.4128 - val_mae: 2.5927\n",
      "Epoch 406/500\n",
      "323/323 [==============================] - 0s 1ms/step - loss: 0.9031 - mae: 0.7259 - val_loss: 16.9606 - val_mae: 2.8682\n",
      "Epoch 407/500\n",
      "323/323 [==============================] - 0s 1ms/step - loss: 1.0239 - mae: 0.7379 - val_loss: 14.9996 - val_mae: 2.6275\n",
      "Epoch 408/500\n",
      "323/323 [==============================] - 0s 1ms/step - loss: 0.8841 - mae: 0.7052 - val_loss: 15.4002 - val_mae: 2.6888\n",
      "Epoch 409/500\n",
      "323/323 [==============================] - 0s 1ms/step - loss: 1.0827 - mae: 0.7957 - val_loss: 15.1435 - val_mae: 2.6028\n",
      "Epoch 410/500\n",
      "323/323 [==============================] - 0s 1ms/step - loss: 0.9439 - mae: 0.7077 - val_loss: 14.5838 - val_mae: 2.5444\n",
      "Epoch 411/500\n",
      "323/323 [==============================] - 0s 1ms/step - loss: 1.0617 - mae: 0.7291 - val_loss: 13.3129 - val_mae: 2.4469\n",
      "Epoch 412/500\n",
      "323/323 [==============================] - 0s 1ms/step - loss: 0.9649 - mae: 0.7328 - val_loss: 14.9635 - val_mae: 2.5832\n",
      "Epoch 413/500\n",
      "323/323 [==============================] - 0s 1ms/step - loss: 0.9739 - mae: 0.7441 - val_loss: 18.2195 - val_mae: 2.8771\n",
      "Epoch 414/500\n",
      "323/323 [==============================] - 0s 1ms/step - loss: 0.9355 - mae: 0.7028 - val_loss: 14.8840 - val_mae: 2.5625\n",
      "Epoch 415/500\n",
      "323/323 [==============================] - 0s 1ms/step - loss: 0.9728 - mae: 0.7109 - val_loss: 15.9707 - val_mae: 2.5863\n",
      "Epoch 416/500\n",
      "323/323 [==============================] - 0s 1ms/step - loss: 0.7928 - mae: 0.6961 - val_loss: 14.8641 - val_mae: 2.6224\n",
      "Epoch 417/500\n",
      "323/323 [==============================] - 0s 1ms/step - loss: 0.9181 - mae: 0.6979 - val_loss: 14.4521 - val_mae: 2.6308\n",
      "Epoch 418/500\n",
      "323/323 [==============================] - 0s 1ms/step - loss: 1.1712 - mae: 0.7887 - val_loss: 15.1281 - val_mae: 2.6663\n",
      "Epoch 419/500\n",
      "323/323 [==============================] - 0s 1ms/step - loss: 0.9541 - mae: 0.7173 - val_loss: 14.7682 - val_mae: 2.6859\n",
      "Epoch 420/500\n",
      "323/323 [==============================] - 0s 1ms/step - loss: 0.9738 - mae: 0.7239 - val_loss: 13.4633 - val_mae: 2.4900\n",
      "Epoch 421/500\n",
      "323/323 [==============================] - 0s 1ms/step - loss: 0.9961 - mae: 0.7039 - val_loss: 15.7045 - val_mae: 2.8023\n",
      "Epoch 422/500\n",
      "323/323 [==============================] - 0s 1ms/step - loss: 1.0222 - mae: 0.7396 - val_loss: 15.1394 - val_mae: 2.6541\n",
      "Epoch 423/500\n",
      "323/323 [==============================] - 0s 1ms/step - loss: 1.0460 - mae: 0.7495 - val_loss: 15.6505 - val_mae: 2.7607\n",
      "Epoch 424/500\n",
      "323/323 [==============================] - 0s 1ms/step - loss: 0.8586 - mae: 0.6977 - val_loss: 15.9981 - val_mae: 2.6543\n",
      "Epoch 425/500\n",
      "323/323 [==============================] - 0s 1ms/step - loss: 1.0275 - mae: 0.7432 - val_loss: 15.1933 - val_mae: 2.6987\n",
      "Epoch 426/500\n",
      "323/323 [==============================] - 0s 1ms/step - loss: 0.9882 - mae: 0.7500 - val_loss: 13.5709 - val_mae: 2.6044\n",
      "Epoch 427/500\n",
      "323/323 [==============================] - 0s 1ms/step - loss: 0.8983 - mae: 0.7224 - val_loss: 14.4935 - val_mae: 2.6422\n",
      "Epoch 428/500\n",
      "323/323 [==============================] - 0s 1ms/step - loss: 0.9317 - mae: 0.7161 - val_loss: 15.7712 - val_mae: 2.7192\n",
      "Epoch 429/500\n",
      "323/323 [==============================] - 0s 1ms/step - loss: 0.8895 - mae: 0.7078 - val_loss: 15.9642 - val_mae: 2.6921\n",
      "Epoch 430/500\n",
      "323/323 [==============================] - 0s 1ms/step - loss: 0.9300 - mae: 0.7013 - val_loss: 16.3047 - val_mae: 2.6737\n",
      "Epoch 431/500\n",
      "323/323 [==============================] - 0s 1ms/step - loss: 1.0151 - mae: 0.7578 - val_loss: 18.5178 - val_mae: 2.7768\n",
      "Epoch 432/500\n",
      "323/323 [==============================] - 0s 1ms/step - loss: 0.9490 - mae: 0.7093 - val_loss: 14.6146 - val_mae: 2.5578\n",
      "Epoch 433/500\n",
      "323/323 [==============================] - 0s 1ms/step - loss: 1.0032 - mae: 0.7169 - val_loss: 16.2741 - val_mae: 2.6196\n",
      "Epoch 434/500\n",
      "323/323 [==============================] - 0s 1ms/step - loss: 0.9076 - mae: 0.6982 - val_loss: 15.9042 - val_mae: 2.7122\n",
      "Epoch 435/500\n",
      "323/323 [==============================] - 0s 1ms/step - loss: 1.0082 - mae: 0.7535 - val_loss: 17.4081 - val_mae: 2.7168\n",
      "Epoch 436/500\n",
      "323/323 [==============================] - 0s 1ms/step - loss: 0.8534 - mae: 0.6905 - val_loss: 16.6451 - val_mae: 2.5724\n",
      "Epoch 437/500\n",
      "323/323 [==============================] - 0s 1ms/step - loss: 0.9992 - mae: 0.7416 - val_loss: 16.8459 - val_mae: 2.6758\n",
      "Epoch 438/500\n",
      "323/323 [==============================] - 0s 1ms/step - loss: 0.9361 - mae: 0.7205 - val_loss: 15.3276 - val_mae: 2.5758\n",
      "Epoch 439/500\n",
      "323/323 [==============================] - 0s 1ms/step - loss: 0.9033 - mae: 0.7003 - val_loss: 16.6229 - val_mae: 2.6859\n",
      "Epoch 440/500\n",
      "323/323 [==============================] - 0s 1ms/step - loss: 1.0225 - mae: 0.7197 - val_loss: 15.7179 - val_mae: 2.7490\n",
      "Epoch 441/500\n",
      "323/323 [==============================] - 0s 1ms/step - loss: 0.9627 - mae: 0.7289 - val_loss: 14.8452 - val_mae: 2.6054\n",
      "Epoch 442/500\n",
      "323/323 [==============================] - 0s 1ms/step - loss: 0.8487 - mae: 0.6656 - val_loss: 17.7790 - val_mae: 2.7324\n",
      "Epoch 443/500\n",
      "323/323 [==============================] - 0s 1ms/step - loss: 0.9649 - mae: 0.7263 - val_loss: 16.1787 - val_mae: 2.6958\n",
      "Epoch 444/500\n",
      "323/323 [==============================] - 0s 1ms/step - loss: 0.8491 - mae: 0.6731 - val_loss: 14.1147 - val_mae: 2.5661\n",
      "Epoch 445/500\n",
      "323/323 [==============================] - 0s 1ms/step - loss: 0.8235 - mae: 0.6939 - val_loss: 17.0455 - val_mae: 2.8073\n",
      "Epoch 446/500\n",
      "323/323 [==============================] - 0s 1ms/step - loss: 0.8522 - mae: 0.6873 - val_loss: 15.0058 - val_mae: 2.6813\n",
      "Epoch 447/500\n",
      "323/323 [==============================] - 0s 1ms/step - loss: 0.9125 - mae: 0.6880 - val_loss: 15.3411 - val_mae: 2.6775\n",
      "Epoch 448/500\n",
      "323/323 [==============================] - 0s 1ms/step - loss: 0.9973 - mae: 0.7431 - val_loss: 14.8712 - val_mae: 2.5989\n",
      "Epoch 449/500\n",
      "323/323 [==============================] - 0s 1ms/step - loss: 0.9623 - mae: 0.7270 - val_loss: 15.9267 - val_mae: 2.6231\n",
      "Epoch 450/500\n",
      "323/323 [==============================] - 0s 1ms/step - loss: 0.8004 - mae: 0.6659 - val_loss: 17.4971 - val_mae: 2.7603\n",
      "Epoch 451/500\n",
      "323/323 [==============================] - 0s 1ms/step - loss: 0.8985 - mae: 0.7001 - val_loss: 15.0519 - val_mae: 2.6893\n",
      "Epoch 452/500\n",
      "323/323 [==============================] - 0s 1ms/step - loss: 0.9116 - mae: 0.7095 - val_loss: 14.7112 - val_mae: 2.6291\n",
      "Epoch 453/500\n",
      "323/323 [==============================] - 0s 1ms/step - loss: 0.8573 - mae: 0.6770 - val_loss: 18.1632 - val_mae: 2.7433\n",
      "Epoch 454/500\n",
      "323/323 [==============================] - 0s 1ms/step - loss: 0.9059 - mae: 0.7043 - val_loss: 15.4135 - val_mae: 2.6690\n",
      "Epoch 455/500\n",
      "323/323 [==============================] - 0s 1ms/step - loss: 0.9292 - mae: 0.7017 - val_loss: 15.0311 - val_mae: 2.6170\n",
      "Epoch 456/500\n",
      "323/323 [==============================] - 0s 1ms/step - loss: 0.8712 - mae: 0.6775 - val_loss: 17.2065 - val_mae: 2.7358\n",
      "Epoch 457/500\n",
      "323/323 [==============================] - 0s 1ms/step - loss: 0.9189 - mae: 0.6934 - val_loss: 16.8375 - val_mae: 2.8495\n",
      "Epoch 458/500\n",
      "323/323 [==============================] - 0s 1ms/step - loss: 0.9529 - mae: 0.6975 - val_loss: 17.1470 - val_mae: 2.8215\n",
      "Epoch 459/500\n",
      "323/323 [==============================] - 0s 1ms/step - loss: 0.8469 - mae: 0.6680 - val_loss: 16.0506 - val_mae: 2.6691\n",
      "Epoch 460/500\n",
      "323/323 [==============================] - 0s 1ms/step - loss: 0.8928 - mae: 0.6983 - val_loss: 15.3931 - val_mae: 2.6551\n",
      "Epoch 461/500\n",
      "323/323 [==============================] - 0s 1ms/step - loss: 0.8971 - mae: 0.6773 - val_loss: 15.2859 - val_mae: 2.6335\n",
      "Epoch 462/500\n",
      "323/323 [==============================] - 0s 1ms/step - loss: 0.8590 - mae: 0.6838 - val_loss: 18.0071 - val_mae: 2.8346\n",
      "Epoch 463/500\n",
      "323/323 [==============================] - 0s 1ms/step - loss: 0.8747 - mae: 0.6892 - val_loss: 15.6219 - val_mae: 2.5468\n",
      "Epoch 464/500\n",
      "323/323 [==============================] - 0s 1ms/step - loss: 0.8881 - mae: 0.6861 - val_loss: 16.7648 - val_mae: 2.7193\n",
      "Epoch 465/500\n",
      "323/323 [==============================] - 0s 1ms/step - loss: 0.8230 - mae: 0.6990 - val_loss: 14.2726 - val_mae: 2.5746\n",
      "Epoch 466/500\n",
      "323/323 [==============================] - 0s 1ms/step - loss: 0.9191 - mae: 0.7070 - val_loss: 16.2073 - val_mae: 2.6997\n",
      "Epoch 467/500\n",
      "323/323 [==============================] - 0s 1ms/step - loss: 0.9681 - mae: 0.7319 - val_loss: 14.5249 - val_mae: 2.6088\n",
      "Epoch 468/500\n",
      "323/323 [==============================] - 0s 1ms/step - loss: 0.8574 - mae: 0.6836 - val_loss: 16.0475 - val_mae: 2.8410\n",
      "Epoch 469/500\n",
      "323/323 [==============================] - 0s 1ms/step - loss: 0.8636 - mae: 0.7001 - val_loss: 16.5561 - val_mae: 2.8812\n",
      "Epoch 470/500\n",
      "323/323 [==============================] - 0s 1ms/step - loss: 1.0349 - mae: 0.7286 - val_loss: 18.6332 - val_mae: 2.8545\n",
      "Epoch 471/500\n",
      "323/323 [==============================] - 0s 1ms/step - loss: 0.7886 - mae: 0.6633 - val_loss: 16.8722 - val_mae: 2.7680\n",
      "Epoch 472/500\n",
      "323/323 [==============================] - 0s 1ms/step - loss: 0.7923 - mae: 0.6689 - val_loss: 16.0250 - val_mae: 2.6923\n",
      "Epoch 473/500\n",
      "323/323 [==============================] - 0s 1ms/step - loss: 0.7665 - mae: 0.6713 - val_loss: 16.0217 - val_mae: 2.7418\n",
      "Epoch 474/500\n",
      "323/323 [==============================] - 0s 1ms/step - loss: 0.9190 - mae: 0.7255 - val_loss: 16.7298 - val_mae: 2.6391\n",
      "Epoch 475/500\n",
      "323/323 [==============================] - 0s 1ms/step - loss: 0.9763 - mae: 0.7227 - val_loss: 15.3175 - val_mae: 2.7080\n",
      "Epoch 476/500\n",
      "323/323 [==============================] - 0s 1ms/step - loss: 0.8417 - mae: 0.6889 - val_loss: 18.2412 - val_mae: 2.8348\n",
      "Epoch 477/500\n",
      "323/323 [==============================] - 0s 1ms/step - loss: 0.9371 - mae: 0.6852 - val_loss: 14.9862 - val_mae: 2.5893\n",
      "Epoch 478/500\n",
      "323/323 [==============================] - 0s 1ms/step - loss: 0.9430 - mae: 0.7006 - val_loss: 16.6522 - val_mae: 2.6591\n",
      "Epoch 479/500\n",
      "323/323 [==============================] - 0s 1ms/step - loss: 0.9110 - mae: 0.7222 - val_loss: 16.6181 - val_mae: 2.7554\n",
      "Epoch 480/500\n",
      "323/323 [==============================] - 0s 1ms/step - loss: 0.8283 - mae: 0.6664 - val_loss: 18.1155 - val_mae: 2.8748\n",
      "Epoch 481/500\n",
      "323/323 [==============================] - 0s 1ms/step - loss: 0.8587 - mae: 0.6881 - val_loss: 18.4797 - val_mae: 2.8119\n",
      "Epoch 482/500\n",
      "323/323 [==============================] - 0s 1ms/step - loss: 0.8757 - mae: 0.6974 - val_loss: 17.0886 - val_mae: 2.8111\n",
      "Epoch 483/500\n",
      "323/323 [==============================] - 0s 1ms/step - loss: 0.8457 - mae: 0.6805 - val_loss: 18.6043 - val_mae: 2.8097\n",
      "Epoch 484/500\n",
      "323/323 [==============================] - 0s 1ms/step - loss: 0.8436 - mae: 0.6733 - val_loss: 15.4487 - val_mae: 2.6759\n",
      "Epoch 485/500\n",
      "323/323 [==============================] - 0s 1ms/step - loss: 0.8484 - mae: 0.6755 - val_loss: 17.9099 - val_mae: 2.9021\n",
      "Epoch 486/500\n",
      "323/323 [==============================] - 0s 1ms/step - loss: 0.8507 - mae: 0.6542 - val_loss: 15.7380 - val_mae: 2.7375\n",
      "Epoch 487/500\n",
      "323/323 [==============================] - 0s 1ms/step - loss: 0.8528 - mae: 0.6959 - val_loss: 15.5053 - val_mae: 2.6828\n",
      "Epoch 488/500\n",
      "323/323 [==============================] - 0s 1ms/step - loss: 0.8155 - mae: 0.6846 - val_loss: 16.7565 - val_mae: 2.7898\n",
      "Epoch 489/500\n",
      "323/323 [==============================] - 0s 1ms/step - loss: 0.8515 - mae: 0.6850 - val_loss: 16.3144 - val_mae: 2.7302\n",
      "Epoch 490/500\n",
      "323/323 [==============================] - 0s 1ms/step - loss: 0.7977 - mae: 0.6611 - val_loss: 15.9259 - val_mae: 2.7531\n",
      "Epoch 491/500\n",
      "323/323 [==============================] - 0s 1ms/step - loss: 0.8075 - mae: 0.6837 - val_loss: 18.3474 - val_mae: 2.8950\n",
      "Epoch 492/500\n",
      "323/323 [==============================] - 0s 1ms/step - loss: 0.7793 - mae: 0.6805 - val_loss: 17.6247 - val_mae: 2.7584\n",
      "Epoch 493/500\n",
      "323/323 [==============================] - 0s 1ms/step - loss: 0.8119 - mae: 0.6468 - val_loss: 16.6971 - val_mae: 2.7457\n",
      "Epoch 494/500\n",
      "323/323 [==============================] - 0s 1ms/step - loss: 0.8636 - mae: 0.6978 - val_loss: 18.3786 - val_mae: 2.8413\n",
      "Epoch 495/500\n",
      "323/323 [==============================] - 0s 1ms/step - loss: 0.8203 - mae: 0.6606 - val_loss: 16.6809 - val_mae: 2.7941\n",
      "Epoch 496/500\n",
      "323/323 [==============================] - 0s 1ms/step - loss: 0.7782 - mae: 0.6636 - val_loss: 14.0486 - val_mae: 2.6515\n",
      "Epoch 497/500\n",
      "323/323 [==============================] - 0s 1ms/step - loss: 0.8263 - mae: 0.6554 - val_loss: 17.2825 - val_mae: 2.7863\n",
      "Epoch 498/500\n",
      "323/323 [==============================] - 0s 1ms/step - loss: 0.8036 - mae: 0.6771 - val_loss: 16.5890 - val_mae: 2.6703\n",
      "Epoch 499/500\n",
      "323/323 [==============================] - 0s 1ms/step - loss: 0.8149 - mae: 0.6643 - val_loss: 15.6698 - val_mae: 2.7478\n",
      "Epoch 500/500\n",
      "323/323 [==============================] - 0s 1ms/step - loss: 0.8278 - mae: 0.6792 - val_loss: 16.1218 - val_mae: 2.6599\n"
     ]
    }
   ],
   "source": [
    "# %%time\n",
    "\n",
    "Hist_boston = boston.fit(X_train, y_train,\n",
    "                         epochs = 500,\n",
    "                         batch_size = 1,\n",
    "                         validation_data = (X_valid, y_valid))"
   ]
  },
  {
   "cell_type": "markdown",
   "metadata": {
    "id": "9Eiv18Q5FhHc"
   },
   "source": [
    "> ## 4) 학습 결과 시각화"
   ]
  },
  {
   "cell_type": "markdown",
   "metadata": {
    "id": "i1Jbkw4cdJcb"
   },
   "source": [
    "* 전체 시각화"
   ]
  },
  {
   "cell_type": "code",
   "execution_count": 12,
   "metadata": {
    "colab": {
     "base_uri": "https://localhost:8080/",
     "height": 404
    },
    "executionInfo": {
     "elapsed": 29,
     "status": "ok",
     "timestamp": 1673408124417,
     "user": {
      "displayName": "이정구",
      "userId": "17400242557229223804"
     },
     "user_tz": -540
    },
    "id": "_wItRpKeFkpm",
    "outputId": "0cbd4884-9778-458a-cd28-68da2895d991"
   },
   "outputs": [
    {
     "data": {
      "image/png": "[encoded data removed]",
      "text/plain": [
       "<Figure size 900x600 with 1 Axes>"
      ]
     },
     "metadata": {},
     "output_type": "display_data"
    }
   ],
   "source": [
    "import matplotlib.pyplot as plt\n",
    "\n",
    "epochs = range(1, len(Hist_boston.history['val_mae']) + 1)\n",
    "\n",
    "plt.figure(figsize = (9, 6))\n",
    "plt.plot(epochs, Hist_boston.history['val_mae'])\n",
    "plt.title('Validation MAE')\n",
    "plt.xlabel('Epochs')\n",
    "plt.ylabel('Mean Absolute Error')\n",
    "plt.grid()\n",
    "plt.show()"
   ]
  },
  {
   "cell_type": "markdown",
   "metadata": {
    "id": "flGadAoGdLzN"
   },
   "source": [
    "* 5번째 이후 MAE 확인"
   ]
  },
  {
   "cell_type": "code",
   "execution_count": 13,
   "metadata": {
    "colab": {
     "base_uri": "https://localhost:8080/",
     "height": 404
    },
    "executionInfo": {
     "elapsed": 524,
     "status": "ok",
     "timestamp": 1673408124930,
     "user": {
      "displayName": "이정구",
      "userId": "17400242557229223804"
     },
     "user_tz": -540
    },
    "id": "XoofiV2fHzgb",
    "outputId": "cb32da1a-ef1d-4ac2-affa-1ed1d9d3cc6b"
   },
   "outputs": [
    {
     "data": {
      "image/png": "[encoded data removed]",
      "text/plain": [
       "<Figure size 900x600 with 1 Axes>"
      ]
     },
     "metadata": {},
     "output_type": "display_data"
    }
   ],
   "source": [
    "# 보기 편하게 스무딩해주자\n",
    "# 스케일 차이가 큰 첫 5개 포인트는 제외하고\n",
    "# 부드러운 곡선을 얻기 위해 각 포인트를 이전 포인트의 지수 이동 평균으로 대체한다.\n",
    "def smooth_curve(points, factor = 0.9):\n",
    "  smoothed_points = []\n",
    "  for point in points:\n",
    "    if smoothed_points:\n",
    "      previous = smoothed_points[-1]\n",
    "      smoothed_points.append(previous * factor + point * (1 - factor))\n",
    "    else:\n",
    "      smoothed_points.append(point)\n",
    "  return smoothed_points\n",
    "\n",
    "mae_history = Hist_boston.history['val_mae']\n",
    "\n",
    "mae_history = smooth_curve(mae_history[5:])\n",
    "\n",
    "plt.figure(figsize = (9, 6))\n",
    "plt.plot(range(1, len(mae_history) + 1), mae_history)\n",
    "plt.title('Validation MAE')\n",
    "plt.xlabel('Epochs')\n",
    "plt.ylabel('Mean Absolute Error')\n",
    "plt.grid()\n",
    "plt.show()"
   ]
  },
  {
   "cell_type": "markdown",
   "metadata": {
    "id": "kt-_vL_OLEzU"
   },
   "source": [
    "> ## 5) Model Evaluate"
   ]
  },
  {
   "cell_type": "code",
   "execution_count": 14,
   "metadata": {
    "colab": {
     "base_uri": "https://localhost:8080/"
    },
    "executionInfo": {
     "elapsed": 33,
     "status": "ok",
     "timestamp": 1673408124931,
     "user": {
      "displayName": "이정구",
      "userId": "17400242557229223804"
     },
     "user_tz": -540
    },
    "id": "l6w9a_lSLGmJ",
    "outputId": "d1805e9a-e2c7-4df1-c250-6233fd700cff"
   },
   "outputs": [
    {
     "name": "stdout",
     "output_type": "stream",
     "text": [
      "4/4 [==============================] - 0s 6ms/step - loss: 16.9206 - mae: 2.7396\n",
      "MAE is : 2.7396178245544434\n"
     ]
    }
   ],
   "source": [
    "test_mse_score, test_mae_score = boston.evaluate(X_test, y_test)\n",
    "\n",
    "print('MAE is :',test_mae_score)"
   ]
  },
  {
   "cell_type": "markdown",
   "metadata": {
    "id": "KKQ8KnRdpPMS"
   },
   "source": [
    "> ## 6) Keras Session Clear"
   ]
  },
  {
   "cell_type": "code",
   "execution_count": 15,
   "metadata": {
    "executionInfo": {
     "elapsed": 20,
     "status": "ok",
     "timestamp": 1673408124932,
     "user": {
      "displayName": "이정구",
      "userId": "17400242557229223804"
     },
     "user_tz": -540
    },
    "id": "sB8JVRhPJzWO"
   },
   "outputs": [],
   "source": [
    "# 대용량 데이터 학습 시 GPU메모리 부족 에러 대응\n",
    "# 모델 생성 후에는 꼭 클리어해주자.\n",
    "from tensorflow.keras import backend as K\n",
    "\n",
    "K.clear_session()"
   ]
  },
  {
   "cell_type": "markdown",
   "metadata": {
    "id": "Nz2gBFoyKPeA"
   },
   "source": [
    "# IV. Early Stopping"
   ]
  },
  {
   "cell_type": "markdown",
   "metadata": {
    "id": "5o9-5pfvc3F7"
   },
   "source": [
    "> ## 1) Model Define & Compile"
   ]
  },
  {
   "cell_type": "code",
   "execution_count": 17,
   "metadata": {
    "executionInfo": {
     "elapsed": 20,
     "status": "ok",
     "timestamp": 1673408124933,
     "user": {
      "displayName": "이정구",
      "userId": "17400242557229223804"
     },
     "user_tz": -540
    },
    "id": "000wbBePKgnj"
   },
   "outputs": [],
   "source": [
    "from tensorflow.keras import models\n",
    "from tensorflow.keras import layers\n",
    "\n",
    "boston = models.Sequential(name = 'EarlyStopping')\n",
    "boston.add(layers.Dense(64, activation = 'relu', input_shape = (13,)))\n",
    "boston.add(layers.Dense(64, activation = 'relu'))\n",
    "boston.add(layers.Dense(1))\n",
    "\n",
    "boston.compile(loss = 'mse',\n",
    "               optimizer = 'rmsprop',\n",
    "               metrics = ['mae'])"
   ]
  },
  {
   "cell_type": "markdown",
   "metadata": {
    "id": "9HDY22OwodvA"
   },
   "source": [
    "> ## 2) EarlyStopping( )\n",
    "\n",
    "* monitor : 모니터링 대상 성능\n",
    "* mode : 모니터링 대상을 최소화(min) 또는 최대화(max)\n",
    "* patience : 성능이 개선되지 않는 epoch 횟수"
   ]
  },
  {
   "cell_type": "code",
   "execution_count": 18,
   "metadata": {
    "executionInfo": {
     "elapsed": 18,
     "status": "ok",
     "timestamp": 1673408124933,
     "user": {
      "displayName": "이정구",
      "userId": "17400242557229223804"
     },
     "user_tz": -540
    },
    "id": "JUQ6jh5OlLBZ"
   },
   "outputs": [],
   "source": [
    "from tensorflow.keras.callbacks import EarlyStopping\n",
    "\n",
    "es = EarlyStopping(monitor = 'val_mae', \n",
    "                   mode = 'min', \n",
    "                   patience = 50, \n",
    "                   verbose = 1)"
   ]
  },
  {
   "cell_type": "markdown",
   "metadata": {
    "id": "dZ0l_lZToiaU"
   },
   "source": [
    "> ## 3) ModelCheckpoint( )\n",
    "\n",
    "* 'best_boston.h5' : 최적모델이 저장될 경로\n",
    "* save_best_only : 최적모델만 저장할지 지정"
   ]
  },
  {
   "cell_type": "code",
   "execution_count": 19,
   "metadata": {
    "executionInfo": {
     "elapsed": 20,
     "status": "ok",
     "timestamp": 1673408124935,
     "user": {
      "displayName": "이정구",
      "userId": "17400242557229223804"
     },
     "user_tz": -540
    },
    "id": "tTgC-bN6lQDa"
   },
   "outputs": [],
   "source": [
    "from tensorflow.keras.callbacks import ModelCheckpoint\n",
    "\n",
    "mc = ModelCheckpoint('best_boston.h5', \n",
    "                     monitor = 'val_mae', \n",
    "                     mode = 'min', \n",
    "                     save_best_only = True,\n",
    "                     verbose = 1)"
   ]
  },
  {
   "cell_type": "markdown",
   "metadata": {
    "id": "nHWTF7_wc7jx"
   },
   "source": [
    "> ## 4) Model Fit with callbacks\n",
    "\n",
    "* callbacks : Earlystopping( ) 과 ModelCheckpoint( ) 객체 지정"
   ]
  },
  {
   "cell_type": "code",
   "execution_count": 20,
   "metadata": {
    "colab": {
     "base_uri": "https://localhost:8080/"
    },
    "collapsed": true,
    "executionInfo": {
     "elapsed": 45641,
     "status": "ok",
     "timestamp": 1673408170557,
     "user": {
      "displayName": "이정구",
      "userId": "17400242557229223804"
     },
     "user_tz": -540
    },
    "id": "M5Ie96-4J6Yq",
    "jupyter": {
     "outputs_hidden": true
    },
    "outputId": "da9fe09c-9a23-4a57-e302-bfdde96b058a",
    "tags": []
   },
   "outputs": [
    {
     "name": "stdout",
     "output_type": "stream",
     "text": [
      "Epoch 1/500\n",
      "310/323 [===========================>..] - ETA: 0s - loss: 176.3577 - mae: 9.6044 \n",
      "Epoch 1: val_mae improved from inf to 3.32576, saving model to best_boston.h5\n",
      "323/323 [==============================] - 1s 2ms/step - loss: 169.8444 - mae: 9.3553 - val_loss: 31.8804 - val_mae: 3.3258\n",
      "Epoch 2/500\n",
      "287/323 [=========================>....] - ETA: 0s - loss: 20.5664 - mae: 3.1901\n",
      "Epoch 2: val_mae improved from 3.32576 to 3.00729, saving model to best_boston.h5\n",
      "323/323 [==============================] - 0s 1ms/step - loss: 21.9585 - mae: 3.2187 - val_loss: 24.9855 - val_mae: 3.0073\n",
      "Epoch 3/500\n",
      "298/323 [==========================>...] - ETA: 0s - loss: 18.1634 - mae: 2.9186\n",
      "Epoch 3: val_mae improved from 3.00729 to 2.62887, saving model to best_boston.h5\n",
      "323/323 [==============================] - 0s 1ms/step - loss: 17.4964 - mae: 2.8746 - val_loss: 19.5088 - val_mae: 2.6289\n",
      "Epoch 4/500\n",
      "283/323 [=========================>....] - ETA: 0s - loss: 16.3382 - mae: 2.7284\n",
      "Epoch 4: val_mae improved from 2.62887 to 2.47433, saving model to best_boston.h5\n",
      "323/323 [==============================] - 0s 1ms/step - loss: 15.6535 - mae: 2.6915 - val_loss: 18.4097 - val_mae: 2.4743\n",
      "Epoch 5/500\n",
      "293/323 [==========================>...] - ETA: 0s - loss: 11.6706 - mae: 2.5002\n",
      "Epoch 5: val_mae did not improve from 2.47433\n",
      "323/323 [==============================] - 0s 1ms/step - loss: 14.1036 - mae: 2.5684 - val_loss: 20.8622 - val_mae: 2.7463\n",
      "Epoch 6/500\n",
      "282/323 [=========================>....] - ETA: 0s - loss: 13.9425 - mae: 2.5284\n",
      "Epoch 6: val_mae improved from 2.47433 to 2.42812, saving model to best_boston.h5\n",
      "323/323 [==============================] - 0s 1ms/step - loss: 12.9079 - mae: 2.4462 - val_loss: 18.2661 - val_mae: 2.4281\n",
      "Epoch 7/500\n",
      "292/323 [==========================>...] - ETA: 0s - loss: 13.4767 - mae: 2.4371\n",
      "Epoch 7: val_mae improved from 2.42812 to 2.42606, saving model to best_boston.h5\n",
      "323/323 [==============================] - 0s 1ms/step - loss: 12.9056 - mae: 2.4119 - val_loss: 19.4927 - val_mae: 2.4261\n",
      "Epoch 8/500\n",
      "270/323 [========================>.....] - ETA: 0s - loss: 9.1204 - mae: 2.1000\n",
      "Epoch 8: val_mae did not improve from 2.42606\n",
      "323/323 [==============================] - 0s 1ms/step - loss: 11.4760 - mae: 2.2457 - val_loss: 20.4202 - val_mae: 3.0369\n",
      "Epoch 9/500\n",
      "313/323 [============================>.] - ETA: 0s - loss: 12.1151 - mae: 2.2867\n",
      "Epoch 9: val_mae improved from 2.42606 to 2.25424, saving model to best_boston.h5\n",
      "323/323 [==============================] - 0s 1ms/step - loss: 11.9047 - mae: 2.2803 - val_loss: 16.0310 - val_mae: 2.2542\n",
      "Epoch 10/500\n",
      "298/323 [==========================>...] - ETA: 0s - loss: 11.0520 - mae: 2.2513\n",
      "Epoch 10: val_mae did not improve from 2.25424\n",
      "323/323 [==============================] - 0s 1ms/step - loss: 10.8758 - mae: 2.2525 - val_loss: 17.4764 - val_mae: 2.4232\n",
      "Epoch 11/500\n",
      "320/323 [============================>.] - ETA: 0s - loss: 11.2921 - mae: 2.2330\n",
      "Epoch 11: val_mae did not improve from 2.25424\n",
      "323/323 [==============================] - 0s 1ms/step - loss: 11.2895 - mae: 2.2401 - val_loss: 16.7688 - val_mae: 2.4534\n",
      "Epoch 12/500\n",
      "291/323 [==========================>...] - ETA: 0s - loss: 11.1468 - mae: 2.1785\n",
      "Epoch 12: val_mae did not improve from 2.25424\n",
      "323/323 [==============================] - 0s 1ms/step - loss: 11.2097 - mae: 2.2041 - val_loss: 14.8346 - val_mae: 2.5623\n",
      "Epoch 13/500\n",
      "281/323 [=========================>....] - ETA: 0s - loss: 10.1902 - mae: 2.1558\n",
      "Epoch 13: val_mae did not improve from 2.25424\n",
      "323/323 [==============================] - 0s 1ms/step - loss: 10.6534 - mae: 2.2161 - val_loss: 17.3705 - val_mae: 2.9689\n",
      "Epoch 14/500\n",
      "318/323 [============================>.] - ETA: 0s - loss: 10.9414 - mae: 2.1699\n",
      "Epoch 14: val_mae did not improve from 2.25424\n",
      "323/323 [==============================] - 0s 1ms/step - loss: 10.8282 - mae: 2.1606 - val_loss: 16.7045 - val_mae: 2.4245\n",
      "Epoch 15/500\n",
      "294/323 [==========================>...] - ETA: 0s - loss: 10.3887 - mae: 2.0350\n",
      "Epoch 15: val_mae did not improve from 2.25424\n",
      "323/323 [==============================] - 0s 1ms/step - loss: 10.2524 - mae: 2.0704 - val_loss: 15.9060 - val_mae: 2.4591\n",
      "Epoch 16/500\n",
      "317/323 [============================>.] - ETA: 0s - loss: 10.4008 - mae: 2.1083\n",
      "Epoch 16: val_mae did not improve from 2.25424\n",
      "323/323 [==============================] - 0s 1ms/step - loss: 10.4746 - mae: 2.1287 - val_loss: 17.4044 - val_mae: 2.7854\n",
      "Epoch 17/500\n",
      "295/323 [==========================>...] - ETA: 0s - loss: 10.8145 - mae: 2.1644\n",
      "Epoch 17: val_mae did not improve from 2.25424\n",
      "323/323 [==============================] - 0s 1ms/step - loss: 10.4598 - mae: 2.1305 - val_loss: 17.5372 - val_mae: 2.5062\n",
      "Epoch 18/500\n",
      "320/323 [============================>.] - ETA: 0s - loss: 10.1485 - mae: 2.0431\n",
      "Epoch 18: val_mae did not improve from 2.25424\n",
      "323/323 [==============================] - 0s 1ms/step - loss: 10.1188 - mae: 2.0422 - val_loss: 19.1432 - val_mae: 2.7207\n",
      "Epoch 19/500\n",
      "310/323 [===========================>..] - ETA: 0s - loss: 10.0766 - mae: 2.0919\n",
      "Epoch 19: val_mae did not improve from 2.25424\n",
      "323/323 [==============================] - 0s 1ms/step - loss: 9.8709 - mae: 2.0750 - val_loss: 16.8058 - val_mae: 2.3733\n",
      "Epoch 20/500\n",
      "290/323 [=========================>....] - ETA: 0s - loss: 9.9953 - mae: 2.1362 \n",
      "Epoch 20: val_mae did not improve from 2.25424\n",
      "323/323 [==============================] - 0s 1ms/step - loss: 9.5086 - mae: 2.0912 - val_loss: 19.4593 - val_mae: 2.6052\n",
      "Epoch 21/500\n",
      "284/323 [=========================>....] - ETA: 0s - loss: 10.3840 - mae: 2.0882\n",
      "Epoch 21: val_mae did not improve from 2.25424\n",
      "323/323 [==============================] - 0s 1ms/step - loss: 9.8614 - mae: 2.0447 - val_loss: 14.7670 - val_mae: 2.3614\n",
      "Epoch 22/500\n",
      "284/323 [=========================>....] - ETA: 0s - loss: 10.2601 - mae: 2.0718\n",
      "Epoch 22: val_mae did not improve from 2.25424\n",
      "323/323 [==============================] - 0s 1ms/step - loss: 9.5967 - mae: 2.0132 - val_loss: 21.0217 - val_mae: 2.6892\n",
      "Epoch 23/500\n",
      "277/323 [========================>.....] - ETA: 0s - loss: 10.2445 - mae: 2.0343\n",
      "Epoch 23: val_mae did not improve from 2.25424\n",
      "323/323 [==============================] - 0s 1ms/step - loss: 9.5117 - mae: 2.0085 - val_loss: 17.3397 - val_mae: 2.3069\n",
      "Epoch 24/500\n",
      "298/323 [==========================>...] - ETA: 0s - loss: 9.8676 - mae: 2.0101\n",
      "Epoch 24: val_mae improved from 2.25424 to 2.23505, saving model to best_boston.h5\n",
      "323/323 [==============================] - 0s 1ms/step - loss: 9.3880 - mae: 1.9622 - val_loss: 15.0680 - val_mae: 2.2350\n",
      "Epoch 25/500\n",
      "276/323 [========================>.....] - ETA: 0s - loss: 9.0766 - mae: 1.9478\n",
      "Epoch 25: val_mae did not improve from 2.23505\n",
      "323/323 [==============================] - 0s 1ms/step - loss: 8.8755 - mae: 1.9402 - val_loss: 18.2714 - val_mae: 2.4500\n",
      "Epoch 26/500\n",
      "299/323 [==========================>...] - ETA: 0s - loss: 9.2248 - mae: 2.0541 \n",
      "Epoch 26: val_mae did not improve from 2.23505\n",
      "323/323 [==============================] - 0s 1ms/step - loss: 8.7880 - mae: 2.0016 - val_loss: 15.1799 - val_mae: 2.3542\n",
      "Epoch 27/500\n",
      "323/323 [==============================] - ETA: 0s - loss: 9.3216 - mae: 1.9747\n",
      "Epoch 27: val_mae improved from 2.23505 to 2.22711, saving model to best_boston.h5\n",
      "323/323 [==============================] - 0s 1ms/step - loss: 9.3216 - mae: 1.9747 - val_loss: 14.9843 - val_mae: 2.2271\n",
      "Epoch 28/500\n",
      "289/323 [=========================>....] - ETA: 0s - loss: 8.9012 - mae: 1.9729\n",
      "Epoch 28: val_mae improved from 2.22711 to 2.16928, saving model to best_boston.h5\n",
      "323/323 [==============================] - 0s 1ms/step - loss: 8.5372 - mae: 1.9652 - val_loss: 14.2105 - val_mae: 2.1693\n",
      "Epoch 29/500\n",
      "323/323 [==============================] - ETA: 0s - loss: 8.9427 - mae: 1.8960\n",
      "Epoch 29: val_mae did not improve from 2.16928\n",
      "323/323 [==============================] - 0s 1ms/step - loss: 8.9427 - mae: 1.8960 - val_loss: 12.9534 - val_mae: 2.2374\n",
      "Epoch 30/500\n",
      "279/323 [========================>.....] - ETA: 0s - loss: 9.0179 - mae: 1.9590\n",
      "Epoch 30: val_mae did not improve from 2.16928\n",
      "323/323 [==============================] - 0s 1ms/step - loss: 8.3773 - mae: 1.9149 - val_loss: 15.2357 - val_mae: 2.3778\n",
      "Epoch 31/500\n",
      "304/323 [===========================>..] - ETA: 0s - loss: 9.0341 - mae: 1.9194\n",
      "Epoch 31: val_mae did not improve from 2.16928\n",
      "323/323 [==============================] - 0s 1ms/step - loss: 9.0256 - mae: 1.9562 - val_loss: 14.1896 - val_mae: 2.2808\n",
      "Epoch 32/500\n",
      "262/323 [=======================>......] - ETA: 0s - loss: 9.3452 - mae: 1.9962 \n",
      "Epoch 32: val_mae did not improve from 2.16928\n",
      "323/323 [==============================] - 0s 1ms/step - loss: 8.3004 - mae: 1.9043 - val_loss: 14.1618 - val_mae: 2.1997\n",
      "Epoch 33/500\n",
      "282/323 [=========================>....] - ETA: 0s - loss: 8.5641 - mae: 1.8656\n",
      "Epoch 33: val_mae did not improve from 2.16928\n",
      "323/323 [==============================] - 0s 1ms/step - loss: 8.2634 - mae: 1.8672 - val_loss: 16.3934 - val_mae: 2.3615\n",
      "Epoch 34/500\n",
      "322/323 [============================>.] - ETA: 0s - loss: 8.7258 - mae: 1.8546\n",
      "Epoch 34: val_mae did not improve from 2.16928\n",
      "323/323 [==============================] - 0s 1ms/step - loss: 8.7086 - mae: 1.8544 - val_loss: 13.9020 - val_mae: 2.2622\n",
      "Epoch 35/500\n",
      "299/323 [==========================>...] - ETA: 0s - loss: 7.7117 - mae: 1.8636\n",
      "Epoch 35: val_mae did not improve from 2.16928\n",
      "323/323 [==============================] - 0s 1ms/step - loss: 8.2570 - mae: 1.9083 - val_loss: 14.3545 - val_mae: 2.3210\n",
      "Epoch 36/500\n",
      "293/323 [==========================>...] - ETA: 0s - loss: 8.0033 - mae: 1.8256\n",
      "Epoch 36: val_mae did not improve from 2.16928\n",
      "323/323 [==============================] - 0s 1ms/step - loss: 7.6923 - mae: 1.8202 - val_loss: 15.7051 - val_mae: 2.4879\n",
      "Epoch 37/500\n",
      "299/323 [==========================>...] - ETA: 0s - loss: 8.1873 - mae: 1.8642\n",
      "Epoch 37: val_mae improved from 2.16928 to 2.12564, saving model to best_boston.h5\n",
      "323/323 [==============================] - 0s 1ms/step - loss: 7.8052 - mae: 1.8346 - val_loss: 13.0635 - val_mae: 2.1256\n",
      "Epoch 38/500\n",
      "287/323 [=========================>....] - ETA: 0s - loss: 8.1244 - mae: 1.9076\n",
      "Epoch 38: val_mae did not improve from 2.12564\n",
      "323/323 [==============================] - 0s 1ms/step - loss: 7.6845 - mae: 1.8726 - val_loss: 14.4880 - val_mae: 2.2276\n",
      "Epoch 39/500\n",
      "299/323 [==========================>...] - ETA: 0s - loss: 7.9395 - mae: 1.7889\n",
      "Epoch 39: val_mae improved from 2.12564 to 2.10548, saving model to best_boston.h5\n",
      "323/323 [==============================] - 0s 1ms/step - loss: 8.0357 - mae: 1.7923 - val_loss: 11.6554 - val_mae: 2.1055\n",
      "Epoch 40/500\n",
      "304/323 [===========================>..] - ETA: 0s - loss: 7.8745 - mae: 1.9033\n",
      "Epoch 40: val_mae did not improve from 2.10548\n",
      "323/323 [==============================] - 0s 1ms/step - loss: 7.4934 - mae: 1.8467 - val_loss: 13.2913 - val_mae: 2.1861\n",
      "Epoch 41/500\n",
      "296/323 [==========================>...] - ETA: 0s - loss: 6.1274 - mae: 1.8304\n",
      "Epoch 41: val_mae did not improve from 2.10548\n",
      "323/323 [==============================] - 0s 1ms/step - loss: 7.9305 - mae: 1.8642 - val_loss: 12.7757 - val_mae: 2.2192\n",
      "Epoch 42/500\n",
      "289/323 [=========================>....] - ETA: 0s - loss: 8.0110 - mae: 1.8299\n",
      "Epoch 42: val_mae improved from 2.10548 to 2.02545, saving model to best_boston.h5\n",
      "323/323 [==============================] - 0s 1ms/step - loss: 7.7646 - mae: 1.8295 - val_loss: 11.7241 - val_mae: 2.0254\n",
      "Epoch 43/500\n",
      "292/323 [==========================>...] - ETA: 0s - loss: 5.7520 - mae: 1.7554\n",
      "Epoch 43: val_mae did not improve from 2.02545\n",
      "323/323 [==============================] - 0s 1ms/step - loss: 7.7845 - mae: 1.7868 - val_loss: 11.4032 - val_mae: 2.0997\n",
      "Epoch 44/500\n",
      "293/323 [==========================>...] - ETA: 0s - loss: 7.6026 - mae: 1.8155\n",
      "Epoch 44: val_mae did not improve from 2.02545\n",
      "323/323 [==============================] - 0s 1ms/step - loss: 7.2287 - mae: 1.7739 - val_loss: 13.1062 - val_mae: 2.2687\n",
      "Epoch 45/500\n",
      "287/323 [=========================>....] - ETA: 0s - loss: 5.7100 - mae: 1.6858\n",
      "Epoch 45: val_mae did not improve from 2.02545\n",
      "323/323 [==============================] - 0s 1ms/step - loss: 7.5339 - mae: 1.7636 - val_loss: 11.4635 - val_mae: 2.1148\n",
      "Epoch 46/500\n",
      "295/323 [==========================>...] - ETA: 0s - loss: 7.2133 - mae: 1.7460\n",
      "Epoch 46: val_mae did not improve from 2.02545\n",
      "323/323 [==============================] - 0s 1ms/step - loss: 7.2250 - mae: 1.7637 - val_loss: 13.0653 - val_mae: 2.1930\n",
      "Epoch 47/500\n",
      "289/323 [=========================>....] - ETA: 0s - loss: 7.0224 - mae: 1.7034\n",
      "Epoch 47: val_mae did not improve from 2.02545\n",
      "323/323 [==============================] - 0s 1ms/step - loss: 6.9421 - mae: 1.6987 - val_loss: 12.6012 - val_mae: 2.1509\n",
      "Epoch 48/500\n",
      "290/323 [=========================>....] - ETA: 0s - loss: 7.7746 - mae: 1.7604\n",
      "Epoch 48: val_mae did not improve from 2.02545\n",
      "323/323 [==============================] - 0s 1ms/step - loss: 7.3064 - mae: 1.7117 - val_loss: 12.0545 - val_mae: 2.1612\n",
      "Epoch 49/500\n",
      "283/323 [=========================>....] - ETA: 0s - loss: 7.5743 - mae: 1.7089\n",
      "Epoch 49: val_mae did not improve from 2.02545\n",
      "323/323 [==============================] - 0s 1ms/step - loss: 7.2476 - mae: 1.6971 - val_loss: 12.3347 - val_mae: 2.1751\n",
      "Epoch 50/500\n",
      "292/323 [==========================>...] - ETA: 0s - loss: 7.3966 - mae: 1.7359\n",
      "Epoch 50: val_mae did not improve from 2.02545\n",
      "323/323 [==============================] - 0s 1ms/step - loss: 7.1912 - mae: 1.7281 - val_loss: 13.2688 - val_mae: 2.2770\n",
      "Epoch 51/500\n",
      "308/323 [===========================>..] - ETA: 0s - loss: 7.1164 - mae: 1.7262\n",
      "Epoch 51: val_mae did not improve from 2.02545\n",
      "323/323 [==============================] - 0s 1ms/step - loss: 6.9212 - mae: 1.7093 - val_loss: 12.3380 - val_mae: 2.0474\n",
      "Epoch 52/500\n",
      "322/323 [============================>.] - ETA: 0s - loss: 5.2930 - mae: 1.6840\n",
      "Epoch 52: val_mae did not improve from 2.02545\n",
      "323/323 [==============================] - 0s 1ms/step - loss: 6.6515 - mae: 1.7441 - val_loss: 15.1368 - val_mae: 2.8710\n",
      "Epoch 53/500\n",
      "312/323 [===========================>..] - ETA: 0s - loss: 6.6785 - mae: 1.7034\n",
      "Epoch 53: val_mae did not improve from 2.02545\n",
      "323/323 [==============================] - 0s 1ms/step - loss: 6.9078 - mae: 1.7316 - val_loss: 13.1405 - val_mae: 2.4065\n",
      "Epoch 54/500\n",
      "309/323 [===========================>..] - ETA: 0s - loss: 6.8781 - mae: 1.6648\n",
      "Epoch 54: val_mae did not improve from 2.02545\n",
      "323/323 [==============================] - 0s 1ms/step - loss: 6.7041 - mae: 1.6571 - val_loss: 11.4970 - val_mae: 2.0970\n",
      "Epoch 55/500\n",
      "307/323 [===========================>..] - ETA: 0s - loss: 6.4550 - mae: 1.6236\n",
      "Epoch 55: val_mae did not improve from 2.02545\n",
      "323/323 [==============================] - 0s 1ms/step - loss: 6.5295 - mae: 1.6625 - val_loss: 11.7175 - val_mae: 2.1278\n",
      "Epoch 56/500\n",
      "282/323 [=========================>....] - ETA: 0s - loss: 6.7601 - mae: 1.6520\n",
      "Epoch 56: val_mae did not improve from 2.02545\n",
      "323/323 [==============================] - 0s 1ms/step - loss: 6.5058 - mae: 1.6368 - val_loss: 11.9207 - val_mae: 2.1007\n",
      "Epoch 57/500\n",
      "311/323 [===========================>..] - ETA: 0s - loss: 6.5339 - mae: 1.6509\n",
      "Epoch 57: val_mae did not improve from 2.02545\n",
      "323/323 [==============================] - 0s 1ms/step - loss: 6.4473 - mae: 1.6460 - val_loss: 11.5347 - val_mae: 2.0594\n",
      "Epoch 58/500\n",
      "286/323 [=========================>....] - ETA: 0s - loss: 5.9944 - mae: 1.6561\n",
      "Epoch 58: val_mae did not improve from 2.02545\n",
      "323/323 [==============================] - 0s 1ms/step - loss: 6.1166 - mae: 1.6903 - val_loss: 13.0540 - val_mae: 2.1834\n",
      "Epoch 59/500\n",
      "305/323 [===========================>..] - ETA: 0s - loss: 6.6780 - mae: 1.6402\n",
      "Epoch 59: val_mae improved from 2.02545 to 1.98932, saving model to best_boston.h5\n",
      "323/323 [==============================] - 0s 1ms/step - loss: 6.5390 - mae: 1.6288 - val_loss: 11.4076 - val_mae: 1.9893\n",
      "Epoch 60/500\n",
      "315/323 [============================>.] - ETA: 0s - loss: 6.4618 - mae: 1.6279\n",
      "Epoch 60: val_mae did not improve from 1.98932\n",
      "323/323 [==============================] - 0s 1ms/step - loss: 6.3598 - mae: 1.6155 - val_loss: 11.0743 - val_mae: 2.0439\n",
      "Epoch 61/500\n",
      "313/323 [============================>.] - ETA: 0s - loss: 6.5197 - mae: 1.6988\n",
      "Epoch 61: val_mae did not improve from 1.98932\n",
      "323/323 [==============================] - 0s 1ms/step - loss: 6.4279 - mae: 1.6857 - val_loss: 13.2616 - val_mae: 2.3313\n",
      "Epoch 62/500\n",
      "284/323 [=========================>....] - ETA: 0s - loss: 6.4177 - mae: 1.6755\n",
      "Epoch 62: val_mae did not improve from 1.98932\n",
      "323/323 [==============================] - 0s 1ms/step - loss: 6.1048 - mae: 1.6418 - val_loss: 12.0940 - val_mae: 2.2008\n",
      "Epoch 63/500\n",
      "291/323 [==========================>...] - ETA: 0s - loss: 6.5641 - mae: 1.6277\n",
      "Epoch 63: val_mae did not improve from 1.98932\n",
      "323/323 [==============================] - 0s 1ms/step - loss: 6.2563 - mae: 1.6080 - val_loss: 10.9349 - val_mae: 2.0237\n",
      "Epoch 64/500\n",
      "314/323 [============================>.] - ETA: 0s - loss: 6.2139 - mae: 1.6041\n",
      "Epoch 64: val_mae did not improve from 1.98932\n",
      "323/323 [==============================] - 0s 1ms/step - loss: 6.0996 - mae: 1.5944 - val_loss: 12.4106 - val_mae: 2.3264\n",
      "Epoch 65/500\n",
      "316/323 [============================>.] - ETA: 0s - loss: 6.2685 - mae: 1.6082\n",
      "Epoch 65: val_mae did not improve from 1.98932\n",
      "323/323 [==============================] - 0s 1ms/step - loss: 6.5016 - mae: 1.6366 - val_loss: 10.9152 - val_mae: 2.0246\n",
      "Epoch 66/500\n",
      "321/323 [============================>.] - ETA: 0s - loss: 5.9499 - mae: 1.5803\n",
      "Epoch 66: val_mae did not improve from 1.98932\n",
      "323/323 [==============================] - 0s 1ms/step - loss: 5.9293 - mae: 1.5806 - val_loss: 11.3258 - val_mae: 2.2044\n",
      "Epoch 67/500\n",
      "305/323 [===========================>..] - ETA: 0s - loss: 5.8016 - mae: 1.5363\n",
      "Epoch 67: val_mae did not improve from 1.98932\n",
      "323/323 [==============================] - 0s 1ms/step - loss: 5.9932 - mae: 1.5630 - val_loss: 11.2900 - val_mae: 2.1176\n",
      "Epoch 68/500\n",
      "310/323 [===========================>..] - ETA: 0s - loss: 5.7680 - mae: 1.6160\n",
      "Epoch 68: val_mae did not improve from 1.98932\n",
      "323/323 [==============================] - 0s 1ms/step - loss: 5.6377 - mae: 1.6020 - val_loss: 11.0193 - val_mae: 2.0146\n",
      "Epoch 69/500\n",
      "293/323 [==========================>...] - ETA: 0s - loss: 4.2386 - mae: 1.4624\n",
      "Epoch 69: val_mae did not improve from 1.98932\n",
      "323/323 [==============================] - 0s 1ms/step - loss: 6.0523 - mae: 1.5606 - val_loss: 12.2731 - val_mae: 2.2944\n",
      "Epoch 70/500\n",
      "308/323 [===========================>..] - ETA: 0s - loss: 5.7493 - mae: 1.5435\n",
      "Epoch 70: val_mae did not improve from 1.98932\n",
      "323/323 [==============================] - 0s 1ms/step - loss: 5.6661 - mae: 1.5468 - val_loss: 11.0950 - val_mae: 2.1840\n",
      "Epoch 71/500\n",
      "305/323 [===========================>..] - ETA: 0s - loss: 6.0166 - mae: 1.5379\n",
      "Epoch 71: val_mae did not improve from 1.98932\n",
      "323/323 [==============================] - 0s 1ms/step - loss: 5.9033 - mae: 1.5357 - val_loss: 10.6776 - val_mae: 2.1576\n",
      "Epoch 72/500\n",
      "312/323 [===========================>..] - ETA: 0s - loss: 5.7459 - mae: 1.5330\n",
      "Epoch 72: val_mae did not improve from 1.98932\n",
      "323/323 [==============================] - 0s 1ms/step - loss: 5.6139 - mae: 1.5205 - val_loss: 12.6421 - val_mae: 2.4295\n",
      "Epoch 73/500\n",
      "268/323 [=======================>......] - ETA: 0s - loss: 5.6825 - mae: 1.5264\n",
      "Epoch 73: val_mae did not improve from 1.98932\n",
      "323/323 [==============================] - 0s 1ms/step - loss: 5.4985 - mae: 1.5574 - val_loss: 10.3984 - val_mae: 2.0678\n",
      "Epoch 74/500\n",
      "274/323 [========================>.....] - ETA: 0s - loss: 6.0243 - mae: 1.5683\n",
      "Epoch 74: val_mae did not improve from 1.98932\n",
      "323/323 [==============================] - 0s 1ms/step - loss: 5.4775 - mae: 1.5175 - val_loss: 11.9833 - val_mae: 2.3591\n",
      "Epoch 75/500\n",
      "299/323 [==========================>...] - ETA: 0s - loss: 4.2124 - mae: 1.4784\n",
      "Epoch 75: val_mae did not improve from 1.98932\n",
      "323/323 [==============================] - 0s 1ms/step - loss: 5.7594 - mae: 1.5314 - val_loss: 10.9201 - val_mae: 2.1070\n",
      "Epoch 76/500\n",
      "310/323 [===========================>..] - ETA: 0s - loss: 5.8332 - mae: 1.5741\n",
      "Epoch 76: val_mae did not improve from 1.98932\n",
      "323/323 [==============================] - 0s 1ms/step - loss: 5.6811 - mae: 1.5549 - val_loss: 11.8462 - val_mae: 2.1038\n",
      "Epoch 77/500\n",
      "281/323 [=========================>....] - ETA: 0s - loss: 3.5601 - mae: 1.3867\n",
      "Epoch 77: val_mae did not improve from 1.98932\n",
      "323/323 [==============================] - 0s 1ms/step - loss: 5.3096 - mae: 1.4676 - val_loss: 11.0188 - val_mae: 2.2677\n",
      "Epoch 78/500\n",
      "322/323 [============================>.] - ETA: 0s - loss: 4.8312 - mae: 1.4639\n",
      "Epoch 78: val_mae did not improve from 1.98932\n",
      "323/323 [==============================] - 0s 1ms/step - loss: 4.8373 - mae: 1.4674 - val_loss: 12.1950 - val_mae: 2.2672\n",
      "Epoch 79/500\n",
      "270/323 [========================>.....] - ETA: 0s - loss: 5.5693 - mae: 1.5683\n",
      "Epoch 79: val_mae did not improve from 1.98932\n",
      "323/323 [==============================] - 0s 1ms/step - loss: 5.1692 - mae: 1.5435 - val_loss: 12.2132 - val_mae: 2.2487\n",
      "Epoch 80/500\n",
      "322/323 [============================>.] - ETA: 0s - loss: 5.4359 - mae: 1.5328\n",
      "Epoch 80: val_mae did not improve from 1.98932\n",
      "323/323 [==============================] - 0s 1ms/step - loss: 5.4203 - mae: 1.5299 - val_loss: 12.2970 - val_mae: 2.3865\n",
      "Epoch 81/500\n",
      "299/323 [==========================>...] - ETA: 0s - loss: 5.5444 - mae: 1.4878\n",
      "Epoch 81: val_mae did not improve from 1.98932\n",
      "323/323 [==============================] - 0s 1ms/step - loss: 5.5798 - mae: 1.5127 - val_loss: 10.6919 - val_mae: 2.2985\n",
      "Epoch 82/500\n",
      "315/323 [============================>.] - ETA: 0s - loss: 5.2485 - mae: 1.5456\n",
      "Epoch 82: val_mae did not improve from 1.98932\n",
      "323/323 [==============================] - 0s 1ms/step - loss: 5.1698 - mae: 1.5362 - val_loss: 12.9103 - val_mae: 2.4369\n",
      "Epoch 83/500\n",
      "296/323 [==========================>...] - ETA: 0s - loss: 5.0483 - mae: 1.4806\n",
      "Epoch 83: val_mae did not improve from 1.98932\n",
      "323/323 [==============================] - 0s 1ms/step - loss: 4.9525 - mae: 1.4752 - val_loss: 9.9223 - val_mae: 2.0884\n",
      "Epoch 84/500\n",
      "299/323 [==========================>...] - ETA: 0s - loss: 5.0881 - mae: 1.4135\n",
      "Epoch 84: val_mae did not improve from 1.98932\n",
      "323/323 [==============================] - 0s 1ms/step - loss: 5.3886 - mae: 1.4710 - val_loss: 10.5836 - val_mae: 2.1616\n",
      "Epoch 85/500\n",
      "280/323 [=========================>....] - ETA: 0s - loss: 3.9155 - mae: 1.4645\n",
      "Epoch 85: val_mae did not improve from 1.98932\n",
      "323/323 [==============================] - 0s 1ms/step - loss: 5.2666 - mae: 1.5085 - val_loss: 10.6215 - val_mae: 2.1555\n",
      "Epoch 86/500\n",
      "294/323 [==========================>...] - ETA: 0s - loss: 4.9142 - mae: 1.5173\n",
      "Epoch 86: val_mae did not improve from 1.98932\n",
      "323/323 [==============================] - 0s 1ms/step - loss: 4.8515 - mae: 1.5093 - val_loss: 11.6477 - val_mae: 2.2313\n",
      "Epoch 87/500\n",
      "281/323 [=========================>....] - ETA: 0s - loss: 5.3247 - mae: 1.4337\n",
      "Epoch 87: val_mae did not improve from 1.98932\n",
      "323/323 [==============================] - 0s 1ms/step - loss: 5.3003 - mae: 1.4602 - val_loss: 10.8929 - val_mae: 2.1921\n",
      "Epoch 88/500\n",
      "287/323 [=========================>....] - ETA: 0s - loss: 3.7871 - mae: 1.4063\n",
      "Epoch 88: val_mae did not improve from 1.98932\n",
      "323/323 [==============================] - 0s 1ms/step - loss: 5.2925 - mae: 1.4811 - val_loss: 11.5890 - val_mae: 2.1600\n",
      "Epoch 89/500\n",
      "284/323 [=========================>....] - ETA: 0s - loss: 4.7710 - mae: 1.4259\n",
      "Epoch 89: val_mae did not improve from 1.98932\n",
      "323/323 [==============================] - 0s 1ms/step - loss: 4.6942 - mae: 1.4169 - val_loss: 11.6195 - val_mae: 2.0770\n",
      "Epoch 90/500\n",
      "279/323 [========================>.....] - ETA: 0s - loss: 5.1534 - mae: 1.5059\n",
      "Epoch 90: val_mae did not improve from 1.98932\n",
      "323/323 [==============================] - 0s 1ms/step - loss: 4.8066 - mae: 1.4724 - val_loss: 12.5187 - val_mae: 2.3645\n",
      "Epoch 91/500\n",
      "292/323 [==========================>...] - ETA: 0s - loss: 4.7790 - mae: 1.4451\n",
      "Epoch 91: val_mae did not improve from 1.98932\n",
      "323/323 [==============================] - 0s 1ms/step - loss: 4.7161 - mae: 1.4598 - val_loss: 11.2730 - val_mae: 2.1111\n",
      "Epoch 92/500\n",
      "291/323 [==========================>...] - ETA: 0s - loss: 4.5813 - mae: 1.3732\n",
      "Epoch 92: val_mae did not improve from 1.98932\n",
      "323/323 [==============================] - 0s 1ms/step - loss: 4.6918 - mae: 1.4160 - val_loss: 12.4695 - val_mae: 2.2910\n",
      "Epoch 93/500\n",
      "310/323 [===========================>..] - ETA: 0s - loss: 5.1701 - mae: 1.4813\n",
      "Epoch 93: val_mae did not improve from 1.98932\n",
      "323/323 [==============================] - 0s 1ms/step - loss: 5.1980 - mae: 1.4975 - val_loss: 11.3801 - val_mae: 2.1862\n",
      "Epoch 94/500\n",
      "307/323 [===========================>..] - ETA: 0s - loss: 4.9925 - mae: 1.3883\n",
      "Epoch 94: val_mae did not improve from 1.98932\n",
      "323/323 [==============================] - 0s 1ms/step - loss: 4.9476 - mae: 1.3884 - val_loss: 11.6460 - val_mae: 2.3119\n",
      "Epoch 95/500\n",
      "290/323 [=========================>....] - ETA: 0s - loss: 4.7216 - mae: 1.4524\n",
      "Epoch 95: val_mae did not improve from 1.98932\n",
      "323/323 [==============================] - 0s 1ms/step - loss: 4.6473 - mae: 1.4641 - val_loss: 12.9095 - val_mae: 2.3481\n",
      "Epoch 96/500\n",
      "305/323 [===========================>..] - ETA: 0s - loss: 4.6165 - mae: 1.3914\n",
      "Epoch 96: val_mae did not improve from 1.98932\n",
      "323/323 [==============================] - 0s 1ms/step - loss: 4.4722 - mae: 1.3799 - val_loss: 11.7460 - val_mae: 2.2262\n",
      "Epoch 97/500\n",
      "283/323 [=========================>....] - ETA: 0s - loss: 3.3960 - mae: 1.3461\n",
      "Epoch 97: val_mae did not improve from 1.98932\n",
      "323/323 [==============================] - 0s 1ms/step - loss: 4.6865 - mae: 1.4182 - val_loss: 11.8591 - val_mae: 2.1354\n",
      "Epoch 98/500\n",
      "289/323 [=========================>....] - ETA: 0s - loss: 4.3732 - mae: 1.3802\n",
      "Epoch 98: val_mae did not improve from 1.98932\n",
      "323/323 [==============================] - 0s 1ms/step - loss: 4.4470 - mae: 1.4089 - val_loss: 11.7285 - val_mae: 2.2307\n",
      "Epoch 99/500\n",
      "287/323 [=========================>....] - ETA: 0s - loss: 4.5974 - mae: 1.3492\n",
      "Epoch 99: val_mae did not improve from 1.98932\n",
      "323/323 [==============================] - 0s 1ms/step - loss: 4.7569 - mae: 1.3887 - val_loss: 12.3142 - val_mae: 2.3888\n",
      "Epoch 100/500\n",
      "300/323 [==========================>...] - ETA: 0s - loss: 4.9817 - mae: 1.4033\n",
      "Epoch 100: val_mae did not improve from 1.98932\n",
      "323/323 [==============================] - 0s 1ms/step - loss: 4.8096 - mae: 1.4007 - val_loss: 11.6933 - val_mae: 2.0918\n",
      "Epoch 101/500\n",
      "270/323 [========================>.....] - ETA: 0s - loss: 4.4979 - mae: 1.3189\n",
      "Epoch 101: val_mae did not improve from 1.98932\n",
      "323/323 [==============================] - 0s 1ms/step - loss: 4.3958 - mae: 1.3614 - val_loss: 13.1624 - val_mae: 2.3048\n",
      "Epoch 102/500\n",
      "285/323 [=========================>....] - ETA: 0s - loss: 4.8365 - mae: 1.3713\n",
      "Epoch 102: val_mae did not improve from 1.98932\n",
      "323/323 [==============================] - 0s 1ms/step - loss: 4.6016 - mae: 1.3729 - val_loss: 12.6208 - val_mae: 2.2050\n",
      "Epoch 103/500\n",
      "283/323 [=========================>....] - ETA: 0s - loss: 4.4709 - mae: 1.4304\n",
      "Epoch 103: val_mae did not improve from 1.98932\n",
      "323/323 [==============================] - 0s 1ms/step - loss: 4.4950 - mae: 1.4388 - val_loss: 13.2525 - val_mae: 2.3195\n",
      "Epoch 104/500\n",
      "280/323 [=========================>....] - ETA: 0s - loss: 3.0098 - mae: 1.2822\n",
      "Epoch 104: val_mae did not improve from 1.98932\n",
      "323/323 [==============================] - 0s 1ms/step - loss: 4.3402 - mae: 1.3631 - val_loss: 11.9187 - val_mae: 2.2725\n",
      "Epoch 105/500\n",
      "295/323 [==========================>...] - ETA: 0s - loss: 4.6443 - mae: 1.4051\n",
      "Epoch 105: val_mae did not improve from 1.98932\n",
      "323/323 [==============================] - 0s 1ms/step - loss: 4.3658 - mae: 1.3665 - val_loss: 12.5320 - val_mae: 2.3894\n",
      "Epoch 106/500\n",
      "298/323 [==========================>...] - ETA: 0s - loss: 4.4504 - mae: 1.3867\n",
      "Epoch 106: val_mae did not improve from 1.98932\n",
      "323/323 [==============================] - 0s 1ms/step - loss: 4.3230 - mae: 1.3658 - val_loss: 11.2826 - val_mae: 2.2090\n",
      "Epoch 107/500\n",
      "304/323 [===========================>..] - ETA: 0s - loss: 4.5674 - mae: 1.4061\n",
      "Epoch 107: val_mae did not improve from 1.98932\n",
      "323/323 [==============================] - 0s 1ms/step - loss: 4.4623 - mae: 1.3943 - val_loss: 11.6359 - val_mae: 2.2096\n",
      "Epoch 108/500\n",
      "290/323 [=========================>....] - ETA: 0s - loss: 4.4660 - mae: 1.3784\n",
      "Epoch 108: val_mae did not improve from 1.98932\n",
      "323/323 [==============================] - 0s 1ms/step - loss: 4.3086 - mae: 1.3611 - val_loss: 11.6243 - val_mae: 2.2948\n",
      "Epoch 109/500\n",
      "289/323 [=========================>....] - ETA: 0s - loss: 4.6515 - mae: 1.4239\n",
      "Epoch 109: val_mae did not improve from 1.98932\n",
      "323/323 [==============================] - 0s 1ms/step - loss: 4.4144 - mae: 1.4004 - val_loss: 10.5402 - val_mae: 2.1384\n",
      "Epoch 109: early stopping\n"
     ]
    }
   ],
   "source": [
    "# %%time\n",
    "\n",
    "Hist_boston = boston.fit(X_train, y_train,\n",
    "                         epochs = 500,\n",
    "                         batch_size = 1,\n",
    "                         validation_data = (X_valid, y_valid),\n",
    "                         callbacks = [es, mc],\n",
    "                         verbose = 1)"
   ]
  },
  {
   "cell_type": "markdown",
   "metadata": {
    "id": "42K82_o3oyIa"
   },
   "source": [
    "> ## 5) Best Model"
   ]
  },
  {
   "cell_type": "code",
   "execution_count": 23,
   "metadata": {
    "colab": {
     "base_uri": "https://localhost:8080/"
    },
    "executionInfo": {
     "elapsed": 15,
     "status": "ok",
     "timestamp": 1673408170558,
     "user": {
      "displayName": "이정구",
      "userId": "17400242557229223804"
     },
     "user_tz": -540
    },
    "id": "jQ7uKeyYmFYg",
    "outputId": "10eb92d8-58f8-4f4a-b343-1e00aaa2ba41"
   },
   "outputs": [
    {
     "name": "stdout",
     "output_type": "stream",
     "text": [
      "total 76\n",
      "-rw-r--r-- 1 root root 71112 Jan 11 03:35 best_boston.h5\n",
      "drwxr-xr-x 1 root root  4096 Jan  9 14:36 sample_data\n"
     ]
    }
   ],
   "source": [
    "# !ls -l"
   ]
  },
  {
   "cell_type": "markdown",
   "metadata": {
    "id": "Ar1VIaMyGPcL"
   },
   "source": [
    "> ## 6) Model Evaluate"
   ]
  },
  {
   "cell_type": "code",
   "execution_count": 21,
   "metadata": {
    "executionInfo": {
     "elapsed": 6,
     "status": "ok",
     "timestamp": 1673408170558,
     "user": {
      "displayName": "이정구",
      "userId": "17400242557229223804"
     },
     "user_tz": -540
    },
    "id": "hFxkiyF-mMSo"
   },
   "outputs": [],
   "source": [
    "from tensorflow.keras.models import load_model\n",
    "\n",
    "best_boston = load_model('best_boston.h5')"
   ]
  },
  {
   "cell_type": "code",
   "execution_count": 22,
   "metadata": {
    "colab": {
     "base_uri": "https://localhost:8080/"
    },
    "executionInfo": {
     "elapsed": 422,
     "status": "ok",
     "timestamp": 1673408170974,
     "user": {
      "displayName": "이정구",
      "userId": "17400242557229223804"
     },
     "user_tz": -540
    },
    "id": "3pz6nkVvmXIK",
    "outputId": "8d60be5e-e578-4824-ee0d-b4d728e32489"
   },
   "outputs": [
    {
     "name": "stdout",
     "output_type": "stream",
     "text": [
      "4/4 [==============================] - 0s 0s/step - loss: 18.3772 - mae: 2.4764\n",
      "MAE is : 2.4764244556427\n"
     ]
    }
   ],
   "source": [
    "test_mse_score, test_mae_score = best_boston.evaluate(X_test, y_test)\n",
    "\n",
    "print('MAE is :',test_mae_score)"
   ]
  },
  {
   "cell_type": "markdown",
   "metadata": {
    "id": "QC9joeODLqOD"
   },
   "source": [
    "# The End"
   ]
  },
  {
   "cell_type": "code",
   "execution_count": null,
   "metadata": {},
   "outputs": [],
   "source": []
  }
 ],
 "metadata": {
  "colab": {
   "provenance": []
  },
  "kernelspec": {
   "display_name": "Python 3",
   "language": "python",
   "name": "python3"
  },
  "language_info": {
   "codemirror_mode": {
    "name": "ipython",
    "version": 3
   },
   "file_extension": ".py",
   "mimetype": "text/x-python",
   "name": "python",
   "nbconvert_exporter": "python",
   "pygments_lexer": "ipython3",
   "version": "3.11.5"
  },
  "toc": {
   "base_numbering": 1,
   "nav_menu": {},
   "number_sections": true,
   "sideBar": true,
   "skip_h1_title": false,
   "title_cell": "Table of Contents",
   "title_sidebar": "Contents",
   "toc_cell": false,
   "toc_position": {},
   "toc_section_display": true,
   "toc_window_display": false
  }
 },
 "nbformat": 4,
 "nbformat_minor": 4
}
