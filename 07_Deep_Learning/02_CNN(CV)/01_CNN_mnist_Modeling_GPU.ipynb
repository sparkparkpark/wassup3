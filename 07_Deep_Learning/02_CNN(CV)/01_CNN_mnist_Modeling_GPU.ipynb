{
 "cells": [
  {
   "cell_type": "markdown",
   "metadata": {
    "id": "q2Pr7oBdYLdf"
   },
   "source": [
    "# MNIST - Categorical Classification\n",
    "> # Convolutional Neural Network\n",
    "- CNN특징\n",
    "- input data로 2차원 데이터를 그대로 입력한다. 2차원 특징 지역성(위치정보) 보존\n",
    "- parameter수가 줄어들면서 성능 up\n",
    "- cnn layer로는 분류 못하므로 마지막에 꼭 dense layer를 통해 분류한다.\n"
   ]
  },
  {
   "cell_type": "code",
   "execution_count": 1,
   "metadata": {
    "executionInfo": {
     "elapsed": 305,
     "status": "ok",
     "timestamp": 1705911995033,
     "user": {
      "displayName": "맹광국",
      "userId": "00860531964279012518"
     },
     "user_tz": -540
    },
    "id": "RbPgODpVzdHI"
   },
   "outputs": [],
   "source": [
    "import warnings\n",
    "warnings.filterwarnings('ignore')"
   ]
  },
  {
   "cell_type": "markdown",
   "metadata": {
    "id": "tUvJIk2aRFtw"
   },
   "source": [
    "* import Tensorflow"
   ]
  },
  {
   "cell_type": "code",
   "execution_count": 2,
   "metadata": {
    "colab": {
     "base_uri": "https://localhost:8080/",
     "height": 35
    },
    "executionInfo": {
     "elapsed": 10914,
     "status": "ok",
     "timestamp": 1705912006301,
     "user": {
      "displayName": "맹광국",
      "userId": "00860531964279012518"
     },
     "user_tz": -540
    },
    "id": "GR4j3p6N_rDV",
    "outputId": "fcd47e5a-edaf-4244-b6c6-3cb9a255ff5a"
   },
   "outputs": [
    {
     "data": {
      "application/vnd.google.colaboratory.intrinsic+json": {
       "type": "string"
      },
      "text/plain": [
       "'2.15.0'"
      ]
     },
     "execution_count": 2,
     "metadata": {},
     "output_type": "execute_result"
    }
   ],
   "source": [
    "import tensorflow\n",
    "\n",
    "tensorflow.__version__"
   ]
  },
  {
   "cell_type": "markdown",
   "metadata": {
    "id": "H49A769LYp-a"
   },
   "source": [
    "# I. MNIST Data_Set Load"
   ]
  },
  {
   "cell_type": "code",
   "execution_count": 3,
   "metadata": {
    "colab": {
     "base_uri": "https://localhost:8080/"
    },
    "executionInfo": {
     "elapsed": 1388,
     "status": "ok",
     "timestamp": 1705912007684,
     "user": {
      "displayName": "맹광국",
      "userId": "00860531964279012518"
     },
     "user_tz": -540
    },
    "id": "DxstjE8b_6Te",
    "outputId": "d6189e4a-7f8d-403a-ed19-a71e83a8a116"
   },
   "outputs": [
    {
     "name": "stdout",
     "output_type": "stream",
     "text": [
      "Downloading data from https://storage.googleapis.com/tensorflow/tf-keras-datasets/mnist.npz\n",
      "11490434/11490434 [==============================] - 0s 0us/step\n"
     ]
    },
    {
     "data": {
      "text/plain": [
       "((60000, 28, 28), (60000,), (10000, 28, 28), (10000,))"
      ]
     },
     "execution_count": 3,
     "metadata": {},
     "output_type": "execute_result"
    }
   ],
   "source": [
    "from tensorflow.keras.datasets import mnist\n",
    "\n",
    "(X_train, y_train), (X_test, y_test) = mnist.load_data()\n",
    "\n",
    "X_train.shape, y_train.shape, X_test.shape, y_test.shape"
   ]
  },
  {
   "cell_type": "code",
   "execution_count": 4,
   "metadata": {
    "colab": {
     "base_uri": "https://localhost:8080/"
    },
    "executionInfo": {
     "elapsed": 14,
     "status": "ok",
     "timestamp": 1705912007685,
     "user": {
      "displayName": "맹광국",
      "userId": "00860531964279012518"
     },
     "user_tz": -540
    },
    "id": "0nXfC7uCEpWt",
    "outputId": "e1e4e3df-ad0d-4476-d8c4-744b13fbda4a"
   },
   "outputs": [
    {
     "data": {
      "text/plain": [
       "array([[  0,   0,   0,   0,   0,   0,   0,   0,   0,   0,   0,   0,   0,\n",
       "          0,   0,   0,   0,   0,   0,   0,   0,   0,   0,   0,   0,   0,\n",
       "          0,   0],\n",
       "       [  0,   0,   0,   0,   0,   0,   0,   0,   0,   0,   0,   0,   0,\n",
       "          0,   0,   0,   0,   0,   0,   0,   0,   0,   0,   0,   0,   0,\n",
       "          0,   0],\n",
       "       [  0,   0,   0,   0,   0,   0,   0,   0,   0,   0,   0,   0,   0,\n",
       "          0,   0,   0,   0,   0,   0,   0,   0,   0,   0,   0,   0,   0,\n",
       "          0,   0],\n",
       "       [  0,   0,   0,   0,   0,   0,   0,   0,   0,   0,   0,   0,   0,\n",
       "          0,   0,   0,   0,   0,   0,   0,   0,   0,   0,   0,   0,   0,\n",
       "          0,   0],\n",
       "       [  0,   0,   0,   0,   0,   0,   0,   0,   0,   0,   0,   0,   0,\n",
       "          0,   0,   0,   0,   0,   0,   0,   0,   0,   0,   0,   0,   0,\n",
       "          0,   0],\n",
       "       [  0,   0,   0,   0,   0,   0,   0,   0,   0,   0,   0,   0,   3,\n",
       "         18,  18,  18, 126, 136, 175,  26, 166, 255, 247, 127,   0,   0,\n",
       "          0,   0],\n",
       "       [  0,   0,   0,   0,   0,   0,   0,   0,  30,  36,  94, 154, 170,\n",
       "        253, 253, 253, 253, 253, 225, 172, 253, 242, 195,  64,   0,   0,\n",
       "          0,   0],\n",
       "       [  0,   0,   0,   0,   0,   0,   0,  49, 238, 253, 253, 253, 253,\n",
       "        253, 253, 253, 253, 251,  93,  82,  82,  56,  39,   0,   0,   0,\n",
       "          0,   0],\n",
       "       [  0,   0,   0,   0,   0,   0,   0,  18, 219, 253, 253, 253, 253,\n",
       "        253, 198, 182, 247, 241,   0,   0,   0,   0,   0,   0,   0,   0,\n",
       "          0,   0],\n",
       "       [  0,   0,   0,   0,   0,   0,   0,   0,  80, 156, 107, 253, 253,\n",
       "        205,  11,   0,  43, 154,   0,   0,   0,   0,   0,   0,   0,   0,\n",
       "          0,   0],\n",
       "       [  0,   0,   0,   0,   0,   0,   0,   0,   0,  14,   1, 154, 253,\n",
       "         90,   0,   0,   0,   0,   0,   0,   0,   0,   0,   0,   0,   0,\n",
       "          0,   0],\n",
       "       [  0,   0,   0,   0,   0,   0,   0,   0,   0,   0,   0, 139, 253,\n",
       "        190,   2,   0,   0,   0,   0,   0,   0,   0,   0,   0,   0,   0,\n",
       "          0,   0],\n",
       "       [  0,   0,   0,   0,   0,   0,   0,   0,   0,   0,   0,  11, 190,\n",
       "        253,  70,   0,   0,   0,   0,   0,   0,   0,   0,   0,   0,   0,\n",
       "          0,   0],\n",
       "       [  0,   0,   0,   0,   0,   0,   0,   0,   0,   0,   0,   0,  35,\n",
       "        241, 225, 160, 108,   1,   0,   0,   0,   0,   0,   0,   0,   0,\n",
       "          0,   0],\n",
       "       [  0,   0,   0,   0,   0,   0,   0,   0,   0,   0,   0,   0,   0,\n",
       "         81, 240, 253, 253, 119,  25,   0,   0,   0,   0,   0,   0,   0,\n",
       "          0,   0],\n",
       "       [  0,   0,   0,   0,   0,   0,   0,   0,   0,   0,   0,   0,   0,\n",
       "          0,  45, 186, 253, 253, 150,  27,   0,   0,   0,   0,   0,   0,\n",
       "          0,   0],\n",
       "       [  0,   0,   0,   0,   0,   0,   0,   0,   0,   0,   0,   0,   0,\n",
       "          0,   0,  16,  93, 252, 253, 187,   0,   0,   0,   0,   0,   0,\n",
       "          0,   0],\n",
       "       [  0,   0,   0,   0,   0,   0,   0,   0,   0,   0,   0,   0,   0,\n",
       "          0,   0,   0,   0, 249, 253, 249,  64,   0,   0,   0,   0,   0,\n",
       "          0,   0],\n",
       "       [  0,   0,   0,   0,   0,   0,   0,   0,   0,   0,   0,   0,   0,\n",
       "          0,  46, 130, 183, 253, 253, 207,   2,   0,   0,   0,   0,   0,\n",
       "          0,   0],\n",
       "       [  0,   0,   0,   0,   0,   0,   0,   0,   0,   0,   0,   0,  39,\n",
       "        148, 229, 253, 253, 253, 250, 182,   0,   0,   0,   0,   0,   0,\n",
       "          0,   0],\n",
       "       [  0,   0,   0,   0,   0,   0,   0,   0,   0,   0,  24, 114, 221,\n",
       "        253, 253, 253, 253, 201,  78,   0,   0,   0,   0,   0,   0,   0,\n",
       "          0,   0],\n",
       "       [  0,   0,   0,   0,   0,   0,   0,   0,  23,  66, 213, 253, 253,\n",
       "        253, 253, 198,  81,   2,   0,   0,   0,   0,   0,   0,   0,   0,\n",
       "          0,   0],\n",
       "       [  0,   0,   0,   0,   0,   0,  18, 171, 219, 253, 253, 253, 253,\n",
       "        195,  80,   9,   0,   0,   0,   0,   0,   0,   0,   0,   0,   0,\n",
       "          0,   0],\n",
       "       [  0,   0,   0,   0,  55, 172, 226, 253, 253, 253, 253, 244, 133,\n",
       "         11,   0,   0,   0,   0,   0,   0,   0,   0,   0,   0,   0,   0,\n",
       "          0,   0],\n",
       "       [  0,   0,   0,   0, 136, 253, 253, 253, 212, 135, 132,  16,   0,\n",
       "          0,   0,   0,   0,   0,   0,   0,   0,   0,   0,   0,   0,   0,\n",
       "          0,   0],\n",
       "       [  0,   0,   0,   0,   0,   0,   0,   0,   0,   0,   0,   0,   0,\n",
       "          0,   0,   0,   0,   0,   0,   0,   0,   0,   0,   0,   0,   0,\n",
       "          0,   0],\n",
       "       [  0,   0,   0,   0,   0,   0,   0,   0,   0,   0,   0,   0,   0,\n",
       "          0,   0,   0,   0,   0,   0,   0,   0,   0,   0,   0,   0,   0,\n",
       "          0,   0],\n",
       "       [  0,   0,   0,   0,   0,   0,   0,   0,   0,   0,   0,   0,   0,\n",
       "          0,   0,   0,   0,   0,   0,   0,   0,   0,   0,   0,   0,   0,\n",
       "          0,   0]], dtype=uint8)"
      ]
     },
     "execution_count": 4,
     "metadata": {},
     "output_type": "execute_result"
    }
   ],
   "source": [
    "X_train[0]"
   ]
  },
  {
   "cell_type": "code",
   "execution_count": 5,
   "metadata": {
    "colab": {
     "base_uri": "https://localhost:8080/"
    },
    "executionInfo": {
     "elapsed": 9,
     "status": "ok",
     "timestamp": 1705912007685,
     "user": {
      "displayName": "맹광국",
      "userId": "00860531964279012518"
     },
     "user_tz": -540
    },
    "id": "jbBZKHD0Et80",
    "outputId": "41652fb8-2443-406c-d5fb-b3bd08b5b930"
   },
   "outputs": [
    {
     "data": {
      "text/plain": [
       "5"
      ]
     },
     "execution_count": 5,
     "metadata": {},
     "output_type": "execute_result"
    }
   ],
   "source": [
    "y_train[0]"
   ]
  },
  {
   "cell_type": "markdown",
   "metadata": {
    "id": "Mk9XL5vGHor6"
   },
   "source": [
    "# II. Data Preprocessing"
   ]
  },
  {
   "cell_type": "markdown",
   "metadata": {
    "id": "jc0dKKjQ8zuT"
   },
   "source": [
    "> ## 1) Normalization"
   ]
  },
  {
   "cell_type": "markdown",
   "metadata": {
    "id": "JKr2u3Qf8zuU"
   },
   "source": [
    "* 범위: 0 ~ 1"
   ]
  },
  {
   "cell_type": "code",
   "execution_count": 6,
   "metadata": {
    "executionInfo": {
     "elapsed": 426,
     "status": "ok",
     "timestamp": 1705912008107,
     "user": {
      "displayName": "맹광국",
      "userId": "00860531964279012518"
     },
     "user_tz": -540
    },
    "id": "SoGHuYeFIGBj"
   },
   "outputs": [],
   "source": [
    "X_train = X_train.astype(float) / 255\n",
    "X_test = X_test.astype(float) / 255"
   ]
  },
  {
   "cell_type": "markdown",
   "metadata": {
    "id": "fegSl3Fu87qX"
   },
   "source": [
    "> ## 2) Reshape\n",
    "\n",
    " * (60000, 28, 28) to (60000, 28, 28, 1)"
   ]
  },
  {
   "cell_type": "code",
   "execution_count": 7,
   "metadata": {
    "executionInfo": {
     "elapsed": 7,
     "status": "ok",
     "timestamp": 1705912008108,
     "user": {
      "displayName": "맹광국",
      "userId": "00860531964279012518"
     },
     "user_tz": -540
    },
    "id": "8-toPn1ZAmFd"
   },
   "outputs": [],
   "source": [
    "X_train = X_train.reshape((60000, 28, 28, 1)) # CNN은 rank3형으로 입력해야함\n",
    "X_test = X_test.reshape((10000, 28, 28, 1))"
   ]
  },
  {
   "cell_type": "code",
   "execution_count": 8,
   "metadata": {
    "colab": {
     "base_uri": "https://localhost:8080/"
    },
    "executionInfo": {
     "elapsed": 7,
     "status": "ok",
     "timestamp": 1705912008108,
     "user": {
      "displayName": "맹광국",
      "userId": "00860531964279012518"
     },
     "user_tz": -540
    },
    "id": "TseLRBo1DBEr",
    "outputId": "acb81656-eb7b-4048-d818-d7f955c844c8"
   },
   "outputs": [
    {
     "data": {
      "text/plain": [
       "(28, 28, 1)"
      ]
     },
     "execution_count": 8,
     "metadata": {},
     "output_type": "execute_result"
    }
   ],
   "source": [
    "X_train[0].shape"
   ]
  },
  {
   "cell_type": "markdown",
   "metadata": {
    "id": "BtSROU80aF12"
   },
   "source": [
    "> ## 3) One Hot Encoding"
   ]
  },
  {
   "cell_type": "code",
   "execution_count": 9,
   "metadata": {
    "executionInfo": {
     "elapsed": 6,
     "status": "ok",
     "timestamp": 1705912008108,
     "user": {
      "displayName": "맹광국",
      "userId": "00860531964279012518"
     },
     "user_tz": -540
    },
    "id": "eC48Oym3Ao8E"
   },
   "outputs": [],
   "source": [
    "from tensorflow.keras.utils import to_categorical\n",
    "\n",
    "y_train = to_categorical(y_train)\n",
    "y_test = to_categorical(y_test)"
   ]
  },
  {
   "cell_type": "markdown",
   "metadata": {
    "id": "5Y0xaGNzYkI2"
   },
   "source": [
    "> ## 4) train_test_split( )\n",
    "\n",
    "* Train(48,000) vs. Validation(12,000)"
   ]
  },
  {
   "cell_type": "code",
   "execution_count": 10,
   "metadata": {
    "colab": {
     "base_uri": "https://localhost:8080/"
    },
    "executionInfo": {
     "elapsed": 2114,
     "status": "ok",
     "timestamp": 1705912010216,
     "user": {
      "displayName": "맹광국",
      "userId": "00860531964279012518"
     },
     "user_tz": -540
    },
    "id": "zdpfzw3TXRHG",
    "outputId": "43b3349d-e4e1-4d22-8a27-0053bd637689"
   },
   "outputs": [
    {
     "data": {
      "text/plain": [
       "((48000, 28, 28, 1), (48000, 10), (12000, 28, 28, 1), (12000, 10))"
      ]
     },
     "execution_count": 10,
     "metadata": {},
     "output_type": "execute_result"
    }
   ],
   "source": [
    "from sklearn.model_selection import train_test_split\n",
    "\n",
    "X_train, X_valid, y_train, y_valid = train_test_split(X_train, y_train,\n",
    "                                                      test_size = 0.2,\n",
    "                                                      random_state = 2045)\n",
    "\n",
    "X_train.shape, y_train.shape, X_valid.shape, y_valid.shape"
   ]
  },
  {
   "cell_type": "markdown",
   "metadata": {
    "id": "NTwZiSjiop3v"
   },
   "source": [
    "# III. MNIST Keras Modeling"
   ]
  },
  {
   "cell_type": "markdown",
   "metadata": {
    "id": "j5CT0TurJCkc"
   },
   "source": [
    "> ## 1) Model Define"
   ]
  },
  {
   "cell_type": "markdown",
   "metadata": {
    "id": "ydDCl0jTJD58"
   },
   "source": [
    "* Feature Extraction Layer"
   ]
  },
  {
   "cell_type": "code",
   "execution_count": 11,
   "metadata": {
    "executionInfo": {
     "elapsed": 1692,
     "status": "ok",
     "timestamp": 1705912011903,
     "user": {
      "displayName": "맹광국",
      "userId": "00860531964279012518"
     },
     "user_tz": -540
    },
    "id": "II0DskRdAcHS"
   },
   "outputs": [],
   "source": [
    "from tensorflow.keras import models\n",
    "from tensorflow.keras import layers\n",
    "\n",
    "model = models.Sequential()\n",
    "model.add(layers.Conv2D(filters=32, kernel_size=(3,3), activation='relu', input_shape=(28, 28, 1)))\n",
    "model.add(layers.MaxPool2D(pool_size=(2,2)))\n",
    "model.add(layers.Conv2D(filters=64, kernel_size=(3,3), activation='relu'))\n",
    "model.add(layers.MaxPool2D(pool_size=(2,2)))\n",
    "model.add(layers.Conv2D(filters=64, kernel_size=(3,3), activation='relu'))"
   ]
  },
  {
   "cell_type": "code",
   "execution_count": 12,
   "metadata": {
    "colab": {
     "base_uri": "https://localhost:8080/"
    },
    "executionInfo": {
     "elapsed": 17,
     "status": "ok",
     "timestamp": 1705912011903,
     "user": {
      "displayName": "맹광국",
      "userId": "00860531964279012518"
     },
     "user_tz": -540
    },
    "id": "wbtjOA4XMTUd",
    "outputId": "b3837168-09ca-4839-dbe7-9d026fa0daa9"
   },
   "outputs": [
    {
     "name": "stdout",
     "output_type": "stream",
     "text": [
      "Model: \"sequential\"\n",
      "_________________________________________________________________\n",
      " Layer (type)                Output Shape              Param #   \n",
      "=================================================================\n",
      " conv2d (Conv2D)             (None, 26, 26, 32)        320       \n",
      "                                                                 \n",
      " max_pooling2d (MaxPooling2  (None, 13, 13, 32)        0         \n",
      " D)                                                              \n",
      "                                                                 \n",
      " conv2d_1 (Conv2D)           (None, 11, 11, 64)        18496     \n",
      "                                                                 \n",
      " max_pooling2d_1 (MaxPoolin  (None, 5, 5, 64)          0         \n",
      " g2D)                                                            \n",
      "                                                                 \n",
      " conv2d_2 (Conv2D)           (None, 3, 3, 64)          36928     \n",
      "                                                                 \n",
      "=================================================================\n",
      "Total params: 55744 (217.75 KB)\n",
      "Trainable params: 55744 (217.75 KB)\n",
      "Non-trainable params: 0 (0.00 Byte)\n",
      "_________________________________________________________________\n"
     ]
    }
   ],
   "source": [
    "model.summary()"
   ]
  },
  {
   "cell_type": "markdown",
   "metadata": {
    "id": "bs9_i1a382dw"
   },
   "source": [
    "* Classification Layer"
   ]
  },
  {
   "cell_type": "code",
   "execution_count": 13,
   "metadata": {
    "executionInfo": {
     "elapsed": 9,
     "status": "ok",
     "timestamp": 1705912011904,
     "user": {
      "displayName": "맹광국",
      "userId": "00860531964279012518"
     },
     "user_tz": -540
    },
    "id": "jqUDCY2e86G-"
   },
   "outputs": [],
   "source": [
    "model.add(layers.Flatten())\n",
    "model.add(layers.Dropout(0.5))\n",
    "model.add(layers.Dense(units=64, activation='relu'))\n",
    "model.add(layers.Dense(units=10, activation='softmax'))"
   ]
  },
  {
   "cell_type": "code",
   "execution_count": 14,
   "metadata": {
    "colab": {
     "base_uri": "https://localhost:8080/"
    },
    "executionInfo": {
     "elapsed": 450,
     "status": "ok",
     "timestamp": 1705912012345,
     "user": {
      "displayName": "맹광국",
      "userId": "00860531964279012518"
     },
     "user_tz": -540
    },
    "id": "kQ02_BOz8-ek",
    "outputId": "2db69d92-ad08-45f1-f20a-b5652468d062"
   },
   "outputs": [
    {
     "name": "stdout",
     "output_type": "stream",
     "text": [
      "Model: \"sequential\"\n",
      "_________________________________________________________________\n",
      " Layer (type)                Output Shape              Param #   \n",
      "=================================================================\n",
      " conv2d (Conv2D)             (None, 26, 26, 32)        320       \n",
      "                                                                 \n",
      " max_pooling2d (MaxPooling2  (None, 13, 13, 32)        0         \n",
      " D)                                                              \n",
      "                                                                 \n",
      " conv2d_1 (Conv2D)           (None, 11, 11, 64)        18496     \n",
      "                                                                 \n",
      " max_pooling2d_1 (MaxPoolin  (None, 5, 5, 64)          0         \n",
      " g2D)                                                            \n",
      "                                                                 \n",
      " conv2d_2 (Conv2D)           (None, 3, 3, 64)          36928     \n",
      "                                                                 \n",
      " flatten (Flatten)           (None, 576)               0         \n",
      "                                                                 \n",
      " dropout (Dropout)           (None, 576)               0         \n",
      "                                                                 \n",
      " dense (Dense)               (None, 64)                36928     \n",
      "                                                                 \n",
      " dense_1 (Dense)             (None, 10)                650       \n",
      "                                                                 \n",
      "=================================================================\n",
      "Total params: 93322 (364.54 KB)\n",
      "Trainable params: 93322 (364.54 KB)\n",
      "Non-trainable params: 0 (0.00 Byte)\n",
      "_________________________________________________________________\n"
     ]
    }
   ],
   "source": [
    "model.summary()"
   ]
  },
  {
   "cell_type": "markdown",
   "metadata": {
    "id": "tpjBDBeYoyuj"
   },
   "source": [
    "> ## 2) Model Compile"
   ]
  },
  {
   "cell_type": "markdown",
   "metadata": {
    "id": "f3sxkQa0JoUr"
   },
   "source": [
    "* 모델 학습방법 설정"
   ]
  },
  {
   "cell_type": "code",
   "execution_count": 15,
   "metadata": {
    "executionInfo": {
     "elapsed": 9,
     "status": "ok",
     "timestamp": 1705912012345,
     "user": {
      "displayName": "맹광국",
      "userId": "00860531964279012518"
     },
     "user_tz": -540
    },
    "id": "AyK_t1qwAi6M"
   },
   "outputs": [],
   "source": [
    "model.compile(loss = 'categorical_crossentropy',\n",
    "              optimizer = 'adam',\n",
    "              metrics = ['accuracy'])"
   ]
  },
  {
   "cell_type": "markdown",
   "metadata": {
    "id": "umiq4B-Xo3OB"
   },
   "source": [
    "> ## 3) Model Fit"
   ]
  },
  {
   "cell_type": "markdown",
   "metadata": {
    "id": "1KuXREziKMD1"
   },
   "source": [
    "* 약 5분"
   ]
  },
  {
   "cell_type": "code",
   "execution_count": 16,
   "metadata": {
    "executionInfo": {
     "elapsed": 10,
     "status": "ok",
     "timestamp": 1705912012346,
     "user": {
      "displayName": "맹광국",
      "userId": "00860531964279012518"
     },
     "user_tz": -540
    },
    "id": "RQio8BFMM5c5"
   },
   "outputs": [],
   "source": [
    "model.fit?"
   ]
  },
  {
   "cell_type": "code",
   "execution_count": 17,
   "metadata": {
    "colab": {
     "base_uri": "https://localhost:8080/"
    },
    "executionInfo": {
     "elapsed": 263356,
     "status": "ok",
     "timestamp": 1705912275693,
     "user": {
      "displayName": "맹광국",
      "userId": "00860531964279012518"
     },
     "user_tz": -540
    },
    "id": "zxwqwAqRAqRP",
    "outputId": "80e8365e-dbf0-48f8-810e-e9c84630df91"
   },
   "outputs": [
    {
     "name": "stdout",
     "output_type": "stream",
     "text": [
      "Epoch 1/100\n",
      "375/375 [==============================] - 8s 7ms/step - loss: 0.3659 - accuracy: 0.8829 - val_loss: 0.0899 - val_accuracy: 0.9735\n",
      "Epoch 2/100\n",
      "375/375 [==============================] - 3s 7ms/step - loss: 0.0974 - accuracy: 0.9698 - val_loss: 0.0591 - val_accuracy: 0.9833\n",
      "Epoch 3/100\n",
      "375/375 [==============================] - 2s 6ms/step - loss: 0.0686 - accuracy: 0.9784 - val_loss: 0.0499 - val_accuracy: 0.9858\n",
      "Epoch 4/100\n",
      "375/375 [==============================] - 2s 5ms/step - loss: 0.0549 - accuracy: 0.9827 - val_loss: 0.0465 - val_accuracy: 0.9877\n",
      "Epoch 5/100\n",
      "375/375 [==============================] - 2s 5ms/step - loss: 0.0470 - accuracy: 0.9854 - val_loss: 0.0449 - val_accuracy: 0.9868\n",
      "Epoch 6/100\n",
      "375/375 [==============================] - 2s 5ms/step - loss: 0.0429 - accuracy: 0.9869 - val_loss: 0.0403 - val_accuracy: 0.9883\n",
      "Epoch 7/100\n",
      "375/375 [==============================] - 2s 5ms/step - loss: 0.0377 - accuracy: 0.9877 - val_loss: 0.0355 - val_accuracy: 0.9896\n",
      "Epoch 8/100\n",
      "375/375 [==============================] - 3s 7ms/step - loss: 0.0353 - accuracy: 0.9885 - val_loss: 0.0402 - val_accuracy: 0.9890\n",
      "Epoch 9/100\n",
      "375/375 [==============================] - 2s 6ms/step - loss: 0.0322 - accuracy: 0.9893 - val_loss: 0.0371 - val_accuracy: 0.9901\n",
      "Epoch 10/100\n",
      "375/375 [==============================] - 2s 5ms/step - loss: 0.0290 - accuracy: 0.9907 - val_loss: 0.0387 - val_accuracy: 0.9903\n",
      "Epoch 11/100\n",
      "375/375 [==============================] - 2s 5ms/step - loss: 0.0269 - accuracy: 0.9910 - val_loss: 0.0342 - val_accuracy: 0.9912\n",
      "Epoch 12/100\n",
      "375/375 [==============================] - 2s 5ms/step - loss: 0.0243 - accuracy: 0.9916 - val_loss: 0.0366 - val_accuracy: 0.9895\n",
      "Epoch 13/100\n",
      "375/375 [==============================] - 2s 5ms/step - loss: 0.0232 - accuracy: 0.9926 - val_loss: 0.0370 - val_accuracy: 0.9908\n",
      "Epoch 14/100\n",
      "375/375 [==============================] - 3s 7ms/step - loss: 0.0216 - accuracy: 0.9931 - val_loss: 0.0363 - val_accuracy: 0.9904\n",
      "Epoch 15/100\n",
      "375/375 [==============================] - 2s 6ms/step - loss: 0.0209 - accuracy: 0.9936 - val_loss: 0.0333 - val_accuracy: 0.9911\n",
      "Epoch 16/100\n",
      "375/375 [==============================] - 2s 5ms/step - loss: 0.0190 - accuracy: 0.9936 - val_loss: 0.0342 - val_accuracy: 0.9908\n",
      "Epoch 17/100\n",
      "375/375 [==============================] - 2s 5ms/step - loss: 0.0172 - accuracy: 0.9948 - val_loss: 0.0334 - val_accuracy: 0.9920\n",
      "Epoch 18/100\n",
      "375/375 [==============================] - 2s 5ms/step - loss: 0.0160 - accuracy: 0.9944 - val_loss: 0.0336 - val_accuracy: 0.9913\n",
      "Epoch 19/100\n",
      "375/375 [==============================] - 2s 5ms/step - loss: 0.0166 - accuracy: 0.9944 - val_loss: 0.0364 - val_accuracy: 0.9908\n",
      "Epoch 20/100\n",
      "375/375 [==============================] - 2s 7ms/step - loss: 0.0143 - accuracy: 0.9951 - val_loss: 0.0366 - val_accuracy: 0.9916\n",
      "Epoch 21/100\n",
      "375/375 [==============================] - 2s 6ms/step - loss: 0.0162 - accuracy: 0.9948 - val_loss: 0.0324 - val_accuracy: 0.9915\n",
      "Epoch 22/100\n",
      "375/375 [==============================] - 2s 5ms/step - loss: 0.0147 - accuracy: 0.9951 - val_loss: 0.0369 - val_accuracy: 0.9915\n",
      "Epoch 23/100\n",
      "375/375 [==============================] - 2s 5ms/step - loss: 0.0133 - accuracy: 0.9952 - val_loss: 0.0350 - val_accuracy: 0.9912\n",
      "Epoch 24/100\n",
      "375/375 [==============================] - 2s 5ms/step - loss: 0.0131 - accuracy: 0.9959 - val_loss: 0.0349 - val_accuracy: 0.9918\n",
      "Epoch 25/100\n",
      "375/375 [==============================] - 2s 5ms/step - loss: 0.0137 - accuracy: 0.9955 - val_loss: 0.0361 - val_accuracy: 0.9917\n",
      "Epoch 26/100\n",
      "375/375 [==============================] - 2s 7ms/step - loss: 0.0101 - accuracy: 0.9965 - val_loss: 0.0393 - val_accuracy: 0.9912\n",
      "Epoch 27/100\n",
      "375/375 [==============================] - 2s 7ms/step - loss: 0.0101 - accuracy: 0.9967 - val_loss: 0.0344 - val_accuracy: 0.9926\n",
      "Epoch 28/100\n",
      "375/375 [==============================] - 2s 5ms/step - loss: 0.0105 - accuracy: 0.9966 - val_loss: 0.0365 - val_accuracy: 0.9908\n",
      "Epoch 29/100\n",
      "375/375 [==============================] - 2s 5ms/step - loss: 0.0104 - accuracy: 0.9963 - val_loss: 0.0433 - val_accuracy: 0.9912\n",
      "Epoch 30/100\n",
      "375/375 [==============================] - 2s 5ms/step - loss: 0.0097 - accuracy: 0.9968 - val_loss: 0.0367 - val_accuracy: 0.9923\n",
      "Epoch 31/100\n",
      "375/375 [==============================] - 2s 5ms/step - loss: 0.0110 - accuracy: 0.9964 - val_loss: 0.0369 - val_accuracy: 0.9927\n",
      "Epoch 32/100\n",
      "375/375 [==============================] - 3s 7ms/step - loss: 0.0092 - accuracy: 0.9963 - val_loss: 0.0419 - val_accuracy: 0.9915\n",
      "Epoch 33/100\n",
      "375/375 [==============================] - 2s 6ms/step - loss: 0.0092 - accuracy: 0.9967 - val_loss: 0.0418 - val_accuracy: 0.9915\n",
      "Epoch 34/100\n",
      "375/375 [==============================] - 2s 5ms/step - loss: 0.0119 - accuracy: 0.9958 - val_loss: 0.0387 - val_accuracy: 0.9917\n",
      "Epoch 35/100\n",
      "375/375 [==============================] - 2s 5ms/step - loss: 0.0087 - accuracy: 0.9970 - val_loss: 0.0375 - val_accuracy: 0.9924\n",
      "Epoch 36/100\n",
      "375/375 [==============================] - 2s 5ms/step - loss: 0.0069 - accuracy: 0.9975 - val_loss: 0.0380 - val_accuracy: 0.9923\n",
      "Epoch 37/100\n",
      "375/375 [==============================] - 2s 5ms/step - loss: 0.0070 - accuracy: 0.9976 - val_loss: 0.0392 - val_accuracy: 0.9925\n",
      "Epoch 38/100\n",
      "375/375 [==============================] - 2s 6ms/step - loss: 0.0086 - accuracy: 0.9967 - val_loss: 0.0388 - val_accuracy: 0.9918\n",
      "Epoch 39/100\n",
      "375/375 [==============================] - 4s 10ms/step - loss: 0.0088 - accuracy: 0.9967 - val_loss: 0.0421 - val_accuracy: 0.9914\n",
      "Epoch 40/100\n",
      "375/375 [==============================] - 4s 10ms/step - loss: 0.0077 - accuracy: 0.9974 - val_loss: 0.0415 - val_accuracy: 0.9911\n",
      "Epoch 41/100\n",
      "375/375 [==============================] - 2s 6ms/step - loss: 0.0068 - accuracy: 0.9975 - val_loss: 0.0377 - val_accuracy: 0.9926\n",
      "Epoch 42/100\n",
      "375/375 [==============================] - 2s 5ms/step - loss: 0.0086 - accuracy: 0.9969 - val_loss: 0.0341 - val_accuracy: 0.9925\n",
      "Epoch 43/100\n",
      "375/375 [==============================] - 3s 7ms/step - loss: 0.0076 - accuracy: 0.9974 - val_loss: 0.0369 - val_accuracy: 0.9927\n",
      "Epoch 44/100\n",
      "375/375 [==============================] - 2s 6ms/step - loss: 0.0067 - accuracy: 0.9976 - val_loss: 0.0409 - val_accuracy: 0.9918\n",
      "Epoch 45/100\n",
      "375/375 [==============================] - 2s 5ms/step - loss: 0.0068 - accuracy: 0.9976 - val_loss: 0.0382 - val_accuracy: 0.9925\n",
      "Epoch 46/100\n",
      "375/375 [==============================] - 2s 5ms/step - loss: 0.0071 - accuracy: 0.9974 - val_loss: 0.0405 - val_accuracy: 0.9922\n",
      "Epoch 47/100\n",
      "375/375 [==============================] - 2s 5ms/step - loss: 0.0062 - accuracy: 0.9978 - val_loss: 0.0377 - val_accuracy: 0.9925\n",
      "Epoch 48/100\n",
      "375/375 [==============================] - 2s 5ms/step - loss: 0.0065 - accuracy: 0.9977 - val_loss: 0.0451 - val_accuracy: 0.9912\n",
      "Epoch 49/100\n",
      "375/375 [==============================] - 3s 7ms/step - loss: 0.0067 - accuracy: 0.9976 - val_loss: 0.0420 - val_accuracy: 0.9909\n",
      "Epoch 50/100\n",
      "375/375 [==============================] - 2s 6ms/step - loss: 0.0066 - accuracy: 0.9976 - val_loss: 0.0390 - val_accuracy: 0.9924\n",
      "Epoch 51/100\n",
      "375/375 [==============================] - 2s 5ms/step - loss: 0.0064 - accuracy: 0.9978 - val_loss: 0.0386 - val_accuracy: 0.9931\n",
      "Epoch 52/100\n",
      "375/375 [==============================] - 2s 5ms/step - loss: 0.0048 - accuracy: 0.9982 - val_loss: 0.0435 - val_accuracy: 0.9931\n",
      "Epoch 53/100\n",
      "375/375 [==============================] - 2s 5ms/step - loss: 0.0077 - accuracy: 0.9971 - val_loss: 0.0398 - val_accuracy: 0.9917\n",
      "Epoch 54/100\n",
      "375/375 [==============================] - 2s 5ms/step - loss: 0.0066 - accuracy: 0.9976 - val_loss: 0.0495 - val_accuracy: 0.9914\n",
      "Epoch 55/100\n",
      "375/375 [==============================] - 2s 6ms/step - loss: 0.0061 - accuracy: 0.9981 - val_loss: 0.0424 - val_accuracy: 0.9926\n",
      "Epoch 56/100\n",
      "375/375 [==============================] - 2s 7ms/step - loss: 0.0058 - accuracy: 0.9982 - val_loss: 0.0491 - val_accuracy: 0.9917\n",
      "Epoch 57/100\n",
      "375/375 [==============================] - 2s 5ms/step - loss: 0.0057 - accuracy: 0.9982 - val_loss: 0.0443 - val_accuracy: 0.9920\n",
      "Epoch 58/100\n",
      "375/375 [==============================] - 2s 5ms/step - loss: 0.0060 - accuracy: 0.9981 - val_loss: 0.0457 - val_accuracy: 0.9923\n",
      "Epoch 59/100\n",
      "375/375 [==============================] - 3s 7ms/step - loss: 0.0054 - accuracy: 0.9983 - val_loss: 0.0465 - val_accuracy: 0.9923\n",
      "Epoch 60/100\n",
      "375/375 [==============================] - 4s 10ms/step - loss: 0.0050 - accuracy: 0.9985 - val_loss: 0.0409 - val_accuracy: 0.9930\n",
      "Epoch 61/100\n",
      "375/375 [==============================] - 4s 11ms/step - loss: 0.0055 - accuracy: 0.9982 - val_loss: 0.0480 - val_accuracy: 0.9918\n",
      "Epoch 62/100\n",
      "375/375 [==============================] - 2s 5ms/step - loss: 0.0056 - accuracy: 0.9981 - val_loss: 0.0478 - val_accuracy: 0.9915\n",
      "Epoch 63/100\n",
      "375/375 [==============================] - 3s 7ms/step - loss: 0.0047 - accuracy: 0.9983 - val_loss: 0.0489 - val_accuracy: 0.9925\n",
      "Epoch 64/100\n",
      "375/375 [==============================] - 2s 5ms/step - loss: 0.0051 - accuracy: 0.9981 - val_loss: 0.0515 - val_accuracy: 0.9918\n",
      "Epoch 65/100\n",
      "375/375 [==============================] - 2s 6ms/step - loss: 0.0056 - accuracy: 0.9980 - val_loss: 0.0542 - val_accuracy: 0.9918\n",
      "Epoch 66/100\n",
      "375/375 [==============================] - 3s 7ms/step - loss: 0.0055 - accuracy: 0.9981 - val_loss: 0.0468 - val_accuracy: 0.9923\n",
      "Epoch 67/100\n",
      "375/375 [==============================] - 2s 5ms/step - loss: 0.0054 - accuracy: 0.9980 - val_loss: 0.0458 - val_accuracy: 0.9920\n",
      "Epoch 68/100\n",
      "375/375 [==============================] - 2s 5ms/step - loss: 0.0059 - accuracy: 0.9979 - val_loss: 0.0468 - val_accuracy: 0.9921\n",
      "Epoch 69/100\n",
      "375/375 [==============================] - 2s 5ms/step - loss: 0.0049 - accuracy: 0.9983 - val_loss: 0.0461 - val_accuracy: 0.9911\n",
      "Epoch 70/100\n",
      "375/375 [==============================] - 2s 5ms/step - loss: 0.0045 - accuracy: 0.9984 - val_loss: 0.0521 - val_accuracy: 0.9924\n",
      "Epoch 71/100\n",
      "375/375 [==============================] - 2s 5ms/step - loss: 0.0037 - accuracy: 0.9990 - val_loss: 0.0470 - val_accuracy: 0.9928\n",
      "Epoch 72/100\n",
      "375/375 [==============================] - 3s 8ms/step - loss: 0.0061 - accuracy: 0.9983 - val_loss: 0.0438 - val_accuracy: 0.9930\n",
      "Epoch 73/100\n",
      "375/375 [==============================] - 2s 5ms/step - loss: 0.0045 - accuracy: 0.9985 - val_loss: 0.0475 - val_accuracy: 0.9918\n",
      "Epoch 74/100\n",
      "375/375 [==============================] - 2s 5ms/step - loss: 0.0062 - accuracy: 0.9980 - val_loss: 0.0414 - val_accuracy: 0.9930\n",
      "Epoch 75/100\n",
      "375/375 [==============================] - 2s 5ms/step - loss: 0.0038 - accuracy: 0.9990 - val_loss: 0.0428 - val_accuracy: 0.9921\n",
      "Epoch 76/100\n",
      "375/375 [==============================] - 2s 5ms/step - loss: 0.0032 - accuracy: 0.9989 - val_loss: 0.0529 - val_accuracy: 0.9923\n",
      "Epoch 77/100\n",
      "375/375 [==============================] - 2s 5ms/step - loss: 0.0048 - accuracy: 0.9986 - val_loss: 0.0420 - val_accuracy: 0.9927\n",
      "Epoch 78/100\n",
      "375/375 [==============================] - 3s 9ms/step - loss: 0.0045 - accuracy: 0.9985 - val_loss: 0.0425 - val_accuracy: 0.9920\n",
      "Epoch 79/100\n",
      "375/375 [==============================] - 2s 5ms/step - loss: 0.0055 - accuracy: 0.9982 - val_loss: 0.0553 - val_accuracy: 0.9917\n",
      "Epoch 80/100\n",
      "375/375 [==============================] - 2s 5ms/step - loss: 0.0059 - accuracy: 0.9981 - val_loss: 0.0484 - val_accuracy: 0.9927\n",
      "Epoch 81/100\n",
      "375/375 [==============================] - 2s 5ms/step - loss: 0.0035 - accuracy: 0.9990 - val_loss: 0.0457 - val_accuracy: 0.9931\n",
      "Epoch 82/100\n",
      "375/375 [==============================] - 2s 5ms/step - loss: 0.0047 - accuracy: 0.9983 - val_loss: 0.0487 - val_accuracy: 0.9924\n",
      "Epoch 83/100\n",
      "375/375 [==============================] - 2s 5ms/step - loss: 0.0035 - accuracy: 0.9987 - val_loss: 0.0469 - val_accuracy: 0.9923\n",
      "Epoch 84/100\n",
      "375/375 [==============================] - 3s 7ms/step - loss: 0.0044 - accuracy: 0.9987 - val_loss: 0.0534 - val_accuracy: 0.9919\n",
      "Epoch 85/100\n",
      "375/375 [==============================] - 2s 6ms/step - loss: 0.0037 - accuracy: 0.9988 - val_loss: 0.0478 - val_accuracy: 0.9920\n",
      "Epoch 86/100\n",
      "375/375 [==============================] - 2s 5ms/step - loss: 0.0041 - accuracy: 0.9984 - val_loss: 0.0571 - val_accuracy: 0.9915\n",
      "Epoch 87/100\n",
      "375/375 [==============================] - 2s 5ms/step - loss: 0.0046 - accuracy: 0.9985 - val_loss: 0.0572 - val_accuracy: 0.9920\n",
      "Epoch 88/100\n",
      "375/375 [==============================] - 2s 5ms/step - loss: 0.0051 - accuracy: 0.9985 - val_loss: 0.0517 - val_accuracy: 0.9919\n",
      "Epoch 89/100\n",
      "375/375 [==============================] - 2s 5ms/step - loss: 0.0043 - accuracy: 0.9985 - val_loss: 0.0557 - val_accuracy: 0.9918\n",
      "Epoch 90/100\n",
      "375/375 [==============================] - 2s 7ms/step - loss: 0.0051 - accuracy: 0.9985 - val_loss: 0.0561 - val_accuracy: 0.9926\n",
      "Epoch 91/100\n",
      "375/375 [==============================] - 2s 6ms/step - loss: 0.0054 - accuracy: 0.9985 - val_loss: 0.0457 - val_accuracy: 0.9924\n",
      "Epoch 92/100\n",
      "375/375 [==============================] - 2s 5ms/step - loss: 0.0041 - accuracy: 0.9985 - val_loss: 0.0520 - val_accuracy: 0.9922\n",
      "Epoch 93/100\n",
      "375/375 [==============================] - 2s 5ms/step - loss: 0.0042 - accuracy: 0.9986 - val_loss: 0.0449 - val_accuracy: 0.9933\n",
      "Epoch 94/100\n",
      "375/375 [==============================] - 2s 5ms/step - loss: 0.0046 - accuracy: 0.9986 - val_loss: 0.0483 - val_accuracy: 0.9927\n",
      "Epoch 95/100\n",
      "375/375 [==============================] - 2s 5ms/step - loss: 0.0044 - accuracy: 0.9988 - val_loss: 0.0502 - val_accuracy: 0.9926\n",
      "Epoch 96/100\n",
      "375/375 [==============================] - 2s 6ms/step - loss: 0.0044 - accuracy: 0.9986 - val_loss: 0.0483 - val_accuracy: 0.9923\n",
      "Epoch 97/100\n",
      "375/375 [==============================] - 2s 6ms/step - loss: 0.0038 - accuracy: 0.9987 - val_loss: 0.0512 - val_accuracy: 0.9926\n",
      "Epoch 98/100\n",
      "375/375 [==============================] - 2s 5ms/step - loss: 0.0036 - accuracy: 0.9987 - val_loss: 0.0515 - val_accuracy: 0.9920\n",
      "Epoch 99/100\n",
      "375/375 [==============================] - 2s 5ms/step - loss: 0.0046 - accuracy: 0.9983 - val_loss: 0.0461 - val_accuracy: 0.9919\n",
      "Epoch 100/100\n",
      "375/375 [==============================] - 2s 5ms/step - loss: 0.0037 - accuracy: 0.9988 - val_loss: 0.0518 - val_accuracy: 0.9927\n",
      "CPU times: user 3min 39s, sys: 18 s, total: 3min 57s\n",
      "Wall time: 4min 23s\n"
     ]
    }
   ],
   "source": [
    "%%time\n",
    "\n",
    "Hist_mnist = model.fit(X_train, y_train,\n",
    "                       epochs = 100,\n",
    "                       batch_size = 128,\n",
    "                       validation_data = (X_valid, y_valid))"
   ]
  },
  {
   "cell_type": "markdown",
   "metadata": {
    "id": "FnnIyFtNKhbD"
   },
   "source": [
    "> ## 4) 학습 결과 시각화"
   ]
  },
  {
   "cell_type": "code",
   "execution_count": 18,
   "metadata": {
    "colab": {
     "base_uri": "https://localhost:8080/",
     "height": 305
    },
    "executionInfo": {
     "elapsed": 891,
     "status": "ok",
     "timestamp": 1705912276574,
     "user": {
      "displayName": "맹광국",
      "userId": "00860531964279012518"
     },
     "user_tz": -540
    },
    "id": "OQ4ke8BbKi50",
    "outputId": "2fd49a3b-7195-472a-c960-8efbd353a759"
   },
   "outputs": [
    {
     "data": {
      "image/png": "[encoded data removed]",
      "text/plain": [
       "<Figure size 1500x500 with 2 Axes>"
      ]
     },
     "metadata": {},
     "output_type": "display_data"
    }
   ],
   "source": [
    "import matplotlib.pyplot as plt\n",
    "\n",
    "epochs = range(1, len(Hist_mnist.history['loss']) + 1)\n",
    "\n",
    "plt.figure(figsize = (15, 5))\n",
    "\n",
    "plt.subplot(1, 2, 1)\n",
    "plt.plot(epochs, Hist_mnist.history['loss'], 'b-')\n",
    "plt.plot(epochs, Hist_mnist.history['val_loss'], 'r--')\n",
    "plt.title('Training & Validation Loss')\n",
    "plt.xlabel('Epochs')\n",
    "plt.ylabel('Loss')\n",
    "plt.legend(['Training Loss', 'Validation Loss'])\n",
    "plt.grid()\n",
    "\n",
    "plt.subplot(1, 2, 2)\n",
    "plt.plot(epochs, Hist_mnist.history['accuracy'], 'b-')\n",
    "plt.plot(epochs, Hist_mnist.history['val_accuracy'], 'r--')\n",
    "plt.title('Training & Validation Accuracy')\n",
    "plt.xlabel('Epochs')\n",
    "plt.ylabel('Accuracy')\n",
    "plt.legend(['Training Accuracy', 'Validation Accuracy'])\n",
    "plt.grid()\n",
    "\n",
    "plt.show()"
   ]
  },
  {
   "cell_type": "markdown",
   "metadata": {
    "id": "_uJSOLBko7lh"
   },
   "source": [
    "> ## 5) Model Evaluate"
   ]
  },
  {
   "cell_type": "markdown",
   "metadata": {
    "id": "i-TqAB2ALGzZ"
   },
   "source": [
    "* Loss & Accuracy"
   ]
  },
  {
   "cell_type": "code",
   "execution_count": 19,
   "metadata": {
    "colab": {
     "base_uri": "https://localhost:8080/"
    },
    "executionInfo": {
     "elapsed": 946,
     "status": "ok",
     "timestamp": 1705912277509,
     "user": {
      "displayName": "맹광국",
      "userId": "00860531964279012518"
     },
     "user_tz": -540
    },
    "id": "OF30PuZsAxQJ",
    "outputId": "9024eeb4-9ba1-44f0-8d60-d021fed935ff"
   },
   "outputs": [
    {
     "name": "stdout",
     "output_type": "stream",
     "text": [
      "313/313 [==============================] - 1s 3ms/step - loss: 0.0378 - accuracy: 0.9929\n",
      "Loss = 0.03778\n",
      "Accuracy = 0.99290\n"
     ]
    }
   ],
   "source": [
    "loss, accuracy = model.evaluate(X_test, y_test)\n",
    "\n",
    "print('Loss = {:.5f}'.format(loss))\n",
    "print('Accuracy = {:.5f}'.format(accuracy))"
   ]
  },
  {
   "cell_type": "markdown",
   "metadata": {
    "id": "sN48I9GrLxOX"
   },
   "source": [
    "# The End"
   ]
  }
 ],
 "metadata": {
  "accelerator": "GPU",
  "colab": {
   "gpuType": "T4",
   "provenance": []
  },
  "kernelspec": {
   "display_name": "Python 3",
   "language": "python",
   "name": "python3"
  },
  "language_info": {
   "codemirror_mode": {
    "name": "ipython",
    "version": 3
   },
   "file_extension": ".py",
   "mimetype": "text/x-python",
   "name": "python",
   "nbconvert_exporter": "python",
   "pygments_lexer": "ipython3",
   "version": "3.11.5"
  },
  "toc": {
   "base_numbering": 1,
   "nav_menu": {},
   "number_sections": true,
   "sideBar": true,
   "skip_h1_title": false,
   "title_cell": "Table of Contents",
   "title_sidebar": "Contents",
   "toc_cell": false,
   "toc_position": {},
   "toc_section_display": true,
   "toc_window_display": false
  }
 },
 "nbformat": 4,
 "nbformat_minor": 4
}
