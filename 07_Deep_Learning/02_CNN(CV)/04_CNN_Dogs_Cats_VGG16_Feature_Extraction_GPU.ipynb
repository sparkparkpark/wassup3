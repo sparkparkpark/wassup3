{
 "cells": [
  {
   "cell_type": "markdown",
   "metadata": {
    "id": "q2Pr7oBdYLdf"
   },
   "source": [
    "# 사전 학습된 CNN(VGG-16)을 이용한 Feature Extraction\n",
    "## VGG-16 Model\n",
    "* University of Oxford - Visual Geometry Group\n",
    "* 2014 ILSVRC 2nd Model\n",
    "* ImageNet Large Scale Visual Recognition Challenge (ILSVRC)\n"
   ]
  },
  {
   "cell_type": "code",
   "execution_count": 1,
   "metadata": {
    "executionInfo": {
     "elapsed": 4,
     "status": "ok",
     "timestamp": 1706014215703,
     "user": {
      "displayName": "맹광국",
      "userId": "00860531964279012518"
     },
     "user_tz": -540
    },
    "id": "RbPgODpVzdHI"
   },
   "outputs": [],
   "source": [
    "import warnings\n",
    "warnings.filterwarnings('ignore')"
   ]
  },
  {
   "cell_type": "markdown",
   "metadata": {
    "id": "yI8cuQkfxyfb"
   },
   "source": [
    "* Import TensorFlow"
   ]
  },
  {
   "cell_type": "code",
   "execution_count": 2,
   "metadata": {
    "colab": {
     "base_uri": "https://localhost:8080/",
     "height": 35
    },
    "executionInfo": {
     "elapsed": 5818,
     "status": "ok",
     "timestamp": 1706014222302,
     "user": {
      "displayName": "맹광국",
      "userId": "00860531964279012518"
     },
     "user_tz": -540
    },
    "id": "b0whlIaSx2Yq",
    "outputId": "6f5776d4-3de3-496c-c924-047b7ee85692"
   },
   "outputs": [
    {
     "data": {
      "application/vnd.google.colaboratory.intrinsic+json": {
       "type": "string"
      },
      "text/plain": [
       "'2.15.0'"
      ]
     },
     "execution_count": 2,
     "metadata": {},
     "output_type": "execute_result"
    }
   ],
   "source": [
    "import tensorflow as tf\n",
    "\n",
    "tf.__version__"
   ]
  },
  {
   "cell_type": "markdown",
   "metadata": {
    "id": "6d1FeKK1CgqG"
   },
   "source": [
    "# I. wget From Github\n",
    "* 'dogs_and_cats_small.zip' 파일 다운로드"
   ]
  },
  {
   "cell_type": "code",
   "execution_count": 3,
   "metadata": {
    "colab": {
     "base_uri": "https://localhost:8080/"
    },
    "executionInfo": {
     "elapsed": 1711,
     "status": "ok",
     "timestamp": 1706014224005,
     "user": {
      "displayName": "맹광국",
      "userId": "00860531964279012518"
     },
     "user_tz": -540
    },
    "id": "f32hYtuOh4F4",
    "outputId": "b2a2a87a-de1c-4ff3-9979-c233bc932125"
   },
   "outputs": [
    {
     "name": "stdout",
     "output_type": "stream",
     "text": [
      "--2024-01-23 12:50:21--  https://raw.githubusercontent.com/rusita-ai/pyData/master/dogs_and_cats_small.zip\n",
      "Resolving raw.githubusercontent.com (raw.githubusercontent.com)... 185.199.110.133, 185.199.111.133, 185.199.109.133, ...\n",
      "Connecting to raw.githubusercontent.com (raw.githubusercontent.com)|185.199.110.133|:443... connected.\n",
      "HTTP request sent, awaiting response... 200 OK\n",
      "Length: 90618980 (86M) [application/zip]\n",
      "Saving to: ‘dogs_and_cats_small.zip’\n",
      "\n",
      "dogs_and_cats_small 100%[===================>]  86.42M  94.2MB/s    in 0.9s    \n",
      "\n",
      "2024-01-23 12:50:23 (94.2 MB/s) - ‘dogs_and_cats_small.zip’ saved [90618980/90618980]\n",
      "\n"
     ]
    }
   ],
   "source": [
    "!wget https://raw.githubusercontent.com/rusita-ai/pyData/master/dogs_and_cats_small.zip"
   ]
  },
  {
   "cell_type": "markdown",
   "metadata": {
    "id": "O0njEDt2CgqJ"
   },
   "source": [
    "* 다운로드 결과 확인"
   ]
  },
  {
   "cell_type": "code",
   "execution_count": 4,
   "metadata": {
    "colab": {
     "base_uri": "https://localhost:8080/"
    },
    "executionInfo": {
     "elapsed": 569,
     "status": "ok",
     "timestamp": 1706014224570,
     "user": {
      "displayName": "맹광국",
      "userId": "00860531964279012518"
     },
     "user_tz": -540
    },
    "id": "A9XdvsnVCgqK",
    "outputId": "b507e619-2fd8-4705-c429-492165ddce85"
   },
   "outputs": [
    {
     "name": "stdout",
     "output_type": "stream",
     "text": [
      "total 88500\n",
      "-rw-r--r-- 1 root root 90618980 Jan 23 12:50 dogs_and_cats_small.zip\n",
      "drwxr-xr-x 1 root root     4096 Jan 19 14:20 sample_data\n"
     ]
    }
   ],
   "source": [
    "!ls -l"
   ]
  },
  {
   "cell_type": "markdown",
   "metadata": {
    "id": "b6fdvGr3wPmT"
   },
   "source": [
    "# II. Data Preprocessing"
   ]
  },
  {
   "cell_type": "markdown",
   "metadata": {
    "id": "D9zdBsGKnLUo"
   },
   "source": [
    "> ## 1) Unzip 'dogs_and_cats_small.zip'"
   ]
  },
  {
   "cell_type": "code",
   "execution_count": 5,
   "metadata": {
    "executionInfo": {
     "elapsed": 2899,
     "status": "ok",
     "timestamp": 1706014227467,
     "user": {
      "displayName": "맹광국",
      "userId": "00860531964279012518"
     },
     "user_tz": -540
    },
    "id": "WkuHaDXcnUtY"
   },
   "outputs": [],
   "source": [
    "!unzip -q /content/dogs_and_cats_small.zip"
   ]
  },
  {
   "cell_type": "markdown",
   "metadata": {
    "id": "nYRGJ9bpp4pF"
   },
   "source": [
    "* 학습 데이터 확인"
   ]
  },
  {
   "cell_type": "code",
   "execution_count": 6,
   "metadata": {
    "colab": {
     "base_uri": "https://localhost:8080/"
    },
    "executionInfo": {
     "elapsed": 330,
     "status": "ok",
     "timestamp": 1706014235730,
     "user": {
      "displayName": "맹광국",
      "userId": "00860531964279012518"
     },
     "user_tz": -540
    },
    "id": "wJxlpex8Ifo-",
    "outputId": "b4e11ad1-4792-4822-bfef-c39387a651ea"
   },
   "outputs": [
    {
     "name": "stdout",
     "output_type": "stream",
     "text": [
      "total 88512\n",
      "-rw-r--r-- 1 root root 90618980 Jan 23 12:50 dogs_and_cats_small.zip\n",
      "drwxr-xr-x 1 root root     4096 Jan 19 14:20 sample_data\n",
      "drwxr-xr-x 4 root root     4096 Jan 23 12:50 test\n",
      "drwxr-xr-x 4 root root     4096 Jan 23 12:50 train\n",
      "drwxr-xr-x 4 root root     4096 Jan 23 12:50 validation\n"
     ]
    }
   ],
   "source": [
    "!ls -l"
   ]
  },
  {
   "cell_type": "markdown",
   "metadata": {
    "id": "1DyFdyVxFyHK"
   },
   "source": [
    "> ## 2) Image_File Directory Setting"
   ]
  },
  {
   "cell_type": "markdown",
   "metadata": {
    "id": "fwUMpMCYGB7Z"
   },
   "source": [
    "* train_dir\n",
    "* valid_dir\n",
    "* test_dir"
   ]
  },
  {
   "cell_type": "code",
   "execution_count": 7,
   "metadata": {
    "executionInfo": {
     "elapsed": 286,
     "status": "ok",
     "timestamp": 1706014238305,
     "user": {
      "displayName": "맹광국",
      "userId": "00860531964279012518"
     },
     "user_tz": -540
    },
    "id": "DxstjE8b_6Te"
   },
   "outputs": [],
   "source": [
    "train_dir = './train'\n",
    "valid_dir = './validation'\n",
    "test_dir = './test'"
   ]
  },
  {
   "cell_type": "markdown",
   "metadata": {
    "id": "wBAWLCWdGNde"
   },
   "source": [
    "# III. Import VGG-16 Model\n",
    "* https://keras.io/api/applications/#usage-examples-for-image-classification-models\n",
    "* https://keras.io/api/applications/#usage-examples-for-image-classification-models"
   ]
  },
  {
   "cell_type": "markdown",
   "metadata": {
    "id": "tpdqyBb2Gsdj"
   },
   "source": [
    "> ## 1) conv_base"
   ]
  },
  {
   "cell_type": "code",
   "execution_count": 10,
   "metadata": {
    "executionInfo": {
     "elapsed": 2,
     "status": "ok",
     "timestamp": 1706014249034,
     "user": {
      "displayName": "맹광국",
      "userId": "00860531964279012518"
     },
     "user_tz": -540
    },
    "id": "f8Lv7Su4o6bC"
   },
   "outputs": [],
   "source": [
    "from tensorflow.keras.applications import VGG16\n",
    "VGG16?"
   ]
  },
  {
   "cell_type": "code",
   "execution_count": 9,
   "metadata": {
    "colab": {
     "base_uri": "https://localhost:8080/"
    },
    "executionInfo": {
     "elapsed": 1845,
     "status": "ok",
     "timestamp": 1706014247905,
     "user": {
      "displayName": "맹광국",
      "userId": "00860531964279012518"
     },
     "user_tz": -540
    },
    "id": "Zgv7VdbFGTGK",
    "outputId": "3c961f66-727a-4c13-948f-73ae185af6d5"
   },
   "outputs": [
    {
     "name": "stdout",
     "output_type": "stream",
     "text": [
      "Downloading data from https://storage.googleapis.com/tensorflow/keras-applications/vgg16/vgg16_weights_tf_dim_ordering_tf_kernels_notop.h5\n",
      "58889256/58889256 [==============================] - 0s 0us/step\n"
     ]
    }
   ],
   "source": [
    "from tensorflow.keras.applications import VGG16\n",
    "\n",
    "conv_base = VGG16(weights = 'imagenet', # 이미지넷 데이터를 학습한 가중치\n",
    "                  include_top = False, # 네트워크 상단에 FC layer 포함 여부 (출력을 위한 DNN레이어)\n",
    "                  input_shape = (150, 150, 3)) # 새로 훈련할 catsdogs 데이터셋에 맞춤(VGG모델의 기본 입력크기는 224x224)"
   ]
  },
  {
   "cell_type": "markdown",
   "metadata": {
    "id": "d8isG6d-G2bf"
   },
   "source": [
    "> ## 2) Model Information"
   ]
  },
  {
   "cell_type": "code",
   "execution_count": 11,
   "metadata": {
    "colab": {
     "base_uri": "https://localhost:8080/"
    },
    "executionInfo": {
     "elapsed": 308,
     "status": "ok",
     "timestamp": 1706014290426,
     "user": {
      "displayName": "맹광국",
      "userId": "00860531964279012518"
     },
     "user_tz": -540
    },
    "id": "rEBl55fNGnvN",
    "outputId": "08f5415c-4622-4f0d-f2f5-6ecbe43100a3"
   },
   "outputs": [
    {
     "name": "stdout",
     "output_type": "stream",
     "text": [
      "Model: \"vgg16\"\n",
      "_________________________________________________________________\n",
      " Layer (type)                Output Shape              Param #   \n",
      "=================================================================\n",
      " input_1 (InputLayer)        [(None, 150, 150, 3)]     0         \n",
      "                                                                 \n",
      " block1_conv1 (Conv2D)       (None, 150, 150, 64)      1792      \n",
      "                                                                 \n",
      " block1_conv2 (Conv2D)       (None, 150, 150, 64)      36928     \n",
      "                                                                 \n",
      " block1_pool (MaxPooling2D)  (None, 75, 75, 64)        0         \n",
      "                                                                 \n",
      " block2_conv1 (Conv2D)       (None, 75, 75, 128)       73856     \n",
      "                                                                 \n",
      " block2_conv2 (Conv2D)       (None, 75, 75, 128)       147584    \n",
      "                                                                 \n",
      " block2_pool (MaxPooling2D)  (None, 37, 37, 128)       0         \n",
      "                                                                 \n",
      " block3_conv1 (Conv2D)       (None, 37, 37, 256)       295168    \n",
      "                                                                 \n",
      " block3_conv2 (Conv2D)       (None, 37, 37, 256)       590080    \n",
      "                                                                 \n",
      " block3_conv3 (Conv2D)       (None, 37, 37, 256)       590080    \n",
      "                                                                 \n",
      " block3_pool (MaxPooling2D)  (None, 18, 18, 256)       0         \n",
      "                                                                 \n",
      " block4_conv1 (Conv2D)       (None, 18, 18, 512)       1180160   \n",
      "                                                                 \n",
      " block4_conv2 (Conv2D)       (None, 18, 18, 512)       2359808   \n",
      "                                                                 \n",
      " block4_conv3 (Conv2D)       (None, 18, 18, 512)       2359808   \n",
      "                                                                 \n",
      " block4_pool (MaxPooling2D)  (None, 9, 9, 512)         0         \n",
      "                                                                 \n",
      " block5_conv1 (Conv2D)       (None, 9, 9, 512)         2359808   \n",
      "                                                                 \n",
      " block5_conv2 (Conv2D)       (None, 9, 9, 512)         2359808   \n",
      "                                                                 \n",
      " block5_conv3 (Conv2D)       (None, 9, 9, 512)         2359808   \n",
      "                                                                 \n",
      " block5_pool (MaxPooling2D)  (None, 4, 4, 512)         0         \n",
      "                                                                 \n",
      "=================================================================\n",
      "Total params: 14714688 (56.13 MB)\n",
      "Trainable params: 14714688 (56.13 MB)\n",
      "Non-trainable params: 0 (0.00 Byte)\n",
      "_________________________________________________________________\n"
     ]
    }
   ],
   "source": [
    "# 깊은 합성곱층을 만들기 위해 output shape를 padding을 통해 유지한다.\n",
    "# filter를 여러번 거칠 수록 피처맵이 이미지의 전체영역의 특징이 포함된다.\n",
    "conv_base.summary()"
   ]
  },
  {
   "cell_type": "markdown",
   "metadata": {
    "id": "wxseOi-kGie4"
   },
   "source": [
    "# IV. Feature Extraction"
   ]
  },
  {
   "cell_type": "markdown",
   "metadata": {
    "id": "3-3WoeNMexW9"
   },
   "source": [
    "> ## 1) 특징추출 함수 정의 : extract_feature( )\n",
    "* conv_base.predict( )"
   ]
  },
  {
   "cell_type": "code",
   "execution_count": 12,
   "metadata": {
    "executionInfo": {
     "elapsed": 305,
     "status": "ok",
     "timestamp": 1706014549198,
     "user": {
      "displayName": "맹광국",
      "userId": "00860531964279012518"
     },
     "user_tz": -540
    },
    "id": "BXgfjbXvHJsg"
   },
   "outputs": [],
   "source": [
    "from tensorflow.keras.preprocessing.image import ImageDataGenerator\n",
    "import numpy as np\n",
    "\n",
    "datagen = ImageDataGenerator(rescale = 1./255)\n",
    "\n",
    "batch_size = 20\n",
    "\n",
    "def extract_features(directory, sample_count):\n",
    "    features = np.zeros(shape = (sample_count, 4, 4, 512)) # conv_base의 마지막 레이어 output shape에 맞춤\n",
    "    labels = np.zeros(shape = (sample_count))\n",
    "\n",
    "    generator = datagen.flow_from_directory(directory,\n",
    "                                            target_size = (150, 150),\n",
    "                                            batch_size = batch_size,\n",
    "                                            class_mode = 'binary')\n",
    "\n",
    "    # conv_base를 통해 이미지에서 추출한 특징(feature map)을 각 배열에 저장\n",
    "    i = 0\n",
    "    for inputs_batch, labels_batch in generator:\n",
    "        features_batch = conv_base.predict(inputs_batch, verbose = 0)\n",
    "        features[i * batch_size : (i + 1) * batch_size] = features_batch\n",
    "        labels[i * batch_size : (i + 1) * batch_size] = labels_batch\n",
    "        i += 1\n",
    "        if i * batch_size >= sample_count:\n",
    "            break\n",
    "    return features, labels"
   ]
  },
  {
   "cell_type": "markdown",
   "metadata": {
    "id": "biPstCPhHwzB"
   },
   "source": [
    "> ## 2) 특징추출 함수 적용\n",
    "* train_dir, valid_dir, test_dir"
   ]
  },
  {
   "cell_type": "markdown",
   "metadata": {
    "id": "tlD3qIrrynRr"
   },
   "source": [
    "* 약 1분"
   ]
  },
  {
   "cell_type": "code",
   "execution_count": 13,
   "metadata": {
    "colab": {
     "base_uri": "https://localhost:8080/"
    },
    "executionInfo": {
     "elapsed": 42499,
     "status": "ok",
     "timestamp": 1706014717988,
     "user": {
      "displayName": "맹광국",
      "userId": "00860531964279012518"
     },
     "user_tz": -540
    },
    "id": "nOL8HkdJH1jL",
    "outputId": "fe372faf-5d83-4e10-e8fc-823e30bf6550"
   },
   "outputs": [
    {
     "name": "stdout",
     "output_type": "stream",
     "text": [
      "Found 2000 images belonging to 2 classes.\n",
      "Found 1000 images belonging to 2 classes.\n",
      "Found 1000 images belonging to 2 classes.\n"
     ]
    }
   ],
   "source": [
    "# %%time\n",
    "\n",
    "train_features, train_labels = extract_features(train_dir, 2000)\n",
    "valid_features, valid_labels = extract_features(valid_dir, 1000)\n",
    "test_features, test_labels = extract_features(test_dir, 1000)"
   ]
  },
  {
   "cell_type": "code",
   "execution_count": 14,
   "metadata": {
    "colab": {
     "base_uri": "https://localhost:8080/"
    },
    "executionInfo": {
     "elapsed": 3,
     "status": "ok",
     "timestamp": 1706014779941,
     "user": {
      "displayName": "맹광국",
      "userId": "00860531964279012518"
     },
     "user_tz": -540
    },
    "id": "Z8bYAgWWKFSD",
    "outputId": "dc8e4f7c-ea4f-464f-dce7-5973e673a682"
   },
   "outputs": [
    {
     "data": {
      "text/plain": [
       "((2000, 4, 4, 512), (1000, 4, 4, 512), (1000, 4, 4, 512))"
      ]
     },
     "execution_count": 14,
     "metadata": {},
     "output_type": "execute_result"
    }
   ],
   "source": [
    "train_features.shape, valid_features.shape, test_features.shape"
   ]
  },
  {
   "cell_type": "markdown",
   "metadata": {
    "id": "cqlBfhp8JwGX"
   },
   "source": [
    "> ## 3) Reshape Features\n",
    "* For 'Classification' Network"
   ]
  },
  {
   "cell_type": "code",
   "execution_count": 15,
   "metadata": {
    "colab": {
     "base_uri": "https://localhost:8080/"
    },
    "executionInfo": {
     "elapsed": 391,
     "status": "ok",
     "timestamp": 1706014799590,
     "user": {
      "displayName": "맹광국",
      "userId": "00860531964279012518"
     },
     "user_tz": -540
    },
    "id": "xLFrT4duJ5Xu",
    "outputId": "076549e4-8768-4532-b672-b940ce239a4b"
   },
   "outputs": [
    {
     "data": {
      "text/plain": [
       "((2000, 8192), (1000, 8192), (1000, 8192))"
      ]
     },
     "execution_count": 15,
     "metadata": {},
     "output_type": "execute_result"
    }
   ],
   "source": [
    "# Fully Connected를 위해 1차원으로 flatten\n",
    "train_features = np.reshape(train_features, (2000, 4 * 4 * 512))\n",
    "valid_features = np.reshape(valid_features, (1000, 4 * 4 * 512))\n",
    "test_features = np.reshape(test_features, (1000, 4 * 4 * 512))\n",
    "\n",
    "train_features.shape, valid_features.shape, test_features.shape"
   ]
  },
  {
   "cell_type": "markdown",
   "metadata": {
    "id": "NTwZiSjiop3v"
   },
   "source": [
    "# V. Keras DNN Modeling with VGG-16 Featured Data"
   ]
  },
  {
   "cell_type": "markdown",
   "metadata": {
    "id": "j5CT0TurJCkc"
   },
   "source": [
    "> ## 1) Model Define"
   ]
  },
  {
   "cell_type": "markdown",
   "metadata": {
    "id": "ydDCl0jTJD58"
   },
   "source": [
    "* 'Classification' Network Only\n",
    "* Dropout Layer"
   ]
  },
  {
   "cell_type": "code",
   "execution_count": 16,
   "metadata": {
    "executionInfo": {
     "elapsed": 292,
     "status": "ok",
     "timestamp": 1706014821557,
     "user": {
      "displayName": "맹광국",
      "userId": "00860531964279012518"
     },
     "user_tz": -540
    },
    "id": "II0DskRdAcHS"
   },
   "outputs": [],
   "source": [
    "# 커스텀 FC DNN 생성\n",
    "from tensorflow.keras import models, layers\n",
    "\n",
    "model = models.Sequential()\n",
    "model.add(layers.Dense(256, activation = 'relu', input_dim = 4 * 4 * 512))\n",
    "model.add(layers.Dropout(0.5))\n",
    "model.add(layers.Dense(1, activation = 'sigmoid'))"
   ]
  },
  {
   "cell_type": "code",
   "execution_count": 17,
   "metadata": {
    "colab": {
     "base_uri": "https://localhost:8080/"
    },
    "executionInfo": {
     "elapsed": 308,
     "status": "ok",
     "timestamp": 1706014823625,
     "user": {
      "displayName": "맹광국",
      "userId": "00860531964279012518"
     },
     "user_tz": -540
    },
    "id": "wbtjOA4XMTUd",
    "outputId": "31fcfb36-3810-4aff-b886-982dc2105c8d"
   },
   "outputs": [
    {
     "name": "stdout",
     "output_type": "stream",
     "text": [
      "Model: \"sequential\"\n",
      "_________________________________________________________________\n",
      " Layer (type)                Output Shape              Param #   \n",
      "=================================================================\n",
      " dense (Dense)               (None, 256)               2097408   \n",
      "                                                                 \n",
      " dropout (Dropout)           (None, 256)               0         \n",
      "                                                                 \n",
      " dense_1 (Dense)             (None, 1)                 257       \n",
      "                                                                 \n",
      "=================================================================\n",
      "Total params: 2097665 (8.00 MB)\n",
      "Trainable params: 2097665 (8.00 MB)\n",
      "Non-trainable params: 0 (0.00 Byte)\n",
      "_________________________________________________________________\n"
     ]
    }
   ],
   "source": [
    "model.summary()"
   ]
  },
  {
   "cell_type": "markdown",
   "metadata": {
    "id": "tpjBDBeYoyuj"
   },
   "source": [
    "> ## 2) Model Compile"
   ]
  },
  {
   "cell_type": "markdown",
   "metadata": {
    "id": "f3sxkQa0JoUr"
   },
   "source": [
    "* 모델 학습방법 설정"
   ]
  },
  {
   "cell_type": "code",
   "execution_count": 18,
   "metadata": {
    "executionInfo": {
     "elapsed": 283,
     "status": "ok",
     "timestamp": 1706014830657,
     "user": {
      "displayName": "맹광국",
      "userId": "00860531964279012518"
     },
     "user_tz": -540
    },
    "id": "AyK_t1qwAi6M"
   },
   "outputs": [],
   "source": [
    "model.compile(loss = 'binary_crossentropy',\n",
    "              optimizer = 'adam',\n",
    "              metrics = ['accuracy'])"
   ]
  },
  {
   "cell_type": "markdown",
   "metadata": {
    "id": "umiq4B-Xo3OB"
   },
   "source": [
    "> ## 3) Model Fit"
   ]
  },
  {
   "cell_type": "markdown",
   "metadata": {
    "id": "1KuXREziKMD1"
   },
   "source": [
    "* 약 2분"
   ]
  },
  {
   "cell_type": "code",
   "execution_count": 19,
   "metadata": {
    "colab": {
     "base_uri": "https://localhost:8080/"
    },
    "executionInfo": {
     "elapsed": 55770,
     "status": "ok",
     "timestamp": 1706015170456,
     "user": {
      "displayName": "맹광국",
      "userId": "00860531964279012518"
     },
     "user_tz": -540
    },
    "id": "zxwqwAqRAqRP",
    "outputId": "aae9fffc-cbd8-44fc-9397-9d112c52d98d"
   },
   "outputs": [
    {
     "name": "stdout",
     "output_type": "stream",
     "text": [
      "Epoch 1/100\n",
      "100/100 [==============================] - 4s 8ms/step - loss: 0.4853 - accuracy: 0.7985 - val_loss: 0.3555 - val_accuracy: 0.8370\n",
      "Epoch 2/100\n",
      "100/100 [==============================] - 1s 6ms/step - loss: 0.2749 - accuracy: 0.8845 - val_loss: 0.2700 - val_accuracy: 0.8850\n",
      "Epoch 3/100\n",
      "100/100 [==============================] - 1s 6ms/step - loss: 0.2006 - accuracy: 0.9225 - val_loss: 0.3371 - val_accuracy: 0.8530\n",
      "Epoch 4/100\n",
      "100/100 [==============================] - 1s 6ms/step - loss: 0.1839 - accuracy: 0.9220 - val_loss: 0.2440 - val_accuracy: 0.9030\n",
      "Epoch 5/100\n",
      "100/100 [==============================] - 1s 6ms/step - loss: 0.1513 - accuracy: 0.9425 - val_loss: 0.2558 - val_accuracy: 0.8990\n",
      "Epoch 6/100\n",
      "100/100 [==============================] - 0s 5ms/step - loss: 0.1506 - accuracy: 0.9375 - val_loss: 0.2805 - val_accuracy: 0.8850\n",
      "Epoch 7/100\n",
      "100/100 [==============================] - 0s 5ms/step - loss: 0.1126 - accuracy: 0.9565 - val_loss: 0.2799 - val_accuracy: 0.8920\n",
      "Epoch 8/100\n",
      "100/100 [==============================] - 0s 5ms/step - loss: 0.0851 - accuracy: 0.9655 - val_loss: 0.2766 - val_accuracy: 0.9030\n",
      "Epoch 9/100\n",
      "100/100 [==============================] - 0s 5ms/step - loss: 0.0596 - accuracy: 0.9790 - val_loss: 0.2873 - val_accuracy: 0.9010\n",
      "Epoch 10/100\n",
      "100/100 [==============================] - 1s 6ms/step - loss: 0.0659 - accuracy: 0.9755 - val_loss: 0.3176 - val_accuracy: 0.9010\n",
      "Epoch 11/100\n",
      "100/100 [==============================] - 1s 7ms/step - loss: 0.0608 - accuracy: 0.9795 - val_loss: 0.3602 - val_accuracy: 0.8910\n",
      "Epoch 12/100\n",
      "100/100 [==============================] - 1s 8ms/step - loss: 0.0486 - accuracy: 0.9835 - val_loss: 0.2977 - val_accuracy: 0.8960\n",
      "Epoch 13/100\n",
      "100/100 [==============================] - 1s 5ms/step - loss: 0.0430 - accuracy: 0.9855 - val_loss: 0.3308 - val_accuracy: 0.9040\n",
      "Epoch 14/100\n",
      "100/100 [==============================] - 1s 9ms/step - loss: 0.0422 - accuracy: 0.9855 - val_loss: 0.3276 - val_accuracy: 0.9080\n",
      "Epoch 15/100\n",
      "100/100 [==============================] - 1s 10ms/step - loss: 0.0329 - accuracy: 0.9900 - val_loss: 0.3734 - val_accuracy: 0.9000\n",
      "Epoch 16/100\n",
      "100/100 [==============================] - 1s 7ms/step - loss: 0.0252 - accuracy: 0.9930 - val_loss: 0.3967 - val_accuracy: 0.9070\n",
      "Epoch 17/100\n",
      "100/100 [==============================] - 1s 8ms/step - loss: 0.0316 - accuracy: 0.9860 - val_loss: 0.4386 - val_accuracy: 0.8870\n",
      "Epoch 18/100\n",
      "100/100 [==============================] - 1s 7ms/step - loss: 0.0297 - accuracy: 0.9905 - val_loss: 0.3575 - val_accuracy: 0.8950\n",
      "Epoch 19/100\n",
      "100/100 [==============================] - 1s 6ms/step - loss: 0.0477 - accuracy: 0.9810 - val_loss: 0.3763 - val_accuracy: 0.8950\n",
      "Epoch 20/100\n",
      "100/100 [==============================] - 0s 4ms/step - loss: 0.0288 - accuracy: 0.9885 - val_loss: 0.3802 - val_accuracy: 0.8920\n",
      "Epoch 21/100\n",
      "100/100 [==============================] - 0s 5ms/step - loss: 0.0247 - accuracy: 0.9910 - val_loss: 0.4113 - val_accuracy: 0.8990\n",
      "Epoch 22/100\n",
      "100/100 [==============================] - 1s 6ms/step - loss: 0.0154 - accuracy: 0.9955 - val_loss: 0.4112 - val_accuracy: 0.8970\n",
      "Epoch 23/100\n",
      "100/100 [==============================] - 1s 6ms/step - loss: 0.0213 - accuracy: 0.9925 - val_loss: 0.4211 - val_accuracy: 0.8980\n",
      "Epoch 24/100\n",
      "100/100 [==============================] - 1s 7ms/step - loss: 0.0122 - accuracy: 0.9965 - val_loss: 0.4670 - val_accuracy: 0.9010\n",
      "Epoch 25/100\n",
      "100/100 [==============================] - 1s 6ms/step - loss: 0.0216 - accuracy: 0.9925 - val_loss: 0.4235 - val_accuracy: 0.9000\n",
      "Epoch 26/100\n",
      "100/100 [==============================] - 1s 6ms/step - loss: 0.0351 - accuracy: 0.9855 - val_loss: 0.5059 - val_accuracy: 0.8890\n",
      "Epoch 27/100\n",
      "100/100 [==============================] - 0s 5ms/step - loss: 0.0306 - accuracy: 0.9890 - val_loss: 0.4503 - val_accuracy: 0.8890\n",
      "Epoch 28/100\n",
      "100/100 [==============================] - 0s 4ms/step - loss: 0.0219 - accuracy: 0.9930 - val_loss: 0.5604 - val_accuracy: 0.8740\n",
      "Epoch 29/100\n",
      "100/100 [==============================] - 0s 5ms/step - loss: 0.0594 - accuracy: 0.9790 - val_loss: 0.4223 - val_accuracy: 0.8980\n",
      "Epoch 30/100\n",
      "100/100 [==============================] - 0s 5ms/step - loss: 0.0252 - accuracy: 0.9905 - val_loss: 0.4539 - val_accuracy: 0.8990\n",
      "Epoch 31/100\n",
      "100/100 [==============================] - 0s 5ms/step - loss: 0.0136 - accuracy: 0.9950 - val_loss: 0.5210 - val_accuracy: 0.8950\n",
      "Epoch 32/100\n",
      "100/100 [==============================] - 0s 4ms/step - loss: 0.0155 - accuracy: 0.9940 - val_loss: 0.4879 - val_accuracy: 0.8990\n",
      "Epoch 33/100\n",
      "100/100 [==============================] - 0s 4ms/step - loss: 0.0400 - accuracy: 0.9855 - val_loss: 0.4498 - val_accuracy: 0.9010\n",
      "Epoch 34/100\n",
      "100/100 [==============================] - 0s 4ms/step - loss: 0.0270 - accuracy: 0.9915 - val_loss: 0.5228 - val_accuracy: 0.8860\n",
      "Epoch 35/100\n",
      "100/100 [==============================] - 0s 4ms/step - loss: 0.0275 - accuracy: 0.9895 - val_loss: 0.4758 - val_accuracy: 0.8990\n",
      "Epoch 36/100\n",
      "100/100 [==============================] - 0s 5ms/step - loss: 0.0250 - accuracy: 0.9910 - val_loss: 0.4934 - val_accuracy: 0.8910\n",
      "Epoch 37/100\n",
      "100/100 [==============================] - 0s 5ms/step - loss: 0.0129 - accuracy: 0.9955 - val_loss: 0.6064 - val_accuracy: 0.8870\n",
      "Epoch 38/100\n",
      "100/100 [==============================] - 0s 4ms/step - loss: 0.0196 - accuracy: 0.9920 - val_loss: 0.5007 - val_accuracy: 0.8940\n",
      "Epoch 39/100\n",
      "100/100 [==============================] - 0s 4ms/step - loss: 0.0147 - accuracy: 0.9945 - val_loss: 0.5273 - val_accuracy: 0.8920\n",
      "Epoch 40/100\n",
      "100/100 [==============================] - 0s 4ms/step - loss: 0.0093 - accuracy: 0.9960 - val_loss: 0.4991 - val_accuracy: 0.9040\n",
      "Epoch 41/100\n",
      "100/100 [==============================] - 0s 5ms/step - loss: 0.0157 - accuracy: 0.9945 - val_loss: 0.5300 - val_accuracy: 0.9040\n",
      "Epoch 42/100\n",
      "100/100 [==============================] - 0s 4ms/step - loss: 0.0601 - accuracy: 0.9765 - val_loss: 0.4840 - val_accuracy: 0.8980\n",
      "Epoch 43/100\n",
      "100/100 [==============================] - 0s 4ms/step - loss: 0.0565 - accuracy: 0.9765 - val_loss: 0.4183 - val_accuracy: 0.9040\n",
      "Epoch 44/100\n",
      "100/100 [==============================] - 1s 5ms/step - loss: 0.0252 - accuracy: 0.9895 - val_loss: 0.5455 - val_accuracy: 0.9000\n",
      "Epoch 45/100\n",
      "100/100 [==============================] - 1s 5ms/step - loss: 0.0399 - accuracy: 0.9845 - val_loss: 0.4666 - val_accuracy: 0.9030\n",
      "Epoch 46/100\n",
      "100/100 [==============================] - 0s 5ms/step - loss: 0.0252 - accuracy: 0.9900 - val_loss: 0.4128 - val_accuracy: 0.9070\n",
      "Epoch 47/100\n",
      "100/100 [==============================] - 0s 5ms/step - loss: 0.0201 - accuracy: 0.9925 - val_loss: 0.5048 - val_accuracy: 0.9030\n",
      "Epoch 48/100\n",
      "100/100 [==============================] - 1s 5ms/step - loss: 0.0184 - accuracy: 0.9925 - val_loss: 0.4871 - val_accuracy: 0.9030\n",
      "Epoch 49/100\n",
      "100/100 [==============================] - 1s 6ms/step - loss: 0.0213 - accuracy: 0.9930 - val_loss: 0.5866 - val_accuracy: 0.8860\n",
      "Epoch 50/100\n",
      "100/100 [==============================] - 1s 6ms/step - loss: 0.0106 - accuracy: 0.9965 - val_loss: 0.5359 - val_accuracy: 0.9050\n",
      "Epoch 51/100\n",
      "100/100 [==============================] - 1s 6ms/step - loss: 0.0089 - accuracy: 0.9965 - val_loss: 0.6965 - val_accuracy: 0.8860\n",
      "Epoch 52/100\n",
      "100/100 [==============================] - 1s 6ms/step - loss: 0.0108 - accuracy: 0.9955 - val_loss: 0.5705 - val_accuracy: 0.8960\n",
      "Epoch 53/100\n",
      "100/100 [==============================] - 1s 6ms/step - loss: 0.0072 - accuracy: 0.9965 - val_loss: 0.6932 - val_accuracy: 0.8870\n",
      "Epoch 54/100\n",
      "100/100 [==============================] - 0s 5ms/step - loss: 0.0142 - accuracy: 0.9960 - val_loss: 0.5680 - val_accuracy: 0.9030\n",
      "Epoch 55/100\n",
      "100/100 [==============================] - 0s 5ms/step - loss: 0.0160 - accuracy: 0.9940 - val_loss: 0.5717 - val_accuracy: 0.8980\n",
      "Epoch 56/100\n",
      "100/100 [==============================] - 0s 5ms/step - loss: 0.0275 - accuracy: 0.9885 - val_loss: 0.5133 - val_accuracy: 0.8990\n",
      "Epoch 57/100\n",
      "100/100 [==============================] - 0s 4ms/step - loss: 0.0134 - accuracy: 0.9960 - val_loss: 0.5760 - val_accuracy: 0.8980\n",
      "Epoch 58/100\n",
      "100/100 [==============================] - 0s 5ms/step - loss: 0.0129 - accuracy: 0.9955 - val_loss: 0.6095 - val_accuracy: 0.8940\n",
      "Epoch 59/100\n",
      "100/100 [==============================] - 0s 4ms/step - loss: 0.0120 - accuracy: 0.9965 - val_loss: 0.5274 - val_accuracy: 0.9000\n",
      "Epoch 60/100\n",
      "100/100 [==============================] - 0s 5ms/step - loss: 0.0252 - accuracy: 0.9910 - val_loss: 0.5561 - val_accuracy: 0.8940\n",
      "Epoch 61/100\n",
      "100/100 [==============================] - 0s 5ms/step - loss: 0.0191 - accuracy: 0.9945 - val_loss: 0.6288 - val_accuracy: 0.8820\n",
      "Epoch 62/100\n",
      "100/100 [==============================] - 0s 4ms/step - loss: 0.0446 - accuracy: 0.9830 - val_loss: 0.4134 - val_accuracy: 0.9080\n",
      "Epoch 63/100\n",
      "100/100 [==============================] - 0s 5ms/step - loss: 0.0198 - accuracy: 0.9930 - val_loss: 0.4532 - val_accuracy: 0.9010\n",
      "Epoch 64/100\n",
      "100/100 [==============================] - 0s 4ms/step - loss: 0.0105 - accuracy: 0.9975 - val_loss: 0.5684 - val_accuracy: 0.9080\n",
      "Epoch 65/100\n",
      "100/100 [==============================] - 0s 4ms/step - loss: 0.0254 - accuracy: 0.9905 - val_loss: 0.5681 - val_accuracy: 0.9020\n",
      "Epoch 66/100\n",
      "100/100 [==============================] - 0s 4ms/step - loss: 0.0268 - accuracy: 0.9895 - val_loss: 0.5470 - val_accuracy: 0.9030\n",
      "Epoch 67/100\n",
      "100/100 [==============================] - 0s 4ms/step - loss: 0.0350 - accuracy: 0.9850 - val_loss: 0.5378 - val_accuracy: 0.9040\n",
      "Epoch 68/100\n",
      "100/100 [==============================] - 0s 4ms/step - loss: 0.0317 - accuracy: 0.9890 - val_loss: 0.5175 - val_accuracy: 0.8940\n",
      "Epoch 69/100\n",
      "100/100 [==============================] - 0s 4ms/step - loss: 0.0188 - accuracy: 0.9940 - val_loss: 0.5695 - val_accuracy: 0.8980\n",
      "Epoch 70/100\n",
      "100/100 [==============================] - 0s 4ms/step - loss: 0.0060 - accuracy: 0.9985 - val_loss: 0.6069 - val_accuracy: 0.9030\n",
      "Epoch 71/100\n",
      "100/100 [==============================] - 0s 4ms/step - loss: 0.0120 - accuracy: 0.9950 - val_loss: 0.6729 - val_accuracy: 0.9030\n",
      "Epoch 72/100\n",
      "100/100 [==============================] - 0s 4ms/step - loss: 0.0035 - accuracy: 0.9985 - val_loss: 0.7485 - val_accuracy: 0.8930\n",
      "Epoch 73/100\n",
      "100/100 [==============================] - 0s 5ms/step - loss: 0.0100 - accuracy: 0.9955 - val_loss: 0.7853 - val_accuracy: 0.8920\n",
      "Epoch 74/100\n",
      "100/100 [==============================] - 0s 4ms/step - loss: 0.0124 - accuracy: 0.9950 - val_loss: 0.7326 - val_accuracy: 0.8930\n",
      "Epoch 75/100\n",
      "100/100 [==============================] - 0s 5ms/step - loss: 0.0422 - accuracy: 0.9860 - val_loss: 0.5820 - val_accuracy: 0.8960\n",
      "Epoch 76/100\n",
      "100/100 [==============================] - 1s 6ms/step - loss: 0.0128 - accuracy: 0.9965 - val_loss: 0.6483 - val_accuracy: 0.8950\n",
      "Epoch 77/100\n",
      "100/100 [==============================] - 1s 6ms/step - loss: 0.0080 - accuracy: 0.9960 - val_loss: 0.6743 - val_accuracy: 0.8880\n",
      "Epoch 78/100\n",
      "100/100 [==============================] - 1s 6ms/step - loss: 0.0062 - accuracy: 0.9985 - val_loss: 0.6769 - val_accuracy: 0.8980\n",
      "Epoch 79/100\n",
      "100/100 [==============================] - 1s 6ms/step - loss: 0.0113 - accuracy: 0.9960 - val_loss: 0.7499 - val_accuracy: 0.8900\n",
      "Epoch 80/100\n",
      "100/100 [==============================] - 1s 6ms/step - loss: 0.0138 - accuracy: 0.9955 - val_loss: 0.6001 - val_accuracy: 0.9050\n",
      "Epoch 81/100\n",
      "100/100 [==============================] - 0s 4ms/step - loss: 0.0210 - accuracy: 0.9930 - val_loss: 0.6538 - val_accuracy: 0.8950\n",
      "Epoch 82/100\n",
      "100/100 [==============================] - 0s 4ms/step - loss: 0.0122 - accuracy: 0.9940 - val_loss: 0.6967 - val_accuracy: 0.9020\n",
      "Epoch 83/100\n",
      "100/100 [==============================] - 0s 5ms/step - loss: 0.0070 - accuracy: 0.9975 - val_loss: 0.7134 - val_accuracy: 0.9000\n",
      "Epoch 84/100\n",
      "100/100 [==============================] - 0s 4ms/step - loss: 0.0329 - accuracy: 0.9910 - val_loss: 0.9904 - val_accuracy: 0.8660\n",
      "Epoch 85/100\n",
      "100/100 [==============================] - 0s 5ms/step - loss: 0.0179 - accuracy: 0.9925 - val_loss: 0.6984 - val_accuracy: 0.8820\n",
      "Epoch 86/100\n",
      "100/100 [==============================] - 0s 5ms/step - loss: 0.0127 - accuracy: 0.9955 - val_loss: 0.7133 - val_accuracy: 0.8910\n",
      "Epoch 87/100\n",
      "100/100 [==============================] - 0s 4ms/step - loss: 0.0336 - accuracy: 0.9880 - val_loss: 0.6611 - val_accuracy: 0.8890\n",
      "Epoch 88/100\n",
      "100/100 [==============================] - 0s 4ms/step - loss: 0.0091 - accuracy: 0.9980 - val_loss: 0.7117 - val_accuracy: 0.8980\n",
      "Epoch 89/100\n",
      "100/100 [==============================] - 0s 5ms/step - loss: 0.0098 - accuracy: 0.9975 - val_loss: 0.7252 - val_accuracy: 0.8950\n",
      "Epoch 90/100\n",
      "100/100 [==============================] - 0s 5ms/step - loss: 0.0106 - accuracy: 0.9955 - val_loss: 0.7324 - val_accuracy: 0.8960\n",
      "Epoch 91/100\n",
      "100/100 [==============================] - 0s 5ms/step - loss: 0.0119 - accuracy: 0.9960 - val_loss: 0.7790 - val_accuracy: 0.8970\n",
      "Epoch 92/100\n",
      "100/100 [==============================] - 0s 5ms/step - loss: 0.0091 - accuracy: 0.9960 - val_loss: 0.7199 - val_accuracy: 0.8920\n",
      "Epoch 93/100\n",
      "100/100 [==============================] - 0s 4ms/step - loss: 0.0091 - accuracy: 0.9960 - val_loss: 0.7537 - val_accuracy: 0.9060\n",
      "Epoch 94/100\n",
      "100/100 [==============================] - 0s 5ms/step - loss: 0.0029 - accuracy: 1.0000 - val_loss: 0.8542 - val_accuracy: 0.8970\n",
      "Epoch 95/100\n",
      "100/100 [==============================] - 0s 5ms/step - loss: 0.0014 - accuracy: 0.9995 - val_loss: 0.8055 - val_accuracy: 0.8990\n",
      "Epoch 96/100\n",
      "100/100 [==============================] - 0s 4ms/step - loss: 0.0031 - accuracy: 0.9995 - val_loss: 0.8303 - val_accuracy: 0.9000\n",
      "Epoch 97/100\n",
      "100/100 [==============================] - 0s 5ms/step - loss: 0.0083 - accuracy: 0.9975 - val_loss: 0.6788 - val_accuracy: 0.8990\n",
      "Epoch 98/100\n",
      "100/100 [==============================] - 0s 5ms/step - loss: 0.0039 - accuracy: 0.9990 - val_loss: 0.7394 - val_accuracy: 0.8880\n",
      "Epoch 99/100\n",
      "100/100 [==============================] - 0s 4ms/step - loss: 0.0105 - accuracy: 0.9945 - val_loss: 0.7227 - val_accuracy: 0.9000\n",
      "Epoch 100/100\n",
      "100/100 [==============================] - 0s 4ms/step - loss: 0.0251 - accuracy: 0.9895 - val_loss: 0.7036 - val_accuracy: 0.8900\n"
     ]
    }
   ],
   "source": [
    "# %%time\n",
    "\n",
    "Hist_dandc = model.fit(train_features, train_labels,\n",
    "                       epochs = 100,\n",
    "                       batch_size = 20,\n",
    "                       validation_data = (valid_features, valid_labels))"
   ]
  },
  {
   "cell_type": "markdown",
   "metadata": {
    "id": "FnnIyFtNKhbD"
   },
   "source": [
    "> ## 4) 학습 결과 시각화"
   ]
  },
  {
   "cell_type": "code",
   "execution_count": 20,
   "metadata": {
    "colab": {
     "base_uri": "https://localhost:8080/",
     "height": 487
    },
    "executionInfo": {
     "elapsed": 1185,
     "status": "ok",
     "timestamp": 1706015171639,
     "user": {
      "displayName": "맹광국",
      "userId": "00860531964279012518"
     },
     "user_tz": -540
    },
    "id": "OQ4ke8BbKi50",
    "outputId": "b2686448-91d8-486b-e926-942fd7624c36"
   },
   "outputs": [
    {
     "data": {
      "image/png": "[encoded data removed]",
      "text/plain": [
       "<Figure size 1500x500 with 2 Axes>"
      ]
     },
     "metadata": {},
     "output_type": "display_data"
    }
   ],
   "source": [
    "import matplotlib.pyplot as plt\n",
    "\n",
    "epochs = range(1, len(Hist_dandc.history['loss']) + 1)\n",
    "\n",
    "plt.figure(figsize = (15, 5))\n",
    "\n",
    "plt.subplot(1, 2, 1)\n",
    "plt.plot(epochs, Hist_dandc.history['loss'], 'b-')\n",
    "plt.plot(epochs, Hist_dandc.history['val_loss'], 'r--')\n",
    "plt.title('Training & Validation Loss')\n",
    "plt.xlabel('Epochs')\n",
    "plt.ylabel('Loss')\n",
    "plt.legend(['Training Loss', 'Validation Loss'])\n",
    "plt.grid()\n",
    "\n",
    "plt.subplot(1, 2, 2)\n",
    "plt.plot(epochs, Hist_dandc.history['accuracy'], 'b-')\n",
    "plt.plot(epochs, Hist_dandc.history['val_accuracy'], 'r--')\n",
    "plt.title('Training & Validation Accuracy')\n",
    "plt.xlabel('Epochs')\n",
    "plt.ylabel('Accuracy')\n",
    "plt.legend(['Training Accuracy', 'Validation Accuracy'])\n",
    "plt.grid()\n",
    "\n",
    "plt.show()"
   ]
  },
  {
   "cell_type": "markdown",
   "metadata": {
    "id": "_uJSOLBko7lh"
   },
   "source": [
    "> ## 5) Model Evaluate"
   ]
  },
  {
   "cell_type": "markdown",
   "metadata": {
    "id": "i-TqAB2ALGzZ"
   },
   "source": [
    "* Loss & Accuracy"
   ]
  },
  {
   "cell_type": "code",
   "execution_count": 21,
   "metadata": {
    "colab": {
     "base_uri": "https://localhost:8080/"
    },
    "executionInfo": {
     "elapsed": 452,
     "status": "ok",
     "timestamp": 1706015172085,
     "user": {
      "displayName": "맹광국",
      "userId": "00860531964279012518"
     },
     "user_tz": -540
    },
    "id": "OF30PuZsAxQJ",
    "outputId": "07a16933-fa42-4827-f9c3-fab8eaa105ef"
   },
   "outputs": [
    {
     "name": "stdout",
     "output_type": "stream",
     "text": [
      "Loss = 0.76520\n",
      "Accuracy = 0.87900\n"
     ]
    }
   ],
   "source": [
    "loss, accuracy = model.evaluate(test_features, test_labels, verbose = 0)\n",
    "\n",
    "print('Loss = {:.5f}'.format(loss))\n",
    "print('Accuracy = {:.5f}'.format(accuracy))"
   ]
  },
  {
   "cell_type": "markdown",
   "metadata": {
    "id": "sN48I9GrLxOX"
   },
   "source": [
    "# The End"
   ]
  }
 ],
 "metadata": {
  "accelerator": "GPU",
  "colab": {
   "provenance": []
  },
  "gpuClass": "standard",
  "kernelspec": {
   "display_name": "Python 3",
   "language": "python",
   "name": "python3"
  },
  "language_info": {
   "codemirror_mode": {
    "name": "ipython",
    "version": 3
   },
   "file_extension": ".py",
   "mimetype": "text/x-python",
   "name": "python",
   "nbconvert_exporter": "python",
   "pygments_lexer": "ipython3",
   "version": "3.11.5"
  },
  "toc": {
   "base_numbering": 1,
   "nav_menu": {},
   "number_sections": true,
   "sideBar": true,
   "skip_h1_title": false,
   "title_cell": "Table of Contents",
   "title_sidebar": "Contents",
   "toc_cell": false,
   "toc_position": {},
   "toc_section_display": true,
   "toc_window_display": false
  }
 },
 "nbformat": 4,
 "nbformat_minor": 4
}
