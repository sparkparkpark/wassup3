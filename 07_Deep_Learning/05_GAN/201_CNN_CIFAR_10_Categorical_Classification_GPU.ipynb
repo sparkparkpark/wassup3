{
 "cells": [
  {
   "cell_type": "markdown",
   "metadata": {
    "id": "q2Pr7oBdYLdf"
   },
   "source": [
    "# CIFAR 10 - Categorical Classification"
   ]
  },
  {
   "cell_type": "code",
   "execution_count": 1,
   "metadata": {
    "executionInfo": {
     "elapsed": 20,
     "status": "ok",
     "timestamp": 1674698347048,
     "user": {
      "displayName": "이정구",
      "userId": "08368998955804870048"
     },
     "user_tz": -540
    },
    "id": "RbPgODpVzdHI"
   },
   "outputs": [],
   "source": [
    "import warnings\n",
    "warnings.filterwarnings('ignore')"
   ]
  },
  {
   "cell_type": "markdown",
   "metadata": {
    "id": "tUvJIk2aRFtw"
   },
   "source": [
    "* import Tensorflow"
   ]
  },
  {
   "cell_type": "code",
   "execution_count": 2,
   "metadata": {
    "colab": {
     "base_uri": "https://localhost:8080/",
     "height": 35
    },
    "executionInfo": {
     "elapsed": 3580,
     "status": "ok",
     "timestamp": 1674698350623,
     "user": {
      "displayName": "이정구",
      "userId": "08368998955804870048"
     },
     "user_tz": -540
    },
    "id": "GR4j3p6N_rDV",
    "outputId": "e529cacd-874b-4b1f-eff6-f8d574f900a8"
   },
   "outputs": [
    {
     "data": {
      "application/vnd.google.colaboratory.intrinsic+json": {
       "type": "string"
      },
      "text/plain": [
       "'2.9.2'"
      ]
     },
     "execution_count": 2,
     "metadata": {},
     "output_type": "execute_result"
    }
   ],
   "source": [
    "import tensorflow\n",
    "\n",
    "tensorflow.__version__"
   ]
  },
  {
   "cell_type": "markdown",
   "metadata": {
    "id": "H49A769LYp-a"
   },
   "source": [
    "# I. CIFAR 10 Data_Set Load & Review"
   ]
  },
  {
   "cell_type": "markdown",
   "metadata": {
    "id": "vb6EIkRcbPb4"
   },
   "source": [
    "> ## 1) Load CIFAR 10 Data_Set"
   ]
  },
  {
   "cell_type": "code",
   "execution_count": 3,
   "metadata": {
    "colab": {
     "base_uri": "https://localhost:8080/"
    },
    "executionInfo": {
     "elapsed": 10200,
     "status": "ok",
     "timestamp": 1674698360814,
     "user": {
      "displayName": "이정구",
      "userId": "08368998955804870048"
     },
     "user_tz": -540
    },
    "id": "DxstjE8b_6Te",
    "outputId": "172a4dcb-ce66-43b9-cd2d-b06c698a45d7"
   },
   "outputs": [
    {
     "name": "stdout",
     "output_type": "stream",
     "text": [
      "Downloading data from https://www.cs.toronto.edu/~kriz/cifar-10-python.tar.gz\n",
      "170498071/170498071 [==============================] - 4s 0us/step\n"
     ]
    }
   ],
   "source": [
    "from tensorflow.keras.datasets import cifar10\n",
    "\n",
    "(X_train, y_train), (X_test, y_test) = cifar10.load_data()"
   ]
  },
  {
   "cell_type": "markdown",
   "metadata": {
    "id": "Mt11QE0EHCiJ"
   },
   "source": [
    "* Train_Data Information"
   ]
  },
  {
   "cell_type": "code",
   "execution_count": 4,
   "metadata": {
    "colab": {
     "base_uri": "https://localhost:8080/"
    },
    "executionInfo": {
     "elapsed": 7,
     "status": "ok",
     "timestamp": 1674698360814,
     "user": {
      "displayName": "이정구",
      "userId": "08368998955804870048"
     },
     "user_tz": -540
    },
    "id": "KT_Mr_Hb__VH",
    "outputId": "8e30885c-78d6-481e-e04b-39a38ed60047"
   },
   "outputs": [
    {
     "name": "stdout",
     "output_type": "stream",
     "text": [
      "50000\n",
      "(50000, 32, 32, 3)\n",
      "50000\n",
      "[[6]\n",
      " [9]\n",
      " [9]\n",
      " [4]\n",
      " [1]]\n"
     ]
    }
   ],
   "source": [
    "print(len(X_train))\n",
    "print(X_train.shape)\n",
    "\n",
    "print(len(y_train))\n",
    "print(y_train[0:5])"
   ]
  },
  {
   "cell_type": "markdown",
   "metadata": {
    "id": "QolAqIwgHGRI"
   },
   "source": [
    "* Test_Data Information"
   ]
  },
  {
   "cell_type": "code",
   "execution_count": 5,
   "metadata": {
    "colab": {
     "base_uri": "https://localhost:8080/"
    },
    "executionInfo": {
     "elapsed": 4,
     "status": "ok",
     "timestamp": 1674698360814,
     "user": {
      "displayName": "이정구",
      "userId": "08368998955804870048"
     },
     "user_tz": -540
    },
    "id": "NtkD2BKUANZE",
    "outputId": "d6ed4af9-4c46-4238-e990-d0cc1760c938"
   },
   "outputs": [
    {
     "name": "stdout",
     "output_type": "stream",
     "text": [
      "10000\n",
      "(10000, 32, 32, 3)\n",
      "10000\n",
      "[[3]\n",
      " [8]\n",
      " [8]\n",
      " [0]\n",
      " [6]]\n"
     ]
    }
   ],
   "source": [
    "print(len(X_test))\n",
    "print(X_test.shape)\n",
    "\n",
    "print(len(y_test))\n",
    "print(y_test[0:5])"
   ]
  },
  {
   "cell_type": "markdown",
   "metadata": {
    "id": "Mk9XL5vGHor6"
   },
   "source": [
    "# II. Data Preprocessing"
   ]
  },
  {
   "cell_type": "markdown",
   "metadata": {
    "id": "ec8zU4XCZRUF"
   },
   "source": [
    "> ## 1) Normalization"
   ]
  },
  {
   "cell_type": "code",
   "execution_count": 6,
   "metadata": {
    "executionInfo": {
     "elapsed": 888,
     "status": "ok",
     "timestamp": 1674698361699,
     "user": {
      "displayName": "이정구",
      "userId": "08368998955804870048"
     },
     "user_tz": -540
    },
    "id": "SoGHuYeFIGBj"
   },
   "outputs": [],
   "source": [
    "X_train = X_train.astype(float) / 255\n",
    "X_test = X_test.astype(float) / 255"
   ]
  },
  {
   "cell_type": "code",
   "execution_count": 7,
   "metadata": {
    "colab": {
     "base_uri": "https://localhost:8080/"
    },
    "executionInfo": {
     "elapsed": 11,
     "status": "ok",
     "timestamp": 1674698361699,
     "user": {
      "displayName": "이정구",
      "userId": "08368998955804870048"
     },
     "user_tz": -540
    },
    "id": "m1HezAboV-x8",
    "outputId": "698436bb-2dc3-40c1-8f96-21cf16eb231a"
   },
   "outputs": [
    {
     "name": "stdout",
     "output_type": "stream",
     "text": [
      "[[[0.23137255 0.24313725 0.24705882]\n",
      "  [0.16862745 0.18039216 0.17647059]\n",
      "  [0.19607843 0.18823529 0.16862745]\n",
      "  ...\n",
      "  [0.61960784 0.51764706 0.42352941]\n",
      "  [0.59607843 0.49019608 0.4       ]\n",
      "  [0.58039216 0.48627451 0.40392157]]\n",
      "\n",
      " [[0.0627451  0.07843137 0.07843137]\n",
      "  [0.         0.         0.        ]\n",
      "  [0.07058824 0.03137255 0.        ]\n",
      "  ...\n",
      "  [0.48235294 0.34509804 0.21568627]\n",
      "  [0.46666667 0.3254902  0.19607843]\n",
      "  [0.47843137 0.34117647 0.22352941]]\n",
      "\n",
      " [[0.09803922 0.09411765 0.08235294]\n",
      "  [0.0627451  0.02745098 0.        ]\n",
      "  [0.19215686 0.10588235 0.03137255]\n",
      "  ...\n",
      "  [0.4627451  0.32941176 0.19607843]\n",
      "  [0.47058824 0.32941176 0.19607843]\n",
      "  [0.42745098 0.28627451 0.16470588]]\n",
      "\n",
      " ...\n",
      "\n",
      " [[0.81568627 0.66666667 0.37647059]\n",
      "  [0.78823529 0.6        0.13333333]\n",
      "  [0.77647059 0.63137255 0.10196078]\n",
      "  ...\n",
      "  [0.62745098 0.52156863 0.2745098 ]\n",
      "  [0.21960784 0.12156863 0.02745098]\n",
      "  [0.20784314 0.13333333 0.07843137]]\n",
      "\n",
      " [[0.70588235 0.54509804 0.37647059]\n",
      "  [0.67843137 0.48235294 0.16470588]\n",
      "  [0.72941176 0.56470588 0.11764706]\n",
      "  ...\n",
      "  [0.72156863 0.58039216 0.36862745]\n",
      "  [0.38039216 0.24313725 0.13333333]\n",
      "  [0.3254902  0.20784314 0.13333333]]\n",
      "\n",
      " [[0.69411765 0.56470588 0.45490196]\n",
      "  [0.65882353 0.50588235 0.36862745]\n",
      "  [0.70196078 0.55686275 0.34117647]\n",
      "  ...\n",
      "  [0.84705882 0.72156863 0.54901961]\n",
      "  [0.59215686 0.4627451  0.32941176]\n",
      "  [0.48235294 0.36078431 0.28235294]]]\n"
     ]
    }
   ],
   "source": [
    "print(X_train[0])"
   ]
  },
  {
   "cell_type": "markdown",
   "metadata": {
    "id": "BtSROU80aF12"
   },
   "source": [
    "> ## 2) One Hot Encoding"
   ]
  },
  {
   "cell_type": "code",
   "execution_count": 8,
   "metadata": {
    "executionInfo": {
     "elapsed": 7,
     "status": "ok",
     "timestamp": 1674698361699,
     "user": {
      "displayName": "이정구",
      "userId": "08368998955804870048"
     },
     "user_tz": -540
    },
    "id": "eC48Oym3Ao8E"
   },
   "outputs": [],
   "source": [
    "from tensorflow.keras.utils import to_categorical\n",
    "\n",
    "y_train = to_categorical(y_train)\n",
    "y_test = to_categorical(y_test)"
   ]
  },
  {
   "cell_type": "code",
   "execution_count": 9,
   "metadata": {
    "colab": {
     "base_uri": "https://localhost:8080/"
    },
    "executionInfo": {
     "elapsed": 7,
     "status": "ok",
     "timestamp": 1674698361700,
     "user": {
      "displayName": "이정구",
      "userId": "08368998955804870048"
     },
     "user_tz": -540
    },
    "id": "q1O-NsoJMyWU",
    "outputId": "1e1810bd-60c7-4ba6-ba11-b64244082ffb"
   },
   "outputs": [
    {
     "name": "stdout",
     "output_type": "stream",
     "text": [
      "[[0. 0. 0. 0. 0. 0. 1. 0. 0. 0.]\n",
      " [0. 0. 0. 0. 0. 0. 0. 0. 0. 1.]\n",
      " [0. 0. 0. 0. 0. 0. 0. 0. 0. 1.]\n",
      " [0. 0. 0. 0. 1. 0. 0. 0. 0. 0.]\n",
      " [0. 1. 0. 0. 0. 0. 0. 0. 0. 0.]]\n"
     ]
    }
   ],
   "source": [
    "print(y_train[:5])"
   ]
  },
  {
   "cell_type": "markdown",
   "metadata": {
    "id": "5Y0xaGNzYkI2"
   },
   "source": [
    "> ## 3) train_test_split( )\n",
    "\n",
    "* Train(40,000) vs. Validation(10,000)"
   ]
  },
  {
   "cell_type": "code",
   "execution_count": 10,
   "metadata": {
    "colab": {
     "base_uri": "https://localhost:8080/"
    },
    "executionInfo": {
     "elapsed": 1957,
     "status": "ok",
     "timestamp": 1674698363653,
     "user": {
      "displayName": "이정구",
      "userId": "08368998955804870048"
     },
     "user_tz": -540
    },
    "id": "zdpfzw3TXRHG",
    "outputId": "90f2a137-0802-499f-ccfb-5012b961e1aa"
   },
   "outputs": [
    {
     "data": {
      "text/plain": [
       "((40000, 32, 32, 3), (40000, 10), (10000, 32, 32, 3), (10000, 10))"
      ]
     },
     "execution_count": 10,
     "metadata": {},
     "output_type": "execute_result"
    }
   ],
   "source": [
    "from sklearn.model_selection import train_test_split \n",
    "\n",
    "X_train, X_valid, y_train, y_valid = train_test_split(X_train, y_train,\n",
    "                                                      test_size = 0.2,\n",
    "                                                      random_state = 2045)\n",
    "\n",
    "X_train.shape, y_train.shape, X_valid.shape, y_valid.shape"
   ]
  },
  {
   "cell_type": "markdown",
   "metadata": {
    "id": "NTwZiSjiop3v"
   },
   "source": [
    "# III. Keras Modeling"
   ]
  },
  {
   "cell_type": "markdown",
   "metadata": {
    "id": "j5CT0TurJCkc"
   },
   "source": [
    "> ## 1) Model Define"
   ]
  },
  {
   "cell_type": "markdown",
   "metadata": {
    "id": "ydDCl0jTJD58"
   },
   "source": [
    "* 모델 신경망 구조 정의\n",
    " - CNN & DNN"
   ]
  },
  {
   "cell_type": "code",
   "execution_count": 11,
   "metadata": {
    "executionInfo": {
     "elapsed": 4699,
     "status": "ok",
     "timestamp": 1674698368350,
     "user": {
      "displayName": "이정구",
      "userId": "08368998955804870048"
     },
     "user_tz": -540
    },
    "id": "II0DskRdAcHS"
   },
   "outputs": [],
   "source": [
    "from tensorflow.keras import models\n",
    "from tensorflow.keras import layers\n",
    "\n",
    "model = models.Sequential()\n",
    "model.add(layers.Conv2D(filters=32, kernel_size=(3,3), activation='relu', input_shape=(32, 32, 3)))\n",
    "model.add(layers.MaxPool2D(pool_size=(2,2)))\n",
    "model.add(layers.Conv2D(filters=64, kernel_size=(3,3), activation='relu'))\n",
    "model.add(layers.MaxPool2D(pool_size=(2,2)))\n",
    "model.add(layers.Conv2D(filters=64, kernel_size=(3,3), activation='relu'))\n",
    "\n",
    "model.add(layers.Flatten())\n",
    "model.add(layers.Dropout(0.5))\n",
    "model.add(layers.Dense(units=64, activation='relu'))\n",
    "model.add(layers.Dense(units=10, activation='softmax'))"
   ]
  },
  {
   "cell_type": "markdown",
   "metadata": {
    "id": "PqrObAHZJTN8"
   },
   "source": [
    "* 모델 구조 확인"
   ]
  },
  {
   "cell_type": "code",
   "execution_count": 12,
   "metadata": {
    "colab": {
     "base_uri": "https://localhost:8080/"
    },
    "executionInfo": {
     "elapsed": 20,
     "status": "ok",
     "timestamp": 1674698368350,
     "user": {
      "displayName": "이정구",
      "userId": "08368998955804870048"
     },
     "user_tz": -540
    },
    "id": "wbtjOA4XMTUd",
    "outputId": "b302977e-1e5f-4df3-ef4d-d8de827976a2"
   },
   "outputs": [
    {
     "name": "stdout",
     "output_type": "stream",
     "text": [
      "Model: \"sequential\"\n",
      "_________________________________________________________________\n",
      " Layer (type)                Output Shape              Param #   \n",
      "=================================================================\n",
      " conv2d (Conv2D)             (None, 30, 30, 32)        896       \n",
      "                                                                 \n",
      " max_pooling2d (MaxPooling2D  (None, 15, 15, 32)       0         \n",
      " )                                                               \n",
      "                                                                 \n",
      " conv2d_1 (Conv2D)           (None, 13, 13, 64)        18496     \n",
      "                                                                 \n",
      " max_pooling2d_1 (MaxPooling  (None, 6, 6, 64)         0         \n",
      " 2D)                                                             \n",
      "                                                                 \n",
      " conv2d_2 (Conv2D)           (None, 4, 4, 64)          36928     \n",
      "                                                                 \n",
      " flatten (Flatten)           (None, 1024)              0         \n",
      "                                                                 \n",
      " dropout (Dropout)           (None, 1024)              0         \n",
      "                                                                 \n",
      " dense (Dense)               (None, 64)                65600     \n",
      "                                                                 \n",
      " dense_1 (Dense)             (None, 10)                650       \n",
      "                                                                 \n",
      "=================================================================\n",
      "Total params: 122,570\n",
      "Trainable params: 122,570\n",
      "Non-trainable params: 0\n",
      "_________________________________________________________________\n"
     ]
    }
   ],
   "source": [
    "model.summary()"
   ]
  },
  {
   "cell_type": "markdown",
   "metadata": {
    "id": "tpjBDBeYoyuj"
   },
   "source": [
    "> ## 2) Model Compile"
   ]
  },
  {
   "cell_type": "markdown",
   "metadata": {
    "id": "f3sxkQa0JoUr"
   },
   "source": [
    "* 모델 학습방법 설정"
   ]
  },
  {
   "cell_type": "code",
   "execution_count": 13,
   "metadata": {
    "executionInfo": {
     "elapsed": 632,
     "status": "ok",
     "timestamp": 1674698368980,
     "user": {
      "displayName": "이정구",
      "userId": "08368998955804870048"
     },
     "user_tz": -540
    },
    "id": "AyK_t1qwAi6M"
   },
   "outputs": [],
   "source": [
    "model.compile(loss = 'categorical_crossentropy',\n",
    "              optimizer = 'adam',\n",
    "              metrics = ['accuracy'])"
   ]
  },
  {
   "cell_type": "markdown",
   "metadata": {
    "id": "umiq4B-Xo3OB"
   },
   "source": [
    "> ## 3) Model Fit"
   ]
  },
  {
   "cell_type": "markdown",
   "metadata": {
    "id": "1KuXREziKMD1"
   },
   "source": [
    "* 약 5분"
   ]
  },
  {
   "cell_type": "code",
   "execution_count": 14,
   "metadata": {
    "colab": {
     "base_uri": "https://localhost:8080/"
    },
    "executionInfo": {
     "elapsed": 263749,
     "status": "ok",
     "timestamp": 1674698632702,
     "user": {
      "displayName": "이정구",
      "userId": "08368998955804870048"
     },
     "user_tz": -540
    },
    "id": "zxwqwAqRAqRP",
    "outputId": "3125a222-1669-430c-8757-1e628860cf1e"
   },
   "outputs": [
    {
     "name": "stdout",
     "output_type": "stream",
     "text": [
      "Epoch 1/100\n",
      "313/313 [==============================] - 12s 8ms/step - loss: 1.7437 - accuracy: 0.3544 - val_loss: 1.4426 - val_accuracy: 0.4758\n",
      "Epoch 2/100\n",
      "313/313 [==============================] - 2s 7ms/step - loss: 1.3847 - accuracy: 0.4968 - val_loss: 1.2694 - val_accuracy: 0.5428\n",
      "Epoch 3/100\n",
      "313/313 [==============================] - 2s 7ms/step - loss: 1.2603 - accuracy: 0.5491 - val_loss: 1.1505 - val_accuracy: 0.5926\n",
      "Epoch 4/100\n",
      "313/313 [==============================] - 2s 7ms/step - loss: 1.1725 - accuracy: 0.5849 - val_loss: 1.0845 - val_accuracy: 0.6235\n",
      "Epoch 5/100\n",
      "313/313 [==============================] - 2s 7ms/step - loss: 1.1155 - accuracy: 0.6019 - val_loss: 1.0493 - val_accuracy: 0.6383\n",
      "Epoch 6/100\n",
      "313/313 [==============================] - 2s 7ms/step - loss: 1.0540 - accuracy: 0.6269 - val_loss: 1.0091 - val_accuracy: 0.6442\n",
      "Epoch 7/100\n",
      "313/313 [==============================] - 2s 7ms/step - loss: 1.0136 - accuracy: 0.6415 - val_loss: 0.9259 - val_accuracy: 0.6757\n",
      "Epoch 8/100\n",
      "313/313 [==============================] - 2s 7ms/step - loss: 0.9804 - accuracy: 0.6540 - val_loss: 0.9302 - val_accuracy: 0.6720\n",
      "Epoch 9/100\n",
      "313/313 [==============================] - 2s 7ms/step - loss: 0.9407 - accuracy: 0.6673 - val_loss: 0.8973 - val_accuracy: 0.6854\n",
      "Epoch 10/100\n",
      "313/313 [==============================] - 2s 6ms/step - loss: 0.9222 - accuracy: 0.6749 - val_loss: 0.9576 - val_accuracy: 0.6649\n",
      "Epoch 11/100\n",
      "313/313 [==============================] - 2s 7ms/step - loss: 0.8829 - accuracy: 0.6879 - val_loss: 0.8649 - val_accuracy: 0.6983\n",
      "Epoch 12/100\n",
      "313/313 [==============================] - 2s 7ms/step - loss: 0.8637 - accuracy: 0.6953 - val_loss: 0.8226 - val_accuracy: 0.7156\n",
      "Epoch 13/100\n",
      "313/313 [==============================] - 2s 7ms/step - loss: 0.8421 - accuracy: 0.6998 - val_loss: 0.8292 - val_accuracy: 0.7117\n",
      "Epoch 14/100\n",
      "313/313 [==============================] - 2s 7ms/step - loss: 0.8188 - accuracy: 0.7115 - val_loss: 0.7997 - val_accuracy: 0.7223\n",
      "Epoch 15/100\n",
      "313/313 [==============================] - 2s 7ms/step - loss: 0.8042 - accuracy: 0.7158 - val_loss: 0.8563 - val_accuracy: 0.7020\n",
      "Epoch 16/100\n",
      "313/313 [==============================] - 2s 6ms/step - loss: 0.7893 - accuracy: 0.7207 - val_loss: 0.7963 - val_accuracy: 0.7199\n",
      "Epoch 17/100\n",
      "313/313 [==============================] - 2s 7ms/step - loss: 0.7787 - accuracy: 0.7263 - val_loss: 0.8271 - val_accuracy: 0.7208\n",
      "Epoch 18/100\n",
      "313/313 [==============================] - 2s 7ms/step - loss: 0.7646 - accuracy: 0.7316 - val_loss: 0.7934 - val_accuracy: 0.7287\n",
      "Epoch 19/100\n",
      "313/313 [==============================] - 2s 7ms/step - loss: 0.7421 - accuracy: 0.7382 - val_loss: 0.7712 - val_accuracy: 0.7316\n",
      "Epoch 20/100\n",
      "313/313 [==============================] - 2s 7ms/step - loss: 0.7260 - accuracy: 0.7441 - val_loss: 0.7721 - val_accuracy: 0.7332\n",
      "Epoch 21/100\n",
      "313/313 [==============================] - 2s 7ms/step - loss: 0.7106 - accuracy: 0.7490 - val_loss: 0.7838 - val_accuracy: 0.7282\n",
      "Epoch 22/100\n",
      "313/313 [==============================] - 2s 7ms/step - loss: 0.6991 - accuracy: 0.7527 - val_loss: 0.7605 - val_accuracy: 0.7386\n",
      "Epoch 23/100\n",
      "313/313 [==============================] - 2s 6ms/step - loss: 0.6861 - accuracy: 0.7561 - val_loss: 0.8143 - val_accuracy: 0.7242\n",
      "Epoch 24/100\n",
      "313/313 [==============================] - 2s 7ms/step - loss: 0.6765 - accuracy: 0.7606 - val_loss: 0.7441 - val_accuracy: 0.7435\n",
      "Epoch 25/100\n",
      "313/313 [==============================] - 2s 7ms/step - loss: 0.6666 - accuracy: 0.7628 - val_loss: 0.7509 - val_accuracy: 0.7406\n",
      "Epoch 26/100\n",
      "313/313 [==============================] - 2s 7ms/step - loss: 0.6558 - accuracy: 0.7682 - val_loss: 0.7339 - val_accuracy: 0.7475\n",
      "Epoch 27/100\n",
      "313/313 [==============================] - 2s 8ms/step - loss: 0.6409 - accuracy: 0.7713 - val_loss: 0.7401 - val_accuracy: 0.7430\n",
      "Epoch 28/100\n",
      "313/313 [==============================] - 2s 7ms/step - loss: 0.6373 - accuracy: 0.7734 - val_loss: 0.7483 - val_accuracy: 0.7419\n",
      "Epoch 29/100\n",
      "313/313 [==============================] - 2s 7ms/step - loss: 0.6283 - accuracy: 0.7776 - val_loss: 0.7391 - val_accuracy: 0.7500\n",
      "Epoch 30/100\n",
      "313/313 [==============================] - 2s 7ms/step - loss: 0.6180 - accuracy: 0.7811 - val_loss: 0.7297 - val_accuracy: 0.7526\n",
      "Epoch 31/100\n",
      "313/313 [==============================] - 2s 7ms/step - loss: 0.6097 - accuracy: 0.7837 - val_loss: 0.7242 - val_accuracy: 0.7530\n",
      "Epoch 32/100\n",
      "313/313 [==============================] - 2s 7ms/step - loss: 0.6054 - accuracy: 0.7848 - val_loss: 0.7299 - val_accuracy: 0.7479\n",
      "Epoch 33/100\n",
      "313/313 [==============================] - 2s 7ms/step - loss: 0.5949 - accuracy: 0.7898 - val_loss: 0.7551 - val_accuracy: 0.7402\n",
      "Epoch 34/100\n",
      "313/313 [==============================] - 2s 7ms/step - loss: 0.5866 - accuracy: 0.7913 - val_loss: 0.7434 - val_accuracy: 0.7523\n",
      "Epoch 35/100\n",
      "313/313 [==============================] - 2s 7ms/step - loss: 0.5795 - accuracy: 0.7929 - val_loss: 0.7254 - val_accuracy: 0.7580\n",
      "Epoch 36/100\n",
      "313/313 [==============================] - 2s 7ms/step - loss: 0.5771 - accuracy: 0.7933 - val_loss: 0.7070 - val_accuracy: 0.7615\n",
      "Epoch 37/100\n",
      "313/313 [==============================] - 2s 7ms/step - loss: 0.5661 - accuracy: 0.7977 - val_loss: 0.7679 - val_accuracy: 0.7421\n",
      "Epoch 38/100\n",
      "313/313 [==============================] - 2s 7ms/step - loss: 0.5613 - accuracy: 0.8005 - val_loss: 0.7195 - val_accuracy: 0.7563\n",
      "Epoch 39/100\n",
      "313/313 [==============================] - 2s 7ms/step - loss: 0.5507 - accuracy: 0.8056 - val_loss: 0.7444 - val_accuracy: 0.7537\n",
      "Epoch 40/100\n",
      "313/313 [==============================] - 2s 7ms/step - loss: 0.5452 - accuracy: 0.8045 - val_loss: 0.7218 - val_accuracy: 0.7576\n",
      "Epoch 41/100\n",
      "313/313 [==============================] - 2s 7ms/step - loss: 0.5410 - accuracy: 0.8050 - val_loss: 0.7564 - val_accuracy: 0.7457\n",
      "Epoch 42/100\n",
      "313/313 [==============================] - 2s 7ms/step - loss: 0.5363 - accuracy: 0.8086 - val_loss: 0.7339 - val_accuracy: 0.7522\n",
      "Epoch 43/100\n",
      "313/313 [==============================] - 2s 7ms/step - loss: 0.5340 - accuracy: 0.8091 - val_loss: 0.7853 - val_accuracy: 0.7442\n",
      "Epoch 44/100\n",
      "313/313 [==============================] - 2s 7ms/step - loss: 0.5272 - accuracy: 0.8094 - val_loss: 0.7448 - val_accuracy: 0.7496\n",
      "Epoch 45/100\n",
      "313/313 [==============================] - 2s 7ms/step - loss: 0.5151 - accuracy: 0.8157 - val_loss: 0.7523 - val_accuracy: 0.7499\n",
      "Epoch 46/100\n",
      "313/313 [==============================] - 2s 7ms/step - loss: 0.5122 - accuracy: 0.8159 - val_loss: 0.7380 - val_accuracy: 0.7502\n",
      "Epoch 47/100\n",
      "313/313 [==============================] - 2s 7ms/step - loss: 0.5154 - accuracy: 0.8157 - val_loss: 0.7304 - val_accuracy: 0.7536\n",
      "Epoch 48/100\n",
      "313/313 [==============================] - 2s 7ms/step - loss: 0.5088 - accuracy: 0.8169 - val_loss: 0.7396 - val_accuracy: 0.7530\n",
      "Epoch 49/100\n",
      "313/313 [==============================] - 2s 7ms/step - loss: 0.4922 - accuracy: 0.8237 - val_loss: 0.7710 - val_accuracy: 0.7507\n",
      "Epoch 50/100\n",
      "313/313 [==============================] - 2s 7ms/step - loss: 0.4890 - accuracy: 0.8250 - val_loss: 0.7189 - val_accuracy: 0.7570\n",
      "Epoch 51/100\n",
      "313/313 [==============================] - 2s 7ms/step - loss: 0.4899 - accuracy: 0.8253 - val_loss: 0.7611 - val_accuracy: 0.7542\n",
      "Epoch 52/100\n",
      "313/313 [==============================] - 2s 7ms/step - loss: 0.4864 - accuracy: 0.8253 - val_loss: 0.7793 - val_accuracy: 0.7498\n",
      "Epoch 53/100\n",
      "313/313 [==============================] - 2s 7ms/step - loss: 0.4833 - accuracy: 0.8256 - val_loss: 0.7537 - val_accuracy: 0.7524\n",
      "Epoch 54/100\n",
      "313/313 [==============================] - 2s 7ms/step - loss: 0.4748 - accuracy: 0.8292 - val_loss: 0.7478 - val_accuracy: 0.7585\n",
      "Epoch 55/100\n",
      "313/313 [==============================] - 2s 7ms/step - loss: 0.4794 - accuracy: 0.8277 - val_loss: 0.7269 - val_accuracy: 0.7578\n",
      "Epoch 56/100\n",
      "313/313 [==============================] - 2s 7ms/step - loss: 0.4690 - accuracy: 0.8294 - val_loss: 0.7575 - val_accuracy: 0.7517\n",
      "Epoch 57/100\n",
      "313/313 [==============================] - 2s 7ms/step - loss: 0.4639 - accuracy: 0.8317 - val_loss: 0.7574 - val_accuracy: 0.7506\n",
      "Epoch 58/100\n",
      "313/313 [==============================] - 2s 7ms/step - loss: 0.4567 - accuracy: 0.8354 - val_loss: 0.7392 - val_accuracy: 0.7557\n",
      "Epoch 59/100\n",
      "313/313 [==============================] - 2s 7ms/step - loss: 0.4564 - accuracy: 0.8361 - val_loss: 0.7535 - val_accuracy: 0.7567\n",
      "Epoch 60/100\n",
      "313/313 [==============================] - 2s 7ms/step - loss: 0.4527 - accuracy: 0.8389 - val_loss: 0.7499 - val_accuracy: 0.7596\n",
      "Epoch 61/100\n",
      "313/313 [==============================] - 2s 7ms/step - loss: 0.4538 - accuracy: 0.8369 - val_loss: 0.7496 - val_accuracy: 0.7579\n",
      "Epoch 62/100\n",
      "313/313 [==============================] - 2s 7ms/step - loss: 0.4392 - accuracy: 0.8433 - val_loss: 0.7684 - val_accuracy: 0.7517\n",
      "Epoch 63/100\n",
      "313/313 [==============================] - 2s 7ms/step - loss: 0.4462 - accuracy: 0.8388 - val_loss: 0.7337 - val_accuracy: 0.7607\n",
      "Epoch 64/100\n",
      "313/313 [==============================] - 2s 7ms/step - loss: 0.4347 - accuracy: 0.8438 - val_loss: 0.7641 - val_accuracy: 0.7558\n",
      "Epoch 65/100\n",
      "313/313 [==============================] - 2s 7ms/step - loss: 0.4368 - accuracy: 0.8431 - val_loss: 0.7535 - val_accuracy: 0.7553\n",
      "Epoch 66/100\n",
      "313/313 [==============================] - 2s 7ms/step - loss: 0.4482 - accuracy: 0.8389 - val_loss: 0.7953 - val_accuracy: 0.7490\n",
      "Epoch 67/100\n",
      "313/313 [==============================] - 2s 7ms/step - loss: 0.4263 - accuracy: 0.8458 - val_loss: 0.8036 - val_accuracy: 0.7435\n",
      "Epoch 68/100\n",
      "313/313 [==============================] - 2s 7ms/step - loss: 0.4236 - accuracy: 0.8475 - val_loss: 0.7466 - val_accuracy: 0.7648\n",
      "Epoch 69/100\n",
      "313/313 [==============================] - 2s 7ms/step - loss: 0.4336 - accuracy: 0.8436 - val_loss: 0.7580 - val_accuracy: 0.7585\n",
      "Epoch 70/100\n",
      "313/313 [==============================] - 2s 7ms/step - loss: 0.4298 - accuracy: 0.8450 - val_loss: 0.7676 - val_accuracy: 0.7548\n",
      "Epoch 71/100\n",
      "313/313 [==============================] - 2s 7ms/step - loss: 0.4216 - accuracy: 0.8485 - val_loss: 0.7621 - val_accuracy: 0.7542\n",
      "Epoch 72/100\n",
      "313/313 [==============================] - 2s 7ms/step - loss: 0.4200 - accuracy: 0.8492 - val_loss: 0.7584 - val_accuracy: 0.7603\n",
      "Epoch 73/100\n",
      "313/313 [==============================] - 2s 7ms/step - loss: 0.4177 - accuracy: 0.8501 - val_loss: 0.7698 - val_accuracy: 0.7546\n",
      "Epoch 74/100\n",
      "313/313 [==============================] - 2s 7ms/step - loss: 0.4147 - accuracy: 0.8519 - val_loss: 0.7697 - val_accuracy: 0.7593\n",
      "Epoch 75/100\n",
      "313/313 [==============================] - 2s 7ms/step - loss: 0.4086 - accuracy: 0.8530 - val_loss: 0.7471 - val_accuracy: 0.7654\n",
      "Epoch 76/100\n",
      "313/313 [==============================] - 2s 7ms/step - loss: 0.4095 - accuracy: 0.8532 - val_loss: 0.7706 - val_accuracy: 0.7557\n",
      "Epoch 77/100\n",
      "313/313 [==============================] - 2s 7ms/step - loss: 0.4048 - accuracy: 0.8546 - val_loss: 0.7841 - val_accuracy: 0.7539\n",
      "Epoch 78/100\n",
      "313/313 [==============================] - 2s 7ms/step - loss: 0.4092 - accuracy: 0.8533 - val_loss: 0.8096 - val_accuracy: 0.7500\n",
      "Epoch 79/100\n",
      "313/313 [==============================] - 2s 7ms/step - loss: 0.4014 - accuracy: 0.8556 - val_loss: 0.7722 - val_accuracy: 0.7570\n",
      "Epoch 80/100\n",
      "313/313 [==============================] - 2s 7ms/step - loss: 0.3935 - accuracy: 0.8569 - val_loss: 0.7697 - val_accuracy: 0.7563\n",
      "Epoch 81/100\n",
      "313/313 [==============================] - 2s 7ms/step - loss: 0.3941 - accuracy: 0.8574 - val_loss: 0.7952 - val_accuracy: 0.7558\n",
      "Epoch 82/100\n",
      "313/313 [==============================] - 2s 7ms/step - loss: 0.3883 - accuracy: 0.8605 - val_loss: 0.7974 - val_accuracy: 0.7555\n",
      "Epoch 83/100\n",
      "313/313 [==============================] - 2s 7ms/step - loss: 0.3865 - accuracy: 0.8619 - val_loss: 0.7913 - val_accuracy: 0.7556\n",
      "Epoch 84/100\n",
      "313/313 [==============================] - 2s 7ms/step - loss: 0.3930 - accuracy: 0.8574 - val_loss: 0.7805 - val_accuracy: 0.7576\n",
      "Epoch 85/100\n",
      "313/313 [==============================] - 2s 7ms/step - loss: 0.3887 - accuracy: 0.8588 - val_loss: 0.7922 - val_accuracy: 0.7548\n",
      "Epoch 86/100\n",
      "313/313 [==============================] - 2s 7ms/step - loss: 0.3890 - accuracy: 0.8601 - val_loss: 0.8124 - val_accuracy: 0.7452\n",
      "Epoch 87/100\n",
      "313/313 [==============================] - 2s 7ms/step - loss: 0.3875 - accuracy: 0.8586 - val_loss: 0.7973 - val_accuracy: 0.7531\n",
      "Epoch 88/100\n",
      "313/313 [==============================] - 2s 7ms/step - loss: 0.3785 - accuracy: 0.8641 - val_loss: 0.7897 - val_accuracy: 0.7639\n",
      "Epoch 89/100\n",
      "313/313 [==============================] - 2s 7ms/step - loss: 0.3751 - accuracy: 0.8658 - val_loss: 0.7798 - val_accuracy: 0.7573\n",
      "Epoch 90/100\n",
      "313/313 [==============================] - 2s 7ms/step - loss: 0.3798 - accuracy: 0.8646 - val_loss: 0.7975 - val_accuracy: 0.7590\n",
      "Epoch 91/100\n",
      "313/313 [==============================] - 2s 7ms/step - loss: 0.3718 - accuracy: 0.8663 - val_loss: 0.8021 - val_accuracy: 0.7566\n",
      "Epoch 92/100\n",
      "313/313 [==============================] - 2s 7ms/step - loss: 0.3684 - accuracy: 0.8673 - val_loss: 0.8023 - val_accuracy: 0.7583\n",
      "Epoch 93/100\n",
      "313/313 [==============================] - 2s 7ms/step - loss: 0.3732 - accuracy: 0.8659 - val_loss: 0.7925 - val_accuracy: 0.7591\n",
      "Epoch 94/100\n",
      "313/313 [==============================] - 2s 7ms/step - loss: 0.3655 - accuracy: 0.8695 - val_loss: 0.8324 - val_accuracy: 0.7431\n",
      "Epoch 95/100\n",
      "313/313 [==============================] - 2s 7ms/step - loss: 0.3668 - accuracy: 0.8680 - val_loss: 0.8098 - val_accuracy: 0.7551\n",
      "Epoch 96/100\n",
      "313/313 [==============================] - 2s 7ms/step - loss: 0.3673 - accuracy: 0.8663 - val_loss: 0.8203 - val_accuracy: 0.7562\n",
      "Epoch 97/100\n",
      "313/313 [==============================] - 2s 7ms/step - loss: 0.3663 - accuracy: 0.8684 - val_loss: 0.7833 - val_accuracy: 0.7568\n",
      "Epoch 98/100\n",
      "313/313 [==============================] - 3s 10ms/step - loss: 0.3659 - accuracy: 0.8674 - val_loss: 0.8026 - val_accuracy: 0.7570\n",
      "Epoch 99/100\n",
      "313/313 [==============================] - 2s 7ms/step - loss: 0.3607 - accuracy: 0.8682 - val_loss: 0.8111 - val_accuracy: 0.7549\n",
      "Epoch 100/100\n",
      "313/313 [==============================] - 2s 7ms/step - loss: 0.3602 - accuracy: 0.8722 - val_loss: 0.8246 - val_accuracy: 0.7518\n",
      "CPU times: user 3min 21s, sys: 17.7 s, total: 3min 39s\n",
      "Wall time: 4min 23s\n"
     ]
    }
   ],
   "source": [
    "# %%time\n",
    "\n",
    "Hist_model = model.fit(X_train, y_train,\n",
    "                       epochs = 100,\n",
    "                       batch_size = 128,\n",
    "                       validation_data = (X_valid, y_valid))"
   ]
  },
  {
   "cell_type": "markdown",
   "metadata": {
    "id": "FnnIyFtNKhbD"
   },
   "source": [
    "> ## 4) 학습 결과 시각화"
   ]
  },
  {
   "cell_type": "code",
   "execution_count": 15,
   "metadata": {
    "colab": {
     "base_uri": "https://localhost:8080/",
     "height": 350
    },
    "executionInfo": {
     "elapsed": 35,
     "status": "ok",
     "timestamp": 1674698632704,
     "user": {
      "displayName": "이정구",
      "userId": "08368998955804870048"
     },
     "user_tz": -540
    },
    "id": "OQ4ke8BbKi50",
    "outputId": "2a74c0aa-c871-4461-ea68-d043734d125c"
   },
   "outputs": [
    {
     "data": {
      "image/png": "[encoded data removed]",
      "text/plain": [
       "<Figure size 1080x360 with 2 Axes>"
      ]
     },
     "metadata": {
      "needs_background": "light"
     },
     "output_type": "display_data"
    }
   ],
   "source": [
    "import matplotlib.pyplot as plt\n",
    "\n",
    "epochs = range(1, len(Hist_model.history['loss']) + 1)\n",
    "\n",
    "plt.figure(figsize = (15, 5))\n",
    "\n",
    "plt.subplot(1, 2, 1)\n",
    "plt.plot(epochs, Hist_model.history['loss'], 'b-')\n",
    "plt.plot(epochs, Hist_model.history['val_loss'], 'r--')\n",
    "plt.title('Training & Validation Loss')\n",
    "plt.xlabel('Epochs')\n",
    "plt.ylabel('Loss')\n",
    "plt.legend(['Training Loss', 'Validation Loss'])\n",
    "plt.grid()\n",
    "\n",
    "plt.subplot(1, 2, 2)\n",
    "plt.plot(epochs, Hist_model.history['accuracy'], 'b-')\n",
    "plt.plot(epochs, Hist_model.history['val_accuracy'], 'r--')\n",
    "plt.title('Training & Validation Accuracy')\n",
    "plt.xlabel('Epochs')\n",
    "plt.ylabel('Accuracy')\n",
    "plt.legend(['Training Accuracy', 'Validation Accuracy'])\n",
    "plt.grid()\n",
    "\n",
    "plt.show()"
   ]
  },
  {
   "cell_type": "markdown",
   "metadata": {
    "id": "_uJSOLBko7lh"
   },
   "source": [
    "> ## 5) Model Evaluate"
   ]
  },
  {
   "cell_type": "markdown",
   "metadata": {
    "id": "i-TqAB2ALGzZ"
   },
   "source": [
    "* Loss & Accuracy"
   ]
  },
  {
   "cell_type": "code",
   "execution_count": 16,
   "metadata": {
    "colab": {
     "base_uri": "https://localhost:8080/"
    },
    "executionInfo": {
     "elapsed": 1124,
     "status": "ok",
     "timestamp": 1674698633797,
     "user": {
      "displayName": "이정구",
      "userId": "08368998955804870048"
     },
     "user_tz": -540
    },
    "id": "OF30PuZsAxQJ",
    "outputId": "2fb5c8d9-07c5-4a1b-b363-06a759cfd9ba"
   },
   "outputs": [
    {
     "name": "stdout",
     "output_type": "stream",
     "text": [
      "Loss = 0.82884\n",
      "Accuracy = 0.75200\n"
     ]
    }
   ],
   "source": [
    "loss, accuracy = model.evaluate(X_test, y_test, verbose = 0)\n",
    "\n",
    "print('Loss = {:.5f}'.format(loss))\n",
    "print('Accuracy = {:.5f}'.format(accuracy))"
   ]
  },
  {
   "cell_type": "markdown",
   "metadata": {
    "id": "sN48I9GrLxOX"
   },
   "source": [
    "# \n",
    "# \n",
    "# \n",
    "# The End\n",
    "# \n",
    "# \n",
    "# "
   ]
  }
 ],
 "metadata": {
  "accelerator": "GPU",
  "colab": {
   "provenance": []
  },
  "kernelspec": {
   "display_name": "Python 3 (ipykernel)",
   "language": "python",
   "name": "python3"
  },
  "language_info": {
   "codemirror_mode": {
    "name": "ipython",
    "version": 3
   },
   "file_extension": ".py",
   "mimetype": "text/x-python",
   "name": "python",
   "nbconvert_exporter": "python",
   "pygments_lexer": "ipython3",
   "version": "3.10.8"
  },
  "toc": {
   "base_numbering": 1,
   "nav_menu": {},
   "number_sections": true,
   "sideBar": true,
   "skip_h1_title": false,
   "title_cell": "Table of Contents",
   "title_sidebar": "Contents",
   "toc_cell": false,
   "toc_position": {},
   "toc_section_display": true,
   "toc_window_display": false
  }
 },
 "nbformat": 4,
 "nbformat_minor": 1
}
