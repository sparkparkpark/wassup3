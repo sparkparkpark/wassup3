{
 "cells": [
  {
   "cell_type": "markdown",
   "metadata": {
    "id": "jJ-fOZ-gsltY"
   },
   "source": [
    "# Softmax Activation"
   ]
  },
  {
   "cell_type": "code",
   "execution_count": 1,
   "metadata": {
    "executionInfo": {
     "elapsed": 331,
     "status": "ok",
     "timestamp": 1673681434161,
     "user": {
      "displayName": "이정구",
      "userId": "10412141110999311561"
     },
     "user_tz": -540
    },
    "id": "RbPgODpVzdHI",
    "tags": []
   },
   "outputs": [],
   "source": [
    "import warnings\n",
    "warnings.filterwarnings('ignore')"
   ]
  },
  {
   "cell_type": "markdown",
   "metadata": {
    "id": "Xhi1blOStA9s"
   },
   "source": [
    "> ## 1) sigmoid( ) & softmax( ) 정의"
   ]
  },
  {
   "cell_type": "markdown",
   "metadata": {
    "id": "Pzl4hOMItH7-"
   },
   "source": [
    "* sigmoid( )"
   ]
  },
  {
   "cell_type": "code",
   "execution_count": 2,
   "metadata": {
    "executionInfo": {
     "elapsed": 7,
     "status": "ok",
     "timestamp": 1673681434481,
     "user": {
      "displayName": "이정구",
      "userId": "10412141110999311561"
     },
     "user_tz": -540
    },
    "id": "y0ONjTJqsaCR",
    "tags": []
   },
   "outputs": [],
   "source": [
    "import numpy as np\n",
    "\n",
    "def sigmoid(x):\n",
    "    y_hat = 1 / (1 + np.exp(-x))\n",
    "    return y_hat"
   ]
  },
  {
   "cell_type": "markdown",
   "metadata": {
    "id": "qVl0OhyfY65L"
   },
   "source": [
    "* sigmoid( ) 시각화"
   ]
  },
  {
   "cell_type": "code",
   "execution_count": 3,
   "metadata": {
    "colab": {
     "base_uri": "https://localhost:8080/",
     "height": 374
    },
    "executionInfo": {
     "elapsed": 445,
     "status": "ok",
     "timestamp": 1673681434920,
     "user": {
      "displayName": "이정구",
      "userId": "10412141110999311561"
     },
     "user_tz": -540
    },
    "id": "xAdS8xnFY-Bl",
    "outputId": "4285799a-f58f-4c13-ba7f-abbe13feb84f",
    "tags": []
   },
   "outputs": [
    {
     "data": {
      "image/png": "[encoded data removed]",
      "text/plain": [
       "<Figure size 648x432 with 1 Axes>"
      ]
     },
     "metadata": {
      "needs_background": "light"
     },
     "output_type": "display_data"
    }
   ],
   "source": [
    "import matplotlib.pyplot as plt\n",
    "\n",
    "n = np.linspace(-10.0, 10.0, 2000)\n",
    "\n",
    "plt.figure(figsize = (9, 6))\n",
    "plt.plot(n, sigmoid(n))\n",
    "plt.show()"
   ]
  },
  {
   "cell_type": "markdown",
   "metadata": {
    "id": "6a4lJs38tLhX"
   },
   "source": [
    "* softmax( )"
   ]
  },
  {
   "cell_type": "code",
   "execution_count": 4,
   "metadata": {
    "executionInfo": {
     "elapsed": 18,
     "status": "ok",
     "timestamp": 1673681434921,
     "user": {
      "displayName": "이정구",
      "userId": "10412141110999311561"
     },
     "user_tz": -540
    },
    "id": "OFVeLSXqskA5",
    "tags": []
   },
   "outputs": [],
   "source": [
    "def softmax(x):\n",
    "    m = np.max(x)\n",
    "    sm = np.exp(x - m)/np.sum(np.exp(x - m))\n",
    "    return sm"
   ]
  },
  {
   "cell_type": "markdown",
   "metadata": {
    "id": "OTP7N5eHYKkV"
   },
   "source": [
    "* softmax( ) 시각화"
   ]
  },
  {
   "cell_type": "code",
   "execution_count": 5,
   "metadata": {
    "colab": {
     "base_uri": "https://localhost:8080/",
     "height": 374
    },
    "executionInfo": {
     "elapsed": 384,
     "status": "ok",
     "timestamp": 1673681435288,
     "user": {
      "displayName": "이정구",
      "userId": "10412141110999311561"
     },
     "user_tz": -540
    },
    "id": "6VcPqT7OYRVE",
    "outputId": "da20aa2b-d859-4bbf-86cc-15efa7304d70",
    "tags": []
   },
   "outputs": [
    {
     "data": {
      "image/png": "[encoded data removed]",
      "text/plain": [
       "<Figure size 648x432 with 1 Axes>"
      ]
     },
     "metadata": {
      "needs_background": "light"
     },
     "output_type": "display_data"
    }
   ],
   "source": [
    "import matplotlib.pyplot as plt\n",
    "\n",
    "n = np.linspace(-10.0, 10.0, 2000)\n",
    "\n",
    "plt.figure(figsize = (9, 6))\n",
    "plt.plot(n, softmax(n))\n",
    "plt.show()"
   ]
  },
  {
   "cell_type": "markdown",
   "metadata": {
    "id": "mqCLHfAFtQgH"
   },
   "source": [
    "> ## 2) sigmoid( ) vs. softmax( ) 결과 비교"
   ]
  },
  {
   "cell_type": "markdown",
   "metadata": {
    "id": "Pdo2vogJuFaF"
   },
   "source": [
    "* 가상의 y_hat"
   ]
  },
  {
   "cell_type": "code",
   "execution_count": 6,
   "metadata": {
    "executionInfo": {
     "elapsed": 384,
     "status": "ok",
     "timestamp": 1673681435290,
     "user": {
      "displayName": "이정구",
      "userId": "10412141110999311561"
     },
     "user_tz": -540
    },
    "id": "pdstsjUrtXl0",
    "tags": []
   },
   "outputs": [],
   "source": [
    "y_hat = np.array([5.2, 4.8, 5.0])"
   ]
  },
  {
   "cell_type": "markdown",
   "metadata": {
    "id": "94oYcUh1wGSM"
   },
   "source": [
    "* Sigmoid Activation 적용"
   ]
  },
  {
   "cell_type": "code",
   "execution_count": 7,
   "metadata": {
    "colab": {
     "base_uri": "https://localhost:8080/"
    },
    "executionInfo": {
     "elapsed": 21,
     "status": "ok",
     "timestamp": 1673681435291,
     "user": {
      "displayName": "이정구",
      "userId": "10412141110999311561"
     },
     "user_tz": -540
    },
    "id": "rSlY9u22thXG",
    "outputId": "8a5cead9-d981-432d-d42d-9cd4302bd044",
    "tags": []
   },
   "outputs": [
    {
     "name": "stdout",
     "output_type": "stream",
     "text": [
      "[0.99451 0.99184 0.99331]\n",
      "2.97966\n"
     ]
    }
   ],
   "source": [
    "np.set_printoptions(suppress = True, precision = 5)\n",
    "\n",
    "print(sigmoid(y_hat))\n",
    "print('%.5f' % np.sum(sigmoid(y_hat)))"
   ]
  },
  {
   "cell_type": "markdown",
   "metadata": {
    "id": "gLj_s_JuwKTD"
   },
   "source": [
    "* Softmax Activation 적용"
   ]
  },
  {
   "cell_type": "code",
   "execution_count": 8,
   "metadata": {
    "colab": {
     "base_uri": "https://localhost:8080/"
    },
    "executionInfo": {
     "elapsed": 20,
     "status": "ok",
     "timestamp": 1673681435292,
     "user": {
      "displayName": "이정구",
      "userId": "10412141110999311561"
     },
     "user_tz": -540
    },
    "id": "hRbTe-hItkGG",
    "outputId": "c1eff991-6821-44f9-e537-d1e9ee9a6407",
    "tags": []
   },
   "outputs": [
    {
     "name": "stdout",
     "output_type": "stream",
     "text": [
      "[0.40176 0.26931 0.32893]\n",
      "1.00000\n"
     ]
    }
   ],
   "source": [
    "np.set_printoptions(suppress = True)\n",
    "\n",
    "print(softmax(y_hat))\n",
    "print('%.5f' % np.sum(softmax(y_hat)))"
   ]
  },
  {
   "cell_type": "markdown",
   "metadata": {
    "id": "XAeK-bzncfvb"
   },
   "source": [
    "> ## 3) 추가 학습 진행(가상) 후 변화 비교"
   ]
  },
  {
   "cell_type": "markdown",
   "metadata": {
    "id": "ILeYBys7wO0t"
   },
   "source": [
    "* 가상의 y_hat 업데이트"
   ]
  },
  {
   "cell_type": "code",
   "execution_count": 9,
   "metadata": {
    "executionInfo": {
     "elapsed": 17,
     "status": "ok",
     "timestamp": 1673681435293,
     "user": {
      "displayName": "이정구",
      "userId": "10412141110999311561"
     },
     "user_tz": -540
    },
    "id": "GyK6c-9UwXMw",
    "tags": []
   },
   "outputs": [],
   "source": [
    "y_hat = np.array([3.8, 1.4, 0.5])"
   ]
  },
  {
   "cell_type": "markdown",
   "metadata": {
    "id": "nEylcUlxbsVT"
   },
   "source": [
    "* Sigmoid Activation 재적용"
   ]
  },
  {
   "cell_type": "code",
   "execution_count": 10,
   "metadata": {
    "colab": {
     "base_uri": "https://localhost:8080/"
    },
    "executionInfo": {
     "elapsed": 17,
     "status": "ok",
     "timestamp": 1673681435294,
     "user": {
      "displayName": "이정구",
      "userId": "10412141110999311561"
     },
     "user_tz": -540
    },
    "id": "EzH3A_PcwjkO",
    "outputId": "63c17b6c-61e1-4611-f7ef-28cdd7964293",
    "tags": []
   },
   "outputs": [
    {
     "name": "stdout",
     "output_type": "stream",
     "text": [
      "[0.97812 0.80218 0.62246]\n",
      "2.40276\n"
     ]
    }
   ],
   "source": [
    "print(sigmoid(y_hat))\n",
    "print('%.5f' % np.sum(sigmoid(y_hat)))"
   ]
  },
  {
   "cell_type": "markdown",
   "metadata": {
    "id": "Q_nrc7efwwkn"
   },
   "source": [
    "* Softmax Activation 재적용"
   ]
  },
  {
   "cell_type": "code",
   "execution_count": 11,
   "metadata": {
    "colab": {
     "base_uri": "https://localhost:8080/"
    },
    "executionInfo": {
     "elapsed": 15,
     "status": "ok",
     "timestamp": 1673681435295,
     "user": {
      "displayName": "이정구",
      "userId": "10412141110999311561"
     },
     "user_tz": -540
    },
    "id": "0g6CtoIEwn-J",
    "outputId": "d505c951-e65d-42af-bd39-917c11248ded",
    "tags": []
   },
   "outputs": [
    {
     "name": "stdout",
     "output_type": "stream",
     "text": [
      "[0.88684 0.08045 0.03271]\n",
      "1.00000\n"
     ]
    }
   ],
   "source": [
    "print(softmax(y_hat))\n",
    "print('%.5f' % np.sum(softmax(y_hat)))"
   ]
  },
  {
   "cell_type": "markdown",
   "metadata": {
    "id": "CG0gWWIdtUy4"
   },
   "source": [
    "# The End"
   ]
  }
 ],
 "metadata": {
  "colab": {
   "provenance": []
  },
  "kernelspec": {
   "display_name": "Python 3",
   "language": "python",
   "name": "python3"
  },
  "language_info": {
   "codemirror_mode": {
    "name": "ipython",
    "version": 3
   },
   "file_extension": ".py",
   "mimetype": "text/x-python",
   "name": "python",
   "nbconvert_exporter": "python",
   "pygments_lexer": "ipython3",
   "version": "3.11.5"
  },
  "toc": {
   "base_numbering": 1,
   "nav_menu": {},
   "number_sections": true,
   "sideBar": true,
   "skip_h1_title": false,
   "title_cell": "Table of Contents",
   "title_sidebar": "Contents",
   "toc_cell": false,
   "toc_position": {},
   "toc_section_display": true,
   "toc_window_display": false
  }
 },
 "nbformat": 4,
 "nbformat_minor": 4
}
