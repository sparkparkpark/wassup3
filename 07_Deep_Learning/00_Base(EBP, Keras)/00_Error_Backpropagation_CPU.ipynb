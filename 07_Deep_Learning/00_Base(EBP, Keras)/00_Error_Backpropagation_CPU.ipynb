{
 "cells": [
  {
   "cell_type": "markdown",
   "metadata": {
    "id": "vwjWOMkD48K3"
   },
   "source": [
    "# Error Backpropagation"
   ]
  },
  {
   "cell_type": "code",
   "execution_count": 1,
   "metadata": {
    "executionInfo": {
     "elapsed": 22,
     "status": "ok",
     "timestamp": 1673400486331,
     "user": {
      "displayName": "이정구",
      "userId": "17400242557229223804"
     },
     "user_tz": -540
    },
    "id": "RbPgODpVzdHI",
    "tags": []
   },
   "outputs": [],
   "source": [
    "import warnings\n",
    "warnings.filterwarnings('ignore')"
   ]
  },
  {
   "cell_type": "markdown",
   "metadata": {
    "id": "V_6gF3Tyc6ld"
   },
   "source": [
    "# I. 실습용 데이터 생성"
   ]
  },
  {
   "cell_type": "code",
   "execution_count": 2,
   "metadata": {
    "executionInfo": {
     "elapsed": 20,
     "status": "ok",
     "timestamp": 1673400486331,
     "user": {
      "displayName": "이정구",
      "userId": "17400242557229223804"
     },
     "user_tz": -540
    },
    "id": "nmamcLBR42N2",
    "tags": []
   },
   "outputs": [],
   "source": [
    "import numpy as np\n",
    "np.set_printoptions(suppress = True, precision = 3)"
   ]
  },
  {
   "cell_type": "markdown",
   "metadata": {
    "id": "XCLxRaYr5jMs"
   },
   "source": [
    "> ## 1) Input : X (4 * 3)"
   ]
  },
  {
   "cell_type": "code",
   "execution_count": 4,
   "metadata": {
    "colab": {
     "base_uri": "https://localhost:8080/"
    },
    "executionInfo": {
     "elapsed": 20,
     "status": "ok",
     "timestamp": 1673400486331,
     "user": {
      "displayName": "이정구",
      "userId": "17400242557229223804"
     },
     "user_tz": -540
    },
    "id": "t4rTAUgV5M8C",
    "outputId": "87e3ed97-011f-4dc3-8299-0064a6590daf",
    "tags": []
   },
   "outputs": [
    {
     "data": {
      "text/plain": [
       "array([[0, 0, 1],\n",
       "       [0, 1, 1],\n",
       "       [1, 0, 1],\n",
       "       [1, 1, 1]])"
      ]
     },
     "execution_count": 4,
     "metadata": {},
     "output_type": "execute_result"
    }
   ],
   "source": [
    "X = np.array([[0, 0, 1],\n",
    "              [0, 1, 1],\n",
    "              [1, 0, 1],\n",
    "              [1, 1, 1]])\n",
    "\n",
    "X"
   ]
  },
  {
   "cell_type": "markdown",
   "metadata": {
    "id": "nhGtxn345nAt"
   },
   "source": [
    "> ## 2) Target : y (4 * 1)"
   ]
  },
  {
   "cell_type": "code",
   "execution_count": 5,
   "metadata": {
    "colab": {
     "base_uri": "https://localhost:8080/"
    },
    "executionInfo": {
     "elapsed": 16,
     "status": "ok",
     "timestamp": 1673400486332,
     "user": {
      "displayName": "이정구",
      "userId": "17400242557229223804"
     },
     "user_tz": -540
    },
    "id": "AFUnqwG35qPl",
    "outputId": "5cef31f1-fa42-4d65-f6c9-369ab7963a63",
    "tags": []
   },
   "outputs": [
    {
     "data": {
      "text/plain": [
       "array([[0.],\n",
       "       [1.],\n",
       "       [1.],\n",
       "       [0.]])"
      ]
     },
     "execution_count": 5,
     "metadata": {},
     "output_type": "execute_result"
    }
   ],
   "source": [
    "y = np.array([0., 1., 1., 0.]).reshape(4, 1)\n",
    "\n",
    "y"
   ]
  },
  {
   "cell_type": "markdown",
   "metadata": {
    "id": "hJjELb_W59N4"
   },
   "source": [
    "> ## 3) W1 (3 * 4)"
   ]
  },
  {
   "cell_type": "code",
   "execution_count": 6,
   "metadata": {
    "colab": {
     "base_uri": "https://localhost:8080/"
    },
    "executionInfo": {
     "elapsed": 15,
     "status": "ok",
     "timestamp": 1673400486332,
     "user": {
      "displayName": "이정구",
      "userId": "17400242557229223804"
     },
     "user_tz": -540
    },
    "id": "Cmaybr756MSU",
    "outputId": "beb77d5f-2372-456b-ed1d-2d55d20489b3",
    "tags": []
   },
   "outputs": [
    {
     "data": {
      "text/plain": [
       "array([[0.844, 0.886, 0.139, 0.061],\n",
       "       [0.192, 0.532, 0.155, 0.827],\n",
       "       [0.92 , 0.015, 0.49 , 0.692]])"
      ]
     },
     "execution_count": 6,
     "metadata": {},
     "output_type": "execute_result"
    }
   ],
   "source": [
    "np.random.seed(2045)\n",
    "W1 = np.random.rand(3, 4)\n",
    "\n",
    "W1"
   ]
  },
  {
   "cell_type": "markdown",
   "metadata": {
    "id": "MUZD1cbH6jKn"
   },
   "source": [
    "> ## 4) W2 (4 * 1)"
   ]
  },
  {
   "cell_type": "code",
   "execution_count": 7,
   "metadata": {
    "colab": {
     "base_uri": "https://localhost:8080/"
    },
    "executionInfo": {
     "elapsed": 13,
     "status": "ok",
     "timestamp": 1673400486332,
     "user": {
      "displayName": "이정구",
      "userId": "17400242557229223804"
     },
     "user_tz": -540
    },
    "id": "gR4bBud36kZA",
    "outputId": "bb1f142a-43f5-477a-c943-cd1025d8b163",
    "tags": []
   },
   "outputs": [
    {
     "data": {
      "text/plain": [
       "array([[0.895],\n",
       "       [0.596],\n",
       "       [0.436],\n",
       "       [0.153]])"
      ]
     },
     "execution_count": 7,
     "metadata": {},
     "output_type": "execute_result"
    }
   ],
   "source": [
    "np.random.seed(2046)\n",
    "W2 = np.random.rand(4)\n",
    "\n",
    "W2 = W2.reshape(4, 1)\n",
    "W2"
   ]
  },
  {
   "cell_type": "markdown",
   "metadata": {
    "id": "xhr-sZlB6yrK"
   },
   "source": [
    "> ## 5) y_hat (4 * 1)"
   ]
  },
  {
   "cell_type": "code",
   "execution_count": 8,
   "metadata": {
    "colab": {
     "base_uri": "https://localhost:8080/"
    },
    "executionInfo": {
     "elapsed": 13,
     "status": "ok",
     "timestamp": 1673400486333,
     "user": {
      "displayName": "이정구",
      "userId": "17400242557229223804"
     },
     "user_tz": -540
    },
    "id": "hBqliGGX6cD3",
    "outputId": "99d7c318-6542-40ab-8a6f-358a3640a79d",
    "tags": []
   },
   "outputs": [
    {
     "data": {
      "text/plain": [
       "array([[0.844],\n",
       "       [0.886],\n",
       "       [0.139],\n",
       "       [0.061]])"
      ]
     },
     "execution_count": 8,
     "metadata": {},
     "output_type": "execute_result"
    }
   ],
   "source": [
    "np.random.seed(2045)\n",
    "y_hat = np.random.rand(4).reshape(4, 1)\n",
    "\n",
    "y_hat"
   ]
  },
  {
   "cell_type": "markdown",
   "metadata": {
    "id": "isQgRrTIMzA3"
   },
   "source": [
    "> ## 6) Layer1 (4 * 4)"
   ]
  },
  {
   "cell_type": "code",
   "execution_count": 9,
   "metadata": {
    "colab": {
     "base_uri": "https://localhost:8080/"
    },
    "executionInfo": {
     "elapsed": 10,
     "status": "ok",
     "timestamp": 1673400486333,
     "user": {
      "displayName": "이정구",
      "userId": "17400242557229223804"
     },
     "user_tz": -540
    },
    "id": "R_bIu-3eM0kk",
    "outputId": "23f16463-287f-4f14-a05a-3465c1594547",
    "tags": []
   },
   "outputs": [
    {
     "data": {
      "text/plain": [
       "array([[1., 1., 1., 1.],\n",
       "       [1., 1., 1., 1.],\n",
       "       [1., 1., 1., 1.],\n",
       "       [1., 1., 1., 1.]])"
      ]
     },
     "execution_count": 9,
     "metadata": {},
     "output_type": "execute_result"
    }
   ],
   "source": [
    "Layer1 = np.ones([4, 4])\n",
    "\n",
    "Layer1"
   ]
  },
  {
   "cell_type": "markdown",
   "metadata": {
    "id": "r4i6wkzEdfMN"
   },
   "source": [
    "# II. 함수 정의"
   ]
  },
  {
   "cell_type": "markdown",
   "metadata": {
    "id": "r8RGZ6E88d5j"
   },
   "source": [
    "> ## 1) sigmoid( )\n",
    "\n",
    "* Activation Function"
   ]
  },
  {
   "cell_type": "code",
   "execution_count": 10,
   "metadata": {
    "executionInfo": {
     "elapsed": 9,
     "status": "ok",
     "timestamp": 1673400486334,
     "user": {
      "displayName": "이정구",
      "userId": "17400242557229223804"
     },
     "user_tz": -540
    },
    "id": "CA-_CbvH8edI",
    "tags": []
   },
   "outputs": [],
   "source": [
    "def sigmoid(x):\n",
    "    y_hat = 1 / (1 + np.exp(-x))\n",
    "    return y_hat"
   ]
  },
  {
   "cell_type": "markdown",
   "metadata": {
    "id": "DbjJb51U8nZs"
   },
   "source": [
    "> ## 2) d_sigmoid( )\n",
    "\n",
    "* sigmoid( ) 미분함수"
   ]
  },
  {
   "cell_type": "code",
   "execution_count": 11,
   "metadata": {
    "executionInfo": {
     "elapsed": 9,
     "status": "ok",
     "timestamp": 1673400486334,
     "user": {
      "displayName": "이정구",
      "userId": "17400242557229223804"
     },
     "user_tz": -540
    },
    "id": "oOXLAPtD8wmm",
    "tags": []
   },
   "outputs": [],
   "source": [
    "def d_sigmoid(x):\n",
    "    dy = x * (1.0 - x)\n",
    "    return dy"
   ]
  },
  {
   "cell_type": "markdown",
   "metadata": {
    "id": "Ywz_NwOs9ODg"
   },
   "source": [
    "> ## 3)Loss function\n",
    "\n",
    "* Mean Squared Error"
   ]
  },
  {
   "cell_type": "code",
   "execution_count": 21,
   "metadata": {
    "executionInfo": {
     "elapsed": 9,
     "status": "ok",
     "timestamp": 1673400486335,
     "user": {
      "displayName": "이정구",
      "userId": "17400242557229223804"
     },
     "user_tz": -540
    },
    "id": "V3_BsSzkPKvk",
    "tags": []
   },
   "outputs": [],
   "source": [
    "# def loss_function(y, y_hat):\n",
    "#   Loss = np.mean((y - y_hat) ** 2)\n",
    "#   return Loss "
   ]
  },
  {
   "cell_type": "markdown",
   "metadata": {
    "id": "ZgYQID-_PNnD"
   },
   "source": [
    "* Binary Cross Entropy Error"
   ]
  },
  {
   "cell_type": "code",
   "execution_count": 12,
   "metadata": {
    "executionInfo": {
     "elapsed": 10,
     "status": "ok",
     "timestamp": 1673400486336,
     "user": {
      "displayName": "이정구",
      "userId": "17400242557229223804"
     },
     "user_tz": -540
    },
    "id": "CSgwchqY9RWu",
    "tags": []
   },
   "outputs": [],
   "source": [
    "def loss_function(y, y_hat):\n",
    "    Loss = -np.mean((y * np.log(y_hat) + (1 - y) * np.log(1 - y_hat)))\n",
    "    return Loss "
   ]
  },
  {
   "cell_type": "markdown",
   "metadata": {
    "id": "spKqVZNMdrMk"
   },
   "source": [
    "# III. 순방향과 역방향 함수 정의"
   ]
  },
  {
   "cell_type": "markdown",
   "metadata": {
    "id": "B1HWVrzN9lVi"
   },
   "source": [
    "> ## 1) Forward_Propagation\n",
    "\n",
    "* Layer1 Output\n",
    " * Layer1 = sigmoid(np.dot(X, W1))\n",
    "* y_hat Output\n",
    " * y_hat = sigmoid(np.dot(Layer1, W2))"
   ]
  },
  {
   "cell_type": "code",
   "execution_count": 14,
   "metadata": {
    "executionInfo": {
     "elapsed": 10,
     "status": "ok",
     "timestamp": 1673400486336,
     "user": {
      "displayName": "이정구",
      "userId": "17400242557229223804"
     },
     "user_tz": -540
    },
    "id": "ffWMkxvV9qkn",
    "tags": []
   },
   "outputs": [],
   "source": [
    "def forwardProp(X, W1, Layer1, W2, y_hat):\n",
    "    Layer1 = sigmoid(np.dot(X, W1))\n",
    "    y_hat = sigmoid(np.dot(Layer1, W2))\n",
    "\n",
    "    return Layer1, y_hat"
   ]
  },
  {
   "cell_type": "markdown",
   "metadata": {
    "id": "eni1-a5N_n5B"
   },
   "source": [
    "> ## 2) Back_Propagation\n",
    "\n",
    "* d_W2\n",
    " * d_W2 = np.dot(Layer1, ((y_hat - y) * d_sigmoid(y_hat)))\n",
    "\n",
    "<br>\n",
    "\n",
    "* d_W1\n",
    " * d_W1 = np.dot(((y_hat - y) * d_sigmoid(y_hat)), np.transpose(W2))\n",
    " * d_W1 = d_W1 * d_sigmoid(Layer1)\n",
    " * d_W1 = np.dot(np.transpose(X), d_W1)\n",
    "\n",
    "<br>\n",
    "\n",
    "* Gradient Descent\n",
    " * W1 = W1 - 0.8 * d_W1\n",
    " * W2 = W2 - 0.8 * d_W2"
   ]
  },
  {
   "cell_type": "code",
   "execution_count": 15,
   "metadata": {
    "executionInfo": {
     "elapsed": 10,
     "status": "ok",
     "timestamp": 1673400486336,
     "user": {
      "displayName": "이정구",
      "userId": "17400242557229223804"
     },
     "user_tz": -540
    },
    "id": "L-s2Q9ZS_rcp",
    "tags": []
   },
   "outputs": [],
   "source": [
    "def backProp(X, y, y_hat, Layer1, W1, W2):\n",
    "    d_W2 = np.dot(Layer1, ((y_hat - y) * d_sigmoid(y_hat)))\n",
    "\n",
    "    d_W1 = np.dot(((y_hat - y) * d_sigmoid(y_hat)), np.transpose(W2))\n",
    "    d_W1 = d_W1 * d_sigmoid(Layer1)\n",
    "    d_W1 = np.dot(np.transpose(X), d_W1)\n",
    "\n",
    "    W1 = W1 - 0.8 * d_W1\n",
    "    W2 = W2 - 0.8 * d_W2\n",
    "\n",
    "    return y_hat, Layer1, W1, W2"
   ]
  },
  {
   "cell_type": "markdown",
   "metadata": {
    "id": "28scK_MSd5-G"
   },
   "source": [
    "# IV. 오차역전파를 적용한 Gradient Descent"
   ]
  },
  {
   "cell_type": "markdown",
   "metadata": {
    "id": "tigTsny7DP0A"
   },
   "source": [
    "* 학습 과정의 Loss 값 저장 객체"
   ]
  },
  {
   "cell_type": "code",
   "execution_count": 16,
   "metadata": {
    "executionInfo": {
     "elapsed": 671,
     "status": "ok",
     "timestamp": 1673400486997,
     "user": {
      "displayName": "이정구",
      "userId": "17400242557229223804"
     },
     "user_tz": -540
    },
    "id": "2sGaiVlkDdQO",
    "tags": []
   },
   "outputs": [],
   "source": [
    "Loss_Record = []"
   ]
  },
  {
   "cell_type": "markdown",
   "metadata": {
    "id": "flESZiq1C_NY"
   },
   "source": [
    "> ## 1) Learning with Error Backpropagation"
   ]
  },
  {
   "cell_type": "code",
   "execution_count": 18,
   "metadata": {
    "executionInfo": {
     "elapsed": 58,
     "status": "ok",
     "timestamp": 1673400486999,
     "user": {
      "displayName": "이정구",
      "userId": "17400242557229223804"
     },
     "user_tz": -540
    },
    "id": "DUbWjBSlBhQw",
    "tags": []
   },
   "outputs": [],
   "source": [
    "for k in range(0, 2000):\n",
    "    Layer1, y_hat = forwardProp(X, W1, Layer1, W2, y_hat)\n",
    "    y_hat, Layer1, W1, W2 = backProp(X, y, y_hat, Layer1, W1, W2)\n",
    "    \n",
    "    Loss_Record.append(loss_function(y, y_hat))"
   ]
  },
  {
   "cell_type": "markdown",
   "metadata": {
    "id": "UyL7tvEmeKzJ"
   },
   "source": [
    "> ## 2) Parameter Update Check"
   ]
  },
  {
   "cell_type": "markdown",
   "metadata": {
    "id": "DBArPzO-eVJ8"
   },
   "source": [
    "* W1"
   ]
  },
  {
   "cell_type": "code",
   "execution_count": 19,
   "metadata": {
    "colab": {
     "base_uri": "https://localhost:8080/"
    },
    "executionInfo": {
     "elapsed": 59,
     "status": "ok",
     "timestamp": 1673400487005,
     "user": {
      "displayName": "이정구",
      "userId": "17400242557229223804"
     },
     "user_tz": -540
    },
    "id": "uYEZADiXCcLH",
    "outputId": "851bc6ff-864e-4d2a-8973-f0057f66e5f1",
    "tags": []
   },
   "outputs": [
    {
     "data": {
      "text/plain": [
       "array([[ 4.255, -3.563,  5.718,  2.954],\n",
       "       [ 3.347, -3.932,  6.322,  3.184],\n",
       "       [-5.588,  1.478, -2.641, -4.433]])"
      ]
     },
     "execution_count": 19,
     "metadata": {},
     "output_type": "execute_result"
    }
   ],
   "source": [
    "W1"
   ]
  },
  {
   "cell_type": "markdown",
   "metadata": {
    "id": "yHWhOX6keZvk"
   },
   "source": [
    "* W2"
   ]
  },
  {
   "cell_type": "code",
   "execution_count": 20,
   "metadata": {
    "colab": {
     "base_uri": "https://localhost:8080/"
    },
    "executionInfo": {
     "elapsed": 50,
     "status": "ok",
     "timestamp": 1673400487007,
     "user": {
      "displayName": "이정구",
      "userId": "17400242557229223804"
     },
     "user_tz": -540
    },
    "id": "Q0I414HKCfKE",
    "outputId": "f246bab0-819b-4bec-e7ea-05835d5ccfd8",
    "tags": []
   },
   "outputs": [
    {
     "data": {
      "text/plain": [
       "array([[ -1.608],\n",
       "       [ -4.844],\n",
       "       [  7.297],\n",
       "       [-11.393]])"
      ]
     },
     "execution_count": 20,
     "metadata": {},
     "output_type": "execute_result"
    }
   ],
   "source": [
    "W2"
   ]
  },
  {
   "cell_type": "markdown",
   "metadata": {
    "id": "acz3_Hq3eeHq"
   },
   "source": [
    "* y_hat"
   ]
  },
  {
   "cell_type": "code",
   "execution_count": 21,
   "metadata": {
    "colab": {
     "base_uri": "https://localhost:8080/"
    },
    "executionInfo": {
     "elapsed": 49,
     "status": "ok",
     "timestamp": 1673400487013,
     "user": {
      "displayName": "이정구",
      "userId": "17400242557229223804"
     },
     "user_tz": -540
    },
    "id": "Q1onLUgqCiLc",
    "outputId": "67d36690-1c9c-4069-c480-911a01107375",
    "tags": []
   },
   "outputs": [
    {
     "data": {
      "text/plain": [
       "array([[0.027],\n",
       "       [0.983],\n",
       "       [0.982],\n",
       "       [0.022]])"
      ]
     },
     "execution_count": 21,
     "metadata": {},
     "output_type": "execute_result"
    }
   ],
   "source": [
    "# y_hat.round()\n",
    "\n",
    "y_hat"
   ]
  },
  {
   "cell_type": "markdown",
   "metadata": {
    "id": "Be6tJqzueP5W"
   },
   "source": [
    "> ## 3) Visualization"
   ]
  },
  {
   "cell_type": "code",
   "execution_count": 22,
   "metadata": {
    "colab": {
     "base_uri": "https://localhost:8080/",
     "height": 0
    },
    "executionInfo": {
     "elapsed": 45,
     "status": "ok",
     "timestamp": 1673400487015,
     "user": {
      "displayName": "이정구",
      "userId": "17400242557229223804"
     },
     "user_tz": -540
    },
    "id": "zcq_q33bEgme",
    "outputId": "2c702f39-7695-4eea-dda5-c1e76eea13d8",
    "tags": []
   },
   "outputs": [
    {
     "data": {
      "image/png": "[encoded data removed]",
      "text/plain": [
       "<Figure size 648x432 with 1 Axes>"
      ]
     },
     "metadata": {
      "needs_background": "light"
     },
     "output_type": "display_data"
    }
   ],
   "source": [
    "import matplotlib.pyplot as plt\n",
    "\n",
    "plt.figure(figsize = (9, 6))\n",
    "plt.plot(Loss_Record)\n",
    "plt.show()"
   ]
  },
  {
   "cell_type": "markdown",
   "metadata": {
    "id": "-FApr_T2eleb"
   },
   "source": [
    "# The End"
   ]
  }
 ],
 "metadata": {
  "colab": {
   "collapsed_sections": [
    "-FApr_T2eleb"
   ],
   "provenance": []
  },
  "kernelspec": {
   "display_name": "Python 3",
   "language": "python",
   "name": "python3"
  },
  "language_info": {
   "codemirror_mode": {
    "name": "ipython",
    "version": 3
   },
   "file_extension": ".py",
   "mimetype": "text/x-python",
   "name": "python",
   "nbconvert_exporter": "python",
   "pygments_lexer": "ipython3",
   "version": "3.11.5"
  },
  "toc": {
   "base_numbering": 1,
   "nav_menu": {},
   "number_sections": true,
   "sideBar": true,
   "skip_h1_title": false,
   "title_cell": "Table of Contents",
   "title_sidebar": "Contents",
   "toc_cell": false,
   "toc_position": {},
   "toc_section_display": true,
   "toc_window_display": false
  }
 },
 "nbformat": 4,
 "nbformat_minor": 4
}
