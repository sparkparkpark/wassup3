{
 "cells": [
  {
   "cell_type": "markdown",
   "metadata": {
    "id": "RMLHu3RZ5lWK"
   },
   "source": [
    "# Keras iris Modeling"
   ]
  },
  {
   "cell_type": "code",
   "execution_count": 10,
   "metadata": {
    "executionInfo": {
     "elapsed": 19,
     "status": "ok",
     "timestamp": 1673400502205,
     "user": {
      "displayName": "이정구",
      "userId": "17400242557229223804"
     },
     "user_tz": -540
    },
    "id": "RbPgODpVzdHI",
    "tags": []
   },
   "outputs": [],
   "source": [
    "import warnings\n",
    "warnings.filterwarnings('ignore')"
   ]
  },
  {
   "cell_type": "markdown",
   "metadata": {
    "id": "Z0vCjo566DU3"
   },
   "source": [
    "> ## 1) 실습용 데이터 설정\n",
    "\n",
    "* iris.csv"
   ]
  },
  {
   "cell_type": "code",
   "execution_count": 11,
   "metadata": {
    "executionInfo": {
     "elapsed": 3187,
     "status": "ok",
     "timestamp": 1673400505376,
     "user": {
      "displayName": "이정구",
      "userId": "17400242557229223804"
     },
     "user_tz": -540
    },
    "id": "LfEBY4JwDS1i",
    "tags": []
   },
   "outputs": [],
   "source": [
    "import seaborn as sns\n",
    "\n",
    "iris = sns.load_dataset('iris')"
   ]
  },
  {
   "cell_type": "markdown",
   "metadata": {
    "id": "_2m1joqE6eEq"
   },
   "source": [
    "* pandas DataFrame"
   ]
  },
  {
   "cell_type": "code",
   "execution_count": 12,
   "metadata": {
    "colab": {
     "base_uri": "https://localhost:8080/"
    },
    "executionInfo": {
     "elapsed": 14,
     "status": "ok",
     "timestamp": 1673400505376,
     "user": {
      "displayName": "이정구",
      "userId": "17400242557229223804"
     },
     "user_tz": -540
    },
    "id": "F6MvmhtB53CS",
    "outputId": "c9c76179-369c-4d62-caed-a0d844976412",
    "tags": []
   },
   "outputs": [
    {
     "name": "stdout",
     "output_type": "stream",
     "text": [
      "<class 'pandas.core.frame.DataFrame'>\n",
      "RangeIndex: 150 entries, 0 to 149\n",
      "Data columns (total 5 columns):\n",
      " #   Column        Non-Null Count  Dtype  \n",
      "---  ------        --------------  -----  \n",
      " 0   sepal_length  150 non-null    float64\n",
      " 1   sepal_width   150 non-null    float64\n",
      " 2   petal_length  150 non-null    float64\n",
      " 3   petal_width   150 non-null    float64\n",
      " 4   species       150 non-null    object \n",
      "dtypes: float64(4), object(1)\n",
      "memory usage: 6.0+ KB\n"
     ]
    }
   ],
   "source": [
    "iris.info()"
   ]
  },
  {
   "cell_type": "code",
   "execution_count": 13,
   "metadata": {
    "colab": {
     "base_uri": "https://localhost:8080/",
     "height": 143
    },
    "executionInfo": {
     "elapsed": 10,
     "status": "ok",
     "timestamp": 1673400505377,
     "user": {
      "displayName": "이정구",
      "userId": "17400242557229223804"
     },
     "user_tz": -540
    },
    "id": "7l2ojjz_D39D",
    "outputId": "12d29ff6-8f2a-451e-8a6c-bf324aebd58d",
    "tags": []
   },
   "outputs": [
    {
     "data": {
      "text/html": [
       "<div>\n",
       "<style scoped>\n",
       "    .dataframe tbody tr th:only-of-type {\n",
       "        vertical-align: middle;\n",
       "    }\n",
       "\n",
       "    .dataframe tbody tr th {\n",
       "        vertical-align: top;\n",
       "    }\n",
       "\n",
       "    .dataframe thead th {\n",
       "        text-align: right;\n",
       "    }\n",
       "</style>\n",
       "<table border=\"1\" class=\"dataframe\">\n",
       "  <thead>\n",
       "    <tr style=\"text-align: right;\">\n",
       "      <th></th>\n",
       "      <th>sepal_length</th>\n",
       "      <th>sepal_width</th>\n",
       "      <th>petal_length</th>\n",
       "      <th>petal_width</th>\n",
       "      <th>species</th>\n",
       "    </tr>\n",
       "  </thead>\n",
       "  <tbody>\n",
       "    <tr>\n",
       "      <th>0</th>\n",
       "      <td>5.1</td>\n",
       "      <td>3.5</td>\n",
       "      <td>1.4</td>\n",
       "      <td>0.2</td>\n",
       "      <td>setosa</td>\n",
       "    </tr>\n",
       "    <tr>\n",
       "      <th>1</th>\n",
       "      <td>4.9</td>\n",
       "      <td>3.0</td>\n",
       "      <td>1.4</td>\n",
       "      <td>0.2</td>\n",
       "      <td>setosa</td>\n",
       "    </tr>\n",
       "    <tr>\n",
       "      <th>2</th>\n",
       "      <td>4.7</td>\n",
       "      <td>3.2</td>\n",
       "      <td>1.3</td>\n",
       "      <td>0.2</td>\n",
       "      <td>setosa</td>\n",
       "    </tr>\n",
       "  </tbody>\n",
       "</table>\n",
       "</div>"
      ],
      "text/plain": [
       "   sepal_length  sepal_width  petal_length  petal_width species\n",
       "0           5.1          3.5           1.4          0.2  setosa\n",
       "1           4.9          3.0           1.4          0.2  setosa\n",
       "2           4.7          3.2           1.3          0.2  setosa"
      ]
     },
     "execution_count": 13,
     "metadata": {},
     "output_type": "execute_result"
    }
   ],
   "source": [
    "iris.head(3)"
   ]
  },
  {
   "cell_type": "markdown",
   "metadata": {
    "id": "I2Forf0oXF8c"
   },
   "source": [
    "> ## 2) Version check"
   ]
  },
  {
   "cell_type": "markdown",
   "metadata": {
    "id": "uPaHtu9NOYaX"
   },
   "source": [
    "* TensorFlow Version"
   ]
  },
  {
   "cell_type": "code",
   "execution_count": 14,
   "metadata": {
    "colab": {
     "base_uri": "https://localhost:8080/",
     "height": 35
    },
    "executionInfo": {
     "elapsed": 4296,
     "status": "ok",
     "timestamp": 1673400509664,
     "user": {
      "displayName": "이정구",
      "userId": "17400242557229223804"
     },
     "user_tz": -540
    },
    "id": "X6xKtsfgOTso",
    "outputId": "cd1e9f88-0704-4924-9d3a-d4519e5501f4",
    "tags": []
   },
   "outputs": [
    {
     "data": {
      "text/plain": [
       "'2.15.0'"
      ]
     },
     "execution_count": 14,
     "metadata": {},
     "output_type": "execute_result"
    }
   ],
   "source": [
    "import tensorflow\n",
    "\n",
    "tensorflow.__version__"
   ]
  },
  {
   "cell_type": "markdown",
   "metadata": {
    "id": "Ydu4ux7dOm2N"
   },
   "source": [
    "* Keras Version"
   ]
  },
  {
   "cell_type": "code",
   "execution_count": 15,
   "metadata": {
    "colab": {
     "base_uri": "https://localhost:8080/",
     "height": 35
    },
    "executionInfo": {
     "elapsed": 31,
     "status": "ok",
     "timestamp": 1673400509666,
     "user": {
      "displayName": "이정구",
      "userId": "17400242557229223804"
     },
     "user_tz": -540
    },
    "id": "zhMz9QSBOjTK",
    "outputId": "f2e94db4-4dff-46ce-a9fa-4e2be29765de",
    "tags": []
   },
   "outputs": [
    {
     "data": {
      "text/plain": [
       "'2.15.0'"
      ]
     },
     "execution_count": 15,
     "metadata": {},
     "output_type": "execute_result"
    }
   ],
   "source": [
    "import keras\n",
    "\n",
    "keras.__version__"
   ]
  },
  {
   "cell_type": "markdown",
   "metadata": {
    "id": "0a9zRCoM6iHg"
   },
   "source": [
    "# I. Data Preprocessing"
   ]
  },
  {
   "cell_type": "markdown",
   "metadata": {
    "id": "WIq-NRIq659b"
   },
   "source": [
    "> ## 1) iris.Species 빈도분석"
   ]
  },
  {
   "cell_type": "markdown",
   "metadata": {
    "id": "sg3g1ycL0bj_"
   },
   "source": [
    "* Species : setosa, versicolor, virginica"
   ]
  },
  {
   "cell_type": "code",
   "execution_count": 16,
   "metadata": {
    "colab": {
     "base_uri": "https://localhost:8080/"
    },
    "executionInfo": {
     "elapsed": 28,
     "status": "ok",
     "timestamp": 1673400509666,
     "user": {
      "displayName": "이정구",
      "userId": "17400242557229223804"
     },
     "user_tz": -540
    },
    "id": "Ccv6L9LX6mBD",
    "outputId": "dd67eba7-840c-437e-88c6-38f4e1c6f919",
    "tags": []
   },
   "outputs": [
    {
     "data": {
      "text/plain": [
       "setosa        50\n",
       "versicolor    50\n",
       "virginica     50\n",
       "Name: species, dtype: int64"
      ]
     },
     "execution_count": 16,
     "metadata": {},
     "output_type": "execute_result"
    }
   ],
   "source": [
    "iris.species.value_counts()"
   ]
  },
  {
   "cell_type": "markdown",
   "metadata": {
    "id": "JrKQmY9s7WzT"
   },
   "source": [
    "> ## 2) 분석 변수 선택\n",
    "\n",
    "* X: 'sepal_length', 'sepal_width', 'petal_length', 'petal_width'\n",
    "* y: 'species'"
   ]
  },
  {
   "cell_type": "code",
   "execution_count": 17,
   "metadata": {
    "colab": {
     "base_uri": "https://localhost:8080/"
    },
    "executionInfo": {
     "elapsed": 23,
     "status": "ok",
     "timestamp": 1673400509667,
     "user": {
      "displayName": "이정구",
      "userId": "17400242557229223804"
     },
     "user_tz": -540
    },
    "id": "tPJYM6B3Y64I",
    "outputId": "21f014de-19ee-4f40-9480-a11f343ff967",
    "tags": []
   },
   "outputs": [
    {
     "data": {
      "text/plain": [
       "((150, 4), (150,))"
      ]
     },
     "execution_count": 17,
     "metadata": {},
     "output_type": "execute_result"
    }
   ],
   "source": [
    "X = iris[['sepal_length', 'sepal_width', 'petal_length', 'petal_width']]\n",
    "y = iris['species']\n",
    "\n",
    "X.shape, y.shape"
   ]
  },
  {
   "cell_type": "markdown",
   "metadata": {
    "id": "lUx516tc8E6Q"
   },
   "source": [
    "> ## 3) One Hot Encoding with sklearn & Keras"
   ]
  },
  {
   "cell_type": "markdown",
   "metadata": {
    "id": "9lm5fWHmIgOd"
   },
   "source": [
    "* LabelEncoder( )\n",
    " - ['setosa', 'versicolor', 'virginica'] to [0, 1, 2]"
   ]
  },
  {
   "cell_type": "code",
   "execution_count": 18,
   "metadata": {
    "colab": {
     "base_uri": "https://localhost:8080/"
    },
    "executionInfo": {
     "elapsed": 445,
     "status": "ok",
     "timestamp": 1673400510093,
     "user": {
      "displayName": "이정구",
      "userId": "17400242557229223804"
     },
     "user_tz": -540
    },
    "id": "iFhNzeIMbXyV",
    "outputId": "f2589627-0487-40c2-961b-b3087dad9a10",
    "tags": []
   },
   "outputs": [
    {
     "data": {
      "text/plain": [
       "array([0, 0, 0, 0, 0, 0, 0, 0, 0, 0, 0, 0, 0, 0, 0, 0, 0, 0, 0, 0, 0, 0,\n",
       "       0, 0, 0, 0, 0, 0, 0, 0, 0, 0, 0, 0, 0, 0, 0, 0, 0, 0, 0, 0, 0, 0,\n",
       "       0, 0, 0, 0, 0, 0, 1, 1, 1, 1, 1, 1, 1, 1, 1, 1, 1, 1, 1, 1, 1, 1,\n",
       "       1, 1, 1, 1, 1, 1, 1, 1, 1, 1, 1, 1, 1, 1, 1, 1, 1, 1, 1, 1, 1, 1,\n",
       "       1, 1, 1, 1, 1, 1, 1, 1, 1, 1, 1, 1, 2, 2, 2, 2, 2, 2, 2, 2, 2, 2,\n",
       "       2, 2, 2, 2, 2, 2, 2, 2, 2, 2, 2, 2, 2, 2, 2, 2, 2, 2, 2, 2, 2, 2,\n",
       "       2, 2, 2, 2, 2, 2, 2, 2, 2, 2, 2, 2, 2, 2, 2, 2, 2, 2])"
      ]
     },
     "execution_count": 18,
     "metadata": {},
     "output_type": "execute_result"
    }
   ],
   "source": [
    "from sklearn.preprocessing import LabelEncoder\n",
    "\n",
    "encoder =  LabelEncoder()\n",
    "LBE_y = encoder.fit_transform(y)\n",
    "\n",
    "LBE_y"
   ]
  },
  {
   "cell_type": "markdown",
   "metadata": {
    "id": "k7LEIdH3JAtw"
   },
   "source": [
    "* One-Hot Encoding - to_categorical( )"
   ]
  },
  {
   "cell_type": "code",
   "execution_count": 19,
   "metadata": {
    "colab": {
     "base_uri": "https://localhost:8080/"
    },
    "collapsed": true,
    "executionInfo": {
     "elapsed": 17,
     "status": "ok",
     "timestamp": 1673400510095,
     "user": {
      "displayName": "이정구",
      "userId": "17400242557229223804"
     },
     "user_tz": -540
    },
    "id": "hxdLQPuuZQ13",
    "jupyter": {
     "outputs_hidden": true
    },
    "outputId": "9b03f6d6-1ba0-4102-e37b-5b652bc572d2",
    "tags": []
   },
   "outputs": [
    {
     "data": {
      "text/plain": [
       "array([[1., 0., 0.],\n",
       "       [1., 0., 0.],\n",
       "       [1., 0., 0.],\n",
       "       [1., 0., 0.],\n",
       "       [1., 0., 0.],\n",
       "       [1., 0., 0.],\n",
       "       [1., 0., 0.],\n",
       "       [1., 0., 0.],\n",
       "       [1., 0., 0.],\n",
       "       [1., 0., 0.],\n",
       "       [1., 0., 0.],\n",
       "       [1., 0., 0.],\n",
       "       [1., 0., 0.],\n",
       "       [1., 0., 0.],\n",
       "       [1., 0., 0.],\n",
       "       [1., 0., 0.],\n",
       "       [1., 0., 0.],\n",
       "       [1., 0., 0.],\n",
       "       [1., 0., 0.],\n",
       "       [1., 0., 0.],\n",
       "       [1., 0., 0.],\n",
       "       [1., 0., 0.],\n",
       "       [1., 0., 0.],\n",
       "       [1., 0., 0.],\n",
       "       [1., 0., 0.],\n",
       "       [1., 0., 0.],\n",
       "       [1., 0., 0.],\n",
       "       [1., 0., 0.],\n",
       "       [1., 0., 0.],\n",
       "       [1., 0., 0.],\n",
       "       [1., 0., 0.],\n",
       "       [1., 0., 0.],\n",
       "       [1., 0., 0.],\n",
       "       [1., 0., 0.],\n",
       "       [1., 0., 0.],\n",
       "       [1., 0., 0.],\n",
       "       [1., 0., 0.],\n",
       "       [1., 0., 0.],\n",
       "       [1., 0., 0.],\n",
       "       [1., 0., 0.],\n",
       "       [1., 0., 0.],\n",
       "       [1., 0., 0.],\n",
       "       [1., 0., 0.],\n",
       "       [1., 0., 0.],\n",
       "       [1., 0., 0.],\n",
       "       [1., 0., 0.],\n",
       "       [1., 0., 0.],\n",
       "       [1., 0., 0.],\n",
       "       [1., 0., 0.],\n",
       "       [1., 0., 0.],\n",
       "       [0., 1., 0.],\n",
       "       [0., 1., 0.],\n",
       "       [0., 1., 0.],\n",
       "       [0., 1., 0.],\n",
       "       [0., 1., 0.],\n",
       "       [0., 1., 0.],\n",
       "       [0., 1., 0.],\n",
       "       [0., 1., 0.],\n",
       "       [0., 1., 0.],\n",
       "       [0., 1., 0.],\n",
       "       [0., 1., 0.],\n",
       "       [0., 1., 0.],\n",
       "       [0., 1., 0.],\n",
       "       [0., 1., 0.],\n",
       "       [0., 1., 0.],\n",
       "       [0., 1., 0.],\n",
       "       [0., 1., 0.],\n",
       "       [0., 1., 0.],\n",
       "       [0., 1., 0.],\n",
       "       [0., 1., 0.],\n",
       "       [0., 1., 0.],\n",
       "       [0., 1., 0.],\n",
       "       [0., 1., 0.],\n",
       "       [0., 1., 0.],\n",
       "       [0., 1., 0.],\n",
       "       [0., 1., 0.],\n",
       "       [0., 1., 0.],\n",
       "       [0., 1., 0.],\n",
       "       [0., 1., 0.],\n",
       "       [0., 1., 0.],\n",
       "       [0., 1., 0.],\n",
       "       [0., 1., 0.],\n",
       "       [0., 1., 0.],\n",
       "       [0., 1., 0.],\n",
       "       [0., 1., 0.],\n",
       "       [0., 1., 0.],\n",
       "       [0., 1., 0.],\n",
       "       [0., 1., 0.],\n",
       "       [0., 1., 0.],\n",
       "       [0., 1., 0.],\n",
       "       [0., 1., 0.],\n",
       "       [0., 1., 0.],\n",
       "       [0., 1., 0.],\n",
       "       [0., 1., 0.],\n",
       "       [0., 1., 0.],\n",
       "       [0., 1., 0.],\n",
       "       [0., 1., 0.],\n",
       "       [0., 1., 0.],\n",
       "       [0., 1., 0.],\n",
       "       [0., 1., 0.],\n",
       "       [0., 0., 1.],\n",
       "       [0., 0., 1.],\n",
       "       [0., 0., 1.],\n",
       "       [0., 0., 1.],\n",
       "       [0., 0., 1.],\n",
       "       [0., 0., 1.],\n",
       "       [0., 0., 1.],\n",
       "       [0., 0., 1.],\n",
       "       [0., 0., 1.],\n",
       "       [0., 0., 1.],\n",
       "       [0., 0., 1.],\n",
       "       [0., 0., 1.],\n",
       "       [0., 0., 1.],\n",
       "       [0., 0., 1.],\n",
       "       [0., 0., 1.],\n",
       "       [0., 0., 1.],\n",
       "       [0., 0., 1.],\n",
       "       [0., 0., 1.],\n",
       "       [0., 0., 1.],\n",
       "       [0., 0., 1.],\n",
       "       [0., 0., 1.],\n",
       "       [0., 0., 1.],\n",
       "       [0., 0., 1.],\n",
       "       [0., 0., 1.],\n",
       "       [0., 0., 1.],\n",
       "       [0., 0., 1.],\n",
       "       [0., 0., 1.],\n",
       "       [0., 0., 1.],\n",
       "       [0., 0., 1.],\n",
       "       [0., 0., 1.],\n",
       "       [0., 0., 1.],\n",
       "       [0., 0., 1.],\n",
       "       [0., 0., 1.],\n",
       "       [0., 0., 1.],\n",
       "       [0., 0., 1.],\n",
       "       [0., 0., 1.],\n",
       "       [0., 0., 1.],\n",
       "       [0., 0., 1.],\n",
       "       [0., 0., 1.],\n",
       "       [0., 0., 1.],\n",
       "       [0., 0., 1.],\n",
       "       [0., 0., 1.],\n",
       "       [0., 0., 1.],\n",
       "       [0., 0., 1.],\n",
       "       [0., 0., 1.],\n",
       "       [0., 0., 1.],\n",
       "       [0., 0., 1.],\n",
       "       [0., 0., 1.],\n",
       "       [0., 0., 1.],\n",
       "       [0., 0., 1.]], dtype=float32)"
      ]
     },
     "execution_count": 19,
     "metadata": {},
     "output_type": "execute_result"
    }
   ],
   "source": [
    "from tensorflow.keras.utils import to_categorical\n",
    "\n",
    "OHE_y = to_categorical(LBE_y)\n",
    "\n",
    "OHE_y"
   ]
  },
  {
   "cell_type": "markdown",
   "metadata": {
    "id": "8zievJ6A8dQc"
   },
   "source": [
    "> ## 4) train_test_split( )"
   ]
  },
  {
   "cell_type": "markdown",
   "metadata": {
    "id": "CT8iuCjxJdIn"
   },
   "source": [
    "* 7 : 3"
   ]
  },
  {
   "cell_type": "code",
   "execution_count": 20,
   "metadata": {
    "colab": {
     "base_uri": "https://localhost:8080/"
    },
    "executionInfo": {
     "elapsed": 15,
     "status": "ok",
     "timestamp": 1673400510096,
     "user": {
      "displayName": "이정구",
      "userId": "17400242557229223804"
     },
     "user_tz": -540
    },
    "id": "WIiSOik0dGct",
    "outputId": "3d39739d-9758-4514-8025-99d0c2d70266",
    "tags": []
   },
   "outputs": [
    {
     "data": {
      "text/plain": [
       "((105, 4), (45, 4), (105, 3), (45, 3))"
      ]
     },
     "execution_count": 20,
     "metadata": {},
     "output_type": "execute_result"
    }
   ],
   "source": [
    "from sklearn.model_selection import train_test_split\n",
    "\n",
    "X_train, X_test, y_train, y_test = train_test_split(X, OHE_y, \n",
    "                                                    test_size = 0.3, \n",
    "                                                    random_state = 2045) \n",
    "\n",
    "X_train.shape, X_test.shape, y_train.shape, y_test.shape"
   ]
  },
  {
   "cell_type": "code",
   "execution_count": 21,
   "metadata": {
    "tags": []
   },
   "outputs": [
    {
     "data": {
      "text/html": [
       "<div>\n",
       "<style scoped>\n",
       "    .dataframe tbody tr th:only-of-type {\n",
       "        vertical-align: middle;\n",
       "    }\n",
       "\n",
       "    .dataframe tbody tr th {\n",
       "        vertical-align: top;\n",
       "    }\n",
       "\n",
       "    .dataframe thead th {\n",
       "        text-align: right;\n",
       "    }\n",
       "</style>\n",
       "<table border=\"1\" class=\"dataframe\">\n",
       "  <thead>\n",
       "    <tr style=\"text-align: right;\">\n",
       "      <th></th>\n",
       "      <th>sepal_length</th>\n",
       "      <th>sepal_width</th>\n",
       "      <th>petal_length</th>\n",
       "      <th>petal_width</th>\n",
       "    </tr>\n",
       "  </thead>\n",
       "  <tbody>\n",
       "    <tr>\n",
       "      <th>40</th>\n",
       "      <td>5.0</td>\n",
       "      <td>3.5</td>\n",
       "      <td>1.3</td>\n",
       "      <td>0.3</td>\n",
       "    </tr>\n",
       "    <tr>\n",
       "      <th>83</th>\n",
       "      <td>6.0</td>\n",
       "      <td>2.7</td>\n",
       "      <td>5.1</td>\n",
       "      <td>1.6</td>\n",
       "    </tr>\n",
       "    <tr>\n",
       "      <th>110</th>\n",
       "      <td>6.5</td>\n",
       "      <td>3.2</td>\n",
       "      <td>5.1</td>\n",
       "      <td>2.0</td>\n",
       "    </tr>\n",
       "    <tr>\n",
       "      <th>78</th>\n",
       "      <td>6.0</td>\n",
       "      <td>2.9</td>\n",
       "      <td>4.5</td>\n",
       "      <td>1.5</td>\n",
       "    </tr>\n",
       "    <tr>\n",
       "      <th>93</th>\n",
       "      <td>5.0</td>\n",
       "      <td>2.3</td>\n",
       "      <td>3.3</td>\n",
       "      <td>1.0</td>\n",
       "    </tr>\n",
       "  </tbody>\n",
       "</table>\n",
       "</div>"
      ],
      "text/plain": [
       "     sepal_length  sepal_width  petal_length  petal_width\n",
       "40            5.0          3.5           1.3          0.3\n",
       "83            6.0          2.7           5.1          1.6\n",
       "110           6.5          3.2           5.1          2.0\n",
       "78            6.0          2.9           4.5          1.5\n",
       "93            5.0          2.3           3.3          1.0"
      ]
     },
     "execution_count": 21,
     "metadata": {},
     "output_type": "execute_result"
    }
   ],
   "source": [
    "X_train.head()"
   ]
  },
  {
   "cell_type": "markdown",
   "metadata": {
    "id": "_WuSRwBd8oxV"
   },
   "source": [
    "# II. Keras Modeling"
   ]
  },
  {
   "cell_type": "markdown",
   "metadata": {
    "id": "5RHmF1kr9heb"
   },
   "source": [
    "> ## 1) Keras models & layers import"
   ]
  },
  {
   "cell_type": "code",
   "execution_count": 22,
   "metadata": {
    "executionInfo": {
     "elapsed": 10,
     "status": "ok",
     "timestamp": 1673400510097,
     "user": {
      "displayName": "이정구",
      "userId": "17400242557229223804"
     },
     "user_tz": -540
    },
    "id": "K0DN73_6duqG",
    "tags": []
   },
   "outputs": [],
   "source": [
    "from tensorflow.keras import models \n",
    "from tensorflow.keras import layers"
   ]
  },
  {
   "cell_type": "markdown",
   "metadata": {
    "id": "-rDeiCMV-eKV"
   },
   "source": [
    "> ## 2) Model Define"
   ]
  },
  {
   "cell_type": "markdown",
   "metadata": {
    "id": "1ix6_3Tk-yWW"
   },
   "source": [
    "* 모델 신경망 구조 정의"
   ]
  },
  {
   "cell_type": "code",
   "execution_count": 23,
   "metadata": {
    "executionInfo": {
     "elapsed": 394,
     "status": "ok",
     "timestamp": 1673400510481,
     "user": {
      "displayName": "이정구",
      "userId": "17400242557229223804"
     },
     "user_tz": -540
    },
    "id": "DJ8uzQMSemA-",
    "tags": []
   },
   "outputs": [],
   "source": [
    "Model_iris = models.Sequential() # 순차적 모델\n",
    "\n",
    "# Dense = Fully Connected layer\n",
    "Model_iris.add(layers.Dense(16, activation = 'relu', input_shape = (4,)))\n",
    "Model_iris.add(layers.Dense(8, activation = 'relu'))\n",
    "Model_iris.add(layers.Dense(3, activation = 'softmax'))"
   ]
  },
  {
   "cell_type": "markdown",
   "metadata": {
    "id": "U0vAUcHx-zdW"
   },
   "source": [
    "* 모델 구조 확인\n",
    " - Layers & Parameters"
   ]
  },
  {
   "cell_type": "code",
   "execution_count": 24,
   "metadata": {
    "colab": {
     "base_uri": "https://localhost:8080/"
    },
    "executionInfo": {
     "elapsed": 23,
     "status": "ok",
     "timestamp": 1673400510482,
     "user": {
      "displayName": "이정구",
      "userId": "17400242557229223804"
     },
     "user_tz": -540
    },
    "id": "1sfOdgz2jQeM",
    "outputId": "15c10d09-a491-448c-b7d4-1436de3d4314",
    "tags": []
   },
   "outputs": [
    {
     "name": "stdout",
     "output_type": "stream",
     "text": [
      "Model: \"sequential\"\n",
      "_________________________________________________________________\n",
      " Layer (type)                Output Shape              Param #   \n",
      "=================================================================\n",
      " dense (Dense)               (None, 16)                80        \n",
      "                                                                 \n",
      " dense_1 (Dense)             (None, 8)                 136       \n",
      "                                                                 \n",
      " dense_2 (Dense)             (None, 3)                 27        \n",
      "                                                                 \n",
      "=================================================================\n",
      "Total params: 243 (972.00 Byte)\n",
      "Trainable params: 243 (972.00 Byte)\n",
      "Non-trainable params: 0 (0.00 Byte)\n",
      "_________________________________________________________________\n"
     ]
    }
   ],
   "source": [
    "Model_iris.summary()"
   ]
  },
  {
   "cell_type": "markdown",
   "metadata": {
    "id": "j9nJ82S8TmOW"
   },
   "source": [
    "* 모델 레이어 시각화\n",
    "    - 파일로도 저장해준다."
   ]
  },
  {
   "cell_type": "code",
   "execution_count": 28,
   "metadata": {
    "colab": {
     "base_uri": "https://localhost:8080/",
     "height": 545
    },
    "executionInfo": {
     "elapsed": 397,
     "status": "ok",
     "timestamp": 1673400510874,
     "user": {
      "displayName": "이정구",
      "userId": "17400242557229223804"
     },
     "user_tz": -540
    },
    "id": "SqtCd2AuTWfv",
    "outputId": "ebd338c5-b013-4521-f7f3-35c0156db86f",
    "tags": []
   },
   "outputs": [
    {
     "data": {
      "image/png": "[encoded data removed]",
      "text/plain": [
       "<IPython.core.display.Image object>"
      ]
     },
     "execution_count": 28,
     "metadata": {},
     "output_type": "execute_result"
    }
   ],
   "source": [
    "from tensorflow.keras import utils\n",
    "\n",
    "utils.plot_model(Model_iris,\n",
    "                 show_shapes = True,\n",
    "                 show_dtype = True)"
   ]
  },
  {
   "cell_type": "markdown",
   "metadata": {
    "id": "3jTRDB6y-5Mx"
   },
   "source": [
    "> ## 3) Model Compile"
   ]
  },
  {
   "cell_type": "markdown",
   "metadata": {
    "id": "iixRFcKM_PUJ"
   },
   "source": [
    "* 모델 학습방법 설정"
   ]
  },
  {
   "cell_type": "code",
   "execution_count": 26,
   "metadata": {
    "executionInfo": {
     "elapsed": 10,
     "status": "ok",
     "timestamp": 1673400510876,
     "user": {
      "displayName": "이정구",
      "userId": "17400242557229223804"
     },
     "user_tz": -540
    },
    "id": "Qe9CXqyKjHhI",
    "tags": []
   },
   "outputs": [
    {
     "name": "stdout",
     "output_type": "stream",
     "text": [
      "WARNING:tensorflow:From C:\\Users\\maeng\\anaconda3\\Lib\\site-packages\\keras\\src\\optimizers\\__init__.py:309: The name tf.train.Optimizer is deprecated. Please use tf.compat.v1.train.Optimizer instead.\n",
      "\n"
     ]
    }
   ],
   "source": [
    "Model_iris.compile(loss = 'categorical_crossentropy',\n",
    "                   optimizer = 'adam',\n",
    "                   metrics = ['accuracy'])"
   ]
  },
  {
   "cell_type": "markdown",
   "metadata": {
    "id": "y7zLg_l4_BvM"
   },
   "source": [
    "> ## 4) Model Fit"
   ]
  },
  {
   "cell_type": "markdown",
   "metadata": {
    "id": "BLjGgSpG_UiT"
   },
   "source": [
    "* 모델 학습 수행"
   ]
  },
  {
   "cell_type": "code",
   "execution_count": 20,
   "metadata": {
    "collapsed": true,
    "jupyter": {
     "outputs_hidden": true
    },
    "tags": []
   },
   "outputs": [
    {
     "data": {
      "text/plain": [
       "\u001b[1;31mSignature:\u001b[0m\n",
       "\u001b[0mModel_iris\u001b[0m\u001b[1;33m.\u001b[0m\u001b[0mfit\u001b[0m\u001b[1;33m(\u001b[0m\u001b[1;33m\n",
       "\u001b[0m    \u001b[0mx\u001b[0m\u001b[1;33m=\u001b[0m\u001b[1;32mNone\u001b[0m\u001b[1;33m,\u001b[0m\u001b[1;33m\n",
       "\u001b[0m    \u001b[0my\u001b[0m\u001b[1;33m=\u001b[0m\u001b[1;32mNone\u001b[0m\u001b[1;33m,\u001b[0m\u001b[1;33m\n",
       "\u001b[0m    \u001b[0mbatch_size\u001b[0m\u001b[1;33m=\u001b[0m\u001b[1;32mNone\u001b[0m\u001b[1;33m,\u001b[0m\u001b[1;33m\n",
       "\u001b[0m    \u001b[0mepochs\u001b[0m\u001b[1;33m=\u001b[0m\u001b[1;36m1\u001b[0m\u001b[1;33m,\u001b[0m\u001b[1;33m\n",
       "\u001b[0m    \u001b[0mverbose\u001b[0m\u001b[1;33m=\u001b[0m\u001b[1;34m'auto'\u001b[0m\u001b[1;33m,\u001b[0m\u001b[1;33m\n",
       "\u001b[0m    \u001b[0mcallbacks\u001b[0m\u001b[1;33m=\u001b[0m\u001b[1;32mNone\u001b[0m\u001b[1;33m,\u001b[0m\u001b[1;33m\n",
       "\u001b[0m    \u001b[0mvalidation_split\u001b[0m\u001b[1;33m=\u001b[0m\u001b[1;36m0.0\u001b[0m\u001b[1;33m,\u001b[0m\u001b[1;33m\n",
       "\u001b[0m    \u001b[0mvalidation_data\u001b[0m\u001b[1;33m=\u001b[0m\u001b[1;32mNone\u001b[0m\u001b[1;33m,\u001b[0m\u001b[1;33m\n",
       "\u001b[0m    \u001b[0mshuffle\u001b[0m\u001b[1;33m=\u001b[0m\u001b[1;32mTrue\u001b[0m\u001b[1;33m,\u001b[0m\u001b[1;33m\n",
       "\u001b[0m    \u001b[0mclass_weight\u001b[0m\u001b[1;33m=\u001b[0m\u001b[1;32mNone\u001b[0m\u001b[1;33m,\u001b[0m\u001b[1;33m\n",
       "\u001b[0m    \u001b[0msample_weight\u001b[0m\u001b[1;33m=\u001b[0m\u001b[1;32mNone\u001b[0m\u001b[1;33m,\u001b[0m\u001b[1;33m\n",
       "\u001b[0m    \u001b[0minitial_epoch\u001b[0m\u001b[1;33m=\u001b[0m\u001b[1;36m0\u001b[0m\u001b[1;33m,\u001b[0m\u001b[1;33m\n",
       "\u001b[0m    \u001b[0msteps_per_epoch\u001b[0m\u001b[1;33m=\u001b[0m\u001b[1;32mNone\u001b[0m\u001b[1;33m,\u001b[0m\u001b[1;33m\n",
       "\u001b[0m    \u001b[0mvalidation_steps\u001b[0m\u001b[1;33m=\u001b[0m\u001b[1;32mNone\u001b[0m\u001b[1;33m,\u001b[0m\u001b[1;33m\n",
       "\u001b[0m    \u001b[0mvalidation_batch_size\u001b[0m\u001b[1;33m=\u001b[0m\u001b[1;32mNone\u001b[0m\u001b[1;33m,\u001b[0m\u001b[1;33m\n",
       "\u001b[0m    \u001b[0mvalidation_freq\u001b[0m\u001b[1;33m=\u001b[0m\u001b[1;36m1\u001b[0m\u001b[1;33m,\u001b[0m\u001b[1;33m\n",
       "\u001b[0m    \u001b[0mmax_queue_size\u001b[0m\u001b[1;33m=\u001b[0m\u001b[1;36m10\u001b[0m\u001b[1;33m,\u001b[0m\u001b[1;33m\n",
       "\u001b[0m    \u001b[0mworkers\u001b[0m\u001b[1;33m=\u001b[0m\u001b[1;36m1\u001b[0m\u001b[1;33m,\u001b[0m\u001b[1;33m\n",
       "\u001b[0m    \u001b[0muse_multiprocessing\u001b[0m\u001b[1;33m=\u001b[0m\u001b[1;32mFalse\u001b[0m\u001b[1;33m,\u001b[0m\u001b[1;33m\n",
       "\u001b[0m\u001b[1;33m)\u001b[0m\u001b[1;33m\u001b[0m\u001b[1;33m\u001b[0m\u001b[0m\n",
       "\u001b[1;31mDocstring:\u001b[0m\n",
       "Trains the model for a fixed number of epochs (dataset iterations).\n",
       "\n",
       "Args:\n",
       "    x: Input data. It could be:\n",
       "      - A Numpy array (or array-like), or a list of arrays\n",
       "        (in case the model has multiple inputs).\n",
       "      - A TensorFlow tensor, or a list of tensors\n",
       "        (in case the model has multiple inputs).\n",
       "      - A dict mapping input names to the corresponding array/tensors,\n",
       "        if the model has named inputs.\n",
       "      - A `tf.data` dataset. Should return a tuple\n",
       "        of either `(inputs, targets)` or\n",
       "        `(inputs, targets, sample_weights)`.\n",
       "      - A generator or `keras.utils.Sequence` returning `(inputs,\n",
       "        targets)` or `(inputs, targets, sample_weights)`.\n",
       "      - A `tf.keras.utils.experimental.DatasetCreator`, which wraps a\n",
       "        callable that takes a single argument of type\n",
       "        `tf.distribute.InputContext`, and returns a `tf.data.Dataset`.\n",
       "        `DatasetCreator` should be used when users prefer to specify the\n",
       "        per-replica batching and sharding logic for the `Dataset`.\n",
       "        See `tf.keras.utils.experimental.DatasetCreator` doc for more\n",
       "        information.\n",
       "      A more detailed description of unpacking behavior for iterator\n",
       "      types (Dataset, generator, Sequence) is given below. If these\n",
       "      include `sample_weights` as a third component, note that sample\n",
       "      weighting applies to the `weighted_metrics` argument but not the\n",
       "      `metrics` argument in `compile()`. If using\n",
       "      `tf.distribute.experimental.ParameterServerStrategy`, only\n",
       "      `DatasetCreator` type is supported for `x`.\n",
       "    y: Target data. Like the input data `x`,\n",
       "      it could be either Numpy array(s) or TensorFlow tensor(s).\n",
       "      It should be consistent with `x` (you cannot have Numpy inputs and\n",
       "      tensor targets, or inversely). If `x` is a dataset, generator,\n",
       "      or `keras.utils.Sequence` instance, `y` should\n",
       "      not be specified (since targets will be obtained from `x`).\n",
       "    batch_size: Integer or `None`.\n",
       "        Number of samples per gradient update.\n",
       "        If unspecified, `batch_size` will default to 32.\n",
       "        Do not specify the `batch_size` if your data is in the\n",
       "        form of datasets, generators, or `keras.utils.Sequence`\n",
       "        instances (since they generate batches).\n",
       "    epochs: Integer. Number of epochs to train the model.\n",
       "        An epoch is an iteration over the entire `x` and `y`\n",
       "        data provided\n",
       "        (unless the `steps_per_epoch` flag is set to\n",
       "        something other than None).\n",
       "        Note that in conjunction with `initial_epoch`,\n",
       "        `epochs` is to be understood as \"final epoch\".\n",
       "        The model is not trained for a number of iterations\n",
       "        given by `epochs`, but merely until the epoch\n",
       "        of index `epochs` is reached.\n",
       "    verbose: 'auto', 0, 1, or 2. Verbosity mode.\n",
       "        0 = silent, 1 = progress bar, 2 = one line per epoch.\n",
       "        'auto' becomes 1 for most cases, but 2 when used with\n",
       "        `ParameterServerStrategy`. Note that the progress bar is not\n",
       "        particularly useful when logged to a file, so verbose=2 is\n",
       "        recommended when not running interactively (eg, in a production\n",
       "        environment). Defaults to 'auto'.\n",
       "    callbacks: List of `keras.callbacks.Callback` instances.\n",
       "        List of callbacks to apply during training.\n",
       "        See `tf.keras.callbacks`. Note\n",
       "        `tf.keras.callbacks.ProgbarLogger` and\n",
       "        `tf.keras.callbacks.History` callbacks are created automatically\n",
       "        and need not be passed into `model.fit`.\n",
       "        `tf.keras.callbacks.ProgbarLogger` is created or not based on\n",
       "        `verbose` argument to `model.fit`.\n",
       "        Callbacks with batch-level calls are currently unsupported with\n",
       "        `tf.distribute.experimental.ParameterServerStrategy`, and users\n",
       "        are advised to implement epoch-level calls instead with an\n",
       "        appropriate `steps_per_epoch` value.\n",
       "    validation_split: Float between 0 and 1.\n",
       "        Fraction of the training data to be used as validation data.\n",
       "        The model will set apart this fraction of the training data,\n",
       "        will not train on it, and will evaluate\n",
       "        the loss and any model metrics\n",
       "        on this data at the end of each epoch.\n",
       "        The validation data is selected from the last samples\n",
       "        in the `x` and `y` data provided, before shuffling. This\n",
       "        argument is not supported when `x` is a dataset, generator or\n",
       "        `keras.utils.Sequence` instance.\n",
       "        If both `validation_data` and `validation_split` are provided,\n",
       "        `validation_data` will override `validation_split`.\n",
       "        `validation_split` is not yet supported with\n",
       "        `tf.distribute.experimental.ParameterServerStrategy`.\n",
       "    validation_data: Data on which to evaluate\n",
       "        the loss and any model metrics at the end of each epoch.\n",
       "        The model will not be trained on this data. Thus, note the fact\n",
       "        that the validation loss of data provided using\n",
       "        `validation_split` or `validation_data` is not affected by\n",
       "        regularization layers like noise and dropout.\n",
       "        `validation_data` will override `validation_split`.\n",
       "        `validation_data` could be:\n",
       "          - A tuple `(x_val, y_val)` of Numpy arrays or tensors.\n",
       "          - A tuple `(x_val, y_val, val_sample_weights)` of NumPy\n",
       "            arrays.\n",
       "          - A `tf.data.Dataset`.\n",
       "          - A Python generator or `keras.utils.Sequence` returning\n",
       "          `(inputs, targets)` or `(inputs, targets, sample_weights)`.\n",
       "        `validation_data` is not yet supported with\n",
       "        `tf.distribute.experimental.ParameterServerStrategy`.\n",
       "    shuffle: Boolean (whether to shuffle the training data\n",
       "        before each epoch) or str (for 'batch'). This argument is\n",
       "        ignored when `x` is a generator or an object of tf.data.Dataset.\n",
       "        'batch' is a special option for dealing\n",
       "        with the limitations of HDF5 data; it shuffles in batch-sized\n",
       "        chunks. Has no effect when `steps_per_epoch` is not `None`.\n",
       "    class_weight: Optional dictionary mapping class indices (integers)\n",
       "        to a weight (float) value, used for weighting the loss function\n",
       "        (during training only).\n",
       "        This can be useful to tell the model to\n",
       "        \"pay more attention\" to samples from\n",
       "        an under-represented class. When `class_weight` is specified\n",
       "        and targets have a rank of 2 or greater, either `y` must be\n",
       "        one-hot encoded, or an explicit final dimension of `1` must\n",
       "        be included for sparse class labels.\n",
       "    sample_weight: Optional Numpy array of weights for\n",
       "        the training samples, used for weighting the loss function\n",
       "        (during training only). You can either pass a flat (1D)\n",
       "        Numpy array with the same length as the input samples\n",
       "        (1:1 mapping between weights and samples),\n",
       "        or in the case of temporal data,\n",
       "        you can pass a 2D array with shape\n",
       "        `(samples, sequence_length)`,\n",
       "        to apply a different weight to every timestep of every sample.\n",
       "        This argument is not supported when `x` is a dataset, generator,\n",
       "        or `keras.utils.Sequence` instance, instead provide the\n",
       "        sample_weights as the third element of `x`.\n",
       "        Note that sample weighting does not apply to metrics specified\n",
       "        via the `metrics` argument in `compile()`. To apply sample\n",
       "        weighting to your metrics, you can specify them via the\n",
       "        `weighted_metrics` in `compile()` instead.\n",
       "    initial_epoch: Integer.\n",
       "        Epoch at which to start training\n",
       "        (useful for resuming a previous training run).\n",
       "    steps_per_epoch: Integer or `None`.\n",
       "        Total number of steps (batches of samples)\n",
       "        before declaring one epoch finished and starting the\n",
       "        next epoch. When training with input tensors such as\n",
       "        TensorFlow data tensors, the default `None` is equal to\n",
       "        the number of samples in your dataset divided by\n",
       "        the batch size, or 1 if that cannot be determined. If x is a\n",
       "        `tf.data` dataset, and 'steps_per_epoch'\n",
       "        is None, the epoch will run until the input dataset is\n",
       "        exhausted.  When passing an infinitely repeating dataset, you\n",
       "        must specify the `steps_per_epoch` argument. If\n",
       "        `steps_per_epoch=-1` the training will run indefinitely with an\n",
       "        infinitely repeating dataset.  This argument is not supported\n",
       "        with array inputs.\n",
       "        When using `tf.distribute.experimental.ParameterServerStrategy`:\n",
       "          * `steps_per_epoch=None` is not supported.\n",
       "    validation_steps: Only relevant if `validation_data` is provided and\n",
       "        is a `tf.data` dataset. Total number of steps (batches of\n",
       "        samples) to draw before stopping when performing validation\n",
       "        at the end of every epoch. If 'validation_steps' is None,\n",
       "        validation will run until the `validation_data` dataset is\n",
       "        exhausted. In the case of an infinitely repeated dataset, it\n",
       "        will run into an infinite loop. If 'validation_steps' is\n",
       "        specified and only part of the dataset will be consumed, the\n",
       "        evaluation will start from the beginning of the dataset at each\n",
       "        epoch. This ensures that the same validation samples are used\n",
       "        every time.\n",
       "    validation_batch_size: Integer or `None`.\n",
       "        Number of samples per validation batch.\n",
       "        If unspecified, will default to `batch_size`.\n",
       "        Do not specify the `validation_batch_size` if your data is in\n",
       "        the form of datasets, generators, or `keras.utils.Sequence`\n",
       "        instances (since they generate batches).\n",
       "    validation_freq: Only relevant if validation data is provided.\n",
       "      Integer or `collections.abc.Container` instance (e.g. list, tuple,\n",
       "      etc.).  If an integer, specifies how many training epochs to run\n",
       "      before a new validation run is performed, e.g. `validation_freq=2`\n",
       "      runs validation every 2 epochs. If a Container, specifies the\n",
       "      epochs on which to run validation, e.g.\n",
       "      `validation_freq=[1, 2, 10]` runs validation at the end of the\n",
       "      1st, 2nd, and 10th epochs.\n",
       "    max_queue_size: Integer. Used for generator or\n",
       "      `keras.utils.Sequence` input only. Maximum size for the generator\n",
       "      queue.  If unspecified, `max_queue_size` will default to 10.\n",
       "    workers: Integer. Used for generator or `keras.utils.Sequence` input\n",
       "        only. Maximum number of processes to spin up\n",
       "        when using process-based threading. If unspecified, `workers`\n",
       "        will default to 1.\n",
       "    use_multiprocessing: Boolean. Used for generator or\n",
       "        `keras.utils.Sequence` input only. If `True`, use process-based\n",
       "        threading. If unspecified, `use_multiprocessing` will default to\n",
       "        `False`. Note that because this implementation relies on\n",
       "        multiprocessing, you should not pass non-pickleable arguments to\n",
       "        the generator as they can't be passed easily to children\n",
       "        processes.\n",
       "\n",
       "Unpacking behavior for iterator-like inputs:\n",
       "    A common pattern is to pass a tf.data.Dataset, generator, or\n",
       "  tf.keras.utils.Sequence to the `x` argument of fit, which will in fact\n",
       "  yield not only features (x) but optionally targets (y) and sample\n",
       "  weights.  Keras requires that the output of such iterator-likes be\n",
       "  unambiguous. The iterator should return a tuple of length 1, 2, or 3,\n",
       "  where the optional second and third elements will be used for y and\n",
       "  sample_weight respectively. Any other type provided will be wrapped in\n",
       "  a length one tuple, effectively treating everything as 'x'. When\n",
       "  yielding dicts, they should still adhere to the top-level tuple\n",
       "  structure.\n",
       "  e.g. `({\"x0\": x0, \"x1\": x1}, y)`. Keras will not attempt to separate\n",
       "  features, targets, and weights from the keys of a single dict.\n",
       "    A notable unsupported data type is the namedtuple. The reason is\n",
       "  that it behaves like both an ordered datatype (tuple) and a mapping\n",
       "  datatype (dict). So given a namedtuple of the form:\n",
       "      `namedtuple(\"example_tuple\", [\"y\", \"x\"])`\n",
       "  it is ambiguous whether to reverse the order of the elements when\n",
       "  interpreting the value. Even worse is a tuple of the form:\n",
       "      `namedtuple(\"other_tuple\", [\"x\", \"y\", \"z\"])`\n",
       "  where it is unclear if the tuple was intended to be unpacked into x,\n",
       "  y, and sample_weight or passed through as a single element to `x`. As\n",
       "  a result the data processing code will simply raise a ValueError if it\n",
       "  encounters a namedtuple. (Along with instructions to remedy the\n",
       "  issue.)\n",
       "\n",
       "Returns:\n",
       "    A `History` object. Its `History.history` attribute is\n",
       "    a record of training loss values and metrics values\n",
       "    at successive epochs, as well as validation loss values\n",
       "    and validation metrics values (if applicable).\n",
       "\n",
       "Raises:\n",
       "    RuntimeError: 1. If the model was never compiled or,\n",
       "    2. If `model.fit` is  wrapped in `tf.function`.\n",
       "\n",
       "    ValueError: In case of mismatch between the provided input data\n",
       "        and what the model expects or when the input data is empty.\n",
       "\u001b[1;31mFile:\u001b[0m      c:\\users\\maeng\\anaconda3\\lib\\site-packages\\keras\\src\\engine\\training.py\n",
       "\u001b[1;31mType:\u001b[0m      method\n"
      ]
     },
     "metadata": {},
     "output_type": "display_data"
    }
   ],
   "source": [
    "Model_iris.fit?"
   ]
  },
  {
   "cell_type": "code",
   "execution_count": 19,
   "metadata": {
    "colab": {
     "base_uri": "https://localhost:8080/"
    },
    "executionInfo": {
     "elapsed": 42605,
     "status": "ok",
     "timestamp": 1673400553745,
     "user": {
      "displayName": "이정구",
      "userId": "17400242557229223804"
     },
     "user_tz": -540
    },
    "id": "1J-5DPpUjKPZ",
    "outputId": "2c73c5f6-c3cf-4309-af03-b53cb26284ba",
    "tags": []
   },
   "outputs": [
    {
     "name": "stdout",
     "output_type": "stream",
     "text": [
      "Epoch 1/250\n",
      "WARNING:tensorflow:From C:\\Users\\maeng\\anaconda3\\Lib\\site-packages\\keras\\src\\utils\\tf_utils.py:492: The name tf.ragged.RaggedTensorValue is deprecated. Please use tf.compat.v1.ragged.RaggedTensorValue instead.\n",
      "\n",
      "WARNING:tensorflow:From C:\\Users\\maeng\\anaconda3\\Lib\\site-packages\\keras\\src\\engine\\base_layer_utils.py:384: The name tf.executing_eagerly_outside_functions is deprecated. Please use tf.compat.v1.executing_eagerly_outside_functions instead.\n",
      "\n",
      "15/15 [==============================] - 1s 19ms/step - loss: 1.2348 - accuracy: 0.3429 - val_loss: 1.0461 - val_accuracy: 0.3111\n",
      "Epoch 2/250\n",
      "15/15 [==============================] - 0s 5ms/step - loss: 0.9455 - accuracy: 0.4571 - val_loss: 0.9063 - val_accuracy: 0.5556\n",
      "Epoch 3/250\n",
      "15/15 [==============================] - 0s 4ms/step - loss: 0.8566 - accuracy: 0.7048 - val_loss: 0.8358 - val_accuracy: 0.8667\n",
      "Epoch 4/250\n",
      "15/15 [==============================] - 0s 4ms/step - loss: 0.7925 - accuracy: 0.8571 - val_loss: 0.7726 - val_accuracy: 0.8667\n",
      "Epoch 5/250\n",
      "15/15 [==============================] - 0s 4ms/step - loss: 0.7366 - accuracy: 0.9048 - val_loss: 0.7168 - val_accuracy: 0.9111\n",
      "Epoch 6/250\n",
      "15/15 [==============================] - 0s 4ms/step - loss: 0.6917 - accuracy: 0.9143 - val_loss: 0.6628 - val_accuracy: 0.9556\n",
      "Epoch 7/250\n",
      "15/15 [==============================] - 0s 4ms/step - loss: 0.6418 - accuracy: 0.9048 - val_loss: 0.6199 - val_accuracy: 0.8667\n",
      "Epoch 8/250\n",
      "15/15 [==============================] - 0s 5ms/step - loss: 0.6021 - accuracy: 0.9238 - val_loss: 0.5770 - val_accuracy: 0.9111\n",
      "Epoch 9/250\n",
      "15/15 [==============================] - 0s 5ms/step - loss: 0.5652 - accuracy: 0.9333 - val_loss: 0.5418 - val_accuracy: 0.9556\n",
      "Epoch 10/250\n",
      "15/15 [==============================] - 0s 4ms/step - loss: 0.5359 - accuracy: 0.9333 - val_loss: 0.5116 - val_accuracy: 0.9111\n",
      "Epoch 11/250\n",
      "15/15 [==============================] - 0s 4ms/step - loss: 0.5047 - accuracy: 0.9143 - val_loss: 0.4806 - val_accuracy: 0.9556\n",
      "Epoch 12/250\n",
      "15/15 [==============================] - 0s 4ms/step - loss: 0.4803 - accuracy: 0.9333 - val_loss: 0.4531 - val_accuracy: 0.9556\n",
      "Epoch 13/250\n",
      "15/15 [==============================] - 0s 4ms/step - loss: 0.4701 - accuracy: 0.8762 - val_loss: 0.4313 - val_accuracy: 0.9333\n",
      "Epoch 14/250\n",
      "15/15 [==============================] - 0s 4ms/step - loss: 0.4349 - accuracy: 0.9429 - val_loss: 0.4082 - val_accuracy: 0.9778\n",
      "Epoch 15/250\n",
      "15/15 [==============================] - 0s 5ms/step - loss: 0.4112 - accuracy: 0.9429 - val_loss: 0.3866 - val_accuracy: 0.9778\n",
      "Epoch 16/250\n",
      "15/15 [==============================] - 0s 4ms/step - loss: 0.3939 - accuracy: 0.9333 - val_loss: 0.3695 - val_accuracy: 0.9778\n",
      "Epoch 17/250\n",
      "15/15 [==============================] - 0s 5ms/step - loss: 0.3783 - accuracy: 0.9333 - val_loss: 0.3534 - val_accuracy: 0.9778\n",
      "Epoch 18/250\n",
      "15/15 [==============================] - 0s 5ms/step - loss: 0.3653 - accuracy: 0.9524 - val_loss: 0.3382 - val_accuracy: 0.9778\n",
      "Epoch 19/250\n",
      "15/15 [==============================] - 0s 4ms/step - loss: 0.3540 - accuracy: 0.9429 - val_loss: 0.3231 - val_accuracy: 0.9778\n",
      "Epoch 20/250\n",
      "15/15 [==============================] - 0s 4ms/step - loss: 0.3378 - accuracy: 0.9524 - val_loss: 0.3108 - val_accuracy: 0.9778\n",
      "Epoch 21/250\n",
      "15/15 [==============================] - 0s 5ms/step - loss: 0.3269 - accuracy: 0.9524 - val_loss: 0.3001 - val_accuracy: 0.9778\n",
      "Epoch 22/250\n",
      "15/15 [==============================] - 0s 4ms/step - loss: 0.3155 - accuracy: 0.9619 - val_loss: 0.2885 - val_accuracy: 0.9778\n",
      "Epoch 23/250\n",
      "15/15 [==============================] - 0s 5ms/step - loss: 0.3068 - accuracy: 0.9619 - val_loss: 0.2785 - val_accuracy: 0.9778\n",
      "Epoch 24/250\n",
      "15/15 [==============================] - 0s 5ms/step - loss: 0.2996 - accuracy: 0.9524 - val_loss: 0.2697 - val_accuracy: 0.9778\n",
      "Epoch 25/250\n",
      "15/15 [==============================] - 0s 4ms/step - loss: 0.2909 - accuracy: 0.9524 - val_loss: 0.2639 - val_accuracy: 1.0000\n",
      "Epoch 26/250\n",
      "15/15 [==============================] - 0s 4ms/step - loss: 0.2792 - accuracy: 0.9619 - val_loss: 0.2520 - val_accuracy: 0.9778\n",
      "Epoch 27/250\n",
      "15/15 [==============================] - 0s 4ms/step - loss: 0.2733 - accuracy: 0.9429 - val_loss: 0.2438 - val_accuracy: 0.9778\n",
      "Epoch 28/250\n",
      "15/15 [==============================] - 0s 5ms/step - loss: 0.2666 - accuracy: 0.9619 - val_loss: 0.2374 - val_accuracy: 0.9778\n",
      "Epoch 29/250\n",
      "15/15 [==============================] - 0s 4ms/step - loss: 0.2597 - accuracy: 0.9619 - val_loss: 0.2307 - val_accuracy: 0.9778\n",
      "Epoch 30/250\n",
      "15/15 [==============================] - 0s 5ms/step - loss: 0.2546 - accuracy: 0.9714 - val_loss: 0.2222 - val_accuracy: 0.9778\n",
      "Epoch 31/250\n",
      "15/15 [==============================] - 0s 5ms/step - loss: 0.2477 - accuracy: 0.9714 - val_loss: 0.2165 - val_accuracy: 0.9778\n",
      "Epoch 32/250\n",
      "15/15 [==============================] - 0s 4ms/step - loss: 0.2408 - accuracy: 0.9619 - val_loss: 0.2098 - val_accuracy: 0.9778\n",
      "Epoch 33/250\n",
      "15/15 [==============================] - 0s 5ms/step - loss: 0.2350 - accuracy: 0.9619 - val_loss: 0.2033 - val_accuracy: 0.9778\n",
      "Epoch 34/250\n",
      "15/15 [==============================] - 0s 4ms/step - loss: 0.2315 - accuracy: 0.9619 - val_loss: 0.1982 - val_accuracy: 0.9778\n",
      "Epoch 35/250\n",
      "15/15 [==============================] - 0s 4ms/step - loss: 0.2258 - accuracy: 0.9619 - val_loss: 0.1934 - val_accuracy: 1.0000\n",
      "Epoch 36/250\n",
      "15/15 [==============================] - 0s 5ms/step - loss: 0.2199 - accuracy: 0.9714 - val_loss: 0.1871 - val_accuracy: 0.9778\n",
      "Epoch 37/250\n",
      "15/15 [==============================] - 0s 4ms/step - loss: 0.2163 - accuracy: 0.9714 - val_loss: 0.1824 - val_accuracy: 1.0000\n",
      "Epoch 38/250\n",
      "15/15 [==============================] - 0s 4ms/step - loss: 0.2162 - accuracy: 0.9714 - val_loss: 0.1783 - val_accuracy: 0.9778\n",
      "Epoch 39/250\n",
      "15/15 [==============================] - 0s 5ms/step - loss: 0.2054 - accuracy: 0.9714 - val_loss: 0.1743 - val_accuracy: 1.0000\n",
      "Epoch 40/250\n",
      "15/15 [==============================] - 0s 4ms/step - loss: 0.2165 - accuracy: 0.9333 - val_loss: 0.1688 - val_accuracy: 0.9778\n",
      "Epoch 41/250\n",
      "15/15 [==============================] - 0s 4ms/step - loss: 0.2099 - accuracy: 0.9619 - val_loss: 0.1663 - val_accuracy: 0.9778\n",
      "Epoch 42/250\n",
      "15/15 [==============================] - 0s 5ms/step - loss: 0.2066 - accuracy: 0.9333 - val_loss: 0.1618 - val_accuracy: 1.0000\n",
      "Epoch 43/250\n",
      "15/15 [==============================] - 0s 6ms/step - loss: 0.1973 - accuracy: 0.9619 - val_loss: 0.1569 - val_accuracy: 0.9778\n",
      "Epoch 44/250\n",
      "15/15 [==============================] - 0s 5ms/step - loss: 0.1907 - accuracy: 0.9714 - val_loss: 0.1529 - val_accuracy: 1.0000\n",
      "Epoch 45/250\n",
      "15/15 [==============================] - 0s 5ms/step - loss: 0.1879 - accuracy: 0.9714 - val_loss: 0.1491 - val_accuracy: 1.0000\n",
      "Epoch 46/250\n",
      "15/15 [==============================] - 0s 6ms/step - loss: 0.1826 - accuracy: 0.9714 - val_loss: 0.1464 - val_accuracy: 1.0000\n",
      "Epoch 47/250\n",
      "15/15 [==============================] - 0s 6ms/step - loss: 0.1847 - accuracy: 0.9619 - val_loss: 0.1434 - val_accuracy: 0.9778\n",
      "Epoch 48/250\n",
      "15/15 [==============================] - 0s 5ms/step - loss: 0.1789 - accuracy: 0.9810 - val_loss: 0.1410 - val_accuracy: 1.0000\n",
      "Epoch 49/250\n",
      "15/15 [==============================] - 0s 13ms/step - loss: 0.1780 - accuracy: 0.9524 - val_loss: 0.1365 - val_accuracy: 0.9778\n",
      "Epoch 50/250\n",
      "15/15 [==============================] - 0s 15ms/step - loss: 0.1718 - accuracy: 0.9714 - val_loss: 0.1328 - val_accuracy: 1.0000\n",
      "Epoch 51/250\n",
      "15/15 [==============================] - 0s 6ms/step - loss: 0.1702 - accuracy: 0.9714 - val_loss: 0.1302 - val_accuracy: 1.0000\n",
      "Epoch 52/250\n",
      "15/15 [==============================] - 0s 10ms/step - loss: 0.1665 - accuracy: 0.9714 - val_loss: 0.1270 - val_accuracy: 1.0000\n",
      "Epoch 53/250\n",
      "15/15 [==============================] - 0s 5ms/step - loss: 0.1653 - accuracy: 0.9714 - val_loss: 0.1248 - val_accuracy: 1.0000\n",
      "Epoch 54/250\n",
      "15/15 [==============================] - 0s 5ms/step - loss: 0.1616 - accuracy: 0.9714 - val_loss: 0.1222 - val_accuracy: 1.0000\n",
      "Epoch 55/250\n",
      "15/15 [==============================] - 0s 5ms/step - loss: 0.1622 - accuracy: 0.9714 - val_loss: 0.1204 - val_accuracy: 1.0000\n",
      "Epoch 56/250\n",
      "15/15 [==============================] - 0s 6ms/step - loss: 0.1595 - accuracy: 0.9714 - val_loss: 0.1169 - val_accuracy: 1.0000\n",
      "Epoch 57/250\n",
      "15/15 [==============================] - 0s 5ms/step - loss: 0.1542 - accuracy: 0.9714 - val_loss: 0.1154 - val_accuracy: 1.0000\n",
      "Epoch 58/250\n",
      "15/15 [==============================] - 0s 6ms/step - loss: 0.1542 - accuracy: 0.9810 - val_loss: 0.1125 - val_accuracy: 1.0000\n",
      "Epoch 59/250\n",
      "15/15 [==============================] - 0s 5ms/step - loss: 0.1535 - accuracy: 0.9810 - val_loss: 0.1102 - val_accuracy: 1.0000\n",
      "Epoch 60/250\n",
      "15/15 [==============================] - 0s 4ms/step - loss: 0.1491 - accuracy: 0.9714 - val_loss: 0.1084 - val_accuracy: 1.0000\n",
      "Epoch 61/250\n",
      "15/15 [==============================] - 0s 7ms/step - loss: 0.1476 - accuracy: 0.9714 - val_loss: 0.1061 - val_accuracy: 1.0000\n",
      "Epoch 62/250\n",
      "15/15 [==============================] - 0s 5ms/step - loss: 0.1473 - accuracy: 0.9714 - val_loss: 0.1039 - val_accuracy: 1.0000\n",
      "Epoch 63/250\n",
      "15/15 [==============================] - 0s 6ms/step - loss: 0.1458 - accuracy: 0.9810 - val_loss: 0.1022 - val_accuracy: 1.0000\n",
      "Epoch 64/250\n",
      "15/15 [==============================] - 0s 7ms/step - loss: 0.1471 - accuracy: 0.9619 - val_loss: 0.1005 - val_accuracy: 1.0000\n",
      "Epoch 65/250\n",
      "15/15 [==============================] - 0s 6ms/step - loss: 0.1446 - accuracy: 0.9714 - val_loss: 0.0985 - val_accuracy: 1.0000\n",
      "Epoch 66/250\n",
      "15/15 [==============================] - 0s 5ms/step - loss: 0.1404 - accuracy: 0.9714 - val_loss: 0.0966 - val_accuracy: 1.0000\n",
      "Epoch 67/250\n",
      "15/15 [==============================] - 0s 6ms/step - loss: 0.1384 - accuracy: 0.9714 - val_loss: 0.0954 - val_accuracy: 1.0000\n",
      "Epoch 68/250\n",
      "15/15 [==============================] - 0s 5ms/step - loss: 0.1409 - accuracy: 0.9619 - val_loss: 0.0938 - val_accuracy: 1.0000\n",
      "Epoch 69/250\n",
      "15/15 [==============================] - 0s 4ms/step - loss: 0.1367 - accuracy: 0.9714 - val_loss: 0.0921 - val_accuracy: 1.0000\n",
      "Epoch 70/250\n",
      "15/15 [==============================] - 0s 7ms/step - loss: 0.1342 - accuracy: 0.9810 - val_loss: 0.0904 - val_accuracy: 1.0000\n",
      "Epoch 71/250\n",
      "15/15 [==============================] - 0s 9ms/step - loss: 0.1330 - accuracy: 0.9810 - val_loss: 0.0888 - val_accuracy: 1.0000\n",
      "Epoch 72/250\n",
      "15/15 [==============================] - 0s 6ms/step - loss: 0.1386 - accuracy: 0.9619 - val_loss: 0.0883 - val_accuracy: 1.0000\n",
      "Epoch 73/250\n",
      "15/15 [==============================] - 0s 6ms/step - loss: 0.1326 - accuracy: 0.9714 - val_loss: 0.0860 - val_accuracy: 1.0000\n",
      "Epoch 74/250\n",
      "15/15 [==============================] - 0s 4ms/step - loss: 0.1328 - accuracy: 0.9714 - val_loss: 0.0855 - val_accuracy: 1.0000\n",
      "Epoch 75/250\n",
      "15/15 [==============================] - 0s 5ms/step - loss: 0.1287 - accuracy: 0.9714 - val_loss: 0.0834 - val_accuracy: 1.0000\n",
      "Epoch 76/250\n",
      "15/15 [==============================] - 0s 5ms/step - loss: 0.1277 - accuracy: 0.9714 - val_loss: 0.0826 - val_accuracy: 1.0000\n",
      "Epoch 77/250\n",
      "15/15 [==============================] - 0s 5ms/step - loss: 0.1263 - accuracy: 0.9810 - val_loss: 0.0811 - val_accuracy: 1.0000\n",
      "Epoch 78/250\n",
      "15/15 [==============================] - 0s 5ms/step - loss: 0.1264 - accuracy: 0.9714 - val_loss: 0.0797 - val_accuracy: 1.0000\n",
      "Epoch 79/250\n",
      "15/15 [==============================] - 0s 5ms/step - loss: 0.1331 - accuracy: 0.9524 - val_loss: 0.0793 - val_accuracy: 1.0000\n",
      "Epoch 80/250\n",
      "15/15 [==============================] - 0s 4ms/step - loss: 0.1309 - accuracy: 0.9619 - val_loss: 0.0791 - val_accuracy: 1.0000\n",
      "Epoch 81/250\n",
      "15/15 [==============================] - 0s 4ms/step - loss: 0.1325 - accuracy: 0.9429 - val_loss: 0.0796 - val_accuracy: 1.0000\n",
      "Epoch 82/250\n",
      "15/15 [==============================] - 0s 4ms/step - loss: 0.1369 - accuracy: 0.9619 - val_loss: 0.0756 - val_accuracy: 1.0000\n",
      "Epoch 83/250\n",
      "15/15 [==============================] - 0s 4ms/step - loss: 0.1226 - accuracy: 0.9905 - val_loss: 0.0774 - val_accuracy: 1.0000\n",
      "Epoch 84/250\n",
      "15/15 [==============================] - 0s 4ms/step - loss: 0.1179 - accuracy: 0.9810 - val_loss: 0.0737 - val_accuracy: 1.0000\n",
      "Epoch 85/250\n",
      "15/15 [==============================] - 0s 8ms/step - loss: 0.1200 - accuracy: 0.9714 - val_loss: 0.0732 - val_accuracy: 1.0000\n",
      "Epoch 86/250\n",
      "15/15 [==============================] - 0s 4ms/step - loss: 0.1205 - accuracy: 0.9619 - val_loss: 0.0719 - val_accuracy: 1.0000\n",
      "Epoch 87/250\n",
      "15/15 [==============================] - 0s 4ms/step - loss: 0.1219 - accuracy: 0.9619 - val_loss: 0.0716 - val_accuracy: 1.0000\n",
      "Epoch 88/250\n",
      "15/15 [==============================] - 0s 5ms/step - loss: 0.1155 - accuracy: 0.9714 - val_loss: 0.0698 - val_accuracy: 1.0000\n",
      "Epoch 89/250\n",
      "15/15 [==============================] - 0s 4ms/step - loss: 0.1194 - accuracy: 0.9714 - val_loss: 0.0690 - val_accuracy: 1.0000\n",
      "Epoch 90/250\n",
      "15/15 [==============================] - 0s 5ms/step - loss: 0.1232 - accuracy: 0.9619 - val_loss: 0.0700 - val_accuracy: 1.0000\n",
      "Epoch 91/250\n",
      "15/15 [==============================] - 0s 5ms/step - loss: 0.1230 - accuracy: 0.9619 - val_loss: 0.0677 - val_accuracy: 1.0000\n",
      "Epoch 92/250\n",
      "15/15 [==============================] - 0s 5ms/step - loss: 0.1119 - accuracy: 0.9810 - val_loss: 0.0692 - val_accuracy: 1.0000\n",
      "Epoch 93/250\n",
      "15/15 [==============================] - 0s 5ms/step - loss: 0.1153 - accuracy: 0.9714 - val_loss: 0.0657 - val_accuracy: 1.0000\n",
      "Epoch 94/250\n",
      "15/15 [==============================] - 0s 5ms/step - loss: 0.1126 - accuracy: 0.9810 - val_loss: 0.0667 - val_accuracy: 1.0000\n",
      "Epoch 95/250\n",
      "15/15 [==============================] - 0s 4ms/step - loss: 0.1107 - accuracy: 0.9714 - val_loss: 0.0646 - val_accuracy: 1.0000\n",
      "Epoch 96/250\n",
      "15/15 [==============================] - 0s 4ms/step - loss: 0.1114 - accuracy: 0.9714 - val_loss: 0.0637 - val_accuracy: 1.0000\n",
      "Epoch 97/250\n",
      "15/15 [==============================] - 0s 5ms/step - loss: 0.1144 - accuracy: 0.9810 - val_loss: 0.0649 - val_accuracy: 1.0000\n",
      "Epoch 98/250\n",
      "15/15 [==============================] - 0s 5ms/step - loss: 0.1147 - accuracy: 0.9619 - val_loss: 0.0622 - val_accuracy: 1.0000\n",
      "Epoch 99/250\n",
      "15/15 [==============================] - 0s 4ms/step - loss: 0.1199 - accuracy: 0.9714 - val_loss: 0.0615 - val_accuracy: 1.0000\n",
      "Epoch 100/250\n",
      "15/15 [==============================] - 0s 4ms/step - loss: 0.1171 - accuracy: 0.9619 - val_loss: 0.0619 - val_accuracy: 1.0000\n",
      "Epoch 101/250\n",
      "15/15 [==============================] - 0s 4ms/step - loss: 0.1256 - accuracy: 0.9619 - val_loss: 0.0603 - val_accuracy: 1.0000\n",
      "Epoch 102/250\n",
      "15/15 [==============================] - 0s 5ms/step - loss: 0.1206 - accuracy: 0.9524 - val_loss: 0.0614 - val_accuracy: 1.0000\n",
      "Epoch 103/250\n",
      "15/15 [==============================] - 0s 4ms/step - loss: 0.1050 - accuracy: 0.9810 - val_loss: 0.0597 - val_accuracy: 1.0000\n",
      "Epoch 104/250\n",
      "15/15 [==============================] - 0s 5ms/step - loss: 0.1062 - accuracy: 0.9714 - val_loss: 0.0593 - val_accuracy: 1.0000\n",
      "Epoch 105/250\n",
      "15/15 [==============================] - 0s 5ms/step - loss: 0.1142 - accuracy: 0.9619 - val_loss: 0.0581 - val_accuracy: 1.0000\n",
      "Epoch 106/250\n",
      "15/15 [==============================] - 0s 5ms/step - loss: 0.1130 - accuracy: 0.9619 - val_loss: 0.0576 - val_accuracy: 1.0000\n",
      "Epoch 107/250\n",
      "15/15 [==============================] - 0s 4ms/step - loss: 0.1091 - accuracy: 0.9619 - val_loss: 0.0605 - val_accuracy: 1.0000\n",
      "Epoch 108/250\n",
      "15/15 [==============================] - 0s 5ms/step - loss: 0.1157 - accuracy: 0.9619 - val_loss: 0.0564 - val_accuracy: 1.0000\n",
      "Epoch 109/250\n",
      "15/15 [==============================] - 0s 4ms/step - loss: 0.1094 - accuracy: 0.9619 - val_loss: 0.0641 - val_accuracy: 0.9778\n",
      "Epoch 110/250\n",
      "15/15 [==============================] - 0s 4ms/step - loss: 0.1085 - accuracy: 0.9619 - val_loss: 0.0559 - val_accuracy: 1.0000\n",
      "Epoch 111/250\n",
      "15/15 [==============================] - 0s 4ms/step - loss: 0.1056 - accuracy: 0.9714 - val_loss: 0.0604 - val_accuracy: 0.9778\n",
      "Epoch 112/250\n",
      "15/15 [==============================] - 0s 5ms/step - loss: 0.1040 - accuracy: 0.9810 - val_loss: 0.0554 - val_accuracy: 1.0000\n",
      "Epoch 113/250\n",
      "15/15 [==============================] - 0s 4ms/step - loss: 0.1021 - accuracy: 0.9714 - val_loss: 0.0540 - val_accuracy: 1.0000\n",
      "Epoch 114/250\n",
      "15/15 [==============================] - 0s 5ms/step - loss: 0.1027 - accuracy: 0.9714 - val_loss: 0.0551 - val_accuracy: 1.0000\n",
      "Epoch 115/250\n",
      "15/15 [==============================] - 0s 6ms/step - loss: 0.1015 - accuracy: 0.9714 - val_loss: 0.0539 - val_accuracy: 1.0000\n",
      "Epoch 116/250\n",
      "15/15 [==============================] - 0s 5ms/step - loss: 0.1021 - accuracy: 0.9714 - val_loss: 0.0529 - val_accuracy: 1.0000\n",
      "Epoch 117/250\n",
      "15/15 [==============================] - 0s 5ms/step - loss: 0.1014 - accuracy: 0.9714 - val_loss: 0.0542 - val_accuracy: 1.0000\n",
      "Epoch 118/250\n",
      "15/15 [==============================] - 0s 4ms/step - loss: 0.1079 - accuracy: 0.9619 - val_loss: 0.0517 - val_accuracy: 1.0000\n",
      "Epoch 119/250\n",
      "15/15 [==============================] - 0s 5ms/step - loss: 0.0985 - accuracy: 0.9810 - val_loss: 0.0573 - val_accuracy: 0.9778\n",
      "Epoch 120/250\n",
      "15/15 [==============================] - 0s 4ms/step - loss: 0.1022 - accuracy: 0.9714 - val_loss: 0.0512 - val_accuracy: 1.0000\n",
      "Epoch 121/250\n",
      "15/15 [==============================] - 0s 4ms/step - loss: 0.1005 - accuracy: 0.9714 - val_loss: 0.0505 - val_accuracy: 1.0000\n",
      "Epoch 122/250\n",
      "15/15 [==============================] - 0s 5ms/step - loss: 0.0999 - accuracy: 0.9714 - val_loss: 0.0500 - val_accuracy: 1.0000\n",
      "Epoch 123/250\n",
      "15/15 [==============================] - 0s 5ms/step - loss: 0.0979 - accuracy: 0.9714 - val_loss: 0.0506 - val_accuracy: 1.0000\n",
      "Epoch 124/250\n",
      "15/15 [==============================] - 0s 5ms/step - loss: 0.0976 - accuracy: 0.9714 - val_loss: 0.0506 - val_accuracy: 1.0000\n",
      "Epoch 125/250\n",
      "15/15 [==============================] - 0s 4ms/step - loss: 0.1029 - accuracy: 0.9714 - val_loss: 0.0489 - val_accuracy: 1.0000\n",
      "Epoch 126/250\n",
      "15/15 [==============================] - 0s 4ms/step - loss: 0.1016 - accuracy: 0.9810 - val_loss: 0.0513 - val_accuracy: 1.0000\n",
      "Epoch 127/250\n",
      "15/15 [==============================] - 0s 4ms/step - loss: 0.1016 - accuracy: 0.9619 - val_loss: 0.0482 - val_accuracy: 1.0000\n",
      "Epoch 128/250\n",
      "15/15 [==============================] - 0s 4ms/step - loss: 0.0944 - accuracy: 0.9714 - val_loss: 0.0498 - val_accuracy: 1.0000\n",
      "Epoch 129/250\n",
      "15/15 [==============================] - 0s 5ms/step - loss: 0.1025 - accuracy: 0.9714 - val_loss: 0.0475 - val_accuracy: 1.0000\n",
      "Epoch 130/250\n",
      "15/15 [==============================] - 0s 5ms/step - loss: 0.0995 - accuracy: 0.9619 - val_loss: 0.0476 - val_accuracy: 1.0000\n",
      "Epoch 131/250\n",
      "15/15 [==============================] - 0s 4ms/step - loss: 0.0976 - accuracy: 0.9810 - val_loss: 0.0505 - val_accuracy: 1.0000\n",
      "Epoch 132/250\n",
      "15/15 [==============================] - 0s 4ms/step - loss: 0.0974 - accuracy: 0.9905 - val_loss: 0.0465 - val_accuracy: 1.0000\n",
      "Epoch 133/250\n",
      "15/15 [==============================] - 0s 5ms/step - loss: 0.0955 - accuracy: 0.9714 - val_loss: 0.0462 - val_accuracy: 1.0000\n",
      "Epoch 134/250\n",
      "15/15 [==============================] - 0s 4ms/step - loss: 0.0993 - accuracy: 0.9714 - val_loss: 0.0489 - val_accuracy: 1.0000\n",
      "Epoch 135/250\n",
      "15/15 [==============================] - 0s 9ms/step - loss: 0.0956 - accuracy: 0.9810 - val_loss: 0.0459 - val_accuracy: 1.0000\n",
      "Epoch 136/250\n",
      "15/15 [==============================] - 0s 5ms/step - loss: 0.0940 - accuracy: 0.9714 - val_loss: 0.0481 - val_accuracy: 1.0000\n",
      "Epoch 137/250\n",
      "15/15 [==============================] - 0s 4ms/step - loss: 0.0944 - accuracy: 0.9905 - val_loss: 0.0462 - val_accuracy: 1.0000\n",
      "Epoch 138/250\n",
      "15/15 [==============================] - 0s 4ms/step - loss: 0.0976 - accuracy: 0.9714 - val_loss: 0.0454 - val_accuracy: 1.0000\n",
      "Epoch 139/250\n",
      "15/15 [==============================] - 0s 4ms/step - loss: 0.0915 - accuracy: 0.9714 - val_loss: 0.0478 - val_accuracy: 1.0000\n",
      "Epoch 140/250\n",
      "15/15 [==============================] - 0s 5ms/step - loss: 0.0942 - accuracy: 0.9810 - val_loss: 0.0445 - val_accuracy: 1.0000\n",
      "Epoch 141/250\n",
      "15/15 [==============================] - 0s 4ms/step - loss: 0.0967 - accuracy: 0.9810 - val_loss: 0.0459 - val_accuracy: 1.0000\n",
      "Epoch 142/250\n",
      "15/15 [==============================] - 0s 4ms/step - loss: 0.0999 - accuracy: 0.9619 - val_loss: 0.0436 - val_accuracy: 1.0000\n",
      "Epoch 143/250\n",
      "15/15 [==============================] - 0s 4ms/step - loss: 0.1033 - accuracy: 0.9619 - val_loss: 0.0508 - val_accuracy: 0.9778\n",
      "Epoch 144/250\n",
      "15/15 [==============================] - 0s 4ms/step - loss: 0.0876 - accuracy: 0.9905 - val_loss: 0.0430 - val_accuracy: 1.0000\n",
      "Epoch 145/250\n",
      "15/15 [==============================] - 0s 10ms/step - loss: 0.0953 - accuracy: 0.9714 - val_loss: 0.0428 - val_accuracy: 1.0000\n",
      "Epoch 146/250\n",
      "15/15 [==============================] - 0s 4ms/step - loss: 0.0962 - accuracy: 0.9714 - val_loss: 0.0460 - val_accuracy: 0.9778\n",
      "Epoch 147/250\n",
      "15/15 [==============================] - 0s 5ms/step - loss: 0.0901 - accuracy: 0.9905 - val_loss: 0.0424 - val_accuracy: 1.0000\n",
      "Epoch 148/250\n",
      "15/15 [==============================] - 0s 5ms/step - loss: 0.0932 - accuracy: 0.9714 - val_loss: 0.0426 - val_accuracy: 1.0000\n",
      "Epoch 149/250\n",
      "15/15 [==============================] - 0s 10ms/step - loss: 0.0931 - accuracy: 0.9619 - val_loss: 0.0454 - val_accuracy: 0.9778\n",
      "Epoch 150/250\n",
      "15/15 [==============================] - 0s 4ms/step - loss: 0.0888 - accuracy: 0.9810 - val_loss: 0.0418 - val_accuracy: 1.0000\n",
      "Epoch 151/250\n",
      "15/15 [==============================] - 0s 4ms/step - loss: 0.0926 - accuracy: 0.9714 - val_loss: 0.0417 - val_accuracy: 1.0000\n",
      "Epoch 152/250\n",
      "15/15 [==============================] - 0s 4ms/step - loss: 0.0942 - accuracy: 0.9714 - val_loss: 0.0455 - val_accuracy: 0.9778\n",
      "Epoch 153/250\n",
      "15/15 [==============================] - 0s 5ms/step - loss: 0.0990 - accuracy: 0.9619 - val_loss: 0.0414 - val_accuracy: 1.0000\n",
      "Epoch 154/250\n",
      "15/15 [==============================] - 0s 4ms/step - loss: 0.0867 - accuracy: 0.9810 - val_loss: 0.0451 - val_accuracy: 0.9778\n",
      "Epoch 155/250\n",
      "15/15 [==============================] - 0s 4ms/step - loss: 0.0899 - accuracy: 0.9905 - val_loss: 0.0423 - val_accuracy: 1.0000\n",
      "Epoch 156/250\n",
      "15/15 [==============================] - 0s 7ms/step - loss: 0.0882 - accuracy: 0.9714 - val_loss: 0.0402 - val_accuracy: 1.0000\n",
      "Epoch 157/250\n",
      "15/15 [==============================] - 0s 4ms/step - loss: 0.0935 - accuracy: 0.9714 - val_loss: 0.0402 - val_accuracy: 1.0000\n",
      "Epoch 158/250\n",
      "15/15 [==============================] - 0s 4ms/step - loss: 0.1044 - accuracy: 0.9524 - val_loss: 0.0464 - val_accuracy: 0.9778\n",
      "Epoch 159/250\n",
      "15/15 [==============================] - 0s 4ms/step - loss: 0.0811 - accuracy: 0.9714 - val_loss: 0.0400 - val_accuracy: 1.0000\n",
      "Epoch 160/250\n",
      "15/15 [==============================] - 0s 4ms/step - loss: 0.0953 - accuracy: 0.9714 - val_loss: 0.0415 - val_accuracy: 1.0000\n",
      "Epoch 161/250\n",
      "15/15 [==============================] - 0s 5ms/step - loss: 0.0869 - accuracy: 0.9810 - val_loss: 0.0412 - val_accuracy: 1.0000\n",
      "Epoch 162/250\n",
      "15/15 [==============================] - 0s 5ms/step - loss: 0.0880 - accuracy: 0.9714 - val_loss: 0.0404 - val_accuracy: 1.0000\n",
      "Epoch 163/250\n",
      "15/15 [==============================] - 0s 6ms/step - loss: 0.0902 - accuracy: 0.9714 - val_loss: 0.0393 - val_accuracy: 1.0000\n",
      "Epoch 164/250\n",
      "15/15 [==============================] - 0s 5ms/step - loss: 0.0888 - accuracy: 0.9714 - val_loss: 0.0417 - val_accuracy: 1.0000\n",
      "Epoch 165/250\n",
      "15/15 [==============================] - 0s 5ms/step - loss: 0.0856 - accuracy: 0.9714 - val_loss: 0.0397 - val_accuracy: 1.0000\n",
      "Epoch 166/250\n",
      "15/15 [==============================] - 0s 4ms/step - loss: 0.0844 - accuracy: 0.9714 - val_loss: 0.0396 - val_accuracy: 1.0000\n",
      "Epoch 167/250\n",
      "15/15 [==============================] - 0s 5ms/step - loss: 0.0863 - accuracy: 0.9714 - val_loss: 0.0407 - val_accuracy: 1.0000\n",
      "Epoch 168/250\n",
      "15/15 [==============================] - 0s 5ms/step - loss: 0.0883 - accuracy: 0.9905 - val_loss: 0.0391 - val_accuracy: 1.0000\n",
      "Epoch 169/250\n",
      "15/15 [==============================] - 0s 5ms/step - loss: 0.0856 - accuracy: 0.9714 - val_loss: 0.0381 - val_accuracy: 1.0000\n",
      "Epoch 170/250\n",
      "15/15 [==============================] - 0s 5ms/step - loss: 0.0856 - accuracy: 0.9714 - val_loss: 0.0384 - val_accuracy: 1.0000\n",
      "Epoch 171/250\n",
      "15/15 [==============================] - 0s 5ms/step - loss: 0.0945 - accuracy: 0.9714 - val_loss: 0.0390 - val_accuracy: 1.0000\n",
      "Epoch 172/250\n",
      "15/15 [==============================] - 0s 4ms/step - loss: 0.0919 - accuracy: 0.9714 - val_loss: 0.0379 - val_accuracy: 1.0000\n",
      "Epoch 173/250\n",
      "15/15 [==============================] - 0s 4ms/step - loss: 0.0834 - accuracy: 0.9810 - val_loss: 0.0396 - val_accuracy: 1.0000\n",
      "Epoch 174/250\n",
      "15/15 [==============================] - 0s 4ms/step - loss: 0.0870 - accuracy: 0.9714 - val_loss: 0.0384 - val_accuracy: 1.0000\n",
      "Epoch 175/250\n",
      "15/15 [==============================] - 0s 5ms/step - loss: 0.0885 - accuracy: 0.9714 - val_loss: 0.0384 - val_accuracy: 1.0000\n",
      "Epoch 176/250\n",
      "15/15 [==============================] - 0s 4ms/step - loss: 0.0851 - accuracy: 0.9714 - val_loss: 0.0367 - val_accuracy: 1.0000\n",
      "Epoch 177/250\n",
      "15/15 [==============================] - 0s 4ms/step - loss: 0.0859 - accuracy: 0.9714 - val_loss: 0.0409 - val_accuracy: 0.9778\n",
      "Epoch 178/250\n",
      "15/15 [==============================] - 0s 4ms/step - loss: 0.0875 - accuracy: 0.9810 - val_loss: 0.0424 - val_accuracy: 0.9778\n",
      "Epoch 179/250\n",
      "15/15 [==============================] - 0s 4ms/step - loss: 0.0827 - accuracy: 0.9714 - val_loss: 0.0362 - val_accuracy: 1.0000\n",
      "Epoch 180/250\n",
      "15/15 [==============================] - 0s 4ms/step - loss: 0.0873 - accuracy: 0.9714 - val_loss: 0.0372 - val_accuracy: 1.0000\n",
      "Epoch 181/250\n",
      "15/15 [==============================] - 0s 4ms/step - loss: 0.0840 - accuracy: 0.9810 - val_loss: 0.0434 - val_accuracy: 0.9778\n",
      "Epoch 182/250\n",
      "15/15 [==============================] - 0s 4ms/step - loss: 0.0852 - accuracy: 0.9905 - val_loss: 0.0367 - val_accuracy: 1.0000\n",
      "Epoch 183/250\n",
      "15/15 [==============================] - 0s 5ms/step - loss: 0.0853 - accuracy: 0.9714 - val_loss: 0.0369 - val_accuracy: 1.0000\n",
      "Epoch 184/250\n",
      "15/15 [==============================] - 0s 4ms/step - loss: 0.0840 - accuracy: 0.9714 - val_loss: 0.0374 - val_accuracy: 1.0000\n",
      "Epoch 185/250\n",
      "15/15 [==============================] - 0s 4ms/step - loss: 0.0844 - accuracy: 0.9714 - val_loss: 0.0425 - val_accuracy: 0.9778\n",
      "Epoch 186/250\n",
      "15/15 [==============================] - 0s 4ms/step - loss: 0.0860 - accuracy: 0.9714 - val_loss: 0.0365 - val_accuracy: 1.0000\n",
      "Epoch 187/250\n",
      "15/15 [==============================] - 0s 4ms/step - loss: 0.0847 - accuracy: 0.9714 - val_loss: 0.0381 - val_accuracy: 0.9778\n",
      "Epoch 188/250\n",
      "15/15 [==============================] - 0s 4ms/step - loss: 0.0822 - accuracy: 0.9905 - val_loss: 0.0382 - val_accuracy: 0.9778\n",
      "Epoch 189/250\n",
      "15/15 [==============================] - 0s 4ms/step - loss: 0.0843 - accuracy: 0.9714 - val_loss: 0.0359 - val_accuracy: 1.0000\n",
      "Epoch 190/250\n",
      "15/15 [==============================] - 0s 4ms/step - loss: 0.0814 - accuracy: 0.9714 - val_loss: 0.0363 - val_accuracy: 1.0000\n",
      "Epoch 191/250\n",
      "15/15 [==============================] - 0s 5ms/step - loss: 0.0818 - accuracy: 0.9714 - val_loss: 0.0388 - val_accuracy: 0.9778\n",
      "Epoch 192/250\n",
      "15/15 [==============================] - 0s 4ms/step - loss: 0.0867 - accuracy: 0.9714 - val_loss: 0.0353 - val_accuracy: 1.0000\n",
      "Epoch 193/250\n",
      "15/15 [==============================] - 0s 4ms/step - loss: 0.0894 - accuracy: 0.9619 - val_loss: 0.0350 - val_accuracy: 1.0000\n",
      "Epoch 194/250\n",
      "15/15 [==============================] - 0s 5ms/step - loss: 0.0901 - accuracy: 0.9714 - val_loss: 0.0445 - val_accuracy: 0.9778\n",
      "Epoch 195/250\n",
      "15/15 [==============================] - 0s 5ms/step - loss: 0.0917 - accuracy: 0.9619 - val_loss: 0.0342 - val_accuracy: 1.0000\n",
      "Epoch 196/250\n",
      "15/15 [==============================] - 0s 4ms/step - loss: 0.0858 - accuracy: 0.9905 - val_loss: 0.0398 - val_accuracy: 0.9778\n",
      "Epoch 197/250\n",
      "15/15 [==============================] - 0s 6ms/step - loss: 0.0854 - accuracy: 0.9714 - val_loss: 0.0363 - val_accuracy: 1.0000\n",
      "Epoch 198/250\n",
      "15/15 [==============================] - 0s 4ms/step - loss: 0.0934 - accuracy: 0.9810 - val_loss: 0.0336 - val_accuracy: 1.0000\n",
      "Epoch 199/250\n",
      "15/15 [==============================] - 0s 4ms/step - loss: 0.0822 - accuracy: 0.9714 - val_loss: 0.0377 - val_accuracy: 0.9778\n",
      "Epoch 200/250\n",
      "15/15 [==============================] - 0s 5ms/step - loss: 0.0802 - accuracy: 0.9905 - val_loss: 0.0342 - val_accuracy: 1.0000\n",
      "Epoch 201/250\n",
      "15/15 [==============================] - 0s 4ms/step - loss: 0.0831 - accuracy: 0.9714 - val_loss: 0.0373 - val_accuracy: 0.9778\n",
      "Epoch 202/250\n",
      "15/15 [==============================] - 0s 4ms/step - loss: 0.0842 - accuracy: 0.9810 - val_loss: 0.0333 - val_accuracy: 1.0000\n",
      "Epoch 203/250\n",
      "15/15 [==============================] - 0s 4ms/step - loss: 0.0838 - accuracy: 0.9905 - val_loss: 0.0394 - val_accuracy: 0.9778\n",
      "Epoch 204/250\n",
      "15/15 [==============================] - 0s 4ms/step - loss: 0.0903 - accuracy: 0.9714 - val_loss: 0.0330 - val_accuracy: 1.0000\n",
      "Epoch 205/250\n",
      "15/15 [==============================] - 0s 5ms/step - loss: 0.0852 - accuracy: 0.9810 - val_loss: 0.0378 - val_accuracy: 0.9778\n",
      "Epoch 206/250\n",
      "15/15 [==============================] - 0s 5ms/step - loss: 0.0789 - accuracy: 0.9810 - val_loss: 0.0338 - val_accuracy: 1.0000\n",
      "Epoch 207/250\n",
      "15/15 [==============================] - 0s 7ms/step - loss: 0.0802 - accuracy: 0.9714 - val_loss: 0.0343 - val_accuracy: 1.0000\n",
      "Epoch 208/250\n",
      "15/15 [==============================] - 0s 5ms/step - loss: 0.0787 - accuracy: 0.9714 - val_loss: 0.0343 - val_accuracy: 1.0000\n",
      "Epoch 209/250\n",
      "15/15 [==============================] - 0s 5ms/step - loss: 0.0783 - accuracy: 0.9714 - val_loss: 0.0360 - val_accuracy: 0.9778\n",
      "Epoch 210/250\n",
      "15/15 [==============================] - 0s 4ms/step - loss: 0.0891 - accuracy: 0.9714 - val_loss: 0.0331 - val_accuracy: 1.0000\n",
      "Epoch 211/250\n",
      "15/15 [==============================] - 0s 4ms/step - loss: 0.1053 - accuracy: 0.9333 - val_loss: 0.0497 - val_accuracy: 0.9778\n",
      "Epoch 212/250\n",
      "15/15 [==============================] - 0s 4ms/step - loss: 0.0977 - accuracy: 0.9524 - val_loss: 0.0331 - val_accuracy: 1.0000\n",
      "Epoch 213/250\n",
      "15/15 [==============================] - 0s 4ms/step - loss: 0.0758 - accuracy: 0.9810 - val_loss: 0.0389 - val_accuracy: 0.9778\n",
      "Epoch 214/250\n",
      "15/15 [==============================] - 0s 5ms/step - loss: 0.0837 - accuracy: 0.9905 - val_loss: 0.0407 - val_accuracy: 0.9778\n",
      "Epoch 215/250\n",
      "15/15 [==============================] - 0s 4ms/step - loss: 0.0816 - accuracy: 0.9810 - val_loss: 0.0318 - val_accuracy: 1.0000\n",
      "Epoch 216/250\n",
      "15/15 [==============================] - 0s 4ms/step - loss: 0.0786 - accuracy: 0.9714 - val_loss: 0.0384 - val_accuracy: 0.9778\n",
      "Epoch 217/250\n",
      "15/15 [==============================] - 0s 5ms/step - loss: 0.0810 - accuracy: 0.9905 - val_loss: 0.0362 - val_accuracy: 0.9778\n",
      "Epoch 218/250\n",
      "15/15 [==============================] - 0s 5ms/step - loss: 0.0770 - accuracy: 0.9714 - val_loss: 0.0328 - val_accuracy: 1.0000\n",
      "Epoch 219/250\n",
      "15/15 [==============================] - 0s 4ms/step - loss: 0.0840 - accuracy: 0.9714 - val_loss: 0.0373 - val_accuracy: 0.9778\n",
      "Epoch 220/250\n",
      "15/15 [==============================] - 0s 4ms/step - loss: 0.0769 - accuracy: 0.9714 - val_loss: 0.0327 - val_accuracy: 1.0000\n",
      "Epoch 221/250\n",
      "15/15 [==============================] - 0s 5ms/step - loss: 0.0780 - accuracy: 0.9714 - val_loss: 0.0348 - val_accuracy: 0.9778\n",
      "Epoch 222/250\n",
      "15/15 [==============================] - 0s 4ms/step - loss: 0.0907 - accuracy: 0.9714 - val_loss: 0.0340 - val_accuracy: 0.9778\n",
      "Epoch 223/250\n",
      "15/15 [==============================] - 0s 4ms/step - loss: 0.0775 - accuracy: 0.9714 - val_loss: 0.0314 - val_accuracy: 1.0000\n",
      "Epoch 224/250\n",
      "15/15 [==============================] - 0s 4ms/step - loss: 0.0788 - accuracy: 0.9714 - val_loss: 0.0354 - val_accuracy: 0.9778\n",
      "Epoch 225/250\n",
      "15/15 [==============================] - 0s 4ms/step - loss: 0.0782 - accuracy: 0.9905 - val_loss: 0.0374 - val_accuracy: 0.9778\n",
      "Epoch 226/250\n",
      "15/15 [==============================] - 0s 4ms/step - loss: 0.0780 - accuracy: 0.9714 - val_loss: 0.0329 - val_accuracy: 1.0000\n",
      "Epoch 227/250\n",
      "15/15 [==============================] - 0s 4ms/step - loss: 0.0846 - accuracy: 0.9810 - val_loss: 0.0332 - val_accuracy: 1.0000\n",
      "Epoch 228/250\n",
      "15/15 [==============================] - 0s 4ms/step - loss: 0.0807 - accuracy: 0.9714 - val_loss: 0.0311 - val_accuracy: 1.0000\n",
      "Epoch 229/250\n",
      "15/15 [==============================] - 0s 5ms/step - loss: 0.0808 - accuracy: 0.9810 - val_loss: 0.0373 - val_accuracy: 0.9778\n",
      "Epoch 230/250\n",
      "15/15 [==============================] - 0s 4ms/step - loss: 0.0760 - accuracy: 0.9905 - val_loss: 0.0327 - val_accuracy: 1.0000\n",
      "Epoch 231/250\n",
      "15/15 [==============================] - 0s 4ms/step - loss: 0.0800 - accuracy: 0.9714 - val_loss: 0.0315 - val_accuracy: 1.0000\n",
      "Epoch 232/250\n",
      "15/15 [==============================] - 0s 4ms/step - loss: 0.0788 - accuracy: 0.9905 - val_loss: 0.0388 - val_accuracy: 0.9778\n",
      "Epoch 233/250\n",
      "15/15 [==============================] - 0s 5ms/step - loss: 0.0808 - accuracy: 0.9810 - val_loss: 0.0304 - val_accuracy: 1.0000\n",
      "Epoch 234/250\n",
      "15/15 [==============================] - 0s 4ms/step - loss: 0.0752 - accuracy: 0.9810 - val_loss: 0.0370 - val_accuracy: 0.9778\n",
      "Epoch 235/250\n",
      "15/15 [==============================] - 0s 4ms/step - loss: 0.0839 - accuracy: 0.9810 - val_loss: 0.0326 - val_accuracy: 1.0000\n",
      "Epoch 236/250\n",
      "15/15 [==============================] - 0s 5ms/step - loss: 0.0803 - accuracy: 0.9714 - val_loss: 0.0352 - val_accuracy: 0.9778\n",
      "Epoch 237/250\n",
      "15/15 [==============================] - 0s 5ms/step - loss: 0.0748 - accuracy: 0.9810 - val_loss: 0.0310 - val_accuracy: 1.0000\n",
      "Epoch 238/250\n",
      "15/15 [==============================] - 0s 4ms/step - loss: 0.0771 - accuracy: 0.9714 - val_loss: 0.0346 - val_accuracy: 0.9778\n",
      "Epoch 239/250\n",
      "15/15 [==============================] - 0s 4ms/step - loss: 0.0893 - accuracy: 0.9714 - val_loss: 0.0322 - val_accuracy: 1.0000\n",
      "Epoch 240/250\n",
      "15/15 [==============================] - 0s 4ms/step - loss: 0.0760 - accuracy: 0.9714 - val_loss: 0.0302 - val_accuracy: 1.0000\n",
      "Epoch 241/250\n",
      "15/15 [==============================] - 0s 4ms/step - loss: 0.0833 - accuracy: 0.9714 - val_loss: 0.0328 - val_accuracy: 0.9778\n",
      "Epoch 242/250\n",
      "15/15 [==============================] - 0s 4ms/step - loss: 0.0788 - accuracy: 0.9810 - val_loss: 0.0365 - val_accuracy: 0.9778\n",
      "Epoch 243/250\n",
      "15/15 [==============================] - 0s 4ms/step - loss: 0.0794 - accuracy: 0.9714 - val_loss: 0.0313 - val_accuracy: 1.0000\n",
      "Epoch 244/250\n",
      "15/15 [==============================] - 0s 5ms/step - loss: 0.0764 - accuracy: 0.9810 - val_loss: 0.0365 - val_accuracy: 0.9778\n",
      "Epoch 245/250\n",
      "15/15 [==============================] - 0s 6ms/step - loss: 0.0749 - accuracy: 0.9810 - val_loss: 0.0337 - val_accuracy: 0.9778\n",
      "Epoch 246/250\n",
      "15/15 [==============================] - 0s 8ms/step - loss: 0.0756 - accuracy: 0.9714 - val_loss: 0.0310 - val_accuracy: 1.0000\n",
      "Epoch 247/250\n",
      "15/15 [==============================] - 0s 7ms/step - loss: 0.0805 - accuracy: 0.9714 - val_loss: 0.0329 - val_accuracy: 0.9778\n",
      "Epoch 248/250\n",
      "15/15 [==============================] - 0s 5ms/step - loss: 0.0774 - accuracy: 0.9810 - val_loss: 0.0299 - val_accuracy: 1.0000\n",
      "Epoch 249/250\n",
      "15/15 [==============================] - 0s 5ms/step - loss: 0.0769 - accuracy: 0.9810 - val_loss: 0.0356 - val_accuracy: 0.9778\n",
      "Epoch 250/250\n",
      "15/15 [==============================] - 0s 5ms/step - loss: 0.0731 - accuracy: 0.9905 - val_loss: 0.0323 - val_accuracy: 0.9778\n"
     ]
    }
   ],
   "source": [
    "History_iris = Model_iris.fit(X_train, y_train,\n",
    "                              epochs = 250,\n",
    "                              batch_size = 7,\n",
    "                              validation_data = (X_test, y_test))"
   ]
  },
  {
   "cell_type": "markdown",
   "metadata": {
    "id": "KWR3hsEE_ZGS"
   },
   "source": [
    "> ## 5) 학습 결과 시각화"
   ]
  },
  {
   "cell_type": "code",
   "execution_count": 21,
   "metadata": {
    "colab": {
     "base_uri": "https://localhost:8080/",
     "height": 374
    },
    "executionInfo": {
     "elapsed": 53,
     "status": "ok",
     "timestamp": 1673400553750,
     "user": {
      "displayName": "이정구",
      "userId": "17400242557229223804"
     },
     "user_tz": -540
    },
    "id": "OMpwabfNq2_v",
    "outputId": "e7d4c7c5-2285-4376-bdaf-6c48c0890bd8",
    "tags": []
   },
   "outputs": [
    {
     "data": {
      "image/png": "[encoded data removed]",
      "text/plain": [
       "<Figure size 648x432 with 1 Axes>"
      ]
     },
     "metadata": {
      "needs_background": "light"
     },
     "output_type": "display_data"
    }
   ],
   "source": [
    "import matplotlib.pyplot as plt\n",
    "\n",
    "plt.figure(figsize = (9, 6))\n",
    "plt.ylim(0, 1.1)\n",
    "plt.plot(History_iris.history['loss'])\n",
    "plt.plot(History_iris.history['val_loss'])\n",
    "plt.plot(History_iris.history['accuracy'])\n",
    "plt.plot(History_iris.history['val_accuracy'])\n",
    "plt.legend(['loss', 'val_loss', 'accuracy', 'val_accuracy'])\n",
    "plt.grid()\n",
    "plt.show()"
   ]
  },
  {
   "cell_type": "markdown",
   "metadata": {
    "id": "FNq1blJf_eIW"
   },
   "source": [
    "> ## 6) Model Evaluate"
   ]
  },
  {
   "cell_type": "markdown",
   "metadata": {
    "id": "Dok6iL5RKeTP"
   },
   "source": [
    "* Loss & Accuracy"
   ]
  },
  {
   "cell_type": "code",
   "execution_count": 22,
   "metadata": {
    "colab": {
     "base_uri": "https://localhost:8080/"
    },
    "executionInfo": {
     "elapsed": 463,
     "status": "ok",
     "timestamp": 1673400554167,
     "user": {
      "displayName": "이정구",
      "userId": "17400242557229223804"
     },
     "user_tz": -540
    },
    "id": "fJ2HtnYYsPIE",
    "outputId": "e309ae47-8712-4c90-d4cd-5a170bb31fc8",
    "tags": []
   },
   "outputs": [
    {
     "name": "stdout",
     "output_type": "stream",
     "text": [
      "2/2 [==============================] - 0s 5ms/step - loss: 0.0323 - accuracy: 0.9778\n",
      "Loss = 0.03235\n",
      "Accuracy = 0.97778\n"
     ]
    }
   ],
   "source": [
    "loss, accuracy = Model_iris.evaluate(X_test, y_test)\n",
    "\n",
    "print('Loss = {:.5f}'.format(loss))\n",
    "print('Accuracy = {:.5f}'.format(accuracy))"
   ]
  },
  {
   "cell_type": "markdown",
   "metadata": {
    "id": "jFjd3_I7_mqn"
   },
   "source": [
    "> ## 7) Model Predict"
   ]
  },
  {
   "cell_type": "markdown",
   "metadata": {
    "id": "CGP07vr3_rAK"
   },
   "source": [
    "* Probability"
   ]
  },
  {
   "cell_type": "code",
   "execution_count": 23,
   "metadata": {
    "colab": {
     "base_uri": "https://localhost:8080/"
    },
    "executionInfo": {
     "elapsed": 23,
     "status": "ok",
     "timestamp": 1673400554168,
     "user": {
      "displayName": "이정구",
      "userId": "17400242557229223804"
     },
     "user_tz": -540
    },
    "id": "St1qcFxQuKqB",
    "outputId": "0c75ca7c-1d1e-44b3-da64-3e5c2db8d6e4",
    "tags": []
   },
   "outputs": [
    {
     "name": "stdout",
     "output_type": "stream",
     "text": [
      "2/2 [==============================] - 0s 2ms/step\n"
     ]
    },
    {
     "data": {
      "text/plain": [
       "array([[0.99819, 0.00175, 0.00005],\n",
       "       [0.92328, 0.07611, 0.00061],\n",
       "       [0.00323, 0.99577, 0.001  ],\n",
       "       [0.00001, 0.00074, 0.99924],\n",
       "       [0.99991, 0.00008, 0.00001],\n",
       "       [0.00052, 0.99858, 0.0009 ],\n",
       "       [0.00008, 0.01443, 0.98549],\n",
       "       [0.99997, 0.00003, 0.     ],\n",
       "       [0.00006, 0.00345, 0.99648],\n",
       "       [0.99893, 0.00103, 0.00004],\n",
       "       [0.00336, 0.76654, 0.2301 ],\n",
       "       [0.00001, 0.00681, 0.99317],\n",
       "       [0.0006 , 0.9833 , 0.01611],\n",
       "       [1.     , 0.     , 0.     ],\n",
       "       [0.99993, 0.00006, 0.00001],\n",
       "       [0.00099, 0.98422, 0.01479],\n",
       "       [0.00085, 0.95444, 0.04471],\n",
       "       [0.99955, 0.00042, 0.00003],\n",
       "       [0.00016, 0.99825, 0.0016 ],\n",
       "       [0.99997, 0.00003, 0.     ],\n",
       "       [0.99954, 0.00044, 0.00003],\n",
       "       [0.99945, 0.00052, 0.00003],\n",
       "       [0.00002, 0.00402, 0.99597],\n",
       "       [0.99982, 0.00017, 0.00001],\n",
       "       [0.00011, 0.06355, 0.93633],\n",
       "       [0.00044, 0.0114 , 0.98816],\n",
       "       [0.99976, 0.00023, 0.00001],\n",
       "       [0.00017, 0.99396, 0.00586],\n",
       "       [0.00018, 0.99197, 0.00785],\n",
       "       [0.00045, 0.05077, 0.94878],\n",
       "       [0.99995, 0.00004, 0.00001],\n",
       "       [0.00019, 0.99625, 0.00356],\n",
       "       [0.99988, 0.00011, 0.00001],\n",
       "       [0.0009 , 0.51756, 0.48153],\n",
       "       [0.00065, 0.98383, 0.01553],\n",
       "       [0.00042, 0.99867, 0.00091],\n",
       "       [0.00001, 0.0011 , 0.99889],\n",
       "       [0.00046, 0.99821, 0.00134],\n",
       "       [0.99855, 0.00141, 0.00004],\n",
       "       [0.00056, 0.99412, 0.00532],\n",
       "       [0.00001, 0.00123, 0.99876],\n",
       "       [0.99938, 0.00059, 0.00003],\n",
       "       [0.00013, 0.00565, 0.99422],\n",
       "       [0.00006, 0.00201, 0.99793],\n",
       "       [0.00015, 0.06891, 0.93095]], dtype=float32)"
      ]
     },
     "execution_count": 23,
     "metadata": {},
     "output_type": "execute_result"
    }
   ],
   "source": [
    "import numpy as np\n",
    "np.set_printoptions(suppress = True, precision = 5)\n",
    "\n",
    "Model_iris.predict(X_test)"
   ]
  },
  {
   "cell_type": "markdown",
   "metadata": {
    "id": "JbO8z-fFbrAT"
   },
   "source": [
    "* Probability to Class"
   ]
  },
  {
   "cell_type": "code",
   "execution_count": 24,
   "metadata": {
    "colab": {
     "base_uri": "https://localhost:8080/"
    },
    "executionInfo": {
     "elapsed": 19,
     "status": "ok",
     "timestamp": 1673400554168,
     "user": {
      "displayName": "이정구",
      "userId": "17400242557229223804"
     },
     "user_tz": -540
    },
    "id": "X9X3NSI1bc9z",
    "outputId": "2cd20504-23e3-4f41-ae29-627df884dfa0",
    "tags": []
   },
   "outputs": [
    {
     "name": "stdout",
     "output_type": "stream",
     "text": [
      "2/2 [==============================] - 0s 2ms/step\n"
     ]
    },
    {
     "data": {
      "text/plain": [
       "array([0, 0, 1, 2, 0, 1, 2, 0, 2, 0, 1, 2, 1, 0, 0, 1, 1, 0, 1, 0, 0, 0,\n",
       "       2, 0, 2, 2, 0, 1, 1, 2, 0, 1, 0, 1, 1, 1, 2, 1, 0, 1, 2, 0, 2, 2,\n",
       "       2], dtype=int64)"
      ]
     },
     "execution_count": 24,
     "metadata": {},
     "output_type": "execute_result"
    }
   ],
   "source": [
    "y_hat = np.argmax(Model_iris.predict(X_test), axis = 1)\n",
    "\n",
    "y_hat"
   ]
  },
  {
   "cell_type": "markdown",
   "metadata": {
    "id": "spr7DJmE_62e"
   },
   "source": [
    "* One-Hot Encoding to Array\n",
    " * np.argmax( ) : 다차원 배열의 차원에 따라 가장 큰 값의 인덱스를 반환\n",
    " * axis = 1 : 열기준"
   ]
  },
  {
   "cell_type": "code",
   "execution_count": 25,
   "metadata": {
    "colab": {
     "base_uri": "https://localhost:8080/"
    },
    "executionInfo": {
     "elapsed": 16,
     "status": "ok",
     "timestamp": 1673400554168,
     "user": {
      "displayName": "이정구",
      "userId": "17400242557229223804"
     },
     "user_tz": -540
    },
    "id": "8xv4SLZm0nzn",
    "outputId": "022dc4d0-a737-48ba-c29b-cda3a3fe3ef7",
    "tags": []
   },
   "outputs": [
    {
     "data": {
      "text/plain": [
       "array([0, 0, 1, 2, 0, 1, 2, 0, 2, 0, 1, 2, 1, 0, 0, 1, 1, 0, 1, 0, 0, 0,\n",
       "       2, 0, 2, 2, 0, 1, 1, 2, 0, 1, 0, 2, 1, 1, 2, 1, 0, 1, 2, 0, 2, 2,\n",
       "       2], dtype=int64)"
      ]
     },
     "execution_count": 25,
     "metadata": {},
     "output_type": "execute_result"
    }
   ],
   "source": [
    "y = np.argmax(y_test, axis = 1)\n",
    "\n",
    "y"
   ]
  },
  {
   "cell_type": "markdown",
   "metadata": {
    "id": "y-hzFPiDAEyo"
   },
   "source": [
    "* Confusion Matrix & Claasification Report"
   ]
  },
  {
   "cell_type": "code",
   "execution_count": 26,
   "metadata": {
    "colab": {
     "base_uri": "https://localhost:8080/"
    },
    "executionInfo": {
     "elapsed": 15,
     "status": "ok",
     "timestamp": 1673400554169,
     "user": {
      "displayName": "이정구",
      "userId": "17400242557229223804"
     },
     "user_tz": -540
    },
    "id": "ECnlNwrRzZve",
    "outputId": "5c9c9523-d879-4197-86ed-5e6235370e09",
    "tags": []
   },
   "outputs": [
    {
     "data": {
      "text/plain": [
       "array([[17,  0,  0],\n",
       "       [ 0, 14,  0],\n",
       "       [ 0,  1, 13]], dtype=int64)"
      ]
     },
     "execution_count": 26,
     "metadata": {},
     "output_type": "execute_result"
    }
   ],
   "source": [
    "from sklearn.metrics import confusion_matrix, classification_report\n",
    "\n",
    "confusion_matrix(y, y_hat)"
   ]
  },
  {
   "cell_type": "code",
   "execution_count": 27,
   "metadata": {
    "colab": {
     "base_uri": "https://localhost:8080/"
    },
    "executionInfo": {
     "elapsed": 13,
     "status": "ok",
     "timestamp": 1673400554169,
     "user": {
      "displayName": "이정구",
      "userId": "17400242557229223804"
     },
     "user_tz": -540
    },
    "id": "6xW7Tw8Luk8O",
    "outputId": "a20ff9eb-2cf6-4f8a-a1cd-ad6ed6720b65",
    "tags": []
   },
   "outputs": [
    {
     "name": "stdout",
     "output_type": "stream",
     "text": [
      "              precision    recall  f1-score   support\n",
      "\n",
      "      setosa       1.00      1.00      1.00        17\n",
      "  versicolor       0.93      1.00      0.97        14\n",
      "   virginica       1.00      0.93      0.96        14\n",
      "\n",
      "    accuracy                           0.98        45\n",
      "   macro avg       0.98      0.98      0.98        45\n",
      "weighted avg       0.98      0.98      0.98        45\n",
      "\n"
     ]
    }
   ],
   "source": [
    "print(classification_report(y, y_hat, \n",
    "                            target_names = ['setosa',\n",
    "                                            'versicolor',\n",
    "                                            'virginica']))"
   ]
  },
  {
   "cell_type": "markdown",
   "metadata": {
    "id": "N6YjXuM2AeEA"
   },
   "source": [
    "# III. Model Save & Load"
   ]
  },
  {
   "cell_type": "markdown",
   "metadata": {
    "id": "QJHanSlYBMaD"
   },
   "source": [
    "> ## 1) File System"
   ]
  },
  {
   "cell_type": "markdown",
   "metadata": {
    "id": "9fukCVfZBreP"
   },
   "source": [
    "* Save to Colab File System"
   ]
  },
  {
   "cell_type": "code",
   "execution_count": 25,
   "metadata": {
    "colab": {
     "base_uri": "https://localhost:8080/"
    },
    "executionInfo": {
     "elapsed": 11,
     "status": "ok",
     "timestamp": 1673400554169,
     "user": {
      "displayName": "이정구",
      "userId": "17400242557229223804"
     },
     "user_tz": -540
    },
    "id": "90EpGKTo1B_2",
    "outputId": "8a131974-2f7b-470e-8c06-198375bbfe46"
   },
   "outputs": [
    {
     "name": "stdout",
     "output_type": "stream",
     "text": [
      "total 36\n",
      "-rw-r--r-- 1 root root 31948 Jan 11 01:28 model.png\n",
      "drwxr-xr-x 1 root root  4096 Jan  9 14:36 sample_data\n"
     ]
    }
   ],
   "source": [
    "# !ls -l"
   ]
  },
  {
   "cell_type": "code",
   "execution_count": 28,
   "metadata": {
    "colab": {
     "base_uri": "https://localhost:8080/"
    },
    "executionInfo": {
     "elapsed": 8,
     "status": "ok",
     "timestamp": 1673400554169,
     "user": {
      "displayName": "이정구",
      "userId": "17400242557229223804"
     },
     "user_tz": -540
    },
    "id": "FXz2D-PxAn0p",
    "outputId": "ac87dea8-708c-4544-9f04-da8b7ee681f3",
    "tags": []
   },
   "outputs": [],
   "source": [
    "Model_iris.save('Model_iris.h5')\n",
    "\n",
    "# !ls -l"
   ]
  },
  {
   "cell_type": "markdown",
   "metadata": {
    "id": "mnABg40YB0Ex"
   },
   "source": [
    "* Download Colab File System to Local File System"
   ]
  },
  {
   "cell_type": "code",
   "execution_count": 27,
   "metadata": {
    "colab": {
     "base_uri": "https://localhost:8080/",
     "height": 17
    },
    "executionInfo": {
     "elapsed": 310,
     "status": "ok",
     "timestamp": 1673400554474,
     "user": {
      "displayName": "이정구",
      "userId": "17400242557229223804"
     },
     "user_tz": -540
    },
    "id": "UROGkgi7B3J6",
    "outputId": "34dd7ece-a249-4b58-93b8-25fbb3268842"
   },
   "outputs": [
    {
     "data": {
      "application/javascript": [
       "\n",
       "    async function download(id, filename, size) {\n",
       "      if (!google.colab.kernel.accessAllowed) {\n",
       "        return;\n",
       "      }\n",
       "      const div = document.createElement('div');\n",
       "      const label = document.createElement('label');\n",
       "      label.textContent = `Downloading \"${filename}\": `;\n",
       "      div.appendChild(label);\n",
       "      const progress = document.createElement('progress');\n",
       "      progress.max = size;\n",
       "      div.appendChild(progress);\n",
       "      document.body.appendChild(div);\n",
       "\n",
       "      const buffers = [];\n",
       "      let downloaded = 0;\n",
       "\n",
       "      const channel = await google.colab.kernel.comms.open(id);\n",
       "      // Send a message to notify the kernel that we're ready.\n",
       "      channel.send({})\n",
       "\n",
       "      for await (const message of channel.messages) {\n",
       "        // Send a message to notify the kernel that we're ready.\n",
       "        channel.send({})\n",
       "        if (message.buffers) {\n",
       "          for (const buffer of message.buffers) {\n",
       "            buffers.push(buffer);\n",
       "            downloaded += buffer.byteLength;\n",
       "            progress.value = downloaded;\n",
       "          }\n",
       "        }\n",
       "      }\n",
       "      const blob = new Blob(buffers, {type: 'application/binary'});\n",
       "      const a = document.createElement('a');\n",
       "      a.href = window.URL.createObjectURL(blob);\n",
       "      a.download = filename;\n",
       "      div.appendChild(a);\n",
       "      a.click();\n",
       "      div.remove();\n",
       "    }\n",
       "  "
      ],
      "text/plain": [
       "<IPython.core.display.Javascript object>"
      ]
     },
     "metadata": {},
     "output_type": "display_data"
    },
    {
     "data": {
      "application/javascript": [
       "download(\"download_b4353952-cf46-4fea-bcd1-328bb1f19205\", \"Model_iris.h5\", 35432)"
      ],
      "text/plain": [
       "<IPython.core.display.Javascript object>"
      ]
     },
     "metadata": {},
     "output_type": "display_data"
    }
   ],
   "source": [
    "# from google.colab import files\n",
    "\n",
    "# files.download('Model_iris.h5')"
   ]
  },
  {
   "cell_type": "markdown",
   "metadata": {
    "id": "50eGEKhzDbVg"
   },
   "source": [
    "* Load from Colab File System"
   ]
  },
  {
   "cell_type": "code",
   "execution_count": 7,
   "metadata": {
    "executionInfo": {
     "elapsed": 23,
     "status": "ok",
     "timestamp": 1673400554475,
     "user": {
      "displayName": "이정구",
      "userId": "17400242557229223804"
     },
     "user_tz": -540
    },
    "id": "SlNcgVb9BZQz",
    "tags": []
   },
   "outputs": [
    {
     "name": "stdout",
     "output_type": "stream",
     "text": [
      "WARNING:tensorflow:From C:\\Users\\maeng\\anaconda3\\Lib\\site-packages\\keras\\src\\backend.py:1398: The name tf.executing_eagerly_outside_functions is deprecated. Please use tf.compat.v1.executing_eagerly_outside_functions instead.\n",
      "\n"
     ]
    }
   ],
   "source": [
    "from tensorflow.keras.models import load_model\n",
    "\n",
    "Model_local = load_model('Model_iris.h5')"
   ]
  },
  {
   "cell_type": "code",
   "execution_count": 27,
   "metadata": {
    "colab": {
     "base_uri": "https://localhost:8080/"
    },
    "executionInfo": {
     "elapsed": 23,
     "status": "ok",
     "timestamp": 1673400554476,
     "user": {
      "displayName": "이정구",
      "userId": "17400242557229223804"
     },
     "user_tz": -540
    },
    "id": "OoOS6Eet1-jY",
    "outputId": "cd89e2d2-d4b7-4c40-d9b9-3528ce64c791",
    "tags": []
   },
   "outputs": [
    {
     "name": "stdout",
     "output_type": "stream",
     "text": [
      "2/2 [==============================] - 0s 4ms/step\n"
     ]
    },
    {
     "data": {
      "text/plain": [
       "array([0, 0, 1, 2, 0, 1, 2, 0, 2, 0, 1, 2, 1, 0, 0, 1, 1, 0, 1, 0, 0, 0,\n",
       "       2, 0, 2, 2, 0, 1, 1, 2, 0, 1, 0, 1, 1, 1, 2, 1, 0, 1, 2, 0, 2, 2,\n",
       "       2], dtype=int64)"
      ]
     },
     "execution_count": 27,
     "metadata": {},
     "output_type": "execute_result"
    }
   ],
   "source": [
    "np.argmax(Model_local.predict(X_test), axis = 1)"
   ]
  },
  {
   "cell_type": "markdown",
   "metadata": {
    "id": "q24HQDn3Bbmv"
   },
   "source": [
    "> ## 2) Google Drive"
   ]
  },
  {
   "cell_type": "markdown",
   "metadata": {
    "id": "-DoXDaDQD_nR"
   },
   "source": [
    "* Mount Google Drive"
   ]
  },
  {
   "cell_type": "code",
   "execution_count": 30,
   "metadata": {
    "colab": {
     "base_uri": "https://localhost:8080/"
    },
    "executionInfo": {
     "elapsed": 126098,
     "status": "ok",
     "timestamp": 1673400680559,
     "user": {
      "displayName": "이정구",
      "userId": "17400242557229223804"
     },
     "user_tz": -540
    },
    "id": "XUcAHm-oEThi",
    "outputId": "bdc6b776-7162-4c1a-9e93-e28f1c7ebaaf"
   },
   "outputs": [
    {
     "name": "stdout",
     "output_type": "stream",
     "text": [
      "Mounted at /content/drive\n"
     ]
    }
   ],
   "source": [
    "from google.colab import drive\n",
    "\n",
    "drive.mount('/content/drive')"
   ]
  },
  {
   "cell_type": "markdown",
   "metadata": {
    "id": "R3yaKi3GEftH"
   },
   "source": [
    "* Check Mounted_Drive"
   ]
  },
  {
   "cell_type": "code",
   "execution_count": 31,
   "metadata": {
    "colab": {
     "base_uri": "https://localhost:8080/"
    },
    "executionInfo": {
     "elapsed": 442,
     "status": "ok",
     "timestamp": 1673400680988,
     "user": {
      "displayName": "이정구",
      "userId": "17400242557229223804"
     },
     "user_tz": -540
    },
    "id": "Y96H0gSfEl0-",
    "outputId": "351177a7-3a2a-4bde-b1d3-50bcb7aa9dd5"
   },
   "outputs": [
    {
     "name": "stdout",
     "output_type": "stream",
     "text": [
      "total 40562\n",
      "-rw------- 1 root root    35432 Nov  5 02:33 001_Model_iris.h5\n",
      "-rw------- 1 root root 41499528 Nov 12 05:29 002_dogs_and_cats_small.h5\n"
     ]
    }
   ],
   "source": [
    "!ls -l '/content/drive/My Drive/Colab Notebooks/models'"
   ]
  },
  {
   "cell_type": "markdown",
   "metadata": {
    "id": "izCHadxzFuj-"
   },
   "source": [
    "* Save to Mounted Google Drive Directory"
   ]
  },
  {
   "cell_type": "code",
   "execution_count": 32,
   "metadata": {
    "executionInfo": {
     "elapsed": 7,
     "status": "ok",
     "timestamp": 1673400681336,
     "user": {
      "displayName": "이정구",
      "userId": "17400242557229223804"
     },
     "user_tz": -540
    },
    "id": "VYxWBnRXF1sm"
   },
   "outputs": [],
   "source": [
    "Model_iris.save('/content/drive/My Drive/Colab Notebooks/models/001_Model_iris.h5')"
   ]
  },
  {
   "cell_type": "code",
   "execution_count": 33,
   "metadata": {
    "colab": {
     "base_uri": "https://localhost:8080/"
    },
    "executionInfo": {
     "elapsed": 8,
     "status": "ok",
     "timestamp": 1673400681337,
     "user": {
      "displayName": "이정구",
      "userId": "17400242557229223804"
     },
     "user_tz": -540
    },
    "id": "62Ks4RIcGM5e",
    "outputId": "09f2d2cd-7258-41b6-b00e-a7942099cf34"
   },
   "outputs": [
    {
     "name": "stdout",
     "output_type": "stream",
     "text": [
      "total 40562\n",
      "-rw------- 1 root root    35432 Jan 11 01:31 001_Model_iris.h5\n",
      "-rw------- 1 root root 41499528 Nov 12 05:29 002_dogs_and_cats_small.h5\n"
     ]
    }
   ],
   "source": [
    "!ls -l '/content/drive/My Drive/Colab Notebooks/models'"
   ]
  },
  {
   "cell_type": "markdown",
   "metadata": {
    "id": "9qHYg5fPGnaB"
   },
   "source": [
    "* Load from Mounted Google Drive Directory"
   ]
  },
  {
   "cell_type": "code",
   "execution_count": 34,
   "metadata": {
    "executionInfo": {
     "elapsed": 4,
     "status": "ok",
     "timestamp": 1673400681337,
     "user": {
      "displayName": "이정구",
      "userId": "17400242557229223804"
     },
     "user_tz": -540
    },
    "id": "-c2nlwDbGcVZ"
   },
   "outputs": [],
   "source": [
    "from tensorflow.keras.models import load_model\n",
    "\n",
    "Model_google = load_model('/content/drive/My Drive/Colab Notebooks/models/001_Model_iris.h5')"
   ]
  },
  {
   "cell_type": "code",
   "execution_count": 35,
   "metadata": {
    "colab": {
     "base_uri": "https://localhost:8080/"
    },
    "executionInfo": {
     "elapsed": 327,
     "status": "ok",
     "timestamp": 1673400681661,
     "user": {
      "displayName": "이정구",
      "userId": "17400242557229223804"
     },
     "user_tz": -540
    },
    "id": "nsYObO3z4m3_",
    "outputId": "6c27d53a-7667-461b-e4a8-d278c190b30e"
   },
   "outputs": [
    {
     "name": "stdout",
     "output_type": "stream",
     "text": [
      "2/2 [==============================] - 0s 4ms/step\n"
     ]
    },
    {
     "data": {
      "text/plain": [
       "array([0, 0, 1, 2, 0, 1, 2, 0, 2, 0, 1, 2, 1, 0, 0, 1, 1, 0, 1, 0, 0, 0,\n",
       "       2, 0, 2, 2, 0, 1, 1, 2, 0, 1, 0, 1, 1, 1, 2, 1, 0, 1, 2, 0, 2, 2,\n",
       "       2])"
      ]
     },
     "execution_count": 35,
     "metadata": {},
     "output_type": "execute_result"
    }
   ],
   "source": [
    "np.argmax(Model_google.predict(X_test), axis = 1)"
   ]
  },
  {
   "cell_type": "markdown",
   "metadata": {
    "id": "prgTZL2h1A2Z"
   },
   "source": [
    "# The End"
   ]
  }
 ],
 "metadata": {
  "colab": {
   "provenance": []
  },
  "kernelspec": {
   "display_name": "Python 3 (ipykernel)",
   "language": "python",
   "name": "python3"
  },
  "language_info": {
   "codemirror_mode": {
    "name": "ipython",
    "version": 3
   },
   "file_extension": ".py",
   "mimetype": "text/x-python",
   "name": "python",
   "nbconvert_exporter": "python",
   "pygments_lexer": "ipython3",
   "version": "3.11.5"
  },
  "toc": {
   "base_numbering": 1,
   "nav_menu": {},
   "number_sections": true,
   "sideBar": true,
   "skip_h1_title": false,
   "title_cell": "Table of Contents",
   "title_sidebar": "Contents",
   "toc_cell": false,
   "toc_position": {},
   "toc_section_display": true,
   "toc_window_display": false
  }
 },
 "nbformat": 4,
 "nbformat_minor": 4
}
